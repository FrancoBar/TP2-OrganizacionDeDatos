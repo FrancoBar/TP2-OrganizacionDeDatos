{
 "cells": [
  {
   "cell_type": "code",
   "execution_count": 1,
   "metadata": {},
   "outputs": [],
   "source": [
    "import pandas as pd\n",
    "import numpy as np\n",
    "import sklearn as skl\n",
    "from sklearn.model_selection import train_test_split\n",
    "from sklearn.metrics import confusion_matrix\n",
    "from sklearn.metrics import accuracy_score\n",
    "from sklearn.metrics import classification_report\n",
    "import math\n",
    "\n",
    "PREDICCION_REAL = False"
   ]
  },
  {
   "cell_type": "code",
   "execution_count": 2,
   "metadata": {},
   "outputs": [],
   "source": [
    "#APERTURA DE ARCHIVO DE ARCHIVOS\n",
    "entrenamiento_temp = pd.read_csv(\"Train_TP2_Datos_2020-2C.csv\")\n",
    "test = pd.read_csv(\"Test_TP2_Datos_2020-2C.csv\")"
   ]
  },
  {
   "cell_type": "code",
   "execution_count": 3,
   "metadata": {},
   "outputs": [],
   "source": [
    "#FILTRADO DE OPORTUNIDADES QUE NO SON CLOSE WON NI CLOSE LOST\n",
    "\n",
    "entrenamiento_temp = entrenamiento_temp[( entrenamiento_temp['Stage'] == 'Closed Won') | ( entrenamiento_temp['Stage'] == 'Closed Lost')]"
   ]
  },
  {
   "cell_type": "code",
   "execution_count": 4,
   "metadata": {},
   "outputs": [],
   "source": [
    "#FORMATO FECHAS\n",
    "\n",
    "#Respalda fecha, usada para separa entrenamiento y test\n",
    "\n",
    "columnas_fecha = ['Month','Last_Modified_Date','Account_Created_Date','Opportunity_Created_Date','Quote_Expiry_Date','Planned_Delivery_Start_Date','Planned_Delivery_End_Date']\n",
    "\n",
    "def formato_fechas(x):\n",
    "    for columna in columnas_fecha:\n",
    "        x[columna] = pd.to_datetime(x[columna])\n",
    "        \n",
    "formato_fechas(entrenamiento_temp)\n",
    "if(PREDICCION_REAL): formato_fechas(test)"
   ]
  },
  {
   "cell_type": "code",
   "execution_count": 5,
   "metadata": {},
   "outputs": [],
   "source": [
    "#DIVISION ENTRE SET DE ENTRENAMIENTO Y SET DE TEST\n",
    "\n",
    "if(PREDICCION_REAL):\n",
    "    entrenamiento = entrenamiento_temp\n",
    "else:\n",
    "    entrenamiento_temp['Fecha'] = pd.to_datetime(entrenamiento_temp['Opportunity_Created_Date'])\n",
    "    \n",
    "    entrenamiento = entrenamiento_temp.loc[entrenamiento_temp['Fecha'].dt.year <= 2017].copy()\n",
    "    test          = entrenamiento_temp.loc[entrenamiento_temp['Fecha'].dt.year > 2017].copy()\n",
    "    \n",
    "    entrenamiento = entrenamiento.drop('Fecha',1)\n",
    "    test = test.drop('Fecha',1)\n",
    "\n",
    "del entrenamiento_temp\n"
   ]
  },
  {
   "cell_type": "code",
   "execution_count": 6,
   "metadata": {},
   "outputs": [],
   "source": [
    "def recuperacion_y_conversion(df):\n",
    "    #Arreglo el nombre de la columna 'Source'\n",
    "    df = df.rename(columns={'Source ' : 'Source'})\n",
    "\n",
    "    # Convierto Total_Amount y Total_Taxable_Amount a dolares, filtro columnas innecesarias (codigo extraido de TP1)\n",
    "\n",
    "    df['Convertion_Factor'] = df['ASP_(converted)'] / df['ASP']\n",
    "\n",
    "    #Intentamos salvar algunas entradas reemplazando con la media de la oportunidad\n",
    "\n",
    "    df['Convertion_Factor_AVG'] = df.groupby('Opportunity_ID')['Convertion_Factor'].transform('mean')\n",
    "    df['Convertion_Factor_is_null'] = df['Convertion_Factor'].isnull()\n",
    "    df['Convertion_Factor'] = np.where(df['Convertion_Factor_is_null'] == 1, df['Convertion_Factor_AVG'], df['Convertion_Factor'])\n",
    "    df['Convertion_Factor_AVG'] = df.groupby('ASP_Currency')['Convertion_Factor'].transform('mean')\n",
    "    df['Convertion_Factor_is_null'] = df['Convertion_Factor'].isnull()\n",
    "    df['Convertion_Factor'] = np.where(df['Convertion_Factor_is_null'] == 1, df['Convertion_Factor_AVG'], df['Convertion_Factor'])\n",
    "\n",
    "    #Eliminamos las entradas que no pudimos salvar.\n",
    "    df = df.loc[df.Convertion_Factor.isnull() == 0]\n",
    "\n",
    "    #Eliminamos infinitos\n",
    "    df = df.loc[df.Convertion_Factor != np.inf]\n",
    "\n",
    "    # Eliminamos todos los 'Opportunity_ID' que tienen algun registro con Total_Amount == None \n",
    "    df['Total_Amount_is_null'] = df.Total_Amount.isnull().astype(int)\n",
    "    df['Total_Amount_is_null'] = df.groupby('Opportunity_ID')['Total_Amount_is_null'].transform('sum')\n",
    "    df = df.loc[df.Total_Amount_is_null == 0]\n",
    "\n",
    "    #Convertimos los valores a dolares\n",
    "    df['Total_Amount(USD)'] = df['Total_Amount'] * df['Convertion_Factor']\n",
    "    df['Total_Taxable_Amount(USD)'] = df['Total_Taxable_Amount'] * df['Convertion_Factor']\n",
    "\n",
    "    #Rescatamos ASP\n",
    "    df['ASP_(converted)_avg'] = df.groupby('Region')['ASP_(converted)'].transform('mean')\n",
    "    df['ASP_(converted)_is_null'] = df['ASP_(converted)'].isnull()\n",
    "    df['ASP_(converted)'] = np.where(df['ASP_(converted)_is_null'] == 1, df['ASP_(converted)_avg'], df['ASP_(converted)'])\n",
    "\n",
    "    #Eliminamos columnas utilizadas\n",
    "\n",
    "    df = df.drop(columns={'Total_Amount_is_null', \n",
    "                          'Convertion_Factor_AVG',\n",
    "                          'Convertion_Factor',\n",
    "                          'Convertion_Factor_is_null',\n",
    "                          'ASP_(converted)_avg',\n",
    "                          'ASP_(converted)_is_null'})\n",
    "    \n",
    "    # Intentamos recuperar los datos faltantes\n",
    "\n",
    "    #ACA LE PUEDO HABER PIFIADO\n",
    "        \n",
    "    # Billing Country y #Account_Type\n",
    "    idx = df[df.Billing_Country == 'None'].index\n",
    "\n",
    "    # Se completan los campos faltantes en base a la moda de la region.\n",
    "    # Se intentaron completar a partir del nombre de cuenta, nombre de oportunidad e id de oportunidad, pero solo aparecia esta entrada.\n",
    "    df.loc[idx, 'Billing_Country'] = df[df.Region == 'APAC']['Billing_Country'].mode()[0]\n",
    "    df.loc[idx, 'Account_Type'] = df[df.Region == 'APAC']['Account_Type'].mode()[0]\n",
    "\n",
    "    # Planned_Delivery_End_Date\n",
    "\n",
    "    # Ya que son oportunidades de un unico producto, podemos predecir una fecha de fin de entrega a partir de la media de la region y familia de producto\n",
    "\n",
    "    df['Planned_Delivery_Duration'] = (df['Planned_Delivery_End_Date'] - df['Planned_Delivery_Start_Date']) / np.timedelta64(1, 'D')\n",
    "    df['Planned_Delivery_Duration_AVG'] = np.round(df.groupby(['Region', 'Product_Family'])['Planned_Delivery_Duration'].transform('mean'))\n",
    "    df['Planned_Delivery_Duration_AVG'] = pd.to_timedelta(df['Planned_Delivery_Duration_AVG'], 'D')\n",
    "    df['Predicted_Planned_Delivery_End_Date'] = df['Planned_Delivery_Start_Date'] + df['Planned_Delivery_Duration_AVG']\n",
    "\n",
    "    df['Planned_Delivery_End_Date_is_null'] = df['Planned_Delivery_End_Date'].isnull()\n",
    "    df['Planned_Delivery_End_Date'] = np.where(df['Planned_Delivery_End_Date_is_null'] == 1, df['Predicted_Planned_Delivery_End_Date'], df['Planned_Delivery_End_Date'])\n",
    "\n",
    "    # Completamos las que quedaron con la media de la region, sin tener en cuenta el tipo de producto\n",
    "\n",
    "    df['Planned_Delivery_Duration_AVG'] = round(df.groupby('Region')['Planned_Delivery_Duration'].transform('mean'))\n",
    "    df['Planned_Delivery_Duration_AVG'] = pd.to_timedelta(df['Planned_Delivery_Duration_AVG'], 'D')\n",
    "    df['Predicted_Planned_Delivery_End_Date'] = df['Planned_Delivery_Start_Date'] + df['Planned_Delivery_Duration_AVG']\n",
    "\n",
    "    df['Planned_Delivery_End_Date_is_null'] = df['Planned_Delivery_End_Date'].isnull()\n",
    "    df['Planned_Delivery_End_Date'] = np.where(df['Planned_Delivery_End_Date_is_null'] == 1, df['Predicted_Planned_Delivery_End_Date'], df['Planned_Delivery_End_Date'])\n",
    "\n",
    "    df = df.drop(columns = ['Planned_Delivery_Duration',\n",
    "                                      'Planned_Delivery_Duration_AVG',\n",
    "                                      'Predicted_Planned_Delivery_End_Date', \n",
    "                                      'Planned_Delivery_End_Date_is_null'])\n",
    "    \n",
    "    return df"
   ]
  },
  {
   "cell_type": "code",
   "execution_count": 7,
   "metadata": {},
   "outputs": [],
   "source": [
    "entrenamiento = recuperacion_y_conversion(entrenamiento)\n",
    "test = recuperacion_y_conversion(test)"
   ]
  },
  {
   "cell_type": "code",
   "execution_count": 8,
   "metadata": {},
   "outputs": [],
   "source": [
    "#LIMPIEZA COLUMNAS IRRECUPERABLES\n",
    "\n",
    "entrenamiento = entrenamiento.drop(columns=['ASP_(converted)_Currency','Quote_Type','Brand','Product_Type','Size','Product_Category_B','Price','Currency','Last_Activity','Actual_Delivery_Date','Prod_Category_A'])\n",
    "test = test.drop(columns=['ASP_(converted)_Currency','Quote_Type','Brand','Product_Type','Size','Product_Category_B','Price','Currency','Last_Activity','Actual_Delivery_Date','Prod_Category_A'])"
   ]
  },
  {
   "cell_type": "code",
   "execution_count": 9,
   "metadata": {},
   "outputs": [],
   "source": [
    "# COLUMNAS OBJECT A CATEGORY\n",
    "columnas_object = list(entrenamiento.select_dtypes(include=['object']).columns)\n",
    "for columna in columnas_object:\n",
    "    entrenamiento[columna] = entrenamiento[columna].astype('category')\n",
    "    test[columna] = test[columna].astype('category')"
   ]
  },
  {
   "cell_type": "code",
   "execution_count": 10,
   "metadata": {},
   "outputs": [],
   "source": [
    "# GUARDADO ARCHIVOS TEMPORALES\n",
    "entrenamiento.to_pickle(\"entrenamiento-limpio.pkl\")\n",
    "test.to_pickle(\"test-limpio.pkl\")"
   ]
  },
  {
   "cell_type": "code",
   "execution_count": 11,
   "metadata": {},
   "outputs": [
    {
     "name": "stdout",
     "output_type": "stream",
     "text": [
      "<class 'pandas.core.frame.DataFrame'>\n",
      "Int64Index: 12081 entries, 0 to 16946\n",
      "Data columns (total 43 columns):\n",
      " #   Column                              Non-Null Count  Dtype         \n",
      "---  ------                              --------------  -----         \n",
      " 0   ID                                  12081 non-null  int64         \n",
      " 1   Region                              12081 non-null  category      \n",
      " 2   Territory                           12081 non-null  category      \n",
      " 3   Pricing, Delivery_Terms_Quote_Appr  12081 non-null  int64         \n",
      " 4   Pricing, Delivery_Terms_Approved    12081 non-null  int64         \n",
      " 5   Bureaucratic_Code_0_Approval        12081 non-null  int64         \n",
      " 6   Bureaucratic_Code_0_Approved        12081 non-null  int64         \n",
      " 7   Submitted_for_Approval              12081 non-null  int64         \n",
      " 8   Bureaucratic_Code                   12081 non-null  category      \n",
      " 9   Account_Created_Date                12081 non-null  datetime64[ns]\n",
      " 10  Source                              12081 non-null  category      \n",
      " 11  Billing_Country                     12081 non-null  category      \n",
      " 12  Account_Name                        12081 non-null  category      \n",
      " 13  Opportunity_Name                    12081 non-null  category      \n",
      " 14  Opportunity_ID                      12081 non-null  int64         \n",
      " 15  Sales_Contract_No                   12081 non-null  category      \n",
      " 16  Account_Owner                       12081 non-null  category      \n",
      " 17  Opportunity_Owner                   12081 non-null  category      \n",
      " 18  Account_Type                        12081 non-null  category      \n",
      " 19  Opportunity_Type                    12081 non-null  category      \n",
      " 20  Delivery_Terms                      12081 non-null  category      \n",
      " 21  Opportunity_Created_Date            12081 non-null  datetime64[ns]\n",
      " 22  Quote_Expiry_Date                   9066 non-null   datetime64[ns]\n",
      " 23  Last_Modified_Date                  12081 non-null  datetime64[ns]\n",
      " 24  Last_Modified_By                    12081 non-null  category      \n",
      " 25  Product_Family                      12081 non-null  category      \n",
      " 26  Product_Name                        12081 non-null  category      \n",
      " 27  ASP_Currency                        12081 non-null  category      \n",
      " 28  ASP                                 9516 non-null   float64       \n",
      " 29  ASP_(converted)                     12081 non-null  float64       \n",
      " 30  Planned_Delivery_Start_Date         12081 non-null  datetime64[ns]\n",
      " 31  Planned_Delivery_End_Date           12081 non-null  datetime64[ns]\n",
      " 32  Month                               12081 non-null  datetime64[ns]\n",
      " 33  Delivery_Quarter                    12081 non-null  category      \n",
      " 34  Delivery_Year                       12081 non-null  int64         \n",
      " 35  TRF                                 12081 non-null  int64         \n",
      " 36  Total_Amount_Currency               12081 non-null  category      \n",
      " 37  Total_Amount                        12081 non-null  float64       \n",
      " 38  Total_Taxable_Amount_Currency       12081 non-null  category      \n",
      " 39  Total_Taxable_Amount                12081 non-null  float64       \n",
      " 40  Stage                               12081 non-null  category      \n",
      " 41  Total_Amount(USD)                   12081 non-null  float64       \n",
      " 42  Total_Taxable_Amount(USD)           12081 non-null  float64       \n",
      "dtypes: category(21), datetime64[ns](7), float64(6), int64(9)\n",
      "memory usage: 3.4 MB\n"
     ]
    }
   ],
   "source": [
    "entrenamiento.info()"
   ]
  },
  {
   "cell_type": "code",
   "execution_count": null,
   "metadata": {},
   "outputs": [],
   "source": []
  }
 ],
 "metadata": {
  "kernelspec": {
   "display_name": "Python 3",
   "language": "python",
   "name": "python3"
  },
  "language_info": {
   "codemirror_mode": {
    "name": "ipython",
    "version": 3
   },
   "file_extension": ".py",
   "mimetype": "text/x-python",
   "name": "python",
   "nbconvert_exporter": "python",
   "pygments_lexer": "ipython3",
   "version": "3.7.6"
  }
 },
 "nbformat": 4,
 "nbformat_minor": 4
}
