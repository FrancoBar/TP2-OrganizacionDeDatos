{
 "cells": [
  {
   "cell_type": "code",
   "execution_count": 9,
   "metadata": {},
   "outputs": [],
   "source": [
    "import pandas as pd\n",
    "import numpy as np\n",
    "import Utilidades as ut"
   ]
  },
  {
   "cell_type": "code",
   "execution_count": 4,
   "metadata": {},
   "outputs": [],
   "source": [
    "#APERTURA DE ARCHIVO DE ARCHIVOS\n",
    "entrenamiento = pd.read_csv(\"Archivos/Train_TP2_Datos_2020-2C.csv\")\n",
    "test = pd.read_csv(\"Archivos/Test_TP2_Datos_2020-2C.csv\")"
   ]
  },
  {
   "cell_type": "code",
   "execution_count": 10,
   "metadata": {},
   "outputs": [
    {
     "name": "stdout",
     "output_type": "stream",
     "text": [
      "Suma: 4999, Columna: Territory\n",
      "Suma: 9497, Columna: Source \n",
      "Suma: 27, Columna: Billing_Country\n",
      "Suma: 6973, Columna: Sales_Contract_No\n",
      "Suma: 112, Columna: Account_Type\n",
      "Suma: 15911, Columna: Brand\n",
      "Suma: 15935, Columna: Product_Type\n",
      "Suma: 15967, Columna: Size\n",
      "Suma: 15928, Columna: Product_Category_B\n",
      "Suma: 15982, Columna: Price\n",
      "Suma: 16052, Columna: Currency\n",
      "Suma: 16947, Columna: Last_Activity\n",
      "Suma: 4625, Columna: Quote_Expiry_Date\n",
      "Suma: 3209, Columna: ASP\n",
      "Suma: 3209, Columna: ASP_(converted)\n",
      "Suma: 75, Columna: Planned_Delivery_End_Date\n",
      "Suma: 16947, Columna: Actual_Delivery_Date\n",
      "Suma: 59, Columna: Total_Amount\n",
      "Suma: 16947, Columna: Prod_Category_A\n"
     ]
    }
   ],
   "source": [
    "ut.diagnostico_df(entrenamiento)"
   ]
  },
  {
   "cell_type": "markdown",
   "metadata": {},
   "source": [
    "1. Completar los Territory incompletos que tienen como region a Japan, con Japan"
   ]
  },
  {
   "cell_type": "code",
   "execution_count": 3,
   "metadata": {},
   "outputs": [],
   "source": [
    "#FILTRADO DE OPORTUNIDADES QUE NO SON CLOSE WON NI CLOSE LOST\n",
    "\n",
    "entrenamiento = entrenamiento[( entrenamiento['Stage'] == 'Closed Won') | ( entrenamiento['Stage'] == 'Closed Lost')]"
   ]
  },
  {
   "cell_type": "code",
   "execution_count": 4,
   "metadata": {},
   "outputs": [],
   "source": [
    "#FORMATO FECHAS\n",
    "\n",
    "#Respalda fecha, usada para separa entrenamiento y test\n",
    "\n",
    "columnas_fecha = ['Month','Last_Modified_Date','Account_Created_Date','Opportunity_Created_Date','Quote_Expiry_Date','Planned_Delivery_Start_Date','Planned_Delivery_End_Date']\n",
    "\n",
    "def formato_fechas(x):\n",
    "    for columna in columnas_fecha:\n",
    "        x[columna] = pd.to_datetime(x[columna])\n",
    "        \n",
    "formato_fechas(entrenamiento)\n",
    "formato_fechas(test)"
   ]
  },
  {
   "cell_type": "code",
   "execution_count": 5,
   "metadata": {},
   "outputs": [],
   "source": [
    "#ORDENO POR FECHA AMBOS DATAFRAMES\n",
    "\n",
    "entrenamiento = entrenamiento.sort_values(by=['Opportunity_Created_Date'])\n",
    "test = test.sort_values(by=['Opportunity_Created_Date'])"
   ]
  },
  {
   "cell_type": "code",
   "execution_count": 6,
   "metadata": {},
   "outputs": [],
   "source": [
    "#RECUPERACION Y CONVERSION DE COLUMNAS\n",
    "\n",
    "def recuperacion_y_conversion(df):\n",
    "    #Arreglo el nombre de la columna 'Source'\n",
    "    df = df.rename(columns={'Source ' : 'Source'})\n",
    "\n",
    "    # Convierto Total_Amount y Total_Taxable_Amount a dolares, filtro columnas innecesarias (codigo extraido de TP1)\n",
    "\n",
    "    df['Convertion_Factor'] = df['ASP_(converted)'] / df['ASP']\n",
    "\n",
    "    #Intentamos salvar algunas entradas reemplazando con la media de la oportunidad\n",
    "\n",
    "    df['Convertion_Factor_AVG'] = df.groupby('Opportunity_ID')['Convertion_Factor'].transform('mean')\n",
    "    df['Convertion_Factor_is_null'] = df['Convertion_Factor'].isnull()\n",
    "    df['Convertion_Factor'] = np.where(df['Convertion_Factor_is_null'] == 1, df['Convertion_Factor_AVG'], df['Convertion_Factor'])\n",
    "    df['Convertion_Factor_AVG'] = df.groupby('ASP_Currency')['Convertion_Factor'].transform('mean')\n",
    "    df['Convertion_Factor_is_null'] = df['Convertion_Factor'].isnull()\n",
    "    df['Convertion_Factor'] = np.where(df['Convertion_Factor_is_null'] == 1, df['Convertion_Factor_AVG'], df['Convertion_Factor'])\n",
    "\n",
    "    #Eliminamos las entradas que no pudimos salvar.\n",
    "    df = df.loc[df.Convertion_Factor.isnull() == 0]\n",
    "\n",
    "    #Eliminamos infinitos\n",
    "    df = df.loc[df.Convertion_Factor != np.inf]\n",
    "\n",
    "    # Eliminamos todos los 'Opportunity_ID' que tienen algun registro con Total_Amount == None \n",
    "    df['Total_Amount_is_null'] = df.Total_Amount.isnull().astype(int)\n",
    "    df['Total_Amount_is_null'] = df.groupby('Opportunity_ID')['Total_Amount_is_null'].transform('sum')\n",
    "    df = df.loc[df.Total_Amount_is_null == 0]\n",
    "\n",
    "    #Convertimos los valores a dolares\n",
    "    df['Total_Amount(USD)'] = df['Total_Amount'] * df['Convertion_Factor']\n",
    "    df['Total_Taxable_Amount(USD)'] = df['Total_Taxable_Amount'] * df['Convertion_Factor']\n",
    "\n",
    "    #Rescatamos ASP\n",
    "    df['ASP_(converted)_avg'] = df.groupby('Region')['ASP_(converted)'].transform('mean')\n",
    "    df['ASP_(converted)_is_null'] = df['ASP_(converted)'].isnull()\n",
    "    df['ASP_(converted)'] = np.where(df['ASP_(converted)_is_null'] == 1, df['ASP_(converted)_avg'], df['ASP_(converted)'])\n",
    "\n",
    "    #Eliminamos columnas utilizadas\n",
    "\n",
    "    df = df.drop(columns={'Total_Amount_is_null', \n",
    "                          'Convertion_Factor_AVG',\n",
    "                          'Convertion_Factor',\n",
    "                          'Convertion_Factor_is_null',\n",
    "                          'ASP_(converted)_avg',\n",
    "                          'ASP_(converted)_is_null'})\n",
    "    \n",
    "    # Intentamos recuperar los datos faltantes\n",
    "\n",
    "    #ACA LE PUEDO HABER PIFIADO\n",
    "        \n",
    "    # Billing Country y #Account_Type\n",
    "    idx = df[df.Billing_Country == 'None'].index\n",
    "\n",
    "    # Se completan los campos faltantes en base a la moda de la region.\n",
    "    # Se intentaron completar a partir del nombre de cuenta, nombre de oportunidad e id de oportunidad, pero solo aparecia esta entrada.\n",
    "    df.loc[idx, 'Billing_Country'] = df[df.Region == 'APAC']['Billing_Country'].mode()[0]\n",
    "    df.loc[idx, 'Account_Type'] = df[df.Region == 'APAC']['Account_Type'].mode()[0]\n",
    "\n",
    "    # Planned_Delivery_End_Date\n",
    "\n",
    "    # Ya que son oportunidades de un unico producto, podemos predecir una fecha de fin de entrega a partir de la media de la region y familia de producto\n",
    "\n",
    "    df['Planned_Delivery_Duration'] = (df['Planned_Delivery_End_Date'] - df['Planned_Delivery_Start_Date']) / np.timedelta64(1, 'D')\n",
    "    df['Planned_Delivery_Duration_AVG'] = np.round(df.groupby(['Region', 'Product_Family'])['Planned_Delivery_Duration'].transform('mean'))\n",
    "    df['Planned_Delivery_Duration_AVG'] = pd.to_timedelta(df['Planned_Delivery_Duration_AVG'], 'D')\n",
    "    df['Predicted_Planned_Delivery_End_Date'] = df['Planned_Delivery_Start_Date'] + df['Planned_Delivery_Duration_AVG']\n",
    "\n",
    "    df['Planned_Delivery_End_Date_is_null'] = df['Planned_Delivery_End_Date'].isnull()\n",
    "    df['Planned_Delivery_End_Date'] = np.where(df['Planned_Delivery_End_Date_is_null'] == 1, df['Predicted_Planned_Delivery_End_Date'], df['Planned_Delivery_End_Date'])\n",
    "\n",
    "    # Completamos las que quedaron con la media de la region, sin tener en cuenta el tipo de producto\n",
    "\n",
    "    df['Planned_Delivery_Duration_AVG'] = round(df.groupby('Region')['Planned_Delivery_Duration'].transform('mean'))\n",
    "    df['Planned_Delivery_Duration_AVG'] = pd.to_timedelta(df['Planned_Delivery_Duration_AVG'], 'D')\n",
    "    df['Predicted_Planned_Delivery_End_Date'] = df['Planned_Delivery_Start_Date'] + df['Planned_Delivery_Duration_AVG']\n",
    "\n",
    "    df['Planned_Delivery_End_Date_is_null'] = df['Planned_Delivery_End_Date'].isnull()\n",
    "    df['Planned_Delivery_End_Date'] = np.where(df['Planned_Delivery_End_Date_is_null'] == 1, df['Predicted_Planned_Delivery_End_Date'], df['Planned_Delivery_End_Date'])\n",
    "\n",
    "    df = df.drop(columns = ['Planned_Delivery_Duration',\n",
    "                                      'Planned_Delivery_Duration_AVG',\n",
    "                                      'Predicted_Planned_Delivery_End_Date', \n",
    "                                      'Planned_Delivery_End_Date_is_null'])\n",
    "    \n",
    "    return df\n",
    "\n",
    "entrenamiento = recuperacion_y_conversion(entrenamiento)\n",
    "test = recuperacion_y_conversion(test)"
   ]
  },
  {
   "cell_type": "code",
   "execution_count": 7,
   "metadata": {},
   "outputs": [],
   "source": [
    "#LIMPIEZA COLUMNAS IRRECUPERABLES\n",
    "\n",
    "entrenamiento = entrenamiento.drop(columns=['ASP_(converted)_Currency','Quote_Type','Brand','Product_Type','Size','Product_Category_B','Price','Currency','Last_Activity','Actual_Delivery_Date','Prod_Category_A'])\n",
    "test = test.drop(columns=['ASP_(converted)_Currency','Quote_Type','Brand','Product_Type','Size','Product_Category_B','Price','Currency','Last_Activity','Actual_Delivery_Date','Prod_Category_A'])"
   ]
  },
  {
   "cell_type": "code",
   "execution_count": 8,
   "metadata": {},
   "outputs": [],
   "source": [
    "# COLUMNAS OBJECT A CATEGORY\n",
    "\n",
    "def object_a_category(df):\n",
    "    columnas_object = list(df.select_dtypes(include=['object']).columns)\n",
    "    for columna in columnas_object:\n",
    "        df[columna] = df[columna].astype('category')\n",
    "    return df\n",
    "\n",
    "entrenamiento = object_a_category(entrenamiento)\n",
    "test = object_a_category(test)"
   ]
  },
  {
   "cell_type": "code",
   "execution_count": 9,
   "metadata": {},
   "outputs": [],
   "source": [
    "# GUARDADO ARCHIVOS TEMPORALES\n",
    "entrenamiento.to_pickle(\"Archivos/Entrenamiento_limpio.pkl\")\n",
    "test.to_pickle(\"Archivos/Test_limpio.pkl\")"
   ]
  },
  {
   "cell_type": "code",
   "execution_count": 10,
   "metadata": {},
   "outputs": [
    {
     "name": "stdout",
     "output_type": "stream",
     "text": [
      "<class 'pandas.core.frame.DataFrame'>\n",
      "Int64Index: 16596 entries, 16104 to 16102\n",
      "Data columns (total 43 columns):\n",
      " #   Column                              Non-Null Count  Dtype         \n",
      "---  ------                              --------------  -----         \n",
      " 0   ID                                  16596 non-null  int64         \n",
      " 1   Region                              16596 non-null  category      \n",
      " 2   Territory                           16596 non-null  category      \n",
      " 3   Pricing, Delivery_Terms_Quote_Appr  16596 non-null  int64         \n",
      " 4   Pricing, Delivery_Terms_Approved    16596 non-null  int64         \n",
      " 5   Bureaucratic_Code_0_Approval        16596 non-null  int64         \n",
      " 6   Bureaucratic_Code_0_Approved        16596 non-null  int64         \n",
      " 7   Submitted_for_Approval              16596 non-null  int64         \n",
      " 8   Bureaucratic_Code                   16596 non-null  category      \n",
      " 9   Account_Created_Date                16596 non-null  datetime64[ns]\n",
      " 10  Source                              16596 non-null  category      \n",
      " 11  Billing_Country                     16596 non-null  category      \n",
      " 12  Account_Name                        16596 non-null  category      \n",
      " 13  Opportunity_Name                    16596 non-null  category      \n",
      " 14  Opportunity_ID                      16596 non-null  int64         \n",
      " 15  Sales_Contract_No                   16596 non-null  category      \n",
      " 16  Account_Owner                       16596 non-null  category      \n",
      " 17  Opportunity_Owner                   16596 non-null  category      \n",
      " 18  Account_Type                        16596 non-null  category      \n",
      " 19  Opportunity_Type                    16596 non-null  category      \n",
      " 20  Delivery_Terms                      16596 non-null  category      \n",
      " 21  Opportunity_Created_Date            16596 non-null  datetime64[ns]\n",
      " 22  Quote_Expiry_Date                   12040 non-null  datetime64[ns]\n",
      " 23  Last_Modified_Date                  16596 non-null  datetime64[ns]\n",
      " 24  Last_Modified_By                    16596 non-null  category      \n",
      " 25  Product_Family                      16596 non-null  category      \n",
      " 26  Product_Name                        16596 non-null  category      \n",
      " 27  ASP_Currency                        16596 non-null  category      \n",
      " 28  ASP                                 13398 non-null  float64       \n",
      " 29  ASP_(converted)                     16596 non-null  float64       \n",
      " 30  Planned_Delivery_Start_Date         16596 non-null  datetime64[ns]\n",
      " 31  Planned_Delivery_End_Date           16596 non-null  datetime64[ns]\n",
      " 32  Month                               16596 non-null  datetime64[ns]\n",
      " 33  Delivery_Quarter                    16596 non-null  category      \n",
      " 34  Delivery_Year                       16596 non-null  int64         \n",
      " 35  TRF                                 16596 non-null  int64         \n",
      " 36  Total_Amount_Currency               16596 non-null  category      \n",
      " 37  Total_Amount                        16596 non-null  float64       \n",
      " 38  Total_Taxable_Amount_Currency       16596 non-null  category      \n",
      " 39  Total_Taxable_Amount                16596 non-null  float64       \n",
      " 40  Stage                               16596 non-null  category      \n",
      " 41  Total_Amount(USD)                   16596 non-null  float64       \n",
      " 42  Total_Taxable_Amount(USD)           16596 non-null  float64       \n",
      "dtypes: category(21), datetime64[ns](7), float64(6), int64(9)\n",
      "memory usage: 4.7 MB\n"
     ]
    }
   ],
   "source": [
    "entrenamiento.info()"
   ]
  },
  {
   "cell_type": "code",
   "execution_count": 12,
   "metadata": {},
   "outputs": [
    {
     "data": {
      "text/plain": [
       "ID                                             int64\n",
       "Region                                      category\n",
       "Territory                                   category\n",
       "Pricing, Delivery_Terms_Quote_Appr             int64\n",
       "Pricing, Delivery_Terms_Approved               int64\n",
       "Bureaucratic_Code_0_Approval                   int64\n",
       "Bureaucratic_Code_0_Approved                   int64\n",
       "Submitted_for_Approval                         int64\n",
       "Bureaucratic_Code                           category\n",
       "Account_Created_Date                  datetime64[ns]\n",
       "Source                                      category\n",
       "Billing_Country                             category\n",
       "Account_Name                                category\n",
       "Opportunity_Name                            category\n",
       "Opportunity_ID                                 int64\n",
       "Sales_Contract_No                           category\n",
       "Account_Owner                               category\n",
       "Opportunity_Owner                           category\n",
       "Account_Type                                category\n",
       "Opportunity_Type                            category\n",
       "Delivery_Terms                              category\n",
       "Opportunity_Created_Date              datetime64[ns]\n",
       "Quote_Expiry_Date                     datetime64[ns]\n",
       "Last_Modified_Date                    datetime64[ns]\n",
       "Last_Modified_By                            category\n",
       "Product_Family                              category\n",
       "Product_Name                                category\n",
       "ASP_Currency                                category\n",
       "ASP                                          float64\n",
       "ASP_(converted)                              float64\n",
       "Planned_Delivery_Start_Date           datetime64[ns]\n",
       "Planned_Delivery_End_Date             datetime64[ns]\n",
       "Month                                 datetime64[ns]\n",
       "Delivery_Quarter                            category\n",
       "Delivery_Year                                  int64\n",
       "TRF                                            int64\n",
       "Total_Amount_Currency                       category\n",
       "Total_Amount                                 float64\n",
       "Total_Taxable_Amount_Currency               category\n",
       "Total_Taxable_Amount                         float64\n",
       "Stage                                       category\n",
       "Total_Amount(USD)                            float64\n",
       "Total_Taxable_Amount(USD)                    float64\n",
       "dtype: object"
      ]
     },
     "execution_count": 12,
     "metadata": {},
     "output_type": "execute_result"
    }
   ],
   "source": [
    "entrenamiento.dtypes"
   ]
  },
  {
   "cell_type": "code",
   "execution_count": 11,
   "metadata": {},
   "outputs": [
    {
     "name": "stdout",
     "output_type": "stream",
     "text": [
      "<class 'pandas.core.frame.DataFrame'>\n",
      "Int64Index: 2551 entries, 718 to 2550\n",
      "Data columns (total 42 columns):\n",
      " #   Column                              Non-Null Count  Dtype         \n",
      "---  ------                              --------------  -----         \n",
      " 0   ID                                  2551 non-null   int64         \n",
      " 1   Region                              2551 non-null   category      \n",
      " 2   Territory                           2551 non-null   category      \n",
      " 3   Pricing, Delivery_Terms_Quote_Appr  2551 non-null   int64         \n",
      " 4   Pricing, Delivery_Terms_Approved    2551 non-null   int64         \n",
      " 5   Bureaucratic_Code_0_Approval        2551 non-null   int64         \n",
      " 6   Bureaucratic_Code_0_Approved        2551 non-null   int64         \n",
      " 7   Submitted_for_Approval              2551 non-null   int64         \n",
      " 8   Bureaucratic_Code                   2551 non-null   category      \n",
      " 9   Account_Created_Date                2551 non-null   datetime64[ns]\n",
      " 10  Source                              2551 non-null   category      \n",
      " 11  Billing_Country                     2551 non-null   category      \n",
      " 12  Account_Name                        2551 non-null   category      \n",
      " 13  Opportunity_Name                    2551 non-null   category      \n",
      " 14  Opportunity_ID                      2551 non-null   int64         \n",
      " 15  Sales_Contract_No                   2551 non-null   category      \n",
      " 16  Account_Owner                       2551 non-null   category      \n",
      " 17  Opportunity_Owner                   2551 non-null   category      \n",
      " 18  Account_Type                        2551 non-null   category      \n",
      " 19  Opportunity_Type                    2551 non-null   category      \n",
      " 20  Delivery_Terms                      2551 non-null   category      \n",
      " 21  Opportunity_Created_Date            2551 non-null   datetime64[ns]\n",
      " 22  Quote_Expiry_Date                   1315 non-null   datetime64[ns]\n",
      " 23  Last_Modified_Date                  2551 non-null   datetime64[ns]\n",
      " 24  Last_Modified_By                    2551 non-null   category      \n",
      " 25  Product_Family                      2551 non-null   category      \n",
      " 26  Product_Name                        2551 non-null   category      \n",
      " 27  ASP_Currency                        2551 non-null   category      \n",
      " 28  ASP                                 2467 non-null   float64       \n",
      " 29  ASP_(converted)                     2551 non-null   float64       \n",
      " 30  Planned_Delivery_Start_Date         2551 non-null   datetime64[ns]\n",
      " 31  Planned_Delivery_End_Date           2551 non-null   datetime64[ns]\n",
      " 32  Month                               2551 non-null   datetime64[ns]\n",
      " 33  Delivery_Quarter                    2551 non-null   category      \n",
      " 34  Delivery_Year                       2551 non-null   int64         \n",
      " 35  TRF                                 2551 non-null   int64         \n",
      " 36  Total_Amount_Currency               2551 non-null   category      \n",
      " 37  Total_Amount                        2551 non-null   float64       \n",
      " 38  Total_Taxable_Amount_Currency       2551 non-null   category      \n",
      " 39  Total_Taxable_Amount                2551 non-null   float64       \n",
      " 40  Total_Amount(USD)                   2551 non-null   float64       \n",
      " 41  Total_Taxable_Amount(USD)           2551 non-null   float64       \n",
      "dtypes: category(20), datetime64[ns](7), float64(6), int64(9)\n",
      "memory usage: 740.8 KB\n"
     ]
    }
   ],
   "source": [
    "test.info()"
   ]
  },
  {
   "cell_type": "code",
   "execution_count": 16,
   "metadata": {},
   "outputs": [
    {
     "data": {
      "text/plain": [
       "ID                                             int64\n",
       "Region                                      category\n",
       "Territory                                   category\n",
       "Pricing, Delivery_Terms_Quote_Appr             int64\n",
       "Pricing, Delivery_Terms_Approved               int64\n",
       "Bureaucratic_Code_0_Approval                   int64\n",
       "Bureaucratic_Code_0_Approved                   int64\n",
       "Submitted_for_Approval                         int64\n",
       "Bureaucratic_Code                           category\n",
       "Account_Created_Date                  datetime64[ns]\n",
       "Source                                      category\n",
       "Billing_Country                             category\n",
       "Account_Name                                category\n",
       "Opportunity_Name                            category\n",
       "Opportunity_ID                                 int64\n",
       "Sales_Contract_No                           category\n",
       "Account_Owner                               category\n",
       "Opportunity_Owner                           category\n",
       "Account_Type                                category\n",
       "Opportunity_Type                            category\n",
       "Delivery_Terms                              category\n",
       "Opportunity_Created_Date              datetime64[ns]\n",
       "Quote_Expiry_Date                     datetime64[ns]\n",
       "Last_Modified_Date                    datetime64[ns]\n",
       "Last_Modified_By                            category\n",
       "Product_Family                              category\n",
       "Product_Name                                category\n",
       "ASP_Currency                                category\n",
       "ASP                                          float64\n",
       "ASP_(converted)                              float64\n",
       "Planned_Delivery_Start_Date           datetime64[ns]\n",
       "Planned_Delivery_End_Date             datetime64[ns]\n",
       "Month                                 datetime64[ns]\n",
       "Delivery_Quarter                            category\n",
       "Delivery_Year                                  int64\n",
       "TRF                                            int64\n",
       "Total_Amount_Currency                       category\n",
       "Total_Amount                                 float64\n",
       "Total_Taxable_Amount_Currency               category\n",
       "Total_Taxable_Amount                         float64\n",
       "Total_Amount(USD)                            float64\n",
       "Total_Taxable_Amount(USD)                    float64\n",
       "dtype: object"
      ]
     },
     "execution_count": 16,
     "metadata": {},
     "output_type": "execute_result"
    }
   ],
   "source": [
    "test.dtypes"
   ]
  },
  {
   "cell_type": "code",
   "execution_count": 20,
   "metadata": {},
   "outputs": [
    {
     "data": {
      "text/plain": [
       "16104    10\n",
       "16105     5\n",
       "16106     8\n",
       "16107     7\n",
       "16109     1\n",
       "         ..\n",
       "16099     2\n",
       "16100    12\n",
       "16103     1\n",
       "16101     1\n",
       "16102     1\n",
       "Name: Month, Length: 16596, dtype: int64"
      ]
     },
     "execution_count": 20,
     "metadata": {},
     "output_type": "execute_result"
    }
   ],
   "source": [
    "entrenamiento['Month'].dt.month"
   ]
  },
  {
   "cell_type": "code",
   "execution_count": null,
   "metadata": {},
   "outputs": [],
   "source": []
  }
 ],
 "metadata": {
  "kernelspec": {
   "display_name": "Python 3",
   "language": "python",
   "name": "python3"
  },
  "language_info": {
   "codemirror_mode": {
    "name": "ipython",
    "version": 3
   },
   "file_extension": ".py",
   "mimetype": "text/x-python",
   "name": "python",
   "nbconvert_exporter": "python",
   "pygments_lexer": "ipython3",
   "version": "3.6.12"
  }
 },
 "nbformat": 4,
 "nbformat_minor": 4
}
