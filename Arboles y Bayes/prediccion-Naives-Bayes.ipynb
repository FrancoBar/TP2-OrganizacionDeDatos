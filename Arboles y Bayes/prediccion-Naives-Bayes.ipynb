{
 "cells": [
  {
   "cell_type": "code",
   "execution_count": 1,
   "metadata": {},
   "outputs": [],
   "source": [
    "import sys\n",
    "import pandas as pd\n",
    "import matplotlib.pyplot as plt\n",
    "import numpy as np\n",
    "import sklearn as skl\n",
    "from sklearn.metrics import confusion_matrix, accuracy_score\n",
    "import skopt\n",
    "import scipy\n",
    "from skopt.space import Real\n",
    "import category_encoders\n",
    "from sklearn.naive_bayes import GaussianNB\n",
    "from sklearn.naive_bayes import ComplementNB\n",
    "import math\n",
    "\n",
    "PREDICCION_REAL = False\n",
    "MAXIMIZAR_HIPERPARAMETROS = False\n",
    "PARAMETROS = {\n",
    "    \n",
    "}\n",
    "\n"
   ]
  },
  {
   "cell_type": "code",
   "execution_count": 2,
   "metadata": {},
   "outputs": [],
   "source": [
    "#APERTURA DE ARCHIVO DE ARCHIVOS\n",
    "entrenamiento = pd.read_pickle(\"../Archivos/Arboles_entrenamiento_exp.pkl\").drop(columns = [\"Opportunity_ID\"])\n",
    "test = pd.read_pickle(\"../Archivos/Arboles_validacion_exp.pkl\").drop(columns = [\"Opportunity_ID\"])\n",
    "test_real = pd.read_pickle(\"../Archivos/Arboles_validacion_exp.pkl\")\n",
    "if PREDICCION_REAL:\n",
    "    test = pd.read_pickle(\"../Archivos/Arboles_test_exp.pkl\").drop(columns = [\"Opportunity_ID\"])\n",
    "    test_real = pd.read_pickle(\"../Archivos/Arboles_test_exp.pkl\")"
   ]
  },
  {
   "cell_type": "code",
   "execution_count": 3,
   "metadata": {},
   "outputs": [
    {
     "name": "stdout",
     "output_type": "stream",
     "text": [
      "<class 'pandas.core.frame.DataFrame'>\n",
      "RangeIndex: 12140 entries, 0 to 12139\n",
      "Columns: 134 entries, Region to Last_Modified_By_Total_Amount_Currency_unique\n",
      "dtypes: category(18), datetime64[ns](7), float64(82), int64(27)\n",
      "memory usage: 11.1 MB\n"
     ]
    }
   ],
   "source": [
    "entrenamiento.info()"
   ]
  },
  {
   "cell_type": "code",
   "execution_count": 4,
   "metadata": {},
   "outputs": [],
   "source": [
    "#FILTRADO DE COLUMNAS - NO REMOVER STAGE O FECHA\n",
    "#fugas = ['ID','Opportunity_Name','Sales_Contract_No','Account_Name','Account_Owner','Opportunity_Owner','Last_Modified_By','Product_Family','Product_Name','ASP','ASP_(converted)']\n",
    "#'Total_Taxable_Amount'\n",
    "#columnas_fecha = ['Month','Last_Modified_Date','Account_Created_Date','Opportunity_Created_Date','Quote_Expiry_Date','Planned_Delivery_Start_Date','Planned_Delivery_End_Date']\n",
    "#entrenamiento = entrenamiento.drop(columns=fugas)\n",
    "#test = test.drop(columns=fugas)\n",
    "#test = test.drop(columns=columnas_fecha)\n",
    "#entrenamiento = entrenamiento.drop(columns=columnas_fecha)"
   ]
  },
  {
   "cell_type": "code",
   "execution_count": null,
   "metadata": {},
   "outputs": [],
   "source": []
  },
  {
   "cell_type": "code",
   "execution_count": 5,
   "metadata": {},
   "outputs": [],
   "source": [
    "#FECHAS A DIAS\n",
    "\n",
    "columnas_fecha = ['Last_Modified_Date','Account_Created_Date','Opportunity_Created_Date','Quote_Expiry_Date','Planned_Delivery_Start_Date','Planned_Delivery_End_Date',\"Year-Month\"]\n",
    "def fecha_a_dias(x):\n",
    "    for columna in columnas_fecha:\n",
    "        x[columna] = x[columna].apply(lambda x : (x - pd.to_datetime('01/01/2000', format='%m/%d/%Y')).days)\n",
    "\n",
    "fecha_a_dias(entrenamiento)\n",
    "fecha_a_dias(test)"
   ]
  },
  {
   "cell_type": "code",
   "execution_count": 6,
   "metadata": {},
   "outputs": [],
   "source": [
    "objetivo = (entrenamiento['Stage'] == 1).astype(int)\n",
    "entrenamiento = entrenamiento.drop(columns=['Stage'])\n",
    "columnas_category = list(entrenamiento.select_dtypes(include=['category']).columns)\n",
    "if 'Stage' in columnas_category : columnas_category.remove('Stage')"
   ]
  },
  {
   "cell_type": "code",
   "execution_count": 7,
   "metadata": {},
   "outputs": [],
   "source": [
    "if not PREDICCION_REAL:\n",
    "    test_label = (test['Stage'] == 1).astype(int)\n",
    "    test = test.drop(columns=['Stage'])"
   ]
  },
  {
   "cell_type": "code",
   "execution_count": null,
   "metadata": {},
   "outputs": [],
   "source": [
    "     "
   ]
  },
  {
   "cell_type": "code",
   "execution_count": 8,
   "metadata": {},
   "outputs": [
    {
     "name": "stderr",
     "output_type": "stream",
     "text": [
      "C:\\Users\\gianb\\anaconda3\\envs\\TP2-Orga\\lib\\site-packages\\category_encoders\\utils.py:21: FutureWarning: is_categorical is deprecated and will be removed in a future version.  Use is_categorical_dtype instead\n",
      "  elif pd.api.types.is_categorical(cols):\n",
      "C:\\Users\\gianb\\anaconda3\\envs\\TP2-Orga\\lib\\site-packages\\category_encoders\\utils.py:21: FutureWarning: is_categorical is deprecated and will be removed in a future version.  Use is_categorical_dtype instead\n",
      "  elif pd.api.types.is_categorical(cols):\n"
     ]
    }
   ],
   "source": [
    "def categoricas_a_numericas(train,test,label,usar_label):\n",
    "    if (usar_label):\n",
    "        columnas_object = list(train.select_dtypes(include=['category']).columns)\n",
    "    else:\n",
    "        columnas_object = list(test.select_dtypes(include=['category']).columns)\n",
    "    if 'Stage' in columnas_object : columnas_object.remove('Stage')\n",
    "    ohe = category_encoders.cat_boost.CatBoostEncoder(cols = columnas_object,return_df = True)\n",
    "    ohe.fit(train,label)\n",
    "    if (usar_label):\n",
    "        columnas = ohe.transform(train,label)\n",
    "        for columna in columnas_object:\n",
    "            train[columna] = columnas[columna].copy()\n",
    "    else:\n",
    "        columnas = ohe.transform(test)\n",
    "        for columna in columnas_object:\n",
    "            test[columna] = columnas[columna].copy()\n",
    "categoricas_a_numericas(entrenamiento,test,objetivo,False)\n",
    "categoricas_a_numericas(entrenamiento,test,objetivo,True)"
   ]
  },
  {
   "cell_type": "code",
   "execution_count": null,
   "metadata": {},
   "outputs": [],
   "source": []
  },
  {
   "cell_type": "code",
   "execution_count": null,
   "metadata": {},
   "outputs": [],
   "source": []
  },
  {
   "cell_type": "code",
   "execution_count": null,
   "metadata": {},
   "outputs": [],
   "source": []
  },
  {
   "cell_type": "code",
   "execution_count": null,
   "metadata": {},
   "outputs": [],
   "source": []
  },
  {
   "cell_type": "code",
   "execution_count": null,
   "metadata": {},
   "outputs": [],
   "source": []
  },
  {
   "cell_type": "code",
   "execution_count": null,
   "metadata": {},
   "outputs": [],
   "source": []
  },
  {
   "cell_type": "code",
   "execution_count": null,
   "metadata": {},
   "outputs": [],
   "source": []
  },
  {
   "cell_type": "code",
   "execution_count": 9,
   "metadata": {},
   "outputs": [],
   "source": [
    "def limpiar_nan(col):\n",
    "    mean = entrenamiento[col].mean()\n",
    "    entrenamiento[col] = entrenamiento[col].replace(np.NaN,mean)\n",
    "    mean = test[col].mean()\n",
    "    test[col] = test[col].replace(np.NaN,mean)"
   ]
  },
  {
   "cell_type": "code",
   "execution_count": 10,
   "metadata": {},
   "outputs": [],
   "source": [
    "def limpiar_inf(col):\n",
    "    entrenamiento[col] = entrenamiento[col].replace(math.inf,np.NaN)\n",
    "    test[col] = test[col].replace(math.inf,np.NaN)"
   ]
  },
  {
   "cell_type": "code",
   "execution_count": null,
   "metadata": {},
   "outputs": [],
   "source": []
  },
  {
   "cell_type": "code",
   "execution_count": 11,
   "metadata": {},
   "outputs": [],
   "source": [
    "#entrenamiento = entrenamiento.drop(columns = [\"Quote_Expiry_Date\",\"Total_Products_Region_Quarter_Change\"])\n",
    "#test = test.drop(columns = [\"Quote_Expiry_Date\",\"Total_Products_Region_Quarter_Change\"])"
   ]
  },
  {
   "cell_type": "code",
   "execution_count": 12,
   "metadata": {},
   "outputs": [],
   "source": [
    "for col in entrenamiento.columns:\n",
    "    ent_null = entrenamiento.loc[entrenamiento[col] == np.inf]\n",
    "    if (ent_null[col].count() > 1000):\n",
    "        print(col)\n",
    "        print(ent_null[col].count())\n",
    "        entrenamiento = entrenamiento.drop(columns = [col])\n",
    "        test = test.drop(columns = [col])\n",
    "    if (0<ent_null[col].count() <= 1000):\n",
    "        print(col)\n",
    "        print(ent_null[col].count())\n",
    "        limpiar_inf(col)        \n",
    "for col in test.columns:\n",
    "    ent_null = test.loc[test[col] == np.inf]\n",
    "    if (ent_null[col].count() > 1000):\n",
    "        print(col)\n",
    "        print(ent_null[col].count())\n",
    "        entrenamiento = entrenamiento.drop(columns = [col])\n",
    "        test = test.drop(columns = [col])\n",
    "    if (0<ent_null[col].count() <= 1000):\n",
    "        print(col)\n",
    "        print(ent_null[col].count())\n",
    "        limpiar_inf(col)        "
   ]
  },
  {
   "cell_type": "code",
   "execution_count": 13,
   "metadata": {},
   "outputs": [
    {
     "name": "stdout",
     "output_type": "stream",
     "text": [
      "Total_Amount(USD)\n",
      "24\n",
      "Total_Taxable_Amount(USD)\n",
      "4\n",
      "Opportunity_Taxable_Rate\n",
      "47\n",
      "Product_Amount_Deviation_of_Product_Family_rate\n",
      "25\n",
      "ASP_by_Billing_Country_std\n",
      "14\n",
      "Total_Amount_by_Billing_Country_std\n",
      "14\n",
      "Buro_Approved_by_Billing_Country_std\n",
      "14\n",
      "Opportunity_Duration_by_Product_Family_std\n",
      "31\n",
      "Total_Amount_by_Product_Family_std\n",
      "31\n",
      "Buro_Approved_by_Product_Family\n",
      "31\n",
      "Family_Duration\n",
      "59\n",
      "Territory_Duration\n",
      "77\n",
      "Bureaucratic_Code_ASP_(converted)_std\n",
      "1\n",
      "Bureaucratic_Code_Total_Product_Family_Region_Last_Month_std\n",
      "1\n",
      "Bureaucratic_Code_Total_Products_Region_Last_Week_std\n",
      "1\n",
      "Bureaucratic_Code_Planned_Deliver_Duration_std\n",
      "1\n",
      "Bureaucratic_Code_Actual_Opportunity_Duration_std\n",
      "1\n",
      "Bureaucratic_Code_Planned_Time_Until_Deliver_std\n",
      "1\n",
      "Bureaucratic_Code_Product_Amount_Deviation_of_Product_Family_rate_std\n",
      "1\n",
      "Bureaucratic_Code_Opportunity_Duration_Ratio_std\n",
      "1\n",
      "Bureaucratic_Code_Opportunity_Total_Amount_Region_avg_std\n",
      "1\n",
      "Bureaucratic_Code_Opportunity_TRF_Region_std_Ratio_std\n",
      "1\n",
      "Bureaucratic_Code_Opportunity_Duration_by_Account_Type_std\n",
      "1\n",
      "Bureaucratic_Code_ASP_by_Billing_Country_mean_std\n",
      "1\n",
      "Bureaucratic_Code_Buro_Approved_by_Product_Family_std\n",
      "1\n",
      "Last_Modified_By_Opportunity_Total_Amount_Region_avg_std\n",
      "3\n",
      "Last_Modified_By_Opportunity_Total_Amount_Region_std_std\n",
      "3\n",
      "Last_Modified_By_Opportunity_TRF_Region_avg_std\n",
      "3\n",
      "Last_Modified_By_ASP_by_Region_mean_std\n",
      "3\n",
      "Product_Name_Planned_Time_Until_Deliver_std\n",
      "75\n",
      "Opportunity_Duration_Ratio\n",
      "2\n"
     ]
    }
   ],
   "source": [
    "for col in entrenamiento.columns:\n",
    "    ent_null = entrenamiento.loc[entrenamiento[col].isnull()]\n",
    "    ent_null = ent_null.replace(np.NaN,0)\n",
    "    if (ent_null[col].count() > 1000):\n",
    "        print(col)\n",
    "        print(ent_null[col].count())\n",
    "        entrenamiento = entrenamiento.drop(columns = [col])\n",
    "        test = test.drop(columns = [col])\n",
    "    if (0<ent_null[col].count() <= 1000):\n",
    "        print(col)\n",
    "        print(ent_null[col].count())\n",
    "        limpiar_nan(col)        \n",
    "for col in test.columns:\n",
    "    ent_null = test.loc[test[col].isnull()]\n",
    "    ent_null = ent_null.replace(np.NaN,0)\n",
    "    if (ent_null[col].count() > 1000):\n",
    "        print(col)\n",
    "        print(ent_null[col].count())\n",
    "        entrenamiento = entrenamiento.drop(columns = [col])\n",
    "        test = test.drop(columns = [col])\n",
    "    if (0<ent_null[col].count() <= 1000):\n",
    "        print(col)\n",
    "        print(ent_null[col].count())\n",
    "        limpiar_nan(col)        "
   ]
  },
  {
   "cell_type": "code",
   "execution_count": 14,
   "metadata": {},
   "outputs": [],
   "source": [
    "a_usar = ['Bureaucratic_Code',\n",
    " 'Account_Name',\n",
    " 'Opportunity_Name',\n",
    " 'Opportunity_Owner',\n",
    " 'Last_Modified_By',\n",
    " 'Product_Family',\n",
    " 'Product_Name',\n",
    " 'Opportunity_Name_Planned_Time_Until_Deliver_mean',\n",
    " 'Opportunity_Name_Planned_Opportunity_Duration_mean',\n",
    " 'Product_Name_Planned_Time_Until_Deliver_mean',\n",
    " 'Product_Name_Planned_Opportunity_Duration_mean',\n",
    " 'Territory',\n",
    " 'Account_Owner',\n",
    " 'Account_Type',\n",
    " 'Opportunity_Type',\n",
    " 'Planned_Opportunity_Duration',\n",
    " 'Bureaucratic_Code_ASP_(converted)_std',\n",
    " 'Bureaucratic_Code_Total_Amount_mean',\n",
    " 'Bureaucratic_Code_Total_Product_Family_Region_Last_Month_mean',\n",
    " 'Bureaucratic_Code_Total_Product_Family_Region_Last_Month_std',\n",
    " 'Bureaucratic_Code_Total_Products_Region_Last_Week_std',\n",
    " 'Bureaucratic_Code_Total_Products_Region_Last_Month_mean',\n",
    " 'Bureaucratic_Code_Planned_Deliver_Duration_mean',\n",
    " 'Bureaucratic_Code_Planned_Deliver_Duration_std',\n",
    " 'Bureaucratic_Code_Actual_Opportunity_Duration_std',\n",
    " 'Bureaucratic_Code_Planned_Time_Until_Deliver_mean',\n",
    " 'Bureaucratic_Code_Planned_Time_Until_Deliver_std',\n",
    " 'Bureaucratic_Code_Planned_Opportunity_Duration_mean',\n",
    " 'Bureaucratic_Code_Product_Amount_Deviation_of_Product_Family_rate_std',\n",
    " 'Bureaucratic_Code_Opportunity_Duration_Ratio_std',\n",
    " 'Bureaucratic_Code_Opportunity_Total_Amount_Region_avg_std',\n",
    " 'Bureaucratic_Code_Opportunity_TRF_Region_std_Ratio_std',\n",
    " 'Bureaucratic_Code_Opportunity_Duration_by_Account_Type_std',\n",
    " 'Bureaucratic_Code_ASP_by_Billing_Country_mean_std',\n",
    " 'Bureaucratic_Code_Opportunity_Duration_by_Product_Family_mean_mean',\n",
    " 'Bureaucratic_Code_Buro_Approved_by_Product_Family_std',\n",
    " 'Account_Name_Planned_Opportunity_Duration_mean',\n",
    " 'Opportunity_Type_Planned_Time_Until_Deliver_mean',\n",
    " 'Opportunity_Type_Opportunity_Duration_by_Account_Type_mean',\n",
    " 'Last_Modified_By_Planned_Time_Until_Deliver_mean',\n",
    " 'Last_Modified_By_Opportunity_Total_Amount_Region_avg_std',\n",
    " 'Last_Modified_By_Opportunity_Total_Amount_Region_std_std',\n",
    " 'Last_Modified_By_Opportunity_TRF_Region_avg_std',\n",
    " 'Last_Modified_By_ASP_by_Region_mean_std',\n",
    " 'Product_Family_Planned_Opportunity_Duration_mean',\n",
    " 'Product_Name_Planned_Time_Until_Deliver_std',\n",
    " 'Product_Name_Opportunity_Duration_by_Account_Type_mean',\n",
    " 'Bureaucratic_Code_Billing_Country_unique',\n",
    " 'Bureaucratic_Code_Opportunity_Name_unique',\n",
    " 'Bureaucratic_Code_Opportunity_Type_unique',\n",
    " 'Bureaucratic_Code_Total_Amount_Currency_unique',\n",
    " 'Last_Modified_By_Territory_unique',\n",
    " 'Last_Modified_By_Billing_Country_unique',\n",
    " 'Last_Modified_By_Account_Name_unique',\n",
    " 'Last_Modified_By_Account_Owner_unique',\n",
    " 'Last_Modified_By_Account_Type_unique',\n",
    " 'Last_Modified_By_Product_Name_unique',\n",
    " 'Last_Modified_By_Total_Amount_Currency_unique',\n",
    " 'Region',\n",
    " 'Billing_Country']\n",
    "\n",
    "drop = list(entrenamiento.columns)\n",
    "for col in a_usar:\n",
    "    drop.remove(col)\n",
    "    \n",
    "entrenamiento = entrenamiento.drop(columns = drop)"
   ]
  },
  {
   "cell_type": "code",
   "execution_count": 15,
   "metadata": {},
   "outputs": [],
   "source": [
    "test = test.drop(columns = drop)"
   ]
  },
  {
   "cell_type": "code",
   "execution_count": 16,
   "metadata": {},
   "outputs": [
    {
     "name": "stdout",
     "output_type": "stream",
     "text": [
      "<class 'pandas.core.frame.DataFrame'>\n",
      "RangeIndex: 12140 entries, 0 to 12139\n",
      "Data columns (total 60 columns):\n",
      " #   Column                                                                 Non-Null Count  Dtype  \n",
      "---  ------                                                                 --------------  -----  \n",
      " 0   Region                                                                 12140 non-null  float64\n",
      " 1   Territory                                                              12140 non-null  float64\n",
      " 2   Bureaucratic_Code                                                      12140 non-null  float64\n",
      " 3   Billing_Country                                                        12140 non-null  float64\n",
      " 4   Account_Name                                                           12140 non-null  float64\n",
      " 5   Opportunity_Name                                                       12140 non-null  float64\n",
      " 6   Account_Owner                                                          12140 non-null  float64\n",
      " 7   Opportunity_Owner                                                      12140 non-null  float64\n",
      " 8   Account_Type                                                           12140 non-null  float64\n",
      " 9   Opportunity_Type                                                       12140 non-null  float64\n",
      " 10  Last_Modified_By                                                       12140 non-null  float64\n",
      " 11  Product_Family                                                         12140 non-null  float64\n",
      " 12  Product_Name                                                           12140 non-null  float64\n",
      " 13  Planned_Opportunity_Duration                                           12140 non-null  float64\n",
      " 14  Opportunity_Name_Planned_Time_Until_Deliver_mean                       12140 non-null  float64\n",
      " 15  Opportunity_Name_Planned_Opportunity_Duration_mean                     12140 non-null  float64\n",
      " 16  Product_Name_Planned_Time_Until_Deliver_mean                           12140 non-null  float64\n",
      " 17  Product_Name_Planned_Opportunity_Duration_mean                         12140 non-null  float64\n",
      " 18  Bureaucratic_Code_ASP_(converted)_std                                  12140 non-null  float64\n",
      " 19  Bureaucratic_Code_Total_Amount_mean                                    12140 non-null  float64\n",
      " 20  Bureaucratic_Code_Total_Product_Family_Region_Last_Month_mean          12140 non-null  float64\n",
      " 21  Bureaucratic_Code_Total_Product_Family_Region_Last_Month_std           12140 non-null  float64\n",
      " 22  Bureaucratic_Code_Total_Products_Region_Last_Week_std                  12140 non-null  float64\n",
      " 23  Bureaucratic_Code_Total_Products_Region_Last_Month_mean                12140 non-null  float64\n",
      " 24  Bureaucratic_Code_Planned_Deliver_Duration_mean                        12140 non-null  float64\n",
      " 25  Bureaucratic_Code_Planned_Deliver_Duration_std                         12140 non-null  float64\n",
      " 26  Bureaucratic_Code_Actual_Opportunity_Duration_std                      12140 non-null  float64\n",
      " 27  Bureaucratic_Code_Planned_Time_Until_Deliver_mean                      12140 non-null  float64\n",
      " 28  Bureaucratic_Code_Planned_Time_Until_Deliver_std                       12140 non-null  float64\n",
      " 29  Bureaucratic_Code_Planned_Opportunity_Duration_mean                    12140 non-null  float64\n",
      " 30  Bureaucratic_Code_Product_Amount_Deviation_of_Product_Family_rate_std  12140 non-null  float64\n",
      " 31  Bureaucratic_Code_Opportunity_Duration_Ratio_std                       12140 non-null  float64\n",
      " 32  Bureaucratic_Code_Opportunity_Total_Amount_Region_avg_std              12140 non-null  float64\n",
      " 33  Bureaucratic_Code_Opportunity_TRF_Region_std_Ratio_std                 12140 non-null  float64\n",
      " 34  Bureaucratic_Code_Opportunity_Duration_by_Account_Type_std             12140 non-null  float64\n",
      " 35  Bureaucratic_Code_ASP_by_Billing_Country_mean_std                      12140 non-null  float64\n",
      " 36  Bureaucratic_Code_Opportunity_Duration_by_Product_Family_mean_mean     12140 non-null  float64\n",
      " 37  Bureaucratic_Code_Buro_Approved_by_Product_Family_std                  12140 non-null  float64\n",
      " 38  Account_Name_Planned_Opportunity_Duration_mean                         12140 non-null  float64\n",
      " 39  Opportunity_Type_Planned_Time_Until_Deliver_mean                       12140 non-null  float64\n",
      " 40  Opportunity_Type_Opportunity_Duration_by_Account_Type_mean             12140 non-null  float64\n",
      " 41  Last_Modified_By_Planned_Time_Until_Deliver_mean                       12140 non-null  float64\n",
      " 42  Last_Modified_By_Opportunity_Total_Amount_Region_avg_std               12140 non-null  float64\n",
      " 43  Last_Modified_By_Opportunity_Total_Amount_Region_std_std               12140 non-null  float64\n",
      " 44  Last_Modified_By_Opportunity_TRF_Region_avg_std                        12140 non-null  float64\n",
      " 45  Last_Modified_By_ASP_by_Region_mean_std                                12140 non-null  float64\n",
      " 46  Product_Family_Planned_Opportunity_Duration_mean                       12140 non-null  float64\n",
      " 47  Product_Name_Planned_Time_Until_Deliver_std                            12140 non-null  float64\n",
      " 48  Product_Name_Opportunity_Duration_by_Account_Type_mean                 12140 non-null  float64\n",
      " 49  Bureaucratic_Code_Billing_Country_unique                               12140 non-null  int64  \n",
      " 50  Bureaucratic_Code_Opportunity_Name_unique                              12140 non-null  int64  \n",
      " 51  Bureaucratic_Code_Opportunity_Type_unique                              12140 non-null  int64  \n",
      " 52  Bureaucratic_Code_Total_Amount_Currency_unique                         12140 non-null  int64  \n",
      " 53  Last_Modified_By_Territory_unique                                      12140 non-null  int64  \n",
      " 54  Last_Modified_By_Billing_Country_unique                                12140 non-null  int64  \n",
      " 55  Last_Modified_By_Account_Name_unique                                   12140 non-null  int64  \n",
      " 56  Last_Modified_By_Account_Owner_unique                                  12140 non-null  int64  \n",
      " 57  Last_Modified_By_Account_Type_unique                                   12140 non-null  int64  \n",
      " 58  Last_Modified_By_Product_Name_unique                                   12140 non-null  int64  \n",
      " 59  Last_Modified_By_Total_Amount_Currency_unique                          12140 non-null  int64  \n",
      "dtypes: float64(49), int64(11)\n",
      "memory usage: 5.6 MB\n"
     ]
    }
   ],
   "source": [
    "entrenamiento.info()"
   ]
  },
  {
   "cell_type": "code",
   "execution_count": null,
   "metadata": {},
   "outputs": [],
   "source": []
  },
  {
   "cell_type": "code",
   "execution_count": 81,
   "metadata": {},
   "outputs": [
    {
     "data": {
      "text/plain": [
       "array([[0.58776901, 0.41223099],\n",
       "       [0.33816175, 0.66183825],\n",
       "       [0.56046081, 0.43953919],\n",
       "       ...,\n",
       "       [0.33816125, 0.66183875],\n",
       "       [0.33816195, 0.66183805],\n",
       "       [0.33816125, 0.66183875]])"
      ]
     },
     "execution_count": 81,
     "metadata": {},
     "output_type": "execute_result"
    }
   ],
   "source": [
    "model = GaussianNB(priors = [0.4,0.6],var_smoothing =0.01)\n",
    "\n",
    "model.fit(entrenamiento,objetivo)\n",
    "# make the prediction using the resulting model\n",
    "preds = model.predict_proba(test)\n",
    "preds"
   ]
  },
  {
   "cell_type": "code",
   "execution_count": null,
   "metadata": {},
   "outputs": [],
   "source": []
  },
  {
   "cell_type": "code",
   "execution_count": null,
   "metadata": {},
   "outputs": [],
   "source": []
  },
  {
   "cell_type": "code",
   "execution_count": 82,
   "metadata": {},
   "outputs": [
    {
     "name": "stdout",
     "output_type": "stream",
     "text": [
      "0.6749834608510313\n"
     ]
    }
   ],
   "source": [
    "if not PREDICCION_REAL:\n",
    "    #accuracy_score(test_label, [1])\n",
    "    print(skl.metrics.log_loss(test_label,[p[1] for p in preds]))"
   ]
  },
  {
   "cell_type": "code",
   "execution_count": 20,
   "metadata": {},
   "outputs": [
    {
     "data": {
      "text/plain": [
       "{'priors': [0.4, 0.6], 'var_smoothing': 0.01}"
      ]
     },
     "execution_count": 20,
     "metadata": {},
     "output_type": "execute_result"
    }
   ],
   "source": [
    "model.get_params()"
   ]
  },
  {
   "cell_type": "code",
   "execution_count": 21,
   "metadata": {},
   "outputs": [
    {
     "data": {
      "text/plain": [
       "0.6970345963756178"
      ]
     },
     "execution_count": 21,
     "metadata": {},
     "output_type": "execute_result"
    }
   ],
   "source": [
    "preds = model.predict(entrenamiento)\n",
    "accuracy_score(objetivo, preds)"
   ]
  },
  {
   "cell_type": "code",
   "execution_count": 22,
   "metadata": {},
   "outputs": [
    {
     "name": "stdout",
     "output_type": "stream",
     "text": [
      "Opportunity_ID    4515\n",
      "dtype: int64\n",
      "Opportunity_ID    4515\n",
      "Target            4515\n",
      "dtype: int64\n"
     ]
    }
   ],
   "source": [
    "if (PREDICCION_REAL):\n",
    "    preds = model.predict_proba(test)\n",
    "    resultados = test_real[['Opportunity_ID']].copy()\n",
    "    resultados['Target'] = pd.Series([p[1] for p in preds])\n",
    "    resultados = resultados.groupby('Opportunity_ID').mean()\n",
    "    resultados = resultados.reset_index()\n",
    "    #resultados['Target'] = resultados['Target'].apply(lambda x: int(x >= 0.5))    \n",
    "    resultados.to_csv(\"prediccion_naive_bayes.csv\", index=False)\n",
    "    resultados['Target'].value_counts()\n",
    "\n",
    "if not PREDICCION_REAL:\n",
    "    preds = model.predict_proba(test)\n",
    "    resultados = test_real[['Opportunity_ID']].copy()\n",
    "    print(resultados.count())\n",
    "    resultados['Target'] = pd.Series([p[1] for p in preds])\n",
    "    #resultados = resultados.groupby('Opportunity_ID').mean()\n",
    "    #resultados = resultados.reset_index()\n",
    "    print(resultados.count())\n",
    "    #resultados['Target'] = resultados['Target'].apply(lambda x: int(x >= 0.5))    \n",
    "    resultados.to_csv(\"prediccion_naive_bayes_val.csv\", index=False)\n",
    "    resultados['Target'].value_counts()"
   ]
  },
  {
   "cell_type": "code",
   "execution_count": 23,
   "metadata": {},
   "outputs": [
    {
     "ename": "SystemExit",
     "evalue": "",
     "output_type": "error",
     "traceback": [
      "An exception has occurred, use %tb to see the full traceback.\n",
      "\u001b[1;31mSystemExit\u001b[0m\n"
     ]
    },
    {
     "name": "stderr",
     "output_type": "stream",
     "text": [
      "C:\\Users\\gianb\\anaconda3\\envs\\TP2-Orga\\lib\\site-packages\\IPython\\core\\interactiveshell.py:3435: UserWarning: To exit: use 'exit', 'quit', or Ctrl-D.\n",
      "  warn(\"To exit: use 'exit', 'quit', or Ctrl-D.\", stacklevel=1)\n"
     ]
    }
   ],
   "source": [
    "if(not MAXIMIZAR_HIPERPARAMETROS): sys.exit()"
   ]
  },
  {
   "cell_type": "code",
   "execution_count": null,
   "metadata": {},
   "outputs": [],
   "source": [
    "from itertools import combinations"
   ]
  },
  {
   "cell_type": "code",
   "execution_count": null,
   "metadata": {},
   "outputs": [],
   "source": [
    "entrenamiento.info()"
   ]
  },
  {
   "cell_type": "code",
   "execution_count": null,
   "metadata": {},
   "outputs": [],
   "source": []
  },
  {
   "cell_type": "code",
   "execution_count": 106,
   "metadata": {},
   "outputs": [],
   "source": [
    "from skopt import BayesSearchCV\n",
    "from skopt.space import Real\n",
    "from sklearn.model_selection import StratifiedKFold,GridSearchCV\n",
    "\n",
    "# Classifier\n",
    "bayes_cv_tuner = GridSearchCV(\n",
    "estimator = skl.naive_bayes.GaussianNB(),\n",
    "param_grid = {\n",
    "        \"var_smoothing\" : [i/10000 for i in range(1,1000)],\n",
    "        \"priors\" : [[i/10,1-i/10] for i in range(10)]\n",
    "},\n",
    "cv = skl.model_selection.TimeSeriesSplit(),\n",
    "n_jobs = 50,\n",
    "verbose = 1,\n",
    "refit = True,\n",
    "scoring = \"neg_log_loss\"\n",
    ")"
   ]
  },
  {
   "cell_type": "code",
   "execution_count": 84,
   "metadata": {},
   "outputs": [],
   "source": [
    "def status_print(optim_result):\n",
    "    \"\"\"Status callback durring bayesian hyperparameter search\"\"\"\n",
    "    # Get all the models tested so far in DataFrame format\n",
    "    all_models = pd.DataFrame(bayes_cv_tuner.cv_results_)    \n",
    "\n",
    "    # Get current parameters and the best parameters    \n",
    "    best_params = pd.Series(bayes_cv_tuner.best_params_)\n",
    "    print('Model #{}\\nBest ROC-AUC: {}\\nBest params: {}\\n'.format(\n",
    "        len(all_models),\n",
    "        np.round(bayes_cv_tuner.best_score_, 4),\n",
    "        bayes_cv_tuner.best_params_\n",
    "    ))"
   ]
  },
  {
   "cell_type": "code",
   "execution_count": null,
   "metadata": {},
   "outputs": [],
   "source": [
    "from skopt.space import Real\n",
    "from sklearn.model_selection import StratifiedKFold,GridSearchCV\n",
    "columnas = ['Bureaucratic_Code',\n",
    " 'Account_Name',\n",
    " 'Opportunity_Name',\n",
    " 'Opportunity_Owner',\n",
    " 'Last_Modified_By',\n",
    " 'Product_Family',\n",
    " 'Product_Name',\n",
    " 'Opportunity_Name_Planned_Time_Until_Deliver_mean',\n",
    " 'Opportunity_Name_Planned_Opportunity_Duration_mean',\n",
    " 'Product_Name_Planned_Time_Until_Deliver_mean',\n",
    " 'Product_Name_Planned_Opportunity_Duration_mean',\n",
    " 'Territory',\n",
    " 'Account_Owner',\n",
    " 'Account_Type',\n",
    " 'Opportunity_Type',\n",
    " 'Planned_Opportunity_Duration',\n",
    " 'Bureaucratic_Code_ASP_(converted)_std',\n",
    " 'Bureaucratic_Code_Total_Amount_mean',\n",
    " 'Bureaucratic_Code_Total_Product_Family_Region_Last_Month_mean',\n",
    " 'Bureaucratic_Code_Total_Product_Family_Region_Last_Month_std',\n",
    " 'Bureaucratic_Code_Total_Products_Region_Last_Week_std',\n",
    " 'Bureaucratic_Code_Total_Products_Region_Last_Month_mean',\n",
    " 'Bureaucratic_Code_Planned_Deliver_Duration_mean',\n",
    " 'Bureaucratic_Code_Planned_Deliver_Duration_std',\n",
    " 'Bureaucratic_Code_Actual_Opportunity_Duration_std',\n",
    " 'Bureaucratic_Code_Planned_Time_Until_Deliver_mean',\n",
    " 'Bureaucratic_Code_Planned_Time_Until_Deliver_std',\n",
    " 'Bureaucratic_Code_Planned_Opportunity_Duration_mean',\n",
    " 'Bureaucratic_Code_Product_Amount_Deviation_of_Product_Family_rate_std',\n",
    " 'Bureaucratic_Code_Opportunity_Duration_Ratio_std',\n",
    " 'Bureaucratic_Code_Opportunity_Total_Amount_Region_avg_std',\n",
    " 'Bureaucratic_Code_Opportunity_TRF_Region_std_Ratio_std',\n",
    " 'Bureaucratic_Code_Opportunity_Duration_by_Account_Type_std',\n",
    " 'Bureaucratic_Code_ASP_by_Billing_Country_mean_std',\n",
    " 'Bureaucratic_Code_Opportunity_Duration_by_Product_Family_mean_mean',\n",
    " 'Bureaucratic_Code_Buro_Approved_by_Product_Family_std',\n",
    " 'Account_Name_Planned_Opportunity_Duration_mean',\n",
    " 'Opportunity_Type_Planned_Time_Until_Deliver_mean',\n",
    " 'Opportunity_Type_Opportunity_Duration_by_Account_Type_mean',\n",
    " 'Last_Modified_By_Planned_Time_Until_Deliver_mean']\n",
    "mejor_score = 10000\n",
    "mejor_col = list(entrenamiento.columns)\n",
    "mejor_param = \"\"\n",
    "j = 0\n",
    "for i in columnas[::-1]:\n",
    "    bayes_cv_tuner = GridSearchCV(\n",
    "    estimator = skl.naive_bayes.GaussianNB(),\n",
    "    param_grid = {\n",
    "            \"var_smoothing\" : [i/100 for i in range(1,1000)],\n",
    "            \"priors\" : [[i/10,1-i/10] for i in range(10)]\n",
    "    },\n",
    "    cv = skl.model_selection.TimeSeriesSplit(),\n",
    "    n_jobs = 50,\n",
    "    verbose = 1,\n",
    "    refit = True\n",
    "    )   \n",
    "    if (j < len(columnas) - 1):\n",
    "        print(i)\n",
    "        entrenamiento = entrenamiento.drop(columns = [i])\n",
    "        test = test.drop(columns = [i])\n",
    "    resultCAT = bayes_cv_tuner.fit(entrenamiento, objetivo)\n",
    "    print(bayes_cv_tuner.best_score_)\n",
    "    print(list(entrenamiento.columns))\n",
    "    if (bayes_cv_tuner.best_score_ < mejor_score):\n",
    "        print(j)\n",
    "        mejor_score = bayes_cv_tuner.best_score_\n",
    "        mejor_param = bayes_cv_tuner.best_params_\n",
    "        mejor_col = list(entrenamiento.columns)\n",
    "    j+=1    "
   ]
  },
  {
   "cell_type": "code",
   "execution_count": null,
   "metadata": {},
   "outputs": [],
   "source": [
    "print(mejor_col)\n",
    "print(mejor_score)\n",
    "print(mejor_param)"
   ]
  },
  {
   "cell_type": "code",
   "execution_count": 107,
   "metadata": {},
   "outputs": [
    {
     "name": "stdout",
     "output_type": "stream",
     "text": [
      "Fitting 5 folds for each of 9990 candidates, totalling 49950 fits\n"
     ]
    },
    {
     "name": "stderr",
     "output_type": "stream",
     "text": [
      "[Parallel(n_jobs=50)]: Using backend LokyBackend with 50 concurrent workers.\n",
      "[Parallel(n_jobs=50)]: Done 100 tasks      | elapsed:    0.5s\n",
      "[Parallel(n_jobs=50)]: Done 600 tasks      | elapsed:    2.4s\n",
      "[Parallel(n_jobs=50)]: Done 1300 tasks      | elapsed:    5.1s\n",
      "[Parallel(n_jobs=50)]: Done 2200 tasks      | elapsed:    8.4s\n",
      "[Parallel(n_jobs=50)]: Done 3300 tasks      | elapsed:   12.6s\n",
      "[Parallel(n_jobs=50)]: Done 4600 tasks      | elapsed:   17.6s\n",
      "[Parallel(n_jobs=50)]: Done 6100 tasks      | elapsed:   23.3s\n",
      "[Parallel(n_jobs=50)]: Done 7800 tasks      | elapsed:   29.6s\n",
      "[Parallel(n_jobs=50)]: Done 9700 tasks      | elapsed:   36.7s\n",
      "[Parallel(n_jobs=50)]: Done 11800 tasks      | elapsed:   44.4s\n",
      "[Parallel(n_jobs=50)]: Done 14100 tasks      | elapsed:   52.7s\n",
      "[Parallel(n_jobs=50)]: Done 16600 tasks      | elapsed:  1.0min\n",
      "[Parallel(n_jobs=50)]: Done 19300 tasks      | elapsed:  1.2min\n",
      "[Parallel(n_jobs=50)]: Done 22200 tasks      | elapsed:  1.4min\n",
      "[Parallel(n_jobs=50)]: Done 25300 tasks      | elapsed:  1.6min\n",
      "[Parallel(n_jobs=50)]: Done 28600 tasks      | elapsed:  1.8min\n",
      "[Parallel(n_jobs=50)]: Done 32100 tasks      | elapsed:  2.0min\n",
      "[Parallel(n_jobs=50)]: Done 35800 tasks      | elapsed:  2.2min\n",
      "[Parallel(n_jobs=50)]: Done 39700 tasks      | elapsed:  2.4min\n",
      "[Parallel(n_jobs=50)]: Done 43800 tasks      | elapsed:  2.7min\n",
      "[Parallel(n_jobs=50)]: Done 48100 tasks      | elapsed:  3.0min\n",
      "[Parallel(n_jobs=50)]: Done 49950 out of 49950 | elapsed:  3.1min finished\n"
     ]
    }
   ],
   "source": [
    "resultCAT = bayes_cv_tuner.fit(entrenamiento, objetivo)"
   ]
  },
  {
   "cell_type": "code",
   "execution_count": 108,
   "metadata": {},
   "outputs": [
    {
     "name": "stdout",
     "output_type": "stream",
     "text": [
      "-0.6268685597616457\n",
      "{'priors': [0.4, 0.6], 'var_smoothing': 0.0001}\n"
     ]
    }
   ],
   "source": [
    "print(bayes_cv_tuner.best_score_)\n",
    "print(bayes_cv_tuner.best_params_)"
   ]
  },
  {
   "cell_type": "code",
   "execution_count": 109,
   "metadata": {},
   "outputs": [],
   "source": [
    "preds = bayes_cv_tuner.predict_proba(test.values)"
   ]
  },
  {
   "cell_type": "code",
   "execution_count": 110,
   "metadata": {},
   "outputs": [
    {
     "data": {
      "text/plain": [
       "0.6762985085698857"
      ]
     },
     "execution_count": 110,
     "metadata": {},
     "output_type": "execute_result"
    }
   ],
   "source": [
    "skl.metrics.log_loss(test_label,[p[1] for p in preds])"
   ]
  },
  {
   "cell_type": "code",
   "execution_count": 111,
   "metadata": {},
   "outputs": [],
   "source": [
    "res = pd.DataFrame(bayes_cv_tuner.cv_results_)\n",
    "res[\"mean_test_score\"] = -res[\"mean_test_score\"]"
   ]
  },
  {
   "cell_type": "code",
   "execution_count": 112,
   "metadata": {},
   "outputs": [],
   "source": [
    "res[\"param_priors_\"] = res[\"param_priors\"].transform(lambda x : x[0])"
   ]
  },
  {
   "cell_type": "code",
   "execution_count": 113,
   "metadata": {},
   "outputs": [],
   "source": [
    "res_var = res.loc[res[\"param_priors_\"] == 0.4]"
   ]
  },
  {
   "cell_type": "code",
   "execution_count": 121,
   "metadata": {},
   "outputs": [
    {
     "data": {
      "image/png": "[encoded data removed]",
      "text/plain": [
       "<Figure size 576x396 with 1 Axes>"
      ]
     },
     "metadata": {},
     "output_type": "display_data"
    }
   ],
   "source": [
    "from matplotlib import style\n",
    "plt.plot(res_var.param_var_smoothing.values,res_var.mean_test_score.values)\n",
    "plt.title(\"Evolución del Log-Loss variando Var_Smoothing\")\n",
    "plt.xlabel(\"Var_Smoothing\")\n",
    "plt.ylabel(\"Log-Loss\")\n",
    "style.use(\"seaborn\")\n",
    "plt.show()"
   ]
  },
  {
   "cell_type": "code",
   "execution_count": 115,
   "metadata": {},
   "outputs": [],
   "source": [
    "res_priors = res.loc[res[\"param_var_smoothing\"] == 0.0001]"
   ]
  },
  {
   "cell_type": "code",
   "execution_count": 116,
   "metadata": {},
   "outputs": [
    {
     "name": "stderr",
     "output_type": "stream",
     "text": [
      "<ipython-input-116-278efb5a23e4>:1: SettingWithCopyWarning: \n",
      "A value is trying to be set on a copy of a slice from a DataFrame.\n",
      "Try using .loc[row_indexer,col_indexer] = value instead\n",
      "\n",
      "See the caveats in the documentation: https://pandas.pydata.org/pandas-docs/stable/user_guide/indexing.html#returning-a-view-versus-a-copy\n",
      "  res_priors[\"param_priors_\"] = res_priors[\"param_priors\"].transform(lambda x : x[0])\n"
     ]
    }
   ],
   "source": [
    "res_priors[\"param_priors_\"] = res_priors[\"param_priors\"].transform(lambda x : x[0])"
   ]
  },
  {
   "cell_type": "code",
   "execution_count": 123,
   "metadata": {},
   "outputs": [
    {
     "data": {
      "image/png": "[encoded data removed]",
      "text/plain": [
       "<Figure size 576x396 with 1 Axes>"
      ]
     },
     "metadata": {},
     "output_type": "display_data"
    }
   ],
   "source": [
    "res_priors = res_priors.loc[res_priors.param_priors_ >= 0.1]\n",
    "plt.plot(res_priors.param_priors_.values,res_priors.mean_test_score.values)\n",
    "plt.title(\"Evolución del Log-Loss variando Priors\")\n",
    "plt.xlabel(\"Priors\")\n",
    "plt.ylabel(\"Log-Loss\")\n",
    "plt.show()"
   ]
  },
  {
   "cell_type": "code",
   "execution_count": null,
   "metadata": {},
   "outputs": [],
   "source": []
  }
 ],
 "metadata": {
  "kernelspec": {
   "display_name": "Python 3",
   "language": "python",
   "name": "python3"
  },
  "language_info": {
   "codemirror_mode": {
    "name": "ipython",
    "version": 3
   },
   "file_extension": ".py",
   "mimetype": "text/x-python",
   "name": "python",
   "nbconvert_exporter": "python",
   "pygments_lexer": "ipython3",
   "version": "3.9.1"
  }
 },
 "nbformat": 4,
 "nbformat_minor": 4
}
