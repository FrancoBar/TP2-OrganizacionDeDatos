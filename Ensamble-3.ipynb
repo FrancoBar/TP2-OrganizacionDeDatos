{
 "cells": [
  {
   "cell_type": "code",
   "execution_count": 1,
   "metadata": {},
   "outputs": [],
   "source": [
    "import sys\n",
    "import xgboost as xgb\n",
    "import pandas as pd\n",
    "import matplotlib.pyplot as plt\n",
    "import numpy as np\n",
    "import sklearn as skl\n",
    "import catboost as cb\n",
    "from sklearn.model_selection import train_test_split\n",
    "from sklearn.metrics import confusion_matrix\n",
    "from sklearn.metrics import accuracy_score\n",
    "from sklearn.metrics import classification_report\n",
    "from sklearn.neighbors import KNeighborsClassifier\n",
    "from sklearn.naive_bayes import GaussianNB\n",
    "from sklearn.svm import SVC\n",
    "from datetime import datetime\n",
    "from itertools import combinations"
   ]
  },
  {
   "cell_type": "code",
   "execution_count": 2,
   "metadata": {},
   "outputs": [],
   "source": [
    "PARAMETROS = {\n",
    "    'task_type' : 'CPU',\n",
    "    'has_time' : True,\n",
    "    'silent' : True,\n",
    "    'depth': 4,\n",
    "    'early_stopping_rounds': 2,\n",
    "    'iterations' : 100\n",
    "}"
   ]
  },
  {
   "cell_type": "code",
   "execution_count": 3,
   "metadata": {},
   "outputs": [],
   "source": [
    "#APERTURA ARCHIVOS\n",
    "test = pd.read_pickle(\"Archivos/Arboles_validacion.pkl\")\n",
    "prediccion_bayes   = pd.read_csv(\"Archivos/prediccion_naive_bayes_val.csv\")\n",
    "prediccion_arbol   = pd.read_csv(\"Archivos/prediccion_arbol_validacion.csv\")\n",
    "prediccion_red     = pd.read_csv(\"Archivos/prediccion_neurona_validacion.csv\")\n",
    "prediccion_bayes_test   = pd.read_csv(\"Archivos/prediccion_naive_bayes.csv\")\n",
    "prediccion_arbol_test   = pd.read_csv(\"Archivos/prediccion_arbol_test.csv\")\n",
    "prediccion_red_test     = pd.read_csv(\"Archivos/prediccion_neurona_test.csv\")"
   ]
  },
  {
   "cell_type": "code",
   "execution_count": 4,
   "metadata": {},
   "outputs": [],
   "source": [
    "#ORDENO ARCHIVOS PARA QUE COINCIDA OPPORTUNITY_ID\n",
    "test = test.sort_values('Opportunity_ID')\n",
    "\n",
    "prediccion_arbol = prediccion_arbol.sort_values('Opportunity_ID')\n",
    "prediccion_red   = prediccion_red.sort_values('Opportunity_ID')\n",
    "prediccion_bayes = prediccion_bayes.sort_values('Opportunity_ID')\n",
    "\n",
    "prediccion_arbol_test = prediccion_arbol_test.sort_values('Opportunity_ID')\n",
    "prediccion_red_test   = prediccion_red_test.sort_values('Opportunity_ID')\n",
    "prediccion_bayes_test = prediccion_bayes_test.sort_values('Opportunity_ID')\n",
    "\n",
    "test_label = test['Stage']"
   ]
  },
  {
   "cell_type": "code",
   "execution_count": 5,
   "metadata": {},
   "outputs": [
    {
     "data": {
      "text/plain": [
       "Opportunity_ID    4515\n",
       "Target            4515\n",
       "dtype: int64"
      ]
     },
     "execution_count": 5,
     "metadata": {},
     "output_type": "execute_result"
    }
   ],
   "source": [
    "prediccion_red.count()"
   ]
  },
  {
   "cell_type": "code",
   "execution_count": 6,
   "metadata": {},
   "outputs": [
    {
     "data": {
      "text/plain": [
       "Opportunity_ID    4515\n",
       "Target            4515\n",
       "dtype: int64"
      ]
     },
     "execution_count": 6,
     "metadata": {},
     "output_type": "execute_result"
    }
   ],
   "source": [
    "prediccion_arbol.count()"
   ]
  },
  {
   "cell_type": "code",
   "execution_count": 7,
   "metadata": {},
   "outputs": [],
   "source": [
    "#MAX\n",
    "def ensamble_max():\n",
    "    preds = prediccion_arbol['Target'].combine(prediccion_red['Target'], max, 0)\n",
    "    print('Logloss Max: ', skl.metrics.log_loss(test_label,preds))\n",
    "    preds = prediccion_arbol_test['Target'].combine(prediccion_red_test['Target'], max, 0)\n",
    "    return preds"
   ]
  },
  {
   "cell_type": "code",
   "execution_count": 8,
   "metadata": {},
   "outputs": [],
   "source": [
    "#MIN\n",
    "def ensamble_min():\n",
    "    preds = prediccion_arbol['Target'].combine(prediccion_red['Target'], min, 0)\n",
    "    print('Logloss Min: ', skl.metrics.log_loss(test_label,preds))\n",
    "    preds = prediccion_arbol_test['Target'].combine(prediccion_red_test['Target'], min, 0)\n",
    "    return preds"
   ]
  },
  {
   "cell_type": "code",
   "execution_count": 9,
   "metadata": {},
   "outputs": [],
   "source": [
    "#COMBINACION LINEAL\n",
    "def ensamble_cl():\n",
    "    min_a = -1\n",
    "    min_b = -1\n",
    "    min_logloss = 1000\n",
    "\n",
    "    for a in range(0,100):\n",
    "        for b in range(0,100):\n",
    "            if(a == 0 & b == 0): continue\n",
    "            preds = (a*prediccion_arbol['Target'] + b*prediccion_red['Target'])/(a+b)\n",
    "            logloss = skl.metrics.log_loss(test_label,preds)\n",
    "            if(logloss < min_logloss):\n",
    "                min_logloss = logloss\n",
    "                min_a = a\n",
    "                min_b = b\n",
    "    print(\"Logloss CL: \", min_logloss)\n",
    "    print(\"min_a: \", min_a)\n",
    "    print(\"min_b: \", min_b)\n",
    "    preds = (min_a*prediccion_arbol_test['Target'] + min_b*prediccion_red_test['Target'])/(min_a+min_b)\n",
    "    return preds"
   ]
  },
  {
   "cell_type": "code",
   "execution_count": 10,
   "metadata": {},
   "outputs": [],
   "source": [
    "#KNN\n",
    "def ensamble_knn():\n",
    "    temp = pd.DataFrame()\n",
    "    temp['Arbol'] = prediccion_arbol['Target']\n",
    "    temp['Red'] = prediccion_red['Target']\n",
    "    temp['Bayes'] = prediccion_bayes['Target']\n",
    "    temp['Stage'] = test_label\n",
    "    entrenamiento = temp.iloc[:4000,:]\n",
    "    validacion = temp.iloc[4001:,:]\n",
    "    entrenamiento_label = entrenamiento.pop('Stage')\n",
    "    classifier = KNeighborsClassifier(n_neighbors=300)\n",
    "    classifier.fit(entrenamiento, entrenamiento_label)\n",
    "    preds = classifier.predict_proba(validacion[['Arbol','Red','Bayes']])\n",
    "    print(\"Logloss KNN: \", skl.metrics.log_loss(validacion['Stage'],preds))\n",
    "\n",
    "    classifier.fit(temp[['Arbol','Red','Bayes']], temp['Stage'])\n",
    "    temp = pd.DataFrame()\n",
    "    temp['Arbol'] = prediccion_arbol_test['Target']\n",
    "    temp['Red'] = prediccion_red_test['Target']\n",
    "    temp['Bayes'] = prediccion_bayes_test['Target']\n",
    "    preds = classifier.predict_proba(temp)\n",
    "    preds = pd.Series([p[1] for p in preds])\n",
    "    return preds"
   ]
  },
  {
   "cell_type": "code",
   "execution_count": 18,
   "metadata": {},
   "outputs": [],
   "source": [
    "#Catboost\n",
    "def ensamble_catboost():\n",
    "    temp = pd.DataFrame()\n",
    "    temp['Arbol'] = prediccion_arbol['Target']\n",
    "    temp['Red'] = prediccion_red['Target']\n",
    "    temp['Bayes'] = prediccion_bayes['Target']\n",
    "    temp['Stage'] = test_label\n",
    "    entrenamiento = temp.iloc[:4000,:]\n",
    "    validacion = temp.iloc[4001:,:]\n",
    "    entrenamiento_label = entrenamiento.pop('Stage')\n",
    "    entrenamiento_pool = cb.Pool(entrenamiento, entrenamiento_label)\n",
    "    test_pool = cb.Pool(validacion)\n",
    "    \n",
    "    model = cb.CatBoostClassifier(**PARAMETROS)\n",
    "    model.fit(entrenamiento_pool)\n",
    "    preds = model.predict_proba(test_pool)\n",
    "    preds = pd.Series([p[1] for p in preds])\n",
    "    print(\"Logloss Cat: \", skl.metrics.log_loss(validacion['Stage'],preds))\n",
    "    \n",
    "    \n",
    "    model.fit(temp[['Arbol','Red','Bayes']], temp['Stage'])\n",
    "    temp = pd.DataFrame()\n",
    "    temp['Arbol'] = prediccion_arbol_test['Target']\n",
    "    temp['Red'] = prediccion_red_test['Target']\n",
    "    temp['Bayes'] = prediccion_bayes_test['Target']\n",
    "    test_pool = cb.Pool(temp)\n",
    "    preds = model.predict_proba(test_pool)\n",
    "    preds = pd.Series([p[1] for p in preds]) \n",
    "    return preds\n",
    "\n",
    "def ensamble_naive_bayes():\n",
    "    temp = pd.DataFrame()\n",
    "    temp['Arbol'] = prediccion_arbol['Target']\n",
    "    temp['Red'] = prediccion_red['Target']\n",
    "    temp['Stage'] = test_label\n",
    "    entrenamiento = temp.iloc[:4000,:]\n",
    "    validacion = temp.iloc[4001:,:]\n",
    "    entrenamiento_label = entrenamiento.pop('Stage')\n",
    "    \n",
    "    model = GaussianNB(var_smoothing =0.5)\n",
    "    model.fit(entrenamiento,entrenamiento_label)\n",
    "    preds = model.predict_proba(validacion.drop(columns=[\"Stage\"]))\n",
    "    preds = pd.Series([p[1] for p in preds])\n",
    "    print(\"Log   Bayes: \", skl.metrics.log_loss(validacion['Stage'],preds))\n",
    "    \n",
    "    model.fit(temp[['Arbol','Red']], temp['Stage'])\n",
    "    temp = pd.DataFrame()\n",
    "    temp['Arbol'] = prediccion_arbol_test['Target']\n",
    "    temp['Red'] = prediccion_red_test['Target']\n",
    "    preds = model.predict_proba(temp)\n",
    "    preds = pd.Series([p[1] for p in preds]) \n",
    "    return preds\n",
    "\n",
    "def ensamble_SVC():\n",
    "    temp = pd.DataFrame()\n",
    "    temp['Arbol'] = prediccion_arbol['Target']\n",
    "    temp['Red'] = prediccion_red['Target']\n",
    "    temp['Stage'] = test_label\n",
    "    entrenamiento = temp.iloc[:4000,:]\n",
    "    validacion = temp.iloc[4001:,:]\n",
    "    entrenamiento_label = entrenamiento.pop('Stage')\n",
    "    \n",
    "    model = SVC(probability = True)\n",
    "    model.fit(entrenamiento,entrenamiento_label)\n",
    "    preds = model.predict_proba(validacion.drop(columns=[\"Stage\"]))\n",
    "    preds = pd.Series([p[1] for p in preds])\n",
    "    print(\"Logloss SVC: \", skl.metrics.log_loss(validacion['Stage'],preds))\n",
    "    \n",
    "    model.fit(temp[['Arbol','Red']], temp['Stage'])\n",
    "    temp = pd.DataFrame()\n",
    "    temp['Arbol'] = prediccion_arbol_test['Target']\n",
    "    temp['Red'] = prediccion_red_test['Target']\n",
    "    preds = model.predict_proba(temp)\n",
    "    preds = pd.Series([p[1] for p in preds]) \n",
    "    return preds"
   ]
  },
  {
   "cell_type": "code",
   "execution_count": 19,
   "metadata": {},
   "outputs": [
    {
     "name": "stdout",
     "output_type": "stream",
     "text": [
      "Logloss KNN:  0.14294883352518392\n",
      "Logloss Cat:  0.1417216878053148\n",
      "Log   Bayes:  0.14612233063683652\n",
      "Logloss SVC:  0.15320263997764252\n"
     ]
    }
   ],
   "source": [
    "#CALCULO Y SELECCION DE PREDS\n",
    "#preds_max = ensamble_max()\n",
    "#preds_min = ensamble_min()\n",
    "#preds_cl  = ensamble_cl()\n",
    "preds_knn = ensamble_knn()\n",
    "preds_catboost = ensamble_catboost()\n",
    "preds_bayes = ensamble_naive_bayes()\n",
    "preds_svc = ensamble_SVC()"
   ]
  },
  {
   "cell_type": "code",
   "execution_count": 15,
   "metadata": {},
   "outputs": [],
   "source": [
    "#GUARDADO DE ARCHIVOS\n",
    "preds = preds_catboost\n",
    "resultados = pd.DataFrame()\n",
    "resultados['Opportunity_ID'] = prediccion_arbol_test['Opportunity_ID']\n",
    "resultados['Target'] = pd.Series(preds)  \n",
    "resultados.to_csv(\"Archivos/ensamble-red-bayes-cat.csv\", index=False)"
   ]
  },
  {
   "cell_type": "code",
   "execution_count": 14,
   "metadata": {},
   "outputs": [
    {
     "ename": "NameError",
     "evalue": "name 'alto' is not defined",
     "output_type": "error",
     "traceback": [
      "\u001b[1;31m---------------------------------------------------------------------------\u001b[0m",
      "\u001b[1;31mNameError\u001b[0m                                 Traceback (most recent call last)",
      "\u001b[1;32m<ipython-input-14-125a4a042e79>\u001b[0m in \u001b[0;36m<module>\u001b[1;34m\u001b[0m\n\u001b[1;32m----> 1\u001b[1;33m \u001b[0malto\u001b[0m\u001b[1;33m\u001b[0m\u001b[1;33m\u001b[0m\u001b[0m\n\u001b[0m",
      "\u001b[1;31mNameError\u001b[0m: name 'alto' is not defined"
     ]
    }
   ],
   "source": [
    "alto"
   ]
  },
  {
   "cell_type": "code",
   "execution_count": null,
   "metadata": {},
   "outputs": [],
   "source": [
    "#REFINAMIENTO DE CATBOOST\n",
    "#En caso de igualar/superar a KNN\n",
    "\n",
    "from catboost import CatBoostClassifier\n",
    "from skopt import BayesSearchCV\n",
    "from skopt.space import Real\n",
    "from sklearn.model_selection import StratifiedKFold\n",
    "\n",
    "temp = pd.DataFrame()\n",
    "temp['Arbol'] = prediccion_arbol['Target']\n",
    "temp['Red'] = prediccion_red['Target']\n",
    "temp['Bayes'] = prediccion_bayes['Target']\n",
    "temp['Stage'] = test_label\n",
    "entrenamiento = temp.iloc[:4000,:]\n",
    "entrenamiento_label = entrenamiento.pop('Stage')\n",
    "validacion = temp.iloc[4001:,:]\n",
    "    \n",
    "# Classifier\n",
    "bayes_cv_tuner = BayesSearchCV(\n",
    "estimator = CatBoostClassifier(\n",
    "silent=True,task_type=\"GPU\", devices='0:1', bootstrap_type='MVS'\n",
    "),\n",
    "search_spaces = {\n",
    "        \"iterations\" : (2, 10),\n",
    "        'learning_rate': Real(low=0.01, high=1, prior='log-uniform'),\n",
    "        \"random_seed\" : (1,40000),\n",
    "        \"l2_leaf_reg\" : Real(low=1e-9, high=1000, prior='log-uniform'),\n",
    "        'subsample': Real(low=0.01, high=1, prior='uniform'),\n",
    "        \"random_strength\" : Real(low=1e-9, high=1000, prior='log-uniform'),\n",
    "        'depth': (1, 10),\n",
    "        #\"rsm\" : Real(low=0.01, high=1, prior='uniform'),\n",
    "        \"early_stopping_rounds\" : (1, 5),\n",
    "        \"border_count\" : (1,65535),\n",
    "        \"bagging_temperature\" : Real(low=1e-9,high=1000,prior='log-uniform'),\n",
    "        \"scale_pos_weight\" : Real(low = 0.01,high = 1.0,prior=\"uniform\")\n",
    "},\n",
    "cv = skl.model_selection.TimeSeriesSplit(),\n",
    "n_jobs = 1,\n",
    "n_iter = 6,\n",
    "verbose = 1,\n",
    "refit = True,\n",
    "random_state = 72\n",
    ")\n",
    "\n",
    "def status_print(optim_result):\n",
    "    \"\"\"Status callback durring bayesian hyperparameter search\"\"\"\n",
    "    # Get all the models tested so far in DataFrame format\n",
    "    all_models = pd.DataFrame(bayes_cv_tuner.cv_results_)    \n",
    "\n",
    "    # Get current parameters and the best parameters    \n",
    "    best_params = pd.Series(bayes_cv_tuner.best_params_)\n",
    "    print('Model #{}\\nBest ROC-AUC: {}\\nBest params: {}\\n'.format(\n",
    "        len(all_models),\n",
    "        np.round(bayes_cv_tuner.best_score_, 4),\n",
    "        bayes_cv_tuner.best_params_\n",
    "    ))\n",
    "    \n",
    "resultCAT = bayes_cv_tuner.fit(entrenamiento, entrenamiento_label, callback=status_print)"
   ]
  },
  {
   "cell_type": "code",
   "execution_count": null,
   "metadata": {},
   "outputs": [],
   "source": []
  }
 ],
 "metadata": {
  "kernelspec": {
   "display_name": "Python 3",
   "language": "python",
   "name": "python3"
  },
  "language_info": {
   "codemirror_mode": {
    "name": "ipython",
    "version": 3
   },
   "file_extension": ".py",
   "mimetype": "text/x-python",
   "name": "python",
   "nbconvert_exporter": "python",
   "pygments_lexer": "ipython3",
   "version": "3.8.3"
  }
 },
 "nbformat": 4,
 "nbformat_minor": 4
}
