{
 "cells": [
  {
   "cell_type": "markdown",
   "id": "identical-shelter",
   "metadata": {},
   "source": [
    "# Generacion de un archivo de entrega a Kaggle"
   ]
  },
  {
   "cell_type": "code",
   "execution_count": 18,
   "id": "metallic-madonna",
   "metadata": {},
   "outputs": [],
   "source": [
    "import numpy as np\n",
    "import pandas as pd\n",
    "import Utilidades as ut\n",
    "import keras\n",
    "import tensorflow as tf"
   ]
  },
  {
   "cell_type": "markdown",
   "id": "inappropriate-pride",
   "metadata": {},
   "source": [
    "### Definicion de funciones generales"
   ]
  },
  {
   "cell_type": "code",
   "execution_count": 19,
   "id": "parliamentary-wyoming",
   "metadata": {},
   "outputs": [],
   "source": [
    "def predict_and_save(model, x, df_entrega, path):\n",
    "    y_pred = model.predict(x).flatten()\n",
    "    #Armamos el df de entrega\n",
    "    df_entrega['Target'] = pd.Series(y_pred)\n",
    "    df_entrega = df_entrega.groupby(['Opportunity_ID']).agg({'Target' : 'mean'}).reset_index()\n",
    "    df_entrega['Target'] = (df_entrega['Target'] > 0.5).astype(int)\n",
    "    #Guardamos en un csv\n",
    "    df_entrega.to_csv(path, index=False)"
   ]
  },
  {
   "cell_type": "markdown",
   "id": "enclosed-adaptation",
   "metadata": {},
   "source": [
    "### Preparacion de los datos"
   ]
  },
  {
   "cell_type": "code",
   "execution_count": 20,
   "id": "funky-college",
   "metadata": {},
   "outputs": [
    {
     "name": "stderr",
     "output_type": "stream",
     "text": [
      "/home/julian/anaconda3/envs/tensorflow/lib/python3.6/site-packages/category_encoders/utils.py:21: FutureWarning: is_categorical is deprecated and will be removed in a future version.  Use is_categorical_dtype instead\n",
      "  elif pd.api.types.is_categorical(cols):\n"
     ]
    }
   ],
   "source": [
    "x_test = pd.read_pickle(\"Archivos/Neuronales_test.pkl\")\n",
    "x_train = pd.read_pickle(\"Archivos/Neuronales_entrenamiento.pkl\")\n",
    "\n",
    "x_train, y_train = ut.split_labels(x_train)\n",
    "\n",
    "df_entrega = x_test[['Opportunity_ID']]\n",
    "x_test = x_test.drop(columns=['Opportunity_ID'])\n",
    "\n",
    "#Convertimos las fechas a numeros (cantidad de dias transcurridos) y luego las normalizamos\n",
    "x_test = ut.conversion_fechas(x_test)\n",
    "x_train, x_test = ut.codificar_categoricas(x_train, y_train, x_test, modo='catboost')\n",
    "x_test = ut.normalizacion_numericas(x_test, modo='normalizacion')\n",
    "\n",
    "#Convertimos los df a vectores\n",
    "x_vector = ut.df_a_vector(x_test)\n"
   ]
  },
  {
   "cell_type": "code",
   "execution_count": 21,
   "id": "about-intro",
   "metadata": {},
   "outputs": [
    {
     "data": {
      "text/html": [
       "<div>\n",
       "<style scoped>\n",
       "    .dataframe tbody tr th:only-of-type {\n",
       "        vertical-align: middle;\n",
       "    }\n",
       "\n",
       "    .dataframe tbody tr th {\n",
       "        vertical-align: top;\n",
       "    }\n",
       "\n",
       "    .dataframe thead th {\n",
       "        text-align: right;\n",
       "    }\n",
       "</style>\n",
       "<table border=\"1\" class=\"dataframe\">\n",
       "  <thead>\n",
       "    <tr style=\"text-align: right;\">\n",
       "      <th></th>\n",
       "      <th>Opportunity_ID</th>\n",
       "    </tr>\n",
       "  </thead>\n",
       "  <tbody>\n",
       "    <tr>\n",
       "      <th>0</th>\n",
       "      <td>11223</td>\n",
       "    </tr>\n",
       "    <tr>\n",
       "      <th>1</th>\n",
       "      <td>11223</td>\n",
       "    </tr>\n",
       "    <tr>\n",
       "      <th>2</th>\n",
       "      <td>11223</td>\n",
       "    </tr>\n",
       "  </tbody>\n",
       "</table>\n",
       "</div>"
      ],
      "text/plain": [
       "   Opportunity_ID\n",
       "0           11223\n",
       "1           11223\n",
       "2           11223"
      ]
     },
     "execution_count": 21,
     "metadata": {},
     "output_type": "execute_result"
    }
   ],
   "source": [
    "df_entrega.head(3)"
   ]
  },
  {
   "cell_type": "markdown",
   "id": "modular-whole",
   "metadata": {},
   "source": [
    "## Modelos"
   ]
  },
  {
   "cell_type": "code",
   "execution_count": 22,
   "id": "placed-thriller",
   "metadata": {},
   "outputs": [],
   "source": [
    "#Lista de los modelos disponibles, reemplazar en la variable de abajo para elegir uno\n",
    "model_list = ['Neural_Network']\n",
    "\n",
    "model_name = 'Neural_Network'\n",
    "path = 'Entrega_Neuronales.csv'\n",
    "\n",
    "model = None\n",
    "\n",
    "# Seguramente se puede hacer de otra forma mas 'python'\n",
    "\n",
    "if (model_name == 'Neural_Network'):\n",
    "    model = keras.models.load_model('Redes_Neuronales/Neuronales_Mejor_Modelo.hdf5')\n",
    "\n",
    "predict_and_save(model, x_vector, df_entrega, path=path)"
   ]
  },
  {
   "cell_type": "code",
   "execution_count": null,
   "id": "falling-assault",
   "metadata": {},
   "outputs": [],
   "source": []
  }
 ],
 "metadata": {
  "kernelspec": {
   "display_name": "Python 3",
   "language": "python",
   "name": "python3"
  },
  "language_info": {
   "codemirror_mode": {
    "name": "ipython",
    "version": 3
   },
   "file_extension": ".py",
   "mimetype": "text/x-python",
   "name": "python",
   "nbconvert_exporter": "python",
   "pygments_lexer": "ipython3",
   "version": "3.6.12"
  }
 },
 "nbformat": 4,
 "nbformat_minor": 5
}
