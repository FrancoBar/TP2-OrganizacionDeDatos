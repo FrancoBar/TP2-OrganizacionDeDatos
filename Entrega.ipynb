{
 "cells": [
  {
   "cell_type": "markdown",
   "id": "talented-evolution",
   "metadata": {},
   "source": [
    "# Generacion de un archivo de entrega a Kaggle"
   ]
  },
  {
   "cell_type": "code",
   "execution_count": 12,
   "id": "greenhouse-asset",
   "metadata": {},
   "outputs": [],
   "source": [
    "import numpy as np\n",
    "import pandas as pd\n",
    "import Utilidades as ut\n",
    "import keras\n",
    "import tensorflow as tf\n",
    "from Modelos import my_relu\n",
    "\n",
    "#Si se desea realizar una prediccion con el set de validacion setear a False\n",
    "ENTREGA = True"
   ]
  },
  {
   "cell_type": "markdown",
   "id": "ruled-pottery",
   "metadata": {},
   "source": [
    "### Definicion de funciones generales"
   ]
  },
  {
   "cell_type": "code",
   "execution_count": 13,
   "id": "crude-browse",
   "metadata": {},
   "outputs": [],
   "source": [
    "def predict_and_save(model, x, df_entrega, path):\n",
    "    y_pred = model.predict(x).flatten()\n",
    "    #Armamos el df de entrega\n",
    "    df_entrega['Target'] = pd.Series(y_pred)\n",
    "    if ENTREGA:\n",
    "        df_entrega = df_entrega.groupby(['Opportunity_ID']).agg({'Target' : 'mean'}).reset_index()\n",
    "    #df_entrega['Target'] = (df_entrega['Target'] > 0.5).astype(int)  Aca estariamos realizando una prediccion de categoria, sin probabilidades.\n",
    "    #Guardamos en un csv\n",
    "    df_entrega.to_csv(path, index=False)"
   ]
  },
  {
   "cell_type": "markdown",
   "id": "ambient-avatar",
   "metadata": {},
   "source": [
    "### Preparacion de los datos"
   ]
  },
  {
   "cell_type": "code",
   "execution_count": 14,
   "id": "atlantic-welcome",
   "metadata": {},
   "outputs": [
    {
     "name": "stderr",
     "output_type": "stream",
     "text": [
      "/home/julian/anaconda3/envs/tensorflow/lib/python3.6/site-packages/category_encoders/utils.py:21: FutureWarning: is_categorical is deprecated and will be removed in a future version.  Use is_categorical_dtype instead\n",
      "  elif pd.api.types.is_categorical(cols):\n"
     ]
    }
   ],
   "source": [
    "x_train = pd.read_pickle(\"Archivos/Neuronales_entrenamiento.pkl\")\n",
    "if ENTREGA:\n",
    "    x_test = pd.read_pickle(\"Archivos/Neuronales_test.pkl\")\n",
    "else:\n",
    "    x_test = pd.read_pickle(\"Archivos/Neuronales_validacion.pkl\")\n",
    "    x_test = x_test.drop(columns=['Stage'])\n",
    "\n",
    "\n",
    "####Esto es necesario si no deseamos la columna Opportunity_Created_Date.\n",
    "\n",
    "x_train = x_train.drop(columns=['Opportunity_Created_Date'])\n",
    "x_test = x_test.drop(columns=['Opportunity_Created_Date'])\n",
    "    \n",
    "    \n",
    "x_train, y_train = ut.split_labels(x_train)\n",
    "\n",
    "df_entrega = x_test[['Opportunity_ID']]\n",
    "x_test = x_test.drop(columns=['Opportunity_ID'])\n",
    "\n",
    "#Convertimos las fechas a numeros (cantidad de dias transcurridos) y luego las normalizamos\n",
    "x_test = ut.conversion_fechas(x_test)\n",
    "x_train, x_test = ut.codificar_categoricas(x_train, y_train, x_test, modo='catboost')\n",
    "x_test = ut.normalizacion_numericas(x_test, modo='normalizacion')\n",
    "\n",
    "#Convertimos los df a vectores\n",
    "x_vector = ut.df_a_vector(x_test)\n"
   ]
  },
  {
   "cell_type": "code",
   "execution_count": 15,
   "id": "beginning-render",
   "metadata": {},
   "outputs": [
    {
     "data": {
      "text/html": [
       "<div>\n",
       "<style scoped>\n",
       "    .dataframe tbody tr th:only-of-type {\n",
       "        vertical-align: middle;\n",
       "    }\n",
       "\n",
       "    .dataframe tbody tr th {\n",
       "        vertical-align: top;\n",
       "    }\n",
       "\n",
       "    .dataframe thead th {\n",
       "        text-align: right;\n",
       "    }\n",
       "</style>\n",
       "<table border=\"1\" class=\"dataframe\">\n",
       "  <thead>\n",
       "    <tr style=\"text-align: right;\">\n",
       "      <th></th>\n",
       "      <th>Opportunity_ID</th>\n",
       "    </tr>\n",
       "  </thead>\n",
       "  <tbody>\n",
       "    <tr>\n",
       "      <th>0</th>\n",
       "      <td>11223</td>\n",
       "    </tr>\n",
       "    <tr>\n",
       "      <th>1</th>\n",
       "      <td>11223</td>\n",
       "    </tr>\n",
       "    <tr>\n",
       "      <th>2</th>\n",
       "      <td>11224</td>\n",
       "    </tr>\n",
       "  </tbody>\n",
       "</table>\n",
       "</div>"
      ],
      "text/plain": [
       "   Opportunity_ID\n",
       "0           11223\n",
       "1           11223\n",
       "2           11224"
      ]
     },
     "execution_count": 15,
     "metadata": {},
     "output_type": "execute_result"
    }
   ],
   "source": [
    "df_entrega.head(3)"
   ]
  },
  {
   "cell_type": "code",
   "execution_count": 16,
   "id": "tested-edwards",
   "metadata": {},
   "outputs": [
    {
     "data": {
      "text/plain": [
       "(2551, 10)"
      ]
     },
     "execution_count": 16,
     "metadata": {},
     "output_type": "execute_result"
    }
   ],
   "source": [
    "x_test.shape"
   ]
  },
  {
   "cell_type": "markdown",
   "id": "allied-communications",
   "metadata": {},
   "source": [
    "## Modelos"
   ]
  },
  {
   "cell_type": "code",
   "execution_count": 17,
   "id": "wireless-performance",
   "metadata": {},
   "outputs": [],
   "source": [
    "#Lista de los modelos disponibles, reemplazar en la variable de abajo para elegir uno\n",
    "model_list = ['Neuronales']\n",
    "\n",
    "model_name = 'Neuronales'\n",
    "if ENTREGA:\n",
    "    path = 'Entrega_' + model_name + '.csv'\n",
    "else:\n",
    "    path = 'Prediccion_' + model_name + '.csv'\n",
    "\n",
    "model = None\n",
    "\n",
    "# Seguramente se puede hacer de otra forma mas 'python'\n",
    "\n",
    "if (model_name == 'Neuronales'):\n",
    "    model = keras.models.load_model('Redes_Neuronales/Neuronales_Mejor_Modelo.hdf5')\n",
    "\n",
    "predict_and_save(model, x_vector, df_entrega, path=path)"
   ]
  },
  {
   "cell_type": "code",
   "execution_count": null,
   "id": "inner-competition",
   "metadata": {},
   "outputs": [],
   "source": []
  }
 ],
 "metadata": {
  "kernelspec": {
   "display_name": "Python 3",
   "language": "python",
   "name": "python3"
  },
  "language_info": {
   "codemirror_mode": {
    "name": "ipython",
    "version": 3
   },
   "file_extension": ".py",
   "mimetype": "text/x-python",
   "name": "python",
   "nbconvert_exporter": "python",
   "pygments_lexer": "ipython3",
   "version": "3.6.12"
  }
 },
 "nbformat": 4,
 "nbformat_minor": 5
}
