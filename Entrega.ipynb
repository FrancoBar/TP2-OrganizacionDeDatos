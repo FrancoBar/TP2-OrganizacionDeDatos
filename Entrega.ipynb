{
 "cells": [
  {
   "cell_type": "markdown",
   "id": "bizarre-lithuania",
   "metadata": {},
   "source": [
    "# Generacion de un archivo de entrega a Kaggle"
   ]
  },
  {
   "cell_type": "code",
   "execution_count": 30,
   "id": "grand-inflation",
   "metadata": {},
   "outputs": [],
   "source": [
    "import numpy as np\n",
    "import pandas as pd\n",
    "import Utilidades as ut\n",
    "import keras\n",
    "import tensorflow as tf\n",
    "from Modelos import my_relu\n",
    "\n",
    "#Si se desea realizar una prediccion con el set de validacion setear a False\n",
    "ENTREGA = True"
   ]
  },
  {
   "cell_type": "markdown",
   "id": "exempt-support",
   "metadata": {},
   "source": [
    "### Definicion de funciones generales"
   ]
  },
  {
   "cell_type": "code",
   "execution_count": 31,
   "id": "divine-ideal",
   "metadata": {},
   "outputs": [],
   "source": [
    "def predict_and_save(model, x, df_entrega, path):\n",
    "    y_pred = model.predict(x).flatten()\n",
    "    #Armamos el df de entrega\n",
    "    df_entrega['Target'] = pd.Series(y_pred)\n",
    "    if ENTREGA:\n",
    "        df_entrega = df_entrega.groupby(['Opportunity_ID']).agg({'Target' : 'mean'}).reset_index()\n",
    "    #df_entrega['Target'] = (df_entrega['Target'] > 0.5).astype(int)  Aca estariamos realizando una prediccion de categoria, sin probabilidades.\n",
    "    #Guardamos en un csv\n",
    "    df_entrega.to_csv(path, index=False)"
   ]
  },
  {
   "cell_type": "markdown",
   "id": "corresponding-gamma",
   "metadata": {},
   "source": [
    "### Preparacion de los datos"
   ]
  },
  {
   "cell_type": "code",
   "execution_count": 32,
   "id": "preliminary-activity",
   "metadata": {},
   "outputs": [
    {
     "name": "stderr",
     "output_type": "stream",
     "text": [
      "/home/julian/anaconda3/envs/tensorflow/lib/python3.6/site-packages/category_encoders/utils.py:21: FutureWarning: is_categorical is deprecated and will be removed in a future version.  Use is_categorical_dtype instead\n",
      "  elif pd.api.types.is_categorical(cols):\n"
     ]
    }
   ],
   "source": [
    "x_train = pd.read_pickle(\"Archivos/Neuronales_entrenamiento.pkl\")\n",
    "if ENTREGA:\n",
    "    x_test = pd.read_pickle(\"Archivos/Neuronales_test.pkl\")\n",
    "else:\n",
    "    x_test = pd.read_pickle(\"Archivos/Neuronales_validacion.pkl\")\n",
    "    x_test = x_test.drop(columns=['Stage'])\n",
    "\n",
    "\n",
    "####Esto es necesario si no deseamos la columna Opportunity_Created_Date.\n",
    "\n",
    "#x_train = x_train.drop(columns=['Opportunity_Created_Date'])\n",
    "#x_test = x_test.drop(columns=['Opportunity_Created_Date'])\n",
    "    \n",
    "    \n",
    "x_train, y_train = ut.split_labels(x_train)\n",
    "\n",
    "df_entrega = x_test[['Opportunity_ID']]\n",
    "x_test = x_test.drop(columns=['Opportunity_ID'])\n",
    "\n",
    "#Convertimos las fechas a numeros (cantidad de dias transcurridos) y luego las normalizamos\n",
    "x_test = ut.conversion_fechas(x_test)\n",
    "x_train, x_test = ut.codificar_categoricas(x_train, y_train, x_test, modo='catboost')\n",
    "x_test = ut.normalizacion_numericas(x_test, modo='normalizacion')\n",
    "\n",
    "#Convertimos los df a vectores\n",
    "x_vector = ut.df_a_vector(x_test)\n"
   ]
  },
  {
   "cell_type": "code",
   "execution_count": 33,
   "id": "southeast-pakistan",
   "metadata": {},
   "outputs": [
    {
     "data": {
      "text/html": [
       "<div>\n",
       "<style scoped>\n",
       "    .dataframe tbody tr th:only-of-type {\n",
       "        vertical-align: middle;\n",
       "    }\n",
       "\n",
       "    .dataframe tbody tr th {\n",
       "        vertical-align: top;\n",
       "    }\n",
       "\n",
       "    .dataframe thead th {\n",
       "        text-align: right;\n",
       "    }\n",
       "</style>\n",
       "<table border=\"1\" class=\"dataframe\">\n",
       "  <thead>\n",
       "    <tr style=\"text-align: right;\">\n",
       "      <th></th>\n",
       "      <th>Opportunity_ID</th>\n",
       "    </tr>\n",
       "  </thead>\n",
       "  <tbody>\n",
       "    <tr>\n",
       "      <th>0</th>\n",
       "      <td>11223</td>\n",
       "    </tr>\n",
       "    <tr>\n",
       "      <th>1</th>\n",
       "      <td>11223</td>\n",
       "    </tr>\n",
       "    <tr>\n",
       "      <th>2</th>\n",
       "      <td>11224</td>\n",
       "    </tr>\n",
       "  </tbody>\n",
       "</table>\n",
       "</div>"
      ],
      "text/plain": [
       "   Opportunity_ID\n",
       "0           11223\n",
       "1           11223\n",
       "2           11224"
      ]
     },
     "execution_count": 33,
     "metadata": {},
     "output_type": "execute_result"
    }
   ],
   "source": [
    "df_entrega.head(3)"
   ]
  },
  {
   "cell_type": "code",
   "execution_count": 34,
   "id": "widespread-institution",
   "metadata": {},
   "outputs": [
    {
     "data": {
      "text/html": [
       "<div>\n",
       "<style scoped>\n",
       "    .dataframe tbody tr th:only-of-type {\n",
       "        vertical-align: middle;\n",
       "    }\n",
       "\n",
       "    .dataframe tbody tr th {\n",
       "        vertical-align: top;\n",
       "    }\n",
       "\n",
       "    .dataframe thead th {\n",
       "        text-align: right;\n",
       "    }\n",
       "</style>\n",
       "<table border=\"1\" class=\"dataframe\">\n",
       "  <thead>\n",
       "    <tr style=\"text-align: right;\">\n",
       "      <th></th>\n",
       "      <th>Opportunity_Name</th>\n",
       "      <th>Planned_Opportunity_Duration</th>\n",
       "      <th>Account_Name</th>\n",
       "      <th>Product_Name</th>\n",
       "      <th>Planned_Time_Until_Deliver</th>\n",
       "      <th>Opportunity_Owner</th>\n",
       "      <th>Last_Modified_By</th>\n",
       "      <th>Bureaucratic_Code</th>\n",
       "      <th>Product_Family</th>\n",
       "      <th>Opportunity_Type</th>\n",
       "      <th>Total_Amount(USD)</th>\n",
       "      <th>Territory</th>\n",
       "      <th>Account_Owner</th>\n",
       "      <th>Account_Type</th>\n",
       "      <th>Opportunity_Created_Date</th>\n",
       "      <th>Planned_Deliver_Duration</th>\n",
       "      <th>Billing_Country</th>\n",
       "      <th>Total_Amount_Currency</th>\n",
       "      <th>Product_Amount_Deviation_of_Product_Family_rate</th>\n",
       "      <th>Opportunity_TRF_Region_std_Ratio</th>\n",
       "    </tr>\n",
       "  </thead>\n",
       "  <tbody>\n",
       "    <tr>\n",
       "      <th>0</th>\n",
       "      <td>-1.0</td>\n",
       "      <td>-0.96</td>\n",
       "      <td>0.7</td>\n",
       "      <td>0.37</td>\n",
       "      <td>-0.84</td>\n",
       "      <td>0.37</td>\n",
       "      <td>-1.06</td>\n",
       "      <td>0.45</td>\n",
       "      <td>1.22</td>\n",
       "      <td>0.51</td>\n",
       "      <td>0.41</td>\n",
       "      <td>0.4</td>\n",
       "      <td>0.31</td>\n",
       "      <td>0.99</td>\n",
       "      <td>-1.79</td>\n",
       "      <td>-0.6</td>\n",
       "      <td>-0.66</td>\n",
       "      <td>-0.74</td>\n",
       "      <td>0.60</td>\n",
       "      <td>-0.08</td>\n",
       "    </tr>\n",
       "    <tr>\n",
       "      <th>1</th>\n",
       "      <td>-1.0</td>\n",
       "      <td>-0.97</td>\n",
       "      <td>0.7</td>\n",
       "      <td>0.37</td>\n",
       "      <td>-0.85</td>\n",
       "      <td>0.37</td>\n",
       "      <td>-1.06</td>\n",
       "      <td>0.45</td>\n",
       "      <td>1.22</td>\n",
       "      <td>0.51</td>\n",
       "      <td>0.41</td>\n",
       "      <td>0.4</td>\n",
       "      <td>0.31</td>\n",
       "      <td>0.99</td>\n",
       "      <td>-1.79</td>\n",
       "      <td>-0.6</td>\n",
       "      <td>-0.66</td>\n",
       "      <td>-0.74</td>\n",
       "      <td>0.60</td>\n",
       "      <td>-0.08</td>\n",
       "    </tr>\n",
       "    <tr>\n",
       "      <th>2</th>\n",
       "      <td>-1.0</td>\n",
       "      <td>-0.98</td>\n",
       "      <td>0.7</td>\n",
       "      <td>0.37</td>\n",
       "      <td>-0.86</td>\n",
       "      <td>0.37</td>\n",
       "      <td>-1.06</td>\n",
       "      <td>0.45</td>\n",
       "      <td>1.22</td>\n",
       "      <td>0.51</td>\n",
       "      <td>0.72</td>\n",
       "      <td>0.4</td>\n",
       "      <td>0.31</td>\n",
       "      <td>0.99</td>\n",
       "      <td>-1.79</td>\n",
       "      <td>-0.6</td>\n",
       "      <td>-0.66</td>\n",
       "      <td>-0.74</td>\n",
       "      <td>1.01</td>\n",
       "      <td>-0.08</td>\n",
       "    </tr>\n",
       "  </tbody>\n",
       "</table>\n",
       "</div>"
      ],
      "text/plain": [
       "   Opportunity_Name  Planned_Opportunity_Duration  Account_Name  Product_Name  \\\n",
       "0              -1.0                         -0.96           0.7          0.37   \n",
       "1              -1.0                         -0.97           0.7          0.37   \n",
       "2              -1.0                         -0.98           0.7          0.37   \n",
       "\n",
       "   Planned_Time_Until_Deliver  Opportunity_Owner  Last_Modified_By  \\\n",
       "0                       -0.84               0.37             -1.06   \n",
       "1                       -0.85               0.37             -1.06   \n",
       "2                       -0.86               0.37             -1.06   \n",
       "\n",
       "   Bureaucratic_Code  Product_Family  Opportunity_Type  Total_Amount(USD)  \\\n",
       "0               0.45            1.22              0.51               0.41   \n",
       "1               0.45            1.22              0.51               0.41   \n",
       "2               0.45            1.22              0.51               0.72   \n",
       "\n",
       "   Territory  Account_Owner  Account_Type  Opportunity_Created_Date  \\\n",
       "0        0.4           0.31          0.99                     -1.79   \n",
       "1        0.4           0.31          0.99                     -1.79   \n",
       "2        0.4           0.31          0.99                     -1.79   \n",
       "\n",
       "   Planned_Deliver_Duration  Billing_Country  Total_Amount_Currency  \\\n",
       "0                      -0.6            -0.66                  -0.74   \n",
       "1                      -0.6            -0.66                  -0.74   \n",
       "2                      -0.6            -0.66                  -0.74   \n",
       "\n",
       "   Product_Amount_Deviation_of_Product_Family_rate  \\\n",
       "0                                             0.60   \n",
       "1                                             0.60   \n",
       "2                                             1.01   \n",
       "\n",
       "   Opportunity_TRF_Region_std_Ratio  \n",
       "0                             -0.08  \n",
       "1                             -0.08  \n",
       "2                             -0.08  "
      ]
     },
     "execution_count": 34,
     "metadata": {},
     "output_type": "execute_result"
    }
   ],
   "source": [
    "x_test.head(3)"
   ]
  },
  {
   "cell_type": "code",
   "execution_count": 35,
   "id": "unexpected-craft",
   "metadata": {},
   "outputs": [
    {
     "data": {
      "text/plain": [
       "(2551, 20)"
      ]
     },
     "execution_count": 35,
     "metadata": {},
     "output_type": "execute_result"
    }
   ],
   "source": [
    "x_test.shape"
   ]
  },
  {
   "cell_type": "markdown",
   "id": "short-agenda",
   "metadata": {},
   "source": [
    "## Modelos"
   ]
  },
  {
   "cell_type": "code",
   "execution_count": 36,
   "id": "gross-breakfast",
   "metadata": {},
   "outputs": [],
   "source": [
    "#Lista de los modelos disponibles, reemplazar en la variable de abajo para elegir uno\n",
    "model_list = ['Neuronales']\n",
    "\n",
    "model_name = 'Neuronales'\n",
    "if ENTREGA:\n",
    "    path = 'Entrega_' + model_name + '.csv'\n",
    "else:\n",
    "    path = 'Prediccion_' + model_name + '.csv'\n",
    "\n",
    "model = None\n",
    "\n",
    "# Seguramente se puede hacer de otra forma mas 'python'\n",
    "\n",
    "if (model_name == 'Neuronales'):\n",
    "    model = keras.models.load_model('Redes_Neuronales/Mejores_Modelos/Neuronales_logloss_0.5459_20_features.hdf5')\n",
    "\n",
    "predict_and_save(model, x_vector, df_entrega, path=path)"
   ]
  },
  {
   "cell_type": "code",
   "execution_count": null,
   "id": "insured-investing",
   "metadata": {},
   "outputs": [],
   "source": []
  }
 ],
 "metadata": {
  "kernelspec": {
   "display_name": "Python 3",
   "language": "python",
   "name": "python3"
  },
  "language_info": {
   "codemirror_mode": {
    "name": "ipython",
    "version": 3
   },
   "file_extension": ".py",
   "mimetype": "text/x-python",
   "name": "python",
   "nbconvert_exporter": "python",
   "pygments_lexer": "ipython3",
   "version": "3.6.12"
  }
 },
 "nbformat": 4,
 "nbformat_minor": 5
}
