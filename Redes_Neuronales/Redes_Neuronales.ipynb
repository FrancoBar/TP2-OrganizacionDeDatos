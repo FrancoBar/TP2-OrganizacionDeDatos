{
 "cells": [
  {
   "cell_type": "markdown",
   "metadata": {
    "id": "mQfQ2ppfQasK"
   },
   "source": [
    "# Redes Neuronales\n",
    "## Preparacion de datos para el modelo"
   ]
  },
  {
   "cell_type": "code",
   "execution_count": 2,
   "metadata": {
    "colab": {
     "base_uri": "https://localhost:8080/",
     "height": 330
    },
    "id": "8OQLMHvqkvdV",
    "outputId": "4d6f4c0b-232b-468e-8734-083a58109f70"
   },
   "outputs": [
    {
     "data": {
      "text/html": [
       "<div>\n",
       "<style scoped>\n",
       "    .dataframe tbody tr th:only-of-type {\n",
       "        vertical-align: middle;\n",
       "    }\n",
       "\n",
       "    .dataframe tbody tr th {\n",
       "        vertical-align: top;\n",
       "    }\n",
       "\n",
       "    .dataframe thead th {\n",
       "        text-align: right;\n",
       "    }\n",
       "</style>\n",
       "<table border=\"1\" class=\"dataframe\">\n",
       "  <thead>\n",
       "    <tr style=\"text-align: right;\">\n",
       "      <th></th>\n",
       "      <th>Region</th>\n",
       "      <th>Pricing, Delivery_Terms_Quote_Appr</th>\n",
       "      <th>Pricing, Delivery_Terms_Approved</th>\n",
       "      <th>Bureaucratic_Code_0_Approval</th>\n",
       "      <th>Bureaucratic_Code_0_Approved</th>\n",
       "      <th>Bureaucratic_Code</th>\n",
       "      <th>Account_Created_Date</th>\n",
       "      <th>Billing_Country</th>\n",
       "      <th>Account_Owner</th>\n",
       "      <th>Opportunity_Owner</th>\n",
       "      <th>...</th>\n",
       "      <th>Total_Product_Family_Region_Month_Change</th>\n",
       "      <th>Total_Products_Region_This_Week</th>\n",
       "      <th>Total_Products_Region_Last_Week</th>\n",
       "      <th>Total_Products_Region_Week_Change</th>\n",
       "      <th>Total_Products_Region_This_Month</th>\n",
       "      <th>Total_Products_Region_Last_Month</th>\n",
       "      <th>Total_Products_Region_Month_Change</th>\n",
       "      <th>Total_Products_Region_This_Quarter</th>\n",
       "      <th>Total_Products_Region_Last_Quarter</th>\n",
       "      <th>Total_Products_Region_Quarter_Change</th>\n",
       "    </tr>\n",
       "  </thead>\n",
       "  <tbody>\n",
       "    <tr>\n",
       "      <th>0</th>\n",
       "      <td>-3.61</td>\n",
       "      <td>-2.05</td>\n",
       "      <td>-1.14</td>\n",
       "      <td>-0.89</td>\n",
       "      <td>-0.64</td>\n",
       "      <td>-2.08</td>\n",
       "      <td>-1.34</td>\n",
       "      <td>-2.5</td>\n",
       "      <td>-2.11</td>\n",
       "      <td>-1.85</td>\n",
       "      <td>...</td>\n",
       "      <td>-1.2</td>\n",
       "      <td>-1.24</td>\n",
       "      <td>-1.25</td>\n",
       "      <td>-1.3</td>\n",
       "      <td>-2.00</td>\n",
       "      <td>-2.01</td>\n",
       "      <td>-7.05</td>\n",
       "      <td>-2.27</td>\n",
       "      <td>-2.28</td>\n",
       "      <td>-17.51</td>\n",
       "    </tr>\n",
       "    <tr>\n",
       "      <th>1</th>\n",
       "      <td>-3.61</td>\n",
       "      <td>0.49</td>\n",
       "      <td>0.88</td>\n",
       "      <td>1.12</td>\n",
       "      <td>1.56</td>\n",
       "      <td>-2.08</td>\n",
       "      <td>-0.95</td>\n",
       "      <td>-2.5</td>\n",
       "      <td>-2.11</td>\n",
       "      <td>-1.85</td>\n",
       "      <td>...</td>\n",
       "      <td>-1.2</td>\n",
       "      <td>-1.24</td>\n",
       "      <td>-1.25</td>\n",
       "      <td>-1.3</td>\n",
       "      <td>-2.00</td>\n",
       "      <td>-2.01</td>\n",
       "      <td>-7.05</td>\n",
       "      <td>-2.27</td>\n",
       "      <td>-2.28</td>\n",
       "      <td>-17.51</td>\n",
       "    </tr>\n",
       "    <tr>\n",
       "      <th>2</th>\n",
       "      <td>-3.61</td>\n",
       "      <td>0.49</td>\n",
       "      <td>-1.14</td>\n",
       "      <td>1.12</td>\n",
       "      <td>-0.64</td>\n",
       "      <td>-2.08</td>\n",
       "      <td>-1.28</td>\n",
       "      <td>-2.5</td>\n",
       "      <td>-2.11</td>\n",
       "      <td>-1.85</td>\n",
       "      <td>...</td>\n",
       "      <td>-1.2</td>\n",
       "      <td>-1.21</td>\n",
       "      <td>-1.25</td>\n",
       "      <td>-1.3</td>\n",
       "      <td>-1.99</td>\n",
       "      <td>-2.01</td>\n",
       "      <td>-7.05</td>\n",
       "      <td>-2.27</td>\n",
       "      <td>-2.28</td>\n",
       "      <td>-17.51</td>\n",
       "    </tr>\n",
       "  </tbody>\n",
       "</table>\n",
       "<p>3 rows × 59 columns</p>\n",
       "</div>"
      ],
      "text/plain": [
       "   Region  Pricing, Delivery_Terms_Quote_Appr  \\\n",
       "0   -3.61                               -2.05   \n",
       "1   -3.61                                0.49   \n",
       "2   -3.61                                0.49   \n",
       "\n",
       "   Pricing, Delivery_Terms_Approved  Bureaucratic_Code_0_Approval  \\\n",
       "0                             -1.14                         -0.89   \n",
       "1                              0.88                          1.12   \n",
       "2                             -1.14                          1.12   \n",
       "\n",
       "   Bureaucratic_Code_0_Approved  Bureaucratic_Code  Account_Created_Date  \\\n",
       "0                         -0.64              -2.08                 -1.34   \n",
       "1                          1.56              -2.08                 -0.95   \n",
       "2                         -0.64              -2.08                 -1.28   \n",
       "\n",
       "   Billing_Country  Account_Owner  Opportunity_Owner  ...  \\\n",
       "0             -2.5          -2.11              -1.85  ...   \n",
       "1             -2.5          -2.11              -1.85  ...   \n",
       "2             -2.5          -2.11              -1.85  ...   \n",
       "\n",
       "   Total_Product_Family_Region_Month_Change  Total_Products_Region_This_Week  \\\n",
       "0                                      -1.2                            -1.24   \n",
       "1                                      -1.2                            -1.24   \n",
       "2                                      -1.2                            -1.21   \n",
       "\n",
       "   Total_Products_Region_Last_Week  Total_Products_Region_Week_Change  \\\n",
       "0                            -1.25                               -1.3   \n",
       "1                            -1.25                               -1.3   \n",
       "2                            -1.25                               -1.3   \n",
       "\n",
       "   Total_Products_Region_This_Month  Total_Products_Region_Last_Month  \\\n",
       "0                             -2.00                             -2.01   \n",
       "1                             -2.00                             -2.01   \n",
       "2                             -1.99                             -2.01   \n",
       "\n",
       "   Total_Products_Region_Month_Change  Total_Products_Region_This_Quarter  \\\n",
       "0                               -7.05                               -2.27   \n",
       "1                               -7.05                               -2.27   \n",
       "2                               -7.05                               -2.27   \n",
       "\n",
       "   Total_Products_Region_Last_Quarter  Total_Products_Region_Quarter_Change  \n",
       "0                               -2.28                                -17.51  \n",
       "1                               -2.28                                -17.51  \n",
       "2                               -2.28                                -17.51  \n",
       "\n",
       "[3 rows x 59 columns]"
      ]
     },
     "execution_count": 2,
     "metadata": {},
     "output_type": "execute_result"
    }
   ],
   "source": [
    "#Primero separamos el dataset en train y test.\n",
    "#Para eso debemos ordenar segun fecha, elegimos columna 'Opportunity_Created_Date'\n",
    "#Por conveniencia codifico ahora a la columna Stage como 1 o 0 si es 'Closed Won' o 'Closed Lost'\n",
    "\n",
    "import Utilidades as ut\n",
    "import Modelos as md\n",
    "import numpy as np\n",
    "import pandas as pd\n",
    "\n",
    "\n",
    "df_train = pd.read_pickle(\"Neuronales_train.pkl\")\n",
    "df_test = pd.read_pickle(\"Neuronales_validation.pkl\")\n",
    "\n",
    "x_train, y_train = ut.split_labels(df_train)\n",
    "x_test, y_test = ut.split_labels(df_test)\n",
    "\n",
    "#Convertimos las fechas a numeros (cantidad de dias transcurridos) y luego las normalizamos\n",
    "x_train, x_test = ut.conversion_fechas(x_train, x_test)\n",
    "x_train, x_test = ut.codificar_categoricas(x_train, y_train, x_test)\n",
    "x_train, x_test = ut.normalizacion_numericas(x_train, x_test, modo='normalizacion')\n",
    "\n",
    "x_train.head(3)"
   ]
  },
  {
   "cell_type": "markdown",
   "metadata": {
    "id": "4oSHQttP_cuK"
   },
   "source": [
    "## Creacion del modelo."
   ]
  },
  {
   "cell_type": "code",
   "execution_count": 24,
   "metadata": {
    "colab": {
     "base_uri": "https://localhost:8080/"
    },
    "id": "-rN3ODhM_Zxm",
    "outputId": "81bc755e-a46a-4f34-eced-99d6297b67e0"
   },
   "outputs": [
    {
     "name": "stdout",
     "output_type": "stream",
     "text": [
      "373/373 [==============================] - 2s 5ms/step - loss: 158.8559 - val_loss: 157.8208\n"
     ]
    }
   ],
   "source": [
    "import keras\n",
    "import tensorflow as tf\n",
    "#from keras import backend\n",
    "#from keras.models import Sequential\n",
    "#from keras.layers import Dense\n",
    "#from keras.layers import Dropout\n",
    "#from keras.regularizers import l1\n",
    "#from keras.regularizers import l2\n",
    "#from keras.regularizers import l1_l2\n",
    "\n",
    "\n",
    "x_train_vector = ut.df_a_vector(x_train)\n",
    "y_train_vector = ut.df_a_vector(y_train)\n",
    "x_test_vector = ut.df_a_vector(x_test)\n",
    "y_test_vector = ut.df_a_vector(y_test)\n",
    "\n",
    "#input_dim = x_train.shape[1]\n",
    "#\n",
    "#alfa = 1e-3\n",
    "#\n",
    "#model = Sequential()\n",
    "#model.add(Dense(64, input_dim=input_dim, activation='relu'))\n",
    "#model.add(Dropout(0.25))\n",
    "#model.add(Dense(128, kernel_regularizer=l1(alfa), bias_regularizer=l1(alfa), activation='relu'))\n",
    "##model.add(Dropout(0.25))\n",
    "##model.add(Dense(256, kernel_regularizer=l1(alfa), bias_regularizer=l1(alfa), activation='tanh'))\n",
    "#model.add(Dropout(0.5))\n",
    "#model.add(Dense(128, kernel_regularizer=l1(alfa), bias_regularizer=l1(alfa), activation='relu'))\n",
    "#model.add(Dropout(0.5))\n",
    "#model.add(Dense(64, kernel_regularizer=l1(alfa), bias_regularizer=l1(alfa), activation='tanh'))\n",
    "#model.add(Dropout(0.25))\n",
    "#model.add(Dense(16, kernel_regularizer=l1(alfa), bias_regularizer=l1(alfa), activation='relu'))\n",
    "#model.add(Dense(8, kernel_regularizer=l1(alfa), bias_regularizer=l1(alfa), activation='relu'))\n",
    "#model.add(Dense(1, activation='tanh'))\n",
    "#\n",
    "#model.compile(loss='binary_crossentropy', optimizer='adam', metrics=['accuracy'])\n",
    "#\n",
    "#backend.set_value(model.optimizer.learning_rate, 5e-4)\n",
    "\n",
    "best_hparams = ut.hyperparams_from_json('Neuronales')\n",
    "model = md.get_neural_network_model(best_hparams, x_train.shape[1])\n",
    "\n",
    "epochs = 500\n",
    "batch_size = 256\n",
    "\n",
    "\n",
    "my_callbacks = [\n",
    "    tf.keras.callbacks.ModelCheckpoint(\"Neuronales_Mejor_Modelo.hdf5\", \n",
    "                                       monitor='val_loss', \n",
    "                                       verbose=0,\n",
    "                                       save_best_only=True, \n",
    "                                       mode='min'),\n",
    "    \n",
    "    tf.keras.callbacks.EarlyStopping(monitor = 'val_loss',\n",
    "                                     min_delta=0.01,\n",
    "                                     mode='min',\n",
    "                                     patience=10),\n",
    "    #keras.callbacks.ReduceLROnPlateau(monitor='val_loss',\n",
    "    #                                  mode='min',\n",
    "    #                                  factor=0.8,\n",
    "    #                                  patience=5,\n",
    "    #                                  cooldown=0, \n",
    "    #                                  min_lr=1e-8)\n",
    "]\n",
    "\n",
    "fit_dict = {\n",
    "    #'x' : x_train_vector,\n",
    "    #'y' : y_train_vector,\n",
    "    #'validation_data' : (x_test_vector, y_test_vector),\n",
    "    #'epochs' : epochs,\n",
    "    #'batch_size' : batch_size,\n",
    "    #'verbose' : 1,\n",
    "    #'callbacks' : my_callbacks\n",
    "}\n",
    "\n",
    "#history = model.fit(x_train_vector, \n",
    "#                    y_train_vector, \n",
    "#                    epochs=epochs, \n",
    "#                    batch_size=batch_size,\n",
    "#                    verbose = 1,\n",
    "#                    validation_data=(x_test_vector, y_test_vector),\n",
    "#                    callbacks=my_callbacks)\n",
    "\n",
    "\n",
    "history = model.fit(x_train_vector,\n",
    "                    y_train_vector,\n",
    "                    validation_data=(x_test_vector, y_test_vector),\n",
    "                    **fit_dict)\n"
   ]
  },
  {
   "cell_type": "code",
   "execution_count": 6,
   "metadata": {},
   "outputs": [],
   "source": [
    "#model.save('Neuronales_7740.h5')"
   ]
  },
  {
   "cell_type": "markdown",
   "metadata": {},
   "source": [
    "## Resultados"
   ]
  },
  {
   "cell_type": "code",
   "execution_count": 7,
   "metadata": {
    "colab": {
     "base_uri": "https://localhost:8080/",
     "height": 295
    },
    "id": "BoO8syeWoQhd",
    "outputId": "e4737981-19af-4c5f-c69e-f2208387dcff"
   },
   "outputs": [
    {
     "data": {
      "image/png": "[encoded data removed]",
      "text/plain": [
       "<Figure size 432x288 with 1 Axes>"
      ]
     },
     "metadata": {
      "needs_background": "light"
     },
     "output_type": "display_data"
    }
   ],
   "source": [
    "import matplotlib.pyplot as plt\n",
    "\n",
    "plt.plot(history.history['accuracy'])\n",
    "plt.plot(history.history['val_accuracy'])\n",
    "plt.title('Model Accuracy vs Epoch')\n",
    "plt.ylabel('Accuracy')\n",
    "plt.xlabel('Epoch')\n",
    "plt.legend(['Train', 'Test'], loc='upper left')\n",
    "plt.show()"
   ]
  },
  {
   "cell_type": "code",
   "execution_count": 8,
   "metadata": {},
   "outputs": [],
   "source": [
    "#new_model = keras.models.load_model('Neuronales_Mejor_Modelo.hdf5')\n",
    "#new_predictions = new_model.predict(x_test)"
   ]
  }
 ],
 "metadata": {
  "colab": {
   "collapsed_sections": [],
   "name": "Copy of Pruebas TP2.ipynb",
   "provenance": []
  },
  "kernelspec": {
   "display_name": "Python 3",
   "language": "python",
   "name": "python3"
  },
  "language_info": {
   "codemirror_mode": {
    "name": "ipython",
    "version": 3
   },
   "file_extension": ".py",
   "mimetype": "text/x-python",
   "name": "python",
   "nbconvert_exporter": "python",
   "pygments_lexer": "ipython3",
   "version": "3.6.12"
  }
 },
 "nbformat": 4,
 "nbformat_minor": 4
}
