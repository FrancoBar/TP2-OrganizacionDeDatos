{
 "cells": [
  {
   "cell_type": "markdown",
   "id": "fifteen-trash",
   "metadata": {},
   "source": [
    "# Generacion de un archivo de entrega a Kaggle"
   ]
  },
  {
   "cell_type": "code",
   "execution_count": 1,
   "id": "following-tuesday",
   "metadata": {},
   "outputs": [],
   "source": [
    "import numpy as np\n",
    "import pandas as pd\n",
    "import Utilidades as ut\n",
    "import keras\n",
    "import tensorflow as tf"
   ]
  },
  {
   "cell_type": "markdown",
   "id": "individual-brain",
   "metadata": {},
   "source": [
    "### Definicion de funciones generales"
   ]
  },
  {
   "cell_type": "code",
   "execution_count": 22,
   "id": "racial-heating",
   "metadata": {},
   "outputs": [],
   "source": [
    "def predict_and_save(model, x, df_entrega, path):\n",
    "    y_pred = model.predict(x).flatten()\n",
    "    #Armamos el df de entrega\n",
    "    df_entrega['Target'] = pd.Series(y_pred)\n",
    "    df_entrega['Target'] = df_entrega.groupby('Opportunity_ID').transform('mean')\n",
    "    df_entrega['Target'] = (df_entrega['Target'] > 0.5).astype(int)\n",
    "    #Guardamos en un csv\n",
    "    df_entrega.to_csv(path, index=False)"
   ]
  },
  {
   "cell_type": "markdown",
   "id": "becoming-wheel",
   "metadata": {},
   "source": [
    "### Preparacion de los datos"
   ]
  },
  {
   "cell_type": "code",
   "execution_count": 24,
   "id": "practical-doctor",
   "metadata": {},
   "outputs": [],
   "source": [
    "x_test = pd.read_pickle(\"Neuronales_test.pkl\")\n",
    "x_train = pd.read_pickle(\"Neuronales_train.pkl\")\n",
    "\n",
    "x_train, y_train = ut.split_labels(x_train)\n",
    "\n",
    "df_entrega = x_test[['Opportunity_ID']]\n",
    "x_test = x_test.drop(columns=['Opportunity_ID'])\n",
    "\n",
    "#Convertimos las fechas a numeros (cantidad de dias transcurridos) y luego las normalizamos\n",
    "x_test = ut.conversion_fechas(x_test)\n",
    "x_train, x_test = ut.codificar_categoricas(x_train, y_train, x_test)\n",
    "x_test = ut.normalizacion_numericas(x_test, modo='normalizacion')\n",
    "\n",
    "#Convertimos los df a vectores\n",
    "x_vector = ut.df_a_vector(x_test)\n"
   ]
  },
  {
   "cell_type": "code",
   "execution_count": 25,
   "id": "acting-exposure",
   "metadata": {},
   "outputs": [
    {
     "data": {
      "text/html": [
       "<div>\n",
       "<style scoped>\n",
       "    .dataframe tbody tr th:only-of-type {\n",
       "        vertical-align: middle;\n",
       "    }\n",
       "\n",
       "    .dataframe tbody tr th {\n",
       "        vertical-align: top;\n",
       "    }\n",
       "\n",
       "    .dataframe thead th {\n",
       "        text-align: right;\n",
       "    }\n",
       "</style>\n",
       "<table border=\"1\" class=\"dataframe\">\n",
       "  <thead>\n",
       "    <tr style=\"text-align: right;\">\n",
       "      <th></th>\n",
       "      <th>Opportunity_ID</th>\n",
       "    </tr>\n",
       "  </thead>\n",
       "  <tbody>\n",
       "    <tr>\n",
       "      <th>0</th>\n",
       "      <td>11224</td>\n",
       "    </tr>\n",
       "    <tr>\n",
       "      <th>1</th>\n",
       "      <td>11223</td>\n",
       "    </tr>\n",
       "    <tr>\n",
       "      <th>2</th>\n",
       "      <td>11223</td>\n",
       "    </tr>\n",
       "  </tbody>\n",
       "</table>\n",
       "</div>"
      ],
      "text/plain": [
       "   Opportunity_ID\n",
       "0           11224\n",
       "1           11223\n",
       "2           11223"
      ]
     },
     "execution_count": 25,
     "metadata": {},
     "output_type": "execute_result"
    }
   ],
   "source": [
    "df_entrega.head(3)"
   ]
  },
  {
   "cell_type": "markdown",
   "id": "southwest-check",
   "metadata": {},
   "source": [
    "## Modelos"
   ]
  },
  {
   "cell_type": "code",
   "execution_count": 26,
   "id": "affected-liberal",
   "metadata": {},
   "outputs": [],
   "source": [
    "#Lista de los modelos disponibles, reemplazar en la variable de abajo para elegir uno\n",
    "model_list = ['Neural_Network']\n",
    "\n",
    "model_name = 'Neural_Network'\n",
    "path = 'Prueba_Entrega.csv'\n",
    "\n",
    "model = None\n",
    "\n",
    "# Seguramente se puede hacer de otra forma mas 'python'\n",
    "\n",
    "if (model_name == 'Neural_Network'):\n",
    "    model = keras.models.load_model('Neuronales_Mejor_Modelo.hdf5')\n",
    "\n",
    "predict_and_save(model, x_vector, df_entrega, path=path)"
   ]
  },
  {
   "cell_type": "code",
   "execution_count": null,
   "id": "serial-boundary",
   "metadata": {},
   "outputs": [],
   "source": []
  }
 ],
 "metadata": {
  "kernelspec": {
   "display_name": "Python 3",
   "language": "python",
   "name": "python3"
  },
  "language_info": {
   "codemirror_mode": {
    "name": "ipython",
    "version": 3
   },
   "file_extension": ".py",
   "mimetype": "text/x-python",
   "name": "python",
   "nbconvert_exporter": "python",
   "pygments_lexer": "ipython3",
   "version": "3.6.12"
  }
 },
 "nbformat": 4,
 "nbformat_minor": 5
}
