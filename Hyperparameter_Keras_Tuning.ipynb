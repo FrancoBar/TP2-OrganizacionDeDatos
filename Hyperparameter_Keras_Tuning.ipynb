{
 "cells": [
  {
   "cell_type": "code",
   "execution_count": 1,
   "id": "cross-journey",
   "metadata": {},
   "outputs": [
    {
     "name": "stderr",
     "output_type": "stream",
     "text": [
      "Using TensorFlow backend.\n"
     ]
    }
   ],
   "source": [
    "import tensorflow as tf\n",
    "from tensorflow import keras\n",
    "import kerastuner as kt\n",
    "import pandas as pd\n",
    "from sklearn.model_selection import train_test_split\n",
    "import Utilidades as ut\n",
    "import Modelos as md\n",
    "import numpy as np\n",
    "from tensorflow.keras.layers import Activation"
   ]
  },
  {
   "cell_type": "code",
   "execution_count": 2,
   "id": "impaired-combine",
   "metadata": {},
   "outputs": [],
   "source": [
    "##########################################################\n",
    "\n",
    "# Redefino función de activación 'relu'\n",
    "\n",
    "def my_relu(x):\n",
    "    return tf.keras.backend.relu(x, max_value=1.0)\n",
    "\n",
    "tf.keras.utils.get_custom_objects().update({'my_relu': Activation(my_relu)})\n",
    "\n",
    "# Redefino función de activación 'swish'\n",
    "\n",
    "class Swish(Activation):\n",
    "    \n",
    "    def __init__(self, activation, **kwargs):\n",
    "        super(Swish, self).__init__(activation, **kwargs)\n",
    "        self.__name__ = 'swish'\n",
    "\n",
    "def swish(x):\n",
    "    return (tf.keras.backend.sigmoid(x) * x)\n",
    "\n",
    "tf.keras.utils.get_custom_objects().update({'swish': Swish(swish)})\n",
    "\n",
    "##########################################################"
   ]
  },
  {
   "cell_type": "code",
   "execution_count": 3,
   "id": "historic-cradle",
   "metadata": {},
   "outputs": [],
   "source": [
    "# Cargamos el dataframe de training\n",
    "df_train = pd.read_pickle(\"Archivos/Neuronales_entrenamiento.pkl\")\n",
    "df_test = pd.read_pickle(\"Archivos/Neuronales_validacion.pkl\")\n",
    "\n",
    "if ('Opportunity_ID' in df_test):\n",
    "    df_test = df_test.drop(columns=['Opportunity_ID'])\n",
    "\n",
    "x_train, y_train = ut.split_labels(df_train)\n",
    "x_test, y_test = ut.split_labels(df_test)\n",
    "\n",
    "#Convertimos las fechas a numeros (cantidad de dias transcurridos) y luego las normalizamos\n",
    "x_train, x_test = ut.conversion_fechas(x_train, x_test)\n",
    "x_train, x_test = ut.codificar_categoricas(x_train, y_train, x_test, modo='catboost')\n",
    "x_train, x_test = ut.normalizacion_numericas(x_train, x_test, modo='normalizacion')\n",
    "x_train.shape\n",
    "\n",
    "x_train_vector = ut.df_a_vector(x_train)\n",
    "y_train_vector = ut.df_a_vector(y_train)\n",
    "x_test_vector = ut.df_a_vector(x_test)\n",
    "y_test_vector = ut.df_a_vector(y_test)"
   ]
  },
  {
   "cell_type": "code",
   "execution_count": 4,
   "id": "exposed-capture",
   "metadata": {},
   "outputs": [],
   "source": [
    "# Definimos el modelo\n",
    "def model_builder(hp):\n",
    "    model = keras.Sequential()\n",
    "    \n",
    "    hp_learning_rate = hp.Choice('learning_rate', values = [1e-2, 1e-3, 1e-4])\n",
    "\n",
    "    for i in range(hp.Int('layers', min_value = 1, max_value = 5, step = 1)):\n",
    "        model.add(keras.layers.Dense(units = hp.Int('units', min_value = 16, max_value = 256, step = 16), \n",
    "                                     activation = hp.Choice('activation_func', ['relu', 'swish', 'tanh'])))\n",
    "\n",
    "    model.add(keras.layers.Dense(units = 1,\n",
    "                                 activation = hp.Choice('activation_func_2', ['relu', 'swish', 'tanh'])))\n",
    "\n",
    "    model.compile(optimizer = keras.optimizers.Adam(learning_rate = hp_learning_rate),\n",
    "                loss = 'binary_crossentropy', \n",
    "                metrics = ['accuracy'])\n",
    "\n",
    "    return model"
   ]
  },
  {
   "cell_type": "code",
   "execution_count": 5,
   "id": "separate-simon",
   "metadata": {},
   "outputs": [
    {
     "name": "stdout",
     "output_type": "stream",
     "text": [
      "INFO:tensorflow:Reloading Oracle from existing project my_dir\\intro_to_kt\\oracle.json\n",
      "INFO:tensorflow:Reloading Tuner from my_dir\\intro_to_kt\\tuner0.json\n",
      "Comienza tuneo\n",
      "Train on 12140 samples, validate on 4515 samples\n",
      "Epoch 1/2\n",
      "12140/12140 [==============================] - ETA: 3:56 - loss: 7.2588 - accuracy: 0.40 - ETA: 10s - loss: 1.1365 - accuracy: 0.6903 - ETA: 5s - loss: 0.7370 - accuracy: 0.827 - ETA: 3s - loss: 0.5798 - accuracy: 0.87 - ETA: 2s - loss: 0.4965 - accuracy: 0.90 - ETA: 2s - loss: 0.4812 - accuracy: 0.91 - ETA: 1s - loss: 0.4878 - accuracy: 0.91 - ETA: 1s - loss: 0.4785 - accuracy: 0.92 - ETA: 1s - loss: 0.4548 - accuracy: 0.92 - ETA: 0s - loss: 0.4553 - accuracy: 0.92 - ETA: 0s - loss: 0.4313 - accuracy: 0.93 - ETA: 0s - loss: 0.4146 - accuracy: 0.93 - ETA: 0s - loss: 0.4170 - accuracy: 0.93 - ETA: 0s - loss: 0.4122 - accuracy: 0.94 - ETA: 0s - loss: 0.4092 - accuracy: 0.94 - ETA: 0s - loss: 0.4038 - accuracy: 0.94 - ETA: 0s - loss: 0.3939 - accuracy: 0.94 - 2s 151us/sample - loss: 0.3844 - accuracy: 0.9493 - val_loss: 0.5188 - val_accuracy: 0.9340\n",
      "Epoch 2/2\n",
      "12140/12140 [==============================] - ETA: 1s - loss: 0.0056 - accuracy: 1.00 - ETA: 0s - loss: 0.2498 - accuracy: 0.97 - ETA: 0s - loss: 0.2680 - accuracy: 0.97 - ETA: 0s - loss: 0.2204 - accuracy: 0.98 - ETA: 0s - loss: 0.2540 - accuracy: 0.97 - ETA: 0s - loss: 0.2617 - accuracy: 0.97 - ETA: 0s - loss: 0.2610 - accuracy: 0.97 - ETA: 0s - loss: 0.2376 - accuracy: 0.97 - ETA: 0s - loss: 0.2434 - accuracy: 0.97 - ETA: 0s - loss: 0.2427 - accuracy: 0.97 - ETA: 0s - loss: 0.2487 - accuracy: 0.97 - ETA: 0s - loss: 0.2523 - accuracy: 0.97 - ETA: 0s - loss: 0.2456 - accuracy: 0.97 - ETA: 0s - loss: 0.2395 - accuracy: 0.97 - ETA: 0s - loss: 0.2369 - accuracy: 0.97 - ETA: 0s - loss: 0.2334 - accuracy: 0.97 - ETA: 0s - loss: 0.2323 - accuracy: 0.97 - ETA: 0s - loss: 0.2370 - accuracy: 0.97 - ETA: 0s - loss: 0.2421 - accuracy: 0.97 - 1s 98us/sample - loss: 0.2467 - accuracy: 0.9723 - val_loss: 1.4456 - val_accuracy: 0.7677\n"
     ]
    },
    {
     "data": {
      "text/html": [
       "<span style=\"color:#4527A0\"><h1 style=\"font-size:18px\">Trial complete</h1></span>"
      ],
      "text/plain": [
       "<IPython.core.display.HTML object>"
      ]
     },
     "metadata": {},
     "output_type": "display_data"
    },
    {
     "data": {
      "text/html": [
       "<span style=\"color:#4527A0\"><h1 style=\"font-size:18px\">Trial summary</h1></span>"
      ],
      "text/plain": [
       "<IPython.core.display.HTML object>"
      ]
     },
     "metadata": {},
     "output_type": "display_data"
    },
    {
     "data": {
      "text/html": [
       "<span style=\"color:cyan\"> |-Trial ID: 28985216f270769282a5a3b39374ad21</span>"
      ],
      "text/plain": [
       "<IPython.core.display.HTML object>"
      ]
     },
     "metadata": {},
     "output_type": "display_data"
    },
    {
     "data": {
      "text/html": [
       "<span style=\"color:cyan\"> |-Score: 0.9339978098869324</span>"
      ],
      "text/plain": [
       "<IPython.core.display.HTML object>"
      ]
     },
     "metadata": {},
     "output_type": "display_data"
    },
    {
     "data": {
      "text/html": [
       "<span style=\"color:cyan\"> |-Best step: 0</span>"
      ],
      "text/plain": [
       "<IPython.core.display.HTML object>"
      ]
     },
     "metadata": {},
     "output_type": "display_data"
    },
    {
     "data": {
      "text/html": [
       "<span style=\"color:#7E57C2\"><h2 style=\"font-size:16px\">Hyperparameters:</h2></span>"
      ],
      "text/plain": [
       "<IPython.core.display.HTML object>"
      ]
     },
     "metadata": {},
     "output_type": "display_data"
    },
    {
     "data": {
      "text/html": [
       "<span style=\"color:cyan\"> |-activation_func: swish</span>"
      ],
      "text/plain": [
       "<IPython.core.display.HTML object>"
      ]
     },
     "metadata": {},
     "output_type": "display_data"
    },
    {
     "data": {
      "text/html": [
       "<span style=\"color:blue\"> |-activation_func_2: swish</span>"
      ],
      "text/plain": [
       "<IPython.core.display.HTML object>"
      ]
     },
     "metadata": {},
     "output_type": "display_data"
    },
    {
     "data": {
      "text/html": [
       "<span style=\"color:cyan\"> |-layers: 5</span>"
      ],
      "text/plain": [
       "<IPython.core.display.HTML object>"
      ]
     },
     "metadata": {},
     "output_type": "display_data"
    },
    {
     "data": {
      "text/html": [
       "<span style=\"color:blue\"> |-learning_rate: 0.001</span>"
      ],
      "text/plain": [
       "<IPython.core.display.HTML object>"
      ]
     },
     "metadata": {},
     "output_type": "display_data"
    },
    {
     "data": {
      "text/html": [
       "<span style=\"color:cyan\"> |-tuner/bracket: 3</span>"
      ],
      "text/plain": [
       "<IPython.core.display.HTML object>"
      ]
     },
     "metadata": {},
     "output_type": "display_data"
    },
    {
     "data": {
      "text/html": [
       "<span style=\"color:blue\"> |-tuner/epochs: 2</span>"
      ],
      "text/plain": [
       "<IPython.core.display.HTML object>"
      ]
     },
     "metadata": {},
     "output_type": "display_data"
    },
    {
     "data": {
      "text/html": [
       "<span style=\"color:cyan\"> |-tuner/initial_epoch: 0</span>"
      ],
      "text/plain": [
       "<IPython.core.display.HTML object>"
      ]
     },
     "metadata": {},
     "output_type": "display_data"
    },
    {
     "data": {
      "text/html": [
       "<span style=\"color:blue\"> |-tuner/round: 0</span>"
      ],
      "text/plain": [
       "<IPython.core.display.HTML object>"
      ]
     },
     "metadata": {},
     "output_type": "display_data"
    },
    {
     "data": {
      "text/html": [
       "<span style=\"color:cyan\"> |-units: 160</span>"
      ],
      "text/plain": [
       "<IPython.core.display.HTML object>"
      ]
     },
     "metadata": {},
     "output_type": "display_data"
    },
    {
     "name": "stdout",
     "output_type": "stream",
     "text": [
      "Train on 12140 samples, validate on 4515 samples\n",
      "Epoch 1/2\n",
      "12140/12140 [==============================] - ETA: 2:07 - loss: 5.8811 - accuracy: 0.37 - ETA: 5s - loss: 2.6845 - accuracy: 0.6363 - ETA: 3s - loss: 2.3002 - accuracy: 0.70 - ETA: 2s - loss: 2.0689 - accuracy: 0.73 - ETA: 1s - loss: 1.9639 - accuracy: 0.75 - ETA: 1s - loss: 1.7521 - accuracy: 0.77 - ETA: 1s - loss: 1.5925 - accuracy: 0.79 - ETA: 0s - loss: 1.4787 - accuracy: 0.80 - ETA: 0s - loss: 1.3319 - accuracy: 0.82 - ETA: 0s - loss: 1.2482 - accuracy: 0.82 - ETA: 0s - loss: 1.1604 - accuracy: 0.83 - ETA: 0s - loss: 1.0896 - accuracy: 0.84 - ETA: 0s - loss: 1.0317 - accuracy: 0.85 - ETA: 0s - loss: 0.9725 - accuracy: 0.86 - ETA: 0s - loss: 0.9199 - accuracy: 0.87 - ETA: 0s - loss: 0.8803 - accuracy: 0.87 - 1s 118us/sample - loss: 0.8575 - accuracy: 0.8807 - val_loss: 0.4933 - val_accuracy: 0.8837\n",
      "Epoch 2/2\n",
      "12140/12140 [==============================] - ETA: 1s - loss: 0.1327 - accuracy: 0.93 - ETA: 0s - loss: 0.2412 - accuracy: 0.96 - ETA: 0s - loss: 0.2556 - accuracy: 0.96 - ETA: 0s - loss: 0.2607 - accuracy: 0.96 - ETA: 0s - loss: 0.2346 - accuracy: 0.96 - ETA: 0s - loss: 0.2287 - accuracy: 0.96 - ETA: 0s - loss: 0.2280 - accuracy: 0.96 - ETA: 0s - loss: 0.2505 - accuracy: 0.95 - ETA: 0s - loss: 0.2369 - accuracy: 0.95 - ETA: 0s - loss: 0.2258 - accuracy: 0.95 - ETA: 0s - loss: 0.2246 - accuracy: 0.95 - ETA: 0s - loss: 0.2229 - accuracy: 0.95 - ETA: 0s - loss: 0.2246 - accuracy: 0.96 - ETA: 0s - loss: 0.2208 - accuracy: 0.96 - ETA: 0s - loss: 0.2204 - accuracy: 0.96 - 1s 83us/sample - loss: 0.2201 - accuracy: 0.9629 - val_loss: 0.2796 - val_accuracy: 0.9413\n"
     ]
    },
    {
     "data": {
      "text/html": [
       "<span style=\"color:#4527A0\"><h1 style=\"font-size:18px\">Trial complete</h1></span>"
      ],
      "text/plain": [
       "<IPython.core.display.HTML object>"
      ]
     },
     "metadata": {},
     "output_type": "display_data"
    },
    {
     "data": {
      "text/html": [
       "<span style=\"color:#4527A0\"><h1 style=\"font-size:18px\">Trial summary</h1></span>"
      ],
      "text/plain": [
       "<IPython.core.display.HTML object>"
      ]
     },
     "metadata": {},
     "output_type": "display_data"
    },
    {
     "data": {
      "text/html": [
       "<span style=\"color:cyan\"> |-Trial ID: 029d6936d67956adcfaa1e2f3ee29a74</span>"
      ],
      "text/plain": [
       "<IPython.core.display.HTML object>"
      ]
     },
     "metadata": {},
     "output_type": "display_data"
    },
    {
     "data": {
      "text/html": [
       "<span style=\"color:cyan\"> |-Score: 0.9413067698478699</span>"
      ],
      "text/plain": [
       "<IPython.core.display.HTML object>"
      ]
     },
     "metadata": {},
     "output_type": "display_data"
    },
    {
     "data": {
      "text/html": [
       "<span style=\"color:cyan\"> |-Best step: 0</span>"
      ],
      "text/plain": [
       "<IPython.core.display.HTML object>"
      ]
     },
     "metadata": {},
     "output_type": "display_data"
    },
    {
     "data": {
      "text/html": [
       "<span style=\"color:#7E57C2\"><h2 style=\"font-size:16px\">Hyperparameters:</h2></span>"
      ],
      "text/plain": [
       "<IPython.core.display.HTML object>"
      ]
     },
     "metadata": {},
     "output_type": "display_data"
    },
    {
     "data": {
      "text/html": [
       "<span style=\"color:cyan\"> |-activation_func: tanh</span>"
      ],
      "text/plain": [
       "<IPython.core.display.HTML object>"
      ]
     },
     "metadata": {},
     "output_type": "display_data"
    },
    {
     "data": {
      "text/html": [
       "<span style=\"color:blue\"> |-activation_func_2: tanh</span>"
      ],
      "text/plain": [
       "<IPython.core.display.HTML object>"
      ]
     },
     "metadata": {},
     "output_type": "display_data"
    },
    {
     "data": {
      "text/html": [
       "<span style=\"color:cyan\"> |-layers: 4</span>"
      ],
      "text/plain": [
       "<IPython.core.display.HTML object>"
      ]
     },
     "metadata": {},
     "output_type": "display_data"
    },
    {
     "data": {
      "text/html": [
       "<span style=\"color:blue\"> |-learning_rate: 0.0001</span>"
      ],
      "text/plain": [
       "<IPython.core.display.HTML object>"
      ]
     },
     "metadata": {},
     "output_type": "display_data"
    },
    {
     "data": {
      "text/html": [
       "<span style=\"color:cyan\"> |-tuner/bracket: 3</span>"
      ],
      "text/plain": [
       "<IPython.core.display.HTML object>"
      ]
     },
     "metadata": {},
     "output_type": "display_data"
    },
    {
     "data": {
      "text/html": [
       "<span style=\"color:blue\"> |-tuner/epochs: 2</span>"
      ],
      "text/plain": [
       "<IPython.core.display.HTML object>"
      ]
     },
     "metadata": {},
     "output_type": "display_data"
    },
    {
     "data": {
      "text/html": [
       "<span style=\"color:cyan\"> |-tuner/initial_epoch: 0</span>"
      ],
      "text/plain": [
       "<IPython.core.display.HTML object>"
      ]
     },
     "metadata": {},
     "output_type": "display_data"
    },
    {
     "data": {
      "text/html": [
       "<span style=\"color:blue\"> |-tuner/round: 0</span>"
      ],
      "text/plain": [
       "<IPython.core.display.HTML object>"
      ]
     },
     "metadata": {},
     "output_type": "display_data"
    },
    {
     "data": {
      "text/html": [
       "<span style=\"color:cyan\"> |-units: 144</span>"
      ],
      "text/plain": [
       "<IPython.core.display.HTML object>"
      ]
     },
     "metadata": {},
     "output_type": "display_data"
    },
    {
     "name": "stdout",
     "output_type": "stream",
     "text": [
      "Train on 12140 samples, validate on 4515 samples\n",
      "Epoch 1/2\n",
      "12140/12140 [==============================] - ETA: 1:48 - loss: 0.8707 - accuracy: 0.46 - ETA: 3s - loss: 0.6437 - accuracy: 0.6677 - ETA: 2s - loss: 0.5023 - accuracy: 0.74 - ETA: 1s - loss: 0.4377 - accuracy: 0.78 - ETA: 1s - loss: 0.4121 - accuracy: 0.81 - ETA: 0s - loss: 0.3730 - accuracy: 0.84 - ETA: 0s - loss: 0.3504 - accuracy: 0.85 - ETA: 0s - loss: 0.3317 - accuracy: 0.87 - ETA: 0s - loss: 0.3148 - accuracy: 0.87 - ETA: 0s - loss: 0.2975 - accuracy: 0.88 - ETA: 0s - loss: 0.2857 - accuracy: 0.89 - ETA: 0s - loss: 0.2754 - accuracy: 0.89 - ETA: 0s - loss: 0.2671 - accuracy: 0.90 - ETA: 0s - loss: 0.2573 - accuracy: 0.90 - 1s 103us/sample - loss: 0.2541 - accuracy: 0.9107 - val_loss: 0.3117 - val_accuracy: 0.9192\n",
      "Epoch 2/2\n",
      "12140/12140 [==============================] - ETA: 1s - loss: 0.0261 - accuracy: 1.00 - ETA: 0s - loss: 0.1498 - accuracy: 0.96 - ETA: 0s - loss: 0.1518 - accuracy: 0.96 - ETA: 0s - loss: 0.1361 - accuracy: 0.96 - ETA: 0s - loss: 0.1316 - accuracy: 0.96 - ETA: 0s - loss: 0.1253 - accuracy: 0.96 - ETA: 0s - loss: 0.1183 - accuracy: 0.96 - ETA: 0s - loss: 0.1151 - accuracy: 0.96 - ETA: 0s - loss: 0.1085 - accuracy: 0.96 - ETA: 0s - loss: 0.1109 - accuracy: 0.96 - ETA: 0s - loss: 0.1109 - accuracy: 0.96 - ETA: 0s - loss: 0.1104 - accuracy: 0.96 - ETA: 0s - loss: 0.1097 - accuracy: 0.96 - ETA: 0s - loss: 0.1099 - accuracy: 0.96 - 1s 74us/sample - loss: 0.1123 - accuracy: 0.9687 - val_loss: 0.2612 - val_accuracy: 0.9320\n"
     ]
    },
    {
     "data": {
      "text/html": [
       "<span style=\"color:#4527A0\"><h1 style=\"font-size:18px\">Trial complete</h1></span>"
      ],
      "text/plain": [
       "<IPython.core.display.HTML object>"
      ]
     },
     "metadata": {},
     "output_type": "display_data"
    },
    {
     "data": {
      "text/html": [
       "<span style=\"color:#4527A0\"><h1 style=\"font-size:18px\">Trial summary</h1></span>"
      ],
      "text/plain": [
       "<IPython.core.display.HTML object>"
      ]
     },
     "metadata": {},
     "output_type": "display_data"
    },
    {
     "data": {
      "text/html": [
       "<span style=\"color:cyan\"> |-Trial ID: 5740c70a6063f213030ee5e7fa28c2e8</span>"
      ],
      "text/plain": [
       "<IPython.core.display.HTML object>"
      ]
     },
     "metadata": {},
     "output_type": "display_data"
    },
    {
     "data": {
      "text/html": [
       "<span style=\"color:cyan\"> |-Score: 0.932004451751709</span>"
      ],
      "text/plain": [
       "<IPython.core.display.HTML object>"
      ]
     },
     "metadata": {},
     "output_type": "display_data"
    },
    {
     "data": {
      "text/html": [
       "<span style=\"color:cyan\"> |-Best step: 0</span>"
      ],
      "text/plain": [
       "<IPython.core.display.HTML object>"
      ]
     },
     "metadata": {},
     "output_type": "display_data"
    },
    {
     "data": {
      "text/html": [
       "<span style=\"color:#7E57C2\"><h2 style=\"font-size:16px\">Hyperparameters:</h2></span>"
      ],
      "text/plain": [
       "<IPython.core.display.HTML object>"
      ]
     },
     "metadata": {},
     "output_type": "display_data"
    },
    {
     "data": {
      "text/html": [
       "<span style=\"color:cyan\"> |-activation_func: relu</span>"
      ],
      "text/plain": [
       "<IPython.core.display.HTML object>"
      ]
     },
     "metadata": {},
     "output_type": "display_data"
    },
    {
     "data": {
      "text/html": [
       "<span style=\"color:blue\"> |-activation_func_2: tanh</span>"
      ],
      "text/plain": [
       "<IPython.core.display.HTML object>"
      ]
     },
     "metadata": {},
     "output_type": "display_data"
    },
    {
     "data": {
      "text/html": [
       "<span style=\"color:cyan\"> |-layers: 2</span>"
      ],
      "text/plain": [
       "<IPython.core.display.HTML object>"
      ]
     },
     "metadata": {},
     "output_type": "display_data"
    },
    {
     "data": {
      "text/html": [
       "<span style=\"color:blue\"> |-learning_rate: 0.001</span>"
      ],
      "text/plain": [
       "<IPython.core.display.HTML object>"
      ]
     },
     "metadata": {},
     "output_type": "display_data"
    },
    {
     "data": {
      "text/html": [
       "<span style=\"color:cyan\"> |-tuner/bracket: 3</span>"
      ],
      "text/plain": [
       "<IPython.core.display.HTML object>"
      ]
     },
     "metadata": {},
     "output_type": "display_data"
    },
    {
     "data": {
      "text/html": [
       "<span style=\"color:blue\"> |-tuner/epochs: 2</span>"
      ],
      "text/plain": [
       "<IPython.core.display.HTML object>"
      ]
     },
     "metadata": {},
     "output_type": "display_data"
    },
    {
     "data": {
      "text/html": [
       "<span style=\"color:cyan\"> |-tuner/initial_epoch: 0</span>"
      ],
      "text/plain": [
       "<IPython.core.display.HTML object>"
      ]
     },
     "metadata": {},
     "output_type": "display_data"
    },
    {
     "data": {
      "text/html": [
       "<span style=\"color:blue\"> |-tuner/round: 0</span>"
      ],
      "text/plain": [
       "<IPython.core.display.HTML object>"
      ]
     },
     "metadata": {},
     "output_type": "display_data"
    },
    {
     "data": {
      "text/html": [
       "<span style=\"color:cyan\"> |-units: 16</span>"
      ],
      "text/plain": [
       "<IPython.core.display.HTML object>"
      ]
     },
     "metadata": {},
     "output_type": "display_data"
    },
    {
     "name": "stdout",
     "output_type": "stream",
     "text": [
      "Train on 12140 samples, validate on 4515 samples\n",
      "Epoch 1/2\n",
      "12140/12140 [==============================] - ETA: 2:15 - loss: 7.3219 - accuracy: 0.25 - ETA: 5s - loss: 2.3569 - accuracy: 0.5498 - ETA: 2s - loss: 1.4367 - accuracy: 0.68 - ETA: 1s - loss: 1.0949 - accuracy: 0.75 - ETA: 1s - loss: 0.8535 - accuracy: 0.80 - ETA: 1s - loss: 0.7238 - accuracy: 0.83 - ETA: 0s - loss: 0.6462 - accuracy: 0.85 - ETA: 0s - loss: 0.5728 - accuracy: 0.87 - ETA: 0s - loss: 0.5178 - accuracy: 0.88 - ETA: 0s - loss: 0.4872 - accuracy: 0.89 - ETA: 0s - loss: 0.4445 - accuracy: 0.90 - ETA: 0s - loss: 0.4252 - accuracy: 0.90 - ETA: 0s - loss: 0.4032 - accuracy: 0.91 - ETA: 0s - loss: 0.3850 - accuracy: 0.91 - ETA: 0s - loss: 0.3696 - accuracy: 0.92 - 1s 117us/sample - loss: 0.3589 - accuracy: 0.9250 - val_loss: 0.4733 - val_accuracy: 0.9216\n",
      "Epoch 2/2\n",
      "12140/12140 [==============================] - ETA: 1s - loss: 0.5144 - accuracy: 0.93 - ETA: 0s - loss: 0.2412 - accuracy: 0.97 - ETA: 0s - loss: 0.2192 - accuracy: 0.97 - ETA: 0s - loss: 0.2179 - accuracy: 0.97 - ETA: 0s - loss: 0.2088 - accuracy: 0.97 - ETA: 0s - loss: 0.2251 - accuracy: 0.96 - ETA: 0s - loss: 0.2276 - accuracy: 0.97 - ETA: 0s - loss: 0.2204 - accuracy: 0.96 - ETA: 0s - loss: 0.2236 - accuracy: 0.96 - ETA: 0s - loss: 0.2204 - accuracy: 0.97 - ETA: 0s - loss: 0.2226 - accuracy: 0.97 - ETA: 0s - loss: 0.2162 - accuracy: 0.97 - ETA: 0s - loss: 0.2146 - accuracy: 0.97 - ETA: 0s - loss: 0.3074 - accuracy: 0.95 - ETA: 0s - loss: 0.3989 - accuracy: 0.94 - 1s 78us/sample - loss: 0.4396 - accuracy: 0.9407 - val_loss: 3.0645 - val_accuracy: 0.5996\n"
     ]
    },
    {
     "data": {
      "text/html": [
       "<span style=\"color:#4527A0\"><h1 style=\"font-size:18px\">Trial complete</h1></span>"
      ],
      "text/plain": [
       "<IPython.core.display.HTML object>"
      ]
     },
     "metadata": {},
     "output_type": "display_data"
    },
    {
     "data": {
      "text/html": [
       "<span style=\"color:#4527A0\"><h1 style=\"font-size:18px\">Trial summary</h1></span>"
      ],
      "text/plain": [
       "<IPython.core.display.HTML object>"
      ]
     },
     "metadata": {},
     "output_type": "display_data"
    },
    {
     "data": {
      "text/html": [
       "<span style=\"color:cyan\"> |-Trial ID: 3e0ab677a422300339e76e8cb8a46275</span>"
      ],
      "text/plain": [
       "<IPython.core.display.HTML object>"
      ]
     },
     "metadata": {},
     "output_type": "display_data"
    },
    {
     "data": {
      "text/html": [
       "<span style=\"color:cyan\"> |-Score: 0.9215946793556213</span>"
      ],
      "text/plain": [
       "<IPython.core.display.HTML object>"
      ]
     },
     "metadata": {},
     "output_type": "display_data"
    },
    {
     "data": {
      "text/html": [
       "<span style=\"color:cyan\"> |-Best step: 0</span>"
      ],
      "text/plain": [
       "<IPython.core.display.HTML object>"
      ]
     },
     "metadata": {},
     "output_type": "display_data"
    },
    {
     "data": {
      "text/html": [
       "<span style=\"color:#7E57C2\"><h2 style=\"font-size:16px\">Hyperparameters:</h2></span>"
      ],
      "text/plain": [
       "<IPython.core.display.HTML object>"
      ]
     },
     "metadata": {},
     "output_type": "display_data"
    },
    {
     "data": {
      "text/html": [
       "<span style=\"color:cyan\"> |-activation_func: swish</span>"
      ],
      "text/plain": [
       "<IPython.core.display.HTML object>"
      ]
     },
     "metadata": {},
     "output_type": "display_data"
    },
    {
     "data": {
      "text/html": [
       "<span style=\"color:blue\"> |-activation_func_2: swish</span>"
      ],
      "text/plain": [
       "<IPython.core.display.HTML object>"
      ]
     },
     "metadata": {},
     "output_type": "display_data"
    },
    {
     "data": {
      "text/html": [
       "<span style=\"color:cyan\"> |-layers: 3</span>"
      ],
      "text/plain": [
       "<IPython.core.display.HTML object>"
      ]
     },
     "metadata": {},
     "output_type": "display_data"
    },
    {
     "data": {
      "text/html": [
       "<span style=\"color:blue\"> |-learning_rate: 0.001</span>"
      ],
      "text/plain": [
       "<IPython.core.display.HTML object>"
      ]
     },
     "metadata": {},
     "output_type": "display_data"
    },
    {
     "data": {
      "text/html": [
       "<span style=\"color:cyan\"> |-tuner/bracket: 3</span>"
      ],
      "text/plain": [
       "<IPython.core.display.HTML object>"
      ]
     },
     "metadata": {},
     "output_type": "display_data"
    },
    {
     "data": {
      "text/html": [
       "<span style=\"color:blue\"> |-tuner/epochs: 2</span>"
      ],
      "text/plain": [
       "<IPython.core.display.HTML object>"
      ]
     },
     "metadata": {},
     "output_type": "display_data"
    },
    {
     "data": {
      "text/html": [
       "<span style=\"color:cyan\"> |-tuner/initial_epoch: 0</span>"
      ],
      "text/plain": [
       "<IPython.core.display.HTML object>"
      ]
     },
     "metadata": {},
     "output_type": "display_data"
    },
    {
     "data": {
      "text/html": [
       "<span style=\"color:blue\"> |-tuner/round: 0</span>"
      ],
      "text/plain": [
       "<IPython.core.display.HTML object>"
      ]
     },
     "metadata": {},
     "output_type": "display_data"
    },
    {
     "data": {
      "text/html": [
       "<span style=\"color:cyan\"> |-units: 64</span>"
      ],
      "text/plain": [
       "<IPython.core.display.HTML object>"
      ]
     },
     "metadata": {},
     "output_type": "display_data"
    },
    {
     "name": "stdout",
     "output_type": "stream",
     "text": [
      "Train on 12140 samples, validate on 4515 samples\n",
      "Epoch 1/2\n",
      "12140/12140 [==============================] - ETA: 2:07 - loss: 1.1550 - accuracy: 0.40 - ETA: 5s - loss: 0.6353 - accuracy: 0.6680 - ETA: 2s - loss: 0.4918 - accuracy: 0.77 - ETA: 2s - loss: 0.4066 - accuracy: 0.82 - ETA: 1s - loss: 0.3440 - accuracy: 0.85 - ETA: 1s - loss: 0.2992 - accuracy: 0.87 - ETA: 0s - loss: 0.2664 - accuracy: 0.89 - ETA: 0s - loss: 0.2470 - accuracy: 0.90 - ETA: 0s - loss: 0.2288 - accuracy: 0.91 - ETA: 0s - loss: 0.2162 - accuracy: 0.91 - ETA: 0s - loss: 0.2064 - accuracy: 0.92 - ETA: 0s - loss: 0.1959 - accuracy: 0.92 - ETA: 0s - loss: 0.1876 - accuracy: 0.93 - ETA: 0s - loss: 0.1805 - accuracy: 0.93 - ETA: 0s - loss: 0.1755 - accuracy: 0.93 - ETA: 0s - loss: 0.1686 - accuracy: 0.94 - 1s 116us/sample - loss: 0.1696 - accuracy: 0.9428 - val_loss: 0.2562 - val_accuracy: 0.9411\n",
      "Epoch 2/2\n",
      "12140/12140 [==============================] - ETA: 1s - loss: 0.1132 - accuracy: 0.96 - ETA: 0s - loss: 0.0836 - accuracy: 0.97 - ETA: 0s - loss: 0.0919 - accuracy: 0.97 - ETA: 0s - loss: 0.0901 - accuracy: 0.97 - ETA: 0s - loss: 0.0900 - accuracy: 0.97 - ETA: 0s - loss: 0.0833 - accuracy: 0.97 - ETA: 0s - loss: 0.0782 - accuracy: 0.97 - ETA: 0s - loss: 0.0848 - accuracy: 0.97 - ETA: 0s - loss: 0.0862 - accuracy: 0.97 - ETA: 0s - loss: 0.0884 - accuracy: 0.97 - ETA: 0s - loss: 0.0885 - accuracy: 0.97 - ETA: 0s - loss: 0.0872 - accuracy: 0.97 - ETA: 0s - loss: 0.0872 - accuracy: 0.97 - ETA: 0s - loss: 0.0874 - accuracy: 0.97 - ETA: 0s - loss: 0.0897 - accuracy: 0.97 - 1s 79us/sample - loss: 0.0911 - accuracy: 0.9773 - val_loss: 0.3061 - val_accuracy: 0.9333\n"
     ]
    },
    {
     "data": {
      "text/html": [
       "<span style=\"color:#4527A0\"><h1 style=\"font-size:18px\">Trial complete</h1></span>"
      ],
      "text/plain": [
       "<IPython.core.display.HTML object>"
      ]
     },
     "metadata": {},
     "output_type": "display_data"
    },
    {
     "data": {
      "text/html": [
       "<span style=\"color:#4527A0\"><h1 style=\"font-size:18px\">Trial summary</h1></span>"
      ],
      "text/plain": [
       "<IPython.core.display.HTML object>"
      ]
     },
     "metadata": {},
     "output_type": "display_data"
    },
    {
     "data": {
      "text/html": [
       "<span style=\"color:cyan\"> |-Trial ID: 2b92a6f9de023c82e16e2340af1cc834</span>"
      ],
      "text/plain": [
       "<IPython.core.display.HTML object>"
      ]
     },
     "metadata": {},
     "output_type": "display_data"
    },
    {
     "data": {
      "text/html": [
       "<span style=\"color:cyan\"> |-Score: 0.9410852789878845</span>"
      ],
      "text/plain": [
       "<IPython.core.display.HTML object>"
      ]
     },
     "metadata": {},
     "output_type": "display_data"
    },
    {
     "data": {
      "text/html": [
       "<span style=\"color:cyan\"> |-Best step: 0</span>"
      ],
      "text/plain": [
       "<IPython.core.display.HTML object>"
      ]
     },
     "metadata": {},
     "output_type": "display_data"
    },
    {
     "data": {
      "text/html": [
       "<span style=\"color:#7E57C2\"><h2 style=\"font-size:16px\">Hyperparameters:</h2></span>"
      ],
      "text/plain": [
       "<IPython.core.display.HTML object>"
      ]
     },
     "metadata": {},
     "output_type": "display_data"
    },
    {
     "data": {
      "text/html": [
       "<span style=\"color:cyan\"> |-activation_func: relu</span>"
      ],
      "text/plain": [
       "<IPython.core.display.HTML object>"
      ]
     },
     "metadata": {},
     "output_type": "display_data"
    },
    {
     "data": {
      "text/html": [
       "<span style=\"color:blue\"> |-activation_func_2: tanh</span>"
      ],
      "text/plain": [
       "<IPython.core.display.HTML object>"
      ]
     },
     "metadata": {},
     "output_type": "display_data"
    },
    {
     "data": {
      "text/html": [
       "<span style=\"color:cyan\"> |-layers: 4</span>"
      ],
      "text/plain": [
       "<IPython.core.display.HTML object>"
      ]
     },
     "metadata": {},
     "output_type": "display_data"
    },
    {
     "data": {
      "text/html": [
       "<span style=\"color:blue\"> |-learning_rate: 0.0001</span>"
      ],
      "text/plain": [
       "<IPython.core.display.HTML object>"
      ]
     },
     "metadata": {},
     "output_type": "display_data"
    },
    {
     "data": {
      "text/html": [
       "<span style=\"color:cyan\"> |-tuner/bracket: 3</span>"
      ],
      "text/plain": [
       "<IPython.core.display.HTML object>"
      ]
     },
     "metadata": {},
     "output_type": "display_data"
    },
    {
     "data": {
      "text/html": [
       "<span style=\"color:blue\"> |-tuner/epochs: 2</span>"
      ],
      "text/plain": [
       "<IPython.core.display.HTML object>"
      ]
     },
     "metadata": {},
     "output_type": "display_data"
    },
    {
     "data": {
      "text/html": [
       "<span style=\"color:cyan\"> |-tuner/initial_epoch: 0</span>"
      ],
      "text/plain": [
       "<IPython.core.display.HTML object>"
      ]
     },
     "metadata": {},
     "output_type": "display_data"
    },
    {
     "data": {
      "text/html": [
       "<span style=\"color:blue\"> |-tuner/round: 0</span>"
      ],
      "text/plain": [
       "<IPython.core.display.HTML object>"
      ]
     },
     "metadata": {},
     "output_type": "display_data"
    },
    {
     "data": {
      "text/html": [
       "<span style=\"color:cyan\"> |-units: 240</span>"
      ],
      "text/plain": [
       "<IPython.core.display.HTML object>"
      ]
     },
     "metadata": {},
     "output_type": "display_data"
    },
    {
     "name": "stdout",
     "output_type": "stream",
     "text": [
      "Train on 12140 samples, validate on 4515 samples\n",
      "Epoch 1/2\n",
      "12140/12140 [==============================] - ETA: 1:54 - loss: 9.1595 - accuracy: 0.40 - ETA: 4s - loss: 8.2701 - accuracy: 0.4542 - ETA: 2s - loss: 6.2701 - accuracy: 0.46 - ETA: 1s - loss: 4.3117 - accuracy: 0.58 - ETA: 1s - loss: 3.3301 - accuracy: 0.65 - ETA: 0s - loss: 2.7489 - accuracy: 0.70 - ETA: 0s - loss: 2.3384 - accuracy: 0.74 - ETA: 0s - loss: 2.0383 - accuracy: 0.76 - ETA: 0s - loss: 1.8192 - accuracy: 0.78 - ETA: 0s - loss: 1.6406 - accuracy: 0.80 - ETA: 0s - loss: 1.4908 - accuracy: 0.82 - ETA: 0s - loss: 1.3664 - accuracy: 0.83 - ETA: 0s - loss: 1.2659 - accuracy: 0.84 - ETA: 0s - loss: 1.1832 - accuracy: 0.85 - 1s 105us/sample - loss: 1.1374 - accuracy: 0.8609 - val_loss: 0.4414 - val_accuracy: 0.9032\n",
      "Epoch 2/2\n",
      "12140/12140 [==============================] - ETA: 1s - loss: 1.1560 - accuracy: 0.87 - ETA: 0s - loss: 0.2734 - accuracy: 0.94 - ETA: 0s - loss: 0.2165 - accuracy: 0.95 - ETA: 0s - loss: 0.2035 - accuracy: 0.96 - ETA: 0s - loss: 0.2095 - accuracy: 0.96 - ETA: 0s - loss: 0.1841 - accuracy: 0.96 - ETA: 0s - loss: 0.1678 - accuracy: 0.96 - ETA: 0s - loss: 0.1657 - accuracy: 0.96 - ETA: 0s - loss: 0.1750 - accuracy: 0.96 - ETA: 0s - loss: 0.1745 - accuracy: 0.96 - ETA: 0s - loss: 0.1728 - accuracy: 0.96 - ETA: 0s - loss: 0.1758 - accuracy: 0.96 - ETA: 0s - loss: 0.1769 - accuracy: 0.96 - ETA: 0s - loss: 0.1812 - accuracy: 0.96 - 1s 77us/sample - loss: 0.1797 - accuracy: 0.9696 - val_loss: 0.4417 - val_accuracy: 0.9329\n"
     ]
    },
    {
     "data": {
      "text/html": [
       "<span style=\"color:#4527A0\"><h1 style=\"font-size:18px\">Trial complete</h1></span>"
      ],
      "text/plain": [
       "<IPython.core.display.HTML object>"
      ]
     },
     "metadata": {},
     "output_type": "display_data"
    },
    {
     "data": {
      "text/html": [
       "<span style=\"color:#4527A0\"><h1 style=\"font-size:18px\">Trial summary</h1></span>"
      ],
      "text/plain": [
       "<IPython.core.display.HTML object>"
      ]
     },
     "metadata": {},
     "output_type": "display_data"
    },
    {
     "data": {
      "text/html": [
       "<span style=\"color:cyan\"> |-Trial ID: 85ee415be82e06c63095a64b044b3987</span>"
      ],
      "text/plain": [
       "<IPython.core.display.HTML object>"
      ]
     },
     "metadata": {},
     "output_type": "display_data"
    },
    {
     "data": {
      "text/html": [
       "<span style=\"color:cyan\"> |-Score: 0.9328903555870056</span>"
      ],
      "text/plain": [
       "<IPython.core.display.HTML object>"
      ]
     },
     "metadata": {},
     "output_type": "display_data"
    },
    {
     "data": {
      "text/html": [
       "<span style=\"color:cyan\"> |-Best step: 0</span>"
      ],
      "text/plain": [
       "<IPython.core.display.HTML object>"
      ]
     },
     "metadata": {},
     "output_type": "display_data"
    },
    {
     "data": {
      "text/html": [
       "<span style=\"color:#7E57C2\"><h2 style=\"font-size:16px\">Hyperparameters:</h2></span>"
      ],
      "text/plain": [
       "<IPython.core.display.HTML object>"
      ]
     },
     "metadata": {},
     "output_type": "display_data"
    },
    {
     "data": {
      "text/html": [
       "<span style=\"color:cyan\"> |-activation_func: relu</span>"
      ],
      "text/plain": [
       "<IPython.core.display.HTML object>"
      ]
     },
     "metadata": {},
     "output_type": "display_data"
    },
    {
     "data": {
      "text/html": [
       "<span style=\"color:blue\"> |-activation_func_2: swish</span>"
      ],
      "text/plain": [
       "<IPython.core.display.HTML object>"
      ]
     },
     "metadata": {},
     "output_type": "display_data"
    },
    {
     "data": {
      "text/html": [
       "<span style=\"color:cyan\"> |-layers: 2</span>"
      ],
      "text/plain": [
       "<IPython.core.display.HTML object>"
      ]
     },
     "metadata": {},
     "output_type": "display_data"
    },
    {
     "data": {
      "text/html": [
       "<span style=\"color:blue\"> |-learning_rate: 0.001</span>"
      ],
      "text/plain": [
       "<IPython.core.display.HTML object>"
      ]
     },
     "metadata": {},
     "output_type": "display_data"
    },
    {
     "data": {
      "text/html": [
       "<span style=\"color:cyan\"> |-tuner/bracket: 3</span>"
      ],
      "text/plain": [
       "<IPython.core.display.HTML object>"
      ]
     },
     "metadata": {},
     "output_type": "display_data"
    },
    {
     "data": {
      "text/html": [
       "<span style=\"color:blue\"> |-tuner/epochs: 2</span>"
      ],
      "text/plain": [
       "<IPython.core.display.HTML object>"
      ]
     },
     "metadata": {},
     "output_type": "display_data"
    },
    {
     "data": {
      "text/html": [
       "<span style=\"color:cyan\"> |-tuner/initial_epoch: 0</span>"
      ],
      "text/plain": [
       "<IPython.core.display.HTML object>"
      ]
     },
     "metadata": {},
     "output_type": "display_data"
    },
    {
     "data": {
      "text/html": [
       "<span style=\"color:blue\"> |-tuner/round: 0</span>"
      ],
      "text/plain": [
       "<IPython.core.display.HTML object>"
      ]
     },
     "metadata": {},
     "output_type": "display_data"
    },
    {
     "data": {
      "text/html": [
       "<span style=\"color:cyan\"> |-units: 32</span>"
      ],
      "text/plain": [
       "<IPython.core.display.HTML object>"
      ]
     },
     "metadata": {},
     "output_type": "display_data"
    },
    {
     "name": "stdout",
     "output_type": "stream",
     "text": [
      "Train on 12140 samples, validate on 4515 samples\n",
      "Epoch 1/2\n",
      "12140/12140 [==============================] - ETA: 2:03 - loss: 4.2398 - accuracy: 0.43 - ETA: 5s - loss: 2.1464 - accuracy: 0.4688 - ETA: 2s - loss: 1.6898 - accuracy: 0.50 - ETA: 1s - loss: 1.4235 - accuracy: 0.55 - ETA: 1s - loss: 1.2754 - accuracy: 0.59 - ETA: 1s - loss: 1.1362 - accuracy: 0.63 - ETA: 1s - loss: 1.0302 - accuracy: 0.66 - ETA: 0s - loss: 0.9402 - accuracy: 0.69 - ETA: 0s - loss: 0.8603 - accuracy: 0.72 - ETA: 0s - loss: 0.8091 - accuracy: 0.73 - ETA: 0s - loss: 0.7571 - accuracy: 0.75 - ETA: 0s - loss: 0.7127 - accuracy: 0.76 - ETA: 0s - loss: 0.6744 - accuracy: 0.78 - ETA: 0s - loss: 0.6341 - accuracy: 0.79 - ETA: 0s - loss: 0.5996 - accuracy: 0.80 - 1s 114us/sample - loss: 0.5781 - accuracy: 0.8103 - val_loss: 0.4625 - val_accuracy: 0.8004\n",
      "Epoch 2/2\n",
      "12140/12140 [==============================] - ETA: 1s - loss: 0.1203 - accuracy: 0.96 - ETA: 0s - loss: 0.1575 - accuracy: 0.93 - ETA: 0s - loss: 0.1410 - accuracy: 0.94 - ETA: 0s - loss: 0.1525 - accuracy: 0.95 - ETA: 0s - loss: 0.1511 - accuracy: 0.95 - ETA: 0s - loss: 0.1585 - accuracy: 0.95 - ETA: 0s - loss: 0.1582 - accuracy: 0.95 - ETA: 0s - loss: 0.1566 - accuracy: 0.95 - ETA: 0s - loss: 0.1589 - accuracy: 0.95 - ETA: 0s - loss: 0.1568 - accuracy: 0.95 - ETA: 0s - loss: 0.1602 - accuracy: 0.95 - ETA: 0s - loss: 0.1604 - accuracy: 0.95 - ETA: 0s - loss: 0.1609 - accuracy: 0.95 - ETA: 0s - loss: 0.1589 - accuracy: 0.95 - ETA: 0s - loss: 0.1580 - accuracy: 0.95 - 1s 80us/sample - loss: 0.1574 - accuracy: 0.9572 - val_loss: 0.3368 - val_accuracy: 0.9052\n"
     ]
    },
    {
     "data": {
      "text/html": [
       "<span style=\"color:#4527A0\"><h1 style=\"font-size:18px\">Trial complete</h1></span>"
      ],
      "text/plain": [
       "<IPython.core.display.HTML object>"
      ]
     },
     "metadata": {},
     "output_type": "display_data"
    },
    {
     "data": {
      "text/html": [
       "<span style=\"color:#4527A0\"><h1 style=\"font-size:18px\">Trial summary</h1></span>"
      ],
      "text/plain": [
       "<IPython.core.display.HTML object>"
      ]
     },
     "metadata": {},
     "output_type": "display_data"
    },
    {
     "data": {
      "text/html": [
       "<span style=\"color:cyan\"> |-Trial ID: a46b5a6fbbcfdf70a51449e2822e4c3b</span>"
      ],
      "text/plain": [
       "<IPython.core.display.HTML object>"
      ]
     },
     "metadata": {},
     "output_type": "display_data"
    },
    {
     "data": {
      "text/html": [
       "<span style=\"color:cyan\"> |-Score: 0.9052048921585083</span>"
      ],
      "text/plain": [
       "<IPython.core.display.HTML object>"
      ]
     },
     "metadata": {},
     "output_type": "display_data"
    },
    {
     "data": {
      "text/html": [
       "<span style=\"color:cyan\"> |-Best step: 0</span>"
      ],
      "text/plain": [
       "<IPython.core.display.HTML object>"
      ]
     },
     "metadata": {},
     "output_type": "display_data"
    },
    {
     "data": {
      "text/html": [
       "<span style=\"color:#7E57C2\"><h2 style=\"font-size:16px\">Hyperparameters:</h2></span>"
      ],
      "text/plain": [
       "<IPython.core.display.HTML object>"
      ]
     },
     "metadata": {},
     "output_type": "display_data"
    },
    {
     "data": {
      "text/html": [
       "<span style=\"color:cyan\"> |-activation_func: swish</span>"
      ],
      "text/plain": [
       "<IPython.core.display.HTML object>"
      ]
     },
     "metadata": {},
     "output_type": "display_data"
    },
    {
     "data": {
      "text/html": [
       "<span style=\"color:blue\"> |-activation_func_2: relu</span>"
      ],
      "text/plain": [
       "<IPython.core.display.HTML object>"
      ]
     },
     "metadata": {},
     "output_type": "display_data"
    },
    {
     "data": {
      "text/html": [
       "<span style=\"color:cyan\"> |-layers: 2</span>"
      ],
      "text/plain": [
       "<IPython.core.display.HTML object>"
      ]
     },
     "metadata": {},
     "output_type": "display_data"
    },
    {
     "data": {
      "text/html": [
       "<span style=\"color:blue\"> |-learning_rate: 0.0001</span>"
      ],
      "text/plain": [
       "<IPython.core.display.HTML object>"
      ]
     },
     "metadata": {},
     "output_type": "display_data"
    },
    {
     "data": {
      "text/html": [
       "<span style=\"color:cyan\"> |-tuner/bracket: 3</span>"
      ],
      "text/plain": [
       "<IPython.core.display.HTML object>"
      ]
     },
     "metadata": {},
     "output_type": "display_data"
    },
    {
     "data": {
      "text/html": [
       "<span style=\"color:blue\"> |-tuner/epochs: 2</span>"
      ],
      "text/plain": [
       "<IPython.core.display.HTML object>"
      ]
     },
     "metadata": {},
     "output_type": "display_data"
    },
    {
     "data": {
      "text/html": [
       "<span style=\"color:cyan\"> |-tuner/initial_epoch: 0</span>"
      ],
      "text/plain": [
       "<IPython.core.display.HTML object>"
      ]
     },
     "metadata": {},
     "output_type": "display_data"
    },
    {
     "data": {
      "text/html": [
       "<span style=\"color:blue\"> |-tuner/round: 0</span>"
      ],
      "text/plain": [
       "<IPython.core.display.HTML object>"
      ]
     },
     "metadata": {},
     "output_type": "display_data"
    },
    {
     "data": {
      "text/html": [
       "<span style=\"color:cyan\"> |-units: 160</span>"
      ],
      "text/plain": [
       "<IPython.core.display.HTML object>"
      ]
     },
     "metadata": {},
     "output_type": "display_data"
    },
    {
     "name": "stdout",
     "output_type": "stream",
     "text": [
      "Train on 12140 samples, validate on 4515 samples\n",
      "Epoch 1/2\n",
      "12140/12140 [==============================] - ETA: 1:41 - loss: 4.5503 - accuracy: 0.43 - ETA: 3s - loss: 3.7873 - accuracy: 0.4806 - ETA: 2s - loss: 3.0977 - accuracy: 0.51 - ETA: 1s - loss: 2.7452 - accuracy: 0.53 - ETA: 1s - loss: 2.4745 - accuracy: 0.56 - ETA: 0s - loss: 2.3349 - accuracy: 0.58 - ETA: 0s - loss: 2.2179 - accuracy: 0.59 - ETA: 0s - loss: 2.1153 - accuracy: 0.60 - ETA: 0s - loss: 2.0092 - accuracy: 0.61 - ETA: 0s - loss: 1.9368 - accuracy: 0.62 - ETA: 0s - loss: 1.8576 - accuracy: 0.62 - ETA: 0s - loss: 1.8124 - accuracy: 0.63 - ETA: 0s - loss: 1.7469 - accuracy: 0.64 - 1s 98us/sample - loss: 1.7068 - accuracy: 0.6457 - val_loss: 2.3510 - val_accuracy: 0.5331\n",
      "Epoch 2/2\n",
      "12140/12140 [==============================] - ETA: 1s - loss: 1.3471 - accuracy: 0.78 - ETA: 0s - loss: 1.0388 - accuracy: 0.74 - ETA: 0s - loss: 1.0824 - accuracy: 0.73 - ETA: 0s - loss: 1.0497 - accuracy: 0.74 - ETA: 0s - loss: 1.0640 - accuracy: 0.75 - ETA: 0s - loss: 1.0352 - accuracy: 0.75 - ETA: 0s - loss: 1.0168 - accuracy: 0.75 - ETA: 0s - loss: 0.9856 - accuracy: 0.76 - ETA: 0s - loss: 0.9756 - accuracy: 0.76 - ETA: 0s - loss: 0.9519 - accuracy: 0.76 - ETA: 0s - loss: 0.9442 - accuracy: 0.76 - ETA: 0s - loss: 0.9160 - accuracy: 0.77 - ETA: 0s - loss: 0.8855 - accuracy: 0.77 - 1s 70us/sample - loss: 0.8749 - accuracy: 0.7767 - val_loss: 1.5976 - val_accuracy: 0.5508\n"
     ]
    },
    {
     "data": {
      "text/html": [
       "<span style=\"color:#4527A0\"><h1 style=\"font-size:18px\">Trial complete</h1></span>"
      ],
      "text/plain": [
       "<IPython.core.display.HTML object>"
      ]
     },
     "metadata": {},
     "output_type": "display_data"
    },
    {
     "data": {
      "text/html": [
       "<span style=\"color:#4527A0\"><h1 style=\"font-size:18px\">Trial summary</h1></span>"
      ],
      "text/plain": [
       "<IPython.core.display.HTML object>"
      ]
     },
     "metadata": {},
     "output_type": "display_data"
    },
    {
     "data": {
      "text/html": [
       "<span style=\"color:cyan\"> |-Trial ID: 0317fe10764e7937bfff98e9526143f6</span>"
      ],
      "text/plain": [
       "<IPython.core.display.HTML object>"
      ]
     },
     "metadata": {},
     "output_type": "display_data"
    },
    {
     "data": {
      "text/html": [
       "<span style=\"color:cyan\"> |-Score: 0.5508305430412292</span>"
      ],
      "text/plain": [
       "<IPython.core.display.HTML object>"
      ]
     },
     "metadata": {},
     "output_type": "display_data"
    },
    {
     "data": {
      "text/html": [
       "<span style=\"color:cyan\"> |-Best step: 0</span>"
      ],
      "text/plain": [
       "<IPython.core.display.HTML object>"
      ]
     },
     "metadata": {},
     "output_type": "display_data"
    },
    {
     "data": {
      "text/html": [
       "<span style=\"color:#7E57C2\"><h2 style=\"font-size:16px\">Hyperparameters:</h2></span>"
      ],
      "text/plain": [
       "<IPython.core.display.HTML object>"
      ]
     },
     "metadata": {},
     "output_type": "display_data"
    },
    {
     "data": {
      "text/html": [
       "<span style=\"color:cyan\"> |-activation_func: tanh</span>"
      ],
      "text/plain": [
       "<IPython.core.display.HTML object>"
      ]
     },
     "metadata": {},
     "output_type": "display_data"
    },
    {
     "data": {
      "text/html": [
       "<span style=\"color:blue\"> |-activation_func_2: tanh</span>"
      ],
      "text/plain": [
       "<IPython.core.display.HTML object>"
      ]
     },
     "metadata": {},
     "output_type": "display_data"
    },
    {
     "data": {
      "text/html": [
       "<span style=\"color:cyan\"> |-layers: 1</span>"
      ],
      "text/plain": [
       "<IPython.core.display.HTML object>"
      ]
     },
     "metadata": {},
     "output_type": "display_data"
    },
    {
     "data": {
      "text/html": [
       "<span style=\"color:blue\"> |-learning_rate: 0.0001</span>"
      ],
      "text/plain": [
       "<IPython.core.display.HTML object>"
      ]
     },
     "metadata": {},
     "output_type": "display_data"
    },
    {
     "data": {
      "text/html": [
       "<span style=\"color:cyan\"> |-tuner/bracket: 3</span>"
      ],
      "text/plain": [
       "<IPython.core.display.HTML object>"
      ]
     },
     "metadata": {},
     "output_type": "display_data"
    },
    {
     "data": {
      "text/html": [
       "<span style=\"color:blue\"> |-tuner/epochs: 2</span>"
      ],
      "text/plain": [
       "<IPython.core.display.HTML object>"
      ]
     },
     "metadata": {},
     "output_type": "display_data"
    },
    {
     "data": {
      "text/html": [
       "<span style=\"color:cyan\"> |-tuner/initial_epoch: 0</span>"
      ],
      "text/plain": [
       "<IPython.core.display.HTML object>"
      ]
     },
     "metadata": {},
     "output_type": "display_data"
    },
    {
     "data": {
      "text/html": [
       "<span style=\"color:blue\"> |-tuner/round: 0</span>"
      ],
      "text/plain": [
       "<IPython.core.display.HTML object>"
      ]
     },
     "metadata": {},
     "output_type": "display_data"
    },
    {
     "data": {
      "text/html": [
       "<span style=\"color:cyan\"> |-units: 176</span>"
      ],
      "text/plain": [
       "<IPython.core.display.HTML object>"
      ]
     },
     "metadata": {},
     "output_type": "display_data"
    },
    {
     "name": "stdout",
     "output_type": "stream",
     "text": [
      "Train on 12140 samples, validate on 4515 samples\n",
      "Epoch 1/2\n",
      "12140/12140 [==============================] - ETA: 2:05 - loss: 4.8937 - accuracy: 0.40 - ETA: 5s - loss: 1.0857 - accuracy: 0.8503 - ETA: 3s - loss: 0.8575 - accuracy: 0.88 - ETA: 2s - loss: 0.6699 - accuracy: 0.91 - ETA: 1s - loss: 0.5597 - accuracy: 0.92 - ETA: 1s - loss: 0.4925 - accuracy: 0.93 - ETA: 1s - loss: 0.4639 - accuracy: 0.93 - ETA: 0s - loss: 0.4187 - accuracy: 0.94 - ETA: 0s - loss: 0.3856 - accuracy: 0.94 - ETA: 0s - loss: 0.3557 - accuracy: 0.95 - ETA: 0s - loss: 0.3331 - accuracy: 0.95 - ETA: 0s - loss: 0.3161 - accuracy: 0.95 - ETA: 0s - loss: 0.3011 - accuracy: 0.95 - ETA: 0s - loss: 0.2910 - accuracy: 0.95 - ETA: 0s - loss: 0.2880 - accuracy: 0.95 - ETA: 0s - loss: 0.2807 - accuracy: 0.96 - 1s 119us/sample - loss: 0.2767 - accuracy: 0.9609 - val_loss: 0.3001 - val_accuracy: 0.9209\n",
      "Epoch 2/2\n",
      "12140/12140 [==============================] - ETA: 2s - loss: 0.1172 - accuracy: 0.96 - ETA: 0s - loss: 0.1921 - accuracy: 0.96 - ETA: 0s - loss: 0.2141 - accuracy: 0.96 - ETA: 0s - loss: 0.2009 - accuracy: 0.97 - ETA: 0s - loss: 0.2039 - accuracy: 0.97 - ETA: 0s - loss: 0.1878 - accuracy: 0.97 - ETA: 0s - loss: 0.1817 - accuracy: 0.97 - ETA: 0s - loss: 0.1850 - accuracy: 0.97 - ETA: 0s - loss: 0.1822 - accuracy: 0.97 - ETA: 0s - loss: 0.1756 - accuracy: 0.97 - ETA: 0s - loss: 0.1732 - accuracy: 0.97 - ETA: 0s - loss: 0.1750 - accuracy: 0.97 - ETA: 0s - loss: 0.1748 - accuracy: 0.97 - ETA: 0s - loss: 0.1744 - accuracy: 0.97 - ETA: 0s - loss: 0.1790 - accuracy: 0.97 - ETA: 0s - loss: 0.1705 - accuracy: 0.97 - 1s 82us/sample - loss: 0.1684 - accuracy: 0.9749 - val_loss: 1.8757 - val_accuracy: 0.8148\n"
     ]
    },
    {
     "data": {
      "text/html": [
       "<span style=\"color:#4527A0\"><h1 style=\"font-size:18px\">Trial complete</h1></span>"
      ],
      "text/plain": [
       "<IPython.core.display.HTML object>"
      ]
     },
     "metadata": {},
     "output_type": "display_data"
    },
    {
     "data": {
      "text/html": [
       "<span style=\"color:#4527A0\"><h1 style=\"font-size:18px\">Trial summary</h1></span>"
      ],
      "text/plain": [
       "<IPython.core.display.HTML object>"
      ]
     },
     "metadata": {},
     "output_type": "display_data"
    },
    {
     "data": {
      "text/html": [
       "<span style=\"color:cyan\"> |-Trial ID: 357d9f5cf2688bfb127c40bcb8e89c1e</span>"
      ],
      "text/plain": [
       "<IPython.core.display.HTML object>"
      ]
     },
     "metadata": {},
     "output_type": "display_data"
    },
    {
     "data": {
      "text/html": [
       "<span style=\"color:cyan\"> |-Score: 0.9209302067756653</span>"
      ],
      "text/plain": [
       "<IPython.core.display.HTML object>"
      ]
     },
     "metadata": {},
     "output_type": "display_data"
    },
    {
     "data": {
      "text/html": [
       "<span style=\"color:cyan\"> |-Best step: 0</span>"
      ],
      "text/plain": [
       "<IPython.core.display.HTML object>"
      ]
     },
     "metadata": {},
     "output_type": "display_data"
    },
    {
     "data": {
      "text/html": [
       "<span style=\"color:#7E57C2\"><h2 style=\"font-size:16px\">Hyperparameters:</h2></span>"
      ],
      "text/plain": [
       "<IPython.core.display.HTML object>"
      ]
     },
     "metadata": {},
     "output_type": "display_data"
    },
    {
     "data": {
      "text/html": [
       "<span style=\"color:cyan\"> |-activation_func: tanh</span>"
      ],
      "text/plain": [
       "<IPython.core.display.HTML object>"
      ]
     },
     "metadata": {},
     "output_type": "display_data"
    },
    {
     "data": {
      "text/html": [
       "<span style=\"color:blue\"> |-activation_func_2: tanh</span>"
      ],
      "text/plain": [
       "<IPython.core.display.HTML object>"
      ]
     },
     "metadata": {},
     "output_type": "display_data"
    },
    {
     "data": {
      "text/html": [
       "<span style=\"color:cyan\"> |-layers: 4</span>"
      ],
      "text/plain": [
       "<IPython.core.display.HTML object>"
      ]
     },
     "metadata": {},
     "output_type": "display_data"
    },
    {
     "data": {
      "text/html": [
       "<span style=\"color:blue\"> |-learning_rate: 0.001</span>"
      ],
      "text/plain": [
       "<IPython.core.display.HTML object>"
      ]
     },
     "metadata": {},
     "output_type": "display_data"
    },
    {
     "data": {
      "text/html": [
       "<span style=\"color:cyan\"> |-tuner/bracket: 3</span>"
      ],
      "text/plain": [
       "<IPython.core.display.HTML object>"
      ]
     },
     "metadata": {},
     "output_type": "display_data"
    },
    {
     "data": {
      "text/html": [
       "<span style=\"color:blue\"> |-tuner/epochs: 2</span>"
      ],
      "text/plain": [
       "<IPython.core.display.HTML object>"
      ]
     },
     "metadata": {},
     "output_type": "display_data"
    },
    {
     "data": {
      "text/html": [
       "<span style=\"color:cyan\"> |-tuner/initial_epoch: 0</span>"
      ],
      "text/plain": [
       "<IPython.core.display.HTML object>"
      ]
     },
     "metadata": {},
     "output_type": "display_data"
    },
    {
     "data": {
      "text/html": [
       "<span style=\"color:blue\"> |-tuner/round: 0</span>"
      ],
      "text/plain": [
       "<IPython.core.display.HTML object>"
      ]
     },
     "metadata": {},
     "output_type": "display_data"
    },
    {
     "data": {
      "text/html": [
       "<span style=\"color:cyan\"> |-units: 64</span>"
      ],
      "text/plain": [
       "<IPython.core.display.HTML object>"
      ]
     },
     "metadata": {},
     "output_type": "display_data"
    },
    {
     "name": "stdout",
     "output_type": "stream",
     "text": [
      "Train on 12140 samples, validate on 4515 samples\n",
      "Epoch 1/2\n",
      "12140/12140 [==============================] - ETA: 2:21 - loss: 1.6689 - accuracy: 0.62 - ETA: 6s - loss: 2.2230 - accuracy: 0.5990 - ETA: 3s - loss: 1.7573 - accuracy: 0.68 - ETA: 2s - loss: 1.4360 - accuracy: 0.74 - ETA: 1s - loss: 1.2412 - accuracy: 0.77 - ETA: 1s - loss: 1.1176 - accuracy: 0.80 - ETA: 1s - loss: 0.9930 - accuracy: 0.82 - ETA: 0s - loss: 0.9077 - accuracy: 0.83 - ETA: 0s - loss: 0.8443 - accuracy: 0.85 - ETA: 0s - loss: 0.8011 - accuracy: 0.85 - ETA: 0s - loss: 0.7460 - accuracy: 0.86 - ETA: 0s - loss: 0.7102 - accuracy: 0.86 - ETA: 0s - loss: 0.6751 - accuracy: 0.87 - ETA: 0s - loss: 0.6477 - accuracy: 0.88 - ETA: 0s - loss: 0.6180 - accuracy: 0.88 - ETA: 0s - loss: 0.5928 - accuracy: 0.89 - ETA: 0s - loss: 0.5714 - accuracy: 0.89 - 2s 126us/sample - loss: 0.5701 - accuracy: 0.8960 - val_loss: 0.8989 - val_accuracy: 0.8199\n",
      "Epoch 2/2\n",
      "12140/12140 [==============================] - ETA: 1s - loss: 0.0607 - accuracy: 0.93 - ETA: 0s - loss: 0.2922 - accuracy: 0.94 - ETA: 0s - loss: 0.3117 - accuracy: 0.94 - ETA: 0s - loss: 0.2894 - accuracy: 0.95 - ETA: 0s - loss: 0.2715 - accuracy: 0.95 - ETA: 0s - loss: 0.2837 - accuracy: 0.95 - ETA: 0s - loss: 0.2762 - accuracy: 0.95 - ETA: 0s - loss: 0.2911 - accuracy: 0.95 - ETA: 0s - loss: 0.2981 - accuracy: 0.95 - ETA: 0s - loss: 0.2988 - accuracy: 0.95 - ETA: 0s - loss: 0.2915 - accuracy: 0.96 - ETA: 0s - loss: 0.2844 - accuracy: 0.96 - ETA: 0s - loss: 0.2856 - accuracy: 0.96 - ETA: 0s - loss: 0.2787 - accuracy: 0.96 - ETA: 0s - loss: 0.2837 - accuracy: 0.95 - ETA: 0s - loss: 0.2789 - accuracy: 0.95 - 1s 83us/sample - loss: 0.2751 - accuracy: 0.9561 - val_loss: 0.6293 - val_accuracy: 0.8016\n"
     ]
    },
    {
     "data": {
      "text/html": [
       "<span style=\"color:#4527A0\"><h1 style=\"font-size:18px\">Trial complete</h1></span>"
      ],
      "text/plain": [
       "<IPython.core.display.HTML object>"
      ]
     },
     "metadata": {},
     "output_type": "display_data"
    },
    {
     "data": {
      "text/html": [
       "<span style=\"color:#4527A0\"><h1 style=\"font-size:18px\">Trial summary</h1></span>"
      ],
      "text/plain": [
       "<IPython.core.display.HTML object>"
      ]
     },
     "metadata": {},
     "output_type": "display_data"
    },
    {
     "data": {
      "text/html": [
       "<span style=\"color:cyan\"> |-Trial ID: 2a2b66d748858456e49ad87b8fc89182</span>"
      ],
      "text/plain": [
       "<IPython.core.display.HTML object>"
      ]
     },
     "metadata": {},
     "output_type": "display_data"
    },
    {
     "data": {
      "text/html": [
       "<span style=\"color:cyan\"> |-Score: 0.8199335336685181</span>"
      ],
      "text/plain": [
       "<IPython.core.display.HTML object>"
      ]
     },
     "metadata": {},
     "output_type": "display_data"
    },
    {
     "data": {
      "text/html": [
       "<span style=\"color:cyan\"> |-Best step: 0</span>"
      ],
      "text/plain": [
       "<IPython.core.display.HTML object>"
      ]
     },
     "metadata": {},
     "output_type": "display_data"
    },
    {
     "data": {
      "text/html": [
       "<span style=\"color:#7E57C2\"><h2 style=\"font-size:16px\">Hyperparameters:</h2></span>"
      ],
      "text/plain": [
       "<IPython.core.display.HTML object>"
      ]
     },
     "metadata": {},
     "output_type": "display_data"
    },
    {
     "data": {
      "text/html": [
       "<span style=\"color:cyan\"> |-activation_func: tanh</span>"
      ],
      "text/plain": [
       "<IPython.core.display.HTML object>"
      ]
     },
     "metadata": {},
     "output_type": "display_data"
    },
    {
     "data": {
      "text/html": [
       "<span style=\"color:blue\"> |-activation_func_2: swish</span>"
      ],
      "text/plain": [
       "<IPython.core.display.HTML object>"
      ]
     },
     "metadata": {},
     "output_type": "display_data"
    },
    {
     "data": {
      "text/html": [
       "<span style=\"color:cyan\"> |-layers: 5</span>"
      ],
      "text/plain": [
       "<IPython.core.display.HTML object>"
      ]
     },
     "metadata": {},
     "output_type": "display_data"
    },
    {
     "data": {
      "text/html": [
       "<span style=\"color:blue\"> |-learning_rate: 0.0001</span>"
      ],
      "text/plain": [
       "<IPython.core.display.HTML object>"
      ]
     },
     "metadata": {},
     "output_type": "display_data"
    },
    {
     "data": {
      "text/html": [
       "<span style=\"color:cyan\"> |-tuner/bracket: 3</span>"
      ],
      "text/plain": [
       "<IPython.core.display.HTML object>"
      ]
     },
     "metadata": {},
     "output_type": "display_data"
    },
    {
     "data": {
      "text/html": [
       "<span style=\"color:blue\"> |-tuner/epochs: 2</span>"
      ],
      "text/plain": [
       "<IPython.core.display.HTML object>"
      ]
     },
     "metadata": {},
     "output_type": "display_data"
    },
    {
     "data": {
      "text/html": [
       "<span style=\"color:cyan\"> |-tuner/initial_epoch: 0</span>"
      ],
      "text/plain": [
       "<IPython.core.display.HTML object>"
      ]
     },
     "metadata": {},
     "output_type": "display_data"
    },
    {
     "data": {
      "text/html": [
       "<span style=\"color:blue\"> |-tuner/round: 0</span>"
      ],
      "text/plain": [
       "<IPython.core.display.HTML object>"
      ]
     },
     "metadata": {},
     "output_type": "display_data"
    },
    {
     "data": {
      "text/html": [
       "<span style=\"color:cyan\"> |-units: 80</span>"
      ],
      "text/plain": [
       "<IPython.core.display.HTML object>"
      ]
     },
     "metadata": {},
     "output_type": "display_data"
    },
    {
     "name": "stdout",
     "output_type": "stream",
     "text": [
      "Train on 12140 samples, validate on 4515 samples\n",
      "Epoch 1/2\n",
      "12140/12140 [==============================] - ETA: 2:09 - loss: 5.5881 - accuracy: 0.34 - ETA: 5s - loss: 0.8984 - accuracy: 0.8633 - ETA: 2s - loss: 0.5842 - accuracy: 0.91 - ETA: 1s - loss: 0.4194 - accuracy: 0.93 - ETA: 1s - loss: 0.3657 - accuracy: 0.94 - ETA: 1s - loss: 0.3642 - accuracy: 0.94 - ETA: 0s - loss: 0.3431 - accuracy: 0.95 - ETA: 0s - loss: 0.3288 - accuracy: 0.95 - ETA: 0s - loss: 0.3218 - accuracy: 0.95 - ETA: 0s - loss: 0.3036 - accuracy: 0.95 - ETA: 0s - loss: 0.3015 - accuracy: 0.95 - ETA: 0s - loss: 0.2900 - accuracy: 0.96 - ETA: 0s - loss: 0.2920 - accuracy: 0.96 - ETA: 0s - loss: 0.2914 - accuracy: 0.96 - ETA: 0s - loss: 0.2977 - accuracy: 0.96 - ETA: 0s - loss: 0.3055 - accuracy: 0.96 - 1s 117us/sample - loss: 0.3049 - accuracy: 0.9626 - val_loss: 0.7491 - val_accuracy: 0.9172\n",
      "Epoch 2/2\n",
      "12140/12140 [==============================] - ETA: 3s - loss: 0.0357 - accuracy: 1.00 - ETA: 0s - loss: 0.1977 - accuracy: 0.98 - ETA: 0s - loss: 0.1642 - accuracy: 0.98 - ETA: 0s - loss: 0.1705 - accuracy: 0.97 - ETA: 0s - loss: 0.1789 - accuracy: 0.97 - ETA: 0s - loss: 0.2229 - accuracy: 0.97 - ETA: 0s - loss: 0.2260 - accuracy: 0.97 - ETA: 0s - loss: 0.2243 - accuracy: 0.97 - ETA: 0s - loss: 0.2195 - accuracy: 0.97 - ETA: 0s - loss: 0.2153 - accuracy: 0.97 - ETA: 0s - loss: 0.2127 - accuracy: 0.97 - ETA: 0s - loss: 0.2091 - accuracy: 0.97 - ETA: 0s - loss: 0.2039 - accuracy: 0.97 - ETA: 0s - loss: 0.2022 - accuracy: 0.97 - ETA: 0s - loss: 0.2000 - accuracy: 0.97 - ETA: 0s - loss: 0.2045 - accuracy: 0.97 - 1s 84us/sample - loss: 0.2042 - accuracy: 0.9728 - val_loss: 0.2909 - val_accuracy: 0.9338\n"
     ]
    },
    {
     "data": {
      "text/html": [
       "<span style=\"color:#4527A0\"><h1 style=\"font-size:18px\">Trial complete</h1></span>"
      ],
      "text/plain": [
       "<IPython.core.display.HTML object>"
      ]
     },
     "metadata": {},
     "output_type": "display_data"
    },
    {
     "data": {
      "text/html": [
       "<span style=\"color:#4527A0\"><h1 style=\"font-size:18px\">Trial summary</h1></span>"
      ],
      "text/plain": [
       "<IPython.core.display.HTML object>"
      ]
     },
     "metadata": {},
     "output_type": "display_data"
    },
    {
     "data": {
      "text/html": [
       "<span style=\"color:cyan\"> |-Trial ID: 111c42442e4af9c0faa04849ae4a3cfd</span>"
      ],
      "text/plain": [
       "<IPython.core.display.HTML object>"
      ]
     },
     "metadata": {},
     "output_type": "display_data"
    },
    {
     "data": {
      "text/html": [
       "<span style=\"color:cyan\"> |-Score: 0.933776319026947</span>"
      ],
      "text/plain": [
       "<IPython.core.display.HTML object>"
      ]
     },
     "metadata": {},
     "output_type": "display_data"
    },
    {
     "data": {
      "text/html": [
       "<span style=\"color:cyan\"> |-Best step: 0</span>"
      ],
      "text/plain": [
       "<IPython.core.display.HTML object>"
      ]
     },
     "metadata": {},
     "output_type": "display_data"
    },
    {
     "data": {
      "text/html": [
       "<span style=\"color:#7E57C2\"><h2 style=\"font-size:16px\">Hyperparameters:</h2></span>"
      ],
      "text/plain": [
       "<IPython.core.display.HTML object>"
      ]
     },
     "metadata": {},
     "output_type": "display_data"
    },
    {
     "data": {
      "text/html": [
       "<span style=\"color:cyan\"> |-activation_func: relu</span>"
      ],
      "text/plain": [
       "<IPython.core.display.HTML object>"
      ]
     },
     "metadata": {},
     "output_type": "display_data"
    },
    {
     "data": {
      "text/html": [
       "<span style=\"color:blue\"> |-activation_func_2: tanh</span>"
      ],
      "text/plain": [
       "<IPython.core.display.HTML object>"
      ]
     },
     "metadata": {},
     "output_type": "display_data"
    },
    {
     "data": {
      "text/html": [
       "<span style=\"color:cyan\"> |-layers: 4</span>"
      ],
      "text/plain": [
       "<IPython.core.display.HTML object>"
      ]
     },
     "metadata": {},
     "output_type": "display_data"
    },
    {
     "data": {
      "text/html": [
       "<span style=\"color:blue\"> |-learning_rate: 0.01</span>"
      ],
      "text/plain": [
       "<IPython.core.display.HTML object>"
      ]
     },
     "metadata": {},
     "output_type": "display_data"
    },
    {
     "data": {
      "text/html": [
       "<span style=\"color:cyan\"> |-tuner/bracket: 3</span>"
      ],
      "text/plain": [
       "<IPython.core.display.HTML object>"
      ]
     },
     "metadata": {},
     "output_type": "display_data"
    },
    {
     "data": {
      "text/html": [
       "<span style=\"color:blue\"> |-tuner/epochs: 2</span>"
      ],
      "text/plain": [
       "<IPython.core.display.HTML object>"
      ]
     },
     "metadata": {},
     "output_type": "display_data"
    },
    {
     "data": {
      "text/html": [
       "<span style=\"color:cyan\"> |-tuner/initial_epoch: 0</span>"
      ],
      "text/plain": [
       "<IPython.core.display.HTML object>"
      ]
     },
     "metadata": {},
     "output_type": "display_data"
    },
    {
     "data": {
      "text/html": [
       "<span style=\"color:blue\"> |-tuner/round: 0</span>"
      ],
      "text/plain": [
       "<IPython.core.display.HTML object>"
      ]
     },
     "metadata": {},
     "output_type": "display_data"
    },
    {
     "data": {
      "text/html": [
       "<span style=\"color:cyan\"> |-units: 160</span>"
      ],
      "text/plain": [
       "<IPython.core.display.HTML object>"
      ]
     },
     "metadata": {},
     "output_type": "display_data"
    },
    {
     "name": "stdout",
     "output_type": "stream",
     "text": [
      "Train on 12140 samples, validate on 4515 samples\n",
      "Epoch 1/2\n",
      "12140/12140 [==============================] - ETA: 2:07 - loss: 6.6602 - accuracy: 0.46 - ETA: 5s - loss: 5.9170 - accuracy: 0.4453 - ETA: 2s - loss: 3.6566 - accuracy: 0.46 - ETA: 1s - loss: 2.6262 - accuracy: 0.49 - ETA: 1s - loss: 2.1165 - accuracy: 0.53 - ETA: 1s - loss: 1.7790 - accuracy: 0.57 - ETA: 0s - loss: 1.5431 - accuracy: 0.61 - ETA: 0s - loss: 1.3758 - accuracy: 0.65 - ETA: 0s - loss: 1.2410 - accuracy: 0.68 - ETA: 0s - loss: 1.1408 - accuracy: 0.70 - ETA: 0s - loss: 1.0569 - accuracy: 0.72 - ETA: 0s - loss: 0.9896 - accuracy: 0.74 - ETA: 0s - loss: 0.9298 - accuracy: 0.75 - ETA: 0s - loss: 0.8798 - accuracy: 0.77 - ETA: 0s - loss: 0.8346 - accuracy: 0.78 - ETA: 0s - loss: 0.7930 - accuracy: 0.79 - 1s 115us/sample - loss: 0.7924 - accuracy: 0.7904 - val_loss: 0.4439 - val_accuracy: 0.8206\n",
      "Epoch 2/2\n",
      "12140/12140 [==============================] - ETA: 1s - loss: 0.1060 - accuracy: 1.00 - ETA: 0s - loss: 0.2095 - accuracy: 0.93 - ETA: 0s - loss: 0.1993 - accuracy: 0.93 - ETA: 0s - loss: 0.2012 - accuracy: 0.93 - ETA: 0s - loss: 0.1938 - accuracy: 0.93 - ETA: 0s - loss: 0.1931 - accuracy: 0.93 - ETA: 0s - loss: 0.1883 - accuracy: 0.94 - ETA: 0s - loss: 0.1810 - accuracy: 0.94 - ETA: 0s - loss: 0.1773 - accuracy: 0.94 - ETA: 0s - loss: 0.1720 - accuracy: 0.94 - ETA: 0s - loss: 0.1669 - accuracy: 0.94 - ETA: 0s - loss: 0.1628 - accuracy: 0.95 - ETA: 0s - loss: 0.1580 - accuracy: 0.95 - ETA: 0s - loss: 0.1549 - accuracy: 0.95 - ETA: 0s - loss: 0.1514 - accuracy: 0.95 - 1s 82us/sample - loss: 0.1484 - accuracy: 0.9563 - val_loss: 0.3350 - val_accuracy: 0.9110\n"
     ]
    },
    {
     "data": {
      "text/html": [
       "<span style=\"color:#4527A0\"><h1 style=\"font-size:18px\">Trial complete</h1></span>"
      ],
      "text/plain": [
       "<IPython.core.display.HTML object>"
      ]
     },
     "metadata": {},
     "output_type": "display_data"
    },
    {
     "data": {
      "text/html": [
       "<span style=\"color:#4527A0\"><h1 style=\"font-size:18px\">Trial summary</h1></span>"
      ],
      "text/plain": [
       "<IPython.core.display.HTML object>"
      ]
     },
     "metadata": {},
     "output_type": "display_data"
    },
    {
     "data": {
      "text/html": [
       "<span style=\"color:cyan\"> |-Trial ID: d9807950601fc2479a744e2ecbd0bd76</span>"
      ],
      "text/plain": [
       "<IPython.core.display.HTML object>"
      ]
     },
     "metadata": {},
     "output_type": "display_data"
    },
    {
     "data": {
      "text/html": [
       "<span style=\"color:cyan\"> |-Score: 0.9109634757041931</span>"
      ],
      "text/plain": [
       "<IPython.core.display.HTML object>"
      ]
     },
     "metadata": {},
     "output_type": "display_data"
    },
    {
     "data": {
      "text/html": [
       "<span style=\"color:cyan\"> |-Best step: 0</span>"
      ],
      "text/plain": [
       "<IPython.core.display.HTML object>"
      ]
     },
     "metadata": {},
     "output_type": "display_data"
    },
    {
     "data": {
      "text/html": [
       "<span style=\"color:#7E57C2\"><h2 style=\"font-size:16px\">Hyperparameters:</h2></span>"
      ],
      "text/plain": [
       "<IPython.core.display.HTML object>"
      ]
     },
     "metadata": {},
     "output_type": "display_data"
    },
    {
     "data": {
      "text/html": [
       "<span style=\"color:cyan\"> |-activation_func: relu</span>"
      ],
      "text/plain": [
       "<IPython.core.display.HTML object>"
      ]
     },
     "metadata": {},
     "output_type": "display_data"
    },
    {
     "data": {
      "text/html": [
       "<span style=\"color:blue\"> |-activation_func_2: tanh</span>"
      ],
      "text/plain": [
       "<IPython.core.display.HTML object>"
      ]
     },
     "metadata": {},
     "output_type": "display_data"
    },
    {
     "data": {
      "text/html": [
       "<span style=\"color:cyan\"> |-layers: 4</span>"
      ],
      "text/plain": [
       "<IPython.core.display.HTML object>"
      ]
     },
     "metadata": {},
     "output_type": "display_data"
    },
    {
     "data": {
      "text/html": [
       "<span style=\"color:blue\"> |-learning_rate: 0.0001</span>"
      ],
      "text/plain": [
       "<IPython.core.display.HTML object>"
      ]
     },
     "metadata": {},
     "output_type": "display_data"
    },
    {
     "data": {
      "text/html": [
       "<span style=\"color:cyan\"> |-tuner/bracket: 3</span>"
      ],
      "text/plain": [
       "<IPython.core.display.HTML object>"
      ]
     },
     "metadata": {},
     "output_type": "display_data"
    },
    {
     "data": {
      "text/html": [
       "<span style=\"color:blue\"> |-tuner/epochs: 2</span>"
      ],
      "text/plain": [
       "<IPython.core.display.HTML object>"
      ]
     },
     "metadata": {},
     "output_type": "display_data"
    },
    {
     "data": {
      "text/html": [
       "<span style=\"color:cyan\"> |-tuner/initial_epoch: 0</span>"
      ],
      "text/plain": [
       "<IPython.core.display.HTML object>"
      ]
     },
     "metadata": {},
     "output_type": "display_data"
    },
    {
     "data": {
      "text/html": [
       "<span style=\"color:blue\"> |-tuner/round: 0</span>"
      ],
      "text/plain": [
       "<IPython.core.display.HTML object>"
      ]
     },
     "metadata": {},
     "output_type": "display_data"
    },
    {
     "data": {
      "text/html": [
       "<span style=\"color:cyan\"> |-units: 80</span>"
      ],
      "text/plain": [
       "<IPython.core.display.HTML object>"
      ]
     },
     "metadata": {},
     "output_type": "display_data"
    },
    {
     "name": "stdout",
     "output_type": "stream",
     "text": [
      "Train on 12140 samples, validate on 4515 samples\n",
      "Epoch 1/2\n",
      "12140/12140 [==============================] - ETA: 1:42 - loss: 9.8425 - accuracy: 0.31 - ETA: 3s - loss: 2.2405 - accuracy: 0.7615 - ETA: 1s - loss: 1.4014 - accuracy: 0.83 - ETA: 1s - loss: 1.0720 - accuracy: 0.87 - ETA: 1s - loss: 0.8723 - accuracy: 0.89 - ETA: 0s - loss: 0.7745 - accuracy: 0.90 - ETA: 0s - loss: 0.6887 - accuracy: 0.91 - ETA: 0s - loss: 0.6322 - accuracy: 0.92 - ETA: 0s - loss: 0.6016 - accuracy: 0.93 - ETA: 0s - loss: 0.5593 - accuracy: 0.93 - ETA: 0s - loss: 0.5404 - accuracy: 0.94 - ETA: 0s - loss: 0.5128 - accuracy: 0.94 - ETA: 0s - loss: 0.5116 - accuracy: 0.94 - 1s 98us/sample - loss: 0.4951 - accuracy: 0.9465 - val_loss: 0.8832 - val_accuracy: 0.8986\n",
      "Epoch 2/2\n",
      "12140/12140 [==============================] - ETA: 1s - loss: 0.5141 - accuracy: 0.93 - ETA: 0s - loss: 0.2974 - accuracy: 0.97 - ETA: 0s - loss: 0.2794 - accuracy: 0.97 - ETA: 0s - loss: 0.2642 - accuracy: 0.97 - ETA: 0s - loss: 0.2657 - accuracy: 0.97 - ETA: 0s - loss: 0.2945 - accuracy: 0.97 - ETA: 0s - loss: 0.3010 - accuracy: 0.97 - ETA: 0s - loss: 0.2931 - accuracy: 0.97 - ETA: 0s - loss: 0.2950 - accuracy: 0.97 - ETA: 0s - loss: 0.2853 - accuracy: 0.97 - ETA: 0s - loss: 0.2906 - accuracy: 0.97 - ETA: 0s - loss: 0.2879 - accuracy: 0.97 - ETA: 0s - loss: 0.2943 - accuracy: 0.97 - 1s 71us/sample - loss: 0.3030 - accuracy: 0.9726 - val_loss: 0.7516 - val_accuracy: 0.9161\n"
     ]
    },
    {
     "data": {
      "text/html": [
       "<span style=\"color:#4527A0\"><h1 style=\"font-size:18px\">Trial complete</h1></span>"
      ],
      "text/plain": [
       "<IPython.core.display.HTML object>"
      ]
     },
     "metadata": {},
     "output_type": "display_data"
    },
    {
     "data": {
      "text/html": [
       "<span style=\"color:#4527A0\"><h1 style=\"font-size:18px\">Trial summary</h1></span>"
      ],
      "text/plain": [
       "<IPython.core.display.HTML object>"
      ]
     },
     "metadata": {},
     "output_type": "display_data"
    },
    {
     "data": {
      "text/html": [
       "<span style=\"color:cyan\"> |-Trial ID: d3b202cabb754db51288bce26ec1ce46</span>"
      ],
      "text/plain": [
       "<IPython.core.display.HTML object>"
      ]
     },
     "metadata": {},
     "output_type": "display_data"
    },
    {
     "data": {
      "text/html": [
       "<span style=\"color:cyan\"> |-Score: 0.9160575866699219</span>"
      ],
      "text/plain": [
       "<IPython.core.display.HTML object>"
      ]
     },
     "metadata": {},
     "output_type": "display_data"
    },
    {
     "data": {
      "text/html": [
       "<span style=\"color:cyan\"> |-Best step: 0</span>"
      ],
      "text/plain": [
       "<IPython.core.display.HTML object>"
      ]
     },
     "metadata": {},
     "output_type": "display_data"
    },
    {
     "data": {
      "text/html": [
       "<span style=\"color:#7E57C2\"><h2 style=\"font-size:16px\">Hyperparameters:</h2></span>"
      ],
      "text/plain": [
       "<IPython.core.display.HTML object>"
      ]
     },
     "metadata": {},
     "output_type": "display_data"
    },
    {
     "data": {
      "text/html": [
       "<span style=\"color:cyan\"> |-activation_func: relu</span>"
      ],
      "text/plain": [
       "<IPython.core.display.HTML object>"
      ]
     },
     "metadata": {},
     "output_type": "display_data"
    },
    {
     "data": {
      "text/html": [
       "<span style=\"color:blue\"> |-activation_func_2: relu</span>"
      ],
      "text/plain": [
       "<IPython.core.display.HTML object>"
      ]
     },
     "metadata": {},
     "output_type": "display_data"
    },
    {
     "data": {
      "text/html": [
       "<span style=\"color:cyan\"> |-layers: 1</span>"
      ],
      "text/plain": [
       "<IPython.core.display.HTML object>"
      ]
     },
     "metadata": {},
     "output_type": "display_data"
    },
    {
     "data": {
      "text/html": [
       "<span style=\"color:blue\"> |-learning_rate: 0.01</span>"
      ],
      "text/plain": [
       "<IPython.core.display.HTML object>"
      ]
     },
     "metadata": {},
     "output_type": "display_data"
    },
    {
     "data": {
      "text/html": [
       "<span style=\"color:cyan\"> |-tuner/bracket: 3</span>"
      ],
      "text/plain": [
       "<IPython.core.display.HTML object>"
      ]
     },
     "metadata": {},
     "output_type": "display_data"
    },
    {
     "data": {
      "text/html": [
       "<span style=\"color:blue\"> |-tuner/epochs: 2</span>"
      ],
      "text/plain": [
       "<IPython.core.display.HTML object>"
      ]
     },
     "metadata": {},
     "output_type": "display_data"
    },
    {
     "data": {
      "text/html": [
       "<span style=\"color:cyan\"> |-tuner/initial_epoch: 0</span>"
      ],
      "text/plain": [
       "<IPython.core.display.HTML object>"
      ]
     },
     "metadata": {},
     "output_type": "display_data"
    },
    {
     "data": {
      "text/html": [
       "<span style=\"color:blue\"> |-tuner/round: 0</span>"
      ],
      "text/plain": [
       "<IPython.core.display.HTML object>"
      ]
     },
     "metadata": {},
     "output_type": "display_data"
    },
    {
     "data": {
      "text/html": [
       "<span style=\"color:cyan\"> |-units: 16</span>"
      ],
      "text/plain": [
       "<IPython.core.display.HTML object>"
      ]
     },
     "metadata": {},
     "output_type": "display_data"
    },
    {
     "name": "stdout",
     "output_type": "stream",
     "text": [
      "Train on 12140 samples, validate on 4515 samples\n",
      "Epoch 1/2\n",
      "12140/12140 [==============================] - ETA: 1:54 - loss: 5.2320 - accuracy: 0.50 - ETA: 4s - loss: 1.6627 - accuracy: 0.8631 - ETA: 2s - loss: 1.0973 - accuracy: 0.90 - ETA: 1s - loss: 0.9233 - accuracy: 0.92 - ETA: 1s - loss: 0.8338 - accuracy: 0.93 - ETA: 0s - loss: 0.9747 - accuracy: 0.92 - ETA: 0s - loss: 0.9209 - accuracy: 0.93 - ETA: 0s - loss: 0.8607 - accuracy: 0.93 - ETA: 0s - loss: 0.8316 - accuracy: 0.93 - ETA: 0s - loss: 0.8028 - accuracy: 0.94 - ETA: 0s - loss: 0.7852 - accuracy: 0.94 - ETA: 0s - loss: 0.7655 - accuracy: 0.94 - ETA: 0s - loss: 0.7401 - accuracy: 0.94 - ETA: 0s - loss: 0.8766 - accuracy: 0.93 - ETA: 0s - loss: 0.9357 - accuracy: 0.93 - 1s 112us/sample - loss: 0.9387 - accuracy: 0.9345 - val_loss: 0.8510 - val_accuracy: 0.9440\n",
      "Epoch 2/2\n",
      "12140/12140 [==============================] - ETA: 1s - loss: 0.0000e+00 - accuracy: 1.00 - ETA: 0s - loss: 0.4990 - accuracy: 0.9653   - ETA: 0s - loss: 0.5875 - accuracy: 0.96 - ETA: 0s - loss: 0.6178 - accuracy: 0.95 - ETA: 0s - loss: 0.6369 - accuracy: 0.95 - ETA: 0s - loss: 0.6579 - accuracy: 0.95 - ETA: 0s - loss: 0.7005 - accuracy: 0.95 - ETA: 0s - loss: 0.7403 - accuracy: 0.95 - ETA: 0s - loss: 0.7242 - accuracy: 0.95 - ETA: 0s - loss: 0.7075 - accuracy: 0.95 - ETA: 0s - loss: 0.6713 - accuracy: 0.95 - ETA: 0s - loss: 0.6761 - accuracy: 0.95 - ETA: 0s - loss: 0.6704 - accuracy: 0.95 - ETA: 0s - loss: 0.6538 - accuracy: 0.95 - ETA: 0s - loss: 0.6374 - accuracy: 0.95 - 1s 76us/sample - loss: 0.6322 - accuracy: 0.9584 - val_loss: 0.8783 - val_accuracy: 0.9422\n"
     ]
    },
    {
     "data": {
      "text/html": [
       "<span style=\"color:#4527A0\"><h1 style=\"font-size:18px\">Trial complete</h1></span>"
      ],
      "text/plain": [
       "<IPython.core.display.HTML object>"
      ]
     },
     "metadata": {},
     "output_type": "display_data"
    },
    {
     "data": {
      "text/html": [
       "<span style=\"color:#4527A0\"><h1 style=\"font-size:18px\">Trial summary</h1></span>"
      ],
      "text/plain": [
       "<IPython.core.display.HTML object>"
      ]
     },
     "metadata": {},
     "output_type": "display_data"
    },
    {
     "data": {
      "text/html": [
       "<span style=\"color:cyan\"> |-Trial ID: d4083b7f3de92d8f4854aaafdfa277c3</span>"
      ],
      "text/plain": [
       "<IPython.core.display.HTML object>"
      ]
     },
     "metadata": {},
     "output_type": "display_data"
    },
    {
     "data": {
      "text/html": [
       "<span style=\"color:cyan\"> |-Score: 0.9439645409584045</span>"
      ],
      "text/plain": [
       "<IPython.core.display.HTML object>"
      ]
     },
     "metadata": {},
     "output_type": "display_data"
    },
    {
     "data": {
      "text/html": [
       "<span style=\"color:cyan\"> |-Best step: 0</span>"
      ],
      "text/plain": [
       "<IPython.core.display.HTML object>"
      ]
     },
     "metadata": {},
     "output_type": "display_data"
    },
    {
     "data": {
      "text/html": [
       "<span style=\"color:#7E57C2\"><h2 style=\"font-size:16px\">Hyperparameters:</h2></span>"
      ],
      "text/plain": [
       "<IPython.core.display.HTML object>"
      ]
     },
     "metadata": {},
     "output_type": "display_data"
    },
    {
     "data": {
      "text/html": [
       "<span style=\"color:cyan\"> |-activation_func: relu</span>"
      ],
      "text/plain": [
       "<IPython.core.display.HTML object>"
      ]
     },
     "metadata": {},
     "output_type": "display_data"
    },
    {
     "data": {
      "text/html": [
       "<span style=\"color:blue\"> |-activation_func_2: swish</span>"
      ],
      "text/plain": [
       "<IPython.core.display.HTML object>"
      ]
     },
     "metadata": {},
     "output_type": "display_data"
    },
    {
     "data": {
      "text/html": [
       "<span style=\"color:cyan\"> |-layers: 2</span>"
      ],
      "text/plain": [
       "<IPython.core.display.HTML object>"
      ]
     },
     "metadata": {},
     "output_type": "display_data"
    },
    {
     "data": {
      "text/html": [
       "<span style=\"color:blue\"> |-learning_rate: 0.01</span>"
      ],
      "text/plain": [
       "<IPython.core.display.HTML object>"
      ]
     },
     "metadata": {},
     "output_type": "display_data"
    },
    {
     "data": {
      "text/html": [
       "<span style=\"color:cyan\"> |-tuner/bracket: 3</span>"
      ],
      "text/plain": [
       "<IPython.core.display.HTML object>"
      ]
     },
     "metadata": {},
     "output_type": "display_data"
    },
    {
     "data": {
      "text/html": [
       "<span style=\"color:blue\"> |-tuner/epochs: 2</span>"
      ],
      "text/plain": [
       "<IPython.core.display.HTML object>"
      ]
     },
     "metadata": {},
     "output_type": "display_data"
    },
    {
     "data": {
      "text/html": [
       "<span style=\"color:cyan\"> |-tuner/initial_epoch: 0</span>"
      ],
      "text/plain": [
       "<IPython.core.display.HTML object>"
      ]
     },
     "metadata": {},
     "output_type": "display_data"
    },
    {
     "data": {
      "text/html": [
       "<span style=\"color:blue\"> |-tuner/round: 0</span>"
      ],
      "text/plain": [
       "<IPython.core.display.HTML object>"
      ]
     },
     "metadata": {},
     "output_type": "display_data"
    },
    {
     "data": {
      "text/html": [
       "<span style=\"color:cyan\"> |-units: 176</span>"
      ],
      "text/plain": [
       "<IPython.core.display.HTML object>"
      ]
     },
     "metadata": {},
     "output_type": "display_data"
    },
    {
     "name": "stdout",
     "output_type": "stream",
     "text": [
      "Train on 12140 samples, validate on 4515 samples\n",
      "Epoch 1/2\n",
      "12140/12140 [==============================] - ETA: 2:10 - loss: 3.9751 - accuracy: 0.34 - ETA: 5s - loss: 1.8493 - accuracy: 0.4401 - ETA: 2s - loss: 1.4313 - accuracy: 0.48 - ETA: 2s - loss: 1.2486 - accuracy: 0.50 - ETA: 1s - loss: 1.1685 - accuracy: 0.51 - ETA: 1s - loss: 1.0995 - accuracy: 0.52 - ETA: 1s - loss: 1.0579 - accuracy: 0.53 - ETA: 0s - loss: 1.0099 - accuracy: 0.53 - ETA: 0s - loss: 0.9630 - accuracy: 0.54 - ETA: 0s - loss: 0.9332 - accuracy: 0.54 - ETA: 0s - loss: 0.8926 - accuracy: 0.55 - ETA: 0s - loss: 0.8668 - accuracy: 0.56 - ETA: 0s - loss: 0.8413 - accuracy: 0.56 - ETA: 0s - loss: 0.8135 - accuracy: 0.57 - ETA: 0s - loss: 0.7933 - accuracy: 0.58 - ETA: 0s - loss: 0.7703 - accuracy: 0.59 - 1s 118us/sample - loss: 0.7606 - accuracy: 0.5963 - val_loss: 0.9375 - val_accuracy: 0.4283\n",
      "Epoch 2/2\n",
      "12140/12140 [==============================] - ETA: 1s - loss: 0.4660 - accuracy: 0.71 - ETA: 0s - loss: 0.4636 - accuracy: 0.73 - ETA: 0s - loss: 0.4515 - accuracy: 0.73 - ETA: 0s - loss: 0.4647 - accuracy: 0.73 - ETA: 0s - loss: 0.4784 - accuracy: 0.73 - ETA: 0s - loss: 0.4771 - accuracy: 0.73 - ETA: 0s - loss: 0.4769 - accuracy: 0.73 - ETA: 0s - loss: 0.4710 - accuracy: 0.73 - ETA: 0s - loss: 0.4727 - accuracy: 0.73 - ETA: 0s - loss: 0.4643 - accuracy: 0.73 - ETA: 0s - loss: 0.4625 - accuracy: 0.73 - ETA: 0s - loss: 0.4624 - accuracy: 0.74 - ETA: 0s - loss: 0.4603 - accuracy: 0.74 - ETA: 0s - loss: 0.4606 - accuracy: 0.74 - ETA: 0s - loss: 0.4561 - accuracy: 0.74 - ETA: 0s - loss: 0.4527 - accuracy: 0.74 - 1s 84us/sample - loss: 0.4501 - accuracy: 0.7511 - val_loss: 0.7541 - val_accuracy: 0.4678\n"
     ]
    },
    {
     "data": {
      "text/html": [
       "<span style=\"color:#4527A0\"><h1 style=\"font-size:18px\">Trial complete</h1></span>"
      ],
      "text/plain": [
       "<IPython.core.display.HTML object>"
      ]
     },
     "metadata": {},
     "output_type": "display_data"
    },
    {
     "data": {
      "text/html": [
       "<span style=\"color:#4527A0\"><h1 style=\"font-size:18px\">Trial summary</h1></span>"
      ],
      "text/plain": [
       "<IPython.core.display.HTML object>"
      ]
     },
     "metadata": {},
     "output_type": "display_data"
    },
    {
     "data": {
      "text/html": [
       "<span style=\"color:cyan\"> |-Trial ID: 702deed3c90e01080d636ec9f0bac62f</span>"
      ],
      "text/plain": [
       "<IPython.core.display.HTML object>"
      ]
     },
     "metadata": {},
     "output_type": "display_data"
    },
    {
     "data": {
      "text/html": [
       "<span style=\"color:cyan\"> |-Score: 0.46777409315109253</span>"
      ],
      "text/plain": [
       "<IPython.core.display.HTML object>"
      ]
     },
     "metadata": {},
     "output_type": "display_data"
    },
    {
     "data": {
      "text/html": [
       "<span style=\"color:cyan\"> |-Best step: 0</span>"
      ],
      "text/plain": [
       "<IPython.core.display.HTML object>"
      ]
     },
     "metadata": {},
     "output_type": "display_data"
    },
    {
     "data": {
      "text/html": [
       "<span style=\"color:#7E57C2\"><h2 style=\"font-size:16px\">Hyperparameters:</h2></span>"
      ],
      "text/plain": [
       "<IPython.core.display.HTML object>"
      ]
     },
     "metadata": {},
     "output_type": "display_data"
    },
    {
     "data": {
      "text/html": [
       "<span style=\"color:cyan\"> |-activation_func: swish</span>"
      ],
      "text/plain": [
       "<IPython.core.display.HTML object>"
      ]
     },
     "metadata": {},
     "output_type": "display_data"
    },
    {
     "data": {
      "text/html": [
       "<span style=\"color:blue\"> |-activation_func_2: tanh</span>"
      ],
      "text/plain": [
       "<IPython.core.display.HTML object>"
      ]
     },
     "metadata": {},
     "output_type": "display_data"
    },
    {
     "data": {
      "text/html": [
       "<span style=\"color:cyan\"> |-layers: 3</span>"
      ],
      "text/plain": [
       "<IPython.core.display.HTML object>"
      ]
     },
     "metadata": {},
     "output_type": "display_data"
    },
    {
     "data": {
      "text/html": [
       "<span style=\"color:blue\"> |-learning_rate: 0.0001</span>"
      ],
      "text/plain": [
       "<IPython.core.display.HTML object>"
      ]
     },
     "metadata": {},
     "output_type": "display_data"
    },
    {
     "data": {
      "text/html": [
       "<span style=\"color:cyan\"> |-tuner/bracket: 3</span>"
      ],
      "text/plain": [
       "<IPython.core.display.HTML object>"
      ]
     },
     "metadata": {},
     "output_type": "display_data"
    },
    {
     "data": {
      "text/html": [
       "<span style=\"color:blue\"> |-tuner/epochs: 2</span>"
      ],
      "text/plain": [
       "<IPython.core.display.HTML object>"
      ]
     },
     "metadata": {},
     "output_type": "display_data"
    },
    {
     "data": {
      "text/html": [
       "<span style=\"color:cyan\"> |-tuner/initial_epoch: 0</span>"
      ],
      "text/plain": [
       "<IPython.core.display.HTML object>"
      ]
     },
     "metadata": {},
     "output_type": "display_data"
    },
    {
     "data": {
      "text/html": [
       "<span style=\"color:blue\"> |-tuner/round: 0</span>"
      ],
      "text/plain": [
       "<IPython.core.display.HTML object>"
      ]
     },
     "metadata": {},
     "output_type": "display_data"
    },
    {
     "data": {
      "text/html": [
       "<span style=\"color:cyan\"> |-units: 224</span>"
      ],
      "text/plain": [
       "<IPython.core.display.HTML object>"
      ]
     },
     "metadata": {},
     "output_type": "display_data"
    },
    {
     "name": "stdout",
     "output_type": "stream",
     "text": [
      "Train on 12140 samples, validate on 4515 samples\n",
      "Epoch 1/2\n",
      "12140/12140 [==============================] - ETA: 2:11 - loss: 5.0141 - accuracy: 0.50 - ETA: 5s - loss: 0.5844 - accuracy: 0.9212 - ETA: 2s - loss: 0.4215 - accuracy: 0.94 - ETA: 2s - loss: 0.4252 - accuracy: 0.94 - ETA: 1s - loss: 0.4137 - accuracy: 0.94 - ETA: 1s - loss: 0.3719 - accuracy: 0.95 - ETA: 0s - loss: 0.3366 - accuracy: 0.95 - ETA: 0s - loss: 0.3115 - accuracy: 0.95 - ETA: 0s - loss: 0.2983 - accuracy: 0.95 - ETA: 0s - loss: 0.2739 - accuracy: 0.95 - ETA: 0s - loss: 0.2766 - accuracy: 0.95 - ETA: 0s - loss: 0.2645 - accuracy: 0.96 - ETA: 0s - loss: 0.2565 - accuracy: 0.96 - ETA: 0s - loss: 0.2456 - accuracy: 0.96 - ETA: 0s - loss: 0.2417 - accuracy: 0.96 - 1s 115us/sample - loss: 0.2421 - accuracy: 0.9633 - val_loss: 0.5532 - val_accuracy: 0.9101\n",
      "Epoch 2/2\n",
      "12140/12140 [==============================] - ETA: 1s - loss: 0.1280 - accuracy: 0.96 - ETA: 0s - loss: 0.1838 - accuracy: 0.97 - ETA: 0s - loss: 0.1823 - accuracy: 0.97 - ETA: 0s - loss: 0.1880 - accuracy: 0.97 - ETA: 0s - loss: 0.1885 - accuracy: 0.97 - ETA: 0s - loss: 0.1924 - accuracy: 0.97 - ETA: 0s - loss: 0.1956 - accuracy: 0.97 - ETA: 0s - loss: 0.1935 - accuracy: 0.97 - ETA: 0s - loss: 0.1826 - accuracy: 0.97 - ETA: 0s - loss: 0.1763 - accuracy: 0.97 - ETA: 0s - loss: 0.1709 - accuracy: 0.97 - ETA: 0s - loss: 0.1694 - accuracy: 0.97 - ETA: 0s - loss: 0.1704 - accuracy: 0.97 - ETA: 0s - loss: 0.1730 - accuracy: 0.97 - ETA: 0s - loss: 0.1694 - accuracy: 0.97 - ETA: 0s - loss: 0.1719 - accuracy: 0.97 - 1s 83us/sample - loss: 0.1715 - accuracy: 0.9735 - val_loss: 0.5267 - val_accuracy: 0.9269\n"
     ]
    },
    {
     "data": {
      "text/html": [
       "<span style=\"color:#4527A0\"><h1 style=\"font-size:18px\">Trial complete</h1></span>"
      ],
      "text/plain": [
       "<IPython.core.display.HTML object>"
      ]
     },
     "metadata": {},
     "output_type": "display_data"
    },
    {
     "data": {
      "text/html": [
       "<span style=\"color:#4527A0\"><h1 style=\"font-size:18px\">Trial summary</h1></span>"
      ],
      "text/plain": [
       "<IPython.core.display.HTML object>"
      ]
     },
     "metadata": {},
     "output_type": "display_data"
    },
    {
     "data": {
      "text/html": [
       "<span style=\"color:cyan\"> |-Trial ID: 429e9c408f30c6284e27bae63e0dfc0e</span>"
      ],
      "text/plain": [
       "<IPython.core.display.HTML object>"
      ]
     },
     "metadata": {},
     "output_type": "display_data"
    },
    {
     "data": {
      "text/html": [
       "<span style=\"color:cyan\"> |-Score: 0.9269102811813354</span>"
      ],
      "text/plain": [
       "<IPython.core.display.HTML object>"
      ]
     },
     "metadata": {},
     "output_type": "display_data"
    },
    {
     "data": {
      "text/html": [
       "<span style=\"color:cyan\"> |-Best step: 0</span>"
      ],
      "text/plain": [
       "<IPython.core.display.HTML object>"
      ]
     },
     "metadata": {},
     "output_type": "display_data"
    },
    {
     "data": {
      "text/html": [
       "<span style=\"color:#7E57C2\"><h2 style=\"font-size:16px\">Hyperparameters:</h2></span>"
      ],
      "text/plain": [
       "<IPython.core.display.HTML object>"
      ]
     },
     "metadata": {},
     "output_type": "display_data"
    },
    {
     "data": {
      "text/html": [
       "<span style=\"color:cyan\"> |-activation_func: swish</span>"
      ],
      "text/plain": [
       "<IPython.core.display.HTML object>"
      ]
     },
     "metadata": {},
     "output_type": "display_data"
    },
    {
     "data": {
      "text/html": [
       "<span style=\"color:blue\"> |-activation_func_2: tanh</span>"
      ],
      "text/plain": [
       "<IPython.core.display.HTML object>"
      ]
     },
     "metadata": {},
     "output_type": "display_data"
    },
    {
     "data": {
      "text/html": [
       "<span style=\"color:cyan\"> |-layers: 3</span>"
      ],
      "text/plain": [
       "<IPython.core.display.HTML object>"
      ]
     },
     "metadata": {},
     "output_type": "display_data"
    },
    {
     "data": {
      "text/html": [
       "<span style=\"color:blue\"> |-learning_rate: 0.01</span>"
      ],
      "text/plain": [
       "<IPython.core.display.HTML object>"
      ]
     },
     "metadata": {},
     "output_type": "display_data"
    },
    {
     "data": {
      "text/html": [
       "<span style=\"color:cyan\"> |-tuner/bracket: 3</span>"
      ],
      "text/plain": [
       "<IPython.core.display.HTML object>"
      ]
     },
     "metadata": {},
     "output_type": "display_data"
    },
    {
     "data": {
      "text/html": [
       "<span style=\"color:blue\"> |-tuner/epochs: 2</span>"
      ],
      "text/plain": [
       "<IPython.core.display.HTML object>"
      ]
     },
     "metadata": {},
     "output_type": "display_data"
    },
    {
     "data": {
      "text/html": [
       "<span style=\"color:cyan\"> |-tuner/initial_epoch: 0</span>"
      ],
      "text/plain": [
       "<IPython.core.display.HTML object>"
      ]
     },
     "metadata": {},
     "output_type": "display_data"
    },
    {
     "data": {
      "text/html": [
       "<span style=\"color:blue\"> |-tuner/round: 0</span>"
      ],
      "text/plain": [
       "<IPython.core.display.HTML object>"
      ]
     },
     "metadata": {},
     "output_type": "display_data"
    },
    {
     "data": {
      "text/html": [
       "<span style=\"color:cyan\"> |-units: 80</span>"
      ],
      "text/plain": [
       "<IPython.core.display.HTML object>"
      ]
     },
     "metadata": {},
     "output_type": "display_data"
    },
    {
     "name": "stdout",
     "output_type": "stream",
     "text": [
      "Train on 12140 samples, validate on 4515 samples\n",
      "Epoch 1/2\n",
      "12140/12140 [==============================] - ETA: 2:12 - loss: 3.4798 - accuracy: 0.43 - ETA: 5s - loss: 1.6803 - accuracy: 0.4712 - ETA: 2s - loss: 1.4102 - accuracy: 0.52 - ETA: 2s - loss: 1.1567 - accuracy: 0.60 - ETA: 1s - loss: 1.0045 - accuracy: 0.63 - ETA: 1s - loss: 0.8980 - accuracy: 0.66 - ETA: 1s - loss: 0.8435 - accuracy: 0.68 - ETA: 0s - loss: 0.7764 - accuracy: 0.69 - ETA: 0s - loss: 0.7214 - accuracy: 0.71 - ETA: 0s - loss: 0.6859 - accuracy: 0.73 - ETA: 0s - loss: 0.6558 - accuracy: 0.74 - ETA: 0s - loss: 0.6218 - accuracy: 0.76 - ETA: 0s - loss: 0.5942 - accuracy: 0.77 - ETA: 0s - loss: 0.5685 - accuracy: 0.78 - ETA: 0s - loss: 0.5428 - accuracy: 0.79 - ETA: 0s - loss: 0.5213 - accuracy: 0.80 - 1s 121us/sample - loss: 0.5112 - accuracy: 0.8070 - val_loss: 0.5552 - val_accuracy: 0.7267\n",
      "Epoch 2/2\n",
      "12140/12140 [==============================] - ETA: 1s - loss: 0.0691 - accuracy: 1.00 - ETA: 0s - loss: 0.2022 - accuracy: 0.92 - ETA: 0s - loss: 0.2351 - accuracy: 0.92 - ETA: 0s - loss: 0.2136 - accuracy: 0.92 - ETA: 0s - loss: 0.2018 - accuracy: 0.93 - ETA: 0s - loss: 0.2089 - accuracy: 0.93 - ETA: 0s - loss: 0.1976 - accuracy: 0.93 - ETA: 0s - loss: 0.1930 - accuracy: 0.94 - ETA: 0s - loss: 0.1884 - accuracy: 0.94 - ETA: 0s - loss: 0.1835 - accuracy: 0.94 - ETA: 0s - loss: 0.1786 - accuracy: 0.94 - ETA: 0s - loss: 0.1789 - accuracy: 0.94 - ETA: 0s - loss: 0.1765 - accuracy: 0.94 - ETA: 0s - loss: 0.1701 - accuracy: 0.94 - ETA: 0s - loss: 0.1695 - accuracy: 0.95 - ETA: 0s - loss: 0.1667 - accuracy: 0.95 - 1s 83us/sample - loss: 0.1659 - accuracy: 0.9518 - val_loss: 0.3483 - val_accuracy: 0.8811\n"
     ]
    },
    {
     "data": {
      "text/html": [
       "<span style=\"color:#4527A0\"><h1 style=\"font-size:18px\">Trial complete</h1></span>"
      ],
      "text/plain": [
       "<IPython.core.display.HTML object>"
      ]
     },
     "metadata": {},
     "output_type": "display_data"
    },
    {
     "data": {
      "text/html": [
       "<span style=\"color:#4527A0\"><h1 style=\"font-size:18px\">Trial summary</h1></span>"
      ],
      "text/plain": [
       "<IPython.core.display.HTML object>"
      ]
     },
     "metadata": {},
     "output_type": "display_data"
    },
    {
     "data": {
      "text/html": [
       "<span style=\"color:cyan\"> |-Trial ID: a23c58ef0da86c807664d9829da0ce90</span>"
      ],
      "text/plain": [
       "<IPython.core.display.HTML object>"
      ]
     },
     "metadata": {},
     "output_type": "display_data"
    },
    {
     "data": {
      "text/html": [
       "<span style=\"color:cyan\"> |-Score: 0.8810631036758423</span>"
      ],
      "text/plain": [
       "<IPython.core.display.HTML object>"
      ]
     },
     "metadata": {},
     "output_type": "display_data"
    },
    {
     "data": {
      "text/html": [
       "<span style=\"color:cyan\"> |-Best step: 0</span>"
      ],
      "text/plain": [
       "<IPython.core.display.HTML object>"
      ]
     },
     "metadata": {},
     "output_type": "display_data"
    },
    {
     "data": {
      "text/html": [
       "<span style=\"color:#7E57C2\"><h2 style=\"font-size:16px\">Hyperparameters:</h2></span>"
      ],
      "text/plain": [
       "<IPython.core.display.HTML object>"
      ]
     },
     "metadata": {},
     "output_type": "display_data"
    },
    {
     "data": {
      "text/html": [
       "<span style=\"color:cyan\"> |-activation_func: swish</span>"
      ],
      "text/plain": [
       "<IPython.core.display.HTML object>"
      ]
     },
     "metadata": {},
     "output_type": "display_data"
    },
    {
     "data": {
      "text/html": [
       "<span style=\"color:blue\"> |-activation_func_2: relu</span>"
      ],
      "text/plain": [
       "<IPython.core.display.HTML object>"
      ]
     },
     "metadata": {},
     "output_type": "display_data"
    },
    {
     "data": {
      "text/html": [
       "<span style=\"color:cyan\"> |-layers: 3</span>"
      ],
      "text/plain": [
       "<IPython.core.display.HTML object>"
      ]
     },
     "metadata": {},
     "output_type": "display_data"
    },
    {
     "data": {
      "text/html": [
       "<span style=\"color:blue\"> |-learning_rate: 0.0001</span>"
      ],
      "text/plain": [
       "<IPython.core.display.HTML object>"
      ]
     },
     "metadata": {},
     "output_type": "display_data"
    },
    {
     "data": {
      "text/html": [
       "<span style=\"color:cyan\"> |-tuner/bracket: 3</span>"
      ],
      "text/plain": [
       "<IPython.core.display.HTML object>"
      ]
     },
     "metadata": {},
     "output_type": "display_data"
    },
    {
     "data": {
      "text/html": [
       "<span style=\"color:blue\"> |-tuner/epochs: 2</span>"
      ],
      "text/plain": [
       "<IPython.core.display.HTML object>"
      ]
     },
     "metadata": {},
     "output_type": "display_data"
    },
    {
     "data": {
      "text/html": [
       "<span style=\"color:cyan\"> |-tuner/initial_epoch: 0</span>"
      ],
      "text/plain": [
       "<IPython.core.display.HTML object>"
      ]
     },
     "metadata": {},
     "output_type": "display_data"
    },
    {
     "data": {
      "text/html": [
       "<span style=\"color:blue\"> |-tuner/round: 0</span>"
      ],
      "text/plain": [
       "<IPython.core.display.HTML object>"
      ]
     },
     "metadata": {},
     "output_type": "display_data"
    },
    {
     "data": {
      "text/html": [
       "<span style=\"color:cyan\"> |-units: 192</span>"
      ],
      "text/plain": [
       "<IPython.core.display.HTML object>"
      ]
     },
     "metadata": {},
     "output_type": "display_data"
    },
    {
     "name": "stdout",
     "output_type": "stream",
     "text": [
      "Train on 12140 samples, validate on 4515 samples\n",
      "Epoch 1/2\n",
      "12140/12140 [==============================] - ETA: 1:57 - loss: 4.5447 - accuracy: 0.43 - ETA: 4s - loss: 4.6280 - accuracy: 0.4892 - ETA: 2s - loss: 3.7236 - accuracy: 0.45 - ETA: 1s - loss: 3.2033 - accuracy: 0.46 - ETA: 1s - loss: 2.7808 - accuracy: 0.48 - ETA: 1s - loss: 2.4558 - accuracy: 0.48 - ETA: 0s - loss: 2.2514 - accuracy: 0.48 - ETA: 0s - loss: 2.0915 - accuracy: 0.49 - ETA: 0s - loss: 1.9713 - accuracy: 0.49 - ETA: 0s - loss: 1.8584 - accuracy: 0.50 - ETA: 0s - loss: 1.7808 - accuracy: 0.51 - ETA: 0s - loss: 1.7008 - accuracy: 0.52 - ETA: 0s - loss: 1.6384 - accuracy: 0.53 - ETA: 0s - loss: 1.5844 - accuracy: 0.54 - ETA: 0s - loss: 1.5274 - accuracy: 0.55 - 1s 113us/sample - loss: 1.5063 - accuracy: 0.5630 - val_loss: 2.4309 - val_accuracy: 0.4297\n",
      "Epoch 2/2\n",
      "12140/12140 [==============================] - ETA: 0s - loss: 0.7342 - accuracy: 0.59 - ETA: 0s - loss: 0.6163 - accuracy: 0.73 - ETA: 0s - loss: 0.6449 - accuracy: 0.73 - ETA: 0s - loss: 0.6634 - accuracy: 0.74 - ETA: 0s - loss: 0.6677 - accuracy: 0.74 - ETA: 0s - loss: 0.6556 - accuracy: 0.75 - ETA: 0s - loss: 0.6489 - accuracy: 0.76 - ETA: 0s - loss: 0.6465 - accuracy: 0.76 - ETA: 0s - loss: 0.6291 - accuracy: 0.76 - ETA: 0s - loss: 0.6149 - accuracy: 0.77 - ETA: 0s - loss: 0.6093 - accuracy: 0.77 - ETA: 0s - loss: 0.5980 - accuracy: 0.78 - ETA: 0s - loss: 0.5816 - accuracy: 0.78 - ETA: 0s - loss: 0.5744 - accuracy: 0.78 - ETA: 0s - loss: 0.5643 - accuracy: 0.79 - 1s 77us/sample - loss: 0.5617 - accuracy: 0.7931 - val_loss: 1.2075 - val_accuracy: 0.4990\n"
     ]
    },
    {
     "data": {
      "text/html": [
       "<span style=\"color:#4527A0\"><h1 style=\"font-size:18px\">Trial complete</h1></span>"
      ],
      "text/plain": [
       "<IPython.core.display.HTML object>"
      ]
     },
     "metadata": {},
     "output_type": "display_data"
    },
    {
     "data": {
      "text/html": [
       "<span style=\"color:#4527A0\"><h1 style=\"font-size:18px\">Trial summary</h1></span>"
      ],
      "text/plain": [
       "<IPython.core.display.HTML object>"
      ]
     },
     "metadata": {},
     "output_type": "display_data"
    },
    {
     "data": {
      "text/html": [
       "<span style=\"color:cyan\"> |-Trial ID: f14a5b1fdeb1386be44551e1379cb8ac</span>"
      ],
      "text/plain": [
       "<IPython.core.display.HTML object>"
      ]
     },
     "metadata": {},
     "output_type": "display_data"
    },
    {
     "data": {
      "text/html": [
       "<span style=\"color:cyan\"> |-Score: 0.4990033209323883</span>"
      ],
      "text/plain": [
       "<IPython.core.display.HTML object>"
      ]
     },
     "metadata": {},
     "output_type": "display_data"
    },
    {
     "data": {
      "text/html": [
       "<span style=\"color:cyan\"> |-Best step: 0</span>"
      ],
      "text/plain": [
       "<IPython.core.display.HTML object>"
      ]
     },
     "metadata": {},
     "output_type": "display_data"
    },
    {
     "data": {
      "text/html": [
       "<span style=\"color:#7E57C2\"><h2 style=\"font-size:16px\">Hyperparameters:</h2></span>"
      ],
      "text/plain": [
       "<IPython.core.display.HTML object>"
      ]
     },
     "metadata": {},
     "output_type": "display_data"
    },
    {
     "data": {
      "text/html": [
       "<span style=\"color:cyan\"> |-activation_func: swish</span>"
      ],
      "text/plain": [
       "<IPython.core.display.HTML object>"
      ]
     },
     "metadata": {},
     "output_type": "display_data"
    },
    {
     "data": {
      "text/html": [
       "<span style=\"color:blue\"> |-activation_func_2: tanh</span>"
      ],
      "text/plain": [
       "<IPython.core.display.HTML object>"
      ]
     },
     "metadata": {},
     "output_type": "display_data"
    },
    {
     "data": {
      "text/html": [
       "<span style=\"color:cyan\"> |-layers: 2</span>"
      ],
      "text/plain": [
       "<IPython.core.display.HTML object>"
      ]
     },
     "metadata": {},
     "output_type": "display_data"
    },
    {
     "data": {
      "text/html": [
       "<span style=\"color:blue\"> |-learning_rate: 0.0001</span>"
      ],
      "text/plain": [
       "<IPython.core.display.HTML object>"
      ]
     },
     "metadata": {},
     "output_type": "display_data"
    },
    {
     "data": {
      "text/html": [
       "<span style=\"color:cyan\"> |-tuner/bracket: 3</span>"
      ],
      "text/plain": [
       "<IPython.core.display.HTML object>"
      ]
     },
     "metadata": {},
     "output_type": "display_data"
    },
    {
     "data": {
      "text/html": [
       "<span style=\"color:blue\"> |-tuner/epochs: 2</span>"
      ],
      "text/plain": [
       "<IPython.core.display.HTML object>"
      ]
     },
     "metadata": {},
     "output_type": "display_data"
    },
    {
     "data": {
      "text/html": [
       "<span style=\"color:cyan\"> |-tuner/initial_epoch: 0</span>"
      ],
      "text/plain": [
       "<IPython.core.display.HTML object>"
      ]
     },
     "metadata": {},
     "output_type": "display_data"
    },
    {
     "data": {
      "text/html": [
       "<span style=\"color:blue\"> |-tuner/round: 0</span>"
      ],
      "text/plain": [
       "<IPython.core.display.HTML object>"
      ]
     },
     "metadata": {},
     "output_type": "display_data"
    },
    {
     "data": {
      "text/html": [
       "<span style=\"color:cyan\"> |-units: 240</span>"
      ],
      "text/plain": [
       "<IPython.core.display.HTML object>"
      ]
     },
     "metadata": {},
     "output_type": "display_data"
    },
    {
     "name": "stdout",
     "output_type": "stream",
     "text": [
      "Train on 12140 samples, validate on 4515 samples\n",
      "Epoch 1/2\n",
      "12140/12140 [==============================] - ETA: 2:20 - loss: 4.3819 - accuracy: 0.50 - ETA: 5s - loss: 3.2215 - accuracy: 0.4475 - ETA: 3s - loss: 2.3798 - accuracy: 0.44 - ETA: 2s - loss: 1.9871 - accuracy: 0.45 - ETA: 1s - loss: 1.7929 - accuracy: 0.44 - ETA: 1s - loss: 1.6530 - accuracy: 0.45 - ETA: 0s - loss: 1.5343 - accuracy: 0.45 - ETA: 0s - loss: 1.4410 - accuracy: 0.45 - ETA: 0s - loss: 1.3602 - accuracy: 0.46 - ETA: 0s - loss: 1.2842 - accuracy: 0.47 - ETA: 0s - loss: 1.2252 - accuracy: 0.49 - ETA: 0s - loss: 1.1655 - accuracy: 0.50 - ETA: 0s - loss: 1.1129 - accuracy: 0.51 - ETA: 0s - loss: 1.0651 - accuracy: 0.53 - ETA: 0s - loss: 1.0227 - accuracy: 0.54 - 1s 119us/sample - loss: 0.9878 - accuracy: 0.5621 - val_loss: 0.7395 - val_accuracy: 0.5679\n",
      "Epoch 2/2\n",
      "12140/12140 [==============================] - ETA: 1s - loss: 0.3288 - accuracy: 0.84 - ETA: 0s - loss: 0.3731 - accuracy: 0.82 - ETA: 0s - loss: 0.3702 - accuracy: 0.81 - ETA: 0s - loss: 0.3437 - accuracy: 0.82 - ETA: 0s - loss: 0.3325 - accuracy: 0.83 - ETA: 0s - loss: 0.3235 - accuracy: 0.84 - ETA: 0s - loss: 0.3165 - accuracy: 0.84 - ETA: 0s - loss: 0.3092 - accuracy: 0.84 - ETA: 0s - loss: 0.3036 - accuracy: 0.85 - ETA: 0s - loss: 0.2920 - accuracy: 0.85 - ETA: 0s - loss: 0.2878 - accuracy: 0.86 - ETA: 0s - loss: 0.2859 - accuracy: 0.86 - ETA: 0s - loss: 0.2778 - accuracy: 0.87 - ETA: 0s - loss: 0.2705 - accuracy: 0.87 - ETA: 0s - loss: 0.2681 - accuracy: 0.87 - 1s 81us/sample - loss: 0.2666 - accuracy: 0.8795 - val_loss: 0.4330 - val_accuracy: 0.7880\n"
     ]
    },
    {
     "data": {
      "text/html": [
       "<span style=\"color:#4527A0\"><h1 style=\"font-size:18px\">Trial complete</h1></span>"
      ],
      "text/plain": [
       "<IPython.core.display.HTML object>"
      ]
     },
     "metadata": {},
     "output_type": "display_data"
    },
    {
     "data": {
      "text/html": [
       "<span style=\"color:#4527A0\"><h1 style=\"font-size:18px\">Trial summary</h1></span>"
      ],
      "text/plain": [
       "<IPython.core.display.HTML object>"
      ]
     },
     "metadata": {},
     "output_type": "display_data"
    },
    {
     "data": {
      "text/html": [
       "<span style=\"color:cyan\"> |-Trial ID: 8dc3c1a7b26ee5dc73ca98a0fb9a2bd8</span>"
      ],
      "text/plain": [
       "<IPython.core.display.HTML object>"
      ]
     },
     "metadata": {},
     "output_type": "display_data"
    },
    {
     "data": {
      "text/html": [
       "<span style=\"color:cyan\"> |-Score: 0.7880398631095886</span>"
      ],
      "text/plain": [
       "<IPython.core.display.HTML object>"
      ]
     },
     "metadata": {},
     "output_type": "display_data"
    },
    {
     "data": {
      "text/html": [
       "<span style=\"color:cyan\"> |-Best step: 0</span>"
      ],
      "text/plain": [
       "<IPython.core.display.HTML object>"
      ]
     },
     "metadata": {},
     "output_type": "display_data"
    },
    {
     "data": {
      "text/html": [
       "<span style=\"color:#7E57C2\"><h2 style=\"font-size:16px\">Hyperparameters:</h2></span>"
      ],
      "text/plain": [
       "<IPython.core.display.HTML object>"
      ]
     },
     "metadata": {},
     "output_type": "display_data"
    },
    {
     "data": {
      "text/html": [
       "<span style=\"color:cyan\"> |-activation_func: swish</span>"
      ],
      "text/plain": [
       "<IPython.core.display.HTML object>"
      ]
     },
     "metadata": {},
     "output_type": "display_data"
    },
    {
     "data": {
      "text/html": [
       "<span style=\"color:blue\"> |-activation_func_2: swish</span>"
      ],
      "text/plain": [
       "<IPython.core.display.HTML object>"
      ]
     },
     "metadata": {},
     "output_type": "display_data"
    },
    {
     "data": {
      "text/html": [
       "<span style=\"color:cyan\"> |-layers: 3</span>"
      ],
      "text/plain": [
       "<IPython.core.display.HTML object>"
      ]
     },
     "metadata": {},
     "output_type": "display_data"
    },
    {
     "data": {
      "text/html": [
       "<span style=\"color:blue\"> |-learning_rate: 0.0001</span>"
      ],
      "text/plain": [
       "<IPython.core.display.HTML object>"
      ]
     },
     "metadata": {},
     "output_type": "display_data"
    },
    {
     "data": {
      "text/html": [
       "<span style=\"color:cyan\"> |-tuner/bracket: 3</span>"
      ],
      "text/plain": [
       "<IPython.core.display.HTML object>"
      ]
     },
     "metadata": {},
     "output_type": "display_data"
    },
    {
     "data": {
      "text/html": [
       "<span style=\"color:blue\"> |-tuner/epochs: 2</span>"
      ],
      "text/plain": [
       "<IPython.core.display.HTML object>"
      ]
     },
     "metadata": {},
     "output_type": "display_data"
    },
    {
     "data": {
      "text/html": [
       "<span style=\"color:cyan\"> |-tuner/initial_epoch: 0</span>"
      ],
      "text/plain": [
       "<IPython.core.display.HTML object>"
      ]
     },
     "metadata": {},
     "output_type": "display_data"
    },
    {
     "data": {
      "text/html": [
       "<span style=\"color:blue\"> |-tuner/round: 0</span>"
      ],
      "text/plain": [
       "<IPython.core.display.HTML object>"
      ]
     },
     "metadata": {},
     "output_type": "display_data"
    },
    {
     "data": {
      "text/html": [
       "<span style=\"color:cyan\"> |-units: 80</span>"
      ],
      "text/plain": [
       "<IPython.core.display.HTML object>"
      ]
     },
     "metadata": {},
     "output_type": "display_data"
    },
    {
     "name": "stdout",
     "output_type": "stream",
     "text": [
      "Train on 12140 samples, validate on 4515 samples\n",
      "Epoch 1/2\n",
      "12140/12140 [==============================] - ETA: 1:58 - loss: 8.0586 - accuracy: 0.40 - ETA: 4s - loss: 3.7256 - accuracy: 0.4483 - ETA: 2s - loss: 2.2845 - accuracy: 0.48 - ETA: 1s - loss: 1.6816 - accuracy: 0.54 - ETA: 1s - loss: 1.3685 - accuracy: 0.60 - ETA: 1s - loss: 1.1752 - accuracy: 0.64 - ETA: 0s - loss: 1.0297 - accuracy: 0.68 - ETA: 0s - loss: 0.9263 - accuracy: 0.71 - ETA: 0s - loss: 0.8390 - accuracy: 0.74 - ETA: 0s - loss: 0.7704 - accuracy: 0.75 - ETA: 0s - loss: 0.7135 - accuracy: 0.77 - ETA: 0s - loss: 0.6631 - accuracy: 0.79 - ETA: 0s - loss: 0.6249 - accuracy: 0.80 - ETA: 0s - loss: 0.5936 - accuracy: 0.81 - ETA: 0s - loss: 0.5598 - accuracy: 0.82 - 1s 111us/sample - loss: 0.5562 - accuracy: 0.8256 - val_loss: 0.3516 - val_accuracy: 0.8870\n",
      "Epoch 2/2\n",
      "12140/12140 [==============================] - ETA: 1s - loss: 0.1129 - accuracy: 0.96 - ETA: 0s - loss: 0.1363 - accuracy: 0.96 - ETA: 0s - loss: 0.1529 - accuracy: 0.95 - ETA: 0s - loss: 0.1367 - accuracy: 0.96 - ETA: 0s - loss: 0.1379 - accuracy: 0.96 - ETA: 0s - loss: 0.1424 - accuracy: 0.96 - ETA: 0s - loss: 0.1398 - accuracy: 0.96 - ETA: 0s - loss: 0.1409 - accuracy: 0.96 - ETA: 0s - loss: 0.1382 - accuracy: 0.96 - ETA: 0s - loss: 0.1338 - accuracy: 0.96 - ETA: 0s - loss: 0.1383 - accuracy: 0.96 - ETA: 0s - loss: 0.1316 - accuracy: 0.96 - ETA: 0s - loss: 0.1310 - accuracy: 0.96 - ETA: 0s - loss: 0.1364 - accuracy: 0.96 - ETA: 0s - loss: 0.1384 - accuracy: 0.96 - 1s 79us/sample - loss: 0.1390 - accuracy: 0.9678 - val_loss: 0.3780 - val_accuracy: 0.9216\n"
     ]
    },
    {
     "data": {
      "text/html": [
       "<span style=\"color:#4527A0\"><h1 style=\"font-size:18px\">Trial complete</h1></span>"
      ],
      "text/plain": [
       "<IPython.core.display.HTML object>"
      ]
     },
     "metadata": {},
     "output_type": "display_data"
    },
    {
     "data": {
      "text/html": [
       "<span style=\"color:#4527A0\"><h1 style=\"font-size:18px\">Trial summary</h1></span>"
      ],
      "text/plain": [
       "<IPython.core.display.HTML object>"
      ]
     },
     "metadata": {},
     "output_type": "display_data"
    },
    {
     "data": {
      "text/html": [
       "<span style=\"color:cyan\"> |-Trial ID: 542227eb1bcf6d1740cf530acd839d3f</span>"
      ],
      "text/plain": [
       "<IPython.core.display.HTML object>"
      ]
     },
     "metadata": {},
     "output_type": "display_data"
    },
    {
     "data": {
      "text/html": [
       "<span style=\"color:cyan\"> |-Score: 0.9215946793556213</span>"
      ],
      "text/plain": [
       "<IPython.core.display.HTML object>"
      ]
     },
     "metadata": {},
     "output_type": "display_data"
    },
    {
     "data": {
      "text/html": [
       "<span style=\"color:cyan\"> |-Best step: 0</span>"
      ],
      "text/plain": [
       "<IPython.core.display.HTML object>"
      ]
     },
     "metadata": {},
     "output_type": "display_data"
    },
    {
     "data": {
      "text/html": [
       "<span style=\"color:#7E57C2\"><h2 style=\"font-size:16px\">Hyperparameters:</h2></span>"
      ],
      "text/plain": [
       "<IPython.core.display.HTML object>"
      ]
     },
     "metadata": {},
     "output_type": "display_data"
    },
    {
     "data": {
      "text/html": [
       "<span style=\"color:cyan\"> |-activation_func: relu</span>"
      ],
      "text/plain": [
       "<IPython.core.display.HTML object>"
      ]
     },
     "metadata": {},
     "output_type": "display_data"
    },
    {
     "data": {
      "text/html": [
       "<span style=\"color:blue\"> |-activation_func_2: relu</span>"
      ],
      "text/plain": [
       "<IPython.core.display.HTML object>"
      ]
     },
     "metadata": {},
     "output_type": "display_data"
    },
    {
     "data": {
      "text/html": [
       "<span style=\"color:cyan\"> |-layers: 3</span>"
      ],
      "text/plain": [
       "<IPython.core.display.HTML object>"
      ]
     },
     "metadata": {},
     "output_type": "display_data"
    },
    {
     "data": {
      "text/html": [
       "<span style=\"color:blue\"> |-learning_rate: 0.0001</span>"
      ],
      "text/plain": [
       "<IPython.core.display.HTML object>"
      ]
     },
     "metadata": {},
     "output_type": "display_data"
    },
    {
     "data": {
      "text/html": [
       "<span style=\"color:cyan\"> |-tuner/bracket: 3</span>"
      ],
      "text/plain": [
       "<IPython.core.display.HTML object>"
      ]
     },
     "metadata": {},
     "output_type": "display_data"
    },
    {
     "data": {
      "text/html": [
       "<span style=\"color:blue\"> |-tuner/epochs: 2</span>"
      ],
      "text/plain": [
       "<IPython.core.display.HTML object>"
      ]
     },
     "metadata": {},
     "output_type": "display_data"
    },
    {
     "data": {
      "text/html": [
       "<span style=\"color:cyan\"> |-tuner/initial_epoch: 0</span>"
      ],
      "text/plain": [
       "<IPython.core.display.HTML object>"
      ]
     },
     "metadata": {},
     "output_type": "display_data"
    },
    {
     "data": {
      "text/html": [
       "<span style=\"color:blue\"> |-tuner/round: 0</span>"
      ],
      "text/plain": [
       "<IPython.core.display.HTML object>"
      ]
     },
     "metadata": {},
     "output_type": "display_data"
    },
    {
     "data": {
      "text/html": [
       "<span style=\"color:cyan\"> |-units: 160</span>"
      ],
      "text/plain": [
       "<IPython.core.display.HTML object>"
      ]
     },
     "metadata": {},
     "output_type": "display_data"
    },
    {
     "name": "stdout",
     "output_type": "stream",
     "text": [
      "Train on 12140 samples, validate on 4515 samples\n",
      "Epoch 1/2\n",
      "12140/12140 [==============================] - ETA: 2:08 - loss: 9.2860 - accuracy: 0.37 - ETA: 6s - loss: 7.9673 - accuracy: 0.4602 - ETA: 3s - loss: 7.8322 - accuracy: 0.46 - ETA: 2s - loss: 7.8672 - accuracy: 0.44 - ETA: 1s - loss: 7.5864 - accuracy: 0.45 - ETA: 1s - loss: 7.3528 - accuracy: 0.46 - ETA: 0s - loss: 7.1119 - accuracy: 0.46 - ETA: 0s - loss: 7.0967 - accuracy: 0.46 - ETA: 0s - loss: 7.0178 - accuracy: 0.45 - ETA: 0s - loss: 6.9193 - accuracy: 0.45 - ETA: 0s - loss: 6.7953 - accuracy: 0.45 - ETA: 0s - loss: 6.6845 - accuracy: 0.45 - ETA: 0s - loss: 6.5368 - accuracy: 0.45 - ETA: 0s - loss: 6.3972 - accuracy: 0.45 - ETA: 0s - loss: 6.2174 - accuracy: 0.45 - 1s 116us/sample - loss: 6.0256 - accuracy: 0.4598 - val_loss: 2.7743 - val_accuracy: 0.4027\n",
      "Epoch 2/2\n",
      "12140/12140 [==============================] - ETA: 2s - loss: 1.9951 - accuracy: 0.46 - ETA: 0s - loss: 2.8639 - accuracy: 0.44 - ETA: 0s - loss: 2.8099 - accuracy: 0.45 - ETA: 0s - loss: 2.6366 - accuracy: 0.46 - ETA: 0s - loss: 2.3843 - accuracy: 0.46 - ETA: 0s - loss: 2.2523 - accuracy: 0.46 - ETA: 0s - loss: 2.0836 - accuracy: 0.47 - ETA: 0s - loss: 1.9395 - accuracy: 0.47 - ETA: 0s - loss: 1.8293 - accuracy: 0.48 - ETA: 0s - loss: 1.7281 - accuracy: 0.48 - ETA: 0s - loss: 1.6409 - accuracy: 0.49 - ETA: 0s - loss: 1.5684 - accuracy: 0.49 - ETA: 0s - loss: 1.5030 - accuracy: 0.50 - ETA: 0s - loss: 1.4512 - accuracy: 0.50 - ETA: 0s - loss: 1.3998 - accuracy: 0.50 - 1s 81us/sample - loss: 1.3668 - accuracy: 0.5100 - val_loss: 0.9613 - val_accuracy: 0.4977\n"
     ]
    },
    {
     "data": {
      "text/html": [
       "<span style=\"color:#4527A0\"><h1 style=\"font-size:18px\">Trial complete</h1></span>"
      ],
      "text/plain": [
       "<IPython.core.display.HTML object>"
      ]
     },
     "metadata": {},
     "output_type": "display_data"
    },
    {
     "data": {
      "text/html": [
       "<span style=\"color:#4527A0\"><h1 style=\"font-size:18px\">Trial summary</h1></span>"
      ],
      "text/plain": [
       "<IPython.core.display.HTML object>"
      ]
     },
     "metadata": {},
     "output_type": "display_data"
    },
    {
     "data": {
      "text/html": [
       "<span style=\"color:cyan\"> |-Trial ID: 7b27872d18d223839e23f7dec5e03600</span>"
      ],
      "text/plain": [
       "<IPython.core.display.HTML object>"
      ]
     },
     "metadata": {},
     "output_type": "display_data"
    },
    {
     "data": {
      "text/html": [
       "<span style=\"color:cyan\"> |-Score: 0.4976744055747986</span>"
      ],
      "text/plain": [
       "<IPython.core.display.HTML object>"
      ]
     },
     "metadata": {},
     "output_type": "display_data"
    },
    {
     "data": {
      "text/html": [
       "<span style=\"color:cyan\"> |-Best step: 0</span>"
      ],
      "text/plain": [
       "<IPython.core.display.HTML object>"
      ]
     },
     "metadata": {},
     "output_type": "display_data"
    },
    {
     "data": {
      "text/html": [
       "<span style=\"color:#7E57C2\"><h2 style=\"font-size:16px\">Hyperparameters:</h2></span>"
      ],
      "text/plain": [
       "<IPython.core.display.HTML object>"
      ]
     },
     "metadata": {},
     "output_type": "display_data"
    },
    {
     "data": {
      "text/html": [
       "<span style=\"color:cyan\"> |-activation_func: relu</span>"
      ],
      "text/plain": [
       "<IPython.core.display.HTML object>"
      ]
     },
     "metadata": {},
     "output_type": "display_data"
    },
    {
     "data": {
      "text/html": [
       "<span style=\"color:blue\"> |-activation_func_2: relu</span>"
      ],
      "text/plain": [
       "<IPython.core.display.HTML object>"
      ]
     },
     "metadata": {},
     "output_type": "display_data"
    },
    {
     "data": {
      "text/html": [
       "<span style=\"color:cyan\"> |-layers: 4</span>"
      ],
      "text/plain": [
       "<IPython.core.display.HTML object>"
      ]
     },
     "metadata": {},
     "output_type": "display_data"
    },
    {
     "data": {
      "text/html": [
       "<span style=\"color:blue\"> |-learning_rate: 0.0001</span>"
      ],
      "text/plain": [
       "<IPython.core.display.HTML object>"
      ]
     },
     "metadata": {},
     "output_type": "display_data"
    },
    {
     "data": {
      "text/html": [
       "<span style=\"color:cyan\"> |-tuner/bracket: 3</span>"
      ],
      "text/plain": [
       "<IPython.core.display.HTML object>"
      ]
     },
     "metadata": {},
     "output_type": "display_data"
    },
    {
     "data": {
      "text/html": [
       "<span style=\"color:blue\"> |-tuner/epochs: 2</span>"
      ],
      "text/plain": [
       "<IPython.core.display.HTML object>"
      ]
     },
     "metadata": {},
     "output_type": "display_data"
    },
    {
     "data": {
      "text/html": [
       "<span style=\"color:cyan\"> |-tuner/initial_epoch: 0</span>"
      ],
      "text/plain": [
       "<IPython.core.display.HTML object>"
      ]
     },
     "metadata": {},
     "output_type": "display_data"
    },
    {
     "data": {
      "text/html": [
       "<span style=\"color:blue\"> |-tuner/round: 0</span>"
      ],
      "text/plain": [
       "<IPython.core.display.HTML object>"
      ]
     },
     "metadata": {},
     "output_type": "display_data"
    },
    {
     "data": {
      "text/html": [
       "<span style=\"color:cyan\"> |-units: 32</span>"
      ],
      "text/plain": [
       "<IPython.core.display.HTML object>"
      ]
     },
     "metadata": {},
     "output_type": "display_data"
    },
    {
     "name": "stdout",
     "output_type": "stream",
     "text": [
      "Train on 12140 samples, validate on 4515 samples\n",
      "Epoch 1/2\n",
      "12140/12140 [==============================] - ETA: 1:40 - loss: 8.0116 - accuracy: 0.34 - ETA: 3s - loss: 0.5533 - accuracy: 0.9062 - ETA: 1s - loss: 0.3449 - accuracy: 0.94 - ETA: 1s - loss: 0.3001 - accuracy: 0.95 - ETA: 1s - loss: 0.2927 - accuracy: 0.95 - ETA: 0s - loss: 0.2669 - accuracy: 0.96 - ETA: 0s - loss: 0.2401 - accuracy: 0.96 - ETA: 0s - loss: 0.2225 - accuracy: 0.96 - ETA: 0s - loss: 0.2153 - accuracy: 0.96 - ETA: 0s - loss: 0.2093 - accuracy: 0.96 - ETA: 0s - loss: 0.1975 - accuracy: 0.96 - ETA: 0s - loss: 0.2026 - accuracy: 0.96 - ETA: 0s - loss: 0.2092 - accuracy: 0.96 - 1s 98us/sample - loss: 0.2168 - accuracy: 0.9669 - val_loss: 1.6750 - val_accuracy: 0.7938\n",
      "Epoch 2/2\n",
      "12140/12140 [==============================] - ETA: 1s - loss: 0.1173 - accuracy: 0.90 - ETA: 0s - loss: 0.1424 - accuracy: 0.97 - ETA: 0s - loss: 0.1644 - accuracy: 0.97 - ETA: 0s - loss: 0.2186 - accuracy: 0.97 - ETA: 0s - loss: 0.2427 - accuracy: 0.97 - ETA: 0s - loss: 0.2220 - accuracy: 0.97 - ETA: 0s - loss: 0.2170 - accuracy: 0.97 - ETA: 0s - loss: 0.2091 - accuracy: 0.97 - ETA: 0s - loss: 0.2155 - accuracy: 0.97 - ETA: 0s - loss: 0.2121 - accuracy: 0.97 - ETA: 0s - loss: 0.2154 - accuracy: 0.97 - ETA: 0s - loss: 0.2149 - accuracy: 0.97 - ETA: 0s - loss: 0.2081 - accuracy: 0.97 - 1s 69us/sample - loss: 0.2091 - accuracy: 0.9731 - val_loss: 0.3619 - val_accuracy: 0.9223\n"
     ]
    },
    {
     "data": {
      "text/html": [
       "<span style=\"color:#4527A0\"><h1 style=\"font-size:18px\">Trial complete</h1></span>"
      ],
      "text/plain": [
       "<IPython.core.display.HTML object>"
      ]
     },
     "metadata": {},
     "output_type": "display_data"
    },
    {
     "data": {
      "text/html": [
       "<span style=\"color:#4527A0\"><h1 style=\"font-size:18px\">Trial summary</h1></span>"
      ],
      "text/plain": [
       "<IPython.core.display.HTML object>"
      ]
     },
     "metadata": {},
     "output_type": "display_data"
    },
    {
     "data": {
      "text/html": [
       "<span style=\"color:cyan\"> |-Trial ID: e7f2e14e874123de9cd636f94c1f60be</span>"
      ],
      "text/plain": [
       "<IPython.core.display.HTML object>"
      ]
     },
     "metadata": {},
     "output_type": "display_data"
    },
    {
     "data": {
      "text/html": [
       "<span style=\"color:cyan\"> |-Score: 0.9222591519355774</span>"
      ],
      "text/plain": [
       "<IPython.core.display.HTML object>"
      ]
     },
     "metadata": {},
     "output_type": "display_data"
    },
    {
     "data": {
      "text/html": [
       "<span style=\"color:cyan\"> |-Best step: 0</span>"
      ],
      "text/plain": [
       "<IPython.core.display.HTML object>"
      ]
     },
     "metadata": {},
     "output_type": "display_data"
    },
    {
     "data": {
      "text/html": [
       "<span style=\"color:#7E57C2\"><h2 style=\"font-size:16px\">Hyperparameters:</h2></span>"
      ],
      "text/plain": [
       "<IPython.core.display.HTML object>"
      ]
     },
     "metadata": {},
     "output_type": "display_data"
    },
    {
     "data": {
      "text/html": [
       "<span style=\"color:cyan\"> |-activation_func: relu</span>"
      ],
      "text/plain": [
       "<IPython.core.display.HTML object>"
      ]
     },
     "metadata": {},
     "output_type": "display_data"
    },
    {
     "data": {
      "text/html": [
       "<span style=\"color:blue\"> |-activation_func_2: tanh</span>"
      ],
      "text/plain": [
       "<IPython.core.display.HTML object>"
      ]
     },
     "metadata": {},
     "output_type": "display_data"
    },
    {
     "data": {
      "text/html": [
       "<span style=\"color:cyan\"> |-layers: 1</span>"
      ],
      "text/plain": [
       "<IPython.core.display.HTML object>"
      ]
     },
     "metadata": {},
     "output_type": "display_data"
    },
    {
     "data": {
      "text/html": [
       "<span style=\"color:blue\"> |-learning_rate: 0.01</span>"
      ],
      "text/plain": [
       "<IPython.core.display.HTML object>"
      ]
     },
     "metadata": {},
     "output_type": "display_data"
    },
    {
     "data": {
      "text/html": [
       "<span style=\"color:cyan\"> |-tuner/bracket: 3</span>"
      ],
      "text/plain": [
       "<IPython.core.display.HTML object>"
      ]
     },
     "metadata": {},
     "output_type": "display_data"
    },
    {
     "data": {
      "text/html": [
       "<span style=\"color:blue\"> |-tuner/epochs: 2</span>"
      ],
      "text/plain": [
       "<IPython.core.display.HTML object>"
      ]
     },
     "metadata": {},
     "output_type": "display_data"
    },
    {
     "data": {
      "text/html": [
       "<span style=\"color:cyan\"> |-tuner/initial_epoch: 0</span>"
      ],
      "text/plain": [
       "<IPython.core.display.HTML object>"
      ]
     },
     "metadata": {},
     "output_type": "display_data"
    },
    {
     "data": {
      "text/html": [
       "<span style=\"color:blue\"> |-tuner/round: 0</span>"
      ],
      "text/plain": [
       "<IPython.core.display.HTML object>"
      ]
     },
     "metadata": {},
     "output_type": "display_data"
    },
    {
     "data": {
      "text/html": [
       "<span style=\"color:cyan\"> |-units: 192</span>"
      ],
      "text/plain": [
       "<IPython.core.display.HTML object>"
      ]
     },
     "metadata": {},
     "output_type": "display_data"
    },
    {
     "name": "stdout",
     "output_type": "stream",
     "text": [
      "Train on 12140 samples, validate on 4515 samples\n",
      "Epoch 1/2\n",
      "12140/12140 [==============================] - ETA: 1:44 - loss: 9.4751 - accuracy: 0.15 - ETA: 3s - loss: 6.8434 - accuracy: 0.3260 - ETA: 2s - loss: 6.3956 - accuracy: 0.38 - ETA: 1s - loss: 6.0042 - accuracy: 0.41 - ETA: 1s - loss: 5.5321 - accuracy: 0.45 - ETA: 0s - loss: 4.9912 - accuracy: 0.47 - ETA: 0s - loss: 4.5407 - accuracy: 0.50 - ETA: 0s - loss: 4.1513 - accuracy: 0.52 - ETA: 0s - loss: 3.9029 - accuracy: 0.54 - ETA: 0s - loss: 3.6401 - accuracy: 0.56 - ETA: 0s - loss: 3.3753 - accuracy: 0.58 - ETA: 0s - loss: 3.1473 - accuracy: 0.59 - ETA: 0s - loss: 2.9583 - accuracy: 0.61 - 1s 101us/sample - loss: 2.8117 - accuracy: 0.6277 - val_loss: 2.6738 - val_accuracy: 0.5395\n",
      "Epoch 2/2\n",
      "12140/12140 [==============================] - ETA: 1s - loss: 1.4392 - accuracy: 0.71 - ETA: 0s - loss: 0.8582 - accuracy: 0.81 - ETA: 0s - loss: 0.9178 - accuracy: 0.80 - ETA: 0s - loss: 0.8384 - accuracy: 0.81 - ETA: 0s - loss: 0.8217 - accuracy: 0.82 - ETA: 0s - loss: 0.8144 - accuracy: 0.81 - ETA: 0s - loss: 0.7904 - accuracy: 0.82 - ETA: 0s - loss: 0.7894 - accuracy: 0.82 - ETA: 0s - loss: 0.7798 - accuracy: 0.83 - ETA: 0s - loss: 0.7544 - accuracy: 0.83 - ETA: 0s - loss: 0.7344 - accuracy: 0.83 - ETA: 0s - loss: 0.7337 - accuracy: 0.84 - ETA: 0s - loss: 0.7069 - accuracy: 0.84 - 1s 71us/sample - loss: 0.6844 - accuracy: 0.8493 - val_loss: 1.5728 - val_accuracy: 0.6020\n"
     ]
    },
    {
     "data": {
      "text/html": [
       "<span style=\"color:#4527A0\"><h1 style=\"font-size:18px\">Trial complete</h1></span>"
      ],
      "text/plain": [
       "<IPython.core.display.HTML object>"
      ]
     },
     "metadata": {},
     "output_type": "display_data"
    },
    {
     "data": {
      "text/html": [
       "<span style=\"color:#4527A0\"><h1 style=\"font-size:18px\">Trial summary</h1></span>"
      ],
      "text/plain": [
       "<IPython.core.display.HTML object>"
      ]
     },
     "metadata": {},
     "output_type": "display_data"
    },
    {
     "data": {
      "text/html": [
       "<span style=\"color:cyan\"> |-Trial ID: 7d0e649924d6c7dd0c7a73918f9fe4de</span>"
      ],
      "text/plain": [
       "<IPython.core.display.HTML object>"
      ]
     },
     "metadata": {},
     "output_type": "display_data"
    },
    {
     "data": {
      "text/html": [
       "<span style=\"color:cyan\"> |-Score: 0.6019933819770813</span>"
      ],
      "text/plain": [
       "<IPython.core.display.HTML object>"
      ]
     },
     "metadata": {},
     "output_type": "display_data"
    },
    {
     "data": {
      "text/html": [
       "<span style=\"color:cyan\"> |-Best step: 0</span>"
      ],
      "text/plain": [
       "<IPython.core.display.HTML object>"
      ]
     },
     "metadata": {},
     "output_type": "display_data"
    },
    {
     "data": {
      "text/html": [
       "<span style=\"color:#7E57C2\"><h2 style=\"font-size:16px\">Hyperparameters:</h2></span>"
      ],
      "text/plain": [
       "<IPython.core.display.HTML object>"
      ]
     },
     "metadata": {},
     "output_type": "display_data"
    },
    {
     "data": {
      "text/html": [
       "<span style=\"color:cyan\"> |-activation_func: tanh</span>"
      ],
      "text/plain": [
       "<IPython.core.display.HTML object>"
      ]
     },
     "metadata": {},
     "output_type": "display_data"
    },
    {
     "data": {
      "text/html": [
       "<span style=\"color:blue\"> |-activation_func_2: swish</span>"
      ],
      "text/plain": [
       "<IPython.core.display.HTML object>"
      ]
     },
     "metadata": {},
     "output_type": "display_data"
    },
    {
     "data": {
      "text/html": [
       "<span style=\"color:cyan\"> |-layers: 1</span>"
      ],
      "text/plain": [
       "<IPython.core.display.HTML object>"
      ]
     },
     "metadata": {},
     "output_type": "display_data"
    },
    {
     "data": {
      "text/html": [
       "<span style=\"color:blue\"> |-learning_rate: 0.0001</span>"
      ],
      "text/plain": [
       "<IPython.core.display.HTML object>"
      ]
     },
     "metadata": {},
     "output_type": "display_data"
    },
    {
     "data": {
      "text/html": [
       "<span style=\"color:cyan\"> |-tuner/bracket: 3</span>"
      ],
      "text/plain": [
       "<IPython.core.display.HTML object>"
      ]
     },
     "metadata": {},
     "output_type": "display_data"
    },
    {
     "data": {
      "text/html": [
       "<span style=\"color:blue\"> |-tuner/epochs: 2</span>"
      ],
      "text/plain": [
       "<IPython.core.display.HTML object>"
      ]
     },
     "metadata": {},
     "output_type": "display_data"
    },
    {
     "data": {
      "text/html": [
       "<span style=\"color:cyan\"> |-tuner/initial_epoch: 0</span>"
      ],
      "text/plain": [
       "<IPython.core.display.HTML object>"
      ]
     },
     "metadata": {},
     "output_type": "display_data"
    },
    {
     "data": {
      "text/html": [
       "<span style=\"color:blue\"> |-tuner/round: 0</span>"
      ],
      "text/plain": [
       "<IPython.core.display.HTML object>"
      ]
     },
     "metadata": {},
     "output_type": "display_data"
    },
    {
     "data": {
      "text/html": [
       "<span style=\"color:cyan\"> |-units: 160</span>"
      ],
      "text/plain": [
       "<IPython.core.display.HTML object>"
      ]
     },
     "metadata": {},
     "output_type": "display_data"
    },
    {
     "name": "stdout",
     "output_type": "stream",
     "text": [
      "Train on 12140 samples, validate on 4515 samples\n",
      "Epoch 1/2\n",
      "12140/12140 [==============================] - ETA: 2:28 - loss: 4.6337 - accuracy: 0.56 - ETA: 6s - loss: 0.6009 - accuracy: 0.8313 - ETA: 3s - loss: 0.4192 - accuracy: 0.87 - ETA: 2s - loss: 0.3309 - accuracy: 0.90 - ETA: 1s - loss: 0.2844 - accuracy: 0.91 - ETA: 1s - loss: 0.2728 - accuracy: 0.92 - ETA: 1s - loss: 0.2519 - accuracy: 0.93 - ETA: 0s - loss: 0.2403 - accuracy: 0.93 - ETA: 0s - loss: 0.2287 - accuracy: 0.94 - ETA: 0s - loss: 0.2154 - accuracy: 0.94 - ETA: 0s - loss: 0.2076 - accuracy: 0.94 - ETA: 0s - loss: 0.2114 - accuracy: 0.95 - ETA: 0s - loss: 0.2036 - accuracy: 0.95 - ETA: 0s - loss: 0.1975 - accuracy: 0.95 - ETA: 0s - loss: 0.1902 - accuracy: 0.95 - ETA: 0s - loss: 0.1843 - accuracy: 0.95 - 1s 123us/sample - loss: 0.1807 - accuracy: 0.9591 - val_loss: 0.3026 - val_accuracy: 0.9300\n",
      "Epoch 2/2\n",
      "12140/12140 [==============================] - ETA: 1s - loss: 0.0337 - accuracy: 0.96 - ETA: 0s - loss: 0.1215 - accuracy: 0.97 - ETA: 0s - loss: 0.1186 - accuracy: 0.97 - ETA: 0s - loss: 0.1266 - accuracy: 0.97 - ETA: 0s - loss: 0.1132 - accuracy: 0.97 - ETA: 0s - loss: 0.1145 - accuracy: 0.97 - ETA: 0s - loss: 0.1249 - accuracy: 0.97 - ETA: 0s - loss: 0.1243 - accuracy: 0.97 - ETA: 0s - loss: 0.1161 - accuracy: 0.97 - ETA: 0s - loss: 0.1153 - accuracy: 0.97 - ETA: 0s - loss: 0.1405 - accuracy: 0.96 - ETA: 0s - loss: 0.1714 - accuracy: 0.95 - ETA: 0s - loss: 0.1775 - accuracy: 0.95 - ETA: 0s - loss: 0.1776 - accuracy: 0.95 - ETA: 0s - loss: 0.1814 - accuracy: 0.95 - ETA: 0s - loss: 0.1922 - accuracy: 0.95 - 1s 80us/sample - loss: 0.1911 - accuracy: 0.9552 - val_loss: 0.5582 - val_accuracy: 0.9118\n"
     ]
    },
    {
     "data": {
      "text/html": [
       "<span style=\"color:#4527A0\"><h1 style=\"font-size:18px\">Trial complete</h1></span>"
      ],
      "text/plain": [
       "<IPython.core.display.HTML object>"
      ]
     },
     "metadata": {},
     "output_type": "display_data"
    },
    {
     "data": {
      "text/html": [
       "<span style=\"color:#4527A0\"><h1 style=\"font-size:18px\">Trial summary</h1></span>"
      ],
      "text/plain": [
       "<IPython.core.display.HTML object>"
      ]
     },
     "metadata": {},
     "output_type": "display_data"
    },
    {
     "data": {
      "text/html": [
       "<span style=\"color:cyan\"> |-Trial ID: a4e5b4f747a14e41c354a108edf152c1</span>"
      ],
      "text/plain": [
       "<IPython.core.display.HTML object>"
      ]
     },
     "metadata": {},
     "output_type": "display_data"
    },
    {
     "data": {
      "text/html": [
       "<span style=\"color:cyan\"> |-Score: 0.9300110936164856</span>"
      ],
      "text/plain": [
       "<IPython.core.display.HTML object>"
      ]
     },
     "metadata": {},
     "output_type": "display_data"
    },
    {
     "data": {
      "text/html": [
       "<span style=\"color:cyan\"> |-Best step: 0</span>"
      ],
      "text/plain": [
       "<IPython.core.display.HTML object>"
      ]
     },
     "metadata": {},
     "output_type": "display_data"
    },
    {
     "data": {
      "text/html": [
       "<span style=\"color:#7E57C2\"><h2 style=\"font-size:16px\">Hyperparameters:</h2></span>"
      ],
      "text/plain": [
       "<IPython.core.display.HTML object>"
      ]
     },
     "metadata": {},
     "output_type": "display_data"
    },
    {
     "data": {
      "text/html": [
       "<span style=\"color:cyan\"> |-activation_func: swish</span>"
      ],
      "text/plain": [
       "<IPython.core.display.HTML object>"
      ]
     },
     "metadata": {},
     "output_type": "display_data"
    },
    {
     "data": {
      "text/html": [
       "<span style=\"color:blue\"> |-activation_func_2: tanh</span>"
      ],
      "text/plain": [
       "<IPython.core.display.HTML object>"
      ]
     },
     "metadata": {},
     "output_type": "display_data"
    },
    {
     "data": {
      "text/html": [
       "<span style=\"color:cyan\"> |-layers: 4</span>"
      ],
      "text/plain": [
       "<IPython.core.display.HTML object>"
      ]
     },
     "metadata": {},
     "output_type": "display_data"
    },
    {
     "data": {
      "text/html": [
       "<span style=\"color:blue\"> |-learning_rate: 0.01</span>"
      ],
      "text/plain": [
       "<IPython.core.display.HTML object>"
      ]
     },
     "metadata": {},
     "output_type": "display_data"
    },
    {
     "data": {
      "text/html": [
       "<span style=\"color:cyan\"> |-tuner/bracket: 3</span>"
      ],
      "text/plain": [
       "<IPython.core.display.HTML object>"
      ]
     },
     "metadata": {},
     "output_type": "display_data"
    },
    {
     "data": {
      "text/html": [
       "<span style=\"color:blue\"> |-tuner/epochs: 2</span>"
      ],
      "text/plain": [
       "<IPython.core.display.HTML object>"
      ]
     },
     "metadata": {},
     "output_type": "display_data"
    },
    {
     "data": {
      "text/html": [
       "<span style=\"color:cyan\"> |-tuner/initial_epoch: 0</span>"
      ],
      "text/plain": [
       "<IPython.core.display.HTML object>"
      ]
     },
     "metadata": {},
     "output_type": "display_data"
    },
    {
     "data": {
      "text/html": [
       "<span style=\"color:blue\"> |-tuner/round: 0</span>"
      ],
      "text/plain": [
       "<IPython.core.display.HTML object>"
      ]
     },
     "metadata": {},
     "output_type": "display_data"
    },
    {
     "data": {
      "text/html": [
       "<span style=\"color:cyan\"> |-units: 32</span>"
      ],
      "text/plain": [
       "<IPython.core.display.HTML object>"
      ]
     },
     "metadata": {},
     "output_type": "display_data"
    },
    {
     "name": "stdout",
     "output_type": "stream",
     "text": [
      "Train on 12140 samples, validate on 4515 samples\n",
      "Epoch 1/2\n",
      "12140/12140 [==============================] - ETA: 1:44 - loss: 1.5948 - accuracy: 0.65 - ETA: 4s - loss: 0.5267 - accuracy: 0.9175 - ETA: 2s - loss: 0.5141 - accuracy: 0.92 - ETA: 1s - loss: 0.6062 - accuracy: 0.92 - ETA: 1s - loss: 0.5597 - accuracy: 0.93 - ETA: 0s - loss: 0.5056 - accuracy: 0.94 - ETA: 0s - loss: 0.5070 - accuracy: 0.94 - ETA: 0s - loss: 0.4733 - accuracy: 0.95 - ETA: 0s - loss: 0.4706 - accuracy: 0.95 - ETA: 0s - loss: 0.4606 - accuracy: 0.95 - ETA: 0s - loss: 0.4370 - accuracy: 0.95 - ETA: 0s - loss: 0.4420 - accuracy: 0.95 - ETA: 0s - loss: 0.4484 - accuracy: 0.95 - 1s 99us/sample - loss: 0.4471 - accuracy: 0.9590 - val_loss: 1.1189 - val_accuracy: 0.9136\n",
      "Epoch 2/2\n",
      "12140/12140 [==============================] - ETA: 1s - loss: 0.0000e+00 - accuracy: 1.00 - ETA: 0s - loss: 0.5209 - accuracy: 0.9609   - ETA: 0s - loss: 0.4965 - accuracy: 0.96 - ETA: 0s - loss: 0.4248 - accuracy: 0.96 - ETA: 0s - loss: 0.3746 - accuracy: 0.97 - ETA: 0s - loss: 0.3894 - accuracy: 0.97 - ETA: 0s - loss: 0.3916 - accuracy: 0.97 - ETA: 0s - loss: 0.3913 - accuracy: 0.97 - ETA: 0s - loss: 0.4060 - accuracy: 0.97 - ETA: 0s - loss: 0.3971 - accuracy: 0.97 - ETA: 0s - loss: 0.3927 - accuracy: 0.97 - ETA: 0s - loss: 0.4016 - accuracy: 0.97 - ETA: 0s - loss: 0.4027 - accuracy: 0.97 - 1s 71us/sample - loss: 0.3953 - accuracy: 0.9722 - val_loss: 0.7862 - val_accuracy: 0.9480\n"
     ]
    },
    {
     "data": {
      "text/html": [
       "<span style=\"color:#4527A0\"><h1 style=\"font-size:18px\">Trial complete</h1></span>"
      ],
      "text/plain": [
       "<IPython.core.display.HTML object>"
      ]
     },
     "metadata": {},
     "output_type": "display_data"
    },
    {
     "data": {
      "text/html": [
       "<span style=\"color:#4527A0\"><h1 style=\"font-size:18px\">Trial summary</h1></span>"
      ],
      "text/plain": [
       "<IPython.core.display.HTML object>"
      ]
     },
     "metadata": {},
     "output_type": "display_data"
    },
    {
     "data": {
      "text/html": [
       "<span style=\"color:cyan\"> |-Trial ID: d887b6387433399da039614d3e600fe8</span>"
      ],
      "text/plain": [
       "<IPython.core.display.HTML object>"
      ]
     },
     "metadata": {},
     "output_type": "display_data"
    },
    {
     "data": {
      "text/html": [
       "<span style=\"color:cyan\"> |-Score: 0.9479512572288513</span>"
      ],
      "text/plain": [
       "<IPython.core.display.HTML object>"
      ]
     },
     "metadata": {},
     "output_type": "display_data"
    },
    {
     "data": {
      "text/html": [
       "<span style=\"color:cyan\"> |-Best step: 0</span>"
      ],
      "text/plain": [
       "<IPython.core.display.HTML object>"
      ]
     },
     "metadata": {},
     "output_type": "display_data"
    },
    {
     "data": {
      "text/html": [
       "<span style=\"color:#7E57C2\"><h2 style=\"font-size:16px\">Hyperparameters:</h2></span>"
      ],
      "text/plain": [
       "<IPython.core.display.HTML object>"
      ]
     },
     "metadata": {},
     "output_type": "display_data"
    },
    {
     "data": {
      "text/html": [
       "<span style=\"color:cyan\"> |-activation_func: relu</span>"
      ],
      "text/plain": [
       "<IPython.core.display.HTML object>"
      ]
     },
     "metadata": {},
     "output_type": "display_data"
    },
    {
     "data": {
      "text/html": [
       "<span style=\"color:blue\"> |-activation_func_2: swish</span>"
      ],
      "text/plain": [
       "<IPython.core.display.HTML object>"
      ]
     },
     "metadata": {},
     "output_type": "display_data"
    },
    {
     "data": {
      "text/html": [
       "<span style=\"color:cyan\"> |-layers: 1</span>"
      ],
      "text/plain": [
       "<IPython.core.display.HTML object>"
      ]
     },
     "metadata": {},
     "output_type": "display_data"
    },
    {
     "data": {
      "text/html": [
       "<span style=\"color:blue\"> |-learning_rate: 0.01</span>"
      ],
      "text/plain": [
       "<IPython.core.display.HTML object>"
      ]
     },
     "metadata": {},
     "output_type": "display_data"
    },
    {
     "data": {
      "text/html": [
       "<span style=\"color:cyan\"> |-tuner/bracket: 3</span>"
      ],
      "text/plain": [
       "<IPython.core.display.HTML object>"
      ]
     },
     "metadata": {},
     "output_type": "display_data"
    },
    {
     "data": {
      "text/html": [
       "<span style=\"color:blue\"> |-tuner/epochs: 2</span>"
      ],
      "text/plain": [
       "<IPython.core.display.HTML object>"
      ]
     },
     "metadata": {},
     "output_type": "display_data"
    },
    {
     "data": {
      "text/html": [
       "<span style=\"color:cyan\"> |-tuner/initial_epoch: 0</span>"
      ],
      "text/plain": [
       "<IPython.core.display.HTML object>"
      ]
     },
     "metadata": {},
     "output_type": "display_data"
    },
    {
     "data": {
      "text/html": [
       "<span style=\"color:blue\"> |-tuner/round: 0</span>"
      ],
      "text/plain": [
       "<IPython.core.display.HTML object>"
      ]
     },
     "metadata": {},
     "output_type": "display_data"
    },
    {
     "data": {
      "text/html": [
       "<span style=\"color:cyan\"> |-units: 192</span>"
      ],
      "text/plain": [
       "<IPython.core.display.HTML object>"
      ]
     },
     "metadata": {},
     "output_type": "display_data"
    },
    {
     "name": "stdout",
     "output_type": "stream",
     "text": [
      "Train on 12140 samples, validate on 4515 samples\n",
      "Epoch 1/2\n",
      "12140/12140 [==============================] - ETA: 1:52 - loss: 3.9215 - accuracy: 0.50 - ETA: 4s - loss: 0.5991 - accuracy: 0.9240 - ETA: 2s - loss: 0.5199 - accuracy: 0.94 - ETA: 1s - loss: 0.5198 - accuracy: 0.94 - ETA: 1s - loss: 0.4903 - accuracy: 0.95 - ETA: 0s - loss: 0.4523 - accuracy: 0.95 - ETA: 0s - loss: 0.4687 - accuracy: 0.95 - ETA: 0s - loss: 0.4965 - accuracy: 0.95 - ETA: 0s - loss: 0.5483 - accuracy: 0.95 - ETA: 0s - loss: 0.5577 - accuracy: 0.95 - ETA: 0s - loss: 0.5870 - accuracy: 0.95 - ETA: 0s - loss: 0.5915 - accuracy: 0.95 - ETA: 0s - loss: 0.5710 - accuracy: 0.95 - ETA: 0s - loss: 0.5576 - accuracy: 0.95 - 1s 103us/sample - loss: 0.5586 - accuracy: 0.9575 - val_loss: 0.8325 - val_accuracy: 0.9433\n",
      "Epoch 2/2\n",
      "12140/12140 [==============================] - ETA: 1s - loss: 0.0000e+00 - accuracy: 1.00 - ETA: 0s - loss: 0.4778 - accuracy: 0.9688   - ETA: 0s - loss: 0.4780 - accuracy: 0.96 - ETA: 0s - loss: 0.4342 - accuracy: 0.97 - ETA: 0s - loss: 0.4371 - accuracy: 0.97 - ETA: 0s - loss: 0.4089 - accuracy: 0.97 - ETA: 0s - loss: 0.4216 - accuracy: 0.97 - ETA: 0s - loss: 0.4468 - accuracy: 0.96 - ETA: 0s - loss: 0.4528 - accuracy: 0.96 - ETA: 0s - loss: 0.4410 - accuracy: 0.97 - ETA: 0s - loss: 0.4500 - accuracy: 0.96 - ETA: 0s - loss: 0.4712 - accuracy: 0.96 - ETA: 0s - loss: 0.4848 - accuracy: 0.96 - ETA: 0s - loss: 0.4805 - accuracy: 0.96 - 1s 70us/sample - loss: 0.4812 - accuracy: 0.9676 - val_loss: 1.3051 - val_accuracy: 0.9123\n"
     ]
    },
    {
     "data": {
      "text/html": [
       "<span style=\"color:#4527A0\"><h1 style=\"font-size:18px\">Trial complete</h1></span>"
      ],
      "text/plain": [
       "<IPython.core.display.HTML object>"
      ]
     },
     "metadata": {},
     "output_type": "display_data"
    },
    {
     "data": {
      "text/html": [
       "<span style=\"color:#4527A0\"><h1 style=\"font-size:18px\">Trial summary</h1></span>"
      ],
      "text/plain": [
       "<IPython.core.display.HTML object>"
      ]
     },
     "metadata": {},
     "output_type": "display_data"
    },
    {
     "data": {
      "text/html": [
       "<span style=\"color:cyan\"> |-Trial ID: af861db8a762ef1625311f5055b006f0</span>"
      ],
      "text/plain": [
       "<IPython.core.display.HTML object>"
      ]
     },
     "metadata": {},
     "output_type": "display_data"
    },
    {
     "data": {
      "text/html": [
       "<span style=\"color:cyan\"> |-Score: 0.9433001279830933</span>"
      ],
      "text/plain": [
       "<IPython.core.display.HTML object>"
      ]
     },
     "metadata": {},
     "output_type": "display_data"
    },
    {
     "data": {
      "text/html": [
       "<span style=\"color:cyan\"> |-Best step: 0</span>"
      ],
      "text/plain": [
       "<IPython.core.display.HTML object>"
      ]
     },
     "metadata": {},
     "output_type": "display_data"
    },
    {
     "data": {
      "text/html": [
       "<span style=\"color:#7E57C2\"><h2 style=\"font-size:16px\">Hyperparameters:</h2></span>"
      ],
      "text/plain": [
       "<IPython.core.display.HTML object>"
      ]
     },
     "metadata": {},
     "output_type": "display_data"
    },
    {
     "data": {
      "text/html": [
       "<span style=\"color:cyan\"> |-activation_func: relu</span>"
      ],
      "text/plain": [
       "<IPython.core.display.HTML object>"
      ]
     },
     "metadata": {},
     "output_type": "display_data"
    },
    {
     "data": {
      "text/html": [
       "<span style=\"color:blue\"> |-activation_func_2: relu</span>"
      ],
      "text/plain": [
       "<IPython.core.display.HTML object>"
      ]
     },
     "metadata": {},
     "output_type": "display_data"
    },
    {
     "data": {
      "text/html": [
       "<span style=\"color:cyan\"> |-layers: 2</span>"
      ],
      "text/plain": [
       "<IPython.core.display.HTML object>"
      ]
     },
     "metadata": {},
     "output_type": "display_data"
    },
    {
     "data": {
      "text/html": [
       "<span style=\"color:blue\"> |-learning_rate: 0.01</span>"
      ],
      "text/plain": [
       "<IPython.core.display.HTML object>"
      ]
     },
     "metadata": {},
     "output_type": "display_data"
    },
    {
     "data": {
      "text/html": [
       "<span style=\"color:cyan\"> |-tuner/bracket: 3</span>"
      ],
      "text/plain": [
       "<IPython.core.display.HTML object>"
      ]
     },
     "metadata": {},
     "output_type": "display_data"
    },
    {
     "data": {
      "text/html": [
       "<span style=\"color:blue\"> |-tuner/epochs: 2</span>"
      ],
      "text/plain": [
       "<IPython.core.display.HTML object>"
      ]
     },
     "metadata": {},
     "output_type": "display_data"
    },
    {
     "data": {
      "text/html": [
       "<span style=\"color:cyan\"> |-tuner/initial_epoch: 0</span>"
      ],
      "text/plain": [
       "<IPython.core.display.HTML object>"
      ]
     },
     "metadata": {},
     "output_type": "display_data"
    },
    {
     "data": {
      "text/html": [
       "<span style=\"color:blue\"> |-tuner/round: 0</span>"
      ],
      "text/plain": [
       "<IPython.core.display.HTML object>"
      ]
     },
     "metadata": {},
     "output_type": "display_data"
    },
    {
     "data": {
      "text/html": [
       "<span style=\"color:cyan\"> |-units: 64</span>"
      ],
      "text/plain": [
       "<IPython.core.display.HTML object>"
      ]
     },
     "metadata": {},
     "output_type": "display_data"
    },
    {
     "name": "stdout",
     "output_type": "stream",
     "text": [
      "Train on 12140 samples, validate on 4515 samples\n",
      "Epoch 1/2\n",
      "12140/12140 [==============================] - ETA: 2:03 - loss: 6.4092 - accuracy: 0.34 - ETA: 5s - loss: 1.0808 - accuracy: 0.8845 - ETA: 3s - loss: 0.7596 - accuracy: 0.92 - ETA: 2s - loss: 0.6100 - accuracy: 0.94 - ETA: 1s - loss: 0.5487 - accuracy: 0.94 - ETA: 1s - loss: 0.5114 - accuracy: 0.95 - ETA: 1s - loss: 0.4897 - accuracy: 0.95 - ETA: 0s - loss: 0.4681 - accuracy: 0.96 - ETA: 0s - loss: 0.4693 - accuracy: 0.96 - ETA: 0s - loss: 0.4496 - accuracy: 0.96 - ETA: 0s - loss: 0.4245 - accuracy: 0.96 - ETA: 0s - loss: 0.4434 - accuracy: 0.96 - ETA: 0s - loss: 0.4504 - accuracy: 0.96 - ETA: 0s - loss: 0.4392 - accuracy: 0.96 - ETA: 0s - loss: 0.4563 - accuracy: 0.96 - ETA: 0s - loss: 0.4477 - accuracy: 0.96 - 1s 116us/sample - loss: 0.4479 - accuracy: 0.9665 - val_loss: 0.8016 - val_accuracy: 0.9462\n",
      "Epoch 2/2\n",
      "12140/12140 [==============================] - ETA: 1s - loss: 0.0000e+00 - accuracy: 1.00 - ETA: 0s - loss: 0.3953 - accuracy: 0.9732   - ETA: 0s - loss: 0.3491 - accuracy: 0.97 - ETA: 0s - loss: 0.3393 - accuracy: 0.97 - ETA: 0s - loss: 0.3434 - accuracy: 0.97 - ETA: 0s - loss: 0.3427 - accuracy: 0.97 - ETA: 0s - loss: 0.3619 - accuracy: 0.97 - ETA: 0s - loss: 0.3639 - accuracy: 0.97 - ETA: 0s - loss: 0.3716 - accuracy: 0.97 - ETA: 0s - loss: 0.3961 - accuracy: 0.97 - ETA: 0s - loss: 0.4317 - accuracy: 0.97 - ETA: 0s - loss: 0.4298 - accuracy: 0.97 - ETA: 0s - loss: 0.4299 - accuracy: 0.97 - ETA: 0s - loss: 0.4296 - accuracy: 0.97 - ETA: 0s - loss: 0.4269 - accuracy: 0.97 - 1s 75us/sample - loss: 0.4266 - accuracy: 0.9710 - val_loss: 0.9664 - val_accuracy: 0.9349\n"
     ]
    },
    {
     "data": {
      "text/html": [
       "<span style=\"color:#4527A0\"><h1 style=\"font-size:18px\">Trial complete</h1></span>"
      ],
      "text/plain": [
       "<IPython.core.display.HTML object>"
      ]
     },
     "metadata": {},
     "output_type": "display_data"
    },
    {
     "data": {
      "text/html": [
       "<span style=\"color:#4527A0\"><h1 style=\"font-size:18px\">Trial summary</h1></span>"
      ],
      "text/plain": [
       "<IPython.core.display.HTML object>"
      ]
     },
     "metadata": {},
     "output_type": "display_data"
    },
    {
     "data": {
      "text/html": [
       "<span style=\"color:cyan\"> |-Trial ID: f313e9227aa36d701d2aae934378968c</span>"
      ],
      "text/plain": [
       "<IPython.core.display.HTML object>"
      ]
     },
     "metadata": {},
     "output_type": "display_data"
    },
    {
     "data": {
      "text/html": [
       "<span style=\"color:cyan\"> |-Score: 0.9461793899536133</span>"
      ],
      "text/plain": [
       "<IPython.core.display.HTML object>"
      ]
     },
     "metadata": {},
     "output_type": "display_data"
    },
    {
     "data": {
      "text/html": [
       "<span style=\"color:cyan\"> |-Best step: 0</span>"
      ],
      "text/plain": [
       "<IPython.core.display.HTML object>"
      ]
     },
     "metadata": {},
     "output_type": "display_data"
    },
    {
     "data": {
      "text/html": [
       "<span style=\"color:#7E57C2\"><h2 style=\"font-size:16px\">Hyperparameters:</h2></span>"
      ],
      "text/plain": [
       "<IPython.core.display.HTML object>"
      ]
     },
     "metadata": {},
     "output_type": "display_data"
    },
    {
     "data": {
      "text/html": [
       "<span style=\"color:cyan\"> |-activation_func: tanh</span>"
      ],
      "text/plain": [
       "<IPython.core.display.HTML object>"
      ]
     },
     "metadata": {},
     "output_type": "display_data"
    },
    {
     "data": {
      "text/html": [
       "<span style=\"color:blue\"> |-activation_func_2: swish</span>"
      ],
      "text/plain": [
       "<IPython.core.display.HTML object>"
      ]
     },
     "metadata": {},
     "output_type": "display_data"
    },
    {
     "data": {
      "text/html": [
       "<span style=\"color:cyan\"> |-layers: 3</span>"
      ],
      "text/plain": [
       "<IPython.core.display.HTML object>"
      ]
     },
     "metadata": {},
     "output_type": "display_data"
    },
    {
     "data": {
      "text/html": [
       "<span style=\"color:blue\"> |-learning_rate: 0.001</span>"
      ],
      "text/plain": [
       "<IPython.core.display.HTML object>"
      ]
     },
     "metadata": {},
     "output_type": "display_data"
    },
    {
     "data": {
      "text/html": [
       "<span style=\"color:cyan\"> |-tuner/bracket: 3</span>"
      ],
      "text/plain": [
       "<IPython.core.display.HTML object>"
      ]
     },
     "metadata": {},
     "output_type": "display_data"
    },
    {
     "data": {
      "text/html": [
       "<span style=\"color:blue\"> |-tuner/epochs: 2</span>"
      ],
      "text/plain": [
       "<IPython.core.display.HTML object>"
      ]
     },
     "metadata": {},
     "output_type": "display_data"
    },
    {
     "data": {
      "text/html": [
       "<span style=\"color:cyan\"> |-tuner/initial_epoch: 0</span>"
      ],
      "text/plain": [
       "<IPython.core.display.HTML object>"
      ]
     },
     "metadata": {},
     "output_type": "display_data"
    },
    {
     "data": {
      "text/html": [
       "<span style=\"color:blue\"> |-tuner/round: 0</span>"
      ],
      "text/plain": [
       "<IPython.core.display.HTML object>"
      ]
     },
     "metadata": {},
     "output_type": "display_data"
    },
    {
     "data": {
      "text/html": [
       "<span style=\"color:cyan\"> |-units: 208</span>"
      ],
      "text/plain": [
       "<IPython.core.display.HTML object>"
      ]
     },
     "metadata": {},
     "output_type": "display_data"
    },
    {
     "name": "stdout",
     "output_type": "stream",
     "text": [
      "Train on 12140 samples, validate on 4515 samples\n",
      "Epoch 1/2\n",
      "12140/12140 [==============================] - ETA: 2:06 - loss: 8.6765 - accuracy: 0.43 - ETA: 5s - loss: 8.5468 - accuracy: 0.4459 - ETA: 2s - loss: 8.3057 - accuracy: 0.46 - ETA: 1s - loss: 8.3072 - accuracy: 0.46 - ETA: 1s - loss: 8.3723 - accuracy: 0.45 - ETA: 1s - loss: 8.3489 - accuracy: 0.45 - ETA: 0s - loss: 8.3823 - accuracy: 0.45 - ETA: 0s - loss: 8.3695 - accuracy: 0.45 - ETA: 0s - loss: 8.2980 - accuracy: 0.46 - ETA: 0s - loss: 8.2947 - accuracy: 0.46 - ETA: 0s - loss: 8.2995 - accuracy: 0.46 - ETA: 0s - loss: 8.3393 - accuracy: 0.45 - ETA: 0s - loss: 8.3072 - accuracy: 0.46 - ETA: 0s - loss: 8.2987 - accuracy: 0.46 - ETA: 0s - loss: 8.3476 - accuracy: 0.45 - 1s 114us/sample - loss: 8.3630 - accuracy: 0.4578 - val_loss: 9.3370 - val_accuracy: 0.3947\n",
      "Epoch 2/2\n",
      "12140/12140 [==============================] - ETA: 1s - loss: 7.2304 - accuracy: 0.53 - ETA: 0s - loss: 8.7322 - accuracy: 0.43 - ETA: 0s - loss: 8.4819 - accuracy: 0.45 - ETA: 0s - loss: 8.3837 - accuracy: 0.45 - ETA: 0s - loss: 8.3781 - accuracy: 0.45 - ETA: 0s - loss: 8.4226 - accuracy: 0.45 - ETA: 0s - loss: 8.4386 - accuracy: 0.45 - ETA: 0s - loss: 8.4435 - accuracy: 0.45 - ETA: 0s - loss: 8.3869 - accuracy: 0.45 - ETA: 0s - loss: 8.4149 - accuracy: 0.45 - ETA: 0s - loss: 8.4170 - accuracy: 0.45 - ETA: 0s - loss: 8.4305 - accuracy: 0.45 - ETA: 0s - loss: 8.3675 - accuracy: 0.45 - ETA: 0s - loss: 8.3414 - accuracy: 0.45 - ETA: 0s - loss: 8.3547 - accuracy: 0.45 - 1s 77us/sample - loss: 8.3630 - accuracy: 0.4578 - val_loss: 9.3370 - val_accuracy: 0.3947\n"
     ]
    },
    {
     "data": {
      "text/html": [
       "<span style=\"color:#4527A0\"><h1 style=\"font-size:18px\">Trial complete</h1></span>"
      ],
      "text/plain": [
       "<IPython.core.display.HTML object>"
      ]
     },
     "metadata": {},
     "output_type": "display_data"
    },
    {
     "data": {
      "text/html": [
       "<span style=\"color:#4527A0\"><h1 style=\"font-size:18px\">Trial summary</h1></span>"
      ],
      "text/plain": [
       "<IPython.core.display.HTML object>"
      ]
     },
     "metadata": {},
     "output_type": "display_data"
    },
    {
     "data": {
      "text/html": [
       "<span style=\"color:cyan\"> |-Trial ID: bcef0ec9abd63ae4d08c2342fc544957</span>"
      ],
      "text/plain": [
       "<IPython.core.display.HTML object>"
      ]
     },
     "metadata": {},
     "output_type": "display_data"
    },
    {
     "data": {
      "text/html": [
       "<span style=\"color:cyan\"> |-Score: 0.394684374332428</span>"
      ],
      "text/plain": [
       "<IPython.core.display.HTML object>"
      ]
     },
     "metadata": {},
     "output_type": "display_data"
    },
    {
     "data": {
      "text/html": [
       "<span style=\"color:cyan\"> |-Best step: 0</span>"
      ],
      "text/plain": [
       "<IPython.core.display.HTML object>"
      ]
     },
     "metadata": {},
     "output_type": "display_data"
    },
    {
     "data": {
      "text/html": [
       "<span style=\"color:#7E57C2\"><h2 style=\"font-size:16px\">Hyperparameters:</h2></span>"
      ],
      "text/plain": [
       "<IPython.core.display.HTML object>"
      ]
     },
     "metadata": {},
     "output_type": "display_data"
    },
    {
     "data": {
      "text/html": [
       "<span style=\"color:cyan\"> |-activation_func: relu</span>"
      ],
      "text/plain": [
       "<IPython.core.display.HTML object>"
      ]
     },
     "metadata": {},
     "output_type": "display_data"
    },
    {
     "data": {
      "text/html": [
       "<span style=\"color:blue\"> |-activation_func_2: tanh</span>"
      ],
      "text/plain": [
       "<IPython.core.display.HTML object>"
      ]
     },
     "metadata": {},
     "output_type": "display_data"
    },
    {
     "data": {
      "text/html": [
       "<span style=\"color:cyan\"> |-layers: 4</span>"
      ],
      "text/plain": [
       "<IPython.core.display.HTML object>"
      ]
     },
     "metadata": {},
     "output_type": "display_data"
    },
    {
     "data": {
      "text/html": [
       "<span style=\"color:blue\"> |-learning_rate: 0.001</span>"
      ],
      "text/plain": [
       "<IPython.core.display.HTML object>"
      ]
     },
     "metadata": {},
     "output_type": "display_data"
    },
    {
     "data": {
      "text/html": [
       "<span style=\"color:cyan\"> |-tuner/bracket: 3</span>"
      ],
      "text/plain": [
       "<IPython.core.display.HTML object>"
      ]
     },
     "metadata": {},
     "output_type": "display_data"
    },
    {
     "data": {
      "text/html": [
       "<span style=\"color:blue\"> |-tuner/epochs: 2</span>"
      ],
      "text/plain": [
       "<IPython.core.display.HTML object>"
      ]
     },
     "metadata": {},
     "output_type": "display_data"
    },
    {
     "data": {
      "text/html": [
       "<span style=\"color:cyan\"> |-tuner/initial_epoch: 0</span>"
      ],
      "text/plain": [
       "<IPython.core.display.HTML object>"
      ]
     },
     "metadata": {},
     "output_type": "display_data"
    },
    {
     "data": {
      "text/html": [
       "<span style=\"color:blue\"> |-tuner/round: 0</span>"
      ],
      "text/plain": [
       "<IPython.core.display.HTML object>"
      ]
     },
     "metadata": {},
     "output_type": "display_data"
    },
    {
     "data": {
      "text/html": [
       "<span style=\"color:cyan\"> |-units: 224</span>"
      ],
      "text/plain": [
       "<IPython.core.display.HTML object>"
      ]
     },
     "metadata": {},
     "output_type": "display_data"
    },
    {
     "name": "stdout",
     "output_type": "stream",
     "text": [
      "Train on 12140 samples, validate on 4515 samples\n",
      "Epoch 1/2\n",
      "12140/12140 [==============================] - ETA: 2:39 - loss: 7.7831 - accuracy: 0.34 - ETA: 7s - loss: 1.0078 - accuracy: 0.7214 - ETA: 3s - loss: 0.6030 - accuracy: 0.82 - ETA: 2s - loss: 0.4362 - accuracy: 0.87 - ETA: 2s - loss: 0.3738 - accuracy: 0.89 - ETA: 1s - loss: 0.3300 - accuracy: 0.91 - ETA: 1s - loss: 0.2988 - accuracy: 0.92 - ETA: 1s - loss: 0.2706 - accuracy: 0.93 - ETA: 0s - loss: 0.2492 - accuracy: 0.93 - ETA: 0s - loss: 0.2404 - accuracy: 0.94 - ETA: 0s - loss: 0.2214 - accuracy: 0.94 - ETA: 0s - loss: 0.2147 - accuracy: 0.94 - ETA: 0s - loss: 0.2113 - accuracy: 0.95 - ETA: 0s - loss: 0.2026 - accuracy: 0.95 - ETA: 0s - loss: 0.1984 - accuracy: 0.95 - ETA: 0s - loss: 0.1932 - accuracy: 0.95 - ETA: 0s - loss: 0.1923 - accuracy: 0.95 - 2s 132us/sample - loss: 0.2014 - accuracy: 0.9533 - val_loss: 1.3461 - val_accuracy: 0.7285\n",
      "Epoch 2/2\n",
      "12140/12140 [==============================] - ETA: 1s - loss: 0.3336 - accuracy: 0.84 - ETA: 0s - loss: 0.2164 - accuracy: 0.94 - ETA: 0s - loss: 0.1768 - accuracy: 0.94 - ETA: 0s - loss: 0.1461 - accuracy: 0.96 - ETA: 0s - loss: 0.1427 - accuracy: 0.96 - ETA: 0s - loss: 0.1621 - accuracy: 0.95 - ETA: 0s - loss: 0.1679 - accuracy: 0.95 - ETA: 0s - loss: 0.1787 - accuracy: 0.95 - ETA: 0s - loss: 0.1767 - accuracy: 0.95 - ETA: 0s - loss: 0.1702 - accuracy: 0.95 - ETA: 0s - loss: 0.1606 - accuracy: 0.95 - ETA: 0s - loss: 0.1617 - accuracy: 0.96 - ETA: 0s - loss: 0.1562 - accuracy: 0.96 - ETA: 0s - loss: 0.1479 - accuracy: 0.96 - ETA: 0s - loss: 0.1433 - accuracy: 0.96 - ETA: 0s - loss: 0.1411 - accuracy: 0.96 - ETA: 0s - loss: 0.1413 - accuracy: 0.96 - ETA: 0s - loss: 0.1456 - accuracy: 0.96 - 1s 98us/sample - loss: 0.1479 - accuracy: 0.9657 - val_loss: 0.6538 - val_accuracy: 0.8744\n"
     ]
    },
    {
     "data": {
      "text/html": [
       "<span style=\"color:#4527A0\"><h1 style=\"font-size:18px\">Trial complete</h1></span>"
      ],
      "text/plain": [
       "<IPython.core.display.HTML object>"
      ]
     },
     "metadata": {},
     "output_type": "display_data"
    },
    {
     "data": {
      "text/html": [
       "<span style=\"color:#4527A0\"><h1 style=\"font-size:18px\">Trial summary</h1></span>"
      ],
      "text/plain": [
       "<IPython.core.display.HTML object>"
      ]
     },
     "metadata": {},
     "output_type": "display_data"
    },
    {
     "data": {
      "text/html": [
       "<span style=\"color:cyan\"> |-Trial ID: 8d7a3b6facee254bef8f739636b9f005</span>"
      ],
      "text/plain": [
       "<IPython.core.display.HTML object>"
      ]
     },
     "metadata": {},
     "output_type": "display_data"
    },
    {
     "data": {
      "text/html": [
       "<span style=\"color:cyan\"> |-Score: 0.8744186162948608</span>"
      ],
      "text/plain": [
       "<IPython.core.display.HTML object>"
      ]
     },
     "metadata": {},
     "output_type": "display_data"
    },
    {
     "data": {
      "text/html": [
       "<span style=\"color:cyan\"> |-Best step: 0</span>"
      ],
      "text/plain": [
       "<IPython.core.display.HTML object>"
      ]
     },
     "metadata": {},
     "output_type": "display_data"
    },
    {
     "data": {
      "text/html": [
       "<span style=\"color:#7E57C2\"><h2 style=\"font-size:16px\">Hyperparameters:</h2></span>"
      ],
      "text/plain": [
       "<IPython.core.display.HTML object>"
      ]
     },
     "metadata": {},
     "output_type": "display_data"
    },
    {
     "data": {
      "text/html": [
       "<span style=\"color:cyan\"> |-activation_func: swish</span>"
      ],
      "text/plain": [
       "<IPython.core.display.HTML object>"
      ]
     },
     "metadata": {},
     "output_type": "display_data"
    },
    {
     "data": {
      "text/html": [
       "<span style=\"color:blue\"> |-activation_func_2: tanh</span>"
      ],
      "text/plain": [
       "<IPython.core.display.HTML object>"
      ]
     },
     "metadata": {},
     "output_type": "display_data"
    },
    {
     "data": {
      "text/html": [
       "<span style=\"color:cyan\"> |-layers: 5</span>"
      ],
      "text/plain": [
       "<IPython.core.display.HTML object>"
      ]
     },
     "metadata": {},
     "output_type": "display_data"
    },
    {
     "data": {
      "text/html": [
       "<span style=\"color:blue\"> |-learning_rate: 0.001</span>"
      ],
      "text/plain": [
       "<IPython.core.display.HTML object>"
      ]
     },
     "metadata": {},
     "output_type": "display_data"
    },
    {
     "data": {
      "text/html": [
       "<span style=\"color:cyan\"> |-tuner/bracket: 3</span>"
      ],
      "text/plain": [
       "<IPython.core.display.HTML object>"
      ]
     },
     "metadata": {},
     "output_type": "display_data"
    },
    {
     "data": {
      "text/html": [
       "<span style=\"color:blue\"> |-tuner/epochs: 2</span>"
      ],
      "text/plain": [
       "<IPython.core.display.HTML object>"
      ]
     },
     "metadata": {},
     "output_type": "display_data"
    },
    {
     "data": {
      "text/html": [
       "<span style=\"color:cyan\"> |-tuner/initial_epoch: 0</span>"
      ],
      "text/plain": [
       "<IPython.core.display.HTML object>"
      ]
     },
     "metadata": {},
     "output_type": "display_data"
    },
    {
     "data": {
      "text/html": [
       "<span style=\"color:blue\"> |-tuner/round: 0</span>"
      ],
      "text/plain": [
       "<IPython.core.display.HTML object>"
      ]
     },
     "metadata": {},
     "output_type": "display_data"
    },
    {
     "data": {
      "text/html": [
       "<span style=\"color:cyan\"> |-units: 144</span>"
      ],
      "text/plain": [
       "<IPython.core.display.HTML object>"
      ]
     },
     "metadata": {},
     "output_type": "display_data"
    },
    {
     "name": "stdout",
     "output_type": "stream",
     "text": [
      "Train on 12140 samples, validate on 4515 samples\n",
      "Epoch 1/2\n",
      "12140/12140 [==============================] - ETA: 1:50 - loss: 9.6406 - accuracy: 0.37 - ETA: 4s - loss: 5.9598 - accuracy: 0.4555 - ETA: 2s - loss: 3.2938 - accuracy: 0.62 - ETA: 1s - loss: 2.2839 - accuracy: 0.72 - ETA: 1s - loss: 1.7800 - accuracy: 0.77 - ETA: 0s - loss: 1.4612 - accuracy: 0.81 - ETA: 0s - loss: 1.2561 - accuracy: 0.83 - ETA: 0s - loss: 1.1224 - accuracy: 0.85 - ETA: 0s - loss: 1.0005 - accuracy: 0.86 - ETA: 0s - loss: 0.9135 - accuracy: 0.87 - ETA: 0s - loss: 0.8386 - accuracy: 0.88 - ETA: 0s - loss: 0.7791 - accuracy: 0.89 - ETA: 0s - loss: 0.7207 - accuracy: 0.89 - ETA: 0s - loss: 0.6818 - accuracy: 0.90 - ETA: 0s - loss: 0.6459 - accuracy: 0.90 - 1s 106us/sample - loss: 0.6454 - accuracy: 0.9086 - val_loss: 0.4203 - val_accuracy: 0.9203\n",
      "Epoch 2/2\n",
      "12140/12140 [==============================] - ETA: 1s - loss: 0.0593 - accuracy: 0.96 - ETA: 0s - loss: 0.1931 - accuracy: 0.96 - ETA: 0s - loss: 0.1868 - accuracy: 0.96 - ETA: 0s - loss: 0.1696 - accuracy: 0.97 - ETA: 0s - loss: 0.1770 - accuracy: 0.97 - ETA: 0s - loss: 0.1857 - accuracy: 0.97 - ETA: 0s - loss: 0.1845 - accuracy: 0.97 - ETA: 0s - loss: 0.1774 - accuracy: 0.97 - ETA: 0s - loss: 0.1782 - accuracy: 0.97 - ETA: 0s - loss: 0.1802 - accuracy: 0.97 - ETA: 0s - loss: 0.1798 - accuracy: 0.97 - ETA: 0s - loss: 0.1902 - accuracy: 0.97 - ETA: 0s - loss: 0.1909 - accuracy: 0.97 - ETA: 0s - loss: 0.1953 - accuracy: 0.96 - 1s 72us/sample - loss: 0.1928 - accuracy: 0.9696 - val_loss: 0.3782 - val_accuracy: 0.9136\n"
     ]
    },
    {
     "data": {
      "text/html": [
       "<span style=\"color:#4527A0\"><h1 style=\"font-size:18px\">Trial complete</h1></span>"
      ],
      "text/plain": [
       "<IPython.core.display.HTML object>"
      ]
     },
     "metadata": {},
     "output_type": "display_data"
    },
    {
     "data": {
      "text/html": [
       "<span style=\"color:#4527A0\"><h1 style=\"font-size:18px\">Trial summary</h1></span>"
      ],
      "text/plain": [
       "<IPython.core.display.HTML object>"
      ]
     },
     "metadata": {},
     "output_type": "display_data"
    },
    {
     "data": {
      "text/html": [
       "<span style=\"color:cyan\"> |-Trial ID: 0d8a485a337453596eaed0a752823bc5</span>"
      ],
      "text/plain": [
       "<IPython.core.display.HTML object>"
      ]
     },
     "metadata": {},
     "output_type": "display_data"
    },
    {
     "data": {
      "text/html": [
       "<span style=\"color:cyan\"> |-Score: 0.920265793800354</span>"
      ],
      "text/plain": [
       "<IPython.core.display.HTML object>"
      ]
     },
     "metadata": {},
     "output_type": "display_data"
    },
    {
     "data": {
      "text/html": [
       "<span style=\"color:cyan\"> |-Best step: 0</span>"
      ],
      "text/plain": [
       "<IPython.core.display.HTML object>"
      ]
     },
     "metadata": {},
     "output_type": "display_data"
    },
    {
     "data": {
      "text/html": [
       "<span style=\"color:#7E57C2\"><h2 style=\"font-size:16px\">Hyperparameters:</h2></span>"
      ],
      "text/plain": [
       "<IPython.core.display.HTML object>"
      ]
     },
     "metadata": {},
     "output_type": "display_data"
    },
    {
     "data": {
      "text/html": [
       "<span style=\"color:cyan\"> |-activation_func: relu</span>"
      ],
      "text/plain": [
       "<IPython.core.display.HTML object>"
      ]
     },
     "metadata": {},
     "output_type": "display_data"
    },
    {
     "data": {
      "text/html": [
       "<span style=\"color:blue\"> |-activation_func_2: relu</span>"
      ],
      "text/plain": [
       "<IPython.core.display.HTML object>"
      ]
     },
     "metadata": {},
     "output_type": "display_data"
    },
    {
     "data": {
      "text/html": [
       "<span style=\"color:cyan\"> |-layers: 2</span>"
      ],
      "text/plain": [
       "<IPython.core.display.HTML object>"
      ]
     },
     "metadata": {},
     "output_type": "display_data"
    },
    {
     "data": {
      "text/html": [
       "<span style=\"color:blue\"> |-learning_rate: 0.001</span>"
      ],
      "text/plain": [
       "<IPython.core.display.HTML object>"
      ]
     },
     "metadata": {},
     "output_type": "display_data"
    },
    {
     "data": {
      "text/html": [
       "<span style=\"color:cyan\"> |-tuner/bracket: 3</span>"
      ],
      "text/plain": [
       "<IPython.core.display.HTML object>"
      ]
     },
     "metadata": {},
     "output_type": "display_data"
    },
    {
     "data": {
      "text/html": [
       "<span style=\"color:blue\"> |-tuner/epochs: 2</span>"
      ],
      "text/plain": [
       "<IPython.core.display.HTML object>"
      ]
     },
     "metadata": {},
     "output_type": "display_data"
    },
    {
     "data": {
      "text/html": [
       "<span style=\"color:cyan\"> |-tuner/initial_epoch: 0</span>"
      ],
      "text/plain": [
       "<IPython.core.display.HTML object>"
      ]
     },
     "metadata": {},
     "output_type": "display_data"
    },
    {
     "data": {
      "text/html": [
       "<span style=\"color:blue\"> |-tuner/round: 0</span>"
      ],
      "text/plain": [
       "<IPython.core.display.HTML object>"
      ]
     },
     "metadata": {},
     "output_type": "display_data"
    },
    {
     "data": {
      "text/html": [
       "<span style=\"color:cyan\"> |-units: 64</span>"
      ],
      "text/plain": [
       "<IPython.core.display.HTML object>"
      ]
     },
     "metadata": {},
     "output_type": "display_data"
    },
    {
     "name": "stdout",
     "output_type": "stream",
     "text": [
      "Train on 12140 samples, validate on 4515 samples\n",
      "Epoch 1/2\n",
      "12140/12140 [==============================] - ETA: 2:11 - loss: 5.7372 - accuracy: 0.43 - ETA: 6s - loss: 1.1921 - accuracy: 0.8179 - ETA: 3s - loss: 1.1331 - accuracy: 0.79 - ETA: 2s - loss: 0.8003 - accuracy: 0.84 - ETA: 1s - loss: 0.6355 - accuracy: 0.87 - ETA: 1s - loss: 0.5302 - accuracy: 0.89 - ETA: 1s - loss: 0.4676 - accuracy: 0.91 - ETA: 0s - loss: 0.4151 - accuracy: 0.91 - ETA: 0s - loss: 0.3794 - accuracy: 0.92 - ETA: 0s - loss: 0.3539 - accuracy: 0.93 - ETA: 0s - loss: 0.3333 - accuracy: 0.93 - ETA: 0s - loss: 0.3145 - accuracy: 0.93 - ETA: 0s - loss: 0.2990 - accuracy: 0.94 - ETA: 0s - loss: 0.2854 - accuracy: 0.94 - ETA: 0s - loss: 0.2775 - accuracy: 0.94 - ETA: 0s - loss: 0.2688 - accuracy: 0.94 - 1s 118us/sample - loss: 0.2627 - accuracy: 0.9503 - val_loss: 0.3072 - val_accuracy: 0.9309\n",
      "Epoch 2/2\n",
      "12140/12140 [==============================] - ETA: 1s - loss: 0.0076 - accuracy: 1.00 - ETA: 0s - loss: 0.1045 - accuracy: 0.97 - ETA: 0s - loss: 0.1369 - accuracy: 0.97 - ETA: 0s - loss: 0.1323 - accuracy: 0.97 - ETA: 0s - loss: 0.1975 - accuracy: 0.95 - ETA: 0s - loss: 0.1879 - accuracy: 0.95 - ETA: 0s - loss: 0.1861 - accuracy: 0.95 - ETA: 0s - loss: 0.1742 - accuracy: 0.95 - ETA: 0s - loss: 0.1677 - accuracy: 0.95 - ETA: 0s - loss: 0.1592 - accuracy: 0.96 - ETA: 0s - loss: 0.1548 - accuracy: 0.96 - ETA: 0s - loss: 0.1543 - accuracy: 0.96 - ETA: 0s - loss: 0.1468 - accuracy: 0.96 - ETA: 0s - loss: 0.1456 - accuracy: 0.96 - ETA: 0s - loss: 0.1698 - accuracy: 0.96 - 1s 78us/sample - loss: 0.2670 - accuracy: 0.9446 - val_loss: 0.7530 - val_accuracy: 0.7962\n"
     ]
    },
    {
     "data": {
      "text/html": [
       "<span style=\"color:#4527A0\"><h1 style=\"font-size:18px\">Trial complete</h1></span>"
      ],
      "text/plain": [
       "<IPython.core.display.HTML object>"
      ]
     },
     "metadata": {},
     "output_type": "display_data"
    },
    {
     "data": {
      "text/html": [
       "<span style=\"color:#4527A0\"><h1 style=\"font-size:18px\">Trial summary</h1></span>"
      ],
      "text/plain": [
       "<IPython.core.display.HTML object>"
      ]
     },
     "metadata": {},
     "output_type": "display_data"
    },
    {
     "data": {
      "text/html": [
       "<span style=\"color:cyan\"> |-Trial ID: de8c5fe8f10f6abef3fcdbfd5f6bdd26</span>"
      ],
      "text/plain": [
       "<IPython.core.display.HTML object>"
      ]
     },
     "metadata": {},
     "output_type": "display_data"
    },
    {
     "data": {
      "text/html": [
       "<span style=\"color:cyan\"> |-Score: 0.9308969974517822</span>"
      ],
      "text/plain": [
       "<IPython.core.display.HTML object>"
      ]
     },
     "metadata": {},
     "output_type": "display_data"
    },
    {
     "data": {
      "text/html": [
       "<span style=\"color:cyan\"> |-Best step: 0</span>"
      ],
      "text/plain": [
       "<IPython.core.display.HTML object>"
      ]
     },
     "metadata": {},
     "output_type": "display_data"
    },
    {
     "data": {
      "text/html": [
       "<span style=\"color:#7E57C2\"><h2 style=\"font-size:16px\">Hyperparameters:</h2></span>"
      ],
      "text/plain": [
       "<IPython.core.display.HTML object>"
      ]
     },
     "metadata": {},
     "output_type": "display_data"
    },
    {
     "data": {
      "text/html": [
       "<span style=\"color:cyan\"> |-activation_func: tanh</span>"
      ],
      "text/plain": [
       "<IPython.core.display.HTML object>"
      ]
     },
     "metadata": {},
     "output_type": "display_data"
    },
    {
     "data": {
      "text/html": [
       "<span style=\"color:blue\"> |-activation_func_2: tanh</span>"
      ],
      "text/plain": [
       "<IPython.core.display.HTML object>"
      ]
     },
     "metadata": {},
     "output_type": "display_data"
    },
    {
     "data": {
      "text/html": [
       "<span style=\"color:cyan\"> |-layers: 3</span>"
      ],
      "text/plain": [
       "<IPython.core.display.HTML object>"
      ]
     },
     "metadata": {},
     "output_type": "display_data"
    },
    {
     "data": {
      "text/html": [
       "<span style=\"color:blue\"> |-learning_rate: 0.01</span>"
      ],
      "text/plain": [
       "<IPython.core.display.HTML object>"
      ]
     },
     "metadata": {},
     "output_type": "display_data"
    },
    {
     "data": {
      "text/html": [
       "<span style=\"color:cyan\"> |-tuner/bracket: 3</span>"
      ],
      "text/plain": [
       "<IPython.core.display.HTML object>"
      ]
     },
     "metadata": {},
     "output_type": "display_data"
    },
    {
     "data": {
      "text/html": [
       "<span style=\"color:blue\"> |-tuner/epochs: 2</span>"
      ],
      "text/plain": [
       "<IPython.core.display.HTML object>"
      ]
     },
     "metadata": {},
     "output_type": "display_data"
    },
    {
     "data": {
      "text/html": [
       "<span style=\"color:cyan\"> |-tuner/initial_epoch: 0</span>"
      ],
      "text/plain": [
       "<IPython.core.display.HTML object>"
      ]
     },
     "metadata": {},
     "output_type": "display_data"
    },
    {
     "data": {
      "text/html": [
       "<span style=\"color:blue\"> |-tuner/round: 0</span>"
      ],
      "text/plain": [
       "<IPython.core.display.HTML object>"
      ]
     },
     "metadata": {},
     "output_type": "display_data"
    },
    {
     "data": {
      "text/html": [
       "<span style=\"color:cyan\"> |-units: 16</span>"
      ],
      "text/plain": [
       "<IPython.core.display.HTML object>"
      ]
     },
     "metadata": {},
     "output_type": "display_data"
    },
    {
     "name": "stdout",
     "output_type": "stream",
     "text": [
      "Train on 12140 samples, validate on 4515 samples\n",
      "Epoch 1/2\n",
      "12140/12140 [==============================] - ETA: 1:44 - loss: 4.9691 - accuracy: 0.37 - ETA: 3s - loss: 1.1434 - accuracy: 0.8594 - ETA: 2s - loss: 0.8465 - accuracy: 0.90 - ETA: 1s - loss: 0.7058 - accuracy: 0.92 - ETA: 1s - loss: 0.6882 - accuracy: 0.92 - ETA: 0s - loss: 0.5982 - accuracy: 0.93 - ETA: 0s - loss: 0.5435 - accuracy: 0.93 - ETA: 0s - loss: 0.4955 - accuracy: 0.94 - ETA: 0s - loss: 0.4790 - accuracy: 0.94 - ETA: 0s - loss: 0.4733 - accuracy: 0.94 - ETA: 0s - loss: 0.4598 - accuracy: 0.95 - ETA: 0s - loss: 0.4401 - accuracy: 0.95 - ETA: 0s - loss: 0.4356 - accuracy: 0.95 - 1s 101us/sample - loss: 0.4261 - accuracy: 0.9568 - val_loss: 0.6361 - val_accuracy: 0.8600\n",
      "Epoch 2/2\n",
      "12140/12140 [==============================] - ETA: 1s - loss: 0.0000e+00 - accuracy: 1.00 - ETA: 0s - loss: 0.3194 - accuracy: 0.9752   - ETA: 0s - loss: 0.4043 - accuracy: 0.97 - ETA: 0s - loss: 0.3788 - accuracy: 0.97 - ETA: 0s - loss: 0.3383 - accuracy: 0.97 - ETA: 0s - loss: 0.3393 - accuracy: 0.97 - ETA: 0s - loss: 0.3554 - accuracy: 0.96 - ETA: 0s - loss: 0.3343 - accuracy: 0.97 - ETA: 0s - loss: 0.3307 - accuracy: 0.97 - ETA: 0s - loss: 0.3514 - accuracy: 0.96 - ETA: 0s - loss: 0.3684 - accuracy: 0.96 - ETA: 0s - loss: 0.3800 - accuracy: 0.96 - ETA: 0s - loss: 0.3926 - accuracy: 0.96 - 1s 72us/sample - loss: 0.3837 - accuracy: 0.9674 - val_loss: 1.0994 - val_accuracy: 0.9223\n"
     ]
    },
    {
     "data": {
      "text/html": [
       "<span style=\"color:#4527A0\"><h1 style=\"font-size:18px\">Trial complete</h1></span>"
      ],
      "text/plain": [
       "<IPython.core.display.HTML object>"
      ]
     },
     "metadata": {},
     "output_type": "display_data"
    },
    {
     "data": {
      "text/html": [
       "<span style=\"color:#4527A0\"><h1 style=\"font-size:18px\">Trial summary</h1></span>"
      ],
      "text/plain": [
       "<IPython.core.display.HTML object>"
      ]
     },
     "metadata": {},
     "output_type": "display_data"
    },
    {
     "data": {
      "text/html": [
       "<span style=\"color:cyan\"> |-Trial ID: 9efb6b7ae596513537b82adc5775a004</span>"
      ],
      "text/plain": [
       "<IPython.core.display.HTML object>"
      ]
     },
     "metadata": {},
     "output_type": "display_data"
    },
    {
     "data": {
      "text/html": [
       "<span style=\"color:cyan\"> |-Score: 0.9222591519355774</span>"
      ],
      "text/plain": [
       "<IPython.core.display.HTML object>"
      ]
     },
     "metadata": {},
     "output_type": "display_data"
    },
    {
     "data": {
      "text/html": [
       "<span style=\"color:cyan\"> |-Best step: 0</span>"
      ],
      "text/plain": [
       "<IPython.core.display.HTML object>"
      ]
     },
     "metadata": {},
     "output_type": "display_data"
    },
    {
     "data": {
      "text/html": [
       "<span style=\"color:#7E57C2\"><h2 style=\"font-size:16px\">Hyperparameters:</h2></span>"
      ],
      "text/plain": [
       "<IPython.core.display.HTML object>"
      ]
     },
     "metadata": {},
     "output_type": "display_data"
    },
    {
     "data": {
      "text/html": [
       "<span style=\"color:cyan\"> |-activation_func: swish</span>"
      ],
      "text/plain": [
       "<IPython.core.display.HTML object>"
      ]
     },
     "metadata": {},
     "output_type": "display_data"
    },
    {
     "data": {
      "text/html": [
       "<span style=\"color:blue\"> |-activation_func_2: relu</span>"
      ],
      "text/plain": [
       "<IPython.core.display.HTML object>"
      ]
     },
     "metadata": {},
     "output_type": "display_data"
    },
    {
     "data": {
      "text/html": [
       "<span style=\"color:cyan\"> |-layers: 1</span>"
      ],
      "text/plain": [
       "<IPython.core.display.HTML object>"
      ]
     },
     "metadata": {},
     "output_type": "display_data"
    },
    {
     "data": {
      "text/html": [
       "<span style=\"color:blue\"> |-learning_rate: 0.01</span>"
      ],
      "text/plain": [
       "<IPython.core.display.HTML object>"
      ]
     },
     "metadata": {},
     "output_type": "display_data"
    },
    {
     "data": {
      "text/html": [
       "<span style=\"color:cyan\"> |-tuner/bracket: 3</span>"
      ],
      "text/plain": [
       "<IPython.core.display.HTML object>"
      ]
     },
     "metadata": {},
     "output_type": "display_data"
    },
    {
     "data": {
      "text/html": [
       "<span style=\"color:blue\"> |-tuner/epochs: 2</span>"
      ],
      "text/plain": [
       "<IPython.core.display.HTML object>"
      ]
     },
     "metadata": {},
     "output_type": "display_data"
    },
    {
     "data": {
      "text/html": [
       "<span style=\"color:cyan\"> |-tuner/initial_epoch: 0</span>"
      ],
      "text/plain": [
       "<IPython.core.display.HTML object>"
      ]
     },
     "metadata": {},
     "output_type": "display_data"
    },
    {
     "data": {
      "text/html": [
       "<span style=\"color:blue\"> |-tuner/round: 0</span>"
      ],
      "text/plain": [
       "<IPython.core.display.HTML object>"
      ]
     },
     "metadata": {},
     "output_type": "display_data"
    },
    {
     "data": {
      "text/html": [
       "<span style=\"color:cyan\"> |-units: 160</span>"
      ],
      "text/plain": [
       "<IPython.core.display.HTML object>"
      ]
     },
     "metadata": {},
     "output_type": "display_data"
    },
    {
     "name": "stdout",
     "output_type": "stream",
     "text": [
      "Train on 12140 samples, validate on 4515 samples\n",
      "Epoch 1/2\n",
      "12140/12140 [==============================] - ETA: 1:41 - loss: 5.3714 - accuracy: 0.40 - ETA: 4s - loss: 0.4638 - accuracy: 0.9185 - ETA: 2s - loss: 0.3203 - accuracy: 0.94 - ETA: 1s - loss: 0.3087 - accuracy: 0.94 - ETA: 1s - loss: 0.2922 - accuracy: 0.94 - ETA: 0s - loss: 0.2842 - accuracy: 0.95 - ETA: 0s - loss: 0.2772 - accuracy: 0.95 - ETA: 0s - loss: 0.2755 - accuracy: 0.95 - ETA: 0s - loss: 0.2680 - accuracy: 0.95 - ETA: 0s - loss: 0.2758 - accuracy: 0.95 - ETA: 0s - loss: 0.2635 - accuracy: 0.96 - ETA: 0s - loss: 0.2586 - accuracy: 0.96 - ETA: 0s - loss: 0.2621 - accuracy: 0.96 - ETA: 0s - loss: 0.2560 - accuracy: 0.96 - 1s 102us/sample - loss: 0.2502 - accuracy: 0.9639 - val_loss: 0.5205 - val_accuracy: 0.8983\n",
      "Epoch 2/2\n",
      "12140/12140 [==============================] - ETA: 1s - loss: 0.4988 - accuracy: 0.96 - ETA: 0s - loss: 0.1086 - accuracy: 0.98 - ETA: 0s - loss: 0.1658 - accuracy: 0.97 - ETA: 0s - loss: 0.1862 - accuracy: 0.97 - ETA: 0s - loss: 0.1807 - accuracy: 0.97 - ETA: 0s - loss: 0.1880 - accuracy: 0.97 - ETA: 0s - loss: 0.1893 - accuracy: 0.97 - ETA: 0s - loss: 0.1911 - accuracy: 0.97 - ETA: 0s - loss: 0.1775 - accuracy: 0.97 - ETA: 0s - loss: 0.1765 - accuracy: 0.97 - ETA: 0s - loss: 0.1645 - accuracy: 0.97 - ETA: 0s - loss: 0.1706 - accuracy: 0.97 - ETA: 0s - loss: 0.1696 - accuracy: 0.97 - ETA: 0s - loss: 0.1760 - accuracy: 0.97 - 1s 71us/sample - loss: 0.1745 - accuracy: 0.9755 - val_loss: 0.9541 - val_accuracy: 0.8512\n"
     ]
    },
    {
     "data": {
      "text/html": [
       "<span style=\"color:#4527A0\"><h1 style=\"font-size:18px\">Trial complete</h1></span>"
      ],
      "text/plain": [
       "<IPython.core.display.HTML object>"
      ]
     },
     "metadata": {},
     "output_type": "display_data"
    },
    {
     "data": {
      "text/html": [
       "<span style=\"color:#4527A0\"><h1 style=\"font-size:18px\">Trial summary</h1></span>"
      ],
      "text/plain": [
       "<IPython.core.display.HTML object>"
      ]
     },
     "metadata": {},
     "output_type": "display_data"
    },
    {
     "data": {
      "text/html": [
       "<span style=\"color:cyan\"> |-Trial ID: 5e8420dfd10218feb4f0eae8030090e8</span>"
      ],
      "text/plain": [
       "<IPython.core.display.HTML object>"
      ]
     },
     "metadata": {},
     "output_type": "display_data"
    },
    {
     "data": {
      "text/html": [
       "<span style=\"color:cyan\"> |-Score: 0.8983388543128967</span>"
      ],
      "text/plain": [
       "<IPython.core.display.HTML object>"
      ]
     },
     "metadata": {},
     "output_type": "display_data"
    },
    {
     "data": {
      "text/html": [
       "<span style=\"color:cyan\"> |-Best step: 0</span>"
      ],
      "text/plain": [
       "<IPython.core.display.HTML object>"
      ]
     },
     "metadata": {},
     "output_type": "display_data"
    },
    {
     "data": {
      "text/html": [
       "<span style=\"color:#7E57C2\"><h2 style=\"font-size:16px\">Hyperparameters:</h2></span>"
      ],
      "text/plain": [
       "<IPython.core.display.HTML object>"
      ]
     },
     "metadata": {},
     "output_type": "display_data"
    },
    {
     "data": {
      "text/html": [
       "<span style=\"color:cyan\"> |-activation_func: relu</span>"
      ],
      "text/plain": [
       "<IPython.core.display.HTML object>"
      ]
     },
     "metadata": {},
     "output_type": "display_data"
    },
    {
     "data": {
      "text/html": [
       "<span style=\"color:blue\"> |-activation_func_2: tanh</span>"
      ],
      "text/plain": [
       "<IPython.core.display.HTML object>"
      ]
     },
     "metadata": {},
     "output_type": "display_data"
    },
    {
     "data": {
      "text/html": [
       "<span style=\"color:cyan\"> |-layers: 1</span>"
      ],
      "text/plain": [
       "<IPython.core.display.HTML object>"
      ]
     },
     "metadata": {},
     "output_type": "display_data"
    },
    {
     "data": {
      "text/html": [
       "<span style=\"color:blue\"> |-learning_rate: 0.01</span>"
      ],
      "text/plain": [
       "<IPython.core.display.HTML object>"
      ]
     },
     "metadata": {},
     "output_type": "display_data"
    },
    {
     "data": {
      "text/html": [
       "<span style=\"color:cyan\"> |-tuner/bracket: 3</span>"
      ],
      "text/plain": [
       "<IPython.core.display.HTML object>"
      ]
     },
     "metadata": {},
     "output_type": "display_data"
    },
    {
     "data": {
      "text/html": [
       "<span style=\"color:blue\"> |-tuner/epochs: 2</span>"
      ],
      "text/plain": [
       "<IPython.core.display.HTML object>"
      ]
     },
     "metadata": {},
     "output_type": "display_data"
    },
    {
     "data": {
      "text/html": [
       "<span style=\"color:cyan\"> |-tuner/initial_epoch: 0</span>"
      ],
      "text/plain": [
       "<IPython.core.display.HTML object>"
      ]
     },
     "metadata": {},
     "output_type": "display_data"
    },
    {
     "data": {
      "text/html": [
       "<span style=\"color:blue\"> |-tuner/round: 0</span>"
      ],
      "text/plain": [
       "<IPython.core.display.HTML object>"
      ]
     },
     "metadata": {},
     "output_type": "display_data"
    },
    {
     "data": {
      "text/html": [
       "<span style=\"color:cyan\"> |-units: 176</span>"
      ],
      "text/plain": [
       "<IPython.core.display.HTML object>"
      ]
     },
     "metadata": {},
     "output_type": "display_data"
    },
    {
     "name": "stdout",
     "output_type": "stream",
     "text": [
      "Train on 12140 samples, validate on 4515 samples\n",
      "Epoch 3/6\n",
      "12140/12140 [==============================] - ETA: 1:48 - loss: 3.0020 - accuracy: 0.37 - ETA: 4s - loss: 1.0819 - accuracy: 0.8772 - ETA: 2s - loss: 0.8687 - accuracy: 0.90 - ETA: 1s - loss: 0.6854 - accuracy: 0.92 - ETA: 1s - loss: 0.6032 - accuracy: 0.93 - ETA: 0s - loss: 0.5828 - accuracy: 0.94 - ETA: 0s - loss: 0.5271 - accuracy: 0.94 - ETA: 0s - loss: 0.4987 - accuracy: 0.95 - ETA: 0s - loss: 0.5140 - accuracy: 0.95 - ETA: 0s - loss: 0.5304 - accuracy: 0.95 - ETA: 0s - loss: 0.5382 - accuracy: 0.95 - ETA: 0s - loss: 0.5437 - accuracy: 0.95 - ETA: 0s - loss: 0.5335 - accuracy: 0.95 - ETA: 0s - loss: 0.5266 - accuracy: 0.95 - ETA: 0s - loss: 0.5139 - accuracy: 0.95 - 1s 106us/sample - loss: 0.5115 - accuracy: 0.9577 - val_loss: 0.8590 - val_accuracy: 0.9340\n",
      "Epoch 4/6\n",
      "12140/12140 [==============================] - ETA: 1s - loss: 0.0000e+00 - accuracy: 1.00 - ETA: 0s - loss: 0.3441 - accuracy: 0.9688   - ETA: 0s - loss: 0.4488 - accuracy: 0.96 - ETA: 0s - loss: 0.4967 - accuracy: 0.96 - ETA: 0s - loss: 0.4970 - accuracy: 0.96 - ETA: 0s - loss: 0.4946 - accuracy: 0.96 - ETA: 0s - loss: 0.4924 - accuracy: 0.96 - ETA: 0s - loss: 0.4818 - accuracy: 0.96 - ETA: 0s - loss: 0.4839 - accuracy: 0.96 - ETA: 0s - loss: 0.4768 - accuracy: 0.96 - ETA: 0s - loss: 0.4863 - accuracy: 0.96 - ETA: 0s - loss: 0.4801 - accuracy: 0.96 - ETA: 0s - loss: 0.4696 - accuracy: 0.96 - 1s 68us/sample - loss: 0.4786 - accuracy: 0.9661 - val_loss: 0.9347 - val_accuracy: 0.9316\n"
     ]
    },
    {
     "data": {
      "text/html": [
       "<span style=\"color:#4527A0\"><h1 style=\"font-size:18px\">Trial complete</h1></span>"
      ],
      "text/plain": [
       "<IPython.core.display.HTML object>"
      ]
     },
     "metadata": {},
     "output_type": "display_data"
    },
    {
     "data": {
      "text/html": [
       "<span style=\"color:#4527A0\"><h1 style=\"font-size:18px\">Trial summary</h1></span>"
      ],
      "text/plain": [
       "<IPython.core.display.HTML object>"
      ]
     },
     "metadata": {},
     "output_type": "display_data"
    },
    {
     "data": {
      "text/html": [
       "<span style=\"color:cyan\"> |-Trial ID: 7704a124a76463e43490f923890eef37</span>"
      ],
      "text/plain": [
       "<IPython.core.display.HTML object>"
      ]
     },
     "metadata": {},
     "output_type": "display_data"
    },
    {
     "data": {
      "text/html": [
       "<span style=\"color:cyan\"> |-Score: 0.9339978098869324</span>"
      ],
      "text/plain": [
       "<IPython.core.display.HTML object>"
      ]
     },
     "metadata": {},
     "output_type": "display_data"
    },
    {
     "data": {
      "text/html": [
       "<span style=\"color:cyan\"> |-Best step: 0</span>"
      ],
      "text/plain": [
       "<IPython.core.display.HTML object>"
      ]
     },
     "metadata": {},
     "output_type": "display_data"
    },
    {
     "data": {
      "text/html": [
       "<span style=\"color:#7E57C2\"><h2 style=\"font-size:16px\">Hyperparameters:</h2></span>"
      ],
      "text/plain": [
       "<IPython.core.display.HTML object>"
      ]
     },
     "metadata": {},
     "output_type": "display_data"
    },
    {
     "data": {
      "text/html": [
       "<span style=\"color:cyan\"> |-activation_func: relu</span>"
      ],
      "text/plain": [
       "<IPython.core.display.HTML object>"
      ]
     },
     "metadata": {},
     "output_type": "display_data"
    },
    {
     "data": {
      "text/html": [
       "<span style=\"color:blue\"> |-activation_func_2: swish</span>"
      ],
      "text/plain": [
       "<IPython.core.display.HTML object>"
      ]
     },
     "metadata": {},
     "output_type": "display_data"
    },
    {
     "data": {
      "text/html": [
       "<span style=\"color:cyan\"> |-layers: 1</span>"
      ],
      "text/plain": [
       "<IPython.core.display.HTML object>"
      ]
     },
     "metadata": {},
     "output_type": "display_data"
    },
    {
     "data": {
      "text/html": [
       "<span style=\"color:blue\"> |-learning_rate: 0.01</span>"
      ],
      "text/plain": [
       "<IPython.core.display.HTML object>"
      ]
     },
     "metadata": {},
     "output_type": "display_data"
    },
    {
     "data": {
      "text/html": [
       "<span style=\"color:cyan\"> |-tuner/bracket: 3</span>"
      ],
      "text/plain": [
       "<IPython.core.display.HTML object>"
      ]
     },
     "metadata": {},
     "output_type": "display_data"
    },
    {
     "data": {
      "text/html": [
       "<span style=\"color:blue\"> |-tuner/epochs: 6</span>"
      ],
      "text/plain": [
       "<IPython.core.display.HTML object>"
      ]
     },
     "metadata": {},
     "output_type": "display_data"
    },
    {
     "data": {
      "text/html": [
       "<span style=\"color:cyan\"> |-tuner/initial_epoch: 2</span>"
      ],
      "text/plain": [
       "<IPython.core.display.HTML object>"
      ]
     },
     "metadata": {},
     "output_type": "display_data"
    },
    {
     "data": {
      "text/html": [
       "<span style=\"color:blue\"> |-tuner/round: 1</span>"
      ],
      "text/plain": [
       "<IPython.core.display.HTML object>"
      ]
     },
     "metadata": {},
     "output_type": "display_data"
    },
    {
     "data": {
      "text/html": [
       "<span style=\"color:cyan\"> |-tuner/trial_id: d887b6387433399da039614d3e600fe8</span>"
      ],
      "text/plain": [
       "<IPython.core.display.HTML object>"
      ]
     },
     "metadata": {},
     "output_type": "display_data"
    },
    {
     "data": {
      "text/html": [
       "<span style=\"color:blue\"> |-units: 192</span>"
      ],
      "text/plain": [
       "<IPython.core.display.HTML object>"
      ]
     },
     "metadata": {},
     "output_type": "display_data"
    },
    {
     "name": "stdout",
     "output_type": "stream",
     "text": [
      "Train on 12140 samples, validate on 4515 samples\n",
      "Epoch 3/6\n",
      "12140/12140 [==============================] - ETA: 2:02 - loss: 6.6365 - accuracy: 0.34 - ETA: 4s - loss: 2.2190 - accuracy: 0.8079 - ETA: 2s - loss: 2.1847 - accuracy: 0.82 - ETA: 1s - loss: 2.1107 - accuracy: 0.83 - ETA: 1s - loss: 1.9262 - accuracy: 0.84 - ETA: 1s - loss: 1.8273 - accuracy: 0.85 - ETA: 0s - loss: 1.6581 - accuracy: 0.86 - ETA: 0s - loss: 1.5432 - accuracy: 0.87 - ETA: 0s - loss: 1.4843 - accuracy: 0.88 - ETA: 0s - loss: 1.3899 - accuracy: 0.88 - ETA: 0s - loss: 1.3130 - accuracy: 0.89 - ETA: 0s - loss: 1.2499 - accuracy: 0.89 - ETA: 0s - loss: 1.1847 - accuracy: 0.90 - ETA: 0s - loss: 1.1312 - accuracy: 0.90 - ETA: 0s - loss: 1.0806 - accuracy: 0.91 - 1s 112us/sample - loss: 1.0542 - accuracy: 0.9143 - val_loss: 2.6584 - val_accuracy: 0.7701\n",
      "Epoch 4/6\n",
      "12140/12140 [==============================] - ETA: 1s - loss: 0.0201 - accuracy: 1.00 - ETA: 0s - loss: 0.4224 - accuracy: 0.96 - ETA: 0s - loss: 0.5309 - accuracy: 0.95 - ETA: 0s - loss: 0.5835 - accuracy: 0.95 - ETA: 0s - loss: 0.6096 - accuracy: 0.95 - ETA: 0s - loss: 0.5768 - accuracy: 0.95 - ETA: 0s - loss: 0.5380 - accuracy: 0.95 - ETA: 0s - loss: 0.5330 - accuracy: 0.95 - ETA: 0s - loss: 0.5202 - accuracy: 0.95 - ETA: 0s - loss: 0.5102 - accuracy: 0.96 - ETA: 0s - loss: 0.4865 - accuracy: 0.96 - ETA: 0s - loss: 0.4683 - accuracy: 0.96 - ETA: 0s - loss: 0.4495 - accuracy: 0.96 - ETA: 0s - loss: 0.4368 - accuracy: 0.96 - ETA: 0s - loss: 0.4336 - accuracy: 0.96 - 1s 78us/sample - loss: 0.4300 - accuracy: 0.9671 - val_loss: 0.8691 - val_accuracy: 0.9240\n",
      "Epoch 5/6\n",
      "12140/12140 [==============================] - ETA: 1s - loss: 0.0000e+00 - accuracy: 1.00 - ETA: 0s - loss: 0.2674 - accuracy: 0.9815   - ETA: 0s - loss: 0.2764 - accuracy: 0.98 - ETA: 0s - loss: 0.2951 - accuracy: 0.97 - ETA: 0s - loss: 0.3180 - accuracy: 0.97 - ETA: 0s - loss: 0.3246 - accuracy: 0.97 - ETA: 0s - loss: 0.3334 - accuracy: 0.97 - ETA: 0s - loss: 0.3519 - accuracy: 0.97 - ETA: 0s - loss: 0.3469 - accuracy: 0.97 - ETA: 0s - loss: 0.3583 - accuracy: 0.97 - ETA: 0s - loss: 0.3489 - accuracy: 0.97 - ETA: 0s - loss: 0.3630 - accuracy: 0.97 - ETA: 0s - loss: 0.3669 - accuracy: 0.97 - ETA: 0s - loss: 0.3715 - accuracy: 0.97 - ETA: 0s - loss: 0.3675 - accuracy: 0.97 - 1s 81us/sample - loss: 0.3661 - accuracy: 0.9752 - val_loss: 0.8721 - val_accuracy: 0.9249\n"
     ]
    },
    {
     "data": {
      "text/html": [
       "<span style=\"color:#4527A0\"><h1 style=\"font-size:18px\">Trial complete</h1></span>"
      ],
      "text/plain": [
       "<IPython.core.display.HTML object>"
      ]
     },
     "metadata": {},
     "output_type": "display_data"
    },
    {
     "data": {
      "text/html": [
       "<span style=\"color:#4527A0\"><h1 style=\"font-size:18px\">Trial summary</h1></span>"
      ],
      "text/plain": [
       "<IPython.core.display.HTML object>"
      ]
     },
     "metadata": {},
     "output_type": "display_data"
    },
    {
     "data": {
      "text/html": [
       "<span style=\"color:cyan\"> |-Trial ID: 51459579612fb517e9e5529996b228d9</span>"
      ],
      "text/plain": [
       "<IPython.core.display.HTML object>"
      ]
     },
     "metadata": {},
     "output_type": "display_data"
    },
    {
     "data": {
      "text/html": [
       "<span style=\"color:cyan\"> |-Score: 0.9249169230461121</span>"
      ],
      "text/plain": [
       "<IPython.core.display.HTML object>"
      ]
     },
     "metadata": {},
     "output_type": "display_data"
    },
    {
     "data": {
      "text/html": [
       "<span style=\"color:cyan\"> |-Best step: 0</span>"
      ],
      "text/plain": [
       "<IPython.core.display.HTML object>"
      ]
     },
     "metadata": {},
     "output_type": "display_data"
    },
    {
     "data": {
      "text/html": [
       "<span style=\"color:#7E57C2\"><h2 style=\"font-size:16px\">Hyperparameters:</h2></span>"
      ],
      "text/plain": [
       "<IPython.core.display.HTML object>"
      ]
     },
     "metadata": {},
     "output_type": "display_data"
    },
    {
     "data": {
      "text/html": [
       "<span style=\"color:cyan\"> |-activation_func: tanh</span>"
      ],
      "text/plain": [
       "<IPython.core.display.HTML object>"
      ]
     },
     "metadata": {},
     "output_type": "display_data"
    },
    {
     "data": {
      "text/html": [
       "<span style=\"color:blue\"> |-activation_func_2: swish</span>"
      ],
      "text/plain": [
       "<IPython.core.display.HTML object>"
      ]
     },
     "metadata": {},
     "output_type": "display_data"
    },
    {
     "data": {
      "text/html": [
       "<span style=\"color:cyan\"> |-layers: 3</span>"
      ],
      "text/plain": [
       "<IPython.core.display.HTML object>"
      ]
     },
     "metadata": {},
     "output_type": "display_data"
    },
    {
     "data": {
      "text/html": [
       "<span style=\"color:blue\"> |-learning_rate: 0.001</span>"
      ],
      "text/plain": [
       "<IPython.core.display.HTML object>"
      ]
     },
     "metadata": {},
     "output_type": "display_data"
    },
    {
     "data": {
      "text/html": [
       "<span style=\"color:cyan\"> |-tuner/bracket: 3</span>"
      ],
      "text/plain": [
       "<IPython.core.display.HTML object>"
      ]
     },
     "metadata": {},
     "output_type": "display_data"
    },
    {
     "data": {
      "text/html": [
       "<span style=\"color:blue\"> |-tuner/epochs: 6</span>"
      ],
      "text/plain": [
       "<IPython.core.display.HTML object>"
      ]
     },
     "metadata": {},
     "output_type": "display_data"
    },
    {
     "data": {
      "text/html": [
       "<span style=\"color:cyan\"> |-tuner/initial_epoch: 2</span>"
      ],
      "text/plain": [
       "<IPython.core.display.HTML object>"
      ]
     },
     "metadata": {},
     "output_type": "display_data"
    },
    {
     "data": {
      "text/html": [
       "<span style=\"color:blue\"> |-tuner/round: 1</span>"
      ],
      "text/plain": [
       "<IPython.core.display.HTML object>"
      ]
     },
     "metadata": {},
     "output_type": "display_data"
    },
    {
     "data": {
      "text/html": [
       "<span style=\"color:cyan\"> |-tuner/trial_id: f313e9227aa36d701d2aae934378968c</span>"
      ],
      "text/plain": [
       "<IPython.core.display.HTML object>"
      ]
     },
     "metadata": {},
     "output_type": "display_data"
    },
    {
     "data": {
      "text/html": [
       "<span style=\"color:blue\"> |-units: 208</span>"
      ],
      "text/plain": [
       "<IPython.core.display.HTML object>"
      ]
     },
     "metadata": {},
     "output_type": "display_data"
    },
    {
     "name": "stdout",
     "output_type": "stream",
     "text": [
      "Train on 12140 samples, validate on 4515 samples\n",
      "Epoch 3/6\n",
      "12140/12140 [==============================] - ETA: 1:55 - loss: 3.4895 - accuracy: 0.53 - ETA: 4s - loss: 0.7840 - accuracy: 0.9213 - ETA: 2s - loss: 0.6718 - accuracy: 0.94 - ETA: 1s - loss: 0.5914 - accuracy: 0.95 - ETA: 1s - loss: 0.5733 - accuracy: 0.95 - ETA: 1s - loss: 0.5883 - accuracy: 0.95 - ETA: 0s - loss: 0.7191 - accuracy: 0.94 - ETA: 0s - loss: 0.6922 - accuracy: 0.94 - ETA: 0s - loss: 0.6453 - accuracy: 0.95 - ETA: 0s - loss: 0.6347 - accuracy: 0.95 - ETA: 0s - loss: 0.6120 - accuracy: 0.95 - ETA: 0s - loss: 0.6080 - accuracy: 0.95 - ETA: 0s - loss: 0.5988 - accuracy: 0.95 - ETA: 0s - loss: 0.5993 - accuracy: 0.95 - ETA: 0s - loss: 0.5816 - accuracy: 0.95 - 1s 111us/sample - loss: 0.5738 - accuracy: 0.9591 - val_loss: 1.1233 - val_accuracy: 0.9243\n",
      "Epoch 4/6\n",
      "12140/12140 [==============================] - ETA: 1s - loss: 0.9586 - accuracy: 0.93 - ETA: 0s - loss: 0.4468 - accuracy: 0.96 - ETA: 0s - loss: 0.6100 - accuracy: 0.95 - ETA: 0s - loss: 0.5500 - accuracy: 0.96 - ETA: 0s - loss: 0.5325 - accuracy: 0.96 - ETA: 0s - loss: 0.5465 - accuracy: 0.96 - ETA: 0s - loss: 0.5809 - accuracy: 0.96 - ETA: 0s - loss: 0.6413 - accuracy: 0.95 - ETA: 0s - loss: 0.7175 - accuracy: 0.95 - ETA: 0s - loss: 0.7552 - accuracy: 0.95 - ETA: 0s - loss: 0.7935 - accuracy: 0.94 - ETA: 0s - loss: 0.7959 - accuracy: 0.94 - ETA: 0s - loss: 0.7938 - accuracy: 0.94 - ETA: 0s - loss: 0.7967 - accuracy: 0.94 - ETA: 0s - loss: 0.8047 - accuracy: 0.94 - 1s 76us/sample - loss: 0.8047 - accuracy: 0.9472 - val_loss: 2.6835 - val_accuracy: 0.8250\n"
     ]
    },
    {
     "data": {
      "text/html": [
       "<span style=\"color:#4527A0\"><h1 style=\"font-size:18px\">Trial complete</h1></span>"
      ],
      "text/plain": [
       "<IPython.core.display.HTML object>"
      ]
     },
     "metadata": {},
     "output_type": "display_data"
    },
    {
     "data": {
      "text/html": [
       "<span style=\"color:#4527A0\"><h1 style=\"font-size:18px\">Trial summary</h1></span>"
      ],
      "text/plain": [
       "<IPython.core.display.HTML object>"
      ]
     },
     "metadata": {},
     "output_type": "display_data"
    },
    {
     "data": {
      "text/html": [
       "<span style=\"color:cyan\"> |-Trial ID: 34f561a4f89ee8dfbd879ff097764870</span>"
      ],
      "text/plain": [
       "<IPython.core.display.HTML object>"
      ]
     },
     "metadata": {},
     "output_type": "display_data"
    },
    {
     "data": {
      "text/html": [
       "<span style=\"color:cyan\"> |-Score: 0.9242525100708008</span>"
      ],
      "text/plain": [
       "<IPython.core.display.HTML object>"
      ]
     },
     "metadata": {},
     "output_type": "display_data"
    },
    {
     "data": {
      "text/html": [
       "<span style=\"color:cyan\"> |-Best step: 0</span>"
      ],
      "text/plain": [
       "<IPython.core.display.HTML object>"
      ]
     },
     "metadata": {},
     "output_type": "display_data"
    },
    {
     "data": {
      "text/html": [
       "<span style=\"color:#7E57C2\"><h2 style=\"font-size:16px\">Hyperparameters:</h2></span>"
      ],
      "text/plain": [
       "<IPython.core.display.HTML object>"
      ]
     },
     "metadata": {},
     "output_type": "display_data"
    },
    {
     "data": {
      "text/html": [
       "<span style=\"color:cyan\"> |-activation_func: relu</span>"
      ],
      "text/plain": [
       "<IPython.core.display.HTML object>"
      ]
     },
     "metadata": {},
     "output_type": "display_data"
    },
    {
     "data": {
      "text/html": [
       "<span style=\"color:blue\"> |-activation_func_2: swish</span>"
      ],
      "text/plain": [
       "<IPython.core.display.HTML object>"
      ]
     },
     "metadata": {},
     "output_type": "display_data"
    },
    {
     "data": {
      "text/html": [
       "<span style=\"color:cyan\"> |-layers: 2</span>"
      ],
      "text/plain": [
       "<IPython.core.display.HTML object>"
      ]
     },
     "metadata": {},
     "output_type": "display_data"
    },
    {
     "data": {
      "text/html": [
       "<span style=\"color:blue\"> |-learning_rate: 0.01</span>"
      ],
      "text/plain": [
       "<IPython.core.display.HTML object>"
      ]
     },
     "metadata": {},
     "output_type": "display_data"
    },
    {
     "data": {
      "text/html": [
       "<span style=\"color:cyan\"> |-tuner/bracket: 3</span>"
      ],
      "text/plain": [
       "<IPython.core.display.HTML object>"
      ]
     },
     "metadata": {},
     "output_type": "display_data"
    },
    {
     "data": {
      "text/html": [
       "<span style=\"color:blue\"> |-tuner/epochs: 6</span>"
      ],
      "text/plain": [
       "<IPython.core.display.HTML object>"
      ]
     },
     "metadata": {},
     "output_type": "display_data"
    },
    {
     "data": {
      "text/html": [
       "<span style=\"color:cyan\"> |-tuner/initial_epoch: 2</span>"
      ],
      "text/plain": [
       "<IPython.core.display.HTML object>"
      ]
     },
     "metadata": {},
     "output_type": "display_data"
    },
    {
     "data": {
      "text/html": [
       "<span style=\"color:blue\"> |-tuner/round: 1</span>"
      ],
      "text/plain": [
       "<IPython.core.display.HTML object>"
      ]
     },
     "metadata": {},
     "output_type": "display_data"
    },
    {
     "data": {
      "text/html": [
       "<span style=\"color:cyan\"> |-tuner/trial_id: d4083b7f3de92d8f4854aaafdfa277c3</span>"
      ],
      "text/plain": [
       "<IPython.core.display.HTML object>"
      ]
     },
     "metadata": {},
     "output_type": "display_data"
    },
    {
     "data": {
      "text/html": [
       "<span style=\"color:blue\"> |-units: 176</span>"
      ],
      "text/plain": [
       "<IPython.core.display.HTML object>"
      ]
     },
     "metadata": {},
     "output_type": "display_data"
    },
    {
     "name": "stdout",
     "output_type": "stream",
     "text": [
      "Train on 12140 samples, validate on 4515 samples\n",
      "Epoch 3/6\n",
      "12140/12140 [==============================] - ETA: 1:51 - loss: 1.5796 - accuracy: 0.40 - ETA: 4s - loss: 0.6339 - accuracy: 0.9144 - ETA: 2s - loss: 0.5604 - accuracy: 0.93 - ETA: 1s - loss: 0.5899 - accuracy: 0.94 - ETA: 1s - loss: 0.5481 - accuracy: 0.94 - ETA: 0s - loss: 0.5150 - accuracy: 0.95 - ETA: 0s - loss: 0.4891 - accuracy: 0.95 - ETA: 0s - loss: 0.4920 - accuracy: 0.95 - ETA: 0s - loss: 0.5393 - accuracy: 0.95 - ETA: 0s - loss: 0.5332 - accuracy: 0.95 - ETA: 0s - loss: 0.5436 - accuracy: 0.95 - ETA: 0s - loss: 0.5252 - accuracy: 0.95 - ETA: 0s - loss: 0.5261 - accuracy: 0.95 - ETA: 0s - loss: 0.5187 - accuracy: 0.95 - 1s 106us/sample - loss: 0.5143 - accuracy: 0.9603 - val_loss: 0.9948 - val_accuracy: 0.9293\n",
      "Epoch 4/6\n",
      "12140/12140 [==============================] - ETA: 1s - loss: 0.4765 - accuracy: 0.96 - ETA: 0s - loss: 0.3609 - accuracy: 0.97 - ETA: 0s - loss: 0.4110 - accuracy: 0.97 - ETA: 0s - loss: 0.4041 - accuracy: 0.97 - ETA: 0s - loss: 0.4267 - accuracy: 0.97 - ETA: 0s - loss: 0.4340 - accuracy: 0.97 - ETA: 0s - loss: 0.4182 - accuracy: 0.97 - ETA: 0s - loss: 0.3896 - accuracy: 0.97 - ETA: 0s - loss: 0.3918 - accuracy: 0.97 - ETA: 0s - loss: 0.3915 - accuracy: 0.97 - ETA: 0s - loss: 0.3935 - accuracy: 0.97 - ETA: 0s - loss: 0.4569 - accuracy: 0.96 - ETA: 0s - loss: 0.4529 - accuracy: 0.97 - ETA: 0s - loss: 0.4388 - accuracy: 0.97 - 1s 76us/sample - loss: 0.4383 - accuracy: 0.9710 - val_loss: 0.8070 - val_accuracy: 0.9464\n",
      "Epoch 5/6\n",
      "12140/12140 [==============================] - ETA: 1s - loss: 0.0000e+00 - accuracy: 1.00 - ETA: 0s - loss: 0.4451 - accuracy: 0.9710   - ETA: 0s - loss: 0.3398 - accuracy: 0.97 - ETA: 0s - loss: 0.3652 - accuracy: 0.97 - ETA: 0s - loss: 0.3756 - accuracy: 0.97 - ETA: 0s - loss: 0.3776 - accuracy: 0.97 - ETA: 0s - loss: 0.3896 - accuracy: 0.97 - ETA: 0s - loss: 0.4056 - accuracy: 0.97 - ETA: 0s - loss: 0.3992 - accuracy: 0.97 - ETA: 0s - loss: 0.3964 - accuracy: 0.97 - ETA: 0s - loss: 0.3885 - accuracy: 0.97 - ETA: 0s - loss: 0.3987 - accuracy: 0.97 - ETA: 0s - loss: 0.3967 - accuracy: 0.97 - ETA: 0s - loss: 0.3963 - accuracy: 0.97 - ETA: 0s - loss: 0.3880 - accuracy: 0.97 - 1s 77us/sample - loss: 0.3860 - accuracy: 0.9746 - val_loss: 0.7914 - val_accuracy: 0.9482\n",
      "Epoch 6/6\n",
      "12140/12140 [==============================] - ETA: 1s - loss: 0.9531 - accuracy: 0.93 - ETA: 0s - loss: 0.4435 - accuracy: 0.97 - ETA: 0s - loss: 0.4263 - accuracy: 0.97 - ETA: 0s - loss: 0.4205 - accuracy: 0.97 - ETA: 0s - loss: 0.4614 - accuracy: 0.96 - ETA: 0s - loss: 0.4796 - accuracy: 0.96 - ETA: 0s - loss: 0.4857 - accuracy: 0.96 - ETA: 0s - loss: 0.4949 - accuracy: 0.96 - ETA: 0s - loss: 0.4911 - accuracy: 0.96 - ETA: 0s - loss: 0.5448 - accuracy: 0.96 - ETA: 0s - loss: 0.5591 - accuracy: 0.96 - ETA: 0s - loss: 0.5613 - accuracy: 0.96 - ETA: 0s - loss: 0.5427 - accuracy: 0.96 - ETA: 0s - loss: 0.5646 - accuracy: 0.96 - 1s 73us/sample - loss: 0.5544 - accuracy: 0.9633 - val_loss: 2.1173 - val_accuracy: 0.8554\n"
     ]
    },
    {
     "data": {
      "text/html": [
       "<span style=\"color:#4527A0\"><h1 style=\"font-size:18px\">Trial complete</h1></span>"
      ],
      "text/plain": [
       "<IPython.core.display.HTML object>"
      ]
     },
     "metadata": {},
     "output_type": "display_data"
    },
    {
     "data": {
      "text/html": [
       "<span style=\"color:#4527A0\"><h1 style=\"font-size:18px\">Trial summary</h1></span>"
      ],
      "text/plain": [
       "<IPython.core.display.HTML object>"
      ]
     },
     "metadata": {},
     "output_type": "display_data"
    },
    {
     "data": {
      "text/html": [
       "<span style=\"color:cyan\"> |-Trial ID: f5adaeb414b552e881babb9d8b075922</span>"
      ],
      "text/plain": [
       "<IPython.core.display.HTML object>"
      ]
     },
     "metadata": {},
     "output_type": "display_data"
    },
    {
     "data": {
      "text/html": [
       "<span style=\"color:cyan\"> |-Score: 0.9481727480888367</span>"
      ],
      "text/plain": [
       "<IPython.core.display.HTML object>"
      ]
     },
     "metadata": {},
     "output_type": "display_data"
    },
    {
     "data": {
      "text/html": [
       "<span style=\"color:cyan\"> |-Best step: 0</span>"
      ],
      "text/plain": [
       "<IPython.core.display.HTML object>"
      ]
     },
     "metadata": {},
     "output_type": "display_data"
    },
    {
     "data": {
      "text/html": [
       "<span style=\"color:#7E57C2\"><h2 style=\"font-size:16px\">Hyperparameters:</h2></span>"
      ],
      "text/plain": [
       "<IPython.core.display.HTML object>"
      ]
     },
     "metadata": {},
     "output_type": "display_data"
    },
    {
     "data": {
      "text/html": [
       "<span style=\"color:cyan\"> |-activation_func: relu</span>"
      ],
      "text/plain": [
       "<IPython.core.display.HTML object>"
      ]
     },
     "metadata": {},
     "output_type": "display_data"
    },
    {
     "data": {
      "text/html": [
       "<span style=\"color:blue\"> |-activation_func_2: relu</span>"
      ],
      "text/plain": [
       "<IPython.core.display.HTML object>"
      ]
     },
     "metadata": {},
     "output_type": "display_data"
    },
    {
     "data": {
      "text/html": [
       "<span style=\"color:cyan\"> |-layers: 2</span>"
      ],
      "text/plain": [
       "<IPython.core.display.HTML object>"
      ]
     },
     "metadata": {},
     "output_type": "display_data"
    },
    {
     "data": {
      "text/html": [
       "<span style=\"color:blue\"> |-learning_rate: 0.01</span>"
      ],
      "text/plain": [
       "<IPython.core.display.HTML object>"
      ]
     },
     "metadata": {},
     "output_type": "display_data"
    },
    {
     "data": {
      "text/html": [
       "<span style=\"color:cyan\"> |-tuner/bracket: 3</span>"
      ],
      "text/plain": [
       "<IPython.core.display.HTML object>"
      ]
     },
     "metadata": {},
     "output_type": "display_data"
    },
    {
     "data": {
      "text/html": [
       "<span style=\"color:blue\"> |-tuner/epochs: 6</span>"
      ],
      "text/plain": [
       "<IPython.core.display.HTML object>"
      ]
     },
     "metadata": {},
     "output_type": "display_data"
    },
    {
     "data": {
      "text/html": [
       "<span style=\"color:cyan\"> |-tuner/initial_epoch: 2</span>"
      ],
      "text/plain": [
       "<IPython.core.display.HTML object>"
      ]
     },
     "metadata": {},
     "output_type": "display_data"
    },
    {
     "data": {
      "text/html": [
       "<span style=\"color:blue\"> |-tuner/round: 1</span>"
      ],
      "text/plain": [
       "<IPython.core.display.HTML object>"
      ]
     },
     "metadata": {},
     "output_type": "display_data"
    },
    {
     "data": {
      "text/html": [
       "<span style=\"color:cyan\"> |-tuner/trial_id: af861db8a762ef1625311f5055b006f0</span>"
      ],
      "text/plain": [
       "<IPython.core.display.HTML object>"
      ]
     },
     "metadata": {},
     "output_type": "display_data"
    },
    {
     "data": {
      "text/html": [
       "<span style=\"color:blue\"> |-units: 64</span>"
      ],
      "text/plain": [
       "<IPython.core.display.HTML object>"
      ]
     },
     "metadata": {},
     "output_type": "display_data"
    },
    {
     "name": "stdout",
     "output_type": "stream",
     "text": [
      "Train on 12140 samples, validate on 4515 samples\n",
      "Epoch 3/6\n",
      "12140/12140 [==============================] - ETA: 2:09 - loss: 4.4853 - accuracy: 0.43 - ETA: 5s - loss: 1.8808 - accuracy: 0.6862 - ETA: 3s - loss: 1.4772 - accuracy: 0.75 - ETA: 2s - loss: 1.3155 - accuracy: 0.79 - ETA: 1s - loss: 1.2124 - accuracy: 0.81 - ETA: 1s - loss: 1.0882 - accuracy: 0.82 - ETA: 1s - loss: 1.1332 - accuracy: 0.82 - ETA: 0s - loss: 1.0934 - accuracy: 0.82 - ETA: 0s - loss: 1.0329 - accuracy: 0.83 - ETA: 0s - loss: 0.9884 - accuracy: 0.83 - ETA: 0s - loss: 0.9586 - accuracy: 0.84 - ETA: 0s - loss: 0.9143 - accuracy: 0.84 - ETA: 0s - loss: 0.8717 - accuracy: 0.85 - ETA: 0s - loss: 0.8326 - accuracy: 0.86 - ETA: 0s - loss: 0.7980 - accuracy: 0.86 - ETA: 0s - loss: 0.7766 - accuracy: 0.87 - 1s 120us/sample - loss: 0.7579 - accuracy: 0.8756 - val_loss: 2.4309 - val_accuracy: 0.7165\n",
      "Epoch 4/6\n",
      "12140/12140 [==============================] - ETA: 1s - loss: 0.2348 - accuracy: 0.87 - ETA: 0s - loss: 0.3232 - accuracy: 0.94 - ETA: 0s - loss: 0.3164 - accuracy: 0.95 - ETA: 0s - loss: 0.3286 - accuracy: 0.95 - ETA: 0s - loss: 0.3365 - accuracy: 0.95 - ETA: 0s - loss: 0.3535 - accuracy: 0.95 - ETA: 0s - loss: 0.3749 - accuracy: 0.95 - ETA: 0s - loss: 0.3614 - accuracy: 0.95 - ETA: 0s - loss: 0.3470 - accuracy: 0.95 - ETA: 0s - loss: 0.3372 - accuracy: 0.95 - ETA: 0s - loss: 0.3288 - accuracy: 0.95 - ETA: 0s - loss: 0.3189 - accuracy: 0.95 - ETA: 0s - loss: 0.3121 - accuracy: 0.95 - ETA: 0s - loss: 0.3119 - accuracy: 0.95 - ETA: 0s - loss: 0.3037 - accuracy: 0.95 - ETA: 0s - loss: 0.2960 - accuracy: 0.95 - 1s 87us/sample - loss: 0.2926 - accuracy: 0.9570 - val_loss: 0.8331 - val_accuracy: 0.8239\n",
      "Epoch 5/6\n",
      "12140/12140 [==============================] - ETA: 1s - loss: 0.0446 - accuracy: 1.00 - ETA: 0s - loss: 0.2133 - accuracy: 0.96 - ETA: 0s - loss: 0.1833 - accuracy: 0.96 - ETA: 0s - loss: 0.1763 - accuracy: 0.96 - ETA: 0s - loss: 0.1693 - accuracy: 0.96 - ETA: 0s - loss: 0.1867 - accuracy: 0.96 - ETA: 0s - loss: 0.1969 - accuracy: 0.96 - ETA: 0s - loss: 0.1945 - accuracy: 0.96 - ETA: 0s - loss: 0.1957 - accuracy: 0.96 - ETA: 0s - loss: 0.2025 - accuracy: 0.96 - ETA: 0s - loss: 0.1975 - accuracy: 0.96 - ETA: 0s - loss: 0.1963 - accuracy: 0.96 - ETA: 0s - loss: 0.1936 - accuracy: 0.96 - ETA: 0s - loss: 0.1863 - accuracy: 0.96 - ETA: 0s - loss: 0.1891 - accuracy: 0.96 - ETA: 0s - loss: 0.1874 - accuracy: 0.96 - 1s 88us/sample - loss: 0.1838 - accuracy: 0.9694 - val_loss: 0.3841 - val_accuracy: 0.9081\n",
      "Epoch 6/6\n",
      "12140/12140 [==============================] - ETA: 1s - loss: 0.0537 - accuracy: 1.00 - ETA: 0s - loss: 0.2327 - accuracy: 0.97 - ETA: 0s - loss: 0.2220 - accuracy: 0.96 - ETA: 0s - loss: 0.1964 - accuracy: 0.97 - ETA: 0s - loss: 0.1799 - accuracy: 0.97 - ETA: 0s - loss: 0.1689 - accuracy: 0.97 - ETA: 0s - loss: 0.1641 - accuracy: 0.97 - ETA: 0s - loss: 0.1627 - accuracy: 0.97 - ETA: 0s - loss: 0.1551 - accuracy: 0.97 - ETA: 0s - loss: 0.1482 - accuracy: 0.97 - ETA: 0s - loss: 0.1469 - accuracy: 0.97 - ETA: 0s - loss: 0.1509 - accuracy: 0.97 - ETA: 0s - loss: 0.1550 - accuracy: 0.97 - ETA: 0s - loss: 0.1521 - accuracy: 0.97 - ETA: 0s - loss: 0.1555 - accuracy: 0.97 - ETA: 0s - loss: 0.1549 - accuracy: 0.97 - 1s 85us/sample - loss: 0.1528 - accuracy: 0.9745 - val_loss: 0.3796 - val_accuracy: 0.9150\n"
     ]
    },
    {
     "data": {
      "text/html": [
       "<span style=\"color:#4527A0\"><h1 style=\"font-size:18px\">Trial complete</h1></span>"
      ],
      "text/plain": [
       "<IPython.core.display.HTML object>"
      ]
     },
     "metadata": {},
     "output_type": "display_data"
    },
    {
     "data": {
      "text/html": [
       "<span style=\"color:#4527A0\"><h1 style=\"font-size:18px\">Trial summary</h1></span>"
      ],
      "text/plain": [
       "<IPython.core.display.HTML object>"
      ]
     },
     "metadata": {},
     "output_type": "display_data"
    },
    {
     "data": {
      "text/html": [
       "<span style=\"color:cyan\"> |-Trial ID: 17f87c0d9501e602ff1e1d9e764bc47e</span>"
      ],
      "text/plain": [
       "<IPython.core.display.HTML object>"
      ]
     },
     "metadata": {},
     "output_type": "display_data"
    },
    {
     "data": {
      "text/html": [
       "<span style=\"color:cyan\"> |-Score: 0.9149501919746399</span>"
      ],
      "text/plain": [
       "<IPython.core.display.HTML object>"
      ]
     },
     "metadata": {},
     "output_type": "display_data"
    },
    {
     "data": {
      "text/html": [
       "<span style=\"color:cyan\"> |-Best step: 0</span>"
      ],
      "text/plain": [
       "<IPython.core.display.HTML object>"
      ]
     },
     "metadata": {},
     "output_type": "display_data"
    },
    {
     "data": {
      "text/html": [
       "<span style=\"color:#7E57C2\"><h2 style=\"font-size:16px\">Hyperparameters:</h2></span>"
      ],
      "text/plain": [
       "<IPython.core.display.HTML object>"
      ]
     },
     "metadata": {},
     "output_type": "display_data"
    },
    {
     "data": {
      "text/html": [
       "<span style=\"color:cyan\"> |-activation_func: tanh</span>"
      ],
      "text/plain": [
       "<IPython.core.display.HTML object>"
      ]
     },
     "metadata": {},
     "output_type": "display_data"
    },
    {
     "data": {
      "text/html": [
       "<span style=\"color:blue\"> |-activation_func_2: tanh</span>"
      ],
      "text/plain": [
       "<IPython.core.display.HTML object>"
      ]
     },
     "metadata": {},
     "output_type": "display_data"
    },
    {
     "data": {
      "text/html": [
       "<span style=\"color:cyan\"> |-layers: 4</span>"
      ],
      "text/plain": [
       "<IPython.core.display.HTML object>"
      ]
     },
     "metadata": {},
     "output_type": "display_data"
    },
    {
     "data": {
      "text/html": [
       "<span style=\"color:blue\"> |-learning_rate: 0.0001</span>"
      ],
      "text/plain": [
       "<IPython.core.display.HTML object>"
      ]
     },
     "metadata": {},
     "output_type": "display_data"
    },
    {
     "data": {
      "text/html": [
       "<span style=\"color:cyan\"> |-tuner/bracket: 3</span>"
      ],
      "text/plain": [
       "<IPython.core.display.HTML object>"
      ]
     },
     "metadata": {},
     "output_type": "display_data"
    },
    {
     "data": {
      "text/html": [
       "<span style=\"color:blue\"> |-tuner/epochs: 6</span>"
      ],
      "text/plain": [
       "<IPython.core.display.HTML object>"
      ]
     },
     "metadata": {},
     "output_type": "display_data"
    },
    {
     "data": {
      "text/html": [
       "<span style=\"color:cyan\"> |-tuner/initial_epoch: 2</span>"
      ],
      "text/plain": [
       "<IPython.core.display.HTML object>"
      ]
     },
     "metadata": {},
     "output_type": "display_data"
    },
    {
     "data": {
      "text/html": [
       "<span style=\"color:blue\"> |-tuner/round: 1</span>"
      ],
      "text/plain": [
       "<IPython.core.display.HTML object>"
      ]
     },
     "metadata": {},
     "output_type": "display_data"
    },
    {
     "data": {
      "text/html": [
       "<span style=\"color:cyan\"> |-tuner/trial_id: 029d6936d67956adcfaa1e2f3ee29a74</span>"
      ],
      "text/plain": [
       "<IPython.core.display.HTML object>"
      ]
     },
     "metadata": {},
     "output_type": "display_data"
    },
    {
     "data": {
      "text/html": [
       "<span style=\"color:blue\"> |-units: 144</span>"
      ],
      "text/plain": [
       "<IPython.core.display.HTML object>"
      ]
     },
     "metadata": {},
     "output_type": "display_data"
    },
    {
     "name": "stdout",
     "output_type": "stream",
     "text": [
      "Train on 12140 samples, validate on 4515 samples\n",
      "Epoch 3/6\n",
      "12140/12140 [==============================] - ETA: 2:08 - loss: 6.2798 - accuracy: 0.46 - ETA: 7s - loss: 1.4043 - accuracy: 0.4359 - ETA: 3s - loss: 1.0039 - accuracy: 0.51 - ETA: 2s - loss: 0.8154 - accuracy: 0.60 - ETA: 1s - loss: 0.6994 - accuracy: 0.66 - ETA: 1s - loss: 0.6100 - accuracy: 0.72 - ETA: 1s - loss: 0.5472 - accuracy: 0.75 - ETA: 0s - loss: 0.4975 - accuracy: 0.78 - ETA: 0s - loss: 0.4557 - accuracy: 0.80 - ETA: 0s - loss: 0.4186 - accuracy: 0.82 - ETA: 0s - loss: 0.3912 - accuracy: 0.83 - ETA: 0s - loss: 0.3673 - accuracy: 0.84 - ETA: 0s - loss: 0.3438 - accuracy: 0.86 - ETA: 0s - loss: 0.3245 - accuracy: 0.86 - ETA: 0s - loss: 0.3067 - accuracy: 0.87 - ETA: 0s - loss: 0.2928 - accuracy: 0.88 - 1s 120us/sample - loss: 0.2810 - accuracy: 0.8897 - val_loss: 0.2635 - val_accuracy: 0.9360\n",
      "Epoch 4/6\n",
      "12140/12140 [==============================] - ETA: 1s - loss: 0.0523 - accuracy: 0.96 - ETA: 0s - loss: 0.0768 - accuracy: 0.97 - ETA: 0s - loss: 0.0695 - accuracy: 0.97 - ETA: 0s - loss: 0.0859 - accuracy: 0.97 - ETA: 0s - loss: 0.0811 - accuracy: 0.97 - ETA: 0s - loss: 0.0812 - accuracy: 0.97 - ETA: 0s - loss: 0.0771 - accuracy: 0.97 - ETA: 0s - loss: 0.0781 - accuracy: 0.97 - ETA: 0s - loss: 0.0839 - accuracy: 0.97 - ETA: 0s - loss: 0.0850 - accuracy: 0.97 - ETA: 0s - loss: 0.0858 - accuracy: 0.97 - ETA: 0s - loss: 0.0847 - accuracy: 0.97 - ETA: 0s - loss: 0.0858 - accuracy: 0.97 - ETA: 0s - loss: 0.0859 - accuracy: 0.97 - ETA: 0s - loss: 0.0902 - accuracy: 0.97 - ETA: 0s - loss: 0.0917 - accuracy: 0.97 - 1s 82us/sample - loss: 0.0913 - accuracy: 0.9771 - val_loss: 0.2859 - val_accuracy: 0.9234\n"
     ]
    },
    {
     "data": {
      "text/html": [
       "<span style=\"color:#4527A0\"><h1 style=\"font-size:18px\">Trial complete</h1></span>"
      ],
      "text/plain": [
       "<IPython.core.display.HTML object>"
      ]
     },
     "metadata": {},
     "output_type": "display_data"
    },
    {
     "data": {
      "text/html": [
       "<span style=\"color:#4527A0\"><h1 style=\"font-size:18px\">Trial summary</h1></span>"
      ],
      "text/plain": [
       "<IPython.core.display.HTML object>"
      ]
     },
     "metadata": {},
     "output_type": "display_data"
    },
    {
     "data": {
      "text/html": [
       "<span style=\"color:cyan\"> |-Trial ID: dc00af6fa89ea201bb2a6a7ca86b100d</span>"
      ],
      "text/plain": [
       "<IPython.core.display.HTML object>"
      ]
     },
     "metadata": {},
     "output_type": "display_data"
    },
    {
     "data": {
      "text/html": [
       "<span style=\"color:cyan\"> |-Score: 0.9359911680221558</span>"
      ],
      "text/plain": [
       "<IPython.core.display.HTML object>"
      ]
     },
     "metadata": {},
     "output_type": "display_data"
    },
    {
     "data": {
      "text/html": [
       "<span style=\"color:cyan\"> |-Best step: 0</span>"
      ],
      "text/plain": [
       "<IPython.core.display.HTML object>"
      ]
     },
     "metadata": {},
     "output_type": "display_data"
    },
    {
     "data": {
      "text/html": [
       "<span style=\"color:#7E57C2\"><h2 style=\"font-size:16px\">Hyperparameters:</h2></span>"
      ],
      "text/plain": [
       "<IPython.core.display.HTML object>"
      ]
     },
     "metadata": {},
     "output_type": "display_data"
    },
    {
     "data": {
      "text/html": [
       "<span style=\"color:cyan\"> |-activation_func: relu</span>"
      ],
      "text/plain": [
       "<IPython.core.display.HTML object>"
      ]
     },
     "metadata": {},
     "output_type": "display_data"
    },
    {
     "data": {
      "text/html": [
       "<span style=\"color:blue\"> |-activation_func_2: tanh</span>"
      ],
      "text/plain": [
       "<IPython.core.display.HTML object>"
      ]
     },
     "metadata": {},
     "output_type": "display_data"
    },
    {
     "data": {
      "text/html": [
       "<span style=\"color:cyan\"> |-layers: 4</span>"
      ],
      "text/plain": [
       "<IPython.core.display.HTML object>"
      ]
     },
     "metadata": {},
     "output_type": "display_data"
    },
    {
     "data": {
      "text/html": [
       "<span style=\"color:blue\"> |-learning_rate: 0.0001</span>"
      ],
      "text/plain": [
       "<IPython.core.display.HTML object>"
      ]
     },
     "metadata": {},
     "output_type": "display_data"
    },
    {
     "data": {
      "text/html": [
       "<span style=\"color:cyan\"> |-tuner/bracket: 3</span>"
      ],
      "text/plain": [
       "<IPython.core.display.HTML object>"
      ]
     },
     "metadata": {},
     "output_type": "display_data"
    },
    {
     "data": {
      "text/html": [
       "<span style=\"color:blue\"> |-tuner/epochs: 6</span>"
      ],
      "text/plain": [
       "<IPython.core.display.HTML object>"
      ]
     },
     "metadata": {},
     "output_type": "display_data"
    },
    {
     "data": {
      "text/html": [
       "<span style=\"color:cyan\"> |-tuner/initial_epoch: 2</span>"
      ],
      "text/plain": [
       "<IPython.core.display.HTML object>"
      ]
     },
     "metadata": {},
     "output_type": "display_data"
    },
    {
     "data": {
      "text/html": [
       "<span style=\"color:blue\"> |-tuner/round: 1</span>"
      ],
      "text/plain": [
       "<IPython.core.display.HTML object>"
      ]
     },
     "metadata": {},
     "output_type": "display_data"
    },
    {
     "data": {
      "text/html": [
       "<span style=\"color:cyan\"> |-tuner/trial_id: 2b92a6f9de023c82e16e2340af1cc834</span>"
      ],
      "text/plain": [
       "<IPython.core.display.HTML object>"
      ]
     },
     "metadata": {},
     "output_type": "display_data"
    },
    {
     "data": {
      "text/html": [
       "<span style=\"color:blue\"> |-units: 240</span>"
      ],
      "text/plain": [
       "<IPython.core.display.HTML object>"
      ]
     },
     "metadata": {},
     "output_type": "display_data"
    },
    {
     "name": "stdout",
     "output_type": "stream",
     "text": [
      "Train on 12140 samples, validate on 4515 samples\n",
      "Epoch 3/6\n",
      "12140/12140 [==============================] - ETA: 2:42 - loss: 6.4544 - accuracy: 0.43 - ETA: 8s - loss: 1.3964 - accuracy: 0.5580 - ETA: 4s - loss: 0.8263 - accuracy: 0.75 - ETA: 2s - loss: 0.6703 - accuracy: 0.82 - ETA: 2s - loss: 0.5705 - accuracy: 0.85 - ETA: 1s - loss: 0.5113 - accuracy: 0.87 - ETA: 1s - loss: 0.4442 - accuracy: 0.89 - ETA: 1s - loss: 0.4210 - accuracy: 0.90 - ETA: 1s - loss: 0.4065 - accuracy: 0.91 - ETA: 0s - loss: 0.3879 - accuracy: 0.92 - ETA: 0s - loss: 0.3714 - accuracy: 0.92 - ETA: 0s - loss: 0.3560 - accuracy: 0.93 - ETA: 0s - loss: 0.3456 - accuracy: 0.93 - ETA: 0s - loss: 0.3364 - accuracy: 0.93 - ETA: 0s - loss: 0.3244 - accuracy: 0.93 - ETA: 0s - loss: 0.3236 - accuracy: 0.93 - ETA: 0s - loss: 0.3634 - accuracy: 0.91 - ETA: 0s - loss: 0.3582 - accuracy: 0.91 - 2s 135us/sample - loss: 0.3578 - accuracy: 0.9190 - val_loss: 0.4020 - val_accuracy: 0.9101\n",
      "Epoch 4/6\n",
      "12140/12140 [==============================] - ETA: 1s - loss: 0.9674 - accuracy: 0.93 - ETA: 0s - loss: 0.2657 - accuracy: 0.96 - ETA: 0s - loss: 0.2757 - accuracy: 0.96 - ETA: 0s - loss: 0.2451 - accuracy: 0.96 - ETA: 0s - loss: 0.2512 - accuracy: 0.96 - ETA: 0s - loss: 0.2315 - accuracy: 0.96 - ETA: 0s - loss: 0.2192 - accuracy: 0.96 - ETA: 0s - loss: 0.2087 - accuracy: 0.96 - ETA: 0s - loss: 0.2081 - accuracy: 0.97 - ETA: 0s - loss: 0.2152 - accuracy: 0.96 - ETA: 0s - loss: 0.2185 - accuracy: 0.96 - ETA: 0s - loss: 0.2127 - accuracy: 0.96 - ETA: 0s - loss: 0.2163 - accuracy: 0.96 - ETA: 0s - loss: 0.2145 - accuracy: 0.96 - ETA: 0s - loss: 0.2148 - accuracy: 0.96 - ETA: 0s - loss: 0.2133 - accuracy: 0.96 - ETA: 0s - loss: 0.2144 - accuracy: 0.96 - ETA: 0s - loss: 0.2195 - accuracy: 0.96 - 1s 92us/sample - loss: 0.2182 - accuracy: 0.9698 - val_loss: 0.3869 - val_accuracy: 0.8944\n",
      "Epoch 5/6\n",
      "12140/12140 [==============================] - ETA: 1s - loss: 0.0164 - accuracy: 1.00 - ETA: 0s - loss: 0.1953 - accuracy: 0.97 - ETA: 0s - loss: 0.2208 - accuracy: 0.97 - ETA: 0s - loss: 0.2237 - accuracy: 0.97 - ETA: 0s - loss: 0.2010 - accuracy: 0.97 - ETA: 0s - loss: 0.2001 - accuracy: 0.97 - ETA: 0s - loss: 0.2005 - accuracy: 0.97 - ETA: 0s - loss: 0.1948 - accuracy: 0.97 - ETA: 0s - loss: 0.2014 - accuracy: 0.97 - ETA: 0s - loss: 0.2016 - accuracy: 0.97 - ETA: 0s - loss: 0.2097 - accuracy: 0.97 - ETA: 0s - loss: 0.2184 - accuracy: 0.97 - ETA: 0s - loss: 0.2145 - accuracy: 0.97 - ETA: 0s - loss: 0.2076 - accuracy: 0.97 - ETA: 0s - loss: 0.2075 - accuracy: 0.97 - ETA: 0s - loss: 0.2119 - accuracy: 0.97 - ETA: 0s - loss: 0.2102 - accuracy: 0.97 - 1s 91us/sample - loss: 0.2106 - accuracy: 0.9721 - val_loss: 0.4989 - val_accuracy: 0.9375\n"
     ]
    },
    {
     "data": {
      "text/html": [
       "<span style=\"color:#4527A0\"><h1 style=\"font-size:18px\">Trial complete</h1></span>"
      ],
      "text/plain": [
       "<IPython.core.display.HTML object>"
      ]
     },
     "metadata": {},
     "output_type": "display_data"
    },
    {
     "data": {
      "text/html": [
       "<span style=\"color:#4527A0\"><h1 style=\"font-size:18px\">Trial summary</h1></span>"
      ],
      "text/plain": [
       "<IPython.core.display.HTML object>"
      ]
     },
     "metadata": {},
     "output_type": "display_data"
    },
    {
     "data": {
      "text/html": [
       "<span style=\"color:cyan\"> |-Trial ID: dc7aa7d6155334a2a4bc4b5c428a7de1</span>"
      ],
      "text/plain": [
       "<IPython.core.display.HTML object>"
      ]
     },
     "metadata": {},
     "output_type": "display_data"
    },
    {
     "data": {
      "text/html": [
       "<span style=\"color:cyan\"> |-Score: 0.9375415444374084</span>"
      ],
      "text/plain": [
       "<IPython.core.display.HTML object>"
      ]
     },
     "metadata": {},
     "output_type": "display_data"
    },
    {
     "data": {
      "text/html": [
       "<span style=\"color:cyan\"> |-Best step: 0</span>"
      ],
      "text/plain": [
       "<IPython.core.display.HTML object>"
      ]
     },
     "metadata": {},
     "output_type": "display_data"
    },
    {
     "data": {
      "text/html": [
       "<span style=\"color:#7E57C2\"><h2 style=\"font-size:16px\">Hyperparameters:</h2></span>"
      ],
      "text/plain": [
       "<IPython.core.display.HTML object>"
      ]
     },
     "metadata": {},
     "output_type": "display_data"
    },
    {
     "data": {
      "text/html": [
       "<span style=\"color:cyan\"> |-activation_func: swish</span>"
      ],
      "text/plain": [
       "<IPython.core.display.HTML object>"
      ]
     },
     "metadata": {},
     "output_type": "display_data"
    },
    {
     "data": {
      "text/html": [
       "<span style=\"color:blue\"> |-activation_func_2: swish</span>"
      ],
      "text/plain": [
       "<IPython.core.display.HTML object>"
      ]
     },
     "metadata": {},
     "output_type": "display_data"
    },
    {
     "data": {
      "text/html": [
       "<span style=\"color:cyan\"> |-layers: 5</span>"
      ],
      "text/plain": [
       "<IPython.core.display.HTML object>"
      ]
     },
     "metadata": {},
     "output_type": "display_data"
    },
    {
     "data": {
      "text/html": [
       "<span style=\"color:blue\"> |-learning_rate: 0.001</span>"
      ],
      "text/plain": [
       "<IPython.core.display.HTML object>"
      ]
     },
     "metadata": {},
     "output_type": "display_data"
    },
    {
     "data": {
      "text/html": [
       "<span style=\"color:cyan\"> |-tuner/bracket: 3</span>"
      ],
      "text/plain": [
       "<IPython.core.display.HTML object>"
      ]
     },
     "metadata": {},
     "output_type": "display_data"
    },
    {
     "data": {
      "text/html": [
       "<span style=\"color:blue\"> |-tuner/epochs: 6</span>"
      ],
      "text/plain": [
       "<IPython.core.display.HTML object>"
      ]
     },
     "metadata": {},
     "output_type": "display_data"
    },
    {
     "data": {
      "text/html": [
       "<span style=\"color:cyan\"> |-tuner/initial_epoch: 2</span>"
      ],
      "text/plain": [
       "<IPython.core.display.HTML object>"
      ]
     },
     "metadata": {},
     "output_type": "display_data"
    },
    {
     "data": {
      "text/html": [
       "<span style=\"color:blue\"> |-tuner/round: 1</span>"
      ],
      "text/plain": [
       "<IPython.core.display.HTML object>"
      ]
     },
     "metadata": {},
     "output_type": "display_data"
    },
    {
     "data": {
      "text/html": [
       "<span style=\"color:cyan\"> |-tuner/trial_id: 28985216f270769282a5a3b39374ad21</span>"
      ],
      "text/plain": [
       "<IPython.core.display.HTML object>"
      ]
     },
     "metadata": {},
     "output_type": "display_data"
    },
    {
     "data": {
      "text/html": [
       "<span style=\"color:blue\"> |-units: 160</span>"
      ],
      "text/plain": [
       "<IPython.core.display.HTML object>"
      ]
     },
     "metadata": {},
     "output_type": "display_data"
    },
    {
     "name": "stdout",
     "output_type": "stream",
     "text": [
      "Train on 12140 samples, validate on 4515 samples\n",
      "Epoch 3/6\n",
      "12140/12140 [==============================] - ETA: 2:06 - loss: 3.6754 - accuracy: 0.46 - ETA: 5s - loss: 0.7047 - accuracy: 0.8633 - ETA: 3s - loss: 0.4521 - accuracy: 0.90 - ETA: 2s - loss: 0.3846 - accuracy: 0.92 - ETA: 1s - loss: 0.3632 - accuracy: 0.93 - ETA: 1s - loss: 0.3379 - accuracy: 0.94 - ETA: 0s - loss: 0.3185 - accuracy: 0.94 - ETA: 0s - loss: 0.2991 - accuracy: 0.95 - ETA: 0s - loss: 0.2780 - accuracy: 0.95 - ETA: 0s - loss: 0.2660 - accuracy: 0.95 - ETA: 0s - loss: 0.2613 - accuracy: 0.95 - ETA: 0s - loss: 0.2543 - accuracy: 0.96 - ETA: 0s - loss: 0.2610 - accuracy: 0.95 - ETA: 0s - loss: 0.2579 - accuracy: 0.96 - ETA: 0s - loss: 0.2590 - accuracy: 0.96 - ETA: 0s - loss: 0.2560 - accuracy: 0.96 - 1s 116us/sample - loss: 0.2571 - accuracy: 0.9614 - val_loss: 0.6242 - val_accuracy: 0.9404\n",
      "Epoch 4/6\n",
      "12140/12140 [==============================] - ETA: 1s - loss: 0.7940 - accuracy: 0.93 - ETA: 0s - loss: 0.3090 - accuracy: 0.95 - ETA: 0s - loss: 0.2662 - accuracy: 0.96 - ETA: 0s - loss: 0.2240 - accuracy: 0.96 - ETA: 0s - loss: 0.1923 - accuracy: 0.96 - ETA: 0s - loss: 0.2012 - accuracy: 0.96 - ETA: 0s - loss: 0.1905 - accuracy: 0.97 - ETA: 0s - loss: 0.1854 - accuracy: 0.97 - ETA: 0s - loss: 0.1800 - accuracy: 0.97 - ETA: 0s - loss: 0.1880 - accuracy: 0.97 - ETA: 0s - loss: 0.1869 - accuracy: 0.97 - ETA: 0s - loss: 0.1853 - accuracy: 0.97 - ETA: 0s - loss: 0.1970 - accuracy: 0.97 - ETA: 0s - loss: 0.1995 - accuracy: 0.97 - ETA: 0s - loss: 0.2065 - accuracy: 0.97 - ETA: 0s - loss: 0.2115 - accuracy: 0.97 - 1s 81us/sample - loss: 0.2146 - accuracy: 0.9724 - val_loss: 0.4754 - val_accuracy: 0.9265\n",
      "Epoch 5/6\n",
      "12140/12140 [==============================] - ETA: 1s - loss: 0.0076 - accuracy: 1.00 - ETA: 0s - loss: 0.1984 - accuracy: 0.97 - ETA: 0s - loss: 0.2313 - accuracy: 0.97 - ETA: 0s - loss: 0.2153 - accuracy: 0.97 - ETA: 0s - loss: 0.2009 - accuracy: 0.97 - ETA: 0s - loss: 0.1769 - accuracy: 0.97 - ETA: 0s - loss: 0.1803 - accuracy: 0.97 - ETA: 0s - loss: 0.1867 - accuracy: 0.97 - ETA: 0s - loss: 0.1873 - accuracy: 0.97 - ETA: 0s - loss: 0.1869 - accuracy: 0.97 - ETA: 0s - loss: 0.1873 - accuracy: 0.97 - ETA: 0s - loss: 0.1802 - accuracy: 0.97 - ETA: 0s - loss: 0.1811 - accuracy: 0.97 - ETA: 0s - loss: 0.1853 - accuracy: 0.97 - ETA: 0s - loss: 0.1918 - accuracy: 0.97 - ETA: 0s - loss: 0.1993 - accuracy: 0.97 - 1s 81us/sample - loss: 0.1999 - accuracy: 0.9745 - val_loss: 0.3074 - val_accuracy: 0.9382\n",
      "Epoch 6/6\n",
      "12140/12140 [==============================] - ETA: 1s - loss: 0.0306 - accuracy: 1.00 - ETA: 0s - loss: 0.2198 - accuracy: 0.97 - ETA: 0s - loss: 0.1924 - accuracy: 0.97 - ETA: 0s - loss: 0.1687 - accuracy: 0.97 - ETA: 0s - loss: 0.1757 - accuracy: 0.97 - ETA: 0s - loss: 0.1674 - accuracy: 0.97 - ETA: 0s - loss: 0.1561 - accuracy: 0.97 - ETA: 0s - loss: 0.1561 - accuracy: 0.97 - ETA: 0s - loss: 0.1661 - accuracy: 0.97 - ETA: 0s - loss: 0.1661 - accuracy: 0.97 - ETA: 0s - loss: 0.1703 - accuracy: 0.97 - ETA: 0s - loss: 0.1738 - accuracy: 0.97 - ETA: 0s - loss: 0.1717 - accuracy: 0.97 - ETA: 0s - loss: 0.1750 - accuracy: 0.97 - ETA: 0s - loss: 0.1740 - accuracy: 0.97 - ETA: 0s - loss: 0.1731 - accuracy: 0.97 - 1s 83us/sample - loss: 0.1748 - accuracy: 0.9756 - val_loss: 0.3510 - val_accuracy: 0.9409\n"
     ]
    },
    {
     "data": {
      "text/html": [
       "<span style=\"color:#4527A0\"><h1 style=\"font-size:18px\">Trial complete</h1></span>"
      ],
      "text/plain": [
       "<IPython.core.display.HTML object>"
      ]
     },
     "metadata": {},
     "output_type": "display_data"
    },
    {
     "data": {
      "text/html": [
       "<span style=\"color:#4527A0\"><h1 style=\"font-size:18px\">Trial summary</h1></span>"
      ],
      "text/plain": [
       "<IPython.core.display.HTML object>"
      ]
     },
     "metadata": {},
     "output_type": "display_data"
    },
    {
     "data": {
      "text/html": [
       "<span style=\"color:cyan\"> |-Trial ID: 5040e872ee2d05e37133ab2241934c17</span>"
      ],
      "text/plain": [
       "<IPython.core.display.HTML object>"
      ]
     },
     "metadata": {},
     "output_type": "display_data"
    },
    {
     "data": {
      "text/html": [
       "<span style=\"color:cyan\"> |-Score: 0.9408637881278992</span>"
      ],
      "text/plain": [
       "<IPython.core.display.HTML object>"
      ]
     },
     "metadata": {},
     "output_type": "display_data"
    },
    {
     "data": {
      "text/html": [
       "<span style=\"color:cyan\"> |-Best step: 0</span>"
      ],
      "text/plain": [
       "<IPython.core.display.HTML object>"
      ]
     },
     "metadata": {},
     "output_type": "display_data"
    },
    {
     "data": {
      "text/html": [
       "<span style=\"color:#7E57C2\"><h2 style=\"font-size:16px\">Hyperparameters:</h2></span>"
      ],
      "text/plain": [
       "<IPython.core.display.HTML object>"
      ]
     },
     "metadata": {},
     "output_type": "display_data"
    },
    {
     "data": {
      "text/html": [
       "<span style=\"color:cyan\"> |-activation_func: relu</span>"
      ],
      "text/plain": [
       "<IPython.core.display.HTML object>"
      ]
     },
     "metadata": {},
     "output_type": "display_data"
    },
    {
     "data": {
      "text/html": [
       "<span style=\"color:blue\"> |-activation_func_2: tanh</span>"
      ],
      "text/plain": [
       "<IPython.core.display.HTML object>"
      ]
     },
     "metadata": {},
     "output_type": "display_data"
    },
    {
     "data": {
      "text/html": [
       "<span style=\"color:cyan\"> |-layers: 4</span>"
      ],
      "text/plain": [
       "<IPython.core.display.HTML object>"
      ]
     },
     "metadata": {},
     "output_type": "display_data"
    },
    {
     "data": {
      "text/html": [
       "<span style=\"color:blue\"> |-learning_rate: 0.01</span>"
      ],
      "text/plain": [
       "<IPython.core.display.HTML object>"
      ]
     },
     "metadata": {},
     "output_type": "display_data"
    },
    {
     "data": {
      "text/html": [
       "<span style=\"color:cyan\"> |-tuner/bracket: 3</span>"
      ],
      "text/plain": [
       "<IPython.core.display.HTML object>"
      ]
     },
     "metadata": {},
     "output_type": "display_data"
    },
    {
     "data": {
      "text/html": [
       "<span style=\"color:blue\"> |-tuner/epochs: 6</span>"
      ],
      "text/plain": [
       "<IPython.core.display.HTML object>"
      ]
     },
     "metadata": {},
     "output_type": "display_data"
    },
    {
     "data": {
      "text/html": [
       "<span style=\"color:cyan\"> |-tuner/initial_epoch: 2</span>"
      ],
      "text/plain": [
       "<IPython.core.display.HTML object>"
      ]
     },
     "metadata": {},
     "output_type": "display_data"
    },
    {
     "data": {
      "text/html": [
       "<span style=\"color:blue\"> |-tuner/round: 1</span>"
      ],
      "text/plain": [
       "<IPython.core.display.HTML object>"
      ]
     },
     "metadata": {},
     "output_type": "display_data"
    },
    {
     "data": {
      "text/html": [
       "<span style=\"color:cyan\"> |-tuner/trial_id: 111c42442e4af9c0faa04849ae4a3cfd</span>"
      ],
      "text/plain": [
       "<IPython.core.display.HTML object>"
      ]
     },
     "metadata": {},
     "output_type": "display_data"
    },
    {
     "data": {
      "text/html": [
       "<span style=\"color:blue\"> |-units: 160</span>"
      ],
      "text/plain": [
       "<IPython.core.display.HTML object>"
      ]
     },
     "metadata": {},
     "output_type": "display_data"
    },
    {
     "name": "stdout",
     "output_type": "stream",
     "text": [
      "Train on 12140 samples, validate on 4515 samples\n",
      "Epoch 3/6\n",
      "12140/12140 [==============================] - ETA: 1:54 - loss: 2.8671 - accuracy: 0.34 - ETA: 4s - loss: 1.3360 - accuracy: 0.6406 - ETA: 2s - loss: 0.9373 - accuracy: 0.71 - ETA: 1s - loss: 0.7596 - accuracy: 0.75 - ETA: 1s - loss: 0.6619 - accuracy: 0.78 - ETA: 0s - loss: 0.5976 - accuracy: 0.81 - ETA: 0s - loss: 0.5363 - accuracy: 0.82 - ETA: 0s - loss: 0.4896 - accuracy: 0.84 - ETA: 0s - loss: 0.4586 - accuracy: 0.85 - ETA: 0s - loss: 0.4292 - accuracy: 0.86 - ETA: 0s - loss: 0.4023 - accuracy: 0.87 - ETA: 0s - loss: 0.3875 - accuracy: 0.88 - ETA: 0s - loss: 0.3749 - accuracy: 0.88 - ETA: 0s - loss: 0.3624 - accuracy: 0.89 - ETA: 0s - loss: 0.3543 - accuracy: 0.89 - 1s 110us/sample - loss: 0.3488 - accuracy: 0.8981 - val_loss: 0.4012 - val_accuracy: 0.8888\n",
      "Epoch 4/6\n",
      "12140/12140 [==============================] - ETA: 2s - loss: 0.4916 - accuracy: 0.96 - ETA: 0s - loss: 0.1554 - accuracy: 0.96 - ETA: 0s - loss: 0.1731 - accuracy: 0.96 - ETA: 0s - loss: 0.1700 - accuracy: 0.96 - ETA: 0s - loss: 0.1719 - accuracy: 0.96 - ETA: 0s - loss: 0.1769 - accuracy: 0.96 - ETA: 0s - loss: 0.1849 - accuracy: 0.96 - ETA: 0s - loss: 0.1749 - accuracy: 0.96 - ETA: 0s - loss: 0.1781 - accuracy: 0.96 - ETA: 0s - loss: 0.1808 - accuracy: 0.96 - ETA: 0s - loss: 0.1896 - accuracy: 0.96 - ETA: 0s - loss: 0.1920 - accuracy: 0.96 - ETA: 0s - loss: 0.1918 - accuracy: 0.96 - ETA: 0s - loss: 0.1912 - accuracy: 0.96 - ETA: 0s - loss: 0.1963 - accuracy: 0.96 - 1s 76us/sample - loss: 0.2006 - accuracy: 0.9640 - val_loss: 0.7860 - val_accuracy: 0.8244\n"
     ]
    },
    {
     "data": {
      "text/html": [
       "<span style=\"color:#4527A0\"><h1 style=\"font-size:18px\">Trial complete</h1></span>"
      ],
      "text/plain": [
       "<IPython.core.display.HTML object>"
      ]
     },
     "metadata": {},
     "output_type": "display_data"
    },
    {
     "data": {
      "text/html": [
       "<span style=\"color:#4527A0\"><h1 style=\"font-size:18px\">Trial summary</h1></span>"
      ],
      "text/plain": [
       "<IPython.core.display.HTML object>"
      ]
     },
     "metadata": {},
     "output_type": "display_data"
    },
    {
     "data": {
      "text/html": [
       "<span style=\"color:cyan\"> |-Trial ID: 65409c21266138510db46efbdcde27b0</span>"
      ],
      "text/plain": [
       "<IPython.core.display.HTML object>"
      ]
     },
     "metadata": {},
     "output_type": "display_data"
    },
    {
     "data": {
      "text/html": [
       "<span style=\"color:cyan\"> |-Score: 0.8888150453567505</span>"
      ],
      "text/plain": [
       "<IPython.core.display.HTML object>"
      ]
     },
     "metadata": {},
     "output_type": "display_data"
    },
    {
     "data": {
      "text/html": [
       "<span style=\"color:cyan\"> |-Best step: 0</span>"
      ],
      "text/plain": [
       "<IPython.core.display.HTML object>"
      ]
     },
     "metadata": {},
     "output_type": "display_data"
    },
    {
     "data": {
      "text/html": [
       "<span style=\"color:#7E57C2\"><h2 style=\"font-size:16px\">Hyperparameters:</h2></span>"
      ],
      "text/plain": [
       "<IPython.core.display.HTML object>"
      ]
     },
     "metadata": {},
     "output_type": "display_data"
    },
    {
     "data": {
      "text/html": [
       "<span style=\"color:cyan\"> |-activation_func: relu</span>"
      ],
      "text/plain": [
       "<IPython.core.display.HTML object>"
      ]
     },
     "metadata": {},
     "output_type": "display_data"
    },
    {
     "data": {
      "text/html": [
       "<span style=\"color:blue\"> |-activation_func_2: swish</span>"
      ],
      "text/plain": [
       "<IPython.core.display.HTML object>"
      ]
     },
     "metadata": {},
     "output_type": "display_data"
    },
    {
     "data": {
      "text/html": [
       "<span style=\"color:cyan\"> |-layers: 2</span>"
      ],
      "text/plain": [
       "<IPython.core.display.HTML object>"
      ]
     },
     "metadata": {},
     "output_type": "display_data"
    },
    {
     "data": {
      "text/html": [
       "<span style=\"color:blue\"> |-learning_rate: 0.001</span>"
      ],
      "text/plain": [
       "<IPython.core.display.HTML object>"
      ]
     },
     "metadata": {},
     "output_type": "display_data"
    },
    {
     "data": {
      "text/html": [
       "<span style=\"color:cyan\"> |-tuner/bracket: 3</span>"
      ],
      "text/plain": [
       "<IPython.core.display.HTML object>"
      ]
     },
     "metadata": {},
     "output_type": "display_data"
    },
    {
     "data": {
      "text/html": [
       "<span style=\"color:blue\"> |-tuner/epochs: 6</span>"
      ],
      "text/plain": [
       "<IPython.core.display.HTML object>"
      ]
     },
     "metadata": {},
     "output_type": "display_data"
    },
    {
     "data": {
      "text/html": [
       "<span style=\"color:cyan\"> |-tuner/initial_epoch: 2</span>"
      ],
      "text/plain": [
       "<IPython.core.display.HTML object>"
      ]
     },
     "metadata": {},
     "output_type": "display_data"
    },
    {
     "data": {
      "text/html": [
       "<span style=\"color:blue\"> |-tuner/round: 1</span>"
      ],
      "text/plain": [
       "<IPython.core.display.HTML object>"
      ]
     },
     "metadata": {},
     "output_type": "display_data"
    },
    {
     "data": {
      "text/html": [
       "<span style=\"color:cyan\"> |-tuner/trial_id: 85ee415be82e06c63095a64b044b3987</span>"
      ],
      "text/plain": [
       "<IPython.core.display.HTML object>"
      ]
     },
     "metadata": {},
     "output_type": "display_data"
    },
    {
     "data": {
      "text/html": [
       "<span style=\"color:blue\"> |-units: 32</span>"
      ],
      "text/plain": [
       "<IPython.core.display.HTML object>"
      ]
     },
     "metadata": {},
     "output_type": "display_data"
    },
    {
     "name": "stdout",
     "output_type": "stream",
     "text": [
      "Train on 12140 samples, validate on 4515 samples\n",
      "Epoch 3/6\n",
      "12140/12140 [==============================] - ETA: 1:52 - loss: 0.9934 - accuracy: 0.31 - ETA: 4s - loss: 0.8953 - accuracy: 0.5220 - ETA: 2s - loss: 0.6930 - accuracy: 0.65 - ETA: 1s - loss: 0.6185 - accuracy: 0.72 - ETA: 1s - loss: 0.5332 - accuracy: 0.76 - ETA: 0s - loss: 0.4905 - accuracy: 0.79 - ETA: 0s - loss: 0.4467 - accuracy: 0.81 - ETA: 0s - loss: 0.4154 - accuracy: 0.82 - ETA: 0s - loss: 0.3899 - accuracy: 0.84 - ETA: 0s - loss: 0.3689 - accuracy: 0.85 - ETA: 0s - loss: 0.3492 - accuracy: 0.86 - ETA: 0s - loss: 0.3345 - accuracy: 0.86 - ETA: 0s - loss: 0.3219 - accuracy: 0.87 - ETA: 0s - loss: 0.3126 - accuracy: 0.88 - 1s 106us/sample - loss: 0.3038 - accuracy: 0.8854 - val_loss: 0.4247 - val_accuracy: 0.8554\n",
      "Epoch 4/6\n",
      "12140/12140 [==============================] - ETA: 1s - loss: 0.2180 - accuracy: 0.96 - ETA: 0s - loss: 0.1388 - accuracy: 0.96 - ETA: 0s - loss: 0.1392 - accuracy: 0.95 - ETA: 0s - loss: 0.1456 - accuracy: 0.96 - ETA: 0s - loss: 0.1373 - accuracy: 0.95 - ETA: 0s - loss: 0.1309 - accuracy: 0.96 - ETA: 0s - loss: 0.1302 - accuracy: 0.96 - ETA: 0s - loss: 0.1272 - accuracy: 0.96 - ETA: 0s - loss: 0.1282 - accuracy: 0.96 - ETA: 0s - loss: 0.1258 - accuracy: 0.96 - ETA: 0s - loss: 0.1266 - accuracy: 0.96 - ETA: 0s - loss: 0.1256 - accuracy: 0.96 - ETA: 0s - loss: 0.1295 - accuracy: 0.96 - ETA: 0s - loss: 0.1289 - accuracy: 0.96 - ETA: 0s - loss: 0.1281 - accuracy: 0.96 - 1s 78us/sample - loss: 0.1294 - accuracy: 0.9645 - val_loss: 0.3901 - val_accuracy: 0.8921\n",
      "Epoch 5/6\n",
      "12140/12140 [==============================] - ETA: 1s - loss: 0.0761 - accuracy: 0.93 - ETA: 0s - loss: 0.0898 - accuracy: 0.97 - ETA: 0s - loss: 0.0971 - accuracy: 0.97 - ETA: 0s - loss: 0.1001 - accuracy: 0.97 - ETA: 0s - loss: 0.0948 - accuracy: 0.97 - ETA: 0s - loss: 0.1002 - accuracy: 0.97 - ETA: 0s - loss: 0.0985 - accuracy: 0.97 - ETA: 0s - loss: 0.0994 - accuracy: 0.97 - ETA: 0s - loss: 0.1034 - accuracy: 0.97 - ETA: 0s - loss: 0.1073 - accuracy: 0.97 - ETA: 0s - loss: 0.1078 - accuracy: 0.97 - ETA: 0s - loss: 0.1101 - accuracy: 0.97 - ETA: 0s - loss: 0.1137 - accuracy: 0.97 - ETA: 0s - loss: 0.1180 - accuracy: 0.96 - ETA: 0s - loss: 0.1197 - accuracy: 0.96 - 1s 78us/sample - loss: 0.1195 - accuracy: 0.9662 - val_loss: 0.3809 - val_accuracy: 0.8972\n",
      "Epoch 6/6\n",
      "12140/12140 [==============================] - ETA: 1s - loss: 0.0086 - accuracy: 1.00 - ETA: 0s - loss: 0.1365 - accuracy: 0.95 - ETA: 0s - loss: 0.1374 - accuracy: 0.95 - ETA: 0s - loss: 0.1399 - accuracy: 0.95 - ETA: 0s - loss: 0.1355 - accuracy: 0.95 - ETA: 0s - loss: 0.1251 - accuracy: 0.95 - ETA: 0s - loss: 0.1215 - accuracy: 0.95 - ETA: 0s - loss: 0.1207 - accuracy: 0.95 - ETA: 0s - loss: 0.1152 - accuracy: 0.96 - ETA: 0s - loss: 0.1141 - accuracy: 0.96 - ETA: 0s - loss: 0.1134 - accuracy: 0.96 - ETA: 0s - loss: 0.1157 - accuracy: 0.96 - ETA: 0s - loss: 0.1150 - accuracy: 0.96 - ETA: 0s - loss: 0.1135 - accuracy: 0.96 - ETA: 0s - loss: 0.1119 - accuracy: 0.96 - 1s 79us/sample - loss: 0.1118 - accuracy: 0.9635 - val_loss: 0.3628 - val_accuracy: 0.9147\n"
     ]
    },
    {
     "data": {
      "text/html": [
       "<span style=\"color:#4527A0\"><h1 style=\"font-size:18px\">Trial complete</h1></span>"
      ],
      "text/plain": [
       "<IPython.core.display.HTML object>"
      ]
     },
     "metadata": {},
     "output_type": "display_data"
    },
    {
     "data": {
      "text/html": [
       "<span style=\"color:#4527A0\"><h1 style=\"font-size:18px\">Trial summary</h1></span>"
      ],
      "text/plain": [
       "<IPython.core.display.HTML object>"
      ]
     },
     "metadata": {},
     "output_type": "display_data"
    },
    {
     "data": {
      "text/html": [
       "<span style=\"color:cyan\"> |-Trial ID: 4eb60bb600918ed56547875c4355545e</span>"
      ],
      "text/plain": [
       "<IPython.core.display.HTML object>"
      ]
     },
     "metadata": {},
     "output_type": "display_data"
    },
    {
     "data": {
      "text/html": [
       "<span style=\"color:cyan\"> |-Score: 0.9147287011146545</span>"
      ],
      "text/plain": [
       "<IPython.core.display.HTML object>"
      ]
     },
     "metadata": {},
     "output_type": "display_data"
    },
    {
     "data": {
      "text/html": [
       "<span style=\"color:cyan\"> |-Best step: 0</span>"
      ],
      "text/plain": [
       "<IPython.core.display.HTML object>"
      ]
     },
     "metadata": {},
     "output_type": "display_data"
    },
    {
     "data": {
      "text/html": [
       "<span style=\"color:#7E57C2\"><h2 style=\"font-size:16px\">Hyperparameters:</h2></span>"
      ],
      "text/plain": [
       "<IPython.core.display.HTML object>"
      ]
     },
     "metadata": {},
     "output_type": "display_data"
    },
    {
     "data": {
      "text/html": [
       "<span style=\"color:cyan\"> |-activation_func: relu</span>"
      ],
      "text/plain": [
       "<IPython.core.display.HTML object>"
      ]
     },
     "metadata": {},
     "output_type": "display_data"
    },
    {
     "data": {
      "text/html": [
       "<span style=\"color:blue\"> |-activation_func_2: tanh</span>"
      ],
      "text/plain": [
       "<IPython.core.display.HTML object>"
      ]
     },
     "metadata": {},
     "output_type": "display_data"
    },
    {
     "data": {
      "text/html": [
       "<span style=\"color:cyan\"> |-layers: 2</span>"
      ],
      "text/plain": [
       "<IPython.core.display.HTML object>"
      ]
     },
     "metadata": {},
     "output_type": "display_data"
    },
    {
     "data": {
      "text/html": [
       "<span style=\"color:blue\"> |-learning_rate: 0.001</span>"
      ],
      "text/plain": [
       "<IPython.core.display.HTML object>"
      ]
     },
     "metadata": {},
     "output_type": "display_data"
    },
    {
     "data": {
      "text/html": [
       "<span style=\"color:cyan\"> |-tuner/bracket: 3</span>"
      ],
      "text/plain": [
       "<IPython.core.display.HTML object>"
      ]
     },
     "metadata": {},
     "output_type": "display_data"
    },
    {
     "data": {
      "text/html": [
       "<span style=\"color:blue\"> |-tuner/epochs: 6</span>"
      ],
      "text/plain": [
       "<IPython.core.display.HTML object>"
      ]
     },
     "metadata": {},
     "output_type": "display_data"
    },
    {
     "data": {
      "text/html": [
       "<span style=\"color:cyan\"> |-tuner/initial_epoch: 2</span>"
      ],
      "text/plain": [
       "<IPython.core.display.HTML object>"
      ]
     },
     "metadata": {},
     "output_type": "display_data"
    },
    {
     "data": {
      "text/html": [
       "<span style=\"color:blue\"> |-tuner/round: 1</span>"
      ],
      "text/plain": [
       "<IPython.core.display.HTML object>"
      ]
     },
     "metadata": {},
     "output_type": "display_data"
    },
    {
     "data": {
      "text/html": [
       "<span style=\"color:cyan\"> |-tuner/trial_id: 5740c70a6063f213030ee5e7fa28c2e8</span>"
      ],
      "text/plain": [
       "<IPython.core.display.HTML object>"
      ]
     },
     "metadata": {},
     "output_type": "display_data"
    },
    {
     "data": {
      "text/html": [
       "<span style=\"color:blue\"> |-units: 16</span>"
      ],
      "text/plain": [
       "<IPython.core.display.HTML object>"
      ]
     },
     "metadata": {},
     "output_type": "display_data"
    },
    {
     "name": "stdout",
     "output_type": "stream",
     "text": [
      "Train on 12140 samples, validate on 4515 samples\n",
      "Epoch 3/6\n",
      "12140/12140 [==============================] - ETA: 1:57 - loss: 6.2824 - accuracy: 0.34 - ETA: 5s - loss: 0.8027 - accuracy: 0.8637 - ETA: 2s - loss: 0.5061 - accuracy: 0.90 - ETA: 1s - loss: 0.3800 - accuracy: 0.92 - ETA: 1s - loss: 0.3312 - accuracy: 0.93 - ETA: 1s - loss: 0.2970 - accuracy: 0.94 - ETA: 0s - loss: 0.2745 - accuracy: 0.94 - ETA: 0s - loss: 0.2527 - accuracy: 0.95 - ETA: 0s - loss: 0.2465 - accuracy: 0.95 - ETA: 0s - loss: 0.2340 - accuracy: 0.95 - ETA: 0s - loss: 0.2299 - accuracy: 0.95 - ETA: 0s - loss: 0.2245 - accuracy: 0.96 - ETA: 0s - loss: 0.2280 - accuracy: 0.96 - ETA: 0s - loss: 0.2425 - accuracy: 0.95 - ETA: 0s - loss: 0.2939 - accuracy: 0.94 - 1s 112us/sample - loss: 0.3007 - accuracy: 0.9433 - val_loss: 2.0239 - val_accuracy: 0.7466\n",
      "Epoch 4/6\n",
      "12140/12140 [==============================] - ETA: 1s - loss: 0.2617 - accuracy: 0.87 - ETA: 0s - loss: 0.2662 - accuracy: 0.93 - ETA: 0s - loss: 0.2534 - accuracy: 0.93 - ETA: 0s - loss: 0.2368 - accuracy: 0.93 - ETA: 0s - loss: 0.2212 - accuracy: 0.93 - ETA: 0s - loss: 0.2088 - accuracy: 0.94 - ETA: 0s - loss: 0.1977 - accuracy: 0.94 - ETA: 0s - loss: 0.1923 - accuracy: 0.95 - ETA: 0s - loss: 0.1920 - accuracy: 0.95 - ETA: 0s - loss: 0.1953 - accuracy: 0.95 - ETA: 0s - loss: 0.2063 - accuracy: 0.94 - ETA: 0s - loss: 0.2070 - accuracy: 0.95 - ETA: 0s - loss: 0.1981 - accuracy: 0.95 - ETA: 0s - loss: 0.2015 - accuracy: 0.95 - ETA: 0s - loss: 0.2118 - accuracy: 0.95 - ETA: 0s - loss: 0.2081 - accuracy: 0.95 - 1s 85us/sample - loss: 0.2072 - accuracy: 0.9516 - val_loss: 0.7324 - val_accuracy: 0.8711\n",
      "Epoch 5/6\n",
      "12140/12140 [==============================] - ETA: 1s - loss: 0.0299 - accuracy: 1.00 - ETA: 0s - loss: 0.1346 - accuracy: 0.97 - ETA: 0s - loss: 0.1310 - accuracy: 0.97 - ETA: 0s - loss: 0.1153 - accuracy: 0.98 - ETA: 0s - loss: 0.1251 - accuracy: 0.97 - ETA: 0s - loss: 0.1485 - accuracy: 0.97 - ETA: 0s - loss: 0.1406 - accuracy: 0.97 - ETA: 0s - loss: 0.1415 - accuracy: 0.97 - ETA: 0s - loss: 0.1429 - accuracy: 0.97 - ETA: 0s - loss: 0.1405 - accuracy: 0.97 - ETA: 0s - loss: 0.1467 - accuracy: 0.97 - ETA: 0s - loss: 0.1466 - accuracy: 0.97 - ETA: 0s - loss: 0.1484 - accuracy: 0.97 - ETA: 0s - loss: 0.1430 - accuracy: 0.97 - ETA: 0s - loss: 0.1458 - accuracy: 0.97 - ETA: 0s - loss: 0.1448 - accuracy: 0.97 - 1s 84us/sample - loss: 0.1424 - accuracy: 0.9741 - val_loss: 0.5802 - val_accuracy: 0.8857\n",
      "Epoch 6/6\n",
      "12140/12140 [==============================] - ETA: 1s - loss: 0.0394 - accuracy: 1.00 - ETA: 0s - loss: 0.1210 - accuracy: 0.97 - ETA: 0s - loss: 0.1050 - accuracy: 0.97 - ETA: 0s - loss: 0.1369 - accuracy: 0.97 - ETA: 0s - loss: 0.1411 - accuracy: 0.97 - ETA: 0s - loss: 0.1325 - accuracy: 0.97 - ETA: 0s - loss: 0.1362 - accuracy: 0.97 - ETA: 0s - loss: 0.1338 - accuracy: 0.97 - ETA: 0s - loss: 0.1348 - accuracy: 0.97 - ETA: 0s - loss: 0.1274 - accuracy: 0.97 - ETA: 0s - loss: 0.1241 - accuracy: 0.97 - ETA: 0s - loss: 0.1222 - accuracy: 0.97 - ETA: 0s - loss: 0.1190 - accuracy: 0.97 - ETA: 0s - loss: 0.1234 - accuracy: 0.97 - ETA: 0s - loss: 0.1258 - accuracy: 0.97 - 1s 80us/sample - loss: 0.1242 - accuracy: 0.9725 - val_loss: 0.4747 - val_accuracy: 0.8994\n"
     ]
    },
    {
     "data": {
      "text/html": [
       "<span style=\"color:#4527A0\"><h1 style=\"font-size:18px\">Trial complete</h1></span>"
      ],
      "text/plain": [
       "<IPython.core.display.HTML object>"
      ]
     },
     "metadata": {},
     "output_type": "display_data"
    },
    {
     "data": {
      "text/html": [
       "<span style=\"color:#4527A0\"><h1 style=\"font-size:18px\">Trial summary</h1></span>"
      ],
      "text/plain": [
       "<IPython.core.display.HTML object>"
      ]
     },
     "metadata": {},
     "output_type": "display_data"
    },
    {
     "data": {
      "text/html": [
       "<span style=\"color:cyan\"> |-Trial ID: 22d71c0ba9d50e1c21aa04bba19cb8b6</span>"
      ],
      "text/plain": [
       "<IPython.core.display.HTML object>"
      ]
     },
     "metadata": {},
     "output_type": "display_data"
    },
    {
     "data": {
      "text/html": [
       "<span style=\"color:cyan\"> |-Score: 0.8994463086128235</span>"
      ],
      "text/plain": [
       "<IPython.core.display.HTML object>"
      ]
     },
     "metadata": {},
     "output_type": "display_data"
    },
    {
     "data": {
      "text/html": [
       "<span style=\"color:cyan\"> |-Best step: 0</span>"
      ],
      "text/plain": [
       "<IPython.core.display.HTML object>"
      ]
     },
     "metadata": {},
     "output_type": "display_data"
    },
    {
     "data": {
      "text/html": [
       "<span style=\"color:#7E57C2\"><h2 style=\"font-size:16px\">Hyperparameters:</h2></span>"
      ],
      "text/plain": [
       "<IPython.core.display.HTML object>"
      ]
     },
     "metadata": {},
     "output_type": "display_data"
    },
    {
     "data": {
      "text/html": [
       "<span style=\"color:cyan\"> |-activation_func: tanh</span>"
      ],
      "text/plain": [
       "<IPython.core.display.HTML object>"
      ]
     },
     "metadata": {},
     "output_type": "display_data"
    },
    {
     "data": {
      "text/html": [
       "<span style=\"color:blue\"> |-activation_func_2: tanh</span>"
      ],
      "text/plain": [
       "<IPython.core.display.HTML object>"
      ]
     },
     "metadata": {},
     "output_type": "display_data"
    },
    {
     "data": {
      "text/html": [
       "<span style=\"color:cyan\"> |-layers: 3</span>"
      ],
      "text/plain": [
       "<IPython.core.display.HTML object>"
      ]
     },
     "metadata": {},
     "output_type": "display_data"
    },
    {
     "data": {
      "text/html": [
       "<span style=\"color:blue\"> |-learning_rate: 0.01</span>"
      ],
      "text/plain": [
       "<IPython.core.display.HTML object>"
      ]
     },
     "metadata": {},
     "output_type": "display_data"
    },
    {
     "data": {
      "text/html": [
       "<span style=\"color:cyan\"> |-tuner/bracket: 3</span>"
      ],
      "text/plain": [
       "<IPython.core.display.HTML object>"
      ]
     },
     "metadata": {},
     "output_type": "display_data"
    },
    {
     "data": {
      "text/html": [
       "<span style=\"color:blue\"> |-tuner/epochs: 6</span>"
      ],
      "text/plain": [
       "<IPython.core.display.HTML object>"
      ]
     },
     "metadata": {},
     "output_type": "display_data"
    },
    {
     "data": {
      "text/html": [
       "<span style=\"color:cyan\"> |-tuner/initial_epoch: 2</span>"
      ],
      "text/plain": [
       "<IPython.core.display.HTML object>"
      ]
     },
     "metadata": {},
     "output_type": "display_data"
    },
    {
     "data": {
      "text/html": [
       "<span style=\"color:blue\"> |-tuner/round: 1</span>"
      ],
      "text/plain": [
       "<IPython.core.display.HTML object>"
      ]
     },
     "metadata": {},
     "output_type": "display_data"
    },
    {
     "data": {
      "text/html": [
       "<span style=\"color:cyan\"> |-tuner/trial_id: de8c5fe8f10f6abef3fcdbfd5f6bdd26</span>"
      ],
      "text/plain": [
       "<IPython.core.display.HTML object>"
      ]
     },
     "metadata": {},
     "output_type": "display_data"
    },
    {
     "data": {
      "text/html": [
       "<span style=\"color:blue\"> |-units: 16</span>"
      ],
      "text/plain": [
       "<IPython.core.display.HTML object>"
      ]
     },
     "metadata": {},
     "output_type": "display_data"
    },
    {
     "name": "stdout",
     "output_type": "stream",
     "text": [
      "Train on 12140 samples, validate on 4515 samples\n",
      "Epoch 3/6\n",
      "12140/12140 [==============================] - ETA: 2:27 - loss: 4.2988 - accuracy: 0.37 - ETA: 6s - loss: 0.5452 - accuracy: 0.8685 - ETA: 3s - loss: 0.3933 - accuracy: 0.91 - ETA: 2s - loss: 0.3384 - accuracy: 0.92 - ETA: 1s - loss: 0.3135 - accuracy: 0.93 - ETA: 1s - loss: 0.2828 - accuracy: 0.93 - ETA: 1s - loss: 0.2582 - accuracy: 0.94 - ETA: 0s - loss: 0.2616 - accuracy: 0.94 - ETA: 0s - loss: 0.2567 - accuracy: 0.94 - ETA: 0s - loss: 0.2429 - accuracy: 0.95 - ETA: 0s - loss: 0.2323 - accuracy: 0.95 - ETA: 0s - loss: 0.2171 - accuracy: 0.95 - ETA: 0s - loss: 0.2126 - accuracy: 0.95 - ETA: 0s - loss: 0.2041 - accuracy: 0.95 - ETA: 0s - loss: 0.2000 - accuracy: 0.96 - ETA: 0s - loss: 0.1963 - accuracy: 0.96 - ETA: 0s - loss: 0.1977 - accuracy: 0.95 - 2s 126us/sample - loss: 0.1971 - accuracy: 0.9594 - val_loss: 0.8426 - val_accuracy: 0.9079\n",
      "Epoch 4/6\n",
      "12140/12140 [==============================] - ETA: 1s - loss: 0.2605 - accuracy: 0.96 - ETA: 0s - loss: 0.1239 - accuracy: 0.97 - ETA: 0s - loss: 0.1639 - accuracy: 0.96 - ETA: 0s - loss: 0.1818 - accuracy: 0.96 - ETA: 0s - loss: 0.1843 - accuracy: 0.96 - ETA: 0s - loss: 0.1844 - accuracy: 0.96 - ETA: 0s - loss: 0.1825 - accuracy: 0.96 - ETA: 0s - loss: 0.1810 - accuracy: 0.96 - ETA: 0s - loss: 0.1788 - accuracy: 0.96 - ETA: 0s - loss: 0.1767 - accuracy: 0.97 - ETA: 0s - loss: 0.1718 - accuracy: 0.97 - ETA: 0s - loss: 0.1728 - accuracy: 0.97 - ETA: 0s - loss: 0.1682 - accuracy: 0.97 - ETA: 0s - loss: 0.1663 - accuracy: 0.97 - ETA: 0s - loss: 0.1703 - accuracy: 0.97 - ETA: 0s - loss: 0.1720 - accuracy: 0.97 - 1s 85us/sample - loss: 0.1747 - accuracy: 0.9726 - val_loss: 0.6067 - val_accuracy: 0.9150\n",
      "Epoch 5/6\n",
      "12140/12140 [==============================] - ETA: 1s - loss: 0.4885 - accuracy: 0.96 - ETA: 0s - loss: 0.1394 - accuracy: 0.97 - ETA: 0s - loss: 0.1852 - accuracy: 0.97 - ETA: 0s - loss: 0.1726 - accuracy: 0.97 - ETA: 0s - loss: 0.1781 - accuracy: 0.97 - ETA: 0s - loss: 0.1779 - accuracy: 0.97 - ETA: 0s - loss: 0.1591 - accuracy: 0.97 - ETA: 0s - loss: 0.1678 - accuracy: 0.97 - ETA: 0s - loss: 0.1699 - accuracy: 0.97 - ETA: 0s - loss: 0.1672 - accuracy: 0.97 - ETA: 0s - loss: 0.1622 - accuracy: 0.97 - ETA: 0s - loss: 0.1607 - accuracy: 0.97 - ETA: 0s - loss: 0.1599 - accuracy: 0.97 - ETA: 0s - loss: 0.1608 - accuracy: 0.97 - ETA: 0s - loss: 0.1576 - accuracy: 0.97 - ETA: 0s - loss: 0.1552 - accuracy: 0.97 - ETA: 0s - loss: 0.1616 - accuracy: 0.97 - 1s 84us/sample - loss: 0.1617 - accuracy: 0.9767 - val_loss: 0.9212 - val_accuracy: 0.8729\n"
     ]
    },
    {
     "data": {
      "text/html": [
       "<span style=\"color:#4527A0\"><h1 style=\"font-size:18px\">Trial complete</h1></span>"
      ],
      "text/plain": [
       "<IPython.core.display.HTML object>"
      ]
     },
     "metadata": {},
     "output_type": "display_data"
    },
    {
     "data": {
      "text/html": [
       "<span style=\"color:#4527A0\"><h1 style=\"font-size:18px\">Trial summary</h1></span>"
      ],
      "text/plain": [
       "<IPython.core.display.HTML object>"
      ]
     },
     "metadata": {},
     "output_type": "display_data"
    },
    {
     "data": {
      "text/html": [
       "<span style=\"color:cyan\"> |-Trial ID: 42c747f531bc7b85d084851cb8744b62</span>"
      ],
      "text/plain": [
       "<IPython.core.display.HTML object>"
      ]
     },
     "metadata": {},
     "output_type": "display_data"
    },
    {
     "data": {
      "text/html": [
       "<span style=\"color:cyan\"> |-Score: 0.9149501919746399</span>"
      ],
      "text/plain": [
       "<IPython.core.display.HTML object>"
      ]
     },
     "metadata": {},
     "output_type": "display_data"
    },
    {
     "data": {
      "text/html": [
       "<span style=\"color:cyan\"> |-Best step: 0</span>"
      ],
      "text/plain": [
       "<IPython.core.display.HTML object>"
      ]
     },
     "metadata": {},
     "output_type": "display_data"
    },
    {
     "data": {
      "text/html": [
       "<span style=\"color:#7E57C2\"><h2 style=\"font-size:16px\">Hyperparameters:</h2></span>"
      ],
      "text/plain": [
       "<IPython.core.display.HTML object>"
      ]
     },
     "metadata": {},
     "output_type": "display_data"
    },
    {
     "data": {
      "text/html": [
       "<span style=\"color:cyan\"> |-activation_func: swish</span>"
      ],
      "text/plain": [
       "<IPython.core.display.HTML object>"
      ]
     },
     "metadata": {},
     "output_type": "display_data"
    },
    {
     "data": {
      "text/html": [
       "<span style=\"color:blue\"> |-activation_func_2: tanh</span>"
      ],
      "text/plain": [
       "<IPython.core.display.HTML object>"
      ]
     },
     "metadata": {},
     "output_type": "display_data"
    },
    {
     "data": {
      "text/html": [
       "<span style=\"color:cyan\"> |-layers: 4</span>"
      ],
      "text/plain": [
       "<IPython.core.display.HTML object>"
      ]
     },
     "metadata": {},
     "output_type": "display_data"
    },
    {
     "data": {
      "text/html": [
       "<span style=\"color:blue\"> |-learning_rate: 0.01</span>"
      ],
      "text/plain": [
       "<IPython.core.display.HTML object>"
      ]
     },
     "metadata": {},
     "output_type": "display_data"
    },
    {
     "data": {
      "text/html": [
       "<span style=\"color:cyan\"> |-tuner/bracket: 3</span>"
      ],
      "text/plain": [
       "<IPython.core.display.HTML object>"
      ]
     },
     "metadata": {},
     "output_type": "display_data"
    },
    {
     "data": {
      "text/html": [
       "<span style=\"color:blue\"> |-tuner/epochs: 6</span>"
      ],
      "text/plain": [
       "<IPython.core.display.HTML object>"
      ]
     },
     "metadata": {},
     "output_type": "display_data"
    },
    {
     "data": {
      "text/html": [
       "<span style=\"color:cyan\"> |-tuner/initial_epoch: 2</span>"
      ],
      "text/plain": [
       "<IPython.core.display.HTML object>"
      ]
     },
     "metadata": {},
     "output_type": "display_data"
    },
    {
     "data": {
      "text/html": [
       "<span style=\"color:blue\"> |-tuner/round: 1</span>"
      ],
      "text/plain": [
       "<IPython.core.display.HTML object>"
      ]
     },
     "metadata": {},
     "output_type": "display_data"
    },
    {
     "data": {
      "text/html": [
       "<span style=\"color:cyan\"> |-tuner/trial_id: a4e5b4f747a14e41c354a108edf152c1</span>"
      ],
      "text/plain": [
       "<IPython.core.display.HTML object>"
      ]
     },
     "metadata": {},
     "output_type": "display_data"
    },
    {
     "data": {
      "text/html": [
       "<span style=\"color:blue\"> |-units: 32</span>"
      ],
      "text/plain": [
       "<IPython.core.display.HTML object>"
      ]
     },
     "metadata": {},
     "output_type": "display_data"
    },
    {
     "name": "stdout",
     "output_type": "stream",
     "text": [
      "Train on 12140 samples, validate on 4515 samples\n",
      "Epoch 7/17\n",
      "12140/12140 [==============================] - ETA: 1:50 - loss: 6.5153 - accuracy: 0.43 - ETA: 4s - loss: 0.7696 - accuracy: 0.9155 - ETA: 2s - loss: 0.6906 - accuracy: 0.93 - ETA: 1s - loss: 0.6344 - accuracy: 0.94 - ETA: 1s - loss: 0.6265 - accuracy: 0.94 - ETA: 0s - loss: 0.5934 - accuracy: 0.94 - ETA: 0s - loss: 0.6971 - accuracy: 0.94 - ETA: 0s - loss: 0.6609 - accuracy: 0.94 - ETA: 0s - loss: 0.6201 - accuracy: 0.94 - ETA: 0s - loss: 0.6020 - accuracy: 0.95 - ETA: 0s - loss: 0.5742 - accuracy: 0.95 - ETA: 0s - loss: 0.5670 - accuracy: 0.95 - ETA: 0s - loss: 0.5425 - accuracy: 0.95 - ETA: 0s - loss: 0.5210 - accuracy: 0.95 - 1s 103us/sample - loss: 0.5195 - accuracy: 0.9593 - val_loss: 0.7880 - val_accuracy: 0.9484\n",
      "Epoch 8/17\n",
      "12140/12140 [==============================] - ETA: 1s - loss: 0.0000e+00 - accuracy: 1.00 - ETA: 0s - loss: 0.4102 - accuracy: 0.9732   - ETA: 0s - loss: 0.4177 - accuracy: 0.97 - ETA: 0s - loss: 0.4401 - accuracy: 0.97 - ETA: 0s - loss: 0.4731 - accuracy: 0.96 - ETA: 0s - loss: 0.4607 - accuracy: 0.96 - ETA: 0s - loss: 0.4582 - accuracy: 0.96 - ETA: 0s - loss: 0.4512 - accuracy: 0.96 - ETA: 0s - loss: 0.4479 - accuracy: 0.96 - ETA: 0s - loss: 0.4394 - accuracy: 0.97 - ETA: 0s - loss: 0.4430 - accuracy: 0.97 - ETA: 0s - loss: 0.4473 - accuracy: 0.97 - ETA: 0s - loss: 0.4496 - accuracy: 0.97 - ETA: 0s - loss: 0.4419 - accuracy: 0.97 - ETA: 0s - loss: 0.4420 - accuracy: 0.97 - 1s 77us/sample - loss: 0.4434 - accuracy: 0.9702 - val_loss: 0.8860 - val_accuracy: 0.9400\n"
     ]
    },
    {
     "data": {
      "text/html": [
       "<span style=\"color:#4527A0\"><h1 style=\"font-size:18px\">Trial complete</h1></span>"
      ],
      "text/plain": [
       "<IPython.core.display.HTML object>"
      ]
     },
     "metadata": {},
     "output_type": "display_data"
    },
    {
     "data": {
      "text/html": [
       "<span style=\"color:#4527A0\"><h1 style=\"font-size:18px\">Trial summary</h1></span>"
      ],
      "text/plain": [
       "<IPython.core.display.HTML object>"
      ]
     },
     "metadata": {},
     "output_type": "display_data"
    },
    {
     "data": {
      "text/html": [
       "<span style=\"color:cyan\"> |-Trial ID: 37319fd8f1b8967de2e8552858330d58</span>"
      ],
      "text/plain": [
       "<IPython.core.display.HTML object>"
      ]
     },
     "metadata": {},
     "output_type": "display_data"
    },
    {
     "data": {
      "text/html": [
       "<span style=\"color:cyan\"> |-Score: 0.948394238948822</span>"
      ],
      "text/plain": [
       "<IPython.core.display.HTML object>"
      ]
     },
     "metadata": {},
     "output_type": "display_data"
    },
    {
     "data": {
      "text/html": [
       "<span style=\"color:cyan\"> |-Best step: 0</span>"
      ],
      "text/plain": [
       "<IPython.core.display.HTML object>"
      ]
     },
     "metadata": {},
     "output_type": "display_data"
    },
    {
     "data": {
      "text/html": [
       "<span style=\"color:#7E57C2\"><h2 style=\"font-size:16px\">Hyperparameters:</h2></span>"
      ],
      "text/plain": [
       "<IPython.core.display.HTML object>"
      ]
     },
     "metadata": {},
     "output_type": "display_data"
    },
    {
     "data": {
      "text/html": [
       "<span style=\"color:cyan\"> |-activation_func: relu</span>"
      ],
      "text/plain": [
       "<IPython.core.display.HTML object>"
      ]
     },
     "metadata": {},
     "output_type": "display_data"
    },
    {
     "data": {
      "text/html": [
       "<span style=\"color:blue\"> |-activation_func_2: relu</span>"
      ],
      "text/plain": [
       "<IPython.core.display.HTML object>"
      ]
     },
     "metadata": {},
     "output_type": "display_data"
    },
    {
     "data": {
      "text/html": [
       "<span style=\"color:cyan\"> |-layers: 2</span>"
      ],
      "text/plain": [
       "<IPython.core.display.HTML object>"
      ]
     },
     "metadata": {},
     "output_type": "display_data"
    },
    {
     "data": {
      "text/html": [
       "<span style=\"color:blue\"> |-learning_rate: 0.01</span>"
      ],
      "text/plain": [
       "<IPython.core.display.HTML object>"
      ]
     },
     "metadata": {},
     "output_type": "display_data"
    },
    {
     "data": {
      "text/html": [
       "<span style=\"color:cyan\"> |-tuner/bracket: 3</span>"
      ],
      "text/plain": [
       "<IPython.core.display.HTML object>"
      ]
     },
     "metadata": {},
     "output_type": "display_data"
    },
    {
     "data": {
      "text/html": [
       "<span style=\"color:blue\"> |-tuner/epochs: 17</span>"
      ],
      "text/plain": [
       "<IPython.core.display.HTML object>"
      ]
     },
     "metadata": {},
     "output_type": "display_data"
    },
    {
     "data": {
      "text/html": [
       "<span style=\"color:cyan\"> |-tuner/initial_epoch: 6</span>"
      ],
      "text/plain": [
       "<IPython.core.display.HTML object>"
      ]
     },
     "metadata": {},
     "output_type": "display_data"
    },
    {
     "data": {
      "text/html": [
       "<span style=\"color:blue\"> |-tuner/round: 2</span>"
      ],
      "text/plain": [
       "<IPython.core.display.HTML object>"
      ]
     },
     "metadata": {},
     "output_type": "display_data"
    },
    {
     "data": {
      "text/html": [
       "<span style=\"color:cyan\"> |-tuner/trial_id: f5adaeb414b552e881babb9d8b075922</span>"
      ],
      "text/plain": [
       "<IPython.core.display.HTML object>"
      ]
     },
     "metadata": {},
     "output_type": "display_data"
    },
    {
     "data": {
      "text/html": [
       "<span style=\"color:blue\"> |-units: 64</span>"
      ],
      "text/plain": [
       "<IPython.core.display.HTML object>"
      ]
     },
     "metadata": {},
     "output_type": "display_data"
    },
    {
     "name": "stdout",
     "output_type": "stream",
     "text": [
      "Train on 12140 samples, validate on 4515 samples\n",
      "Epoch 7/17\n",
      "12140/12140 [==============================] - ETA: 2:12 - loss: 3.4707 - accuracy: 0.34 - ETA: 5s - loss: 0.9866 - accuracy: 0.8269 - ETA: 2s - loss: 0.7205 - accuracy: 0.89 - ETA: 2s - loss: 0.5438 - accuracy: 0.91 - ETA: 1s - loss: 0.4778 - accuracy: 0.92 - ETA: 1s - loss: 0.4455 - accuracy: 0.93 - ETA: 1s - loss: 0.3975 - accuracy: 0.94 - ETA: 0s - loss: 0.3601 - accuracy: 0.94 - ETA: 0s - loss: 0.3430 - accuracy: 0.95 - ETA: 0s - loss: 0.3216 - accuracy: 0.95 - ETA: 0s - loss: 0.3177 - accuracy: 0.95 - ETA: 0s - loss: 0.3150 - accuracy: 0.95 - ETA: 0s - loss: 0.3183 - accuracy: 0.95 - ETA: 0s - loss: 0.3170 - accuracy: 0.95 - ETA: 0s - loss: 0.3068 - accuracy: 0.95 - ETA: 0s - loss: 0.3133 - accuracy: 0.95 - 1s 120us/sample - loss: 0.3184 - accuracy: 0.9533 - val_loss: 1.4406 - val_accuracy: 0.8430\n",
      "Epoch 8/17\n",
      "12140/12140 [==============================] - ETA: 1s - loss: 0.4949 - accuracy: 0.96 - ETA: 0s - loss: 0.3549 - accuracy: 0.97 - ETA: 0s - loss: 0.4238 - accuracy: 0.96 - ETA: 0s - loss: 0.3371 - accuracy: 0.96 - ETA: 0s - loss: 0.4585 - accuracy: 0.95 - ETA: 0s - loss: 0.5948 - accuracy: 0.95 - ETA: 0s - loss: 0.6183 - accuracy: 0.95 - ETA: 0s - loss: 0.6498 - accuracy: 0.95 - ETA: 0s - loss: 0.6961 - accuracy: 0.94 - ETA: 0s - loss: 0.7275 - accuracy: 0.94 - ETA: 0s - loss: 0.7047 - accuracy: 0.94 - ETA: 0s - loss: 0.6858 - accuracy: 0.95 - ETA: 0s - loss: 0.6852 - accuracy: 0.95 - ETA: 0s - loss: 0.6940 - accuracy: 0.95 - ETA: 0s - loss: 0.6747 - accuracy: 0.95 - 1s 81us/sample - loss: 0.6603 - accuracy: 0.9533 - val_loss: 1.5872 - val_accuracy: 0.8957\n"
     ]
    },
    {
     "data": {
      "text/html": [
       "<span style=\"color:#4527A0\"><h1 style=\"font-size:18px\">Trial complete</h1></span>"
      ],
      "text/plain": [
       "<IPython.core.display.HTML object>"
      ]
     },
     "metadata": {},
     "output_type": "display_data"
    },
    {
     "data": {
      "text/html": [
       "<span style=\"color:#4527A0\"><h1 style=\"font-size:18px\">Trial summary</h1></span>"
      ],
      "text/plain": [
       "<IPython.core.display.HTML object>"
      ]
     },
     "metadata": {},
     "output_type": "display_data"
    },
    {
     "data": {
      "text/html": [
       "<span style=\"color:cyan\"> |-Trial ID: 280dc09f66136ca34d1fb532c01496b0</span>"
      ],
      "text/plain": [
       "<IPython.core.display.HTML object>"
      ]
     },
     "metadata": {},
     "output_type": "display_data"
    },
    {
     "data": {
      "text/html": [
       "<span style=\"color:cyan\"> |-Score: 0.8956810832023621</span>"
      ],
      "text/plain": [
       "<IPython.core.display.HTML object>"
      ]
     },
     "metadata": {},
     "output_type": "display_data"
    },
    {
     "data": {
      "text/html": [
       "<span style=\"color:cyan\"> |-Best step: 0</span>"
      ],
      "text/plain": [
       "<IPython.core.display.HTML object>"
      ]
     },
     "metadata": {},
     "output_type": "display_data"
    },
    {
     "data": {
      "text/html": [
       "<span style=\"color:#7E57C2\"><h2 style=\"font-size:16px\">Hyperparameters:</h2></span>"
      ],
      "text/plain": [
       "<IPython.core.display.HTML object>"
      ]
     },
     "metadata": {},
     "output_type": "display_data"
    },
    {
     "data": {
      "text/html": [
       "<span style=\"color:cyan\"> |-activation_func: relu</span>"
      ],
      "text/plain": [
       "<IPython.core.display.HTML object>"
      ]
     },
     "metadata": {},
     "output_type": "display_data"
    },
    {
     "data": {
      "text/html": [
       "<span style=\"color:blue\"> |-activation_func_2: tanh</span>"
      ],
      "text/plain": [
       "<IPython.core.display.HTML object>"
      ]
     },
     "metadata": {},
     "output_type": "display_data"
    },
    {
     "data": {
      "text/html": [
       "<span style=\"color:cyan\"> |-layers: 4</span>"
      ],
      "text/plain": [
       "<IPython.core.display.HTML object>"
      ]
     },
     "metadata": {},
     "output_type": "display_data"
    },
    {
     "data": {
      "text/html": [
       "<span style=\"color:blue\"> |-learning_rate: 0.01</span>"
      ],
      "text/plain": [
       "<IPython.core.display.HTML object>"
      ]
     },
     "metadata": {},
     "output_type": "display_data"
    },
    {
     "data": {
      "text/html": [
       "<span style=\"color:cyan\"> |-tuner/bracket: 3</span>"
      ],
      "text/plain": [
       "<IPython.core.display.HTML object>"
      ]
     },
     "metadata": {},
     "output_type": "display_data"
    },
    {
     "data": {
      "text/html": [
       "<span style=\"color:blue\"> |-tuner/epochs: 17</span>"
      ],
      "text/plain": [
       "<IPython.core.display.HTML object>"
      ]
     },
     "metadata": {},
     "output_type": "display_data"
    },
    {
     "data": {
      "text/html": [
       "<span style=\"color:cyan\"> |-tuner/initial_epoch: 6</span>"
      ],
      "text/plain": [
       "<IPython.core.display.HTML object>"
      ]
     },
     "metadata": {},
     "output_type": "display_data"
    },
    {
     "data": {
      "text/html": [
       "<span style=\"color:blue\"> |-tuner/round: 2</span>"
      ],
      "text/plain": [
       "<IPython.core.display.HTML object>"
      ]
     },
     "metadata": {},
     "output_type": "display_data"
    },
    {
     "data": {
      "text/html": [
       "<span style=\"color:cyan\"> |-tuner/trial_id: 5040e872ee2d05e37133ab2241934c17</span>"
      ],
      "text/plain": [
       "<IPython.core.display.HTML object>"
      ]
     },
     "metadata": {},
     "output_type": "display_data"
    },
    {
     "data": {
      "text/html": [
       "<span style=\"color:blue\"> |-units: 160</span>"
      ],
      "text/plain": [
       "<IPython.core.display.HTML object>"
      ]
     },
     "metadata": {},
     "output_type": "display_data"
    },
    {
     "name": "stdout",
     "output_type": "stream",
     "text": [
      "Train on 12140 samples, validate on 4515 samples\n",
      "Epoch 7/17\n",
      "12140/12140 [==============================] - ETA: 2:42 - loss: 4.4189 - accuracy: 0.53 - ETA: 7s - loss: 1.0868 - accuracy: 0.5788 - ETA: 3s - loss: 0.6737 - accuracy: 0.75 - ETA: 2s - loss: 0.5452 - accuracy: 0.80 - ETA: 2s - loss: 0.4790 - accuracy: 0.81 - ETA: 1s - loss: 0.4170 - accuracy: 0.84 - ETA: 1s - loss: 0.3849 - accuracy: 0.86 - ETA: 1s - loss: 0.3794 - accuracy: 0.88 - ETA: 0s - loss: 0.3696 - accuracy: 0.89 - ETA: 0s - loss: 0.3514 - accuracy: 0.90 - ETA: 0s - loss: 0.3397 - accuracy: 0.90 - ETA: 0s - loss: 0.3277 - accuracy: 0.91 - ETA: 0s - loss: 0.3070 - accuracy: 0.92 - ETA: 0s - loss: 0.3025 - accuracy: 0.92 - ETA: 0s - loss: 0.2909 - accuracy: 0.92 - ETA: 0s - loss: 0.2834 - accuracy: 0.93 - ETA: 0s - loss: 0.2727 - accuracy: 0.93 - 2s 132us/sample - loss: 0.2713 - accuracy: 0.9333 - val_loss: 0.6261 - val_accuracy: 0.8693\n",
      "Epoch 8/17\n",
      "12140/12140 [==============================] - ETA: 1s - loss: 0.0392 - accuracy: 0.96 - ETA: 0s - loss: 0.2330 - accuracy: 0.97 - ETA: 0s - loss: 0.2535 - accuracy: 0.97 - ETA: 0s - loss: 0.2356 - accuracy: 0.97 - ETA: 0s - loss: 0.2364 - accuracy: 0.97 - ETA: 0s - loss: 0.2289 - accuracy: 0.97 - ETA: 0s - loss: 0.2327 - accuracy: 0.96 - ETA: 0s - loss: 0.2869 - accuracy: 0.94 - ETA: 0s - loss: 0.3119 - accuracy: 0.94 - ETA: 0s - loss: 0.3110 - accuracy: 0.94 - ETA: 0s - loss: 0.3038 - accuracy: 0.94 - ETA: 0s - loss: 0.3045 - accuracy: 0.94 - ETA: 0s - loss: 0.2924 - accuracy: 0.94 - ETA: 0s - loss: 0.2958 - accuracy: 0.94 - ETA: 0s - loss: 0.3190 - accuracy: 0.93 - ETA: 0s - loss: 0.3229 - accuracy: 0.93 - ETA: 0s - loss: 0.3137 - accuracy: 0.93 - 1s 85us/sample - loss: 0.3140 - accuracy: 0.9329 - val_loss: 1.5538 - val_accuracy: 0.7654\n"
     ]
    },
    {
     "data": {
      "text/html": [
       "<span style=\"color:#4527A0\"><h1 style=\"font-size:18px\">Trial complete</h1></span>"
      ],
      "text/plain": [
       "<IPython.core.display.HTML object>"
      ]
     },
     "metadata": {},
     "output_type": "display_data"
    },
    {
     "data": {
      "text/html": [
       "<span style=\"color:#4527A0\"><h1 style=\"font-size:18px\">Trial summary</h1></span>"
      ],
      "text/plain": [
       "<IPython.core.display.HTML object>"
      ]
     },
     "metadata": {},
     "output_type": "display_data"
    },
    {
     "data": {
      "text/html": [
       "<span style=\"color:cyan\"> |-Trial ID: 70cc96dae79e24dcb0667423fbd844c2</span>"
      ],
      "text/plain": [
       "<IPython.core.display.HTML object>"
      ]
     },
     "metadata": {},
     "output_type": "display_data"
    },
    {
     "data": {
      "text/html": [
       "<span style=\"color:cyan\"> |-Score: 0.8693244457244873</span>"
      ],
      "text/plain": [
       "<IPython.core.display.HTML object>"
      ]
     },
     "metadata": {},
     "output_type": "display_data"
    },
    {
     "data": {
      "text/html": [
       "<span style=\"color:cyan\"> |-Best step: 0</span>"
      ],
      "text/plain": [
       "<IPython.core.display.HTML object>"
      ]
     },
     "metadata": {},
     "output_type": "display_data"
    },
    {
     "data": {
      "text/html": [
       "<span style=\"color:#7E57C2\"><h2 style=\"font-size:16px\">Hyperparameters:</h2></span>"
      ],
      "text/plain": [
       "<IPython.core.display.HTML object>"
      ]
     },
     "metadata": {},
     "output_type": "display_data"
    },
    {
     "data": {
      "text/html": [
       "<span style=\"color:cyan\"> |-activation_func: swish</span>"
      ],
      "text/plain": [
       "<IPython.core.display.HTML object>"
      ]
     },
     "metadata": {},
     "output_type": "display_data"
    },
    {
     "data": {
      "text/html": [
       "<span style=\"color:blue\"> |-activation_func_2: swish</span>"
      ],
      "text/plain": [
       "<IPython.core.display.HTML object>"
      ]
     },
     "metadata": {},
     "output_type": "display_data"
    },
    {
     "data": {
      "text/html": [
       "<span style=\"color:cyan\"> |-layers: 5</span>"
      ],
      "text/plain": [
       "<IPython.core.display.HTML object>"
      ]
     },
     "metadata": {},
     "output_type": "display_data"
    },
    {
     "data": {
      "text/html": [
       "<span style=\"color:blue\"> |-learning_rate: 0.001</span>"
      ],
      "text/plain": [
       "<IPython.core.display.HTML object>"
      ]
     },
     "metadata": {},
     "output_type": "display_data"
    },
    {
     "data": {
      "text/html": [
       "<span style=\"color:cyan\"> |-tuner/bracket: 3</span>"
      ],
      "text/plain": [
       "<IPython.core.display.HTML object>"
      ]
     },
     "metadata": {},
     "output_type": "display_data"
    },
    {
     "data": {
      "text/html": [
       "<span style=\"color:blue\"> |-tuner/epochs: 17</span>"
      ],
      "text/plain": [
       "<IPython.core.display.HTML object>"
      ]
     },
     "metadata": {},
     "output_type": "display_data"
    },
    {
     "data": {
      "text/html": [
       "<span style=\"color:cyan\"> |-tuner/initial_epoch: 6</span>"
      ],
      "text/plain": [
       "<IPython.core.display.HTML object>"
      ]
     },
     "metadata": {},
     "output_type": "display_data"
    },
    {
     "data": {
      "text/html": [
       "<span style=\"color:blue\"> |-tuner/round: 2</span>"
      ],
      "text/plain": [
       "<IPython.core.display.HTML object>"
      ]
     },
     "metadata": {},
     "output_type": "display_data"
    },
    {
     "data": {
      "text/html": [
       "<span style=\"color:cyan\"> |-tuner/trial_id: dc7aa7d6155334a2a4bc4b5c428a7de1</span>"
      ],
      "text/plain": [
       "<IPython.core.display.HTML object>"
      ]
     },
     "metadata": {},
     "output_type": "display_data"
    },
    {
     "data": {
      "text/html": [
       "<span style=\"color:blue\"> |-units: 160</span>"
      ],
      "text/plain": [
       "<IPython.core.display.HTML object>"
      ]
     },
     "metadata": {},
     "output_type": "display_data"
    },
    {
     "name": "stdout",
     "output_type": "stream",
     "text": [
      "Train on 12140 samples, validate on 4515 samples\n",
      "Epoch 7/17\n",
      "12140/12140 [==============================] - ETA: 2:09 - loss: 1.0812 - accuracy: 0.56 - ETA: 5s - loss: 0.6713 - accuracy: 0.6112 - ETA: 2s - loss: 0.5320 - accuracy: 0.74 - ETA: 2s - loss: 0.4315 - accuracy: 0.81 - ETA: 1s - loss: 0.3699 - accuracy: 0.84 - ETA: 1s - loss: 0.3250 - accuracy: 0.86 - ETA: 1s - loss: 0.2913 - accuracy: 0.88 - ETA: 0s - loss: 0.2640 - accuracy: 0.89 - ETA: 0s - loss: 0.2431 - accuracy: 0.90 - ETA: 0s - loss: 0.2292 - accuracy: 0.90 - ETA: 0s - loss: 0.2208 - accuracy: 0.91 - ETA: 0s - loss: 0.2092 - accuracy: 0.92 - ETA: 0s - loss: 0.2020 - accuracy: 0.92 - ETA: 0s - loss: 0.1963 - accuracy: 0.92 - ETA: 0s - loss: 0.1904 - accuracy: 0.93 - ETA: 0s - loss: 0.1860 - accuracy: 0.93 - 1s 118us/sample - loss: 0.1848 - accuracy: 0.9365 - val_loss: 0.2709 - val_accuracy: 0.9298\n",
      "Epoch 8/17\n",
      "12140/12140 [==============================] - ETA: 1s - loss: 0.0990 - accuracy: 0.96 - ETA: 0s - loss: 0.0690 - accuracy: 0.98 - ETA: 0s - loss: 0.0742 - accuracy: 0.97 - ETA: 0s - loss: 0.0856 - accuracy: 0.97 - ETA: 0s - loss: 0.0908 - accuracy: 0.97 - ETA: 0s - loss: 0.0933 - accuracy: 0.97 - ETA: 0s - loss: 0.0967 - accuracy: 0.97 - ETA: 0s - loss: 0.0954 - accuracy: 0.97 - ETA: 0s - loss: 0.0961 - accuracy: 0.97 - ETA: 0s - loss: 0.0957 - accuracy: 0.97 - ETA: 0s - loss: 0.0929 - accuracy: 0.97 - ETA: 0s - loss: 0.0948 - accuracy: 0.97 - ETA: 0s - loss: 0.0945 - accuracy: 0.97 - ETA: 0s - loss: 0.0936 - accuracy: 0.97 - ETA: 0s - loss: 0.0915 - accuracy: 0.97 - ETA: 0s - loss: 0.0920 - accuracy: 0.97 - 1s 85us/sample - loss: 0.0919 - accuracy: 0.9776 - val_loss: 0.2713 - val_accuracy: 0.9336\n"
     ]
    },
    {
     "data": {
      "text/html": [
       "<span style=\"color:#4527A0\"><h1 style=\"font-size:18px\">Trial complete</h1></span>"
      ],
      "text/plain": [
       "<IPython.core.display.HTML object>"
      ]
     },
     "metadata": {},
     "output_type": "display_data"
    },
    {
     "data": {
      "text/html": [
       "<span style=\"color:#4527A0\"><h1 style=\"font-size:18px\">Trial summary</h1></span>"
      ],
      "text/plain": [
       "<IPython.core.display.HTML object>"
      ]
     },
     "metadata": {},
     "output_type": "display_data"
    },
    {
     "data": {
      "text/html": [
       "<span style=\"color:cyan\"> |-Trial ID: 8cdacf9835da00348746aa77f546696d</span>"
      ],
      "text/plain": [
       "<IPython.core.display.HTML object>"
      ]
     },
     "metadata": {},
     "output_type": "display_data"
    },
    {
     "data": {
      "text/html": [
       "<span style=\"color:cyan\"> |-Score: 0.9335548281669617</span>"
      ],
      "text/plain": [
       "<IPython.core.display.HTML object>"
      ]
     },
     "metadata": {},
     "output_type": "display_data"
    },
    {
     "data": {
      "text/html": [
       "<span style=\"color:cyan\"> |-Best step: 0</span>"
      ],
      "text/plain": [
       "<IPython.core.display.HTML object>"
      ]
     },
     "metadata": {},
     "output_type": "display_data"
    },
    {
     "data": {
      "text/html": [
       "<span style=\"color:#7E57C2\"><h2 style=\"font-size:16px\">Hyperparameters:</h2></span>"
      ],
      "text/plain": [
       "<IPython.core.display.HTML object>"
      ]
     },
     "metadata": {},
     "output_type": "display_data"
    },
    {
     "data": {
      "text/html": [
       "<span style=\"color:cyan\"> |-activation_func: relu</span>"
      ],
      "text/plain": [
       "<IPython.core.display.HTML object>"
      ]
     },
     "metadata": {},
     "output_type": "display_data"
    },
    {
     "data": {
      "text/html": [
       "<span style=\"color:blue\"> |-activation_func_2: tanh</span>"
      ],
      "text/plain": [
       "<IPython.core.display.HTML object>"
      ]
     },
     "metadata": {},
     "output_type": "display_data"
    },
    {
     "data": {
      "text/html": [
       "<span style=\"color:cyan\"> |-layers: 4</span>"
      ],
      "text/plain": [
       "<IPython.core.display.HTML object>"
      ]
     },
     "metadata": {},
     "output_type": "display_data"
    },
    {
     "data": {
      "text/html": [
       "<span style=\"color:blue\"> |-learning_rate: 0.0001</span>"
      ],
      "text/plain": [
       "<IPython.core.display.HTML object>"
      ]
     },
     "metadata": {},
     "output_type": "display_data"
    },
    {
     "data": {
      "text/html": [
       "<span style=\"color:cyan\"> |-tuner/bracket: 3</span>"
      ],
      "text/plain": [
       "<IPython.core.display.HTML object>"
      ]
     },
     "metadata": {},
     "output_type": "display_data"
    },
    {
     "data": {
      "text/html": [
       "<span style=\"color:blue\"> |-tuner/epochs: 17</span>"
      ],
      "text/plain": [
       "<IPython.core.display.HTML object>"
      ]
     },
     "metadata": {},
     "output_type": "display_data"
    },
    {
     "data": {
      "text/html": [
       "<span style=\"color:cyan\"> |-tuner/initial_epoch: 6</span>"
      ],
      "text/plain": [
       "<IPython.core.display.HTML object>"
      ]
     },
     "metadata": {},
     "output_type": "display_data"
    },
    {
     "data": {
      "text/html": [
       "<span style=\"color:blue\"> |-tuner/round: 2</span>"
      ],
      "text/plain": [
       "<IPython.core.display.HTML object>"
      ]
     },
     "metadata": {},
     "output_type": "display_data"
    },
    {
     "data": {
      "text/html": [
       "<span style=\"color:cyan\"> |-tuner/trial_id: dc00af6fa89ea201bb2a6a7ca86b100d</span>"
      ],
      "text/plain": [
       "<IPython.core.display.HTML object>"
      ]
     },
     "metadata": {},
     "output_type": "display_data"
    },
    {
     "data": {
      "text/html": [
       "<span style=\"color:blue\"> |-units: 240</span>"
      ],
      "text/plain": [
       "<IPython.core.display.HTML object>"
      ]
     },
     "metadata": {},
     "output_type": "display_data"
    },
    {
     "name": "stdout",
     "output_type": "stream",
     "text": [
      "Train on 12140 samples, validate on 4515 samples\n",
      "Epoch 18/50\n",
      "12140/12140 [==============================] - ETA: 1:49 - loss: 7.4287 - accuracy: 0.43 - ETA: 4s - loss: 0.9059 - accuracy: 0.8858 - ETA: 2s - loss: 0.6148 - accuracy: 0.93 - ETA: 1s - loss: 0.5322 - accuracy: 0.94 - ETA: 1s - loss: 0.5590 - accuracy: 0.94 - ETA: 0s - loss: 0.5787 - accuracy: 0.94 - ETA: 0s - loss: 0.6498 - accuracy: 0.94 - ETA: 0s - loss: 0.6648 - accuracy: 0.94 - ETA: 0s - loss: 0.6487 - accuracy: 0.94 - ETA: 0s - loss: 0.6391 - accuracy: 0.94 - ETA: 0s - loss: 0.6196 - accuracy: 0.95 - ETA: 0s - loss: 0.5996 - accuracy: 0.95 - ETA: 0s - loss: 0.5757 - accuracy: 0.95 - ETA: 0s - loss: 0.5725 - accuracy: 0.95 - 1s 102us/sample - loss: 0.5730 - accuracy: 0.9558 - val_loss: 1.6125 - val_accuracy: 0.8899\n",
      "Epoch 19/50\n",
      "12140/12140 [==============================] - ETA: 1s - loss: 0.4765 - accuracy: 0.96 - ETA: 0s - loss: 0.5733 - accuracy: 0.96 - ETA: 0s - loss: 0.5269 - accuracy: 0.96 - ETA: 0s - loss: 0.4849 - accuracy: 0.96 - ETA: 0s - loss: 0.4836 - accuracy: 0.96 - ETA: 0s - loss: 0.4874 - accuracy: 0.96 - ETA: 0s - loss: 0.5601 - accuracy: 0.96 - ETA: 0s - loss: 0.6073 - accuracy: 0.95 - ETA: 0s - loss: 0.6283 - accuracy: 0.95 - ETA: 0s - loss: 0.6587 - accuracy: 0.95 - ETA: 0s - loss: 0.6797 - accuracy: 0.95 - ETA: 0s - loss: 0.6883 - accuracy: 0.95 - ETA: 0s - loss: 0.6914 - accuracy: 0.95 - ETA: 0s - loss: 0.6884 - accuracy: 0.95 - 1s 71us/sample - loss: 0.6925 - accuracy: 0.9536 - val_loss: 2.5696 - val_accuracy: 0.8270\n"
     ]
    },
    {
     "data": {
      "text/html": [
       "<span style=\"color:#4527A0\"><h1 style=\"font-size:18px\">Trial complete</h1></span>"
      ],
      "text/plain": [
       "<IPython.core.display.HTML object>"
      ]
     },
     "metadata": {},
     "output_type": "display_data"
    },
    {
     "data": {
      "text/html": [
       "<span style=\"color:#4527A0\"><h1 style=\"font-size:18px\">Trial summary</h1></span>"
      ],
      "text/plain": [
       "<IPython.core.display.HTML object>"
      ]
     },
     "metadata": {},
     "output_type": "display_data"
    },
    {
     "data": {
      "text/html": [
       "<span style=\"color:cyan\"> |-Trial ID: 35c31da0b89c550209b8f5f4bdd2487f</span>"
      ],
      "text/plain": [
       "<IPython.core.display.HTML object>"
      ]
     },
     "metadata": {},
     "output_type": "display_data"
    },
    {
     "data": {
      "text/html": [
       "<span style=\"color:cyan\"> |-Score: 0.8899224996566772</span>"
      ],
      "text/plain": [
       "<IPython.core.display.HTML object>"
      ]
     },
     "metadata": {},
     "output_type": "display_data"
    },
    {
     "data": {
      "text/html": [
       "<span style=\"color:cyan\"> |-Best step: 0</span>"
      ],
      "text/plain": [
       "<IPython.core.display.HTML object>"
      ]
     },
     "metadata": {},
     "output_type": "display_data"
    },
    {
     "data": {
      "text/html": [
       "<span style=\"color:#7E57C2\"><h2 style=\"font-size:16px\">Hyperparameters:</h2></span>"
      ],
      "text/plain": [
       "<IPython.core.display.HTML object>"
      ]
     },
     "metadata": {},
     "output_type": "display_data"
    },
    {
     "data": {
      "text/html": [
       "<span style=\"color:cyan\"> |-activation_func: relu</span>"
      ],
      "text/plain": [
       "<IPython.core.display.HTML object>"
      ]
     },
     "metadata": {},
     "output_type": "display_data"
    },
    {
     "data": {
      "text/html": [
       "<span style=\"color:blue\"> |-activation_func_2: relu</span>"
      ],
      "text/plain": [
       "<IPython.core.display.HTML object>"
      ]
     },
     "metadata": {},
     "output_type": "display_data"
    },
    {
     "data": {
      "text/html": [
       "<span style=\"color:cyan\"> |-layers: 2</span>"
      ],
      "text/plain": [
       "<IPython.core.display.HTML object>"
      ]
     },
     "metadata": {},
     "output_type": "display_data"
    },
    {
     "data": {
      "text/html": [
       "<span style=\"color:blue\"> |-learning_rate: 0.01</span>"
      ],
      "text/plain": [
       "<IPython.core.display.HTML object>"
      ]
     },
     "metadata": {},
     "output_type": "display_data"
    },
    {
     "data": {
      "text/html": [
       "<span style=\"color:cyan\"> |-tuner/bracket: 3</span>"
      ],
      "text/plain": [
       "<IPython.core.display.HTML object>"
      ]
     },
     "metadata": {},
     "output_type": "display_data"
    },
    {
     "data": {
      "text/html": [
       "<span style=\"color:blue\"> |-tuner/epochs: 50</span>"
      ],
      "text/plain": [
       "<IPython.core.display.HTML object>"
      ]
     },
     "metadata": {},
     "output_type": "display_data"
    },
    {
     "data": {
      "text/html": [
       "<span style=\"color:cyan\"> |-tuner/initial_epoch: 17</span>"
      ],
      "text/plain": [
       "<IPython.core.display.HTML object>"
      ]
     },
     "metadata": {},
     "output_type": "display_data"
    },
    {
     "data": {
      "text/html": [
       "<span style=\"color:blue\"> |-tuner/round: 3</span>"
      ],
      "text/plain": [
       "<IPython.core.display.HTML object>"
      ]
     },
     "metadata": {},
     "output_type": "display_data"
    },
    {
     "data": {
      "text/html": [
       "<span style=\"color:cyan\"> |-tuner/trial_id: 37319fd8f1b8967de2e8552858330d58</span>"
      ],
      "text/plain": [
       "<IPython.core.display.HTML object>"
      ]
     },
     "metadata": {},
     "output_type": "display_data"
    },
    {
     "data": {
      "text/html": [
       "<span style=\"color:blue\"> |-units: 64</span>"
      ],
      "text/plain": [
       "<IPython.core.display.HTML object>"
      ]
     },
     "metadata": {},
     "output_type": "display_data"
    },
    {
     "name": "stdout",
     "output_type": "stream",
     "text": [
      "Train on 12140 samples, validate on 4515 samples\n",
      "Epoch 18/50\n",
      "12140/12140 [==============================] - ETA: 2:06 - loss: 10.1226 - accuracy: 0.343 - ETA: 5s - loss: 4.2080 - accuracy: 0.4615  - ETA: 2s - loss: 2.5642 - accuracy: 0.45 - ETA: 2s - loss: 2.0144 - accuracy: 0.47 - ETA: 1s - loss: 1.6967 - accuracy: 0.50 - ETA: 1s - loss: 1.4330 - accuracy: 0.55 - ETA: 1s - loss: 1.2508 - accuracy: 0.60 - ETA: 0s - loss: 1.1229 - accuracy: 0.64 - ETA: 0s - loss: 1.0045 - accuracy: 0.67 - ETA: 0s - loss: 0.9099 - accuracy: 0.70 - ETA: 0s - loss: 0.8287 - accuracy: 0.73 - ETA: 0s - loss: 0.7634 - accuracy: 0.75 - ETA: 0s - loss: 0.7093 - accuracy: 0.77 - ETA: 0s - loss: 0.6633 - accuracy: 0.79 - ETA: 0s - loss: 0.6244 - accuracy: 0.80 - ETA: 0s - loss: 0.5878 - accuracy: 0.81 - 1s 118us/sample - loss: 0.5792 - accuracy: 0.8197 - val_loss: 0.2780 - val_accuracy: 0.9378\n",
      "Epoch 19/50\n",
      "12140/12140 [==============================] - ETA: 1s - loss: 0.1157 - accuracy: 0.93 - ETA: 0s - loss: 0.0851 - accuracy: 0.97 - ETA: 0s - loss: 0.0974 - accuracy: 0.97 - ETA: 0s - loss: 0.0980 - accuracy: 0.97 - ETA: 0s - loss: 0.0948 - accuracy: 0.97 - ETA: 0s - loss: 0.1033 - accuracy: 0.97 - ETA: 0s - loss: 0.1095 - accuracy: 0.97 - ETA: 0s - loss: 0.1073 - accuracy: 0.97 - ETA: 0s - loss: 0.1023 - accuracy: 0.97 - ETA: 0s - loss: 0.1026 - accuracy: 0.97 - ETA: 0s - loss: 0.0984 - accuracy: 0.97 - ETA: 0s - loss: 0.0964 - accuracy: 0.97 - ETA: 0s - loss: 0.0985 - accuracy: 0.97 - ETA: 0s - loss: 0.1006 - accuracy: 0.97 - ETA: 0s - loss: 0.1060 - accuracy: 0.97 - ETA: 0s - loss: 0.1078 - accuracy: 0.97 - 1s 79us/sample - loss: 0.1077 - accuracy: 0.9720 - val_loss: 0.3509 - val_accuracy: 0.9189\n"
     ]
    },
    {
     "data": {
      "text/html": [
       "<span style=\"color:#4527A0\"><h1 style=\"font-size:18px\">Trial complete</h1></span>"
      ],
      "text/plain": [
       "<IPython.core.display.HTML object>"
      ]
     },
     "metadata": {},
     "output_type": "display_data"
    },
    {
     "data": {
      "text/html": [
       "<span style=\"color:#4527A0\"><h1 style=\"font-size:18px\">Trial summary</h1></span>"
      ],
      "text/plain": [
       "<IPython.core.display.HTML object>"
      ]
     },
     "metadata": {},
     "output_type": "display_data"
    },
    {
     "data": {
      "text/html": [
       "<span style=\"color:cyan\"> |-Trial ID: 1d86c47b9193449e6bbb70d32db02280</span>"
      ],
      "text/plain": [
       "<IPython.core.display.HTML object>"
      ]
     },
     "metadata": {},
     "output_type": "display_data"
    },
    {
     "data": {
      "text/html": [
       "<span style=\"color:cyan\"> |-Score: 0.9377630352973938</span>"
      ],
      "text/plain": [
       "<IPython.core.display.HTML object>"
      ]
     },
     "metadata": {},
     "output_type": "display_data"
    },
    {
     "data": {
      "text/html": [
       "<span style=\"color:cyan\"> |-Best step: 0</span>"
      ],
      "text/plain": [
       "<IPython.core.display.HTML object>"
      ]
     },
     "metadata": {},
     "output_type": "display_data"
    },
    {
     "data": {
      "text/html": [
       "<span style=\"color:#7E57C2\"><h2 style=\"font-size:16px\">Hyperparameters:</h2></span>"
      ],
      "text/plain": [
       "<IPython.core.display.HTML object>"
      ]
     },
     "metadata": {},
     "output_type": "display_data"
    },
    {
     "data": {
      "text/html": [
       "<span style=\"color:cyan\"> |-activation_func: relu</span>"
      ],
      "text/plain": [
       "<IPython.core.display.HTML object>"
      ]
     },
     "metadata": {},
     "output_type": "display_data"
    },
    {
     "data": {
      "text/html": [
       "<span style=\"color:blue\"> |-activation_func_2: tanh</span>"
      ],
      "text/plain": [
       "<IPython.core.display.HTML object>"
      ]
     },
     "metadata": {},
     "output_type": "display_data"
    },
    {
     "data": {
      "text/html": [
       "<span style=\"color:cyan\"> |-layers: 4</span>"
      ],
      "text/plain": [
       "<IPython.core.display.HTML object>"
      ]
     },
     "metadata": {},
     "output_type": "display_data"
    },
    {
     "data": {
      "text/html": [
       "<span style=\"color:blue\"> |-learning_rate: 0.0001</span>"
      ],
      "text/plain": [
       "<IPython.core.display.HTML object>"
      ]
     },
     "metadata": {},
     "output_type": "display_data"
    },
    {
     "data": {
      "text/html": [
       "<span style=\"color:cyan\"> |-tuner/bracket: 3</span>"
      ],
      "text/plain": [
       "<IPython.core.display.HTML object>"
      ]
     },
     "metadata": {},
     "output_type": "display_data"
    },
    {
     "data": {
      "text/html": [
       "<span style=\"color:blue\"> |-tuner/epochs: 50</span>"
      ],
      "text/plain": [
       "<IPython.core.display.HTML object>"
      ]
     },
     "metadata": {},
     "output_type": "display_data"
    },
    {
     "data": {
      "text/html": [
       "<span style=\"color:cyan\"> |-tuner/initial_epoch: 17</span>"
      ],
      "text/plain": [
       "<IPython.core.display.HTML object>"
      ]
     },
     "metadata": {},
     "output_type": "display_data"
    },
    {
     "data": {
      "text/html": [
       "<span style=\"color:blue\"> |-tuner/round: 3</span>"
      ],
      "text/plain": [
       "<IPython.core.display.HTML object>"
      ]
     },
     "metadata": {},
     "output_type": "display_data"
    },
    {
     "data": {
      "text/html": [
       "<span style=\"color:cyan\"> |-tuner/trial_id: 8cdacf9835da00348746aa77f546696d</span>"
      ],
      "text/plain": [
       "<IPython.core.display.HTML object>"
      ]
     },
     "metadata": {},
     "output_type": "display_data"
    },
    {
     "data": {
      "text/html": [
       "<span style=\"color:blue\"> |-units: 240</span>"
      ],
      "text/plain": [
       "<IPython.core.display.HTML object>"
      ]
     },
     "metadata": {},
     "output_type": "display_data"
    },
    {
     "name": "stdout",
     "output_type": "stream",
     "text": [
      "Train on 12140 samples, validate on 4515 samples\n",
      "Epoch 1/6\n",
      "12140/12140 [==============================] - ETA: 2:25 - loss: 10.6197 - accuracy: 0.312 - ETA: 6s - loss: 1.3372 - accuracy: 0.8100  - ETA: 3s - loss: 0.7930 - accuracy: 0.87 - ETA: 2s - loss: 0.6121 - accuracy: 0.89 - ETA: 1s - loss: 0.5091 - accuracy: 0.90 - ETA: 1s - loss: 0.4439 - accuracy: 0.91 - ETA: 1s - loss: 0.4069 - accuracy: 0.92 - ETA: 0s - loss: 0.3658 - accuracy: 0.93 - ETA: 0s - loss: 0.4101 - accuracy: 0.92 - ETA: 0s - loss: 0.3937 - accuracy: 0.92 - ETA: 0s - loss: 0.3663 - accuracy: 0.92 - ETA: 0s - loss: 0.3411 - accuracy: 0.93 - ETA: 0s - loss: 0.3256 - accuracy: 0.93 - ETA: 0s - loss: 0.3075 - accuracy: 0.94 - ETA: 0s - loss: 0.2917 - accuracy: 0.94 - ETA: 0s - loss: 0.2780 - accuracy: 0.94 - 1s 123us/sample - loss: 0.2738 - accuracy: 0.9456 - val_loss: 0.2960 - val_accuracy: 0.9313\n",
      "Epoch 2/6\n",
      "12140/12140 [==============================] - ETA: 1s - loss: 0.0160 - accuracy: 1.00 - ETA: 0s - loss: 0.1486 - accuracy: 0.96 - ETA: 0s - loss: 0.1509 - accuracy: 0.96 - ETA: 0s - loss: 0.1414 - accuracy: 0.97 - ETA: 0s - loss: 0.1473 - accuracy: 0.97 - ETA: 0s - loss: 0.1311 - accuracy: 0.97 - ETA: 0s - loss: 0.1257 - accuracy: 0.97 - ETA: 0s - loss: 0.1219 - accuracy: 0.97 - ETA: 0s - loss: 0.1221 - accuracy: 0.97 - ETA: 0s - loss: 0.1235 - accuracy: 0.97 - ETA: 0s - loss: 0.1266 - accuracy: 0.97 - ETA: 0s - loss: 0.1221 - accuracy: 0.97 - ETA: 0s - loss: 0.1228 - accuracy: 0.97 - ETA: 0s - loss: 0.1211 - accuracy: 0.97 - ETA: 0s - loss: 0.1159 - accuracy: 0.97 - ETA: 0s - loss: 0.1116 - accuracy: 0.97 - 1s 85us/sample - loss: 0.1107 - accuracy: 0.9752 - val_loss: 0.2748 - val_accuracy: 0.9395\n",
      "Epoch 3/6\n",
      "12140/12140 [==============================] - ETA: 1s - loss: 0.1183 - accuracy: 0.96 - ETA: 0s - loss: 0.0741 - accuracy: 0.98 - ETA: 0s - loss: 0.1029 - accuracy: 0.97 - ETA: 0s - loss: 0.0872 - accuracy: 0.97 - ETA: 0s - loss: 0.0935 - accuracy: 0.97 - ETA: 0s - loss: 0.0943 - accuracy: 0.97 - ETA: 0s - loss: 0.0957 - accuracy: 0.97 - ETA: 0s - loss: 0.0982 - accuracy: 0.97 - ETA: 0s - loss: 0.1011 - accuracy: 0.97 - ETA: 0s - loss: 0.1071 - accuracy: 0.97 - ETA: 0s - loss: 0.1030 - accuracy: 0.97 - ETA: 0s - loss: 0.1081 - accuracy: 0.97 - ETA: 0s - loss: 0.1413 - accuracy: 0.96 - ETA: 0s - loss: 0.1879 - accuracy: 0.95 - ETA: 0s - loss: 0.1897 - accuracy: 0.95 - ETA: 0s - loss: 0.1842 - accuracy: 0.95 - 1s 87us/sample - loss: 0.1832 - accuracy: 0.9586 - val_loss: 0.2738 - val_accuracy: 0.9420\n",
      "Epoch 4/6\n",
      "12140/12140 [==============================] - ETA: 1s - loss: 0.0177 - accuracy: 1.00 - ETA: 0s - loss: 0.0693 - accuracy: 0.97 - ETA: 0s - loss: 0.0975 - accuracy: 0.97 - ETA: 0s - loss: 0.0997 - accuracy: 0.97 - ETA: 0s - loss: 0.1179 - accuracy: 0.96 - ETA: 0s - loss: 0.1099 - accuracy: 0.96 - ETA: 0s - loss: 0.1132 - accuracy: 0.96 - ETA: 0s - loss: 0.1209 - accuracy: 0.96 - ETA: 0s - loss: 0.1187 - accuracy: 0.96 - ETA: 0s - loss: 0.1284 - accuracy: 0.96 - ETA: 0s - loss: 0.1240 - accuracy: 0.96 - ETA: 0s - loss: 0.1216 - accuracy: 0.96 - ETA: 0s - loss: 0.1257 - accuracy: 0.96 - ETA: 0s - loss: 0.1236 - accuracy: 0.96 - ETA: 0s - loss: 0.1202 - accuracy: 0.96 - ETA: 0s - loss: 0.1198 - accuracy: 0.97 - 1s 83us/sample - loss: 0.1175 - accuracy: 0.9708 - val_loss: 0.2883 - val_accuracy: 0.9340\n"
     ]
    },
    {
     "data": {
      "text/html": [
       "<span style=\"color:#4527A0\"><h1 style=\"font-size:18px\">Trial complete</h1></span>"
      ],
      "text/plain": [
       "<IPython.core.display.HTML object>"
      ]
     },
     "metadata": {},
     "output_type": "display_data"
    },
    {
     "data": {
      "text/html": [
       "<span style=\"color:#4527A0\"><h1 style=\"font-size:18px\">Trial summary</h1></span>"
      ],
      "text/plain": [
       "<IPython.core.display.HTML object>"
      ]
     },
     "metadata": {},
     "output_type": "display_data"
    },
    {
     "data": {
      "text/html": [
       "<span style=\"color:cyan\"> |-Trial ID: 000bc6da8d99e4f6f29fe94acd572025</span>"
      ],
      "text/plain": [
       "<IPython.core.display.HTML object>"
      ]
     },
     "metadata": {},
     "output_type": "display_data"
    },
    {
     "data": {
      "text/html": [
       "<span style=\"color:cyan\"> |-Score: 0.9419711828231812</span>"
      ],
      "text/plain": [
       "<IPython.core.display.HTML object>"
      ]
     },
     "metadata": {},
     "output_type": "display_data"
    },
    {
     "data": {
      "text/html": [
       "<span style=\"color:cyan\"> |-Best step: 0</span>"
      ],
      "text/plain": [
       "<IPython.core.display.HTML object>"
      ]
     },
     "metadata": {},
     "output_type": "display_data"
    },
    {
     "data": {
      "text/html": [
       "<span style=\"color:#7E57C2\"><h2 style=\"font-size:16px\">Hyperparameters:</h2></span>"
      ],
      "text/plain": [
       "<IPython.core.display.HTML object>"
      ]
     },
     "metadata": {},
     "output_type": "display_data"
    },
    {
     "data": {
      "text/html": [
       "<span style=\"color:cyan\"> |-activation_func: swish</span>"
      ],
      "text/plain": [
       "<IPython.core.display.HTML object>"
      ]
     },
     "metadata": {},
     "output_type": "display_data"
    },
    {
     "data": {
      "text/html": [
       "<span style=\"color:blue\"> |-activation_func_2: tanh</span>"
      ],
      "text/plain": [
       "<IPython.core.display.HTML object>"
      ]
     },
     "metadata": {},
     "output_type": "display_data"
    },
    {
     "data": {
      "text/html": [
       "<span style=\"color:cyan\"> |-layers: 4</span>"
      ],
      "text/plain": [
       "<IPython.core.display.HTML object>"
      ]
     },
     "metadata": {},
     "output_type": "display_data"
    },
    {
     "data": {
      "text/html": [
       "<span style=\"color:blue\"> |-learning_rate: 0.001</span>"
      ],
      "text/plain": [
       "<IPython.core.display.HTML object>"
      ]
     },
     "metadata": {},
     "output_type": "display_data"
    },
    {
     "data": {
      "text/html": [
       "<span style=\"color:cyan\"> |-tuner/bracket: 2</span>"
      ],
      "text/plain": [
       "<IPython.core.display.HTML object>"
      ]
     },
     "metadata": {},
     "output_type": "display_data"
    },
    {
     "data": {
      "text/html": [
       "<span style=\"color:blue\"> |-tuner/epochs: 6</span>"
      ],
      "text/plain": [
       "<IPython.core.display.HTML object>"
      ]
     },
     "metadata": {},
     "output_type": "display_data"
    },
    {
     "data": {
      "text/html": [
       "<span style=\"color:cyan\"> |-tuner/initial_epoch: 0</span>"
      ],
      "text/plain": [
       "<IPython.core.display.HTML object>"
      ]
     },
     "metadata": {},
     "output_type": "display_data"
    },
    {
     "data": {
      "text/html": [
       "<span style=\"color:blue\"> |-tuner/round: 0</span>"
      ],
      "text/plain": [
       "<IPython.core.display.HTML object>"
      ]
     },
     "metadata": {},
     "output_type": "display_data"
    },
    {
     "data": {
      "text/html": [
       "<span style=\"color:cyan\"> |-units: 240</span>"
      ],
      "text/plain": [
       "<IPython.core.display.HTML object>"
      ]
     },
     "metadata": {},
     "output_type": "display_data"
    },
    {
     "name": "stdout",
     "output_type": "stream",
     "text": [
      "Train on 12140 samples, validate on 4515 samples\n",
      "Epoch 1/6\n",
      "12140/12140 [==============================] - ETA: 2:04 - loss: 4.3372 - accuracy: 0.53 - ETA: 5s - loss: 3.8147 - accuracy: 0.4868 - ETA: 2s - loss: 2.9288 - accuracy: 0.56 - ETA: 1s - loss: 2.4020 - accuracy: 0.63 - ETA: 1s - loss: 2.0490 - accuracy: 0.67 - ETA: 1s - loss: 1.7903 - accuracy: 0.70 - ETA: 0s - loss: 1.5897 - accuracy: 0.73 - ETA: 0s - loss: 1.4631 - accuracy: 0.75 - ETA: 0s - loss: 1.3553 - accuracy: 0.76 - ETA: 0s - loss: 1.2776 - accuracy: 0.77 - ETA: 0s - loss: 1.2061 - accuracy: 0.78 - ETA: 0s - loss: 1.1372 - accuracy: 0.80 - ETA: 0s - loss: 1.0811 - accuracy: 0.80 - ETA: 0s - loss: 1.0379 - accuracy: 0.81 - ETA: 0s - loss: 0.9924 - accuracy: 0.82 - 1s 112us/sample - loss: 0.9828 - accuracy: 0.8256 - val_loss: 0.9827 - val_accuracy: 0.7019\n",
      "Epoch 2/6\n",
      "12140/12140 [==============================] - ETA: 1s - loss: 0.2040 - accuracy: 0.90 - ETA: 0s - loss: 0.3136 - accuracy: 0.90 - ETA: 0s - loss: 0.3152 - accuracy: 0.91 - ETA: 0s - loss: 0.3224 - accuracy: 0.92 - ETA: 0s - loss: 0.3408 - accuracy: 0.92 - ETA: 0s - loss: 0.3433 - accuracy: 0.92 - ETA: 0s - loss: 0.3395 - accuracy: 0.92 - ETA: 0s - loss: 0.3328 - accuracy: 0.92 - ETA: 0s - loss: 0.3221 - accuracy: 0.92 - ETA: 0s - loss: 0.3065 - accuracy: 0.92 - ETA: 0s - loss: 0.3055 - accuracy: 0.92 - ETA: 0s - loss: 0.3007 - accuracy: 0.93 - ETA: 0s - loss: 0.2981 - accuracy: 0.93 - ETA: 0s - loss: 0.2925 - accuracy: 0.93 - ETA: 0s - loss: 0.2954 - accuracy: 0.93 - 1s 78us/sample - loss: 0.2929 - accuracy: 0.9356 - val_loss: 0.5245 - val_accuracy: 0.8352\n",
      "Epoch 3/6\n",
      "12140/12140 [==============================] - ETA: 1s - loss: 0.1242 - accuracy: 0.93 - ETA: 0s - loss: 0.2319 - accuracy: 0.96 - ETA: 0s - loss: 0.2340 - accuracy: 0.96 - ETA: 0s - loss: 0.2152 - accuracy: 0.96 - ETA: 0s - loss: 0.2086 - accuracy: 0.96 - ETA: 0s - loss: 0.2018 - accuracy: 0.95 - ETA: 0s - loss: 0.2171 - accuracy: 0.94 - ETA: 0s - loss: 0.2122 - accuracy: 0.94 - ETA: 0s - loss: 0.2126 - accuracy: 0.95 - ETA: 0s - loss: 0.2175 - accuracy: 0.95 - ETA: 0s - loss: 0.2264 - accuracy: 0.95 - ETA: 0s - loss: 0.2246 - accuracy: 0.94 - ETA: 0s - loss: 0.2190 - accuracy: 0.95 - ETA: 0s - loss: 0.2148 - accuracy: 0.95 - ETA: 0s - loss: 0.2100 - accuracy: 0.95 - 1s 82us/sample - loss: 0.2122 - accuracy: 0.9535 - val_loss: 0.5455 - val_accuracy: 0.8864\n"
     ]
    },
    {
     "data": {
      "text/html": [
       "<span style=\"color:#4527A0\"><h1 style=\"font-size:18px\">Trial complete</h1></span>"
      ],
      "text/plain": [
       "<IPython.core.display.HTML object>"
      ]
     },
     "metadata": {},
     "output_type": "display_data"
    },
    {
     "data": {
      "text/html": [
       "<span style=\"color:#4527A0\"><h1 style=\"font-size:18px\">Trial summary</h1></span>"
      ],
      "text/plain": [
       "<IPython.core.display.HTML object>"
      ]
     },
     "metadata": {},
     "output_type": "display_data"
    },
    {
     "data": {
      "text/html": [
       "<span style=\"color:cyan\"> |-Trial ID: 31fa6ee6876c978e1e95197b7e1169a7</span>"
      ],
      "text/plain": [
       "<IPython.core.display.HTML object>"
      ]
     },
     "metadata": {},
     "output_type": "display_data"
    },
    {
     "data": {
      "text/html": [
       "<span style=\"color:cyan\"> |-Score: 0.8863787651062012</span>"
      ],
      "text/plain": [
       "<IPython.core.display.HTML object>"
      ]
     },
     "metadata": {},
     "output_type": "display_data"
    },
    {
     "data": {
      "text/html": [
       "<span style=\"color:cyan\"> |-Best step: 0</span>"
      ],
      "text/plain": [
       "<IPython.core.display.HTML object>"
      ]
     },
     "metadata": {},
     "output_type": "display_data"
    },
    {
     "data": {
      "text/html": [
       "<span style=\"color:#7E57C2\"><h2 style=\"font-size:16px\">Hyperparameters:</h2></span>"
      ],
      "text/plain": [
       "<IPython.core.display.HTML object>"
      ]
     },
     "metadata": {},
     "output_type": "display_data"
    },
    {
     "data": {
      "text/html": [
       "<span style=\"color:cyan\"> |-activation_func: tanh</span>"
      ],
      "text/plain": [
       "<IPython.core.display.HTML object>"
      ]
     },
     "metadata": {},
     "output_type": "display_data"
    },
    {
     "data": {
      "text/html": [
       "<span style=\"color:blue\"> |-activation_func_2: swish</span>"
      ],
      "text/plain": [
       "<IPython.core.display.HTML object>"
      ]
     },
     "metadata": {},
     "output_type": "display_data"
    },
    {
     "data": {
      "text/html": [
       "<span style=\"color:cyan\"> |-layers: 3</span>"
      ],
      "text/plain": [
       "<IPython.core.display.HTML object>"
      ]
     },
     "metadata": {},
     "output_type": "display_data"
    },
    {
     "data": {
      "text/html": [
       "<span style=\"color:blue\"> |-learning_rate: 0.0001</span>"
      ],
      "text/plain": [
       "<IPython.core.display.HTML object>"
      ]
     },
     "metadata": {},
     "output_type": "display_data"
    },
    {
     "data": {
      "text/html": [
       "<span style=\"color:cyan\"> |-tuner/bracket: 2</span>"
      ],
      "text/plain": [
       "<IPython.core.display.HTML object>"
      ]
     },
     "metadata": {},
     "output_type": "display_data"
    },
    {
     "data": {
      "text/html": [
       "<span style=\"color:blue\"> |-tuner/epochs: 6</span>"
      ],
      "text/plain": [
       "<IPython.core.display.HTML object>"
      ]
     },
     "metadata": {},
     "output_type": "display_data"
    },
    {
     "data": {
      "text/html": [
       "<span style=\"color:cyan\"> |-tuner/initial_epoch: 0</span>"
      ],
      "text/plain": [
       "<IPython.core.display.HTML object>"
      ]
     },
     "metadata": {},
     "output_type": "display_data"
    },
    {
     "data": {
      "text/html": [
       "<span style=\"color:blue\"> |-tuner/round: 0</span>"
      ],
      "text/plain": [
       "<IPython.core.display.HTML object>"
      ]
     },
     "metadata": {},
     "output_type": "display_data"
    },
    {
     "data": {
      "text/html": [
       "<span style=\"color:cyan\"> |-units: 160</span>"
      ],
      "text/plain": [
       "<IPython.core.display.HTML object>"
      ]
     },
     "metadata": {},
     "output_type": "display_data"
    },
    {
     "name": "stdout",
     "output_type": "stream",
     "text": [
      "Train on 12140 samples, validate on 4515 samples\n",
      "Epoch 1/6\n",
      "12140/12140 [==============================] - ETA: 2:40 - loss: 6.2329 - accuracy: 0.40 - ETA: 7s - loss: 0.6646 - accuracy: 0.8438 - ETA: 3s - loss: 0.4509 - accuracy: 0.90 - ETA: 2s - loss: 0.3881 - accuracy: 0.92 - ETA: 1s - loss: 0.3233 - accuracy: 0.93 - ETA: 1s - loss: 0.3102 - accuracy: 0.94 - ETA: 1s - loss: 0.2906 - accuracy: 0.94 - ETA: 1s - loss: 0.2835 - accuracy: 0.95 - ETA: 0s - loss: 0.2748 - accuracy: 0.95 - ETA: 0s - loss: 0.2522 - accuracy: 0.95 - ETA: 0s - loss: 0.2381 - accuracy: 0.95 - ETA: 0s - loss: 0.2420 - accuracy: 0.96 - ETA: 0s - loss: 0.2347 - accuracy: 0.96 - ETA: 0s - loss: 0.2350 - accuracy: 0.96 - ETA: 0s - loss: 0.2290 - accuracy: 0.96 - ETA: 0s - loss: 0.2251 - accuracy: 0.96 - ETA: 0s - loss: 0.2215 - accuracy: 0.96 - 2s 131us/sample - loss: 0.2181 - accuracy: 0.9656 - val_loss: 0.2736 - val_accuracy: 0.9442\n",
      "Epoch 2/6\n",
      "12140/12140 [==============================] - ETA: 1s - loss: 0.1271 - accuracy: 0.96 - ETA: 0s - loss: 0.1872 - accuracy: 0.97 - ETA: 0s - loss: 0.1414 - accuracy: 0.97 - ETA: 0s - loss: 0.1263 - accuracy: 0.98 - ETA: 0s - loss: 0.1396 - accuracy: 0.98 - ETA: 0s - loss: 0.1623 - accuracy: 0.97 - ETA: 0s - loss: 0.1474 - accuracy: 0.97 - ETA: 0s - loss: 0.1508 - accuracy: 0.97 - ETA: 0s - loss: 0.1522 - accuracy: 0.97 - ETA: 0s - loss: 0.2011 - accuracy: 0.97 - ETA: 0s - loss: 0.2270 - accuracy: 0.97 - ETA: 0s - loss: 0.2834 - accuracy: 0.96 - ETA: 0s - loss: 0.6878 - accuracy: 0.94 - ETA: 0s - loss: 1.1413 - accuracy: 0.91 - ETA: 0s - loss: 1.5593 - accuracy: 0.88 - ETA: 0s - loss: 1.8962 - accuracy: 0.86 - ETA: 0s - loss: 2.1974 - accuracy: 0.84 - 1s 86us/sample - loss: 2.2908 - accuracy: 0.8405 - val_loss: 5.9599 - val_accuracy: 0.6053\n"
     ]
    },
    {
     "data": {
      "text/html": [
       "<span style=\"color:#4527A0\"><h1 style=\"font-size:18px\">Trial complete</h1></span>"
      ],
      "text/plain": [
       "<IPython.core.display.HTML object>"
      ]
     },
     "metadata": {},
     "output_type": "display_data"
    },
    {
     "data": {
      "text/html": [
       "<span style=\"color:#4527A0\"><h1 style=\"font-size:18px\">Trial summary</h1></span>"
      ],
      "text/plain": [
       "<IPython.core.display.HTML object>"
      ]
     },
     "metadata": {},
     "output_type": "display_data"
    },
    {
     "data": {
      "text/html": [
       "<span style=\"color:cyan\"> |-Trial ID: da01e008dc3f90945b42a63a348e6ef5</span>"
      ],
      "text/plain": [
       "<IPython.core.display.HTML object>"
      ]
     },
     "metadata": {},
     "output_type": "display_data"
    },
    {
     "data": {
      "text/html": [
       "<span style=\"color:cyan\"> |-Score: 0.9441860318183899</span>"
      ],
      "text/plain": [
       "<IPython.core.display.HTML object>"
      ]
     },
     "metadata": {},
     "output_type": "display_data"
    },
    {
     "data": {
      "text/html": [
       "<span style=\"color:cyan\"> |-Best step: 0</span>"
      ],
      "text/plain": [
       "<IPython.core.display.HTML object>"
      ]
     },
     "metadata": {},
     "output_type": "display_data"
    },
    {
     "data": {
      "text/html": [
       "<span style=\"color:#7E57C2\"><h2 style=\"font-size:16px\">Hyperparameters:</h2></span>"
      ],
      "text/plain": [
       "<IPython.core.display.HTML object>"
      ]
     },
     "metadata": {},
     "output_type": "display_data"
    },
    {
     "data": {
      "text/html": [
       "<span style=\"color:cyan\"> |-activation_func: swish</span>"
      ],
      "text/plain": [
       "<IPython.core.display.HTML object>"
      ]
     },
     "metadata": {},
     "output_type": "display_data"
    },
    {
     "data": {
      "text/html": [
       "<span style=\"color:blue\"> |-activation_func_2: tanh</span>"
      ],
      "text/plain": [
       "<IPython.core.display.HTML object>"
      ]
     },
     "metadata": {},
     "output_type": "display_data"
    },
    {
     "data": {
      "text/html": [
       "<span style=\"color:cyan\"> |-layers: 5</span>"
      ],
      "text/plain": [
       "<IPython.core.display.HTML object>"
      ]
     },
     "metadata": {},
     "output_type": "display_data"
    },
    {
     "data": {
      "text/html": [
       "<span style=\"color:blue\"> |-learning_rate: 0.01</span>"
      ],
      "text/plain": [
       "<IPython.core.display.HTML object>"
      ]
     },
     "metadata": {},
     "output_type": "display_data"
    },
    {
     "data": {
      "text/html": [
       "<span style=\"color:cyan\"> |-tuner/bracket: 2</span>"
      ],
      "text/plain": [
       "<IPython.core.display.HTML object>"
      ]
     },
     "metadata": {},
     "output_type": "display_data"
    },
    {
     "data": {
      "text/html": [
       "<span style=\"color:blue\"> |-tuner/epochs: 6</span>"
      ],
      "text/plain": [
       "<IPython.core.display.HTML object>"
      ]
     },
     "metadata": {},
     "output_type": "display_data"
    },
    {
     "data": {
      "text/html": [
       "<span style=\"color:cyan\"> |-tuner/initial_epoch: 0</span>"
      ],
      "text/plain": [
       "<IPython.core.display.HTML object>"
      ]
     },
     "metadata": {},
     "output_type": "display_data"
    },
    {
     "data": {
      "text/html": [
       "<span style=\"color:blue\"> |-tuner/round: 0</span>"
      ],
      "text/plain": [
       "<IPython.core.display.HTML object>"
      ]
     },
     "metadata": {},
     "output_type": "display_data"
    },
    {
     "data": {
      "text/html": [
       "<span style=\"color:cyan\"> |-units: 48</span>"
      ],
      "text/plain": [
       "<IPython.core.display.HTML object>"
      ]
     },
     "metadata": {},
     "output_type": "display_data"
    },
    {
     "name": "stdout",
     "output_type": "stream",
     "text": [
      "Train on 12140 samples, validate on 4515 samples\n",
      "Epoch 1/6\n",
      "12140/12140 [==============================] - ETA: 1:49 - loss: 4.3068 - accuracy: 0.43 - ETA: 4s - loss: 2.2249 - accuracy: 0.8233 - ETA: 2s - loss: 1.5185 - accuracy: 0.88 - ETA: 1s - loss: 1.5890 - accuracy: 0.87 - ETA: 1s - loss: 1.3590 - accuracy: 0.89 - ETA: 1s - loss: 1.1544 - accuracy: 0.91 - ETA: 0s - loss: 1.0762 - accuracy: 0.91 - ETA: 0s - loss: 0.9871 - accuracy: 0.92 - ETA: 0s - loss: 0.9304 - accuracy: 0.92 - ETA: 0s - loss: 0.8789 - accuracy: 0.93 - ETA: 0s - loss: 0.8433 - accuracy: 0.93 - ETA: 0s - loss: 0.8030 - accuracy: 0.93 - ETA: 0s - loss: 0.7771 - accuracy: 0.93 - ETA: 0s - loss: 0.7436 - accuracy: 0.94 - ETA: 0s - loss: 0.7141 - accuracy: 0.94 - 1s 107us/sample - loss: 0.7036 - accuracy: 0.9445 - val_loss: 3.1816 - val_accuracy: 0.7657\n",
      "Epoch 2/6\n",
      "12140/12140 [==============================] - ETA: 1s - loss: 0.3253 - accuracy: 0.96 - ETA: 0s - loss: 0.2663 - accuracy: 0.97 - ETA: 0s - loss: 0.3056 - accuracy: 0.97 - ETA: 0s - loss: 0.2981 - accuracy: 0.97 - ETA: 0s - loss: 0.3120 - accuracy: 0.97 - ETA: 0s - loss: 0.3442 - accuracy: 0.96 - ETA: 0s - loss: 0.3706 - accuracy: 0.96 - ETA: 0s - loss: 0.3676 - accuracy: 0.96 - ETA: 0s - loss: 0.3591 - accuracy: 0.96 - ETA: 0s - loss: 0.3581 - accuracy: 0.96 - ETA: 0s - loss: 0.3474 - accuracy: 0.96 - ETA: 0s - loss: 0.3365 - accuracy: 0.96 - ETA: 0s - loss: 0.3576 - accuracy: 0.96 - ETA: 0s - loss: 0.3609 - accuracy: 0.96 - 1s 74us/sample - loss: 0.3599 - accuracy: 0.9680 - val_loss: 1.9545 - val_accuracy: 0.8709\n",
      "Epoch 3/6\n",
      "12140/12140 [==============================] - ETA: 1s - loss: 0.0000e+00 - accuracy: 1.00 - ETA: 0s - loss: 0.4691 - accuracy: 0.9688   - ETA: 0s - loss: 0.4440 - accuracy: 0.97 - ETA: 0s - loss: 0.5350 - accuracy: 0.96 - ETA: 0s - loss: 0.5799 - accuracy: 0.96 - ETA: 0s - loss: 0.5913 - accuracy: 0.95 - ETA: 0s - loss: 0.6206 - accuracy: 0.95 - ETA: 0s - loss: 0.6378 - accuracy: 0.95 - ETA: 0s - loss: 0.6120 - accuracy: 0.95 - ETA: 0s - loss: 0.6072 - accuracy: 0.95 - ETA: 0s - loss: 0.5895 - accuracy: 0.95 - ETA: 0s - loss: 0.5908 - accuracy: 0.95 - ETA: 0s - loss: 0.5876 - accuracy: 0.95 - ETA: 0s - loss: 0.5717 - accuracy: 0.96 - 1s 76us/sample - loss: 0.5591 - accuracy: 0.9616 - val_loss: 1.3301 - val_accuracy: 0.9072\n",
      "Epoch 4/6\n",
      "12140/12140 [==============================] - ETA: 1s - loss: 1.2443e-06 - accuracy: 1.00 - ETA: 0s - loss: 0.3663 - accuracy: 0.9748   - ETA: 0s - loss: 0.3921 - accuracy: 0.97 - ETA: 0s - loss: 0.3704 - accuracy: 0.97 - ETA: 0s - loss: 0.4108 - accuracy: 0.96 - ETA: 0s - loss: 0.4497 - accuracy: 0.96 - ETA: 0s - loss: 0.4388 - accuracy: 0.96 - ETA: 0s - loss: 0.4469 - accuracy: 0.96 - ETA: 0s - loss: 0.4260 - accuracy: 0.96 - ETA: 0s - loss: 0.4240 - accuracy: 0.96 - ETA: 0s - loss: 0.4251 - accuracy: 0.96 - ETA: 0s - loss: 0.4189 - accuracy: 0.97 - ETA: 0s - loss: 0.4197 - accuracy: 0.97 - ETA: 0s - loss: 0.4301 - accuracy: 0.96 - ETA: 0s - loss: 0.4311 - accuracy: 0.96 - 1s 79us/sample - loss: 0.4294 - accuracy: 0.9699 - val_loss: 0.8516 - val_accuracy: 0.9440\n",
      "Epoch 5/6\n",
      "12140/12140 [==============================] - ETA: 1s - loss: 0.4765 - accuracy: 0.96 - ETA: 0s - loss: 0.4029 - accuracy: 0.97 - ETA: 0s - loss: 0.4217 - accuracy: 0.97 - ETA: 0s - loss: 0.4054 - accuracy: 0.97 - ETA: 0s - loss: 0.4524 - accuracy: 0.97 - ETA: 0s - loss: 0.4050 - accuracy: 0.97 - ETA: 0s - loss: 0.4110 - accuracy: 0.97 - ETA: 0s - loss: 0.4091 - accuracy: 0.97 - ETA: 0s - loss: 0.4102 - accuracy: 0.97 - ETA: 0s - loss: 0.4031 - accuracy: 0.97 - ETA: 0s - loss: 0.3996 - accuracy: 0.97 - ETA: 0s - loss: 0.3968 - accuracy: 0.97 - ETA: 0s - loss: 0.3951 - accuracy: 0.97 - ETA: 0s - loss: 0.4086 - accuracy: 0.97 - ETA: 0s - loss: 0.4116 - accuracy: 0.97 - 1s 82us/sample - loss: 0.4205 - accuracy: 0.9718 - val_loss: 0.8025 - val_accuracy: 0.9468\n",
      "Epoch 6/6\n",
      "12140/12140 [==============================] - ETA: 1s - loss: 0.0000e+00 - accuracy: 1.00 - ETA: 0s - loss: 0.3144 - accuracy: 0.9772   - ETA: 0s - loss: 0.3983 - accuracy: 0.97 - ETA: 0s - loss: 0.4626 - accuracy: 0.96 - ETA: 0s - loss: 0.4444 - accuracy: 0.97 - ETA: 0s - loss: 0.4165 - accuracy: 0.97 - ETA: 0s - loss: 0.4147 - accuracy: 0.97 - ETA: 0s - loss: 0.4271 - accuracy: 0.97 - ETA: 0s - loss: 0.4446 - accuracy: 0.97 - ETA: 0s - loss: 0.4492 - accuracy: 0.96 - ETA: 0s - loss: 0.4506 - accuracy: 0.96 - ETA: 0s - loss: 0.4373 - accuracy: 0.97 - ETA: 0s - loss: 0.4255 - accuracy: 0.97 - ETA: 0s - loss: 0.4118 - accuracy: 0.97 - ETA: 0s - loss: 0.4165 - accuracy: 0.97 - 1s 79us/sample - loss: 0.4162 - accuracy: 0.9721 - val_loss: 0.7829 - val_accuracy: 0.9475\n"
     ]
    },
    {
     "data": {
      "text/html": [
       "<span style=\"color:#4527A0\"><h1 style=\"font-size:18px\">Trial complete</h1></span>"
      ],
      "text/plain": [
       "<IPython.core.display.HTML object>"
      ]
     },
     "metadata": {},
     "output_type": "display_data"
    },
    {
     "data": {
      "text/html": [
       "<span style=\"color:#4527A0\"><h1 style=\"font-size:18px\">Trial summary</h1></span>"
      ],
      "text/plain": [
       "<IPython.core.display.HTML object>"
      ]
     },
     "metadata": {},
     "output_type": "display_data"
    },
    {
     "data": {
      "text/html": [
       "<span style=\"color:cyan\"> |-Trial ID: 993e0821cb331c6cebd42b5e1969ce89</span>"
      ],
      "text/plain": [
       "<IPython.core.display.HTML object>"
      ]
     },
     "metadata": {},
     "output_type": "display_data"
    },
    {
     "data": {
      "text/html": [
       "<span style=\"color:cyan\"> |-Score: 0.9475083351135254</span>"
      ],
      "text/plain": [
       "<IPython.core.display.HTML object>"
      ]
     },
     "metadata": {},
     "output_type": "display_data"
    },
    {
     "data": {
      "text/html": [
       "<span style=\"color:cyan\"> |-Best step: 0</span>"
      ],
      "text/plain": [
       "<IPython.core.display.HTML object>"
      ]
     },
     "metadata": {},
     "output_type": "display_data"
    },
    {
     "data": {
      "text/html": [
       "<span style=\"color:#7E57C2\"><h2 style=\"font-size:16px\">Hyperparameters:</h2></span>"
      ],
      "text/plain": [
       "<IPython.core.display.HTML object>"
      ]
     },
     "metadata": {},
     "output_type": "display_data"
    },
    {
     "data": {
      "text/html": [
       "<span style=\"color:cyan\"> |-activation_func: tanh</span>"
      ],
      "text/plain": [
       "<IPython.core.display.HTML object>"
      ]
     },
     "metadata": {},
     "output_type": "display_data"
    },
    {
     "data": {
      "text/html": [
       "<span style=\"color:blue\"> |-activation_func_2: tanh</span>"
      ],
      "text/plain": [
       "<IPython.core.display.HTML object>"
      ]
     },
     "metadata": {},
     "output_type": "display_data"
    },
    {
     "data": {
      "text/html": [
       "<span style=\"color:cyan\"> |-layers: 2</span>"
      ],
      "text/plain": [
       "<IPython.core.display.HTML object>"
      ]
     },
     "metadata": {},
     "output_type": "display_data"
    },
    {
     "data": {
      "text/html": [
       "<span style=\"color:blue\"> |-learning_rate: 0.01</span>"
      ],
      "text/plain": [
       "<IPython.core.display.HTML object>"
      ]
     },
     "metadata": {},
     "output_type": "display_data"
    },
    {
     "data": {
      "text/html": [
       "<span style=\"color:cyan\"> |-tuner/bracket: 2</span>"
      ],
      "text/plain": [
       "<IPython.core.display.HTML object>"
      ]
     },
     "metadata": {},
     "output_type": "display_data"
    },
    {
     "data": {
      "text/html": [
       "<span style=\"color:blue\"> |-tuner/epochs: 6</span>"
      ],
      "text/plain": [
       "<IPython.core.display.HTML object>"
      ]
     },
     "metadata": {},
     "output_type": "display_data"
    },
    {
     "data": {
      "text/html": [
       "<span style=\"color:cyan\"> |-tuner/initial_epoch: 0</span>"
      ],
      "text/plain": [
       "<IPython.core.display.HTML object>"
      ]
     },
     "metadata": {},
     "output_type": "display_data"
    },
    {
     "data": {
      "text/html": [
       "<span style=\"color:blue\"> |-tuner/round: 0</span>"
      ],
      "text/plain": [
       "<IPython.core.display.HTML object>"
      ]
     },
     "metadata": {},
     "output_type": "display_data"
    },
    {
     "data": {
      "text/html": [
       "<span style=\"color:cyan\"> |-units: 224</span>"
      ],
      "text/plain": [
       "<IPython.core.display.HTML object>"
      ]
     },
     "metadata": {},
     "output_type": "display_data"
    },
    {
     "name": "stdout",
     "output_type": "stream",
     "text": [
      "Train on 12140 samples, validate on 4515 samples\n",
      "Epoch 1/6\n",
      "12140/12140 [==============================] - ETA: 1:51 - loss: 5.1549 - accuracy: 0.59 - ETA: 4s - loss: 0.5947 - accuracy: 0.8427 - ETA: 2s - loss: 0.4122 - accuracy: 0.88 - ETA: 1s - loss: 0.3192 - accuracy: 0.91 - ETA: 1s - loss: 0.2635 - accuracy: 0.92 - ETA: 1s - loss: 0.2409 - accuracy: 0.93 - ETA: 0s - loss: 0.2171 - accuracy: 0.94 - ETA: 0s - loss: 0.2011 - accuracy: 0.94 - ETA: 0s - loss: 0.1908 - accuracy: 0.94 - ETA: 0s - loss: 0.1783 - accuracy: 0.95 - ETA: 0s - loss: 0.1747 - accuracy: 0.95 - ETA: 0s - loss: 0.1658 - accuracy: 0.95 - ETA: 0s - loss: 0.1617 - accuracy: 0.95 - ETA: 0s - loss: 0.1677 - accuracy: 0.95 - ETA: 0s - loss: 0.1677 - accuracy: 0.95 - 1s 108us/sample - loss: 0.1681 - accuracy: 0.9573 - val_loss: 0.2526 - val_accuracy: 0.9453\n",
      "Epoch 2/6\n",
      "12140/12140 [==============================] - ETA: 1s - loss: 0.0130 - accuracy: 1.00 - ETA: 0s - loss: 0.1387 - accuracy: 0.97 - ETA: 0s - loss: 0.1420 - accuracy: 0.97 - ETA: 0s - loss: 0.1466 - accuracy: 0.97 - ETA: 0s - loss: 0.1545 - accuracy: 0.96 - ETA: 0s - loss: 0.1553 - accuracy: 0.96 - ETA: 0s - loss: 0.1460 - accuracy: 0.96 - ETA: 0s - loss: 0.1407 - accuracy: 0.96 - ETA: 0s - loss: 0.1369 - accuracy: 0.97 - ETA: 0s - loss: 0.1305 - accuracy: 0.97 - ETA: 0s - loss: 0.1277 - accuracy: 0.97 - ETA: 0s - loss: 0.1298 - accuracy: 0.97 - ETA: 0s - loss: 0.1273 - accuracy: 0.97 - ETA: 0s - loss: 0.1248 - accuracy: 0.97 - ETA: 0s - loss: 0.1224 - accuracy: 0.97 - 1s 77us/sample - loss: 0.1212 - accuracy: 0.9741 - val_loss: 0.2661 - val_accuracy: 0.9329\n"
     ]
    },
    {
     "data": {
      "text/html": [
       "<span style=\"color:#4527A0\"><h1 style=\"font-size:18px\">Trial complete</h1></span>"
      ],
      "text/plain": [
       "<IPython.core.display.HTML object>"
      ]
     },
     "metadata": {},
     "output_type": "display_data"
    },
    {
     "data": {
      "text/html": [
       "<span style=\"color:#4527A0\"><h1 style=\"font-size:18px\">Trial summary</h1></span>"
      ],
      "text/plain": [
       "<IPython.core.display.HTML object>"
      ]
     },
     "metadata": {},
     "output_type": "display_data"
    },
    {
     "data": {
      "text/html": [
       "<span style=\"color:cyan\"> |-Trial ID: 957268fbca29b23002e896cb2d80e9ce</span>"
      ],
      "text/plain": [
       "<IPython.core.display.HTML object>"
      ]
     },
     "metadata": {},
     "output_type": "display_data"
    },
    {
     "data": {
      "text/html": [
       "<span style=\"color:cyan\"> |-Score: 0.9452934861183167</span>"
      ],
      "text/plain": [
       "<IPython.core.display.HTML object>"
      ]
     },
     "metadata": {},
     "output_type": "display_data"
    },
    {
     "data": {
      "text/html": [
       "<span style=\"color:cyan\"> |-Best step: 0</span>"
      ],
      "text/plain": [
       "<IPython.core.display.HTML object>"
      ]
     },
     "metadata": {},
     "output_type": "display_data"
    },
    {
     "data": {
      "text/html": [
       "<span style=\"color:#7E57C2\"><h2 style=\"font-size:16px\">Hyperparameters:</h2></span>"
      ],
      "text/plain": [
       "<IPython.core.display.HTML object>"
      ]
     },
     "metadata": {},
     "output_type": "display_data"
    },
    {
     "data": {
      "text/html": [
       "<span style=\"color:cyan\"> |-activation_func: relu</span>"
      ],
      "text/plain": [
       "<IPython.core.display.HTML object>"
      ]
     },
     "metadata": {},
     "output_type": "display_data"
    },
    {
     "data": {
      "text/html": [
       "<span style=\"color:blue\"> |-activation_func_2: tanh</span>"
      ],
      "text/plain": [
       "<IPython.core.display.HTML object>"
      ]
     },
     "metadata": {},
     "output_type": "display_data"
    },
    {
     "data": {
      "text/html": [
       "<span style=\"color:cyan\"> |-layers: 2</span>"
      ],
      "text/plain": [
       "<IPython.core.display.HTML object>"
      ]
     },
     "metadata": {},
     "output_type": "display_data"
    },
    {
     "data": {
      "text/html": [
       "<span style=\"color:blue\"> |-learning_rate: 0.001</span>"
      ],
      "text/plain": [
       "<IPython.core.display.HTML object>"
      ]
     },
     "metadata": {},
     "output_type": "display_data"
    },
    {
     "data": {
      "text/html": [
       "<span style=\"color:cyan\"> |-tuner/bracket: 2</span>"
      ],
      "text/plain": [
       "<IPython.core.display.HTML object>"
      ]
     },
     "metadata": {},
     "output_type": "display_data"
    },
    {
     "data": {
      "text/html": [
       "<span style=\"color:blue\"> |-tuner/epochs: 6</span>"
      ],
      "text/plain": [
       "<IPython.core.display.HTML object>"
      ]
     },
     "metadata": {},
     "output_type": "display_data"
    },
    {
     "data": {
      "text/html": [
       "<span style=\"color:cyan\"> |-tuner/initial_epoch: 0</span>"
      ],
      "text/plain": [
       "<IPython.core.display.HTML object>"
      ]
     },
     "metadata": {},
     "output_type": "display_data"
    },
    {
     "data": {
      "text/html": [
       "<span style=\"color:blue\"> |-tuner/round: 0</span>"
      ],
      "text/plain": [
       "<IPython.core.display.HTML object>"
      ]
     },
     "metadata": {},
     "output_type": "display_data"
    },
    {
     "data": {
      "text/html": [
       "<span style=\"color:cyan\"> |-units: 224</span>"
      ],
      "text/plain": [
       "<IPython.core.display.HTML object>"
      ]
     },
     "metadata": {},
     "output_type": "display_data"
    },
    {
     "name": "stdout",
     "output_type": "stream",
     "text": [
      "Train on 12140 samples, validate on 4515 samples\n",
      "Epoch 1/6\n",
      "12140/12140 [==============================] - ETA: 2:06 - loss: 2.6540 - accuracy: 0.43 - ETA: 5s - loss: 2.2327 - accuracy: 0.4775 - ETA: 2s - loss: 2.0541 - accuracy: 0.48 - ETA: 1s - loss: 1.9271 - accuracy: 0.48 - ETA: 1s - loss: 1.7952 - accuracy: 0.49 - ETA: 1s - loss: 1.7366 - accuracy: 0.50 - ETA: 0s - loss: 1.6790 - accuracy: 0.50 - ETA: 0s - loss: 1.6308 - accuracy: 0.50 - ETA: 0s - loss: 1.5760 - accuracy: 0.51 - ETA: 0s - loss: 1.5191 - accuracy: 0.51 - ETA: 0s - loss: 1.4776 - accuracy: 0.52 - ETA: 0s - loss: 1.4433 - accuracy: 0.52 - ETA: 0s - loss: 1.4213 - accuracy: 0.52 - ETA: 0s - loss: 1.3899 - accuracy: 0.52 - ETA: 0s - loss: 1.3710 - accuracy: 0.52 - 1s 115us/sample - loss: 1.3437 - accuracy: 0.5345 - val_loss: 1.7101 - val_accuracy: 0.3982\n",
      "Epoch 2/6\n",
      "12140/12140 [==============================] - ETA: 1s - loss: 1.0268 - accuracy: 0.46 - ETA: 0s - loss: 0.9775 - accuracy: 0.57 - ETA: 0s - loss: 0.9626 - accuracy: 0.58 - ETA: 0s - loss: 1.0021 - accuracy: 0.58 - ETA: 0s - loss: 0.9973 - accuracy: 0.58 - ETA: 0s - loss: 0.9734 - accuracy: 0.59 - ETA: 0s - loss: 0.9598 - accuracy: 0.59 - ETA: 0s - loss: 0.9468 - accuracy: 0.59 - ETA: 0s - loss: 0.9318 - accuracy: 0.60 - ETA: 0s - loss: 0.9271 - accuracy: 0.60 - ETA: 0s - loss: 0.9216 - accuracy: 0.60 - ETA: 0s - loss: 0.9153 - accuracy: 0.60 - ETA: 0s - loss: 0.9046 - accuracy: 0.61 - ETA: 0s - loss: 0.9005 - accuracy: 0.61 - ETA: 0s - loss: 0.8945 - accuracy: 0.61 - 1s 81us/sample - loss: 0.8849 - accuracy: 0.6196 - val_loss: 1.4003 - val_accuracy: 0.4137\n",
      "Epoch 3/6\n",
      "12140/12140 [==============================] - ETA: 1s - loss: 0.9420 - accuracy: 0.75 - ETA: 0s - loss: 0.7299 - accuracy: 0.64 - ETA: 0s - loss: 0.7189 - accuracy: 0.65 - ETA: 0s - loss: 0.7172 - accuracy: 0.65 - ETA: 0s - loss: 0.7109 - accuracy: 0.65 - ETA: 0s - loss: 0.7156 - accuracy: 0.66 - ETA: 0s - loss: 0.7065 - accuracy: 0.66 - ETA: 0s - loss: 0.6989 - accuracy: 0.66 - ETA: 0s - loss: 0.7003 - accuracy: 0.66 - ETA: 0s - loss: 0.7050 - accuracy: 0.66 - ETA: 0s - loss: 0.7073 - accuracy: 0.66 - ETA: 0s - loss: 0.6994 - accuracy: 0.66 - ETA: 0s - loss: 0.6989 - accuracy: 0.66 - ETA: 0s - loss: 0.6978 - accuracy: 0.67 - ETA: 0s - loss: 0.6980 - accuracy: 0.67 - 1s 82us/sample - loss: 0.6917 - accuracy: 0.6713 - val_loss: 1.2818 - val_accuracy: 0.4217\n",
      "Epoch 4/6\n",
      "12140/12140 [==============================] - ETA: 2s - loss: 0.5953 - accuracy: 0.59 - ETA: 0s - loss: 0.7220 - accuracy: 0.67 - ETA: 0s - loss: 0.6581 - accuracy: 0.68 - ETA: 0s - loss: 0.6545 - accuracy: 0.68 - ETA: 0s - loss: 0.6480 - accuracy: 0.68 - ETA: 0s - loss: 0.6583 - accuracy: 0.68 - ETA: 0s - loss: 0.6602 - accuracy: 0.68 - ETA: 0s - loss: 0.6584 - accuracy: 0.68 - ETA: 0s - loss: 0.6622 - accuracy: 0.68 - ETA: 0s - loss: 0.6559 - accuracy: 0.68 - ETA: 0s - loss: 0.6468 - accuracy: 0.69 - ETA: 0s - loss: 0.6422 - accuracy: 0.69 - ETA: 0s - loss: 0.6359 - accuracy: 0.69 - ETA: 0s - loss: 0.6321 - accuracy: 0.69 - ETA: 0s - loss: 0.6350 - accuracy: 0.69 - ETA: 0s - loss: 0.6357 - accuracy: 0.69 - 1s 82us/sample - loss: 0.6357 - accuracy: 0.6949 - val_loss: 1.2369 - val_accuracy: 0.4268\n",
      "Epoch 5/6\n",
      "12140/12140 [==============================] - ETA: 1s - loss: 0.5119 - accuracy: 0.75 - ETA: 0s - loss: 0.6380 - accuracy: 0.71 - ETA: 0s - loss: 0.6254 - accuracy: 0.71 - ETA: 0s - loss: 0.6165 - accuracy: 0.72 - ETA: 0s - loss: 0.6269 - accuracy: 0.71 - ETA: 0s - loss: 0.6326 - accuracy: 0.70 - ETA: 0s - loss: 0.6332 - accuracy: 0.71 - ETA: 0s - loss: 0.6287 - accuracy: 0.71 - ETA: 0s - loss: 0.6187 - accuracy: 0.71 - ETA: 0s - loss: 0.6156 - accuracy: 0.71 - ETA: 0s - loss: 0.6110 - accuracy: 0.71 - ETA: 0s - loss: 0.6153 - accuracy: 0.71 - ETA: 0s - loss: 0.6100 - accuracy: 0.71 - ETA: 0s - loss: 0.6040 - accuracy: 0.71 - ETA: 0s - loss: 0.5964 - accuracy: 0.71 - ETA: 0s - loss: 0.5921 - accuracy: 0.72 - 1s 82us/sample - loss: 0.5912 - accuracy: 0.7203 - val_loss: 1.1828 - val_accuracy: 0.4359\n",
      "Epoch 6/6\n",
      "12140/12140 [==============================] - ETA: 1s - loss: 0.5649 - accuracy: 0.78 - ETA: 0s - loss: 0.6083 - accuracy: 0.73 - ETA: 0s - loss: 0.5643 - accuracy: 0.73 - ETA: 0s - loss: 0.5748 - accuracy: 0.72 - ETA: 0s - loss: 0.5538 - accuracy: 0.73 - ETA: 0s - loss: 0.5488 - accuracy: 0.74 - ETA: 0s - loss: 0.5426 - accuracy: 0.74 - ETA: 0s - loss: 0.5371 - accuracy: 0.74 - ETA: 0s - loss: 0.5403 - accuracy: 0.74 - ETA: 0s - loss: 0.5486 - accuracy: 0.73 - ETA: 0s - loss: 0.5474 - accuracy: 0.73 - ETA: 0s - loss: 0.5528 - accuracy: 0.73 - ETA: 0s - loss: 0.5533 - accuracy: 0.73 - ETA: 0s - loss: 0.5557 - accuracy: 0.74 - ETA: 0s - loss: 0.5547 - accuracy: 0.74 - ETA: 0s - loss: 0.5516 - accuracy: 0.74 - 1s 82us/sample - loss: 0.5514 - accuracy: 0.7464 - val_loss: 1.1108 - val_accuracy: 0.4450\n"
     ]
    },
    {
     "data": {
      "text/html": [
       "<span style=\"color:#4527A0\"><h1 style=\"font-size:18px\">Trial complete</h1></span>"
      ],
      "text/plain": [
       "<IPython.core.display.HTML object>"
      ]
     },
     "metadata": {},
     "output_type": "display_data"
    },
    {
     "data": {
      "text/html": [
       "<span style=\"color:#4527A0\"><h1 style=\"font-size:18px\">Trial summary</h1></span>"
      ],
      "text/plain": [
       "<IPython.core.display.HTML object>"
      ]
     },
     "metadata": {},
     "output_type": "display_data"
    },
    {
     "data": {
      "text/html": [
       "<span style=\"color:cyan\"> |-Trial ID: 1b1d05239eee62fc1bcdb0e8aeedf397</span>"
      ],
      "text/plain": [
       "<IPython.core.display.HTML object>"
      ]
     },
     "metadata": {},
     "output_type": "display_data"
    },
    {
     "data": {
      "text/html": [
       "<span style=\"color:cyan\"> |-Score: 0.4449612498283386</span>"
      ],
      "text/plain": [
       "<IPython.core.display.HTML object>"
      ]
     },
     "metadata": {},
     "output_type": "display_data"
    },
    {
     "data": {
      "text/html": [
       "<span style=\"color:cyan\"> |-Best step: 0</span>"
      ],
      "text/plain": [
       "<IPython.core.display.HTML object>"
      ]
     },
     "metadata": {},
     "output_type": "display_data"
    },
    {
     "data": {
      "text/html": [
       "<span style=\"color:#7E57C2\"><h2 style=\"font-size:16px\">Hyperparameters:</h2></span>"
      ],
      "text/plain": [
       "<IPython.core.display.HTML object>"
      ]
     },
     "metadata": {},
     "output_type": "display_data"
    },
    {
     "data": {
      "text/html": [
       "<span style=\"color:cyan\"> |-activation_func: swish</span>"
      ],
      "text/plain": [
       "<IPython.core.display.HTML object>"
      ]
     },
     "metadata": {},
     "output_type": "display_data"
    },
    {
     "data": {
      "text/html": [
       "<span style=\"color:blue\"> |-activation_func_2: swish</span>"
      ],
      "text/plain": [
       "<IPython.core.display.HTML object>"
      ]
     },
     "metadata": {},
     "output_type": "display_data"
    },
    {
     "data": {
      "text/html": [
       "<span style=\"color:cyan\"> |-layers: 2</span>"
      ],
      "text/plain": [
       "<IPython.core.display.HTML object>"
      ]
     },
     "metadata": {},
     "output_type": "display_data"
    },
    {
     "data": {
      "text/html": [
       "<span style=\"color:blue\"> |-learning_rate: 0.0001</span>"
      ],
      "text/plain": [
       "<IPython.core.display.HTML object>"
      ]
     },
     "metadata": {},
     "output_type": "display_data"
    },
    {
     "data": {
      "text/html": [
       "<span style=\"color:cyan\"> |-tuner/bracket: 2</span>"
      ],
      "text/plain": [
       "<IPython.core.display.HTML object>"
      ]
     },
     "metadata": {},
     "output_type": "display_data"
    },
    {
     "data": {
      "text/html": [
       "<span style=\"color:blue\"> |-tuner/epochs: 6</span>"
      ],
      "text/plain": [
       "<IPython.core.display.HTML object>"
      ]
     },
     "metadata": {},
     "output_type": "display_data"
    },
    {
     "data": {
      "text/html": [
       "<span style=\"color:cyan\"> |-tuner/initial_epoch: 0</span>"
      ],
      "text/plain": [
       "<IPython.core.display.HTML object>"
      ]
     },
     "metadata": {},
     "output_type": "display_data"
    },
    {
     "data": {
      "text/html": [
       "<span style=\"color:blue\"> |-tuner/round: 0</span>"
      ],
      "text/plain": [
       "<IPython.core.display.HTML object>"
      ]
     },
     "metadata": {},
     "output_type": "display_data"
    },
    {
     "data": {
      "text/html": [
       "<span style=\"color:cyan\"> |-units: 32</span>"
      ],
      "text/plain": [
       "<IPython.core.display.HTML object>"
      ]
     },
     "metadata": {},
     "output_type": "display_data"
    },
    {
     "name": "stdout",
     "output_type": "stream",
     "text": [
      "Train on 12140 samples, validate on 4515 samples\n",
      "Epoch 1/6\n",
      "12140/12140 [==============================] - ETA: 2:07 - loss: 1.2616 - accuracy: 0.71 - ETA: 5s - loss: 0.8525 - accuracy: 0.5026 - ETA: 3s - loss: 0.6669 - accuracy: 0.63 - ETA: 2s - loss: 0.5607 - accuracy: 0.70 - ETA: 1s - loss: 0.4948 - accuracy: 0.75 - ETA: 1s - loss: 0.4412 - accuracy: 0.79 - ETA: 1s - loss: 0.3902 - accuracy: 0.82 - ETA: 0s - loss: 0.3554 - accuracy: 0.84 - ETA: 0s - loss: 0.3328 - accuracy: 0.85 - ETA: 0s - loss: 0.3165 - accuracy: 0.86 - ETA: 0s - loss: 0.3094 - accuracy: 0.87 - ETA: 0s - loss: 0.2962 - accuracy: 0.88 - ETA: 0s - loss: 0.2871 - accuracy: 0.89 - ETA: 0s - loss: 0.2737 - accuracy: 0.89 - ETA: 0s - loss: 0.2650 - accuracy: 0.90 - ETA: 0s - loss: 0.2531 - accuracy: 0.90 - ETA: 0s - loss: 0.2452 - accuracy: 0.91 - 1s 122us/sample - loss: 0.2412 - accuracy: 0.9133 - val_loss: 0.4134 - val_accuracy: 0.9218\n",
      "Epoch 2/6\n",
      "12140/12140 [==============================] - ETA: 1s - loss: 0.1278 - accuracy: 0.93 - ETA: 0s - loss: 0.0925 - accuracy: 0.96 - ETA: 0s - loss: 0.0814 - accuracy: 0.97 - ETA: 0s - loss: 0.1227 - accuracy: 0.97 - ETA: 0s - loss: 0.1119 - accuracy: 0.97 - ETA: 0s - loss: 0.1055 - accuracy: 0.97 - ETA: 0s - loss: 0.1206 - accuracy: 0.96 - ETA: 0s - loss: 0.1242 - accuracy: 0.96 - ETA: 0s - loss: 0.1304 - accuracy: 0.96 - ETA: 0s - loss: 0.1218 - accuracy: 0.96 - ETA: 0s - loss: 0.1213 - accuracy: 0.96 - ETA: 0s - loss: 0.1240 - accuracy: 0.96 - ETA: 0s - loss: 0.1272 - accuracy: 0.97 - ETA: 0s - loss: 0.1342 - accuracy: 0.97 - ETA: 0s - loss: 0.1380 - accuracy: 0.97 - ETA: 0s - loss: 0.1338 - accuracy: 0.97 - ETA: 0s - loss: 0.1383 - accuracy: 0.97 - 1s 87us/sample - loss: 0.1369 - accuracy: 0.9720 - val_loss: 0.5404 - val_accuracy: 0.9451\n"
     ]
    },
    {
     "data": {
      "text/html": [
       "<span style=\"color:#4527A0\"><h1 style=\"font-size:18px\">Trial complete</h1></span>"
      ],
      "text/plain": [
       "<IPython.core.display.HTML object>"
      ]
     },
     "metadata": {},
     "output_type": "display_data"
    },
    {
     "data": {
      "text/html": [
       "<span style=\"color:#4527A0\"><h1 style=\"font-size:18px\">Trial summary</h1></span>"
      ],
      "text/plain": [
       "<IPython.core.display.HTML object>"
      ]
     },
     "metadata": {},
     "output_type": "display_data"
    },
    {
     "data": {
      "text/html": [
       "<span style=\"color:cyan\"> |-Trial ID: 7b09b1f95b692d7c1b30dcf5a7411d26</span>"
      ],
      "text/plain": [
       "<IPython.core.display.HTML object>"
      ]
     },
     "metadata": {},
     "output_type": "display_data"
    },
    {
     "data": {
      "text/html": [
       "<span style=\"color:cyan\"> |-Score: 0.9450719952583313</span>"
      ],
      "text/plain": [
       "<IPython.core.display.HTML object>"
      ]
     },
     "metadata": {},
     "output_type": "display_data"
    },
    {
     "data": {
      "text/html": [
       "<span style=\"color:cyan\"> |-Best step: 0</span>"
      ],
      "text/plain": [
       "<IPython.core.display.HTML object>"
      ]
     },
     "metadata": {},
     "output_type": "display_data"
    },
    {
     "data": {
      "text/html": [
       "<span style=\"color:#7E57C2\"><h2 style=\"font-size:16px\">Hyperparameters:</h2></span>"
      ],
      "text/plain": [
       "<IPython.core.display.HTML object>"
      ]
     },
     "metadata": {},
     "output_type": "display_data"
    },
    {
     "data": {
      "text/html": [
       "<span style=\"color:cyan\"> |-activation_func: relu</span>"
      ],
      "text/plain": [
       "<IPython.core.display.HTML object>"
      ]
     },
     "metadata": {},
     "output_type": "display_data"
    },
    {
     "data": {
      "text/html": [
       "<span style=\"color:blue\"> |-activation_func_2: relu</span>"
      ],
      "text/plain": [
       "<IPython.core.display.HTML object>"
      ]
     },
     "metadata": {},
     "output_type": "display_data"
    },
    {
     "data": {
      "text/html": [
       "<span style=\"color:cyan\"> |-layers: 4</span>"
      ],
      "text/plain": [
       "<IPython.core.display.HTML object>"
      ]
     },
     "metadata": {},
     "output_type": "display_data"
    },
    {
     "data": {
      "text/html": [
       "<span style=\"color:blue\"> |-learning_rate: 0.0001</span>"
      ],
      "text/plain": [
       "<IPython.core.display.HTML object>"
      ]
     },
     "metadata": {},
     "output_type": "display_data"
    },
    {
     "data": {
      "text/html": [
       "<span style=\"color:cyan\"> |-tuner/bracket: 2</span>"
      ],
      "text/plain": [
       "<IPython.core.display.HTML object>"
      ]
     },
     "metadata": {},
     "output_type": "display_data"
    },
    {
     "data": {
      "text/html": [
       "<span style=\"color:blue\"> |-tuner/epochs: 6</span>"
      ],
      "text/plain": [
       "<IPython.core.display.HTML object>"
      ]
     },
     "metadata": {},
     "output_type": "display_data"
    },
    {
     "data": {
      "text/html": [
       "<span style=\"color:cyan\"> |-tuner/initial_epoch: 0</span>"
      ],
      "text/plain": [
       "<IPython.core.display.HTML object>"
      ]
     },
     "metadata": {},
     "output_type": "display_data"
    },
    {
     "data": {
      "text/html": [
       "<span style=\"color:blue\"> |-tuner/round: 0</span>"
      ],
      "text/plain": [
       "<IPython.core.display.HTML object>"
      ]
     },
     "metadata": {},
     "output_type": "display_data"
    },
    {
     "data": {
      "text/html": [
       "<span style=\"color:cyan\"> |-units: 160</span>"
      ],
      "text/plain": [
       "<IPython.core.display.HTML object>"
      ]
     },
     "metadata": {},
     "output_type": "display_data"
    },
    {
     "name": "stdout",
     "output_type": "stream",
     "text": [
      "Train on 12140 samples, validate on 4515 samples\n",
      "Epoch 1/6\n",
      "12140/12140 [==============================] - ETA: 1:51 - loss: 3.2969 - accuracy: 0.62 - ETA: 4s - loss: 0.6489 - accuracy: 0.9330 - ETA: 2s - loss: 0.7399 - accuracy: 0.93 - ETA: 1s - loss: 0.7622 - accuracy: 0.93 - ETA: 1s - loss: 0.7141 - accuracy: 0.93 - ETA: 0s - loss: 0.6267 - accuracy: 0.94 - ETA: 0s - loss: 0.5497 - accuracy: 0.94 - ETA: 0s - loss: 0.5040 - accuracy: 0.95 - ETA: 0s - loss: 0.4608 - accuracy: 0.95 - ETA: 0s - loss: 0.4322 - accuracy: 0.95 - ETA: 0s - loss: 0.4055 - accuracy: 0.95 - ETA: 0s - loss: 0.3834 - accuracy: 0.96 - ETA: 0s - loss: 0.3704 - accuracy: 0.96 - ETA: 0s - loss: 0.3598 - accuracy: 0.96 - 1s 105us/sample - loss: 0.3529 - accuracy: 0.9616 - val_loss: 0.3896 - val_accuracy: 0.9265\n",
      "Epoch 2/6\n",
      "12140/12140 [==============================] - ETA: 1s - loss: 0.1230 - accuracy: 0.96 - ETA: 0s - loss: 0.2639 - accuracy: 0.95 - ETA: 0s - loss: 0.2688 - accuracy: 0.96 - ETA: 0s - loss: 0.2394 - accuracy: 0.96 - ETA: 0s - loss: 0.2096 - accuracy: 0.96 - ETA: 0s - loss: 0.2189 - accuracy: 0.97 - ETA: 0s - loss: 0.2090 - accuracy: 0.97 - ETA: 0s - loss: 0.2111 - accuracy: 0.97 - ETA: 0s - loss: 0.2025 - accuracy: 0.97 - ETA: 0s - loss: 0.2211 - accuracy: 0.97 - ETA: 0s - loss: 0.2274 - accuracy: 0.97 - ETA: 0s - loss: 0.2424 - accuracy: 0.97 - ETA: 0s - loss: 0.2364 - accuracy: 0.97 - ETA: 0s - loss: 0.2362 - accuracy: 0.97 - 1s 74us/sample - loss: 0.2359 - accuracy: 0.9703 - val_loss: 0.8407 - val_accuracy: 0.9039\n"
     ]
    },
    {
     "data": {
      "text/html": [
       "<span style=\"color:#4527A0\"><h1 style=\"font-size:18px\">Trial complete</h1></span>"
      ],
      "text/plain": [
       "<IPython.core.display.HTML object>"
      ]
     },
     "metadata": {},
     "output_type": "display_data"
    },
    {
     "data": {
      "text/html": [
       "<span style=\"color:#4527A0\"><h1 style=\"font-size:18px\">Trial summary</h1></span>"
      ],
      "text/plain": [
       "<IPython.core.display.HTML object>"
      ]
     },
     "metadata": {},
     "output_type": "display_data"
    },
    {
     "data": {
      "text/html": [
       "<span style=\"color:cyan\"> |-Trial ID: ff55b3cf1fde5721489451ab0ec6667e</span>"
      ],
      "text/plain": [
       "<IPython.core.display.HTML object>"
      ]
     },
     "metadata": {},
     "output_type": "display_data"
    },
    {
     "data": {
      "text/html": [
       "<span style=\"color:cyan\"> |-Score: 0.9264673590660095</span>"
      ],
      "text/plain": [
       "<IPython.core.display.HTML object>"
      ]
     },
     "metadata": {},
     "output_type": "display_data"
    },
    {
     "data": {
      "text/html": [
       "<span style=\"color:cyan\"> |-Best step: 0</span>"
      ],
      "text/plain": [
       "<IPython.core.display.HTML object>"
      ]
     },
     "metadata": {},
     "output_type": "display_data"
    },
    {
     "data": {
      "text/html": [
       "<span style=\"color:#7E57C2\"><h2 style=\"font-size:16px\">Hyperparameters:</h2></span>"
      ],
      "text/plain": [
       "<IPython.core.display.HTML object>"
      ]
     },
     "metadata": {},
     "output_type": "display_data"
    },
    {
     "data": {
      "text/html": [
       "<span style=\"color:cyan\"> |-activation_func: tanh</span>"
      ],
      "text/plain": [
       "<IPython.core.display.HTML object>"
      ]
     },
     "metadata": {},
     "output_type": "display_data"
    },
    {
     "data": {
      "text/html": [
       "<span style=\"color:blue\"> |-activation_func_2: tanh</span>"
      ],
      "text/plain": [
       "<IPython.core.display.HTML object>"
      ]
     },
     "metadata": {},
     "output_type": "display_data"
    },
    {
     "data": {
      "text/html": [
       "<span style=\"color:cyan\"> |-layers: 2</span>"
      ],
      "text/plain": [
       "<IPython.core.display.HTML object>"
      ]
     },
     "metadata": {},
     "output_type": "display_data"
    },
    {
     "data": {
      "text/html": [
       "<span style=\"color:blue\"> |-learning_rate: 0.01</span>"
      ],
      "text/plain": [
       "<IPython.core.display.HTML object>"
      ]
     },
     "metadata": {},
     "output_type": "display_data"
    },
    {
     "data": {
      "text/html": [
       "<span style=\"color:cyan\"> |-tuner/bracket: 2</span>"
      ],
      "text/plain": [
       "<IPython.core.display.HTML object>"
      ]
     },
     "metadata": {},
     "output_type": "display_data"
    },
    {
     "data": {
      "text/html": [
       "<span style=\"color:blue\"> |-tuner/epochs: 6</span>"
      ],
      "text/plain": [
       "<IPython.core.display.HTML object>"
      ]
     },
     "metadata": {},
     "output_type": "display_data"
    },
    {
     "data": {
      "text/html": [
       "<span style=\"color:cyan\"> |-tuner/initial_epoch: 0</span>"
      ],
      "text/plain": [
       "<IPython.core.display.HTML object>"
      ]
     },
     "metadata": {},
     "output_type": "display_data"
    },
    {
     "data": {
      "text/html": [
       "<span style=\"color:blue\"> |-tuner/round: 0</span>"
      ],
      "text/plain": [
       "<IPython.core.display.HTML object>"
      ]
     },
     "metadata": {},
     "output_type": "display_data"
    },
    {
     "data": {
      "text/html": [
       "<span style=\"color:cyan\"> |-units: 96</span>"
      ],
      "text/plain": [
       "<IPython.core.display.HTML object>"
      ]
     },
     "metadata": {},
     "output_type": "display_data"
    },
    {
     "name": "stdout",
     "output_type": "stream",
     "text": [
      "Train on 12140 samples, validate on 4515 samples\n",
      "Epoch 1/6\n",
      "12140/12140 [==============================] - ETA: 1:51 - loss: 4.5027 - accuracy: 0.40 - ETA: 4s - loss: 4.0341 - accuracy: 0.4931 - ETA: 2s - loss: 3.0005 - accuracy: 0.55 - ETA: 1s - loss: 2.5450 - accuracy: 0.60 - ETA: 1s - loss: 2.1724 - accuracy: 0.64 - ETA: 1s - loss: 1.9301 - accuracy: 0.68 - ETA: 0s - loss: 1.7462 - accuracy: 0.70 - ETA: 0s - loss: 1.6397 - accuracy: 0.72 - ETA: 0s - loss: 1.5310 - accuracy: 0.73 - ETA: 0s - loss: 1.4491 - accuracy: 0.75 - ETA: 0s - loss: 1.3573 - accuracy: 0.76 - ETA: 0s - loss: 1.2963 - accuracy: 0.76 - ETA: 0s - loss: 1.2363 - accuracy: 0.77 - ETA: 0s - loss: 1.1963 - accuracy: 0.78 - ETA: 0s - loss: 1.1497 - accuracy: 0.78 - ETA: 0s - loss: 1.1054 - accuracy: 0.79 - 1s 111us/sample - loss: 1.1059 - accuracy: 0.7960 - val_loss: 2.9143 - val_accuracy: 0.5320\n",
      "Epoch 2/6\n",
      "12140/12140 [==============================] - ETA: 0s - loss: 0.1775 - accuracy: 0.90 - ETA: 0s - loss: 0.5978 - accuracy: 0.87 - ETA: 0s - loss: 0.5703 - accuracy: 0.88 - ETA: 0s - loss: 0.5907 - accuracy: 0.88 - ETA: 0s - loss: 0.5830 - accuracy: 0.88 - ETA: 0s - loss: 0.5637 - accuracy: 0.88 - ETA: 0s - loss: 0.5722 - accuracy: 0.88 - ETA: 0s - loss: 0.5456 - accuracy: 0.88 - ETA: 0s - loss: 0.5336 - accuracy: 0.88 - ETA: 0s - loss: 0.5331 - accuracy: 0.89 - ETA: 0s - loss: 0.5285 - accuracy: 0.89 - ETA: 0s - loss: 0.5270 - accuracy: 0.89 - ETA: 0s - loss: 0.5167 - accuracy: 0.89 - ETA: 0s - loss: 0.5085 - accuracy: 0.89 - ETA: 0s - loss: 0.4998 - accuracy: 0.90 - 1s 81us/sample - loss: 0.4895 - accuracy: 0.9006 - val_loss: 1.3772 - val_accuracy: 0.5517\n",
      "Epoch 3/6\n",
      "12140/12140 [==============================] - ETA: 1s - loss: 1.2663 - accuracy: 0.81 - ETA: 0s - loss: 0.3838 - accuracy: 0.89 - ETA: 0s - loss: 0.3796 - accuracy: 0.90 - ETA: 0s - loss: 0.3855 - accuracy: 0.90 - ETA: 0s - loss: 0.3422 - accuracy: 0.90 - ETA: 0s - loss: 0.3302 - accuracy: 0.91 - ETA: 0s - loss: 0.3262 - accuracy: 0.91 - ETA: 0s - loss: 0.3065 - accuracy: 0.91 - ETA: 0s - loss: 0.3050 - accuracy: 0.91 - ETA: 0s - loss: 0.2960 - accuracy: 0.91 - ETA: 0s - loss: 0.2875 - accuracy: 0.91 - ETA: 0s - loss: 0.2804 - accuracy: 0.91 - ETA: 0s - loss: 0.2821 - accuracy: 0.91 - ETA: 0s - loss: 0.2825 - accuracy: 0.91 - ETA: 0s - loss: 0.2778 - accuracy: 0.91 - 1s 78us/sample - loss: 0.2768 - accuracy: 0.9138 - val_loss: 0.9456 - val_accuracy: 0.6908\n",
      "Epoch 4/6\n",
      "12140/12140 [==============================] - ETA: 1s - loss: 0.1537 - accuracy: 0.93 - ETA: 0s - loss: 0.2971 - accuracy: 0.90 - ETA: 0s - loss: 0.2593 - accuracy: 0.91 - ETA: 0s - loss: 0.2501 - accuracy: 0.92 - ETA: 0s - loss: 0.2536 - accuracy: 0.92 - ETA: 0s - loss: 0.2510 - accuracy: 0.92 - ETA: 0s - loss: 0.2444 - accuracy: 0.92 - ETA: 0s - loss: 0.2408 - accuracy: 0.92 - ETA: 0s - loss: 0.2427 - accuracy: 0.92 - ETA: 0s - loss: 0.2363 - accuracy: 0.92 - ETA: 0s - loss: 0.2297 - accuracy: 0.92 - ETA: 0s - loss: 0.2319 - accuracy: 0.93 - ETA: 0s - loss: 0.2279 - accuracy: 0.93 - ETA: 0s - loss: 0.2271 - accuracy: 0.93 - ETA: 0s - loss: 0.2288 - accuracy: 0.93 - 1s 80us/sample - loss: 0.2272 - accuracy: 0.9328 - val_loss: 0.8475 - val_accuracy: 0.7265\n",
      "Epoch 5/6\n",
      "12140/12140 [==============================] - ETA: 1s - loss: 0.1263 - accuracy: 0.93 - ETA: 0s - loss: 0.1899 - accuracy: 0.93 - ETA: 0s - loss: 0.1864 - accuracy: 0.94 - ETA: 0s - loss: 0.2006 - accuracy: 0.94 - ETA: 0s - loss: 0.2183 - accuracy: 0.94 - ETA: 0s - loss: 0.2147 - accuracy: 0.94 - ETA: 0s - loss: 0.2226 - accuracy: 0.94 - ETA: 0s - loss: 0.2233 - accuracy: 0.94 - ETA: 0s - loss: 0.2182 - accuracy: 0.94 - ETA: 0s - loss: 0.2232 - accuracy: 0.94 - ETA: 0s - loss: 0.2150 - accuracy: 0.94 - ETA: 0s - loss: 0.2090 - accuracy: 0.94 - ETA: 0s - loss: 0.2050 - accuracy: 0.94 - ETA: 0s - loss: 0.2070 - accuracy: 0.94 - 1s 74us/sample - loss: 0.2064 - accuracy: 0.9440 - val_loss: 0.7404 - val_accuracy: 0.7508\n",
      "Epoch 6/6\n",
      "12140/12140 [==============================] - ETA: 1s - loss: 0.0885 - accuracy: 0.96 - ETA: 0s - loss: 0.2267 - accuracy: 0.95 - ETA: 0s - loss: 0.1855 - accuracy: 0.95 - ETA: 0s - loss: 0.1888 - accuracy: 0.95 - ETA: 0s - loss: 0.1725 - accuracy: 0.95 - ETA: 0s - loss: 0.1728 - accuracy: 0.95 - ETA: 0s - loss: 0.1805 - accuracy: 0.95 - ETA: 0s - loss: 0.1820 - accuracy: 0.95 - ETA: 0s - loss: 0.1797 - accuracy: 0.95 - ETA: 0s - loss: 0.1834 - accuracy: 0.94 - ETA: 0s - loss: 0.1847 - accuracy: 0.94 - ETA: 0s - loss: 0.1950 - accuracy: 0.94 - ETA: 0s - loss: 0.1970 - accuracy: 0.94 - ETA: 0s - loss: 0.1924 - accuracy: 0.94 - 1s 74us/sample - loss: 0.1903 - accuracy: 0.9489 - val_loss: 0.6133 - val_accuracy: 0.7617\n"
     ]
    },
    {
     "data": {
      "text/html": [
       "<span style=\"color:#4527A0\"><h1 style=\"font-size:18px\">Trial complete</h1></span>"
      ],
      "text/plain": [
       "<IPython.core.display.HTML object>"
      ]
     },
     "metadata": {},
     "output_type": "display_data"
    },
    {
     "data": {
      "text/html": [
       "<span style=\"color:#4527A0\"><h1 style=\"font-size:18px\">Trial summary</h1></span>"
      ],
      "text/plain": [
       "<IPython.core.display.HTML object>"
      ]
     },
     "metadata": {},
     "output_type": "display_data"
    },
    {
     "data": {
      "text/html": [
       "<span style=\"color:cyan\"> |-Trial ID: 682d3d25e5498469e3a912d1dbe1bb33</span>"
      ],
      "text/plain": [
       "<IPython.core.display.HTML object>"
      ]
     },
     "metadata": {},
     "output_type": "display_data"
    },
    {
     "data": {
      "text/html": [
       "<span style=\"color:cyan\"> |-Score: 0.7616832852363586</span>"
      ],
      "text/plain": [
       "<IPython.core.display.HTML object>"
      ]
     },
     "metadata": {},
     "output_type": "display_data"
    },
    {
     "data": {
      "text/html": [
       "<span style=\"color:cyan\"> |-Best step: 0</span>"
      ],
      "text/plain": [
       "<IPython.core.display.HTML object>"
      ]
     },
     "metadata": {},
     "output_type": "display_data"
    },
    {
     "data": {
      "text/html": [
       "<span style=\"color:#7E57C2\"><h2 style=\"font-size:16px\">Hyperparameters:</h2></span>"
      ],
      "text/plain": [
       "<IPython.core.display.HTML object>"
      ]
     },
     "metadata": {},
     "output_type": "display_data"
    },
    {
     "data": {
      "text/html": [
       "<span style=\"color:cyan\"> |-activation_func: tanh</span>"
      ],
      "text/plain": [
       "<IPython.core.display.HTML object>"
      ]
     },
     "metadata": {},
     "output_type": "display_data"
    },
    {
     "data": {
      "text/html": [
       "<span style=\"color:blue\"> |-activation_func_2: relu</span>"
      ],
      "text/plain": [
       "<IPython.core.display.HTML object>"
      ]
     },
     "metadata": {},
     "output_type": "display_data"
    },
    {
     "data": {
      "text/html": [
       "<span style=\"color:cyan\"> |-layers: 2</span>"
      ],
      "text/plain": [
       "<IPython.core.display.HTML object>"
      ]
     },
     "metadata": {},
     "output_type": "display_data"
    },
    {
     "data": {
      "text/html": [
       "<span style=\"color:blue\"> |-learning_rate: 0.0001</span>"
      ],
      "text/plain": [
       "<IPython.core.display.HTML object>"
      ]
     },
     "metadata": {},
     "output_type": "display_data"
    },
    {
     "data": {
      "text/html": [
       "<span style=\"color:cyan\"> |-tuner/bracket: 2</span>"
      ],
      "text/plain": [
       "<IPython.core.display.HTML object>"
      ]
     },
     "metadata": {},
     "output_type": "display_data"
    },
    {
     "data": {
      "text/html": [
       "<span style=\"color:blue\"> |-tuner/epochs: 6</span>"
      ],
      "text/plain": [
       "<IPython.core.display.HTML object>"
      ]
     },
     "metadata": {},
     "output_type": "display_data"
    },
    {
     "data": {
      "text/html": [
       "<span style=\"color:cyan\"> |-tuner/initial_epoch: 0</span>"
      ],
      "text/plain": [
       "<IPython.core.display.HTML object>"
      ]
     },
     "metadata": {},
     "output_type": "display_data"
    },
    {
     "data": {
      "text/html": [
       "<span style=\"color:blue\"> |-tuner/round: 0</span>"
      ],
      "text/plain": [
       "<IPython.core.display.HTML object>"
      ]
     },
     "metadata": {},
     "output_type": "display_data"
    },
    {
     "data": {
      "text/html": [
       "<span style=\"color:cyan\"> |-units: 80</span>"
      ],
      "text/plain": [
       "<IPython.core.display.HTML object>"
      ]
     },
     "metadata": {},
     "output_type": "display_data"
    },
    {
     "name": "stdout",
     "output_type": "stream",
     "text": [
      "Train on 12140 samples, validate on 4515 samples\n",
      "Epoch 1/6\n",
      "12140/12140 [==============================] - ETA: 2:20 - loss: 6.3361 - accuracy: 0.46 - ETA: 6s - loss: 0.7507 - accuracy: 0.7734 - ETA: 3s - loss: 0.4909 - accuracy: 0.86 - ETA: 2s - loss: 0.3909 - accuracy: 0.90 - ETA: 1s - loss: 0.3514 - accuracy: 0.92 - ETA: 1s - loss: 0.3203 - accuracy: 0.93 - ETA: 1s - loss: 0.3303 - accuracy: 0.93 - ETA: 0s - loss: 0.3444 - accuracy: 0.94 - ETA: 0s - loss: 0.3507 - accuracy: 0.94 - ETA: 0s - loss: 0.3403 - accuracy: 0.94 - ETA: 0s - loss: 0.3444 - accuracy: 0.94 - ETA: 0s - loss: 0.3468 - accuracy: 0.94 - ETA: 0s - loss: 0.3537 - accuracy: 0.95 - ETA: 0s - loss: 0.3642 - accuracy: 0.95 - ETA: 0s - loss: 0.3511 - accuracy: 0.95 - ETA: 0s - loss: 0.3387 - accuracy: 0.95 - ETA: 0s - loss: 0.3410 - accuracy: 0.95 - 2s 124us/sample - loss: 0.3407 - accuracy: 0.9553 - val_loss: 0.7648 - val_accuracy: 0.9475\n",
      "Epoch 2/6\n",
      "12140/12140 [==============================] - ETA: 1s - loss: 0.0271 - accuracy: 1.00 - ETA: 0s - loss: 0.2189 - accuracy: 0.97 - ETA: 0s - loss: 0.2118 - accuracy: 0.97 - ETA: 0s - loss: 0.2018 - accuracy: 0.97 - ETA: 0s - loss: 0.2153 - accuracy: 0.97 - ETA: 0s - loss: 0.2431 - accuracy: 0.97 - ETA: 0s - loss: 0.2599 - accuracy: 0.97 - ETA: 0s - loss: 0.2462 - accuracy: 0.97 - ETA: 0s - loss: 0.2475 - accuracy: 0.97 - ETA: 0s - loss: 0.2632 - accuracy: 0.96 - ETA: 0s - loss: 0.2799 - accuracy: 0.96 - ETA: 0s - loss: 0.2966 - accuracy: 0.96 - ETA: 0s - loss: 0.2888 - accuracy: 0.96 - ETA: 0s - loss: 0.2929 - accuracy: 0.96 - ETA: 0s - loss: 0.2839 - accuracy: 0.96 - ETA: 0s - loss: 0.2862 - accuracy: 0.96 - 1s 81us/sample - loss: 0.2847 - accuracy: 0.9676 - val_loss: 0.7289 - val_accuracy: 0.9464\n",
      "Epoch 3/6\n",
      "12140/12140 [==============================] - ETA: 1s - loss: 0.9590 - accuracy: 0.93 - ETA: 0s - loss: 0.3093 - accuracy: 0.97 - ETA: 0s - loss: 0.2404 - accuracy: 0.97 - ETA: 0s - loss: 0.2676 - accuracy: 0.97 - ETA: 0s - loss: 0.2962 - accuracy: 0.97 - ETA: 0s - loss: 0.2850 - accuracy: 0.97 - ETA: 0s - loss: 0.2711 - accuracy: 0.97 - ETA: 0s - loss: 0.2708 - accuracy: 0.97 - ETA: 0s - loss: 0.2702 - accuracy: 0.97 - ETA: 0s - loss: 0.2638 - accuracy: 0.97 - ETA: 0s - loss: 0.2581 - accuracy: 0.97 - ETA: 0s - loss: 0.2568 - accuracy: 0.97 - ETA: 0s - loss: 0.2533 - accuracy: 0.97 - ETA: 0s - loss: 0.2573 - accuracy: 0.97 - ETA: 0s - loss: 0.2587 - accuracy: 0.97 - ETA: 0s - loss: 0.2525 - accuracy: 0.97 - 1s 80us/sample - loss: 0.2537 - accuracy: 0.9754 - val_loss: 0.6697 - val_accuracy: 0.9298\n",
      "Epoch 4/6\n",
      "12140/12140 [==============================] - ETA: 1s - loss: 0.4765 - accuracy: 0.96 - ETA: 0s - loss: 0.1908 - accuracy: 0.98 - ETA: 0s - loss: 0.2061 - accuracy: 0.98 - ETA: 0s - loss: 0.2332 - accuracy: 0.98 - ETA: 0s - loss: 0.2345 - accuracy: 0.98 - ETA: 0s - loss: 0.2434 - accuracy: 0.97 - ETA: 0s - loss: 0.2456 - accuracy: 0.97 - ETA: 0s - loss: 0.2474 - accuracy: 0.97 - ETA: 0s - loss: 0.2478 - accuracy: 0.97 - ETA: 0s - loss: 0.2476 - accuracy: 0.97 - ETA: 0s - loss: 0.2450 - accuracy: 0.97 - ETA: 0s - loss: 0.2484 - accuracy: 0.97 - ETA: 0s - loss: 0.2477 - accuracy: 0.97 - ETA: 0s - loss: 0.2430 - accuracy: 0.97 - ETA: 0s - loss: 0.2439 - accuracy: 0.97 - ETA: 0s - loss: 0.2418 - accuracy: 0.97 - 1s 83us/sample - loss: 0.2508 - accuracy: 0.9769 - val_loss: 0.6089 - val_accuracy: 0.9048\n",
      "Epoch 5/6\n",
      "12140/12140 [==============================] - ETA: 1s - loss: 0.0135 - accuracy: 1.00 - ETA: 0s - loss: 0.1564 - accuracy: 0.98 - ETA: 0s - loss: 0.1845 - accuracy: 0.98 - ETA: 0s - loss: 0.2227 - accuracy: 0.97 - ETA: 0s - loss: 0.2238 - accuracy: 0.97 - ETA: 0s - loss: 0.2201 - accuracy: 0.97 - ETA: 0s - loss: 0.2194 - accuracy: 0.97 - ETA: 0s - loss: 0.2283 - accuracy: 0.97 - ETA: 0s - loss: 0.2245 - accuracy: 0.97 - ETA: 0s - loss: 0.2260 - accuracy: 0.97 - ETA: 0s - loss: 0.2262 - accuracy: 0.97 - ETA: 0s - loss: 0.2158 - accuracy: 0.97 - ETA: 0s - loss: 0.2236 - accuracy: 0.97 - ETA: 0s - loss: 0.2215 - accuracy: 0.97 - ETA: 0s - loss: 0.2255 - accuracy: 0.97 - ETA: 0s - loss: 0.2259 - accuracy: 0.97 - 1s 81us/sample - loss: 0.2264 - accuracy: 0.9764 - val_loss: 0.6253 - val_accuracy: 0.9223\n"
     ]
    },
    {
     "data": {
      "text/html": [
       "<span style=\"color:#4527A0\"><h1 style=\"font-size:18px\">Trial complete</h1></span>"
      ],
      "text/plain": [
       "<IPython.core.display.HTML object>"
      ]
     },
     "metadata": {},
     "output_type": "display_data"
    },
    {
     "data": {
      "text/html": [
       "<span style=\"color:#4527A0\"><h1 style=\"font-size:18px\">Trial summary</h1></span>"
      ],
      "text/plain": [
       "<IPython.core.display.HTML object>"
      ]
     },
     "metadata": {},
     "output_type": "display_data"
    },
    {
     "data": {
      "text/html": [
       "<span style=\"color:cyan\"> |-Trial ID: eb3d009147ad1955a1b02e853007837a</span>"
      ],
      "text/plain": [
       "<IPython.core.display.HTML object>"
      ]
     },
     "metadata": {},
     "output_type": "display_data"
    },
    {
     "data": {
      "text/html": [
       "<span style=\"color:cyan\"> |-Score: 0.9475083351135254</span>"
      ],
      "text/plain": [
       "<IPython.core.display.HTML object>"
      ]
     },
     "metadata": {},
     "output_type": "display_data"
    },
    {
     "data": {
      "text/html": [
       "<span style=\"color:cyan\"> |-Best step: 0</span>"
      ],
      "text/plain": [
       "<IPython.core.display.HTML object>"
      ]
     },
     "metadata": {},
     "output_type": "display_data"
    },
    {
     "data": {
      "text/html": [
       "<span style=\"color:#7E57C2\"><h2 style=\"font-size:16px\">Hyperparameters:</h2></span>"
      ],
      "text/plain": [
       "<IPython.core.display.HTML object>"
      ]
     },
     "metadata": {},
     "output_type": "display_data"
    },
    {
     "data": {
      "text/html": [
       "<span style=\"color:cyan\"> |-activation_func: relu</span>"
      ],
      "text/plain": [
       "<IPython.core.display.HTML object>"
      ]
     },
     "metadata": {},
     "output_type": "display_data"
    },
    {
     "data": {
      "text/html": [
       "<span style=\"color:blue\"> |-activation_func_2: swish</span>"
      ],
      "text/plain": [
       "<IPython.core.display.HTML object>"
      ]
     },
     "metadata": {},
     "output_type": "display_data"
    },
    {
     "data": {
      "text/html": [
       "<span style=\"color:cyan\"> |-layers: 5</span>"
      ],
      "text/plain": [
       "<IPython.core.display.HTML object>"
      ]
     },
     "metadata": {},
     "output_type": "display_data"
    },
    {
     "data": {
      "text/html": [
       "<span style=\"color:blue\"> |-learning_rate: 0.001</span>"
      ],
      "text/plain": [
       "<IPython.core.display.HTML object>"
      ]
     },
     "metadata": {},
     "output_type": "display_data"
    },
    {
     "data": {
      "text/html": [
       "<span style=\"color:cyan\"> |-tuner/bracket: 2</span>"
      ],
      "text/plain": [
       "<IPython.core.display.HTML object>"
      ]
     },
     "metadata": {},
     "output_type": "display_data"
    },
    {
     "data": {
      "text/html": [
       "<span style=\"color:blue\"> |-tuner/epochs: 6</span>"
      ],
      "text/plain": [
       "<IPython.core.display.HTML object>"
      ]
     },
     "metadata": {},
     "output_type": "display_data"
    },
    {
     "data": {
      "text/html": [
       "<span style=\"color:cyan\"> |-tuner/initial_epoch: 0</span>"
      ],
      "text/plain": [
       "<IPython.core.display.HTML object>"
      ]
     },
     "metadata": {},
     "output_type": "display_data"
    },
    {
     "data": {
      "text/html": [
       "<span style=\"color:blue\"> |-tuner/round: 0</span>"
      ],
      "text/plain": [
       "<IPython.core.display.HTML object>"
      ]
     },
     "metadata": {},
     "output_type": "display_data"
    },
    {
     "data": {
      "text/html": [
       "<span style=\"color:cyan\"> |-units: 160</span>"
      ],
      "text/plain": [
       "<IPython.core.display.HTML object>"
      ]
     },
     "metadata": {},
     "output_type": "display_data"
    },
    {
     "name": "stdout",
     "output_type": "stream",
     "text": [
      "Train on 12140 samples, validate on 4515 samples\n",
      "Epoch 1/6\n",
      "12140/12140 [==============================] - ETA: 2:02 - loss: 6.2039 - accuracy: 0.43 - ETA: 4s - loss: 1.5675 - accuracy: 0.7098 - ETA: 2s - loss: 0.9607 - accuracy: 0.81 - ETA: 1s - loss: 0.7471 - accuracy: 0.85 - ETA: 1s - loss: 0.6498 - accuracy: 0.88 - ETA: 0s - loss: 0.5513 - accuracy: 0.90 - ETA: 0s - loss: 0.5016 - accuracy: 0.90 - ETA: 0s - loss: 0.4576 - accuracy: 0.91 - ETA: 0s - loss: 0.4325 - accuracy: 0.91 - ETA: 0s - loss: 0.4024 - accuracy: 0.92 - ETA: 0s - loss: 0.3810 - accuracy: 0.93 - ETA: 0s - loss: 0.3726 - accuracy: 0.93 - ETA: 0s - loss: 0.3824 - accuracy: 0.93 - ETA: 0s - loss: 0.3749 - accuracy: 0.93 - 1s 107us/sample - loss: 0.3708 - accuracy: 0.9314 - val_loss: 0.9864 - val_accuracy: 0.8051\n",
      "Epoch 2/6\n",
      "12140/12140 [==============================] - ETA: 1s - loss: 0.0726 - accuracy: 0.96 - ETA: 0s - loss: 0.3581 - accuracy: 0.95 - ETA: 0s - loss: 0.2925 - accuracy: 0.95 - ETA: 0s - loss: 0.2676 - accuracy: 0.96 - ETA: 0s - loss: 0.2419 - accuracy: 0.96 - ETA: 0s - loss: 0.2536 - accuracy: 0.96 - ETA: 0s - loss: 0.2510 - accuracy: 0.96 - ETA: 0s - loss: 0.2539 - accuracy: 0.96 - ETA: 0s - loss: 0.3187 - accuracy: 0.95 - ETA: 0s - loss: 0.4208 - accuracy: 0.95 - ETA: 0s - loss: 0.4894 - accuracy: 0.94 - ETA: 0s - loss: 0.4939 - accuracy: 0.94 - ETA: 0s - loss: 0.4854 - accuracy: 0.94 - ETA: 0s - loss: 0.4774 - accuracy: 0.94 - 1s 78us/sample - loss: 0.4578 - accuracy: 0.9437 - val_loss: 0.8379 - val_accuracy: 0.8295\n",
      "Epoch 3/6\n",
      "12140/12140 [==============================] - ETA: 1s - loss: 0.0142 - accuracy: 1.00 - ETA: 0s - loss: 0.1489 - accuracy: 0.97 - ETA: 0s - loss: 0.2401 - accuracy: 0.96 - ETA: 0s - loss: 0.2313 - accuracy: 0.96 - ETA: 0s - loss: 0.2148 - accuracy: 0.96 - ETA: 0s - loss: 0.2441 - accuracy: 0.96 - ETA: 0s - loss: 0.2394 - accuracy: 0.96 - ETA: 0s - loss: 0.2378 - accuracy: 0.96 - ETA: 0s - loss: 0.2356 - accuracy: 0.96 - ETA: 0s - loss: 0.2436 - accuracy: 0.96 - ETA: 0s - loss: 0.2368 - accuracy: 0.96 - ETA: 0s - loss: 0.2369 - accuracy: 0.96 - ETA: 0s - loss: 0.2328 - accuracy: 0.96 - ETA: 0s - loss: 0.2356 - accuracy: 0.96 - 1s 77us/sample - loss: 0.2328 - accuracy: 0.9685 - val_loss: 0.4318 - val_accuracy: 0.8882\n",
      "Epoch 4/6\n",
      "12140/12140 [==============================] - ETA: 1s - loss: 0.0000e+00 - accuracy: 1.00 - ETA: 0s - loss: 0.2084 - accuracy: 0.9799   - ETA: 0s - loss: 0.2065 - accuracy: 0.97 - ETA: 0s - loss: 0.2165 - accuracy: 0.97 - ETA: 0s - loss: 0.2001 - accuracy: 0.97 - ETA: 0s - loss: 0.1906 - accuracy: 0.97 - ETA: 0s - loss: 0.1873 - accuracy: 0.97 - ETA: 0s - loss: 0.1853 - accuracy: 0.97 - ETA: 0s - loss: 0.1976 - accuracy: 0.97 - ETA: 0s - loss: 0.2069 - accuracy: 0.97 - ETA: 0s - loss: 0.2115 - accuracy: 0.97 - ETA: 0s - loss: 0.2098 - accuracy: 0.97 - ETA: 0s - loss: 0.2076 - accuracy: 0.97 - ETA: 0s - loss: 0.2133 - accuracy: 0.97 - 1s 73us/sample - loss: 0.2142 - accuracy: 0.9764 - val_loss: 0.9616 - val_accuracy: 0.6813\n"
     ]
    },
    {
     "data": {
      "text/html": [
       "<span style=\"color:#4527A0\"><h1 style=\"font-size:18px\">Trial complete</h1></span>"
      ],
      "text/plain": [
       "<IPython.core.display.HTML object>"
      ]
     },
     "metadata": {},
     "output_type": "display_data"
    },
    {
     "data": {
      "text/html": [
       "<span style=\"color:#4527A0\"><h1 style=\"font-size:18px\">Trial summary</h1></span>"
      ],
      "text/plain": [
       "<IPython.core.display.HTML object>"
      ]
     },
     "metadata": {},
     "output_type": "display_data"
    },
    {
     "data": {
      "text/html": [
       "<span style=\"color:cyan\"> |-Trial ID: eb181b4e2a7316b086ea539587a95fa4</span>"
      ],
      "text/plain": [
       "<IPython.core.display.HTML object>"
      ]
     },
     "metadata": {},
     "output_type": "display_data"
    },
    {
     "data": {
      "text/html": [
       "<span style=\"color:cyan\"> |-Score: 0.8881506323814392</span>"
      ],
      "text/plain": [
       "<IPython.core.display.HTML object>"
      ]
     },
     "metadata": {},
     "output_type": "display_data"
    },
    {
     "data": {
      "text/html": [
       "<span style=\"color:cyan\"> |-Best step: 0</span>"
      ],
      "text/plain": [
       "<IPython.core.display.HTML object>"
      ]
     },
     "metadata": {},
     "output_type": "display_data"
    },
    {
     "data": {
      "text/html": [
       "<span style=\"color:#7E57C2\"><h2 style=\"font-size:16px\">Hyperparameters:</h2></span>"
      ],
      "text/plain": [
       "<IPython.core.display.HTML object>"
      ]
     },
     "metadata": {},
     "output_type": "display_data"
    },
    {
     "data": {
      "text/html": [
       "<span style=\"color:cyan\"> |-activation_func: swish</span>"
      ],
      "text/plain": [
       "<IPython.core.display.HTML object>"
      ]
     },
     "metadata": {},
     "output_type": "display_data"
    },
    {
     "data": {
      "text/html": [
       "<span style=\"color:blue\"> |-activation_func_2: swish</span>"
      ],
      "text/plain": [
       "<IPython.core.display.HTML object>"
      ]
     },
     "metadata": {},
     "output_type": "display_data"
    },
    {
     "data": {
      "text/html": [
       "<span style=\"color:cyan\"> |-layers: 2</span>"
      ],
      "text/plain": [
       "<IPython.core.display.HTML object>"
      ]
     },
     "metadata": {},
     "output_type": "display_data"
    },
    {
     "data": {
      "text/html": [
       "<span style=\"color:blue\"> |-learning_rate: 0.001</span>"
      ],
      "text/plain": [
       "<IPython.core.display.HTML object>"
      ]
     },
     "metadata": {},
     "output_type": "display_data"
    },
    {
     "data": {
      "text/html": [
       "<span style=\"color:cyan\"> |-tuner/bracket: 2</span>"
      ],
      "text/plain": [
       "<IPython.core.display.HTML object>"
      ]
     },
     "metadata": {},
     "output_type": "display_data"
    },
    {
     "data": {
      "text/html": [
       "<span style=\"color:blue\"> |-tuner/epochs: 6</span>"
      ],
      "text/plain": [
       "<IPython.core.display.HTML object>"
      ]
     },
     "metadata": {},
     "output_type": "display_data"
    },
    {
     "data": {
      "text/html": [
       "<span style=\"color:cyan\"> |-tuner/initial_epoch: 0</span>"
      ],
      "text/plain": [
       "<IPython.core.display.HTML object>"
      ]
     },
     "metadata": {},
     "output_type": "display_data"
    },
    {
     "data": {
      "text/html": [
       "<span style=\"color:blue\"> |-tuner/round: 0</span>"
      ],
      "text/plain": [
       "<IPython.core.display.HTML object>"
      ]
     },
     "metadata": {},
     "output_type": "display_data"
    },
    {
     "data": {
      "text/html": [
       "<span style=\"color:cyan\"> |-units: 144</span>"
      ],
      "text/plain": [
       "<IPython.core.display.HTML object>"
      ]
     },
     "metadata": {},
     "output_type": "display_data"
    },
    {
     "name": "stdout",
     "output_type": "stream",
     "text": [
      "Train on 12140 samples, validate on 4515 samples\n",
      "Epoch 1/6\n",
      "12140/12140 [==============================] - ETA: 2:13 - loss: 6.3755 - accuracy: 0.43 - ETA: 5s - loss: 2.2901 - accuracy: 0.8389 - ETA: 2s - loss: 1.8237 - accuracy: 0.87 - ETA: 1s - loss: 1.5131 - accuracy: 0.89 - ETA: 1s - loss: 1.3268 - accuracy: 0.91 - ETA: 1s - loss: 1.2859 - accuracy: 0.91 - ETA: 0s - loss: 1.3146 - accuracy: 0.91 - ETA: 0s - loss: 1.7948 - accuracy: 0.88 - ETA: 0s - loss: 2.6349 - accuracy: 0.82 - ETA: 0s - loss: 3.1087 - accuracy: 0.79 - ETA: 0s - loss: 3.3632 - accuracy: 0.77 - ETA: 0s - loss: 3.4723 - accuracy: 0.77 - ETA: 0s - loss: 3.5168 - accuracy: 0.76 - ETA: 0s - loss: 3.4779 - accuracy: 0.77 - ETA: 0s - loss: 3.4665 - accuracy: 0.77 - 1s 117us/sample - loss: 3.4595 - accuracy: 0.7727 - val_loss: 3.9383 - val_accuracy: 0.7429\n",
      "Epoch 2/6\n",
      "12140/12140 [==============================] - ETA: 1s - loss: 1.4406 - accuracy: 0.90 - ETA: 0s - loss: 3.3373 - accuracy: 0.78 - ETA: 0s - loss: 3.3570 - accuracy: 0.78 - ETA: 0s - loss: 3.4668 - accuracy: 0.77 - ETA: 0s - loss: 3.5887 - accuracy: 0.76 - ETA: 0s - loss: 3.6526 - accuracy: 0.76 - ETA: 0s - loss: 3.7142 - accuracy: 0.75 - ETA: 0s - loss: 3.7493 - accuracy: 0.75 - ETA: 0s - loss: 3.8179 - accuracy: 0.75 - ETA: 0s - loss: 3.8488 - accuracy: 0.74 - ETA: 0s - loss: 3.8377 - accuracy: 0.74 - ETA: 0s - loss: 3.8422 - accuracy: 0.74 - ETA: 0s - loss: 3.8662 - accuracy: 0.74 - ETA: 0s - loss: 3.8381 - accuracy: 0.74 - ETA: 0s - loss: 3.8218 - accuracy: 0.75 - 1s 82us/sample - loss: 3.7719 - accuracy: 0.7538 - val_loss: 3.6137 - val_accuracy: 0.7643\n",
      "Epoch 3/6\n",
      "12140/12140 [==============================] - ETA: 1s - loss: 3.8453 - accuracy: 0.75 - ETA: 0s - loss: 3.2446 - accuracy: 0.78 - ETA: 0s - loss: 3.0889 - accuracy: 0.79 - ETA: 0s - loss: 3.1469 - accuracy: 0.79 - ETA: 0s - loss: 3.1834 - accuracy: 0.79 - ETA: 0s - loss: 3.2399 - accuracy: 0.78 - ETA: 0s - loss: 3.1788 - accuracy: 0.79 - ETA: 0s - loss: 3.1455 - accuracy: 0.79 - ETA: 0s - loss: 3.1600 - accuracy: 0.79 - ETA: 0s - loss: 3.1768 - accuracy: 0.79 - ETA: 0s - loss: 3.1911 - accuracy: 0.79 - ETA: 0s - loss: 3.1662 - accuracy: 0.79 - ETA: 0s - loss: 3.1725 - accuracy: 0.79 - ETA: 0s - loss: 3.1855 - accuracy: 0.79 - ETA: 0s - loss: 3.1647 - accuracy: 0.79 - ETA: 0s - loss: 3.1465 - accuracy: 0.79 - 1s 80us/sample - loss: 3.1492 - accuracy: 0.7946 - val_loss: 3.6141 - val_accuracy: 0.7641\n"
     ]
    },
    {
     "data": {
      "text/html": [
       "<span style=\"color:#4527A0\"><h1 style=\"font-size:18px\">Trial complete</h1></span>"
      ],
      "text/plain": [
       "<IPython.core.display.HTML object>"
      ]
     },
     "metadata": {},
     "output_type": "display_data"
    },
    {
     "data": {
      "text/html": [
       "<span style=\"color:#4527A0\"><h1 style=\"font-size:18px\">Trial summary</h1></span>"
      ],
      "text/plain": [
       "<IPython.core.display.HTML object>"
      ]
     },
     "metadata": {},
     "output_type": "display_data"
    },
    {
     "data": {
      "text/html": [
       "<span style=\"color:cyan\"> |-Trial ID: 22a50df5431bfa13835cfac42906e305</span>"
      ],
      "text/plain": [
       "<IPython.core.display.HTML object>"
      ]
     },
     "metadata": {},
     "output_type": "display_data"
    },
    {
     "data": {
      "text/html": [
       "<span style=\"color:cyan\"> |-Score: 0.7643410563468933</span>"
      ],
      "text/plain": [
       "<IPython.core.display.HTML object>"
      ]
     },
     "metadata": {},
     "output_type": "display_data"
    },
    {
     "data": {
      "text/html": [
       "<span style=\"color:cyan\"> |-Best step: 0</span>"
      ],
      "text/plain": [
       "<IPython.core.display.HTML object>"
      ]
     },
     "metadata": {},
     "output_type": "display_data"
    },
    {
     "data": {
      "text/html": [
       "<span style=\"color:#7E57C2\"><h2 style=\"font-size:16px\">Hyperparameters:</h2></span>"
      ],
      "text/plain": [
       "<IPython.core.display.HTML object>"
      ]
     },
     "metadata": {},
     "output_type": "display_data"
    },
    {
     "data": {
      "text/html": [
       "<span style=\"color:cyan\"> |-activation_func: tanh</span>"
      ],
      "text/plain": [
       "<IPython.core.display.HTML object>"
      ]
     },
     "metadata": {},
     "output_type": "display_data"
    },
    {
     "data": {
      "text/html": [
       "<span style=\"color:blue\"> |-activation_func_2: swish</span>"
      ],
      "text/plain": [
       "<IPython.core.display.HTML object>"
      ]
     },
     "metadata": {},
     "output_type": "display_data"
    },
    {
     "data": {
      "text/html": [
       "<span style=\"color:cyan\"> |-layers: 4</span>"
      ],
      "text/plain": [
       "<IPython.core.display.HTML object>"
      ]
     },
     "metadata": {},
     "output_type": "display_data"
    },
    {
     "data": {
      "text/html": [
       "<span style=\"color:blue\"> |-learning_rate: 0.01</span>"
      ],
      "text/plain": [
       "<IPython.core.display.HTML object>"
      ]
     },
     "metadata": {},
     "output_type": "display_data"
    },
    {
     "data": {
      "text/html": [
       "<span style=\"color:cyan\"> |-tuner/bracket: 2</span>"
      ],
      "text/plain": [
       "<IPython.core.display.HTML object>"
      ]
     },
     "metadata": {},
     "output_type": "display_data"
    },
    {
     "data": {
      "text/html": [
       "<span style=\"color:blue\"> |-tuner/epochs: 6</span>"
      ],
      "text/plain": [
       "<IPython.core.display.HTML object>"
      ]
     },
     "metadata": {},
     "output_type": "display_data"
    },
    {
     "data": {
      "text/html": [
       "<span style=\"color:cyan\"> |-tuner/initial_epoch: 0</span>"
      ],
      "text/plain": [
       "<IPython.core.display.HTML object>"
      ]
     },
     "metadata": {},
     "output_type": "display_data"
    },
    {
     "data": {
      "text/html": [
       "<span style=\"color:blue\"> |-tuner/round: 0</span>"
      ],
      "text/plain": [
       "<IPython.core.display.HTML object>"
      ]
     },
     "metadata": {},
     "output_type": "display_data"
    },
    {
     "data": {
      "text/html": [
       "<span style=\"color:cyan\"> |-units: 112</span>"
      ],
      "text/plain": [
       "<IPython.core.display.HTML object>"
      ]
     },
     "metadata": {},
     "output_type": "display_data"
    },
    {
     "name": "stdout",
     "output_type": "stream",
     "text": [
      "Train on 12140 samples, validate on 4515 samples\n",
      "Epoch 1/6\n",
      "12140/12140 [==============================] - ETA: 2:13 - loss: 6.2640 - accuracy: 0.46 - ETA: 5s - loss: 1.4381 - accuracy: 0.8850 - ETA: 3s - loss: 1.2143 - accuracy: 0.90 - ETA: 2s - loss: 1.0300 - accuracy: 0.92 - ETA: 1s - loss: 0.9007 - accuracy: 0.93 - ETA: 1s - loss: 0.8033 - accuracy: 0.93 - ETA: 1s - loss: 2.1229 - accuracy: 0.85 - ETA: 0s - loss: 2.9926 - accuracy: 0.79 - ETA: 0s - loss: 3.6582 - accuracy: 0.75 - ETA: 0s - loss: 4.1897 - accuracy: 0.72 - ETA: 0s - loss: 4.5590 - accuracy: 0.69 - ETA: 0s - loss: 4.5752 - accuracy: 0.69 - ETA: 0s - loss: 4.2860 - accuracy: 0.71 - ETA: 0s - loss: 4.0318 - accuracy: 0.73 - ETA: 0s - loss: 3.8110 - accuracy: 0.74 - ETA: 0s - loss: 3.6341 - accuracy: 0.75 - 1s 117us/sample - loss: 3.6259 - accuracy: 0.7600 - val_loss: 3.8964 - val_accuracy: 0.7462\n",
      "Epoch 2/6\n",
      "12140/12140 [==============================] - ETA: 1s - loss: 0.4820 - accuracy: 0.96 - ETA: 0s - loss: 0.7509 - accuracy: 0.94 - ETA: 0s - loss: 0.7909 - accuracy: 0.94 - ETA: 0s - loss: 0.8181 - accuracy: 0.94 - ETA: 0s - loss: 0.8211 - accuracy: 0.94 - ETA: 0s - loss: 0.9245 - accuracy: 0.93 - ETA: 0s - loss: 1.1544 - accuracy: 0.92 - ETA: 0s - loss: 1.2892 - accuracy: 0.91 - ETA: 0s - loss: 1.3185 - accuracy: 0.91 - ETA: 0s - loss: 1.3203 - accuracy: 0.91 - ETA: 0s - loss: 1.2990 - accuracy: 0.91 - ETA: 0s - loss: 1.2871 - accuracy: 0.91 - ETA: 0s - loss: 1.2754 - accuracy: 0.91 - ETA: 0s - loss: 1.2726 - accuracy: 0.91 - ETA: 0s - loss: 1.2542 - accuracy: 0.91 - 1s 81us/sample - loss: 1.2449 - accuracy: 0.9187 - val_loss: 2.3510 - val_accuracy: 0.8472\n",
      "Epoch 3/6\n",
      "12140/12140 [==============================] - ETA: 1s - loss: 0.0000e+00 - accuracy: 1.00 - ETA: 0s - loss: 0.6830 - accuracy: 0.9555   - ETA: 0s - loss: 0.8588 - accuracy: 0.94 - ETA: 0s - loss: 0.8820 - accuracy: 0.94 - ETA: 0s - loss: 0.8694 - accuracy: 0.94 - ETA: 0s - loss: 0.8767 - accuracy: 0.94 - ETA: 0s - loss: 0.8570 - accuracy: 0.94 - ETA: 0s - loss: 0.8852 - accuracy: 0.94 - ETA: 0s - loss: 0.8647 - accuracy: 0.94 - ETA: 0s - loss: 0.8611 - accuracy: 0.94 - ETA: 0s - loss: 0.8748 - accuracy: 0.94 - ETA: 0s - loss: 0.8659 - accuracy: 0.94 - ETA: 0s - loss: 0.8647 - accuracy: 0.94 - ETA: 0s - loss: 0.9467 - accuracy: 0.93 - ETA: 0s - loss: 1.2142 - accuracy: 0.92 - 1s 79us/sample - loss: 1.3721 - accuracy: 0.9107 - val_loss: 6.4066 - val_accuracy: 0.5845\n"
     ]
    },
    {
     "data": {
      "text/html": [
       "<span style=\"color:#4527A0\"><h1 style=\"font-size:18px\">Trial complete</h1></span>"
      ],
      "text/plain": [
       "<IPython.core.display.HTML object>"
      ]
     },
     "metadata": {},
     "output_type": "display_data"
    },
    {
     "data": {
      "text/html": [
       "<span style=\"color:#4527A0\"><h1 style=\"font-size:18px\">Trial summary</h1></span>"
      ],
      "text/plain": [
       "<IPython.core.display.HTML object>"
      ]
     },
     "metadata": {},
     "output_type": "display_data"
    },
    {
     "data": {
      "text/html": [
       "<span style=\"color:cyan\"> |-Trial ID: 678a3ea36f9fa0375e3cff95b360dd3c</span>"
      ],
      "text/plain": [
       "<IPython.core.display.HTML object>"
      ]
     },
     "metadata": {},
     "output_type": "display_data"
    },
    {
     "data": {
      "text/html": [
       "<span style=\"color:cyan\"> |-Score: 0.8471760749816895</span>"
      ],
      "text/plain": [
       "<IPython.core.display.HTML object>"
      ]
     },
     "metadata": {},
     "output_type": "display_data"
    },
    {
     "data": {
      "text/html": [
       "<span style=\"color:cyan\"> |-Best step: 0</span>"
      ],
      "text/plain": [
       "<IPython.core.display.HTML object>"
      ]
     },
     "metadata": {},
     "output_type": "display_data"
    },
    {
     "data": {
      "text/html": [
       "<span style=\"color:#7E57C2\"><h2 style=\"font-size:16px\">Hyperparameters:</h2></span>"
      ],
      "text/plain": [
       "<IPython.core.display.HTML object>"
      ]
     },
     "metadata": {},
     "output_type": "display_data"
    },
    {
     "data": {
      "text/html": [
       "<span style=\"color:cyan\"> |-activation_func: swish</span>"
      ],
      "text/plain": [
       "<IPython.core.display.HTML object>"
      ]
     },
     "metadata": {},
     "output_type": "display_data"
    },
    {
     "data": {
      "text/html": [
       "<span style=\"color:blue\"> |-activation_func_2: tanh</span>"
      ],
      "text/plain": [
       "<IPython.core.display.HTML object>"
      ]
     },
     "metadata": {},
     "output_type": "display_data"
    },
    {
     "data": {
      "text/html": [
       "<span style=\"color:cyan\"> |-layers: 3</span>"
      ],
      "text/plain": [
       "<IPython.core.display.HTML object>"
      ]
     },
     "metadata": {},
     "output_type": "display_data"
    },
    {
     "data": {
      "text/html": [
       "<span style=\"color:blue\"> |-learning_rate: 0.01</span>"
      ],
      "text/plain": [
       "<IPython.core.display.HTML object>"
      ]
     },
     "metadata": {},
     "output_type": "display_data"
    },
    {
     "data": {
      "text/html": [
       "<span style=\"color:cyan\"> |-tuner/bracket: 2</span>"
      ],
      "text/plain": [
       "<IPython.core.display.HTML object>"
      ]
     },
     "metadata": {},
     "output_type": "display_data"
    },
    {
     "data": {
      "text/html": [
       "<span style=\"color:blue\"> |-tuner/epochs: 6</span>"
      ],
      "text/plain": [
       "<IPython.core.display.HTML object>"
      ]
     },
     "metadata": {},
     "output_type": "display_data"
    },
    {
     "data": {
      "text/html": [
       "<span style=\"color:cyan\"> |-tuner/initial_epoch: 0</span>"
      ],
      "text/plain": [
       "<IPython.core.display.HTML object>"
      ]
     },
     "metadata": {},
     "output_type": "display_data"
    },
    {
     "data": {
      "text/html": [
       "<span style=\"color:blue\"> |-tuner/round: 0</span>"
      ],
      "text/plain": [
       "<IPython.core.display.HTML object>"
      ]
     },
     "metadata": {},
     "output_type": "display_data"
    },
    {
     "data": {
      "text/html": [
       "<span style=\"color:cyan\"> |-units: 224</span>"
      ],
      "text/plain": [
       "<IPython.core.display.HTML object>"
      ]
     },
     "metadata": {},
     "output_type": "display_data"
    },
    {
     "name": "stdout",
     "output_type": "stream",
     "text": [
      "Train on 12140 samples, validate on 4515 samples\n",
      "Epoch 1/6\n",
      "12140/12140 [==============================] - ETA: 1:43 - loss: 5.8962 - accuracy: 0.37 - ETA: 3s - loss: 0.8032 - accuracy: 0.8976 - ETA: 2s - loss: 0.6110 - accuracy: 0.91 - ETA: 1s - loss: 0.4742 - accuracy: 0.93 - ETA: 1s - loss: 0.4079 - accuracy: 0.94 - ETA: 0s - loss: 0.3569 - accuracy: 0.95 - ETA: 0s - loss: 0.3315 - accuracy: 0.95 - ETA: 0s - loss: 0.3133 - accuracy: 0.95 - ETA: 0s - loss: 0.2893 - accuracy: 0.96 - ETA: 0s - loss: 0.2713 - accuracy: 0.96 - ETA: 0s - loss: 0.2653 - accuracy: 0.96 - ETA: 0s - loss: 0.2624 - accuracy: 0.96 - ETA: 0s - loss: 0.2608 - accuracy: 0.96 - 1s 97us/sample - loss: 0.2624 - accuracy: 0.9633 - val_loss: 1.4349 - val_accuracy: 0.8035\n",
      "Epoch 2/6\n",
      "12140/12140 [==============================] - ETA: 1s - loss: 0.0258 - accuracy: 1.00 - ETA: 0s - loss: 0.2254 - accuracy: 0.96 - ETA: 0s - loss: 0.2131 - accuracy: 0.96 - ETA: 0s - loss: 0.1879 - accuracy: 0.97 - ETA: 0s - loss: 0.1863 - accuracy: 0.97 - ETA: 0s - loss: 0.1843 - accuracy: 0.97 - ETA: 0s - loss: 0.1796 - accuracy: 0.97 - ETA: 0s - loss: 0.1923 - accuracy: 0.97 - ETA: 0s - loss: 0.1851 - accuracy: 0.97 - ETA: 0s - loss: 0.1881 - accuracy: 0.97 - ETA: 0s - loss: 0.1834 - accuracy: 0.97 - ETA: 0s - loss: 0.1818 - accuracy: 0.97 - ETA: 0s - loss: 0.1805 - accuracy: 0.97 - 1s 71us/sample - loss: 0.1771 - accuracy: 0.9759 - val_loss: 0.8186 - val_accuracy: 0.8073\n",
      "Epoch 3/6\n",
      "12140/12140 [==============================] - ETA: 1s - loss: 0.0258 - accuracy: 1.00 - ETA: 0s - loss: 0.1032 - accuracy: 0.98 - ETA: 0s - loss: 0.1493 - accuracy: 0.98 - ETA: 0s - loss: 0.1449 - accuracy: 0.98 - ETA: 0s - loss: 0.1499 - accuracy: 0.97 - ETA: 0s - loss: 0.1559 - accuracy: 0.97 - ETA: 0s - loss: 0.1564 - accuracy: 0.97 - ETA: 0s - loss: 0.1615 - accuracy: 0.97 - ETA: 0s - loss: 0.1611 - accuracy: 0.97 - ETA: 0s - loss: 0.1639 - accuracy: 0.97 - ETA: 0s - loss: 0.1600 - accuracy: 0.97 - ETA: 0s - loss: 0.1591 - accuracy: 0.97 - ETA: 0s - loss: 0.1667 - accuracy: 0.97 - ETA: 0s - loss: 0.1676 - accuracy: 0.97 - 1s 80us/sample - loss: 0.1658 - accuracy: 0.9760 - val_loss: 0.4638 - val_accuracy: 0.8959\n",
      "Epoch 4/6\n",
      "12140/12140 [==============================] - ETA: 1s - loss: 0.4891 - accuracy: 0.96 - ETA: 0s - loss: 0.2169 - accuracy: 0.97 - ETA: 0s - loss: 0.1829 - accuracy: 0.97 - ETA: 0s - loss: 0.1506 - accuracy: 0.97 - ETA: 0s - loss: 0.1415 - accuracy: 0.97 - ETA: 0s - loss: 0.1410 - accuracy: 0.97 - ETA: 0s - loss: 0.1535 - accuracy: 0.97 - ETA: 0s - loss: 0.1933 - accuracy: 0.97 - ETA: 0s - loss: 0.2258 - accuracy: 0.96 - ETA: 0s - loss: 0.2561 - accuracy: 0.96 - ETA: 0s - loss: 0.2746 - accuracy: 0.96 - ETA: 0s - loss: 0.2861 - accuracy: 0.96 - ETA: 0s - loss: 0.3103 - accuracy: 0.96 - ETA: 0s - loss: 0.3191 - accuracy: 0.96 - ETA: 0s - loss: 0.3340 - accuracy: 0.96 - 1s 75us/sample - loss: 0.3341 - accuracy: 0.9671 - val_loss: 2.0574 - val_accuracy: 0.8423\n"
     ]
    },
    {
     "data": {
      "text/html": [
       "<span style=\"color:#4527A0\"><h1 style=\"font-size:18px\">Trial complete</h1></span>"
      ],
      "text/plain": [
       "<IPython.core.display.HTML object>"
      ]
     },
     "metadata": {},
     "output_type": "display_data"
    },
    {
     "data": {
      "text/html": [
       "<span style=\"color:#4527A0\"><h1 style=\"font-size:18px\">Trial summary</h1></span>"
      ],
      "text/plain": [
       "<IPython.core.display.HTML object>"
      ]
     },
     "metadata": {},
     "output_type": "display_data"
    },
    {
     "data": {
      "text/html": [
       "<span style=\"color:cyan\"> |-Trial ID: f1dc3853f2ce811f58098eb16ce4352e</span>"
      ],
      "text/plain": [
       "<IPython.core.display.HTML object>"
      ]
     },
     "metadata": {},
     "output_type": "display_data"
    },
    {
     "data": {
      "text/html": [
       "<span style=\"color:cyan\"> |-Score: 0.8959025740623474</span>"
      ],
      "text/plain": [
       "<IPython.core.display.HTML object>"
      ]
     },
     "metadata": {},
     "output_type": "display_data"
    },
    {
     "data": {
      "text/html": [
       "<span style=\"color:cyan\"> |-Best step: 0</span>"
      ],
      "text/plain": [
       "<IPython.core.display.HTML object>"
      ]
     },
     "metadata": {},
     "output_type": "display_data"
    },
    {
     "data": {
      "text/html": [
       "<span style=\"color:#7E57C2\"><h2 style=\"font-size:16px\">Hyperparameters:</h2></span>"
      ],
      "text/plain": [
       "<IPython.core.display.HTML object>"
      ]
     },
     "metadata": {},
     "output_type": "display_data"
    },
    {
     "data": {
      "text/html": [
       "<span style=\"color:cyan\"> |-activation_func: swish</span>"
      ],
      "text/plain": [
       "<IPython.core.display.HTML object>"
      ]
     },
     "metadata": {},
     "output_type": "display_data"
    },
    {
     "data": {
      "text/html": [
       "<span style=\"color:blue\"> |-activation_func_2: tanh</span>"
      ],
      "text/plain": [
       "<IPython.core.display.HTML object>"
      ]
     },
     "metadata": {},
     "output_type": "display_data"
    },
    {
     "data": {
      "text/html": [
       "<span style=\"color:cyan\"> |-layers: 1</span>"
      ],
      "text/plain": [
       "<IPython.core.display.HTML object>"
      ]
     },
     "metadata": {},
     "output_type": "display_data"
    },
    {
     "data": {
      "text/html": [
       "<span style=\"color:blue\"> |-learning_rate: 0.01</span>"
      ],
      "text/plain": [
       "<IPython.core.display.HTML object>"
      ]
     },
     "metadata": {},
     "output_type": "display_data"
    },
    {
     "data": {
      "text/html": [
       "<span style=\"color:cyan\"> |-tuner/bracket: 2</span>"
      ],
      "text/plain": [
       "<IPython.core.display.HTML object>"
      ]
     },
     "metadata": {},
     "output_type": "display_data"
    },
    {
     "data": {
      "text/html": [
       "<span style=\"color:blue\"> |-tuner/epochs: 6</span>"
      ],
      "text/plain": [
       "<IPython.core.display.HTML object>"
      ]
     },
     "metadata": {},
     "output_type": "display_data"
    },
    {
     "data": {
      "text/html": [
       "<span style=\"color:cyan\"> |-tuner/initial_epoch: 0</span>"
      ],
      "text/plain": [
       "<IPython.core.display.HTML object>"
      ]
     },
     "metadata": {},
     "output_type": "display_data"
    },
    {
     "data": {
      "text/html": [
       "<span style=\"color:blue\"> |-tuner/round: 0</span>"
      ],
      "text/plain": [
       "<IPython.core.display.HTML object>"
      ]
     },
     "metadata": {},
     "output_type": "display_data"
    },
    {
     "data": {
      "text/html": [
       "<span style=\"color:cyan\"> |-units: 208</span>"
      ],
      "text/plain": [
       "<IPython.core.display.HTML object>"
      ]
     },
     "metadata": {},
     "output_type": "display_data"
    },
    {
     "name": "stdout",
     "output_type": "stream",
     "text": [
      "Train on 12140 samples, validate on 4515 samples\n",
      "Epoch 1/6\n",
      "12140/12140 [==============================] - ETA: 2:15 - loss: 3.3168 - accuracy: 0.43 - ETA: 5s - loss: 2.7870 - accuracy: 0.4651 - ETA: 2s - loss: 2.5771 - accuracy: 0.45 - ETA: 2s - loss: 2.3609 - accuracy: 0.45 - ETA: 1s - loss: 2.2147 - accuracy: 0.46 - ETA: 1s - loss: 2.1011 - accuracy: 0.47 - ETA: 0s - loss: 1.9516 - accuracy: 0.48 - ETA: 0s - loss: 1.8551 - accuracy: 0.49 - ETA: 0s - loss: 1.7416 - accuracy: 0.50 - ETA: 0s - loss: 1.6478 - accuracy: 0.51 - ETA: 0s - loss: 1.5656 - accuracy: 0.52 - ETA: 0s - loss: 1.4837 - accuracy: 0.53 - ETA: 0s - loss: 1.4134 - accuracy: 0.54 - ETA: 0s - loss: 1.3568 - accuracy: 0.55 - ETA: 0s - loss: 1.3013 - accuracy: 0.57 - 1s 118us/sample - loss: 1.2526 - accuracy: 0.5810 - val_loss: 0.5949 - val_accuracy: 0.6321\n",
      "Epoch 2/6\n",
      "12140/12140 [==============================] - ETA: 1s - loss: 0.5353 - accuracy: 0.59 - ETA: 0s - loss: 0.4784 - accuracy: 0.73 - ETA: 0s - loss: 0.4621 - accuracy: 0.74 - ETA: 0s - loss: 0.4562 - accuracy: 0.75 - ETA: 0s - loss: 0.4398 - accuracy: 0.77 - ETA: 0s - loss: 0.4325 - accuracy: 0.77 - ETA: 0s - loss: 0.4252 - accuracy: 0.78 - ETA: 0s - loss: 0.4206 - accuracy: 0.78 - ETA: 0s - loss: 0.4148 - accuracy: 0.79 - ETA: 0s - loss: 0.4039 - accuracy: 0.80 - ETA: 0s - loss: 0.4040 - accuracy: 0.80 - ETA: 0s - loss: 0.3982 - accuracy: 0.81 - ETA: 0s - loss: 0.3928 - accuracy: 0.81 - ETA: 0s - loss: 0.3892 - accuracy: 0.82 - ETA: 0s - loss: 0.3797 - accuracy: 0.82 - 1s 82us/sample - loss: 0.3742 - accuracy: 0.8280 - val_loss: 0.3942 - val_accuracy: 0.8272\n",
      "Epoch 3/6\n",
      "12140/12140 [==============================] - ETA: 1s - loss: 0.2653 - accuracy: 0.93 - ETA: 0s - loss: 0.2737 - accuracy: 0.91 - ETA: 0s - loss: 0.2604 - accuracy: 0.91 - ETA: 0s - loss: 0.2598 - accuracy: 0.91 - ETA: 0s - loss: 0.2711 - accuracy: 0.90 - ETA: 0s - loss: 0.2731 - accuracy: 0.90 - ETA: 0s - loss: 0.2716 - accuracy: 0.90 - ETA: 0s - loss: 0.2675 - accuracy: 0.90 - ETA: 0s - loss: 0.2590 - accuracy: 0.90 - ETA: 0s - loss: 0.2542 - accuracy: 0.91 - ETA: 0s - loss: 0.2560 - accuracy: 0.91 - ETA: 0s - loss: 0.2510 - accuracy: 0.91 - ETA: 0s - loss: 0.2515 - accuracy: 0.91 - ETA: 0s - loss: 0.2474 - accuracy: 0.91 - ETA: 0s - loss: 0.2457 - accuracy: 0.91 - 1s 81us/sample - loss: 0.2429 - accuracy: 0.9181 - val_loss: 0.3082 - val_accuracy: 0.9023\n",
      "Epoch 4/6\n",
      "12140/12140 [==============================] - ETA: 1s - loss: 0.1798 - accuracy: 0.96 - ETA: 0s - loss: 0.1832 - accuracy: 0.96 - ETA: 0s - loss: 0.2029 - accuracy: 0.94 - ETA: 0s - loss: 0.2103 - accuracy: 0.94 - ETA: 0s - loss: 0.2019 - accuracy: 0.94 - ETA: 0s - loss: 0.2051 - accuracy: 0.94 - ETA: 0s - loss: 0.1998 - accuracy: 0.94 - ETA: 0s - loss: 0.1973 - accuracy: 0.94 - ETA: 0s - loss: 0.1920 - accuracy: 0.94 - ETA: 0s - loss: 0.1903 - accuracy: 0.94 - ETA: 0s - loss: 0.1865 - accuracy: 0.94 - ETA: 0s - loss: 0.1882 - accuracy: 0.94 - ETA: 0s - loss: 0.1865 - accuracy: 0.94 - ETA: 0s - loss: 0.1839 - accuracy: 0.94 - ETA: 0s - loss: 0.1817 - accuracy: 0.94 - 1s 79us/sample - loss: 0.1812 - accuracy: 0.9480 - val_loss: 0.2745 - val_accuracy: 0.9291\n",
      "Epoch 5/6\n",
      "12140/12140 [==============================] - ETA: 1s - loss: 0.1205 - accuracy: 0.93 - ETA: 0s - loss: 0.1706 - accuracy: 0.95 - ETA: 0s - loss: 0.1531 - accuracy: 0.95 - ETA: 0s - loss: 0.1572 - accuracy: 0.95 - ETA: 0s - loss: 0.1552 - accuracy: 0.95 - ETA: 0s - loss: 0.1510 - accuracy: 0.95 - ETA: 0s - loss: 0.1555 - accuracy: 0.95 - ETA: 0s - loss: 0.1556 - accuracy: 0.95 - ETA: 0s - loss: 0.1574 - accuracy: 0.95 - ETA: 0s - loss: 0.1548 - accuracy: 0.96 - ETA: 0s - loss: 0.1520 - accuracy: 0.96 - ETA: 0s - loss: 0.1517 - accuracy: 0.96 - ETA: 0s - loss: 0.1481 - accuracy: 0.96 - ETA: 0s - loss: 0.1449 - accuracy: 0.96 - ETA: 0s - loss: 0.1447 - accuracy: 0.96 - 1s 80us/sample - loss: 0.1434 - accuracy: 0.9638 - val_loss: 0.2571 - val_accuracy: 0.9375\n",
      "Epoch 6/6\n",
      "12140/12140 [==============================] - ETA: 1s - loss: 0.0659 - accuracy: 1.00 - ETA: 0s - loss: 0.1380 - accuracy: 0.96 - ETA: 0s - loss: 0.1286 - accuracy: 0.96 - ETA: 0s - loss: 0.1277 - accuracy: 0.96 - ETA: 0s - loss: 0.1280 - accuracy: 0.96 - ETA: 0s - loss: 0.1327 - accuracy: 0.96 - ETA: 0s - loss: 0.1268 - accuracy: 0.96 - ETA: 0s - loss: 0.1280 - accuracy: 0.96 - ETA: 0s - loss: 0.1253 - accuracy: 0.96 - ETA: 0s - loss: 0.1237 - accuracy: 0.96 - ETA: 0s - loss: 0.1210 - accuracy: 0.97 - ETA: 0s - loss: 0.1216 - accuracy: 0.97 - ETA: 0s - loss: 0.1219 - accuracy: 0.97 - ETA: 0s - loss: 0.1247 - accuracy: 0.96 - ETA: 0s - loss: 0.1263 - accuracy: 0.96 - 1s 82us/sample - loss: 0.1260 - accuracy: 0.9682 - val_loss: 0.2454 - val_accuracy: 0.9446\n"
     ]
    },
    {
     "data": {
      "text/html": [
       "<span style=\"color:#4527A0\"><h1 style=\"font-size:18px\">Trial complete</h1></span>"
      ],
      "text/plain": [
       "<IPython.core.display.HTML object>"
      ]
     },
     "metadata": {},
     "output_type": "display_data"
    },
    {
     "data": {
      "text/html": [
       "<span style=\"color:#4527A0\"><h1 style=\"font-size:18px\">Trial summary</h1></span>"
      ],
      "text/plain": [
       "<IPython.core.display.HTML object>"
      ]
     },
     "metadata": {},
     "output_type": "display_data"
    },
    {
     "data": {
      "text/html": [
       "<span style=\"color:cyan\"> |-Trial ID: faac593e6c9b43a6a3a2aa3982dcab19</span>"
      ],
      "text/plain": [
       "<IPython.core.display.HTML object>"
      ]
     },
     "metadata": {},
     "output_type": "display_data"
    },
    {
     "data": {
      "text/html": [
       "<span style=\"color:cyan\"> |-Score: 0.9446290135383606</span>"
      ],
      "text/plain": [
       "<IPython.core.display.HTML object>"
      ]
     },
     "metadata": {},
     "output_type": "display_data"
    },
    {
     "data": {
      "text/html": [
       "<span style=\"color:cyan\"> |-Best step: 0</span>"
      ],
      "text/plain": [
       "<IPython.core.display.HTML object>"
      ]
     },
     "metadata": {},
     "output_type": "display_data"
    },
    {
     "data": {
      "text/html": [
       "<span style=\"color:#7E57C2\"><h2 style=\"font-size:16px\">Hyperparameters:</h2></span>"
      ],
      "text/plain": [
       "<IPython.core.display.HTML object>"
      ]
     },
     "metadata": {},
     "output_type": "display_data"
    },
    {
     "data": {
      "text/html": [
       "<span style=\"color:cyan\"> |-activation_func: swish</span>"
      ],
      "text/plain": [
       "<IPython.core.display.HTML object>"
      ]
     },
     "metadata": {},
     "output_type": "display_data"
    },
    {
     "data": {
      "text/html": [
       "<span style=\"color:blue\"> |-activation_func_2: tanh</span>"
      ],
      "text/plain": [
       "<IPython.core.display.HTML object>"
      ]
     },
     "metadata": {},
     "output_type": "display_data"
    },
    {
     "data": {
      "text/html": [
       "<span style=\"color:cyan\"> |-layers: 3</span>"
      ],
      "text/plain": [
       "<IPython.core.display.HTML object>"
      ]
     },
     "metadata": {},
     "output_type": "display_data"
    },
    {
     "data": {
      "text/html": [
       "<span style=\"color:blue\"> |-learning_rate: 0.0001</span>"
      ],
      "text/plain": [
       "<IPython.core.display.HTML object>"
      ]
     },
     "metadata": {},
     "output_type": "display_data"
    },
    {
     "data": {
      "text/html": [
       "<span style=\"color:cyan\"> |-tuner/bracket: 2</span>"
      ],
      "text/plain": [
       "<IPython.core.display.HTML object>"
      ]
     },
     "metadata": {},
     "output_type": "display_data"
    },
    {
     "data": {
      "text/html": [
       "<span style=\"color:blue\"> |-tuner/epochs: 6</span>"
      ],
      "text/plain": [
       "<IPython.core.display.HTML object>"
      ]
     },
     "metadata": {},
     "output_type": "display_data"
    },
    {
     "data": {
      "text/html": [
       "<span style=\"color:cyan\"> |-tuner/initial_epoch: 0</span>"
      ],
      "text/plain": [
       "<IPython.core.display.HTML object>"
      ]
     },
     "metadata": {},
     "output_type": "display_data"
    },
    {
     "data": {
      "text/html": [
       "<span style=\"color:blue\"> |-tuner/round: 0</span>"
      ],
      "text/plain": [
       "<IPython.core.display.HTML object>"
      ]
     },
     "metadata": {},
     "output_type": "display_data"
    },
    {
     "data": {
      "text/html": [
       "<span style=\"color:cyan\"> |-units: 80</span>"
      ],
      "text/plain": [
       "<IPython.core.display.HTML object>"
      ]
     },
     "metadata": {},
     "output_type": "display_data"
    },
    {
     "name": "stdout",
     "output_type": "stream",
     "text": [
      "Train on 12140 samples, validate on 4515 samples\n",
      "Epoch 7/17\n",
      "12140/12140 [==============================] - ETA: 1:49 - loss: 8.3278 - accuracy: 0.25 - ETA: 3s - loss: 1.8998 - accuracy: 0.8562 - ETA: 2s - loss: 1.5058 - accuracy: 0.88 - ETA: 1s - loss: 1.2435 - accuracy: 0.90 - ETA: 1s - loss: 1.1069 - accuracy: 0.91 - ETA: 0s - loss: 0.9706 - accuracy: 0.92 - ETA: 0s - loss: 0.8673 - accuracy: 0.93 - ETA: 0s - loss: 0.7991 - accuracy: 0.93 - ETA: 0s - loss: 0.7354 - accuracy: 0.94 - ETA: 0s - loss: 0.6816 - accuracy: 0.94 - ETA: 0s - loss: 0.6403 - accuracy: 0.94 - ETA: 0s - loss: 0.6052 - accuracy: 0.94 - ETA: 0s - loss: 0.5739 - accuracy: 0.95 - ETA: 0s - loss: 0.6136 - accuracy: 0.94 - 1s 104us/sample - loss: 0.6216 - accuracy: 0.9471 - val_loss: 3.9693 - val_accuracy: 0.7360\n",
      "Epoch 8/17\n",
      "12140/12140 [==============================] - ETA: 1s - loss: 0.0000e+00 - accuracy: 1.00 - ETA: 0s - loss: 0.5144 - accuracy: 0.9666   - ETA: 0s - loss: 0.4892 - accuracy: 0.96 - ETA: 0s - loss: 0.5297 - accuracy: 0.96 - ETA: 0s - loss: 0.5680 - accuracy: 0.95 - ETA: 0s - loss: 0.6027 - accuracy: 0.95 - ETA: 0s - loss: 0.5962 - accuracy: 0.95 - ETA: 0s - loss: 0.5711 - accuracy: 0.95 - ETA: 0s - loss: 0.5469 - accuracy: 0.95 - ETA: 0s - loss: 0.5303 - accuracy: 0.96 - ETA: 0s - loss: 0.5199 - accuracy: 0.96 - ETA: 0s - loss: 0.5081 - accuracy: 0.96 - ETA: 0s - loss: 0.4901 - accuracy: 0.96 - ETA: 0s - loss: 0.4839 - accuracy: 0.96 - 1s 74us/sample - loss: 0.4815 - accuracy: 0.9625 - val_loss: 4.4658 - val_accuracy: 0.6886\n"
     ]
    },
    {
     "data": {
      "text/html": [
       "<span style=\"color:#4527A0\"><h1 style=\"font-size:18px\">Trial complete</h1></span>"
      ],
      "text/plain": [
       "<IPython.core.display.HTML object>"
      ]
     },
     "metadata": {},
     "output_type": "display_data"
    },
    {
     "data": {
      "text/html": [
       "<span style=\"color:#4527A0\"><h1 style=\"font-size:18px\">Trial summary</h1></span>"
      ],
      "text/plain": [
       "<IPython.core.display.HTML object>"
      ]
     },
     "metadata": {},
     "output_type": "display_data"
    },
    {
     "data": {
      "text/html": [
       "<span style=\"color:cyan\"> |-Trial ID: c042499628d18369239f1dcbcc1c2f3f</span>"
      ],
      "text/plain": [
       "<IPython.core.display.HTML object>"
      ]
     },
     "metadata": {},
     "output_type": "display_data"
    },
    {
     "data": {
      "text/html": [
       "<span style=\"color:cyan\"> |-Score: 0.7359911203384399</span>"
      ],
      "text/plain": [
       "<IPython.core.display.HTML object>"
      ]
     },
     "metadata": {},
     "output_type": "display_data"
    },
    {
     "data": {
      "text/html": [
       "<span style=\"color:cyan\"> |-Best step: 0</span>"
      ],
      "text/plain": [
       "<IPython.core.display.HTML object>"
      ]
     },
     "metadata": {},
     "output_type": "display_data"
    },
    {
     "data": {
      "text/html": [
       "<span style=\"color:#7E57C2\"><h2 style=\"font-size:16px\">Hyperparameters:</h2></span>"
      ],
      "text/plain": [
       "<IPython.core.display.HTML object>"
      ]
     },
     "metadata": {},
     "output_type": "display_data"
    },
    {
     "data": {
      "text/html": [
       "<span style=\"color:cyan\"> |-activation_func: tanh</span>"
      ],
      "text/plain": [
       "<IPython.core.display.HTML object>"
      ]
     },
     "metadata": {},
     "output_type": "display_data"
    },
    {
     "data": {
      "text/html": [
       "<span style=\"color:blue\"> |-activation_func_2: tanh</span>"
      ],
      "text/plain": [
       "<IPython.core.display.HTML object>"
      ]
     },
     "metadata": {},
     "output_type": "display_data"
    },
    {
     "data": {
      "text/html": [
       "<span style=\"color:cyan\"> |-layers: 2</span>"
      ],
      "text/plain": [
       "<IPython.core.display.HTML object>"
      ]
     },
     "metadata": {},
     "output_type": "display_data"
    },
    {
     "data": {
      "text/html": [
       "<span style=\"color:blue\"> |-learning_rate: 0.01</span>"
      ],
      "text/plain": [
       "<IPython.core.display.HTML object>"
      ]
     },
     "metadata": {},
     "output_type": "display_data"
    },
    {
     "data": {
      "text/html": [
       "<span style=\"color:cyan\"> |-tuner/bracket: 2</span>"
      ],
      "text/plain": [
       "<IPython.core.display.HTML object>"
      ]
     },
     "metadata": {},
     "output_type": "display_data"
    },
    {
     "data": {
      "text/html": [
       "<span style=\"color:blue\"> |-tuner/epochs: 17</span>"
      ],
      "text/plain": [
       "<IPython.core.display.HTML object>"
      ]
     },
     "metadata": {},
     "output_type": "display_data"
    },
    {
     "data": {
      "text/html": [
       "<span style=\"color:cyan\"> |-tuner/initial_epoch: 6</span>"
      ],
      "text/plain": [
       "<IPython.core.display.HTML object>"
      ]
     },
     "metadata": {},
     "output_type": "display_data"
    },
    {
     "data": {
      "text/html": [
       "<span style=\"color:blue\"> |-tuner/round: 1</span>"
      ],
      "text/plain": [
       "<IPython.core.display.HTML object>"
      ]
     },
     "metadata": {},
     "output_type": "display_data"
    },
    {
     "data": {
      "text/html": [
       "<span style=\"color:cyan\"> |-tuner/trial_id: 993e0821cb331c6cebd42b5e1969ce89</span>"
      ],
      "text/plain": [
       "<IPython.core.display.HTML object>"
      ]
     },
     "metadata": {},
     "output_type": "display_data"
    },
    {
     "data": {
      "text/html": [
       "<span style=\"color:blue\"> |-units: 224</span>"
      ],
      "text/plain": [
       "<IPython.core.display.HTML object>"
      ]
     },
     "metadata": {},
     "output_type": "display_data"
    },
    {
     "name": "stdout",
     "output_type": "stream",
     "text": [
      "Train on 12140 samples, validate on 4515 samples\n",
      "Epoch 7/17\n",
      "12140/12140 [==============================] - ETA: 2:22 - loss: 7.7125 - accuracy: 0.50 - ETA: 6s - loss: 8.4757 - accuracy: 0.4505 - ETA: 3s - loss: 8.4054 - accuracy: 0.45 - ETA: 2s - loss: 8.3820 - accuracy: 0.45 - ETA: 1s - loss: 8.4430 - accuracy: 0.45 - ETA: 1s - loss: 8.4636 - accuracy: 0.45 - ETA: 1s - loss: 8.4288 - accuracy: 0.45 - ETA: 0s - loss: 8.3850 - accuracy: 0.45 - ETA: 0s - loss: 8.3677 - accuracy: 0.45 - ETA: 0s - loss: 8.3463 - accuracy: 0.45 - ETA: 0s - loss: 8.3210 - accuracy: 0.46 - ETA: 0s - loss: 8.3296 - accuracy: 0.46 - ETA: 0s - loss: 8.3401 - accuracy: 0.45 - ETA: 0s - loss: 8.3313 - accuracy: 0.45 - ETA: 0s - loss: 8.3320 - accuracy: 0.45 - ETA: 0s - loss: 8.3619 - accuracy: 0.45 - 2s 127us/sample - loss: 8.3630 - accuracy: 0.4578 - val_loss: 9.3370 - val_accuracy: 0.3947\n",
      "Epoch 8/17\n",
      "12140/12140 [==============================] - ETA: 1s - loss: 6.7484 - accuracy: 0.56 - ETA: 0s - loss: 8.7167 - accuracy: 0.43 - ETA: 0s - loss: 8.6047 - accuracy: 0.44 - ETA: 0s - loss: 8.5595 - accuracy: 0.44 - ETA: 0s - loss: 8.5330 - accuracy: 0.44 - ETA: 0s - loss: 8.5267 - accuracy: 0.44 - ETA: 0s - loss: 8.4656 - accuracy: 0.45 - ETA: 0s - loss: 8.4470 - accuracy: 0.45 - ETA: 0s - loss: 8.4494 - accuracy: 0.45 - ETA: 0s - loss: 8.4864 - accuracy: 0.44 - ETA: 0s - loss: 8.4729 - accuracy: 0.45 - ETA: 0s - loss: 8.4117 - accuracy: 0.45 - ETA: 0s - loss: 8.3919 - accuracy: 0.45 - ETA: 0s - loss: 8.3675 - accuracy: 0.45 - ETA: 0s - loss: 8.3631 - accuracy: 0.45 - ETA: 0s - loss: 8.3675 - accuracy: 0.45 - ETA: 0s - loss: 8.3612 - accuracy: 0.45 - 1s 83us/sample - loss: 8.3630 - accuracy: 0.4578 - val_loss: 9.3370 - val_accuracy: 0.3947\n"
     ]
    },
    {
     "data": {
      "text/html": [
       "<span style=\"color:#4527A0\"><h1 style=\"font-size:18px\">Trial complete</h1></span>"
      ],
      "text/plain": [
       "<IPython.core.display.HTML object>"
      ]
     },
     "metadata": {},
     "output_type": "display_data"
    },
    {
     "data": {
      "text/html": [
       "<span style=\"color:#4527A0\"><h1 style=\"font-size:18px\">Trial summary</h1></span>"
      ],
      "text/plain": [
       "<IPython.core.display.HTML object>"
      ]
     },
     "metadata": {},
     "output_type": "display_data"
    },
    {
     "data": {
      "text/html": [
       "<span style=\"color:cyan\"> |-Trial ID: 266593875abc518a4c7ba5558b75ba2b</span>"
      ],
      "text/plain": [
       "<IPython.core.display.HTML object>"
      ]
     },
     "metadata": {},
     "output_type": "display_data"
    },
    {
     "data": {
      "text/html": [
       "<span style=\"color:cyan\"> |-Score: 0.394684374332428</span>"
      ],
      "text/plain": [
       "<IPython.core.display.HTML object>"
      ]
     },
     "metadata": {},
     "output_type": "display_data"
    },
    {
     "data": {
      "text/html": [
       "<span style=\"color:cyan\"> |-Best step: 0</span>"
      ],
      "text/plain": [
       "<IPython.core.display.HTML object>"
      ]
     },
     "metadata": {},
     "output_type": "display_data"
    },
    {
     "data": {
      "text/html": [
       "<span style=\"color:#7E57C2\"><h2 style=\"font-size:16px\">Hyperparameters:</h2></span>"
      ],
      "text/plain": [
       "<IPython.core.display.HTML object>"
      ]
     },
     "metadata": {},
     "output_type": "display_data"
    },
    {
     "data": {
      "text/html": [
       "<span style=\"color:cyan\"> |-activation_func: relu</span>"
      ],
      "text/plain": [
       "<IPython.core.display.HTML object>"
      ]
     },
     "metadata": {},
     "output_type": "display_data"
    },
    {
     "data": {
      "text/html": [
       "<span style=\"color:blue\"> |-activation_func_2: swish</span>"
      ],
      "text/plain": [
       "<IPython.core.display.HTML object>"
      ]
     },
     "metadata": {},
     "output_type": "display_data"
    },
    {
     "data": {
      "text/html": [
       "<span style=\"color:cyan\"> |-layers: 5</span>"
      ],
      "text/plain": [
       "<IPython.core.display.HTML object>"
      ]
     },
     "metadata": {},
     "output_type": "display_data"
    },
    {
     "data": {
      "text/html": [
       "<span style=\"color:blue\"> |-learning_rate: 0.001</span>"
      ],
      "text/plain": [
       "<IPython.core.display.HTML object>"
      ]
     },
     "metadata": {},
     "output_type": "display_data"
    },
    {
     "data": {
      "text/html": [
       "<span style=\"color:cyan\"> |-tuner/bracket: 2</span>"
      ],
      "text/plain": [
       "<IPython.core.display.HTML object>"
      ]
     },
     "metadata": {},
     "output_type": "display_data"
    },
    {
     "data": {
      "text/html": [
       "<span style=\"color:blue\"> |-tuner/epochs: 17</span>"
      ],
      "text/plain": [
       "<IPython.core.display.HTML object>"
      ]
     },
     "metadata": {},
     "output_type": "display_data"
    },
    {
     "data": {
      "text/html": [
       "<span style=\"color:cyan\"> |-tuner/initial_epoch: 6</span>"
      ],
      "text/plain": [
       "<IPython.core.display.HTML object>"
      ]
     },
     "metadata": {},
     "output_type": "display_data"
    },
    {
     "data": {
      "text/html": [
       "<span style=\"color:blue\"> |-tuner/round: 1</span>"
      ],
      "text/plain": [
       "<IPython.core.display.HTML object>"
      ]
     },
     "metadata": {},
     "output_type": "display_data"
    },
    {
     "data": {
      "text/html": [
       "<span style=\"color:cyan\"> |-tuner/trial_id: eb3d009147ad1955a1b02e853007837a</span>"
      ],
      "text/plain": [
       "<IPython.core.display.HTML object>"
      ]
     },
     "metadata": {},
     "output_type": "display_data"
    },
    {
     "data": {
      "text/html": [
       "<span style=\"color:blue\"> |-units: 160</span>"
      ],
      "text/plain": [
       "<IPython.core.display.HTML object>"
      ]
     },
     "metadata": {},
     "output_type": "display_data"
    },
    {
     "name": "stdout",
     "output_type": "stream",
     "text": [
      "Train on 12140 samples, validate on 4515 samples\n",
      "Epoch 7/17\n",
      "12140/12140 [==============================] - ETA: 1:49 - loss: 10.6047 - accuracy: 0.312 - ETA: 4s - loss: 1.3511 - accuracy: 0.8006  - ETA: 2s - loss: 0.7641 - accuracy: 0.87 - ETA: 1s - loss: 0.5302 - accuracy: 0.90 - ETA: 1s - loss: 0.4280 - accuracy: 0.92 - ETA: 0s - loss: 0.3643 - accuracy: 0.93 - ETA: 0s - loss: 0.3337 - accuracy: 0.94 - ETA: 0s - loss: 0.3044 - accuracy: 0.94 - ETA: 0s - loss: 0.2864 - accuracy: 0.95 - ETA: 0s - loss: 0.2669 - accuracy: 0.95 - ETA: 0s - loss: 0.2594 - accuracy: 0.95 - ETA: 0s - loss: 0.2441 - accuracy: 0.95 - ETA: 0s - loss: 0.2399 - accuracy: 0.95 - ETA: 0s - loss: 0.2307 - accuracy: 0.95 - 1s 103us/sample - loss: 0.2283 - accuracy: 0.9600 - val_loss: 0.2751 - val_accuracy: 0.9329\n",
      "Epoch 8/17\n",
      "12140/12140 [==============================] - ETA: 1s - loss: 0.0961 - accuracy: 0.96 - ETA: 0s - loss: 0.1505 - accuracy: 0.97 - ETA: 0s - loss: 0.1606 - accuracy: 0.97 - ETA: 0s - loss: 0.1633 - accuracy: 0.96 - ETA: 0s - loss: 0.1634 - accuracy: 0.96 - ETA: 0s - loss: 0.1596 - accuracy: 0.96 - ETA: 0s - loss: 0.1610 - accuracy: 0.96 - ETA: 0s - loss: 0.1562 - accuracy: 0.96 - ETA: 0s - loss: 0.1607 - accuracy: 0.96 - ETA: 0s - loss: 0.1608 - accuracy: 0.96 - ETA: 0s - loss: 0.1597 - accuracy: 0.96 - ETA: 0s - loss: 0.1597 - accuracy: 0.96 - ETA: 0s - loss: 0.1596 - accuracy: 0.96 - ETA: 0s - loss: 0.1615 - accuracy: 0.96 - 1s 71us/sample - loss: 0.1587 - accuracy: 0.9676 - val_loss: 0.3758 - val_accuracy: 0.9152\n"
     ]
    },
    {
     "data": {
      "text/html": [
       "<span style=\"color:#4527A0\"><h1 style=\"font-size:18px\">Trial complete</h1></span>"
      ],
      "text/plain": [
       "<IPython.core.display.HTML object>"
      ]
     },
     "metadata": {},
     "output_type": "display_data"
    },
    {
     "data": {
      "text/html": [
       "<span style=\"color:#4527A0\"><h1 style=\"font-size:18px\">Trial summary</h1></span>"
      ],
      "text/plain": [
       "<IPython.core.display.HTML object>"
      ]
     },
     "metadata": {},
     "output_type": "display_data"
    },
    {
     "data": {
      "text/html": [
       "<span style=\"color:cyan\"> |-Trial ID: 89e046203d72bbe9e7c3aeb24f40ef4e</span>"
      ],
      "text/plain": [
       "<IPython.core.display.HTML object>"
      ]
     },
     "metadata": {},
     "output_type": "display_data"
    },
    {
     "data": {
      "text/html": [
       "<span style=\"color:cyan\"> |-Score: 0.9328903555870056</span>"
      ],
      "text/plain": [
       "<IPython.core.display.HTML object>"
      ]
     },
     "metadata": {},
     "output_type": "display_data"
    },
    {
     "data": {
      "text/html": [
       "<span style=\"color:cyan\"> |-Best step: 0</span>"
      ],
      "text/plain": [
       "<IPython.core.display.HTML object>"
      ]
     },
     "metadata": {},
     "output_type": "display_data"
    },
    {
     "data": {
      "text/html": [
       "<span style=\"color:#7E57C2\"><h2 style=\"font-size:16px\">Hyperparameters:</h2></span>"
      ],
      "text/plain": [
       "<IPython.core.display.HTML object>"
      ]
     },
     "metadata": {},
     "output_type": "display_data"
    },
    {
     "data": {
      "text/html": [
       "<span style=\"color:cyan\"> |-activation_func: relu</span>"
      ],
      "text/plain": [
       "<IPython.core.display.HTML object>"
      ]
     },
     "metadata": {},
     "output_type": "display_data"
    },
    {
     "data": {
      "text/html": [
       "<span style=\"color:blue\"> |-activation_func_2: tanh</span>"
      ],
      "text/plain": [
       "<IPython.core.display.HTML object>"
      ]
     },
     "metadata": {},
     "output_type": "display_data"
    },
    {
     "data": {
      "text/html": [
       "<span style=\"color:cyan\"> |-layers: 2</span>"
      ],
      "text/plain": [
       "<IPython.core.display.HTML object>"
      ]
     },
     "metadata": {},
     "output_type": "display_data"
    },
    {
     "data": {
      "text/html": [
       "<span style=\"color:blue\"> |-learning_rate: 0.001</span>"
      ],
      "text/plain": [
       "<IPython.core.display.HTML object>"
      ]
     },
     "metadata": {},
     "output_type": "display_data"
    },
    {
     "data": {
      "text/html": [
       "<span style=\"color:cyan\"> |-tuner/bracket: 2</span>"
      ],
      "text/plain": [
       "<IPython.core.display.HTML object>"
      ]
     },
     "metadata": {},
     "output_type": "display_data"
    },
    {
     "data": {
      "text/html": [
       "<span style=\"color:blue\"> |-tuner/epochs: 17</span>"
      ],
      "text/plain": [
       "<IPython.core.display.HTML object>"
      ]
     },
     "metadata": {},
     "output_type": "display_data"
    },
    {
     "data": {
      "text/html": [
       "<span style=\"color:cyan\"> |-tuner/initial_epoch: 6</span>"
      ],
      "text/plain": [
       "<IPython.core.display.HTML object>"
      ]
     },
     "metadata": {},
     "output_type": "display_data"
    },
    {
     "data": {
      "text/html": [
       "<span style=\"color:blue\"> |-tuner/round: 1</span>"
      ],
      "text/plain": [
       "<IPython.core.display.HTML object>"
      ]
     },
     "metadata": {},
     "output_type": "display_data"
    },
    {
     "data": {
      "text/html": [
       "<span style=\"color:cyan\"> |-tuner/trial_id: 957268fbca29b23002e896cb2d80e9ce</span>"
      ],
      "text/plain": [
       "<IPython.core.display.HTML object>"
      ]
     },
     "metadata": {},
     "output_type": "display_data"
    },
    {
     "data": {
      "text/html": [
       "<span style=\"color:blue\"> |-units: 224</span>"
      ],
      "text/plain": [
       "<IPython.core.display.HTML object>"
      ]
     },
     "metadata": {},
     "output_type": "display_data"
    },
    {
     "name": "stdout",
     "output_type": "stream",
     "text": [
      "Train on 12140 samples, validate on 4515 samples\n",
      "Epoch 7/17\n",
      "12140/12140 [==============================] - ETA: 2:06 - loss: 5.7873 - accuracy: 0.62 - ETA: 5s - loss: 5.5528 - accuracy: 0.4796 - ETA: 2s - loss: 3.2247 - accuracy: 0.48 - ETA: 1s - loss: 2.3731 - accuracy: 0.50 - ETA: 1s - loss: 1.9154 - accuracy: 0.54 - ETA: 1s - loss: 1.6248 - accuracy: 0.59 - ETA: 0s - loss: 1.4137 - accuracy: 0.64 - ETA: 0s - loss: 1.2583 - accuracy: 0.67 - ETA: 0s - loss: 1.1361 - accuracy: 0.70 - ETA: 0s - loss: 1.0321 - accuracy: 0.72 - ETA: 0s - loss: 0.9459 - accuracy: 0.75 - ETA: 0s - loss: 0.8748 - accuracy: 0.76 - ETA: 0s - loss: 0.8133 - accuracy: 0.78 - ETA: 0s - loss: 0.7639 - accuracy: 0.79 - ETA: 0s - loss: 0.7211 - accuracy: 0.80 - 1s 115us/sample - loss: 0.6907 - accuracy: 0.8166 - val_loss: 0.3203 - val_accuracy: 0.9118\n",
      "Epoch 8/17\n",
      "12140/12140 [==============================] - ETA: 1s - loss: 0.1551 - accuracy: 0.93 - ETA: 0s - loss: 0.1556 - accuracy: 0.95 - ETA: 0s - loss: 0.1396 - accuracy: 0.96 - ETA: 0s - loss: 0.1476 - accuracy: 0.96 - ETA: 0s - loss: 0.1446 - accuracy: 0.96 - ETA: 0s - loss: 0.1444 - accuracy: 0.96 - ETA: 0s - loss: 0.1337 - accuracy: 0.96 - ETA: 0s - loss: 0.1307 - accuracy: 0.96 - ETA: 0s - loss: 0.1279 - accuracy: 0.96 - ETA: 0s - loss: 0.1271 - accuracy: 0.96 - ETA: 0s - loss: 0.1346 - accuracy: 0.96 - ETA: 0s - loss: 0.1433 - accuracy: 0.97 - ETA: 0s - loss: 0.1399 - accuracy: 0.97 - ETA: 0s - loss: 0.1423 - accuracy: 0.97 - ETA: 0s - loss: 0.1467 - accuracy: 0.96 - 1s 77us/sample - loss: 0.1504 - accuracy: 0.9663 - val_loss: 0.5219 - val_accuracy: 0.7807\n"
     ]
    },
    {
     "data": {
      "text/html": [
       "<span style=\"color:#4527A0\"><h1 style=\"font-size:18px\">Trial complete</h1></span>"
      ],
      "text/plain": [
       "<IPython.core.display.HTML object>"
      ]
     },
     "metadata": {},
     "output_type": "display_data"
    },
    {
     "data": {
      "text/html": [
       "<span style=\"color:#4527A0\"><h1 style=\"font-size:18px\">Trial summary</h1></span>"
      ],
      "text/plain": [
       "<IPython.core.display.HTML object>"
      ]
     },
     "metadata": {},
     "output_type": "display_data"
    },
    {
     "data": {
      "text/html": [
       "<span style=\"color:cyan\"> |-Trial ID: 3cb9911cf13680bf90e599734594caf8</span>"
      ],
      "text/plain": [
       "<IPython.core.display.HTML object>"
      ]
     },
     "metadata": {},
     "output_type": "display_data"
    },
    {
     "data": {
      "text/html": [
       "<span style=\"color:cyan\"> |-Score: 0.9118493795394897</span>"
      ],
      "text/plain": [
       "<IPython.core.display.HTML object>"
      ]
     },
     "metadata": {},
     "output_type": "display_data"
    },
    {
     "data": {
      "text/html": [
       "<span style=\"color:cyan\"> |-Best step: 0</span>"
      ],
      "text/plain": [
       "<IPython.core.display.HTML object>"
      ]
     },
     "metadata": {},
     "output_type": "display_data"
    },
    {
     "data": {
      "text/html": [
       "<span style=\"color:#7E57C2\"><h2 style=\"font-size:16px\">Hyperparameters:</h2></span>"
      ],
      "text/plain": [
       "<IPython.core.display.HTML object>"
      ]
     },
     "metadata": {},
     "output_type": "display_data"
    },
    {
     "data": {
      "text/html": [
       "<span style=\"color:cyan\"> |-activation_func: relu</span>"
      ],
      "text/plain": [
       "<IPython.core.display.HTML object>"
      ]
     },
     "metadata": {},
     "output_type": "display_data"
    },
    {
     "data": {
      "text/html": [
       "<span style=\"color:blue\"> |-activation_func_2: relu</span>"
      ],
      "text/plain": [
       "<IPython.core.display.HTML object>"
      ]
     },
     "metadata": {},
     "output_type": "display_data"
    },
    {
     "data": {
      "text/html": [
       "<span style=\"color:cyan\"> |-layers: 4</span>"
      ],
      "text/plain": [
       "<IPython.core.display.HTML object>"
      ]
     },
     "metadata": {},
     "output_type": "display_data"
    },
    {
     "data": {
      "text/html": [
       "<span style=\"color:blue\"> |-learning_rate: 0.0001</span>"
      ],
      "text/plain": [
       "<IPython.core.display.HTML object>"
      ]
     },
     "metadata": {},
     "output_type": "display_data"
    },
    {
     "data": {
      "text/html": [
       "<span style=\"color:cyan\"> |-tuner/bracket: 2</span>"
      ],
      "text/plain": [
       "<IPython.core.display.HTML object>"
      ]
     },
     "metadata": {},
     "output_type": "display_data"
    },
    {
     "data": {
      "text/html": [
       "<span style=\"color:blue\"> |-tuner/epochs: 17</span>"
      ],
      "text/plain": [
       "<IPython.core.display.HTML object>"
      ]
     },
     "metadata": {},
     "output_type": "display_data"
    },
    {
     "data": {
      "text/html": [
       "<span style=\"color:cyan\"> |-tuner/initial_epoch: 6</span>"
      ],
      "text/plain": [
       "<IPython.core.display.HTML object>"
      ]
     },
     "metadata": {},
     "output_type": "display_data"
    },
    {
     "data": {
      "text/html": [
       "<span style=\"color:blue\"> |-tuner/round: 1</span>"
      ],
      "text/plain": [
       "<IPython.core.display.HTML object>"
      ]
     },
     "metadata": {},
     "output_type": "display_data"
    },
    {
     "data": {
      "text/html": [
       "<span style=\"color:cyan\"> |-tuner/trial_id: 7b09b1f95b692d7c1b30dcf5a7411d26</span>"
      ],
      "text/plain": [
       "<IPython.core.display.HTML object>"
      ]
     },
     "metadata": {},
     "output_type": "display_data"
    },
    {
     "data": {
      "text/html": [
       "<span style=\"color:blue\"> |-units: 160</span>"
      ],
      "text/plain": [
       "<IPython.core.display.HTML object>"
      ]
     },
     "metadata": {},
     "output_type": "display_data"
    },
    {
     "name": "stdout",
     "output_type": "stream",
     "text": [
      "Train on 12140 samples, validate on 4515 samples\n",
      "Epoch 7/17\n",
      "12140/12140 [==============================] - ETA: 2:11 - loss: 5.4274 - accuracy: 0.43 - ETA: 5s - loss: 4.2304 - accuracy: 0.4236 - ETA: 2s - loss: 3.5737 - accuracy: 0.45 - ETA: 1s - loss: 3.3569 - accuracy: 0.45 - ETA: 1s - loss: 3.1935 - accuracy: 0.45 - ETA: 1s - loss: 3.0717 - accuracy: 0.45 - ETA: 0s - loss: 2.9144 - accuracy: 0.45 - ETA: 0s - loss: 2.7797 - accuracy: 0.45 - ETA: 0s - loss: 2.6586 - accuracy: 0.45 - ETA: 0s - loss: 2.5621 - accuracy: 0.45 - ETA: 0s - loss: 2.4443 - accuracy: 0.45 - ETA: 0s - loss: 2.3285 - accuracy: 0.45 - ETA: 0s - loss: 2.2309 - accuracy: 0.45 - ETA: 0s - loss: 2.1431 - accuracy: 0.45 - ETA: 0s - loss: 2.0702 - accuracy: 0.45 - 1s 114us/sample - loss: 2.0314 - accuracy: 0.4578 - val_loss: 1.5684 - val_accuracy: 0.3947\n",
      "Epoch 8/17\n",
      "12140/12140 [==============================] - ETA: 1s - loss: 1.1884 - accuracy: 0.37 - ETA: 0s - loss: 0.9692 - accuracy: 0.47 - ETA: 0s - loss: 0.9471 - accuracy: 0.46 - ETA: 0s - loss: 0.9414 - accuracy: 0.47 - ETA: 0s - loss: 0.9316 - accuracy: 0.46 - ETA: 0s - loss: 0.9114 - accuracy: 0.47 - ETA: 0s - loss: 0.8975 - accuracy: 0.46 - ETA: 0s - loss: 0.8910 - accuracy: 0.46 - ETA: 0s - loss: 0.8792 - accuracy: 0.46 - ETA: 0s - loss: 0.8722 - accuracy: 0.46 - ETA: 0s - loss: 0.8706 - accuracy: 0.46 - ETA: 0s - loss: 0.8628 - accuracy: 0.46 - ETA: 0s - loss: 0.8488 - accuracy: 0.46 - ETA: 0s - loss: 0.8412 - accuracy: 0.46 - ETA: 0s - loss: 0.8350 - accuracy: 0.47 - ETA: 0s - loss: 0.8311 - accuracy: 0.46 - 1s 82us/sample - loss: 0.8307 - accuracy: 0.4690 - val_loss: 1.2446 - val_accuracy: 0.4049\n",
      "Epoch 9/17\n",
      "12140/12140 [==============================] - ETA: 1s - loss: 0.6459 - accuracy: 0.50 - ETA: 0s - loss: 0.6802 - accuracy: 0.51 - ETA: 0s - loss: 0.6924 - accuracy: 0.51 - ETA: 0s - loss: 0.6932 - accuracy: 0.51 - ETA: 0s - loss: 0.6924 - accuracy: 0.51 - ETA: 0s - loss: 0.6826 - accuracy: 0.51 - ETA: 0s - loss: 0.6767 - accuracy: 0.51 - ETA: 0s - loss: 0.6755 - accuracy: 0.52 - ETA: 0s - loss: 0.6765 - accuracy: 0.52 - ETA: 0s - loss: 0.6728 - accuracy: 0.52 - ETA: 0s - loss: 0.6687 - accuracy: 0.53 - ETA: 0s - loss: 0.6678 - accuracy: 0.53 - ETA: 0s - loss: 0.6615 - accuracy: 0.53 - ETA: 0s - loss: 0.6596 - accuracy: 0.54 - ETA: 0s - loss: 0.6567 - accuracy: 0.54 - ETA: 0s - loss: 0.6495 - accuracy: 0.54 - ETA: 0s - loss: 0.6446 - accuracy: 0.55 - 1s 89us/sample - loss: 0.6421 - accuracy: 0.5530 - val_loss: 1.0605 - val_accuracy: 0.4306\n",
      "Epoch 10/17\n",
      "12140/12140 [==============================] - ETA: 1s - loss: 0.7936 - accuracy: 0.43 - ETA: 0s - loss: 0.6096 - accuracy: 0.60 - ETA: 0s - loss: 0.5906 - accuracy: 0.60 - ETA: 0s - loss: 0.5739 - accuracy: 0.62 - ETA: 0s - loss: 0.5613 - accuracy: 0.63 - ETA: 0s - loss: 0.5557 - accuracy: 0.63 - ETA: 0s - loss: 0.5500 - accuracy: 0.64 - ETA: 0s - loss: 0.5444 - accuracy: 0.64 - ETA: 0s - loss: 0.5422 - accuracy: 0.65 - ETA: 0s - loss: 0.5356 - accuracy: 0.66 - ETA: 0s - loss: 0.5338 - accuracy: 0.66 - ETA: 0s - loss: 0.5282 - accuracy: 0.66 - ETA: 0s - loss: 0.5216 - accuracy: 0.67 - ETA: 0s - loss: 0.5166 - accuracy: 0.67 - ETA: 0s - loss: 0.5120 - accuracy: 0.68 - ETA: 0s - loss: 0.5089 - accuracy: 0.68 - 1s 86us/sample - loss: 0.5054 - accuracy: 0.6914 - val_loss: 0.9110 - val_accuracy: 0.4928\n",
      "Epoch 11/17\n",
      "12140/12140 [==============================] - ETA: 1s - loss: 1.0177 - accuracy: 0.62 - ETA: 0s - loss: 0.4672 - accuracy: 0.75 - ETA: 0s - loss: 0.4405 - accuracy: 0.77 - ETA: 0s - loss: 0.4381 - accuracy: 0.76 - ETA: 0s - loss: 0.4339 - accuracy: 0.77 - ETA: 0s - loss: 0.4290 - accuracy: 0.77 - ETA: 0s - loss: 0.4244 - accuracy: 0.77 - ETA: 0s - loss: 0.4223 - accuracy: 0.77 - ETA: 0s - loss: 0.4194 - accuracy: 0.78 - ETA: 0s - loss: 0.4163 - accuracy: 0.78 - ETA: 0s - loss: 0.4137 - accuracy: 0.79 - ETA: 0s - loss: 0.4129 - accuracy: 0.79 - ETA: 0s - loss: 0.4087 - accuracy: 0.79 - ETA: 0s - loss: 0.4066 - accuracy: 0.80 - ETA: 0s - loss: 0.4067 - accuracy: 0.80 - ETA: 0s - loss: 0.4032 - accuracy: 0.80 - ETA: 0s - loss: 0.3983 - accuracy: 0.81 - 1s 88us/sample - loss: 0.3986 - accuracy: 0.8114 - val_loss: 0.7934 - val_accuracy: 0.5674\n",
      "Epoch 12/17\n",
      "12140/12140 [==============================] - ETA: 1s - loss: 0.3286 - accuracy: 0.90 - ETA: 0s - loss: 0.3388 - accuracy: 0.86 - ETA: 0s - loss: 0.3430 - accuracy: 0.86 - ETA: 0s - loss: 0.3478 - accuracy: 0.85 - ETA: 0s - loss: 0.3448 - accuracy: 0.85 - ETA: 0s - loss: 0.3383 - accuracy: 0.85 - ETA: 0s - loss: 0.3377 - accuracy: 0.85 - ETA: 0s - loss: 0.3340 - accuracy: 0.86 - ETA: 0s - loss: 0.3309 - accuracy: 0.86 - ETA: 0s - loss: 0.3303 - accuracy: 0.86 - ETA: 0s - loss: 0.3301 - accuracy: 0.86 - ETA: 0s - loss: 0.3247 - accuracy: 0.86 - ETA: 0s - loss: 0.3223 - accuracy: 0.87 - ETA: 0s - loss: 0.3190 - accuracy: 0.87 - ETA: 0s - loss: 0.3181 - accuracy: 0.87 - ETA: 0s - loss: 0.3150 - accuracy: 0.87 - 1s 86us/sample - loss: 0.3144 - accuracy: 0.8753 - val_loss: 0.6906 - val_accuracy: 0.6301\n",
      "Epoch 13/17\n",
      "12140/12140 [==============================] - ETA: 1s - loss: 0.2360 - accuracy: 0.90 - ETA: 0s - loss: 0.2661 - accuracy: 0.89 - ETA: 0s - loss: 0.2746 - accuracy: 0.89 - ETA: 0s - loss: 0.2743 - accuracy: 0.89 - ETA: 0s - loss: 0.2666 - accuracy: 0.90 - ETA: 0s - loss: 0.2629 - accuracy: 0.90 - ETA: 0s - loss: 0.2640 - accuracy: 0.90 - ETA: 0s - loss: 0.2604 - accuracy: 0.90 - ETA: 0s - loss: 0.2598 - accuracy: 0.90 - ETA: 0s - loss: 0.2574 - accuracy: 0.90 - ETA: 0s - loss: 0.2561 - accuracy: 0.90 - ETA: 0s - loss: 0.2534 - accuracy: 0.90 - ETA: 0s - loss: 0.2532 - accuracy: 0.90 - ETA: 0s - loss: 0.2530 - accuracy: 0.90 - ETA: 0s - loss: 0.2533 - accuracy: 0.90 - ETA: 0s - loss: 0.2521 - accuracy: 0.90 - 1s 88us/sample - loss: 0.2530 - accuracy: 0.9072 - val_loss: 0.6171 - val_accuracy: 0.6866\n",
      "Epoch 14/17\n",
      "12140/12140 [==============================] - ETA: 1s - loss: 0.1691 - accuracy: 0.96 - ETA: 0s - loss: 0.2174 - accuracy: 0.92 - ETA: 0s - loss: 0.2136 - accuracy: 0.92 - ETA: 0s - loss: 0.2171 - accuracy: 0.92 - ETA: 0s - loss: 0.2185 - accuracy: 0.92 - ETA: 0s - loss: 0.2147 - accuracy: 0.92 - ETA: 0s - loss: 0.2131 - accuracy: 0.92 - ETA: 0s - loss: 0.2141 - accuracy: 0.92 - ETA: 0s - loss: 0.2126 - accuracy: 0.92 - ETA: 0s - loss: 0.2112 - accuracy: 0.92 - ETA: 0s - loss: 0.2150 - accuracy: 0.92 - ETA: 0s - loss: 0.2149 - accuracy: 0.92 - ETA: 0s - loss: 0.2123 - accuracy: 0.92 - ETA: 0s - loss: 0.2104 - accuracy: 0.92 - ETA: 0s - loss: 0.2098 - accuracy: 0.92 - ETA: 0s - loss: 0.2098 - accuracy: 0.92 - ETA: 0s - loss: 0.2085 - accuracy: 0.92 - ETA: 0s - loss: 0.2081 - accuracy: 0.92 - 1s 93us/sample - loss: 0.2092 - accuracy: 0.9274 - val_loss: 0.5303 - val_accuracy: 0.7380\n",
      "Epoch 15/17\n",
      "12140/12140 [==============================] - ETA: 1s - loss: 0.1811 - accuracy: 0.96 - ETA: 0s - loss: 0.1886 - accuracy: 0.92 - ETA: 0s - loss: 0.1993 - accuracy: 0.92 - ETA: 0s - loss: 0.2034 - accuracy: 0.92 - ETA: 0s - loss: 0.1962 - accuracy: 0.92 - ETA: 0s - loss: 0.1911 - accuracy: 0.93 - ETA: 0s - loss: 0.1928 - accuracy: 0.93 - ETA: 0s - loss: 0.1889 - accuracy: 0.93 - ETA: 0s - loss: 0.1849 - accuracy: 0.93 - ETA: 0s - loss: 0.1853 - accuracy: 0.93 - ETA: 0s - loss: 0.1846 - accuracy: 0.93 - ETA: 0s - loss: 0.1837 - accuracy: 0.94 - ETA: 0s - loss: 0.1831 - accuracy: 0.93 - ETA: 0s - loss: 0.1817 - accuracy: 0.93 - ETA: 0s - loss: 0.1812 - accuracy: 0.93 - ETA: 0s - loss: 0.1802 - accuracy: 0.93 - 1s 87us/sample - loss: 0.1797 - accuracy: 0.9402 - val_loss: 0.4711 - val_accuracy: 0.7803\n",
      "Epoch 16/17\n",
      "12140/12140 [==============================] - ETA: 1s - loss: 0.1414 - accuracy: 1.00 - ETA: 0s - loss: 0.1544 - accuracy: 0.95 - ETA: 0s - loss: 0.1555 - accuracy: 0.95 - ETA: 0s - loss: 0.1576 - accuracy: 0.95 - ETA: 0s - loss: 0.1592 - accuracy: 0.94 - ETA: 0s - loss: 0.1564 - accuracy: 0.95 - ETA: 0s - loss: 0.1619 - accuracy: 0.94 - ETA: 0s - loss: 0.1638 - accuracy: 0.94 - ETA: 0s - loss: 0.1647 - accuracy: 0.94 - ETA: 0s - loss: 0.1611 - accuracy: 0.94 - ETA: 0s - loss: 0.1596 - accuracy: 0.94 - ETA: 0s - loss: 0.1583 - accuracy: 0.95 - ETA: 0s - loss: 0.1569 - accuracy: 0.95 - ETA: 0s - loss: 0.1562 - accuracy: 0.95 - ETA: 0s - loss: 0.1566 - accuracy: 0.95 - ETA: 0s - loss: 0.1558 - accuracy: 0.95 - 1s 84us/sample - loss: 0.1566 - accuracy: 0.9507 - val_loss: 0.4148 - val_accuracy: 0.8230\n",
      "Epoch 17/17\n",
      "12140/12140 [==============================] - ETA: 1s - loss: 0.1560 - accuracy: 0.96 - ETA: 0s - loss: 0.1472 - accuracy: 0.95 - ETA: 0s - loss: 0.1476 - accuracy: 0.95 - ETA: 0s - loss: 0.1464 - accuracy: 0.95 - ETA: 0s - loss: 0.1472 - accuracy: 0.95 - ETA: 0s - loss: 0.1437 - accuracy: 0.95 - ETA: 0s - loss: 0.1407 - accuracy: 0.95 - ETA: 0s - loss: 0.1420 - accuracy: 0.95 - ETA: 0s - loss: 0.1456 - accuracy: 0.95 - ETA: 0s - loss: 0.1510 - accuracy: 0.95 - ETA: 0s - loss: 0.1475 - accuracy: 0.95 - ETA: 0s - loss: 0.1457 - accuracy: 0.95 - ETA: 0s - loss: 0.1442 - accuracy: 0.95 - ETA: 0s - loss: 0.1444 - accuracy: 0.95 - ETA: 0s - loss: 0.1429 - accuracy: 0.95 - ETA: 0s - loss: 0.1411 - accuracy: 0.95 - ETA: 0s - loss: 0.1417 - accuracy: 0.95 - 1s 87us/sample - loss: 0.1418 - accuracy: 0.9586 - val_loss: 0.3894 - val_accuracy: 0.8549\n"
     ]
    },
    {
     "data": {
      "text/html": [
       "<span style=\"color:#4527A0\"><h1 style=\"font-size:18px\">Trial complete</h1></span>"
      ],
      "text/plain": [
       "<IPython.core.display.HTML object>"
      ]
     },
     "metadata": {},
     "output_type": "display_data"
    },
    {
     "data": {
      "text/html": [
       "<span style=\"color:#4527A0\"><h1 style=\"font-size:18px\">Trial summary</h1></span>"
      ],
      "text/plain": [
       "<IPython.core.display.HTML object>"
      ]
     },
     "metadata": {},
     "output_type": "display_data"
    },
    {
     "data": {
      "text/html": [
       "<span style=\"color:cyan\"> |-Trial ID: d112e7339ae60e44a0b1fdf25e8c0118</span>"
      ],
      "text/plain": [
       "<IPython.core.display.HTML object>"
      ]
     },
     "metadata": {},
     "output_type": "display_data"
    },
    {
     "data": {
      "text/html": [
       "<span style=\"color:cyan\"> |-Score: 0.8549280166625977</span>"
      ],
      "text/plain": [
       "<IPython.core.display.HTML object>"
      ]
     },
     "metadata": {},
     "output_type": "display_data"
    },
    {
     "data": {
      "text/html": [
       "<span style=\"color:cyan\"> |-Best step: 0</span>"
      ],
      "text/plain": [
       "<IPython.core.display.HTML object>"
      ]
     },
     "metadata": {},
     "output_type": "display_data"
    },
    {
     "data": {
      "text/html": [
       "<span style=\"color:#7E57C2\"><h2 style=\"font-size:16px\">Hyperparameters:</h2></span>"
      ],
      "text/plain": [
       "<IPython.core.display.HTML object>"
      ]
     },
     "metadata": {},
     "output_type": "display_data"
    },
    {
     "data": {
      "text/html": [
       "<span style=\"color:cyan\"> |-activation_func: swish</span>"
      ],
      "text/plain": [
       "<IPython.core.display.HTML object>"
      ]
     },
     "metadata": {},
     "output_type": "display_data"
    },
    {
     "data": {
      "text/html": [
       "<span style=\"color:blue\"> |-activation_func_2: tanh</span>"
      ],
      "text/plain": [
       "<IPython.core.display.HTML object>"
      ]
     },
     "metadata": {},
     "output_type": "display_data"
    },
    {
     "data": {
      "text/html": [
       "<span style=\"color:cyan\"> |-layers: 3</span>"
      ],
      "text/plain": [
       "<IPython.core.display.HTML object>"
      ]
     },
     "metadata": {},
     "output_type": "display_data"
    },
    {
     "data": {
      "text/html": [
       "<span style=\"color:blue\"> |-learning_rate: 0.0001</span>"
      ],
      "text/plain": [
       "<IPython.core.display.HTML object>"
      ]
     },
     "metadata": {},
     "output_type": "display_data"
    },
    {
     "data": {
      "text/html": [
       "<span style=\"color:cyan\"> |-tuner/bracket: 2</span>"
      ],
      "text/plain": [
       "<IPython.core.display.HTML object>"
      ]
     },
     "metadata": {},
     "output_type": "display_data"
    },
    {
     "data": {
      "text/html": [
       "<span style=\"color:blue\"> |-tuner/epochs: 17</span>"
      ],
      "text/plain": [
       "<IPython.core.display.HTML object>"
      ]
     },
     "metadata": {},
     "output_type": "display_data"
    },
    {
     "data": {
      "text/html": [
       "<span style=\"color:cyan\"> |-tuner/initial_epoch: 6</span>"
      ],
      "text/plain": [
       "<IPython.core.display.HTML object>"
      ]
     },
     "metadata": {},
     "output_type": "display_data"
    },
    {
     "data": {
      "text/html": [
       "<span style=\"color:blue\"> |-tuner/round: 1</span>"
      ],
      "text/plain": [
       "<IPython.core.display.HTML object>"
      ]
     },
     "metadata": {},
     "output_type": "display_data"
    },
    {
     "data": {
      "text/html": [
       "<span style=\"color:cyan\"> |-tuner/trial_id: faac593e6c9b43a6a3a2aa3982dcab19</span>"
      ],
      "text/plain": [
       "<IPython.core.display.HTML object>"
      ]
     },
     "metadata": {},
     "output_type": "display_data"
    },
    {
     "data": {
      "text/html": [
       "<span style=\"color:blue\"> |-units: 80</span>"
      ],
      "text/plain": [
       "<IPython.core.display.HTML object>"
      ]
     },
     "metadata": {},
     "output_type": "display_data"
    },
    {
     "name": "stdout",
     "output_type": "stream",
     "text": [
      "Train on 12140 samples, validate on 4515 samples\n",
      "Epoch 18/50\n",
      "12140/12140 [==============================] - ETA: 1:51 - loss: 4.1704 - accuracy: 0.46 - ETA: 4s - loss: 0.5342 - accuracy: 0.8206 - ETA: 2s - loss: 0.3881 - accuracy: 0.88 - ETA: 1s - loss: 0.2855 - accuracy: 0.92 - ETA: 1s - loss: 0.2627 - accuracy: 0.92 - ETA: 1s - loss: 0.2439 - accuracy: 0.92 - ETA: 0s - loss: 0.2341 - accuracy: 0.93 - ETA: 0s - loss: 0.2201 - accuracy: 0.94 - ETA: 0s - loss: 0.2108 - accuracy: 0.94 - ETA: 0s - loss: 0.1968 - accuracy: 0.94 - ETA: 0s - loss: 0.1915 - accuracy: 0.94 - ETA: 0s - loss: 0.1840 - accuracy: 0.95 - ETA: 0s - loss: 0.1827 - accuracy: 0.95 - ETA: 0s - loss: 0.1799 - accuracy: 0.95 - ETA: 0s - loss: 0.1808 - accuracy: 0.95 - 1s 108us/sample - loss: 0.1755 - accuracy: 0.9551 - val_loss: 0.2586 - val_accuracy: 0.9391\n",
      "Epoch 19/50\n",
      "12140/12140 [==============================] - ETA: 1s - loss: 0.4934 - accuracy: 0.96 - ETA: 0s - loss: 0.0942 - accuracy: 0.97 - ETA: 0s - loss: 0.1154 - accuracy: 0.97 - ETA: 0s - loss: 0.1161 - accuracy: 0.97 - ETA: 0s - loss: 0.1172 - accuracy: 0.97 - ETA: 0s - loss: 0.1108 - accuracy: 0.97 - ETA: 0s - loss: 0.1152 - accuracy: 0.97 - ETA: 0s - loss: 0.1193 - accuracy: 0.97 - ETA: 0s - loss: 0.1249 - accuracy: 0.97 - ETA: 0s - loss: 0.1299 - accuracy: 0.97 - ETA: 0s - loss: 0.1287 - accuracy: 0.97 - ETA: 0s - loss: 0.1359 - accuracy: 0.97 - ETA: 0s - loss: 0.1391 - accuracy: 0.97 - ETA: 0s - loss: 0.1353 - accuracy: 0.97 - ETA: 0s - loss: 0.1365 - accuracy: 0.97 - 1s 75us/sample - loss: 0.1359 - accuracy: 0.9745 - val_loss: 0.2786 - val_accuracy: 0.9375\n"
     ]
    },
    {
     "data": {
      "text/html": [
       "<span style=\"color:#4527A0\"><h1 style=\"font-size:18px\">Trial complete</h1></span>"
      ],
      "text/plain": [
       "<IPython.core.display.HTML object>"
      ]
     },
     "metadata": {},
     "output_type": "display_data"
    },
    {
     "data": {
      "text/html": [
       "<span style=\"color:#4527A0\"><h1 style=\"font-size:18px\">Trial summary</h1></span>"
      ],
      "text/plain": [
       "<IPython.core.display.HTML object>"
      ]
     },
     "metadata": {},
     "output_type": "display_data"
    },
    {
     "data": {
      "text/html": [
       "<span style=\"color:cyan\"> |-Trial ID: b0e79824567e2e7809890b5331e004ea</span>"
      ],
      "text/plain": [
       "<IPython.core.display.HTML object>"
      ]
     },
     "metadata": {},
     "output_type": "display_data"
    },
    {
     "data": {
      "text/html": [
       "<span style=\"color:cyan\"> |-Score: 0.9390919208526611</span>"
      ],
      "text/plain": [
       "<IPython.core.display.HTML object>"
      ]
     },
     "metadata": {},
     "output_type": "display_data"
    },
    {
     "data": {
      "text/html": [
       "<span style=\"color:cyan\"> |-Best step: 0</span>"
      ],
      "text/plain": [
       "<IPython.core.display.HTML object>"
      ]
     },
     "metadata": {},
     "output_type": "display_data"
    },
    {
     "data": {
      "text/html": [
       "<span style=\"color:#7E57C2\"><h2 style=\"font-size:16px\">Hyperparameters:</h2></span>"
      ],
      "text/plain": [
       "<IPython.core.display.HTML object>"
      ]
     },
     "metadata": {},
     "output_type": "display_data"
    },
    {
     "data": {
      "text/html": [
       "<span style=\"color:cyan\"> |-activation_func: relu</span>"
      ],
      "text/plain": [
       "<IPython.core.display.HTML object>"
      ]
     },
     "metadata": {},
     "output_type": "display_data"
    },
    {
     "data": {
      "text/html": [
       "<span style=\"color:blue\"> |-activation_func_2: tanh</span>"
      ],
      "text/plain": [
       "<IPython.core.display.HTML object>"
      ]
     },
     "metadata": {},
     "output_type": "display_data"
    },
    {
     "data": {
      "text/html": [
       "<span style=\"color:cyan\"> |-layers: 2</span>"
      ],
      "text/plain": [
       "<IPython.core.display.HTML object>"
      ]
     },
     "metadata": {},
     "output_type": "display_data"
    },
    {
     "data": {
      "text/html": [
       "<span style=\"color:blue\"> |-learning_rate: 0.001</span>"
      ],
      "text/plain": [
       "<IPython.core.display.HTML object>"
      ]
     },
     "metadata": {},
     "output_type": "display_data"
    },
    {
     "data": {
      "text/html": [
       "<span style=\"color:cyan\"> |-tuner/bracket: 2</span>"
      ],
      "text/plain": [
       "<IPython.core.display.HTML object>"
      ]
     },
     "metadata": {},
     "output_type": "display_data"
    },
    {
     "data": {
      "text/html": [
       "<span style=\"color:blue\"> |-tuner/epochs: 50</span>"
      ],
      "text/plain": [
       "<IPython.core.display.HTML object>"
      ]
     },
     "metadata": {},
     "output_type": "display_data"
    },
    {
     "data": {
      "text/html": [
       "<span style=\"color:cyan\"> |-tuner/initial_epoch: 17</span>"
      ],
      "text/plain": [
       "<IPython.core.display.HTML object>"
      ]
     },
     "metadata": {},
     "output_type": "display_data"
    },
    {
     "data": {
      "text/html": [
       "<span style=\"color:blue\"> |-tuner/round: 2</span>"
      ],
      "text/plain": [
       "<IPython.core.display.HTML object>"
      ]
     },
     "metadata": {},
     "output_type": "display_data"
    },
    {
     "data": {
      "text/html": [
       "<span style=\"color:cyan\"> |-tuner/trial_id: 89e046203d72bbe9e7c3aeb24f40ef4e</span>"
      ],
      "text/plain": [
       "<IPython.core.display.HTML object>"
      ]
     },
     "metadata": {},
     "output_type": "display_data"
    },
    {
     "data": {
      "text/html": [
       "<span style=\"color:blue\"> |-units: 224</span>"
      ],
      "text/plain": [
       "<IPython.core.display.HTML object>"
      ]
     },
     "metadata": {},
     "output_type": "display_data"
    },
    {
     "name": "stdout",
     "output_type": "stream",
     "text": [
      "Train on 12140 samples, validate on 4515 samples\n",
      "Epoch 18/50\n",
      "12140/12140 [==============================] - ETA: 2:08 - loss: 10.1226 - accuracy: 0.343 - ETA: 5s - loss: 7.9535 - accuracy: 0.4844  - ETA: 3s - loss: 8.4146 - accuracy: 0.45 - ETA: 2s - loss: 8.3482 - accuracy: 0.45 - ETA: 1s - loss: 8.5193 - accuracy: 0.44 - ETA: 1s - loss: 8.4998 - accuracy: 0.44 - ETA: 1s - loss: 8.2165 - accuracy: 0.45 - ETA: 0s - loss: 7.0513 - accuracy: 0.45 - ETA: 0s - loss: 6.1738 - accuracy: 0.46 - ETA: 0s - loss: 5.5182 - accuracy: 0.48 - ETA: 0s - loss: 5.0065 - accuracy: 0.51 - ETA: 0s - loss: 4.5639 - accuracy: 0.55 - ETA: 0s - loss: 4.1901 - accuracy: 0.58 - ETA: 0s - loss: 3.8855 - accuracy: 0.61 - ETA: 0s - loss: 3.6213 - accuracy: 0.63 - ETA: 0s - loss: 3.3811 - accuracy: 0.66 - ETA: 0s - loss: 3.1834 - accuracy: 0.67 - 1s 123us/sample - loss: 3.1079 - accuracy: 0.6862 - val_loss: 0.3139 - val_accuracy: 0.9216\n",
      "Epoch 19/50\n",
      "12140/12140 [==============================] - ETA: 2s - loss: 0.0523 - accuracy: 0.96 - ETA: 0s - loss: 0.1633 - accuracy: 0.96 - ETA: 0s - loss: 0.1742 - accuracy: 0.96 - ETA: 0s - loss: 0.1457 - accuracy: 0.96 - ETA: 0s - loss: 0.1466 - accuracy: 0.96 - ETA: 0s - loss: 0.1456 - accuracy: 0.96 - ETA: 0s - loss: 0.1430 - accuracy: 0.96 - ETA: 0s - loss: 0.1676 - accuracy: 0.96 - ETA: 0s - loss: 0.1741 - accuracy: 0.96 - ETA: 0s - loss: 0.1688 - accuracy: 0.96 - ETA: 0s - loss: 0.1675 - accuracy: 0.96 - ETA: 0s - loss: 0.1635 - accuracy: 0.96 - ETA: 0s - loss: 0.1590 - accuracy: 0.96 - ETA: 0s - loss: 0.1597 - accuracy: 0.96 - ETA: 0s - loss: 0.1617 - accuracy: 0.96 - ETA: 0s - loss: 0.1614 - accuracy: 0.96 - 1s 80us/sample - loss: 0.1605 - accuracy: 0.9640 - val_loss: 0.3743 - val_accuracy: 0.8839\n"
     ]
    },
    {
     "data": {
      "text/html": [
       "<span style=\"color:#4527A0\"><h1 style=\"font-size:18px\">Trial complete</h1></span>"
      ],
      "text/plain": [
       "<IPython.core.display.HTML object>"
      ]
     },
     "metadata": {},
     "output_type": "display_data"
    },
    {
     "data": {
      "text/html": [
       "<span style=\"color:#4527A0\"><h1 style=\"font-size:18px\">Trial summary</h1></span>"
      ],
      "text/plain": [
       "<IPython.core.display.HTML object>"
      ]
     },
     "metadata": {},
     "output_type": "display_data"
    },
    {
     "data": {
      "text/html": [
       "<span style=\"color:cyan\"> |-Trial ID: c672b2f0bbea2aab1decc58f3fbdb3cf</span>"
      ],
      "text/plain": [
       "<IPython.core.display.HTML object>"
      ]
     },
     "metadata": {},
     "output_type": "display_data"
    },
    {
     "data": {
      "text/html": [
       "<span style=\"color:cyan\"> |-Score: 0.9215946793556213</span>"
      ],
      "text/plain": [
       "<IPython.core.display.HTML object>"
      ]
     },
     "metadata": {},
     "output_type": "display_data"
    },
    {
     "data": {
      "text/html": [
       "<span style=\"color:cyan\"> |-Best step: 0</span>"
      ],
      "text/plain": [
       "<IPython.core.display.HTML object>"
      ]
     },
     "metadata": {},
     "output_type": "display_data"
    },
    {
     "data": {
      "text/html": [
       "<span style=\"color:#7E57C2\"><h2 style=\"font-size:16px\">Hyperparameters:</h2></span>"
      ],
      "text/plain": [
       "<IPython.core.display.HTML object>"
      ]
     },
     "metadata": {},
     "output_type": "display_data"
    },
    {
     "data": {
      "text/html": [
       "<span style=\"color:cyan\"> |-activation_func: relu</span>"
      ],
      "text/plain": [
       "<IPython.core.display.HTML object>"
      ]
     },
     "metadata": {},
     "output_type": "display_data"
    },
    {
     "data": {
      "text/html": [
       "<span style=\"color:blue\"> |-activation_func_2: relu</span>"
      ],
      "text/plain": [
       "<IPython.core.display.HTML object>"
      ]
     },
     "metadata": {},
     "output_type": "display_data"
    },
    {
     "data": {
      "text/html": [
       "<span style=\"color:cyan\"> |-layers: 4</span>"
      ],
      "text/plain": [
       "<IPython.core.display.HTML object>"
      ]
     },
     "metadata": {},
     "output_type": "display_data"
    },
    {
     "data": {
      "text/html": [
       "<span style=\"color:blue\"> |-learning_rate: 0.0001</span>"
      ],
      "text/plain": [
       "<IPython.core.display.HTML object>"
      ]
     },
     "metadata": {},
     "output_type": "display_data"
    },
    {
     "data": {
      "text/html": [
       "<span style=\"color:cyan\"> |-tuner/bracket: 2</span>"
      ],
      "text/plain": [
       "<IPython.core.display.HTML object>"
      ]
     },
     "metadata": {},
     "output_type": "display_data"
    },
    {
     "data": {
      "text/html": [
       "<span style=\"color:blue\"> |-tuner/epochs: 50</span>"
      ],
      "text/plain": [
       "<IPython.core.display.HTML object>"
      ]
     },
     "metadata": {},
     "output_type": "display_data"
    },
    {
     "data": {
      "text/html": [
       "<span style=\"color:cyan\"> |-tuner/initial_epoch: 17</span>"
      ],
      "text/plain": [
       "<IPython.core.display.HTML object>"
      ]
     },
     "metadata": {},
     "output_type": "display_data"
    },
    {
     "data": {
      "text/html": [
       "<span style=\"color:blue\"> |-tuner/round: 2</span>"
      ],
      "text/plain": [
       "<IPython.core.display.HTML object>"
      ]
     },
     "metadata": {},
     "output_type": "display_data"
    },
    {
     "data": {
      "text/html": [
       "<span style=\"color:cyan\"> |-tuner/trial_id: 3cb9911cf13680bf90e599734594caf8</span>"
      ],
      "text/plain": [
       "<IPython.core.display.HTML object>"
      ]
     },
     "metadata": {},
     "output_type": "display_data"
    },
    {
     "data": {
      "text/html": [
       "<span style=\"color:blue\"> |-units: 160</span>"
      ],
      "text/plain": [
       "<IPython.core.display.HTML object>"
      ]
     },
     "metadata": {},
     "output_type": "display_data"
    },
    {
     "name": "stdout",
     "output_type": "stream",
     "text": [
      "Train on 12140 samples, validate on 4515 samples\n",
      "Epoch 1/17\n",
      "12140/12140 [==============================] - ETA: 1:59 - loss: 6.3067 - accuracy: 0.59 - ETA: 4s - loss: 8.8501 - accuracy: 0.4263 - ETA: 2s - loss: 8.6428 - accuracy: 0.43 - ETA: 1s - loss: 8.6828 - accuracy: 0.43 - ETA: 1s - loss: 8.5104 - accuracy: 0.44 - ETA: 0s - loss: 8.4149 - accuracy: 0.45 - ETA: 0s - loss: 8.3545 - accuracy: 0.45 - ETA: 0s - loss: 8.3471 - accuracy: 0.45 - ETA: 0s - loss: 8.3722 - accuracy: 0.45 - ETA: 0s - loss: 8.3560 - accuracy: 0.45 - ETA: 0s - loss: 8.3885 - accuracy: 0.45 - ETA: 0s - loss: 8.3601 - accuracy: 0.45 - ETA: 0s - loss: 8.3621 - accuracy: 0.45 - ETA: 0s - loss: 8.3818 - accuracy: 0.45 - 1s 111us/sample - loss: 8.3631 - accuracy: 0.4578 - val_loss: 9.3370 - val_accuracy: 0.3947\n",
      "Epoch 2/17\n",
      "12140/12140 [==============================] - ETA: 1s - loss: 8.6765 - accuracy: 0.43 - ETA: 0s - loss: 8.5560 - accuracy: 0.44 - ETA: 0s - loss: 8.4837 - accuracy: 0.45 - ETA: 0s - loss: 8.4414 - accuracy: 0.45 - ETA: 0s - loss: 8.4554 - accuracy: 0.45 - ETA: 0s - loss: 8.3915 - accuracy: 0.45 - ETA: 0s - loss: 8.3297 - accuracy: 0.46 - ETA: 0s - loss: 8.3485 - accuracy: 0.45 - ETA: 0s - loss: 8.3338 - accuracy: 0.45 - ETA: 0s - loss: 8.3421 - accuracy: 0.45 - ETA: 0s - loss: 8.3322 - accuracy: 0.45 - ETA: 0s - loss: 8.3114 - accuracy: 0.46 - ETA: 0s - loss: 8.3610 - accuracy: 0.45 - ETA: 0s - loss: 8.3520 - accuracy: 0.45 - 1s 75us/sample - loss: 8.3630 - accuracy: 0.4578 - val_loss: 9.3370 - val_accuracy: 0.3947\n"
     ]
    },
    {
     "data": {
      "text/html": [
       "<span style=\"color:#4527A0\"><h1 style=\"font-size:18px\">Trial complete</h1></span>"
      ],
      "text/plain": [
       "<IPython.core.display.HTML object>"
      ]
     },
     "metadata": {},
     "output_type": "display_data"
    },
    {
     "data": {
      "text/html": [
       "<span style=\"color:#4527A0\"><h1 style=\"font-size:18px\">Trial summary</h1></span>"
      ],
      "text/plain": [
       "<IPython.core.display.HTML object>"
      ]
     },
     "metadata": {},
     "output_type": "display_data"
    },
    {
     "data": {
      "text/html": [
       "<span style=\"color:cyan\"> |-Trial ID: 358e81f35b1479558328f57dda75f61d</span>"
      ],
      "text/plain": [
       "<IPython.core.display.HTML object>"
      ]
     },
     "metadata": {},
     "output_type": "display_data"
    },
    {
     "data": {
      "text/html": [
       "<span style=\"color:cyan\"> |-Score: 0.394684374332428</span>"
      ],
      "text/plain": [
       "<IPython.core.display.HTML object>"
      ]
     },
     "metadata": {},
     "output_type": "display_data"
    },
    {
     "data": {
      "text/html": [
       "<span style=\"color:cyan\"> |-Best step: 0</span>"
      ],
      "text/plain": [
       "<IPython.core.display.HTML object>"
      ]
     },
     "metadata": {},
     "output_type": "display_data"
    },
    {
     "data": {
      "text/html": [
       "<span style=\"color:#7E57C2\"><h2 style=\"font-size:16px\">Hyperparameters:</h2></span>"
      ],
      "text/plain": [
       "<IPython.core.display.HTML object>"
      ]
     },
     "metadata": {},
     "output_type": "display_data"
    },
    {
     "data": {
      "text/html": [
       "<span style=\"color:cyan\"> |-activation_func: relu</span>"
      ],
      "text/plain": [
       "<IPython.core.display.HTML object>"
      ]
     },
     "metadata": {},
     "output_type": "display_data"
    },
    {
     "data": {
      "text/html": [
       "<span style=\"color:blue\"> |-activation_func_2: relu</span>"
      ],
      "text/plain": [
       "<IPython.core.display.HTML object>"
      ]
     },
     "metadata": {},
     "output_type": "display_data"
    },
    {
     "data": {
      "text/html": [
       "<span style=\"color:cyan\"> |-layers: 3</span>"
      ],
      "text/plain": [
       "<IPython.core.display.HTML object>"
      ]
     },
     "metadata": {},
     "output_type": "display_data"
    },
    {
     "data": {
      "text/html": [
       "<span style=\"color:blue\"> |-learning_rate: 0.001</span>"
      ],
      "text/plain": [
       "<IPython.core.display.HTML object>"
      ]
     },
     "metadata": {},
     "output_type": "display_data"
    },
    {
     "data": {
      "text/html": [
       "<span style=\"color:cyan\"> |-tuner/bracket: 1</span>"
      ],
      "text/plain": [
       "<IPython.core.display.HTML object>"
      ]
     },
     "metadata": {},
     "output_type": "display_data"
    },
    {
     "data": {
      "text/html": [
       "<span style=\"color:blue\"> |-tuner/epochs: 17</span>"
      ],
      "text/plain": [
       "<IPython.core.display.HTML object>"
      ]
     },
     "metadata": {},
     "output_type": "display_data"
    },
    {
     "data": {
      "text/html": [
       "<span style=\"color:cyan\"> |-tuner/initial_epoch: 0</span>"
      ],
      "text/plain": [
       "<IPython.core.display.HTML object>"
      ]
     },
     "metadata": {},
     "output_type": "display_data"
    },
    {
     "data": {
      "text/html": [
       "<span style=\"color:blue\"> |-tuner/round: 0</span>"
      ],
      "text/plain": [
       "<IPython.core.display.HTML object>"
      ]
     },
     "metadata": {},
     "output_type": "display_data"
    },
    {
     "data": {
      "text/html": [
       "<span style=\"color:cyan\"> |-units: 208</span>"
      ],
      "text/plain": [
       "<IPython.core.display.HTML object>"
      ]
     },
     "metadata": {},
     "output_type": "display_data"
    },
    {
     "name": "stdout",
     "output_type": "stream",
     "text": [
      "Train on 12140 samples, validate on 4515 samples\n",
      "Epoch 1/17\n",
      "12140/12140 [==============================] - ETA: 1:45 - loss: 6.5614 - accuracy: 0.43 - ETA: 4s - loss: 0.8172 - accuracy: 0.8694 - ETA: 2s - loss: 0.5132 - accuracy: 0.91 - ETA: 1s - loss: 0.3838 - accuracy: 0.93 - ETA: 1s - loss: 0.3122 - accuracy: 0.94 - ETA: 0s - loss: 0.2872 - accuracy: 0.94 - ETA: 0s - loss: 0.2519 - accuracy: 0.95 - ETA: 0s - loss: 0.2464 - accuracy: 0.95 - ETA: 0s - loss: 0.2484 - accuracy: 0.95 - ETA: 0s - loss: 0.2365 - accuracy: 0.95 - ETA: 0s - loss: 0.2323 - accuracy: 0.95 - ETA: 0s - loss: 0.2307 - accuracy: 0.96 - ETA: 0s - loss: 0.2184 - accuracy: 0.96 - 1s 99us/sample - loss: 0.2156 - accuracy: 0.9630 - val_loss: 0.2784 - val_accuracy: 0.9424\n",
      "Epoch 2/17\n",
      "12140/12140 [==============================] - ETA: 1s - loss: 0.1977 - accuracy: 0.93 - ETA: 0s - loss: 0.0762 - accuracy: 0.98 - ETA: 0s - loss: 0.1195 - accuracy: 0.97 - ETA: 0s - loss: 0.1312 - accuracy: 0.97 - ETA: 0s - loss: 0.1292 - accuracy: 0.97 - ETA: 0s - loss: 0.1378 - accuracy: 0.97 - ETA: 0s - loss: 0.1412 - accuracy: 0.97 - ETA: 0s - loss: 0.1475 - accuracy: 0.97 - ETA: 0s - loss: 0.1457 - accuracy: 0.97 - ETA: 0s - loss: 0.1401 - accuracy: 0.97 - ETA: 0s - loss: 0.1361 - accuracy: 0.97 - ETA: 0s - loss: 0.1422 - accuracy: 0.97 - ETA: 0s - loss: 0.1496 - accuracy: 0.97 - 1s 68us/sample - loss: 0.1462 - accuracy: 0.9761 - val_loss: 0.9169 - val_accuracy: 0.7967\n"
     ]
    },
    {
     "data": {
      "text/html": [
       "<span style=\"color:#4527A0\"><h1 style=\"font-size:18px\">Trial complete</h1></span>"
      ],
      "text/plain": [
       "<IPython.core.display.HTML object>"
      ]
     },
     "metadata": {},
     "output_type": "display_data"
    },
    {
     "data": {
      "text/html": [
       "<span style=\"color:#4527A0\"><h1 style=\"font-size:18px\">Trial summary</h1></span>"
      ],
      "text/plain": [
       "<IPython.core.display.HTML object>"
      ]
     },
     "metadata": {},
     "output_type": "display_data"
    },
    {
     "data": {
      "text/html": [
       "<span style=\"color:cyan\"> |-Trial ID: 1f82583e218c400ac886c10eb0c050b8</span>"
      ],
      "text/plain": [
       "<IPython.core.display.HTML object>"
      ]
     },
     "metadata": {},
     "output_type": "display_data"
    },
    {
     "data": {
      "text/html": [
       "<span style=\"color:cyan\"> |-Score: 0.9424141645431519</span>"
      ],
      "text/plain": [
       "<IPython.core.display.HTML object>"
      ]
     },
     "metadata": {},
     "output_type": "display_data"
    },
    {
     "data": {
      "text/html": [
       "<span style=\"color:cyan\"> |-Best step: 0</span>"
      ],
      "text/plain": [
       "<IPython.core.display.HTML object>"
      ]
     },
     "metadata": {},
     "output_type": "display_data"
    },
    {
     "data": {
      "text/html": [
       "<span style=\"color:#7E57C2\"><h2 style=\"font-size:16px\">Hyperparameters:</h2></span>"
      ],
      "text/plain": [
       "<IPython.core.display.HTML object>"
      ]
     },
     "metadata": {},
     "output_type": "display_data"
    },
    {
     "data": {
      "text/html": [
       "<span style=\"color:cyan\"> |-activation_func: swish</span>"
      ],
      "text/plain": [
       "<IPython.core.display.HTML object>"
      ]
     },
     "metadata": {},
     "output_type": "display_data"
    },
    {
     "data": {
      "text/html": [
       "<span style=\"color:blue\"> |-activation_func_2: tanh</span>"
      ],
      "text/plain": [
       "<IPython.core.display.HTML object>"
      ]
     },
     "metadata": {},
     "output_type": "display_data"
    },
    {
     "data": {
      "text/html": [
       "<span style=\"color:cyan\"> |-layers: 1</span>"
      ],
      "text/plain": [
       "<IPython.core.display.HTML object>"
      ]
     },
     "metadata": {},
     "output_type": "display_data"
    },
    {
     "data": {
      "text/html": [
       "<span style=\"color:blue\"> |-learning_rate: 0.01</span>"
      ],
      "text/plain": [
       "<IPython.core.display.HTML object>"
      ]
     },
     "metadata": {},
     "output_type": "display_data"
    },
    {
     "data": {
      "text/html": [
       "<span style=\"color:cyan\"> |-tuner/bracket: 1</span>"
      ],
      "text/plain": [
       "<IPython.core.display.HTML object>"
      ]
     },
     "metadata": {},
     "output_type": "display_data"
    },
    {
     "data": {
      "text/html": [
       "<span style=\"color:blue\"> |-tuner/epochs: 17</span>"
      ],
      "text/plain": [
       "<IPython.core.display.HTML object>"
      ]
     },
     "metadata": {},
     "output_type": "display_data"
    },
    {
     "data": {
      "text/html": [
       "<span style=\"color:cyan\"> |-tuner/initial_epoch: 0</span>"
      ],
      "text/plain": [
       "<IPython.core.display.HTML object>"
      ]
     },
     "metadata": {},
     "output_type": "display_data"
    },
    {
     "data": {
      "text/html": [
       "<span style=\"color:blue\"> |-tuner/round: 0</span>"
      ],
      "text/plain": [
       "<IPython.core.display.HTML object>"
      ]
     },
     "metadata": {},
     "output_type": "display_data"
    },
    {
     "data": {
      "text/html": [
       "<span style=\"color:cyan\"> |-units: 32</span>"
      ],
      "text/plain": [
       "<IPython.core.display.HTML object>"
      ]
     },
     "metadata": {},
     "output_type": "display_data"
    },
    {
     "name": "stdout",
     "output_type": "stream",
     "text": [
      "Train on 12140 samples, validate on 4515 samples\n",
      "Epoch 1/17\n",
      "12140/12140 [==============================] - ETA: 2:00 - loss: 5.0195 - accuracy: 0.46 - ETA: 5s - loss: 1.1690 - accuracy: 0.8927 - ETA: 2s - loss: 1.3844 - accuracy: 0.89 - ETA: 1s - loss: 1.3290 - accuracy: 0.89 - ETA: 1s - loss: 1.4743 - accuracy: 0.89 - ETA: 1s - loss: 1.4681 - accuracy: 0.89 - ETA: 0s - loss: 1.4015 - accuracy: 0.89 - ETA: 0s - loss: 1.3485 - accuracy: 0.90 - ETA: 0s - loss: 1.3077 - accuracy: 0.90 - ETA: 0s - loss: 1.2856 - accuracy: 0.90 - ETA: 0s - loss: 1.2441 - accuracy: 0.91 - ETA: 0s - loss: 1.2077 - accuracy: 0.91 - ETA: 0s - loss: 1.1589 - accuracy: 0.91 - ETA: 0s - loss: 1.1112 - accuracy: 0.92 - ETA: 0s - loss: 1.0760 - accuracy: 0.92 - ETA: 0s - loss: 1.0327 - accuracy: 0.92 - 1s 114us/sample - loss: 1.0284 - accuracy: 0.9269 - val_loss: 1.4069 - val_accuracy: 0.8899\n",
      "Epoch 2/17\n",
      "12140/12140 [==============================] - ETA: 1s - loss: 0.4974 - accuracy: 0.96 - ETA: 0s - loss: 0.5580 - accuracy: 0.96 - ETA: 0s - loss: 0.5506 - accuracy: 0.96 - ETA: 0s - loss: 0.5590 - accuracy: 0.96 - ETA: 0s - loss: 0.5628 - accuracy: 0.96 - ETA: 0s - loss: 0.5578 - accuracy: 0.96 - ETA: 0s - loss: 0.5456 - accuracy: 0.96 - ETA: 0s - loss: 0.5271 - accuracy: 0.96 - ETA: 0s - loss: 0.5223 - accuracy: 0.96 - ETA: 0s - loss: 0.5294 - accuracy: 0.96 - ETA: 0s - loss: 0.5254 - accuracy: 0.96 - ETA: 0s - loss: 0.5148 - accuracy: 0.96 - ETA: 0s - loss: 0.5089 - accuracy: 0.96 - ETA: 0s - loss: 0.4966 - accuracy: 0.96 - ETA: 0s - loss: 0.5540 - accuracy: 0.96 - ETA: 0s - loss: 0.6480 - accuracy: 0.95 - 1s 82us/sample - loss: 0.6745 - accuracy: 0.9531 - val_loss: 4.9592 - val_accuracy: 0.6729\n"
     ]
    },
    {
     "data": {
      "text/html": [
       "<span style=\"color:#4527A0\"><h1 style=\"font-size:18px\">Trial complete</h1></span>"
      ],
      "text/plain": [
       "<IPython.core.display.HTML object>"
      ]
     },
     "metadata": {},
     "output_type": "display_data"
    },
    {
     "data": {
      "text/html": [
       "<span style=\"color:#4527A0\"><h1 style=\"font-size:18px\">Trial summary</h1></span>"
      ],
      "text/plain": [
       "<IPython.core.display.HTML object>"
      ]
     },
     "metadata": {},
     "output_type": "display_data"
    },
    {
     "data": {
      "text/html": [
       "<span style=\"color:cyan\"> |-Trial ID: 0c1fef5c927ee0ae40519a96d9c50c54</span>"
      ],
      "text/plain": [
       "<IPython.core.display.HTML object>"
      ]
     },
     "metadata": {},
     "output_type": "display_data"
    },
    {
     "data": {
      "text/html": [
       "<span style=\"color:cyan\"> |-Score: 0.8899224996566772</span>"
      ],
      "text/plain": [
       "<IPython.core.display.HTML object>"
      ]
     },
     "metadata": {},
     "output_type": "display_data"
    },
    {
     "data": {
      "text/html": [
       "<span style=\"color:cyan\"> |-Best step: 0</span>"
      ],
      "text/plain": [
       "<IPython.core.display.HTML object>"
      ]
     },
     "metadata": {},
     "output_type": "display_data"
    },
    {
     "data": {
      "text/html": [
       "<span style=\"color:#7E57C2\"><h2 style=\"font-size:16px\">Hyperparameters:</h2></span>"
      ],
      "text/plain": [
       "<IPython.core.display.HTML object>"
      ]
     },
     "metadata": {},
     "output_type": "display_data"
    },
    {
     "data": {
      "text/html": [
       "<span style=\"color:cyan\"> |-activation_func: swish</span>"
      ],
      "text/plain": [
       "<IPython.core.display.HTML object>"
      ]
     },
     "metadata": {},
     "output_type": "display_data"
    },
    {
     "data": {
      "text/html": [
       "<span style=\"color:blue\"> |-activation_func_2: relu</span>"
      ],
      "text/plain": [
       "<IPython.core.display.HTML object>"
      ]
     },
     "metadata": {},
     "output_type": "display_data"
    },
    {
     "data": {
      "text/html": [
       "<span style=\"color:cyan\"> |-layers: 2</span>"
      ],
      "text/plain": [
       "<IPython.core.display.HTML object>"
      ]
     },
     "metadata": {},
     "output_type": "display_data"
    },
    {
     "data": {
      "text/html": [
       "<span style=\"color:blue\"> |-learning_rate: 0.01</span>"
      ],
      "text/plain": [
       "<IPython.core.display.HTML object>"
      ]
     },
     "metadata": {},
     "output_type": "display_data"
    },
    {
     "data": {
      "text/html": [
       "<span style=\"color:cyan\"> |-tuner/bracket: 1</span>"
      ],
      "text/plain": [
       "<IPython.core.display.HTML object>"
      ]
     },
     "metadata": {},
     "output_type": "display_data"
    },
    {
     "data": {
      "text/html": [
       "<span style=\"color:blue\"> |-tuner/epochs: 17</span>"
      ],
      "text/plain": [
       "<IPython.core.display.HTML object>"
      ]
     },
     "metadata": {},
     "output_type": "display_data"
    },
    {
     "data": {
      "text/html": [
       "<span style=\"color:cyan\"> |-tuner/initial_epoch: 0</span>"
      ],
      "text/plain": [
       "<IPython.core.display.HTML object>"
      ]
     },
     "metadata": {},
     "output_type": "display_data"
    },
    {
     "data": {
      "text/html": [
       "<span style=\"color:blue\"> |-tuner/round: 0</span>"
      ],
      "text/plain": [
       "<IPython.core.display.HTML object>"
      ]
     },
     "metadata": {},
     "output_type": "display_data"
    },
    {
     "data": {
      "text/html": [
       "<span style=\"color:cyan\"> |-units: 144</span>"
      ],
      "text/plain": [
       "<IPython.core.display.HTML object>"
      ]
     },
     "metadata": {},
     "output_type": "display_data"
    },
    {
     "name": "stdout",
     "output_type": "stream",
     "text": [
      "Train on 12140 samples, validate on 4515 samples\n",
      "Epoch 1/17\n",
      "12140/12140 [==============================] - ETA: 2:01 - loss: 5.5387 - accuracy: 0.56 - ETA: 5s - loss: 1.1659 - accuracy: 0.8966 - ETA: 2s - loss: 0.8512 - accuracy: 0.92 - ETA: 2s - loss: 0.7430 - accuracy: 0.93 - ETA: 1s - loss: 0.6239 - accuracy: 0.94 - ETA: 1s - loss: 0.7794 - accuracy: 0.93 - ETA: 1s - loss: 0.7645 - accuracy: 0.93 - ETA: 0s - loss: 0.6977 - accuracy: 0.93 - ETA: 0s - loss: 0.6677 - accuracy: 0.93 - ETA: 0s - loss: 0.6109 - accuracy: 0.93 - ETA: 0s - loss: 0.5678 - accuracy: 0.94 - ETA: 0s - loss: 0.5307 - accuracy: 0.94 - ETA: 0s - loss: 0.5067 - accuracy: 0.94 - ETA: 0s - loss: 0.4839 - accuracy: 0.95 - ETA: 0s - loss: 0.4626 - accuracy: 0.95 - ETA: 0s - loss: 0.4490 - accuracy: 0.95 - 1s 118us/sample - loss: 0.4364 - accuracy: 0.9526 - val_loss: 0.2567 - val_accuracy: 0.9484\n",
      "Epoch 2/17\n",
      "12140/12140 [==============================] - ETA: 1s - loss: 0.0089 - accuracy: 1.00 - ETA: 0s - loss: 0.2173 - accuracy: 0.97 - ETA: 0s - loss: 0.2026 - accuracy: 0.97 - ETA: 0s - loss: 0.1834 - accuracy: 0.97 - ETA: 0s - loss: 0.1801 - accuracy: 0.97 - ETA: 0s - loss: 0.1714 - accuracy: 0.97 - ETA: 0s - loss: 0.1689 - accuracy: 0.97 - ETA: 0s - loss: 0.1803 - accuracy: 0.97 - ETA: 0s - loss: 0.1821 - accuracy: 0.97 - ETA: 0s - loss: 0.1964 - accuracy: 0.97 - ETA: 0s - loss: 0.1959 - accuracy: 0.97 - ETA: 0s - loss: 0.1949 - accuracy: 0.97 - ETA: 0s - loss: 0.1937 - accuracy: 0.97 - ETA: 0s - loss: 0.1890 - accuracy: 0.97 - ETA: 0s - loss: 0.1970 - accuracy: 0.97 - ETA: 0s - loss: 0.2282 - accuracy: 0.96 - 1s 79us/sample - loss: 0.2270 - accuracy: 0.9663 - val_loss: 1.4903 - val_accuracy: 0.7836\n"
     ]
    },
    {
     "data": {
      "text/html": [
       "<span style=\"color:#4527A0\"><h1 style=\"font-size:18px\">Trial complete</h1></span>"
      ],
      "text/plain": [
       "<IPython.core.display.HTML object>"
      ]
     },
     "metadata": {},
     "output_type": "display_data"
    },
    {
     "data": {
      "text/html": [
       "<span style=\"color:#4527A0\"><h1 style=\"font-size:18px\">Trial summary</h1></span>"
      ],
      "text/plain": [
       "<IPython.core.display.HTML object>"
      ]
     },
     "metadata": {},
     "output_type": "display_data"
    },
    {
     "data": {
      "text/html": [
       "<span style=\"color:cyan\"> |-Trial ID: db73fbcae9325fd02be8a5745e234fbf</span>"
      ],
      "text/plain": [
       "<IPython.core.display.HTML object>"
      ]
     },
     "metadata": {},
     "output_type": "display_data"
    },
    {
     "data": {
      "text/html": [
       "<span style=\"color:cyan\"> |-Score: 0.948394238948822</span>"
      ],
      "text/plain": [
       "<IPython.core.display.HTML object>"
      ]
     },
     "metadata": {},
     "output_type": "display_data"
    },
    {
     "data": {
      "text/html": [
       "<span style=\"color:cyan\"> |-Best step: 0</span>"
      ],
      "text/plain": [
       "<IPython.core.display.HTML object>"
      ]
     },
     "metadata": {},
     "output_type": "display_data"
    },
    {
     "data": {
      "text/html": [
       "<span style=\"color:#7E57C2\"><h2 style=\"font-size:16px\">Hyperparameters:</h2></span>"
      ],
      "text/plain": [
       "<IPython.core.display.HTML object>"
      ]
     },
     "metadata": {},
     "output_type": "display_data"
    },
    {
     "data": {
      "text/html": [
       "<span style=\"color:cyan\"> |-activation_func: tanh</span>"
      ],
      "text/plain": [
       "<IPython.core.display.HTML object>"
      ]
     },
     "metadata": {},
     "output_type": "display_data"
    },
    {
     "data": {
      "text/html": [
       "<span style=\"color:blue\"> |-activation_func_2: tanh</span>"
      ],
      "text/plain": [
       "<IPython.core.display.HTML object>"
      ]
     },
     "metadata": {},
     "output_type": "display_data"
    },
    {
     "data": {
      "text/html": [
       "<span style=\"color:cyan\"> |-layers: 3</span>"
      ],
      "text/plain": [
       "<IPython.core.display.HTML object>"
      ]
     },
     "metadata": {},
     "output_type": "display_data"
    },
    {
     "data": {
      "text/html": [
       "<span style=\"color:blue\"> |-learning_rate: 0.01</span>"
      ],
      "text/plain": [
       "<IPython.core.display.HTML object>"
      ]
     },
     "metadata": {},
     "output_type": "display_data"
    },
    {
     "data": {
      "text/html": [
       "<span style=\"color:cyan\"> |-tuner/bracket: 1</span>"
      ],
      "text/plain": [
       "<IPython.core.display.HTML object>"
      ]
     },
     "metadata": {},
     "output_type": "display_data"
    },
    {
     "data": {
      "text/html": [
       "<span style=\"color:blue\"> |-tuner/epochs: 17</span>"
      ],
      "text/plain": [
       "<IPython.core.display.HTML object>"
      ]
     },
     "metadata": {},
     "output_type": "display_data"
    },
    {
     "data": {
      "text/html": [
       "<span style=\"color:cyan\"> |-tuner/initial_epoch: 0</span>"
      ],
      "text/plain": [
       "<IPython.core.display.HTML object>"
      ]
     },
     "metadata": {},
     "output_type": "display_data"
    },
    {
     "data": {
      "text/html": [
       "<span style=\"color:blue\"> |-tuner/round: 0</span>"
      ],
      "text/plain": [
       "<IPython.core.display.HTML object>"
      ]
     },
     "metadata": {},
     "output_type": "display_data"
    },
    {
     "data": {
      "text/html": [
       "<span style=\"color:cyan\"> |-units: 112</span>"
      ],
      "text/plain": [
       "<IPython.core.display.HTML object>"
      ]
     },
     "metadata": {},
     "output_type": "display_data"
    },
    {
     "name": "stdout",
     "output_type": "stream",
     "text": [
      "Train on 12140 samples, validate on 4515 samples\n",
      "Epoch 1/17\n",
      "12140/12140 [==============================] - ETA: 2:18 - loss: 1.9004 - accuracy: 0.62 - ETA: 6s - loss: 0.8959 - accuracy: 0.8594 - ETA: 3s - loss: 0.6630 - accuracy: 0.90 - ETA: 2s - loss: 0.5044 - accuracy: 0.92 - ETA: 1s - loss: 0.4148 - accuracy: 0.93 - ETA: 1s - loss: 0.3564 - accuracy: 0.94 - ETA: 1s - loss: 0.3229 - accuracy: 0.94 - ETA: 0s - loss: 0.2891 - accuracy: 0.95 - ETA: 0s - loss: 0.2702 - accuracy: 0.95 - ETA: 0s - loss: 0.2503 - accuracy: 0.95 - ETA: 0s - loss: 0.2459 - accuracy: 0.95 - ETA: 0s - loss: 0.2393 - accuracy: 0.96 - ETA: 0s - loss: 0.2279 - accuracy: 0.96 - ETA: 0s - loss: 0.2263 - accuracy: 0.96 - ETA: 0s - loss: 0.2214 - accuracy: 0.96 - ETA: 0s - loss: 0.2142 - accuracy: 0.96 - ETA: 0s - loss: 0.2102 - accuracy: 0.96 - 2s 135us/sample - loss: 0.2076 - accuracy: 0.9648 - val_loss: 0.2892 - val_accuracy: 0.9327\n",
      "Epoch 2/17\n",
      "12140/12140 [==============================] - ETA: 1s - loss: 0.0277 - accuracy: 1.00 - ETA: 0s - loss: 0.1098 - accuracy: 0.97 - ETA: 0s - loss: 0.1433 - accuracy: 0.97 - ETA: 0s - loss: 0.3873 - accuracy: 0.92 - ETA: 0s - loss: 0.3556 - accuracy: 0.93 - ETA: 0s - loss: 0.3184 - accuracy: 0.94 - ETA: 0s - loss: 0.3056 - accuracy: 0.94 - ETA: 0s - loss: 0.2914 - accuracy: 0.95 - ETA: 0s - loss: 0.2840 - accuracy: 0.95 - ETA: 0s - loss: 0.2677 - accuracy: 0.95 - ETA: 0s - loss: 0.2562 - accuracy: 0.95 - ETA: 0s - loss: 0.2448 - accuracy: 0.96 - ETA: 0s - loss: 0.2435 - accuracy: 0.96 - ETA: 0s - loss: 0.2398 - accuracy: 0.96 - ETA: 0s - loss: 0.2340 - accuracy: 0.96 - ETA: 0s - loss: 0.2258 - accuracy: 0.96 - ETA: 0s - loss: 0.2193 - accuracy: 0.96 - ETA: 0s - loss: 0.2112 - accuracy: 0.96 - 1s 92us/sample - loss: 0.2104 - accuracy: 0.9646 - val_loss: 0.2994 - val_accuracy: 0.9415\n"
     ]
    },
    {
     "data": {
      "text/html": [
       "<span style=\"color:#4527A0\"><h1 style=\"font-size:18px\">Trial complete</h1></span>"
      ],
      "text/plain": [
       "<IPython.core.display.HTML object>"
      ]
     },
     "metadata": {},
     "output_type": "display_data"
    },
    {
     "data": {
      "text/html": [
       "<span style=\"color:#4527A0\"><h1 style=\"font-size:18px\">Trial summary</h1></span>"
      ],
      "text/plain": [
       "<IPython.core.display.HTML object>"
      ]
     },
     "metadata": {},
     "output_type": "display_data"
    },
    {
     "data": {
      "text/html": [
       "<span style=\"color:cyan\"> |-Trial ID: f9c17a2e8a3ee124e93fd8c9daa46d74</span>"
      ],
      "text/plain": [
       "<IPython.core.display.HTML object>"
      ]
     },
     "metadata": {},
     "output_type": "display_data"
    },
    {
     "data": {
      "text/html": [
       "<span style=\"color:cyan\"> |-Score: 0.9415282607078552</span>"
      ],
      "text/plain": [
       "<IPython.core.display.HTML object>"
      ]
     },
     "metadata": {},
     "output_type": "display_data"
    },
    {
     "data": {
      "text/html": [
       "<span style=\"color:cyan\"> |-Best step: 0</span>"
      ],
      "text/plain": [
       "<IPython.core.display.HTML object>"
      ]
     },
     "metadata": {},
     "output_type": "display_data"
    },
    {
     "data": {
      "text/html": [
       "<span style=\"color:#7E57C2\"><h2 style=\"font-size:16px\">Hyperparameters:</h2></span>"
      ],
      "text/plain": [
       "<IPython.core.display.HTML object>"
      ]
     },
     "metadata": {},
     "output_type": "display_data"
    },
    {
     "data": {
      "text/html": [
       "<span style=\"color:cyan\"> |-activation_func: tanh</span>"
      ],
      "text/plain": [
       "<IPython.core.display.HTML object>"
      ]
     },
     "metadata": {},
     "output_type": "display_data"
    },
    {
     "data": {
      "text/html": [
       "<span style=\"color:blue\"> |-activation_func_2: tanh</span>"
      ],
      "text/plain": [
       "<IPython.core.display.HTML object>"
      ]
     },
     "metadata": {},
     "output_type": "display_data"
    },
    {
     "data": {
      "text/html": [
       "<span style=\"color:cyan\"> |-layers: 5</span>"
      ],
      "text/plain": [
       "<IPython.core.display.HTML object>"
      ]
     },
     "metadata": {},
     "output_type": "display_data"
    },
    {
     "data": {
      "text/html": [
       "<span style=\"color:blue\"> |-learning_rate: 0.001</span>"
      ],
      "text/plain": [
       "<IPython.core.display.HTML object>"
      ]
     },
     "metadata": {},
     "output_type": "display_data"
    },
    {
     "data": {
      "text/html": [
       "<span style=\"color:cyan\"> |-tuner/bracket: 1</span>"
      ],
      "text/plain": [
       "<IPython.core.display.HTML object>"
      ]
     },
     "metadata": {},
     "output_type": "display_data"
    },
    {
     "data": {
      "text/html": [
       "<span style=\"color:blue\"> |-tuner/epochs: 17</span>"
      ],
      "text/plain": [
       "<IPython.core.display.HTML object>"
      ]
     },
     "metadata": {},
     "output_type": "display_data"
    },
    {
     "data": {
      "text/html": [
       "<span style=\"color:cyan\"> |-tuner/initial_epoch: 0</span>"
      ],
      "text/plain": [
       "<IPython.core.display.HTML object>"
      ]
     },
     "metadata": {},
     "output_type": "display_data"
    },
    {
     "data": {
      "text/html": [
       "<span style=\"color:blue\"> |-tuner/round: 0</span>"
      ],
      "text/plain": [
       "<IPython.core.display.HTML object>"
      ]
     },
     "metadata": {},
     "output_type": "display_data"
    },
    {
     "data": {
      "text/html": [
       "<span style=\"color:cyan\"> |-units: 64</span>"
      ],
      "text/plain": [
       "<IPython.core.display.HTML object>"
      ]
     },
     "metadata": {},
     "output_type": "display_data"
    },
    {
     "name": "stdout",
     "output_type": "stream",
     "text": [
      "Train on 12140 samples, validate on 4515 samples\n",
      "Epoch 1/17\n",
      "12140/12140 [==============================] - ETA: 2:12 - loss: 3.7737 - accuracy: 0.40 - ETA: 5s - loss: 0.7416 - accuracy: 0.9162 - ETA: 3s - loss: 0.5866 - accuracy: 0.94 - ETA: 2s - loss: 0.5544 - accuracy: 0.94 - ETA: 1s - loss: 0.7606 - accuracy: 0.93 - ETA: 1s - loss: 0.8224 - accuracy: 0.93 - ETA: 1s - loss: 0.9001 - accuracy: 0.93 - ETA: 0s - loss: 0.8941 - accuracy: 0.93 - ETA: 0s - loss: 0.8797 - accuracy: 0.93 - ETA: 0s - loss: 0.9068 - accuracy: 0.93 - ETA: 0s - loss: 0.9264 - accuracy: 0.93 - ETA: 0s - loss: 0.9466 - accuracy: 0.93 - ETA: 0s - loss: 0.9398 - accuracy: 0.93 - ETA: 0s - loss: 0.9523 - accuracy: 0.93 - ETA: 0s - loss: 0.9588 - accuracy: 0.93 - ETA: 0s - loss: 0.9282 - accuracy: 0.93 - 1s 121us/sample - loss: 0.9138 - accuracy: 0.9362 - val_loss: 1.2364 - val_accuracy: 0.9183\n",
      "Epoch 2/17\n",
      "12140/12140 [==============================] - ETA: 1s - loss: 0.9586 - accuracy: 0.93 - ETA: 0s - loss: 0.6137 - accuracy: 0.96 - ETA: 0s - loss: 0.5395 - accuracy: 0.96 - ETA: 0s - loss: 0.4860 - accuracy: 0.96 - ETA: 0s - loss: 0.4797 - accuracy: 0.96 - ETA: 0s - loss: 0.4549 - accuracy: 0.97 - ETA: 0s - loss: 0.4490 - accuracy: 0.97 - ETA: 0s - loss: 0.4884 - accuracy: 0.96 - ETA: 0s - loss: 0.4924 - accuracy: 0.96 - ETA: 0s - loss: 0.4773 - accuracy: 0.96 - ETA: 0s - loss: 0.4898 - accuracy: 0.96 - ETA: 0s - loss: 0.4946 - accuracy: 0.96 - ETA: 0s - loss: 0.5000 - accuracy: 0.96 - ETA: 0s - loss: 0.4905 - accuracy: 0.96 - ETA: 0s - loss: 0.4911 - accuracy: 0.96 - ETA: 0s - loss: 0.4822 - accuracy: 0.96 - ETA: 0s - loss: 0.4768 - accuracy: 0.96 - 1s 87us/sample - loss: 0.4776 - accuracy: 0.9685 - val_loss: 0.8705 - val_accuracy: 0.9424\n",
      "Epoch 3/17\n",
      "12140/12140 [==============================] - ETA: 1s - loss: 0.0000e+00 - accuracy: 1.00 - ETA: 1s - loss: 0.3829 - accuracy: 0.9750   - ETA: 0s - loss: 0.5012 - accuracy: 0.96 - ETA: 0s - loss: 0.4634 - accuracy: 0.96 - ETA: 0s - loss: 0.4251 - accuracy: 0.97 - ETA: 0s - loss: 0.4115 - accuracy: 0.97 - ETA: 0s - loss: 0.4170 - accuracy: 0.97 - ETA: 0s - loss: 0.4262 - accuracy: 0.97 - ETA: 0s - loss: 0.4305 - accuracy: 0.97 - ETA: 0s - loss: 0.4244 - accuracy: 0.97 - ETA: 0s - loss: 0.4361 - accuracy: 0.97 - ETA: 0s - loss: 0.4363 - accuracy: 0.97 - ETA: 0s - loss: 0.4313 - accuracy: 0.97 - ETA: 0s - loss: 0.4291 - accuracy: 0.97 - ETA: 0s - loss: 0.4341 - accuracy: 0.97 - ETA: 0s - loss: 0.4371 - accuracy: 0.97 - ETA: 0s - loss: 0.4347 - accuracy: 0.97 - 1s 84us/sample - loss: 0.4344 - accuracy: 0.9715 - val_loss: 1.5136 - val_accuracy: 0.9001\n"
     ]
    },
    {
     "data": {
      "text/html": [
       "<span style=\"color:#4527A0\"><h1 style=\"font-size:18px\">Trial complete</h1></span>"
      ],
      "text/plain": [
       "<IPython.core.display.HTML object>"
      ]
     },
     "metadata": {},
     "output_type": "display_data"
    },
    {
     "data": {
      "text/html": [
       "<span style=\"color:#4527A0\"><h1 style=\"font-size:18px\">Trial summary</h1></span>"
      ],
      "text/plain": [
       "<IPython.core.display.HTML object>"
      ]
     },
     "metadata": {},
     "output_type": "display_data"
    },
    {
     "data": {
      "text/html": [
       "<span style=\"color:cyan\"> |-Trial ID: c62b0ee2663b4f41308595a71f596871</span>"
      ],
      "text/plain": [
       "<IPython.core.display.HTML object>"
      ]
     },
     "metadata": {},
     "output_type": "display_data"
    },
    {
     "data": {
      "text/html": [
       "<span style=\"color:cyan\"> |-Score: 0.9424141645431519</span>"
      ],
      "text/plain": [
       "<IPython.core.display.HTML object>"
      ]
     },
     "metadata": {},
     "output_type": "display_data"
    },
    {
     "data": {
      "text/html": [
       "<span style=\"color:cyan\"> |-Best step: 0</span>"
      ],
      "text/plain": [
       "<IPython.core.display.HTML object>"
      ]
     },
     "metadata": {},
     "output_type": "display_data"
    },
    {
     "data": {
      "text/html": [
       "<span style=\"color:#7E57C2\"><h2 style=\"font-size:16px\">Hyperparameters:</h2></span>"
      ],
      "text/plain": [
       "<IPython.core.display.HTML object>"
      ]
     },
     "metadata": {},
     "output_type": "display_data"
    },
    {
     "data": {
      "text/html": [
       "<span style=\"color:cyan\"> |-activation_func: swish</span>"
      ],
      "text/plain": [
       "<IPython.core.display.HTML object>"
      ]
     },
     "metadata": {},
     "output_type": "display_data"
    },
    {
     "data": {
      "text/html": [
       "<span style=\"color:blue\"> |-activation_func_2: relu</span>"
      ],
      "text/plain": [
       "<IPython.core.display.HTML object>"
      ]
     },
     "metadata": {},
     "output_type": "display_data"
    },
    {
     "data": {
      "text/html": [
       "<span style=\"color:cyan\"> |-layers: 3</span>"
      ],
      "text/plain": [
       "<IPython.core.display.HTML object>"
      ]
     },
     "metadata": {},
     "output_type": "display_data"
    },
    {
     "data": {
      "text/html": [
       "<span style=\"color:blue\"> |-learning_rate: 0.01</span>"
      ],
      "text/plain": [
       "<IPython.core.display.HTML object>"
      ]
     },
     "metadata": {},
     "output_type": "display_data"
    },
    {
     "data": {
      "text/html": [
       "<span style=\"color:cyan\"> |-tuner/bracket: 1</span>"
      ],
      "text/plain": [
       "<IPython.core.display.HTML object>"
      ]
     },
     "metadata": {},
     "output_type": "display_data"
    },
    {
     "data": {
      "text/html": [
       "<span style=\"color:blue\"> |-tuner/epochs: 17</span>"
      ],
      "text/plain": [
       "<IPython.core.display.HTML object>"
      ]
     },
     "metadata": {},
     "output_type": "display_data"
    },
    {
     "data": {
      "text/html": [
       "<span style=\"color:cyan\"> |-tuner/initial_epoch: 0</span>"
      ],
      "text/plain": [
       "<IPython.core.display.HTML object>"
      ]
     },
     "metadata": {},
     "output_type": "display_data"
    },
    {
     "data": {
      "text/html": [
       "<span style=\"color:blue\"> |-tuner/round: 0</span>"
      ],
      "text/plain": [
       "<IPython.core.display.HTML object>"
      ]
     },
     "metadata": {},
     "output_type": "display_data"
    },
    {
     "data": {
      "text/html": [
       "<span style=\"color:cyan\"> |-units: 112</span>"
      ],
      "text/plain": [
       "<IPython.core.display.HTML object>"
      ]
     },
     "metadata": {},
     "output_type": "display_data"
    },
    {
     "name": "stdout",
     "output_type": "stream",
     "text": [
      "Train on 12140 samples, validate on 4515 samples\n",
      "Epoch 1/17\n",
      "12140/12140 [==============================] - ETA: 2:13 - loss: 3.4907 - accuracy: 0.50 - ETA: 5s - loss: 0.8178 - accuracy: 0.7617 - ETA: 3s - loss: 0.5323 - accuracy: 0.84 - ETA: 2s - loss: 0.3932 - accuracy: 0.88 - ETA: 1s - loss: 0.3228 - accuracy: 0.90 - ETA: 1s - loss: 0.3094 - accuracy: 0.91 - ETA: 1s - loss: 0.2908 - accuracy: 0.92 - ETA: 0s - loss: 0.2619 - accuracy: 0.93 - ETA: 0s - loss: 0.2459 - accuracy: 0.93 - ETA: 0s - loss: 0.2366 - accuracy: 0.94 - ETA: 0s - loss: 0.2250 - accuracy: 0.94 - ETA: 0s - loss: 0.2242 - accuracy: 0.94 - ETA: 0s - loss: 0.2194 - accuracy: 0.94 - ETA: 0s - loss: 0.2127 - accuracy: 0.94 - ETA: 0s - loss: 0.2078 - accuracy: 0.94 - ETA: 0s - loss: 0.2005 - accuracy: 0.95 - ETA: 0s - loss: 0.1933 - accuracy: 0.95 - 1s 122us/sample - loss: 0.1927 - accuracy: 0.9518 - val_loss: 0.3253 - val_accuracy: 0.9289\n",
      "Epoch 2/17\n",
      "12140/12140 [==============================] - ETA: 1s - loss: 0.0406 - accuracy: 1.00 - ETA: 0s - loss: 0.0926 - accuracy: 0.97 - ETA: 0s - loss: 0.1362 - accuracy: 0.97 - ETA: 0s - loss: 0.1206 - accuracy: 0.97 - ETA: 0s - loss: 0.1125 - accuracy: 0.97 - ETA: 0s - loss: 0.1206 - accuracy: 0.97 - ETA: 0s - loss: 0.1123 - accuracy: 0.97 - ETA: 0s - loss: 0.1208 - accuracy: 0.97 - ETA: 0s - loss: 0.1263 - accuracy: 0.97 - ETA: 0s - loss: 0.1501 - accuracy: 0.96 - ETA: 0s - loss: 0.1606 - accuracy: 0.95 - ETA: 0s - loss: 0.1612 - accuracy: 0.95 - ETA: 0s - loss: 0.1611 - accuracy: 0.95 - ETA: 0s - loss: 0.1588 - accuracy: 0.95 - ETA: 0s - loss: 0.1568 - accuracy: 0.96 - ETA: 0s - loss: 0.1578 - accuracy: 0.96 - ETA: 0s - loss: 0.1600 - accuracy: 0.96 - 1s 84us/sample - loss: 0.1597 - accuracy: 0.9625 - val_loss: 0.4631 - val_accuracy: 0.8983\n"
     ]
    },
    {
     "data": {
      "text/html": [
       "<span style=\"color:#4527A0\"><h1 style=\"font-size:18px\">Trial complete</h1></span>"
      ],
      "text/plain": [
       "<IPython.core.display.HTML object>"
      ]
     },
     "metadata": {},
     "output_type": "display_data"
    },
    {
     "data": {
      "text/html": [
       "<span style=\"color:#4527A0\"><h1 style=\"font-size:18px\">Trial summary</h1></span>"
      ],
      "text/plain": [
       "<IPython.core.display.HTML object>"
      ]
     },
     "metadata": {},
     "output_type": "display_data"
    },
    {
     "data": {
      "text/html": [
       "<span style=\"color:cyan\"> |-Trial ID: 9d11e8f5277f23587230b035ac11e428</span>"
      ],
      "text/plain": [
       "<IPython.core.display.HTML object>"
      ]
     },
     "metadata": {},
     "output_type": "display_data"
    },
    {
     "data": {
      "text/html": [
       "<span style=\"color:cyan\"> |-Score: 0.9289036393165588</span>"
      ],
      "text/plain": [
       "<IPython.core.display.HTML object>"
      ]
     },
     "metadata": {},
     "output_type": "display_data"
    },
    {
     "data": {
      "text/html": [
       "<span style=\"color:cyan\"> |-Best step: 0</span>"
      ],
      "text/plain": [
       "<IPython.core.display.HTML object>"
      ]
     },
     "metadata": {},
     "output_type": "display_data"
    },
    {
     "data": {
      "text/html": [
       "<span style=\"color:#7E57C2\"><h2 style=\"font-size:16px\">Hyperparameters:</h2></span>"
      ],
      "text/plain": [
       "<IPython.core.display.HTML object>"
      ]
     },
     "metadata": {},
     "output_type": "display_data"
    },
    {
     "data": {
      "text/html": [
       "<span style=\"color:cyan\"> |-activation_func: swish</span>"
      ],
      "text/plain": [
       "<IPython.core.display.HTML object>"
      ]
     },
     "metadata": {},
     "output_type": "display_data"
    },
    {
     "data": {
      "text/html": [
       "<span style=\"color:blue\"> |-activation_func_2: tanh</span>"
      ],
      "text/plain": [
       "<IPython.core.display.HTML object>"
      ]
     },
     "metadata": {},
     "output_type": "display_data"
    },
    {
     "data": {
      "text/html": [
       "<span style=\"color:cyan\"> |-layers: 3</span>"
      ],
      "text/plain": [
       "<IPython.core.display.HTML object>"
      ]
     },
     "metadata": {},
     "output_type": "display_data"
    },
    {
     "data": {
      "text/html": [
       "<span style=\"color:blue\"> |-learning_rate: 0.01</span>"
      ],
      "text/plain": [
       "<IPython.core.display.HTML object>"
      ]
     },
     "metadata": {},
     "output_type": "display_data"
    },
    {
     "data": {
      "text/html": [
       "<span style=\"color:cyan\"> |-tuner/bracket: 1</span>"
      ],
      "text/plain": [
       "<IPython.core.display.HTML object>"
      ]
     },
     "metadata": {},
     "output_type": "display_data"
    },
    {
     "data": {
      "text/html": [
       "<span style=\"color:blue\"> |-tuner/epochs: 17</span>"
      ],
      "text/plain": [
       "<IPython.core.display.HTML object>"
      ]
     },
     "metadata": {},
     "output_type": "display_data"
    },
    {
     "data": {
      "text/html": [
       "<span style=\"color:cyan\"> |-tuner/initial_epoch: 0</span>"
      ],
      "text/plain": [
       "<IPython.core.display.HTML object>"
      ]
     },
     "metadata": {},
     "output_type": "display_data"
    },
    {
     "data": {
      "text/html": [
       "<span style=\"color:blue\"> |-tuner/round: 0</span>"
      ],
      "text/plain": [
       "<IPython.core.display.HTML object>"
      ]
     },
     "metadata": {},
     "output_type": "display_data"
    },
    {
     "data": {
      "text/html": [
       "<span style=\"color:cyan\"> |-units: 16</span>"
      ],
      "text/plain": [
       "<IPython.core.display.HTML object>"
      ]
     },
     "metadata": {},
     "output_type": "display_data"
    },
    {
     "name": "stdout",
     "output_type": "stream",
     "text": [
      "Train on 12140 samples, validate on 4515 samples\n",
      "Epoch 1/17\n",
      "12140/12140 [==============================] - ETA: 2:04 - loss: 1.4374 - accuracy: 0.46 - ETA: 5s - loss: 6.9959 - accuracy: 0.5238 - ETA: 2s - loss: 7.1482 - accuracy: 0.52 - ETA: 2s - loss: 7.0372 - accuracy: 0.53 - ETA: 1s - loss: 7.1236 - accuracy: 0.52 - ETA: 1s - loss: 6.9970 - accuracy: 0.53 - ETA: 1s - loss: 7.0176 - accuracy: 0.53 - ETA: 0s - loss: 7.0556 - accuracy: 0.53 - ETA: 0s - loss: 7.0941 - accuracy: 0.53 - ETA: 0s - loss: 7.0669 - accuracy: 0.53 - ETA: 0s - loss: 7.0433 - accuracy: 0.53 - ETA: 0s - loss: 6.9905 - accuracy: 0.53 - ETA: 0s - loss: 6.9772 - accuracy: 0.54 - ETA: 0s - loss: 6.9979 - accuracy: 0.53 - ETA: 0s - loss: 6.9907 - accuracy: 0.54 - ETA: 0s - loss: 6.9862 - accuracy: 0.54 - 1s 118us/sample - loss: 6.9664 - accuracy: 0.5420 - val_loss: 6.0186 - val_accuracy: 0.6053\n",
      "Epoch 2/17\n",
      "12140/12140 [==============================] - ETA: 1s - loss: 8.1012 - accuracy: 0.46 - ETA: 0s - loss: 7.2214 - accuracy: 0.52 - ETA: 0s - loss: 6.8678 - accuracy: 0.54 - ETA: 0s - loss: 6.7217 - accuracy: 0.55 - ETA: 0s - loss: 6.7753 - accuracy: 0.55 - ETA: 0s - loss: 6.7935 - accuracy: 0.55 - ETA: 0s - loss: 6.8036 - accuracy: 0.55 - ETA: 0s - loss: 6.8533 - accuracy: 0.55 - ETA: 0s - loss: 6.8472 - accuracy: 0.55 - ETA: 0s - loss: 6.9152 - accuracy: 0.54 - ETA: 0s - loss: 6.9367 - accuracy: 0.54 - ETA: 0s - loss: 6.9655 - accuracy: 0.54 - ETA: 0s - loss: 6.9829 - accuracy: 0.54 - ETA: 0s - loss: 6.9814 - accuracy: 0.54 - ETA: 0s - loss: 6.9750 - accuracy: 0.54 - ETA: 0s - loss: 6.9850 - accuracy: 0.54 - 1s 81us/sample - loss: 6.9815 - accuracy: 0.5422 - val_loss: 6.0186 - val_accuracy: 0.6053\n"
     ]
    },
    {
     "data": {
      "text/html": [
       "<span style=\"color:#4527A0\"><h1 style=\"font-size:18px\">Trial complete</h1></span>"
      ],
      "text/plain": [
       "<IPython.core.display.HTML object>"
      ]
     },
     "metadata": {},
     "output_type": "display_data"
    },
    {
     "data": {
      "text/html": [
       "<span style=\"color:#4527A0\"><h1 style=\"font-size:18px\">Trial summary</h1></span>"
      ],
      "text/plain": [
       "<IPython.core.display.HTML object>"
      ]
     },
     "metadata": {},
     "output_type": "display_data"
    },
    {
     "data": {
      "text/html": [
       "<span style=\"color:cyan\"> |-Trial ID: c1ef96946726f684c624e4067acc56c5</span>"
      ],
      "text/plain": [
       "<IPython.core.display.HTML object>"
      ]
     },
     "metadata": {},
     "output_type": "display_data"
    },
    {
     "data": {
      "text/html": [
       "<span style=\"color:cyan\"> |-Score: 0.605315625667572</span>"
      ],
      "text/plain": [
       "<IPython.core.display.HTML object>"
      ]
     },
     "metadata": {},
     "output_type": "display_data"
    },
    {
     "data": {
      "text/html": [
       "<span style=\"color:cyan\"> |-Best step: 0</span>"
      ],
      "text/plain": [
       "<IPython.core.display.HTML object>"
      ]
     },
     "metadata": {},
     "output_type": "display_data"
    },
    {
     "data": {
      "text/html": [
       "<span style=\"color:#7E57C2\"><h2 style=\"font-size:16px\">Hyperparameters:</h2></span>"
      ],
      "text/plain": [
       "<IPython.core.display.HTML object>"
      ]
     },
     "metadata": {},
     "output_type": "display_data"
    },
    {
     "data": {
      "text/html": [
       "<span style=\"color:cyan\"> |-activation_func: relu</span>"
      ],
      "text/plain": [
       "<IPython.core.display.HTML object>"
      ]
     },
     "metadata": {},
     "output_type": "display_data"
    },
    {
     "data": {
      "text/html": [
       "<span style=\"color:blue\"> |-activation_func_2: swish</span>"
      ],
      "text/plain": [
       "<IPython.core.display.HTML object>"
      ]
     },
     "metadata": {},
     "output_type": "display_data"
    },
    {
     "data": {
      "text/html": [
       "<span style=\"color:cyan\"> |-layers: 3</span>"
      ],
      "text/plain": [
       "<IPython.core.display.HTML object>"
      ]
     },
     "metadata": {},
     "output_type": "display_data"
    },
    {
     "data": {
      "text/html": [
       "<span style=\"color:blue\"> |-learning_rate: 0.01</span>"
      ],
      "text/plain": [
       "<IPython.core.display.HTML object>"
      ]
     },
     "metadata": {},
     "output_type": "display_data"
    },
    {
     "data": {
      "text/html": [
       "<span style=\"color:cyan\"> |-tuner/bracket: 1</span>"
      ],
      "text/plain": [
       "<IPython.core.display.HTML object>"
      ]
     },
     "metadata": {},
     "output_type": "display_data"
    },
    {
     "data": {
      "text/html": [
       "<span style=\"color:blue\"> |-tuner/epochs: 17</span>"
      ],
      "text/plain": [
       "<IPython.core.display.HTML object>"
      ]
     },
     "metadata": {},
     "output_type": "display_data"
    },
    {
     "data": {
      "text/html": [
       "<span style=\"color:cyan\"> |-tuner/initial_epoch: 0</span>"
      ],
      "text/plain": [
       "<IPython.core.display.HTML object>"
      ]
     },
     "metadata": {},
     "output_type": "display_data"
    },
    {
     "data": {
      "text/html": [
       "<span style=\"color:blue\"> |-tuner/round: 0</span>"
      ],
      "text/plain": [
       "<IPython.core.display.HTML object>"
      ]
     },
     "metadata": {},
     "output_type": "display_data"
    },
    {
     "data": {
      "text/html": [
       "<span style=\"color:cyan\"> |-units: 176</span>"
      ],
      "text/plain": [
       "<IPython.core.display.HTML object>"
      ]
     },
     "metadata": {},
     "output_type": "display_data"
    },
    {
     "name": "stdout",
     "output_type": "stream",
     "text": [
      "Train on 12140 samples, validate on 4515 samples\n",
      "Epoch 18/50\n",
      "12140/12140 [==============================] - ETA: 2:00 - loss: 4.9401 - accuracy: 0.34 - ETA: 4s - loss: 2.0462 - accuracy: 0.8275 - ETA: 2s - loss: 2.1046 - accuracy: 0.83 - ETA: 1s - loss: 2.0666 - accuracy: 0.84 - ETA: 1s - loss: 2.0417 - accuracy: 0.84 - ETA: 1s - loss: 1.9507 - accuracy: 0.85 - ETA: 1s - loss: 1.8495 - accuracy: 0.85 - ETA: 0s - loss: 1.7755 - accuracy: 0.86 - ETA: 0s - loss: 1.6757 - accuracy: 0.87 - ETA: 0s - loss: 1.5973 - accuracy: 0.87 - ETA: 0s - loss: 1.5161 - accuracy: 0.88 - ETA: 0s - loss: 1.4581 - accuracy: 0.88 - ETA: 0s - loss: 1.4012 - accuracy: 0.89 - ETA: 0s - loss: 1.3381 - accuracy: 0.89 - ETA: 0s - loss: 1.2773 - accuracy: 0.90 - ETA: 0s - loss: 1.2459 - accuracy: 0.90 - ETA: 0s - loss: 1.1948 - accuracy: 0.90 - 1s 120us/sample - loss: 1.1751 - accuracy: 0.9104 - val_loss: 0.9436 - val_accuracy: 0.9243\n",
      "Epoch 19/50\n",
      "12140/12140 [==============================] - ETA: 1s - loss: 1.9290 - accuracy: 0.87 - ETA: 0s - loss: 0.5907 - accuracy: 0.95 - ETA: 0s - loss: 0.5657 - accuracy: 0.95 - ETA: 0s - loss: 1.0068 - accuracy: 0.92 - ETA: 0s - loss: 1.5048 - accuracy: 0.88 - ETA: 0s - loss: 1.4396 - accuracy: 0.88 - ETA: 0s - loss: 1.3441 - accuracy: 0.89 - ETA: 0s - loss: 1.2493 - accuracy: 0.90 - ETA: 0s - loss: 1.1603 - accuracy: 0.90 - ETA: 0s - loss: 1.0945 - accuracy: 0.91 - ETA: 0s - loss: 1.0430 - accuracy: 0.91 - ETA: 0s - loss: 0.9906 - accuracy: 0.92 - ETA: 0s - loss: 0.9472 - accuracy: 0.92 - ETA: 0s - loss: 0.9058 - accuracy: 0.92 - ETA: 0s - loss: 0.8609 - accuracy: 0.93 - ETA: 0s - loss: 0.8268 - accuracy: 0.93 - 1s 81us/sample - loss: 0.8048 - accuracy: 0.9372 - val_loss: 3.3080 - val_accuracy: 0.7415\n"
     ]
    },
    {
     "data": {
      "text/html": [
       "<span style=\"color:#4527A0\"><h1 style=\"font-size:18px\">Trial complete</h1></span>"
      ],
      "text/plain": [
       "<IPython.core.display.HTML object>"
      ]
     },
     "metadata": {},
     "output_type": "display_data"
    },
    {
     "data": {
      "text/html": [
       "<span style=\"color:#4527A0\"><h1 style=\"font-size:18px\">Trial summary</h1></span>"
      ],
      "text/plain": [
       "<IPython.core.display.HTML object>"
      ]
     },
     "metadata": {},
     "output_type": "display_data"
    },
    {
     "data": {
      "text/html": [
       "<span style=\"color:cyan\"> |-Trial ID: 9250cadd53606d094ccf07dd041ba9c6</span>"
      ],
      "text/plain": [
       "<IPython.core.display.HTML object>"
      ]
     },
     "metadata": {},
     "output_type": "display_data"
    },
    {
     "data": {
      "text/html": [
       "<span style=\"color:cyan\"> |-Score: 0.9242525100708008</span>"
      ],
      "text/plain": [
       "<IPython.core.display.HTML object>"
      ]
     },
     "metadata": {},
     "output_type": "display_data"
    },
    {
     "data": {
      "text/html": [
       "<span style=\"color:cyan\"> |-Best step: 0</span>"
      ],
      "text/plain": [
       "<IPython.core.display.HTML object>"
      ]
     },
     "metadata": {},
     "output_type": "display_data"
    },
    {
     "data": {
      "text/html": [
       "<span style=\"color:#7E57C2\"><h2 style=\"font-size:16px\">Hyperparameters:</h2></span>"
      ],
      "text/plain": [
       "<IPython.core.display.HTML object>"
      ]
     },
     "metadata": {},
     "output_type": "display_data"
    },
    {
     "data": {
      "text/html": [
       "<span style=\"color:cyan\"> |-activation_func: tanh</span>"
      ],
      "text/plain": [
       "<IPython.core.display.HTML object>"
      ]
     },
     "metadata": {},
     "output_type": "display_data"
    },
    {
     "data": {
      "text/html": [
       "<span style=\"color:blue\"> |-activation_func_2: tanh</span>"
      ],
      "text/plain": [
       "<IPython.core.display.HTML object>"
      ]
     },
     "metadata": {},
     "output_type": "display_data"
    },
    {
     "data": {
      "text/html": [
       "<span style=\"color:cyan\"> |-layers: 3</span>"
      ],
      "text/plain": [
       "<IPython.core.display.HTML object>"
      ]
     },
     "metadata": {},
     "output_type": "display_data"
    },
    {
     "data": {
      "text/html": [
       "<span style=\"color:blue\"> |-learning_rate: 0.01</span>"
      ],
      "text/plain": [
       "<IPython.core.display.HTML object>"
      ]
     },
     "metadata": {},
     "output_type": "display_data"
    },
    {
     "data": {
      "text/html": [
       "<span style=\"color:cyan\"> |-tuner/bracket: 1</span>"
      ],
      "text/plain": [
       "<IPython.core.display.HTML object>"
      ]
     },
     "metadata": {},
     "output_type": "display_data"
    },
    {
     "data": {
      "text/html": [
       "<span style=\"color:blue\"> |-tuner/epochs: 50</span>"
      ],
      "text/plain": [
       "<IPython.core.display.HTML object>"
      ]
     },
     "metadata": {},
     "output_type": "display_data"
    },
    {
     "data": {
      "text/html": [
       "<span style=\"color:cyan\"> |-tuner/initial_epoch: 17</span>"
      ],
      "text/plain": [
       "<IPython.core.display.HTML object>"
      ]
     },
     "metadata": {},
     "output_type": "display_data"
    },
    {
     "data": {
      "text/html": [
       "<span style=\"color:blue\"> |-tuner/round: 1</span>"
      ],
      "text/plain": [
       "<IPython.core.display.HTML object>"
      ]
     },
     "metadata": {},
     "output_type": "display_data"
    },
    {
     "data": {
      "text/html": [
       "<span style=\"color:cyan\"> |-tuner/trial_id: db73fbcae9325fd02be8a5745e234fbf</span>"
      ],
      "text/plain": [
       "<IPython.core.display.HTML object>"
      ]
     },
     "metadata": {},
     "output_type": "display_data"
    },
    {
     "data": {
      "text/html": [
       "<span style=\"color:blue\"> |-units: 112</span>"
      ],
      "text/plain": [
       "<IPython.core.display.HTML object>"
      ]
     },
     "metadata": {},
     "output_type": "display_data"
    },
    {
     "name": "stdout",
     "output_type": "stream",
     "text": [
      "Train on 12140 samples, validate on 4515 samples\n",
      "Epoch 18/50\n",
      "12140/12140 [==============================] - ETA: 1:47 - loss: 4.7443 - accuracy: 0.53 - ETA: 4s - loss: 1.4441 - accuracy: 0.8244 - ETA: 2s - loss: 1.0000 - accuracy: 0.86 - ETA: 1s - loss: 0.7041 - accuracy: 0.90 - ETA: 1s - loss: 0.5775 - accuracy: 0.91 - ETA: 0s - loss: 0.4930 - accuracy: 0.92 - ETA: 0s - loss: 0.4256 - accuracy: 0.93 - ETA: 0s - loss: 0.3852 - accuracy: 0.93 - ETA: 0s - loss: 0.3647 - accuracy: 0.94 - ETA: 0s - loss: 0.3400 - accuracy: 0.94 - ETA: 0s - loss: 0.3245 - accuracy: 0.94 - ETA: 0s - loss: 0.3073 - accuracy: 0.95 - ETA: 0s - loss: 0.2931 - accuracy: 0.95 - ETA: 0s - loss: 0.2832 - accuracy: 0.95 - 1s 104us/sample - loss: 0.2778 - accuracy: 0.9564 - val_loss: 0.3051 - val_accuracy: 0.9298\n",
      "Epoch 19/50\n",
      "12140/12140 [==============================] - ETA: 1s - loss: 0.0143 - accuracy: 1.00 - ETA: 0s - loss: 0.1774 - accuracy: 0.97 - ETA: 0s - loss: 0.2238 - accuracy: 0.96 - ETA: 0s - loss: 0.2040 - accuracy: 0.97 - ETA: 0s - loss: 0.1904 - accuracy: 0.97 - ETA: 0s - loss: 0.1764 - accuracy: 0.97 - ETA: 0s - loss: 0.1824 - accuracy: 0.97 - ETA: 0s - loss: 0.1724 - accuracy: 0.97 - ETA: 0s - loss: 0.1639 - accuracy: 0.97 - ETA: 0s - loss: 0.1536 - accuracy: 0.97 - ETA: 0s - loss: 0.1562 - accuracy: 0.97 - ETA: 0s - loss: 0.1517 - accuracy: 0.97 - ETA: 0s - loss: 0.1522 - accuracy: 0.97 - ETA: 0s - loss: 0.1499 - accuracy: 0.97 - ETA: 0s - loss: 0.1494 - accuracy: 0.97 - 1s 74us/sample - loss: 0.1501 - accuracy: 0.9752 - val_loss: 0.7776 - val_accuracy: 0.8554\n"
     ]
    },
    {
     "data": {
      "text/html": [
       "<span style=\"color:#4527A0\"><h1 style=\"font-size:18px\">Trial complete</h1></span>"
      ],
      "text/plain": [
       "<IPython.core.display.HTML object>"
      ]
     },
     "metadata": {},
     "output_type": "display_data"
    },
    {
     "data": {
      "text/html": [
       "<span style=\"color:#4527A0\"><h1 style=\"font-size:18px\">Trial summary</h1></span>"
      ],
      "text/plain": [
       "<IPython.core.display.HTML object>"
      ]
     },
     "metadata": {},
     "output_type": "display_data"
    },
    {
     "data": {
      "text/html": [
       "<span style=\"color:cyan\"> |-Trial ID: 2750b883137a9e49b205619699deaca1</span>"
      ],
      "text/plain": [
       "<IPython.core.display.HTML object>"
      ]
     },
     "metadata": {},
     "output_type": "display_data"
    },
    {
     "data": {
      "text/html": [
       "<span style=\"color:cyan\"> |-Score: 0.9297896027565002</span>"
      ],
      "text/plain": [
       "<IPython.core.display.HTML object>"
      ]
     },
     "metadata": {},
     "output_type": "display_data"
    },
    {
     "data": {
      "text/html": [
       "<span style=\"color:cyan\"> |-Best step: 0</span>"
      ],
      "text/plain": [
       "<IPython.core.display.HTML object>"
      ]
     },
     "metadata": {},
     "output_type": "display_data"
    },
    {
     "data": {
      "text/html": [
       "<span style=\"color:#7E57C2\"><h2 style=\"font-size:16px\">Hyperparameters:</h2></span>"
      ],
      "text/plain": [
       "<IPython.core.display.HTML object>"
      ]
     },
     "metadata": {},
     "output_type": "display_data"
    },
    {
     "data": {
      "text/html": [
       "<span style=\"color:cyan\"> |-activation_func: swish</span>"
      ],
      "text/plain": [
       "<IPython.core.display.HTML object>"
      ]
     },
     "metadata": {},
     "output_type": "display_data"
    },
    {
     "data": {
      "text/html": [
       "<span style=\"color:blue\"> |-activation_func_2: tanh</span>"
      ],
      "text/plain": [
       "<IPython.core.display.HTML object>"
      ]
     },
     "metadata": {},
     "output_type": "display_data"
    },
    {
     "data": {
      "text/html": [
       "<span style=\"color:cyan\"> |-layers: 1</span>"
      ],
      "text/plain": [
       "<IPython.core.display.HTML object>"
      ]
     },
     "metadata": {},
     "output_type": "display_data"
    },
    {
     "data": {
      "text/html": [
       "<span style=\"color:blue\"> |-learning_rate: 0.01</span>"
      ],
      "text/plain": [
       "<IPython.core.display.HTML object>"
      ]
     },
     "metadata": {},
     "output_type": "display_data"
    },
    {
     "data": {
      "text/html": [
       "<span style=\"color:cyan\"> |-tuner/bracket: 1</span>"
      ],
      "text/plain": [
       "<IPython.core.display.HTML object>"
      ]
     },
     "metadata": {},
     "output_type": "display_data"
    },
    {
     "data": {
      "text/html": [
       "<span style=\"color:blue\"> |-tuner/epochs: 50</span>"
      ],
      "text/plain": [
       "<IPython.core.display.HTML object>"
      ]
     },
     "metadata": {},
     "output_type": "display_data"
    },
    {
     "data": {
      "text/html": [
       "<span style=\"color:cyan\"> |-tuner/initial_epoch: 17</span>"
      ],
      "text/plain": [
       "<IPython.core.display.HTML object>"
      ]
     },
     "metadata": {},
     "output_type": "display_data"
    },
    {
     "data": {
      "text/html": [
       "<span style=\"color:blue\"> |-tuner/round: 1</span>"
      ],
      "text/plain": [
       "<IPython.core.display.HTML object>"
      ]
     },
     "metadata": {},
     "output_type": "display_data"
    },
    {
     "data": {
      "text/html": [
       "<span style=\"color:cyan\"> |-tuner/trial_id: 1f82583e218c400ac886c10eb0c050b8</span>"
      ],
      "text/plain": [
       "<IPython.core.display.HTML object>"
      ]
     },
     "metadata": {},
     "output_type": "display_data"
    },
    {
     "data": {
      "text/html": [
       "<span style=\"color:blue\"> |-units: 32</span>"
      ],
      "text/plain": [
       "<IPython.core.display.HTML object>"
      ]
     },
     "metadata": {},
     "output_type": "display_data"
    },
    {
     "name": "stdout",
     "output_type": "stream",
     "text": [
      "Train on 12140 samples, validate on 4515 samples\n",
      "Epoch 18/50\n",
      "12140/12140 [==============================] - ETA: 2:12 - loss: 2.7432 - accuracy: 0.53 - ETA: 5s - loss: 0.6707 - accuracy: 0.9193 - ETA: 3s - loss: 0.8390 - accuracy: 0.92 - ETA: 2s - loss: 0.7002 - accuracy: 0.93 - ETA: 1s - loss: 0.5600 - accuracy: 0.95 - ETA: 1s - loss: 0.5000 - accuracy: 0.95 - ETA: 1s - loss: 0.4998 - accuracy: 0.95 - ETA: 0s - loss: 0.4824 - accuracy: 0.96 - ETA: 0s - loss: 0.4643 - accuracy: 0.96 - ETA: 0s - loss: 0.4615 - accuracy: 0.96 - ETA: 0s - loss: 0.4576 - accuracy: 0.96 - ETA: 0s - loss: 0.4834 - accuracy: 0.96 - ETA: 0s - loss: 0.5352 - accuracy: 0.96 - ETA: 0s - loss: 0.5986 - accuracy: 0.95 - ETA: 0s - loss: 0.6604 - accuracy: 0.95 - ETA: 0s - loss: 0.8038 - accuracy: 0.94 - 1s 120us/sample - loss: 0.9047 - accuracy: 0.9373 - val_loss: 5.5007 - val_accuracy: 0.6403\n",
      "Epoch 19/50\n",
      "12140/12140 [==============================] - ETA: 1s - loss: 1.9828 - accuracy: 0.84 - ETA: 0s - loss: 1.4067 - accuracy: 0.90 - ETA: 0s - loss: 1.2152 - accuracy: 0.91 - ETA: 0s - loss: 1.0995 - accuracy: 0.92 - ETA: 0s - loss: 1.0863 - accuracy: 0.92 - ETA: 0s - loss: 1.0566 - accuracy: 0.93 - ETA: 0s - loss: 1.0106 - accuracy: 0.93 - ETA: 0s - loss: 0.9541 - accuracy: 0.93 - ETA: 0s - loss: 0.8898 - accuracy: 0.94 - ETA: 0s - loss: 0.8514 - accuracy: 0.94 - ETA: 0s - loss: 0.8268 - accuracy: 0.94 - ETA: 0s - loss: 0.7939 - accuracy: 0.94 - ETA: 0s - loss: 0.7698 - accuracy: 0.94 - ETA: 0s - loss: 0.7580 - accuracy: 0.95 - ETA: 0s - loss: 0.7979 - accuracy: 0.94 - ETA: 0s - loss: 0.8295 - accuracy: 0.94 - 1s 86us/sample - loss: 0.8575 - accuracy: 0.9434 - val_loss: 0.9438 - val_accuracy: 0.9382\n",
      "Epoch 20/50\n",
      "12140/12140 [==============================] - ETA: 2s - loss: 0.9531 - accuracy: 0.93 - ETA: 0s - loss: 1.2123 - accuracy: 0.92 - ETA: 0s - loss: 1.2615 - accuracy: 0.91 - ETA: 0s - loss: 1.1523 - accuracy: 0.92 - ETA: 0s - loss: 1.1771 - accuracy: 0.92 - ETA: 0s - loss: 1.2177 - accuracy: 0.92 - ETA: 0s - loss: 1.2285 - accuracy: 0.91 - ETA: 0s - loss: 1.2630 - accuracy: 0.91 - ETA: 0s - loss: 1.2501 - accuracy: 0.91 - ETA: 0s - loss: 1.2180 - accuracy: 0.92 - ETA: 0s - loss: 1.1929 - accuracy: 0.92 - ETA: 0s - loss: 1.1750 - accuracy: 0.92 - ETA: 0s - loss: 1.1738 - accuracy: 0.92 - ETA: 0s - loss: 1.1992 - accuracy: 0.92 - ETA: 0s - loss: 1.2570 - accuracy: 0.91 - ETA: 0s - loss: 1.3256 - accuracy: 0.91 - ETA: 0s - loss: 1.3682 - accuracy: 0.91 - 1s 84us/sample - loss: 1.3786 - accuracy: 0.9097 - val_loss: 1.4892 - val_accuracy: 0.9028\n"
     ]
    },
    {
     "data": {
      "text/html": [
       "<span style=\"color:#4527A0\"><h1 style=\"font-size:18px\">Trial complete</h1></span>"
      ],
      "text/plain": [
       "<IPython.core.display.HTML object>"
      ]
     },
     "metadata": {},
     "output_type": "display_data"
    },
    {
     "data": {
      "text/html": [
       "<span style=\"color:#4527A0\"><h1 style=\"font-size:18px\">Trial summary</h1></span>"
      ],
      "text/plain": [
       "<IPython.core.display.HTML object>"
      ]
     },
     "metadata": {},
     "output_type": "display_data"
    },
    {
     "data": {
      "text/html": [
       "<span style=\"color:cyan\"> |-Trial ID: 9eb83d4d74432a6669b75bc10362a498</span>"
      ],
      "text/plain": [
       "<IPython.core.display.HTML object>"
      ]
     },
     "metadata": {},
     "output_type": "display_data"
    },
    {
     "data": {
      "text/html": [
       "<span style=\"color:cyan\"> |-Score: 0.9382059574127197</span>"
      ],
      "text/plain": [
       "<IPython.core.display.HTML object>"
      ]
     },
     "metadata": {},
     "output_type": "display_data"
    },
    {
     "data": {
      "text/html": [
       "<span style=\"color:cyan\"> |-Best step: 0</span>"
      ],
      "text/plain": [
       "<IPython.core.display.HTML object>"
      ]
     },
     "metadata": {},
     "output_type": "display_data"
    },
    {
     "data": {
      "text/html": [
       "<span style=\"color:#7E57C2\"><h2 style=\"font-size:16px\">Hyperparameters:</h2></span>"
      ],
      "text/plain": [
       "<IPython.core.display.HTML object>"
      ]
     },
     "metadata": {},
     "output_type": "display_data"
    },
    {
     "data": {
      "text/html": [
       "<span style=\"color:cyan\"> |-activation_func: swish</span>"
      ],
      "text/plain": [
       "<IPython.core.display.HTML object>"
      ]
     },
     "metadata": {},
     "output_type": "display_data"
    },
    {
     "data": {
      "text/html": [
       "<span style=\"color:blue\"> |-activation_func_2: relu</span>"
      ],
      "text/plain": [
       "<IPython.core.display.HTML object>"
      ]
     },
     "metadata": {},
     "output_type": "display_data"
    },
    {
     "data": {
      "text/html": [
       "<span style=\"color:cyan\"> |-layers: 3</span>"
      ],
      "text/plain": [
       "<IPython.core.display.HTML object>"
      ]
     },
     "metadata": {},
     "output_type": "display_data"
    },
    {
     "data": {
      "text/html": [
       "<span style=\"color:blue\"> |-learning_rate: 0.01</span>"
      ],
      "text/plain": [
       "<IPython.core.display.HTML object>"
      ]
     },
     "metadata": {},
     "output_type": "display_data"
    },
    {
     "data": {
      "text/html": [
       "<span style=\"color:cyan\"> |-tuner/bracket: 1</span>"
      ],
      "text/plain": [
       "<IPython.core.display.HTML object>"
      ]
     },
     "metadata": {},
     "output_type": "display_data"
    },
    {
     "data": {
      "text/html": [
       "<span style=\"color:blue\"> |-tuner/epochs: 50</span>"
      ],
      "text/plain": [
       "<IPython.core.display.HTML object>"
      ]
     },
     "metadata": {},
     "output_type": "display_data"
    },
    {
     "data": {
      "text/html": [
       "<span style=\"color:cyan\"> |-tuner/initial_epoch: 17</span>"
      ],
      "text/plain": [
       "<IPython.core.display.HTML object>"
      ]
     },
     "metadata": {},
     "output_type": "display_data"
    },
    {
     "data": {
      "text/html": [
       "<span style=\"color:blue\"> |-tuner/round: 1</span>"
      ],
      "text/plain": [
       "<IPython.core.display.HTML object>"
      ]
     },
     "metadata": {},
     "output_type": "display_data"
    },
    {
     "data": {
      "text/html": [
       "<span style=\"color:cyan\"> |-tuner/trial_id: c62b0ee2663b4f41308595a71f596871</span>"
      ],
      "text/plain": [
       "<IPython.core.display.HTML object>"
      ]
     },
     "metadata": {},
     "output_type": "display_data"
    },
    {
     "data": {
      "text/html": [
       "<span style=\"color:blue\"> |-units: 112</span>"
      ],
      "text/plain": [
       "<IPython.core.display.HTML object>"
      ]
     },
     "metadata": {},
     "output_type": "display_data"
    },
    {
     "name": "stdout",
     "output_type": "stream",
     "text": [
      "Train on 12140 samples, validate on 4515 samples\n",
      "Epoch 1/50\n",
      "12140/12140 [==============================] - ETA: 1:44 - loss: 1.8059 - accuracy: 0.62 - ETA: 3s - loss: 1.4158 - accuracy: 0.7522 - ETA: 2s - loss: 1.0513 - accuracy: 0.81 - ETA: 1s - loss: 0.8202 - accuracy: 0.85 - ETA: 1s - loss: 0.6740 - accuracy: 0.87 - ETA: 0s - loss: 0.5586 - accuracy: 0.90 - ETA: 0s - loss: 0.4854 - accuracy: 0.91 - ETA: 0s - loss: 0.4336 - accuracy: 0.92 - ETA: 0s - loss: 0.3952 - accuracy: 0.92 - ETA: 0s - loss: 0.3677 - accuracy: 0.93 - ETA: 0s - loss: 0.3440 - accuracy: 0.93 - ETA: 0s - loss: 0.3250 - accuracy: 0.93 - ETA: 0s - loss: 0.3113 - accuracy: 0.93 - ETA: 0s - loss: 0.2963 - accuracy: 0.94 - 1s 104us/sample - loss: 0.2879 - accuracy: 0.9426 - val_loss: 0.2845 - val_accuracy: 0.9426\n",
      "Epoch 2/50\n",
      "12140/12140 [==============================] - ETA: 1s - loss: 0.0769 - accuracy: 0.96 - ETA: 0s - loss: 0.0943 - accuracy: 0.97 - ETA: 0s - loss: 0.0938 - accuracy: 0.97 - ETA: 0s - loss: 0.0821 - accuracy: 0.97 - ETA: 0s - loss: 0.0927 - accuracy: 0.97 - ETA: 0s - loss: 0.0975 - accuracy: 0.97 - ETA: 0s - loss: 0.1054 - accuracy: 0.97 - ETA: 0s - loss: 0.1023 - accuracy: 0.97 - ETA: 0s - loss: 0.1018 - accuracy: 0.97 - ETA: 0s - loss: 0.0993 - accuracy: 0.97 - ETA: 0s - loss: 0.1000 - accuracy: 0.97 - ETA: 0s - loss: 0.1014 - accuracy: 0.97 - ETA: 0s - loss: 0.1007 - accuracy: 0.97 - ETA: 0s - loss: 0.0999 - accuracy: 0.97 - ETA: 0s - loss: 0.0989 - accuracy: 0.97 - 1s 75us/sample - loss: 0.0994 - accuracy: 0.9736 - val_loss: 0.2682 - val_accuracy: 0.9415\n",
      "Epoch 3/50\n",
      "12140/12140 [==============================] - ETA: 1s - loss: 0.1970 - accuracy: 0.93 - ETA: 0s - loss: 0.0990 - accuracy: 0.97 - ETA: 0s - loss: 0.0928 - accuracy: 0.97 - ETA: 0s - loss: 0.0974 - accuracy: 0.97 - ETA: 0s - loss: 0.0885 - accuracy: 0.97 - ETA: 0s - loss: 0.0927 - accuracy: 0.97 - ETA: 0s - loss: 0.0939 - accuracy: 0.97 - ETA: 0s - loss: 0.0923 - accuracy: 0.97 - ETA: 0s - loss: 0.0917 - accuracy: 0.97 - ETA: 0s - loss: 0.0941 - accuracy: 0.97 - ETA: 0s - loss: 0.0920 - accuracy: 0.97 - ETA: 0s - loss: 0.0929 - accuracy: 0.97 - ETA: 0s - loss: 0.0948 - accuracy: 0.97 - ETA: 0s - loss: 0.0947 - accuracy: 0.97 - 1s 72us/sample - loss: 0.0973 - accuracy: 0.9750 - val_loss: 0.3047 - val_accuracy: 0.9200\n"
     ]
    },
    {
     "data": {
      "text/html": [
       "<span style=\"color:#4527A0\"><h1 style=\"font-size:18px\">Trial complete</h1></span>"
      ],
      "text/plain": [
       "<IPython.core.display.HTML object>"
      ]
     },
     "metadata": {},
     "output_type": "display_data"
    },
    {
     "data": {
      "text/html": [
       "<span style=\"color:#4527A0\"><h1 style=\"font-size:18px\">Trial summary</h1></span>"
      ],
      "text/plain": [
       "<IPython.core.display.HTML object>"
      ]
     },
     "metadata": {},
     "output_type": "display_data"
    },
    {
     "data": {
      "text/html": [
       "<span style=\"color:cyan\"> |-Trial ID: 7f282215eae01b56729878fcfd6daa7d</span>"
      ],
      "text/plain": [
       "<IPython.core.display.HTML object>"
      ]
     },
     "metadata": {},
     "output_type": "display_data"
    },
    {
     "data": {
      "text/html": [
       "<span style=\"color:cyan\"> |-Score: 0.9426356554031372</span>"
      ],
      "text/plain": [
       "<IPython.core.display.HTML object>"
      ]
     },
     "metadata": {},
     "output_type": "display_data"
    },
    {
     "data": {
      "text/html": [
       "<span style=\"color:cyan\"> |-Best step: 0</span>"
      ],
      "text/plain": [
       "<IPython.core.display.HTML object>"
      ]
     },
     "metadata": {},
     "output_type": "display_data"
    },
    {
     "data": {
      "text/html": [
       "<span style=\"color:#7E57C2\"><h2 style=\"font-size:16px\">Hyperparameters:</h2></span>"
      ],
      "text/plain": [
       "<IPython.core.display.HTML object>"
      ]
     },
     "metadata": {},
     "output_type": "display_data"
    },
    {
     "data": {
      "text/html": [
       "<span style=\"color:cyan\"> |-activation_func: swish</span>"
      ],
      "text/plain": [
       "<IPython.core.display.HTML object>"
      ]
     },
     "metadata": {},
     "output_type": "display_data"
    },
    {
     "data": {
      "text/html": [
       "<span style=\"color:blue\"> |-activation_func_2: tanh</span>"
      ],
      "text/plain": [
       "<IPython.core.display.HTML object>"
      ]
     },
     "metadata": {},
     "output_type": "display_data"
    },
    {
     "data": {
      "text/html": [
       "<span style=\"color:cyan\"> |-layers: 1</span>"
      ],
      "text/plain": [
       "<IPython.core.display.HTML object>"
      ]
     },
     "metadata": {},
     "output_type": "display_data"
    },
    {
     "data": {
      "text/html": [
       "<span style=\"color:blue\"> |-learning_rate: 0.001</span>"
      ],
      "text/plain": [
       "<IPython.core.display.HTML object>"
      ]
     },
     "metadata": {},
     "output_type": "display_data"
    },
    {
     "data": {
      "text/html": [
       "<span style=\"color:cyan\"> |-tuner/bracket: 0</span>"
      ],
      "text/plain": [
       "<IPython.core.display.HTML object>"
      ]
     },
     "metadata": {},
     "output_type": "display_data"
    },
    {
     "data": {
      "text/html": [
       "<span style=\"color:blue\"> |-tuner/epochs: 50</span>"
      ],
      "text/plain": [
       "<IPython.core.display.HTML object>"
      ]
     },
     "metadata": {},
     "output_type": "display_data"
    },
    {
     "data": {
      "text/html": [
       "<span style=\"color:cyan\"> |-tuner/initial_epoch: 0</span>"
      ],
      "text/plain": [
       "<IPython.core.display.HTML object>"
      ]
     },
     "metadata": {},
     "output_type": "display_data"
    },
    {
     "data": {
      "text/html": [
       "<span style=\"color:blue\"> |-tuner/round: 0</span>"
      ],
      "text/plain": [
       "<IPython.core.display.HTML object>"
      ]
     },
     "metadata": {},
     "output_type": "display_data"
    },
    {
     "data": {
      "text/html": [
       "<span style=\"color:cyan\"> |-units: 256</span>"
      ],
      "text/plain": [
       "<IPython.core.display.HTML object>"
      ]
     },
     "metadata": {},
     "output_type": "display_data"
    },
    {
     "name": "stdout",
     "output_type": "stream",
     "text": [
      "Train on 12140 samples, validate on 4515 samples\n",
      "Epoch 1/50\n",
      "12140/12140 [==============================] - ETA: 2:07 - loss: 3.5371 - accuracy: 0.62 - ETA: 5s - loss: 1.6665 - accuracy: 0.7188 - ETA: 3s - loss: 1.3364 - accuracy: 0.78 - ETA: 2s - loss: 1.1771 - accuracy: 0.81 - ETA: 1s - loss: 1.0120 - accuracy: 0.83 - ETA: 1s - loss: 0.9641 - accuracy: 0.84 - ETA: 1s - loss: 0.8993 - accuracy: 0.85 - ETA: 0s - loss: 0.8454 - accuracy: 0.86 - ETA: 0s - loss: 0.7863 - accuracy: 0.87 - ETA: 0s - loss: 0.7503 - accuracy: 0.88 - ETA: 0s - loss: 0.7181 - accuracy: 0.88 - ETA: 0s - loss: 0.6865 - accuracy: 0.89 - ETA: 0s - loss: 0.6574 - accuracy: 0.89 - ETA: 0s - loss: 0.6353 - accuracy: 0.89 - ETA: 0s - loss: 0.6095 - accuracy: 0.90 - ETA: 0s - loss: 0.5911 - accuracy: 0.90 - ETA: 0s - loss: 0.5694 - accuracy: 0.90 - 2s 131us/sample - loss: 0.5600 - accuracy: 0.9085 - val_loss: 0.6531 - val_accuracy: 0.7962\n",
      "Epoch 2/50\n",
      "12140/12140 [==============================] - ETA: 1s - loss: 0.0438 - accuracy: 1.00 - ETA: 0s - loss: 0.1669 - accuracy: 0.92 - ETA: 0s - loss: 0.2154 - accuracy: 0.93 - ETA: 0s - loss: 0.2218 - accuracy: 0.94 - ETA: 0s - loss: 0.2338 - accuracy: 0.94 - ETA: 0s - loss: 0.2332 - accuracy: 0.95 - ETA: 0s - loss: 0.2236 - accuracy: 0.95 - ETA: 0s - loss: 0.2141 - accuracy: 0.95 - ETA: 0s - loss: 0.2049 - accuracy: 0.95 - ETA: 0s - loss: 0.2084 - accuracy: 0.95 - ETA: 0s - loss: 0.2170 - accuracy: 0.95 - ETA: 0s - loss: 0.2219 - accuracy: 0.96 - ETA: 0s - loss: 0.2235 - accuracy: 0.96 - ETA: 0s - loss: 0.2161 - accuracy: 0.96 - ETA: 0s - loss: 0.2188 - accuracy: 0.96 - ETA: 0s - loss: 0.2176 - accuracy: 0.96 - ETA: 0s - loss: 0.2204 - accuracy: 0.96 - 1s 92us/sample - loss: 0.2174 - accuracy: 0.9639 - val_loss: 0.6044 - val_accuracy: 0.8359\n",
      "Epoch 3/50\n",
      "12140/12140 [==============================] - ETA: 1s - loss: 0.0124 - accuracy: 1.00 - ETA: 0s - loss: 0.2338 - accuracy: 0.97 - ETA: 0s - loss: 0.2225 - accuracy: 0.97 - ETA: 0s - loss: 0.2096 - accuracy: 0.97 - ETA: 0s - loss: 0.2220 - accuracy: 0.96 - ETA: 0s - loss: 0.2780 - accuracy: 0.95 - ETA: 0s - loss: 0.2742 - accuracy: 0.95 - ETA: 0s - loss: 0.2784 - accuracy: 0.95 - ETA: 0s - loss: 0.2877 - accuracy: 0.95 - ETA: 0s - loss: 0.3727 - accuracy: 0.94 - ETA: 0s - loss: 0.4328 - accuracy: 0.94 - ETA: 0s - loss: 0.4291 - accuracy: 0.94 - ETA: 0s - loss: 0.4210 - accuracy: 0.94 - ETA: 0s - loss: 0.4114 - accuracy: 0.94 - ETA: 0s - loss: 0.4039 - accuracy: 0.94 - ETA: 0s - loss: 0.3990 - accuracy: 0.95 - ETA: 0s - loss: 0.3993 - accuracy: 0.95 - 1s 94us/sample - loss: 0.3938 - accuracy: 0.9521 - val_loss: 0.7788 - val_accuracy: 0.9096\n"
     ]
    },
    {
     "data": {
      "text/html": [
       "<span style=\"color:#4527A0\"><h1 style=\"font-size:18px\">Trial complete</h1></span>"
      ],
      "text/plain": [
       "<IPython.core.display.HTML object>"
      ]
     },
     "metadata": {},
     "output_type": "display_data"
    },
    {
     "data": {
      "text/html": [
       "<span style=\"color:#4527A0\"><h1 style=\"font-size:18px\">Trial summary</h1></span>"
      ],
      "text/plain": [
       "<IPython.core.display.HTML object>"
      ]
     },
     "metadata": {},
     "output_type": "display_data"
    },
    {
     "data": {
      "text/html": [
       "<span style=\"color:cyan\"> |-Trial ID: e1252a0694b77907ab346fe2f5b2640c</span>"
      ],
      "text/plain": [
       "<IPython.core.display.HTML object>"
      ]
     },
     "metadata": {},
     "output_type": "display_data"
    },
    {
     "data": {
      "text/html": [
       "<span style=\"color:cyan\"> |-Score: 0.909634530544281</span>"
      ],
      "text/plain": [
       "<IPython.core.display.HTML object>"
      ]
     },
     "metadata": {},
     "output_type": "display_data"
    },
    {
     "data": {
      "text/html": [
       "<span style=\"color:cyan\"> |-Best step: 0</span>"
      ],
      "text/plain": [
       "<IPython.core.display.HTML object>"
      ]
     },
     "metadata": {},
     "output_type": "display_data"
    },
    {
     "data": {
      "text/html": [
       "<span style=\"color:#7E57C2\"><h2 style=\"font-size:16px\">Hyperparameters:</h2></span>"
      ],
      "text/plain": [
       "<IPython.core.display.HTML object>"
      ]
     },
     "metadata": {},
     "output_type": "display_data"
    },
    {
     "data": {
      "text/html": [
       "<span style=\"color:cyan\"> |-activation_func: tanh</span>"
      ],
      "text/plain": [
       "<IPython.core.display.HTML object>"
      ]
     },
     "metadata": {},
     "output_type": "display_data"
    },
    {
     "data": {
      "text/html": [
       "<span style=\"color:blue\"> |-activation_func_2: relu</span>"
      ],
      "text/plain": [
       "<IPython.core.display.HTML object>"
      ]
     },
     "metadata": {},
     "output_type": "display_data"
    },
    {
     "data": {
      "text/html": [
       "<span style=\"color:cyan\"> |-layers: 4</span>"
      ],
      "text/plain": [
       "<IPython.core.display.HTML object>"
      ]
     },
     "metadata": {},
     "output_type": "display_data"
    },
    {
     "data": {
      "text/html": [
       "<span style=\"color:blue\"> |-learning_rate: 0.0001</span>"
      ],
      "text/plain": [
       "<IPython.core.display.HTML object>"
      ]
     },
     "metadata": {},
     "output_type": "display_data"
    },
    {
     "data": {
      "text/html": [
       "<span style=\"color:cyan\"> |-tuner/bracket: 0</span>"
      ],
      "text/plain": [
       "<IPython.core.display.HTML object>"
      ]
     },
     "metadata": {},
     "output_type": "display_data"
    },
    {
     "data": {
      "text/html": [
       "<span style=\"color:blue\"> |-tuner/epochs: 50</span>"
      ],
      "text/plain": [
       "<IPython.core.display.HTML object>"
      ]
     },
     "metadata": {},
     "output_type": "display_data"
    },
    {
     "data": {
      "text/html": [
       "<span style=\"color:cyan\"> |-tuner/initial_epoch: 0</span>"
      ],
      "text/plain": [
       "<IPython.core.display.HTML object>"
      ]
     },
     "metadata": {},
     "output_type": "display_data"
    },
    {
     "data": {
      "text/html": [
       "<span style=\"color:blue\"> |-tuner/round: 0</span>"
      ],
      "text/plain": [
       "<IPython.core.display.HTML object>"
      ]
     },
     "metadata": {},
     "output_type": "display_data"
    },
    {
     "data": {
      "text/html": [
       "<span style=\"color:cyan\"> |-units: 160</span>"
      ],
      "text/plain": [
       "<IPython.core.display.HTML object>"
      ]
     },
     "metadata": {},
     "output_type": "display_data"
    },
    {
     "name": "stdout",
     "output_type": "stream",
     "text": [
      "Train on 12140 samples, validate on 4515 samples\n",
      "Epoch 1/50\n",
      "12140/12140 [==============================] - ETA: 2:05 - loss: 2.8067 - accuracy: 0.59 - ETA: 6s - loss: 2.0137 - accuracy: 0.8551 - ETA: 3s - loss: 1.8800 - accuracy: 0.86 - ETA: 2s - loss: 1.8682 - accuracy: 0.87 - ETA: 2s - loss: 1.8434 - accuracy: 0.87 - ETA: 1s - loss: 1.7093 - accuracy: 0.88 - ETA: 1s - loss: 1.8398 - accuracy: 0.87 - ETA: 1s - loss: 1.6953 - accuracy: 0.88 - ETA: 0s - loss: 1.7120 - accuracy: 0.88 - ETA: 0s - loss: 1.7220 - accuracy: 0.88 - ETA: 0s - loss: 1.7200 - accuracy: 0.88 - ETA: 0s - loss: 1.7162 - accuracy: 0.88 - ETA: 0s - loss: 1.6978 - accuracy: 0.88 - ETA: 0s - loss: 1.7089 - accuracy: 0.88 - ETA: 0s - loss: 1.6907 - accuracy: 0.88 - ETA: 0s - loss: 1.6848 - accuracy: 0.88 - ETA: 0s - loss: 1.6891 - accuracy: 0.88 - ETA: 0s - loss: 1.6788 - accuracy: 0.88 - 2s 124us/sample - loss: 1.6784 - accuracy: 0.8896 - val_loss: 2.4712 - val_accuracy: 0.8394\n",
      "Epoch 2/50\n",
      "12140/12140 [==============================] - ETA: 1s - loss: 0.9531 - accuracy: 0.93 - ETA: 0s - loss: 1.4811 - accuracy: 0.90 - ETA: 0s - loss: 1.3777 - accuracy: 0.91 - ETA: 0s - loss: 1.5075 - accuracy: 0.90 - ETA: 0s - loss: 1.5729 - accuracy: 0.89 - ETA: 0s - loss: 1.6317 - accuracy: 0.89 - ETA: 0s - loss: 1.6088 - accuracy: 0.89 - ETA: 0s - loss: 1.6276 - accuracy: 0.89 - ETA: 0s - loss: 1.6743 - accuracy: 0.89 - ETA: 0s - loss: 1.6633 - accuracy: 0.89 - ETA: 0s - loss: 1.6832 - accuracy: 0.89 - ETA: 0s - loss: 1.6620 - accuracy: 0.89 - ETA: 0s - loss: 1.6829 - accuracy: 0.89 - ETA: 0s - loss: 1.6674 - accuracy: 0.89 - ETA: 0s - loss: 1.6638 - accuracy: 0.89 - ETA: 0s - loss: 1.6338 - accuracy: 0.89 - 1s 83us/sample - loss: 1.6113 - accuracy: 0.8950 - val_loss: 3.0628 - val_accuracy: 0.8011\n"
     ]
    },
    {
     "data": {
      "text/html": [
       "<span style=\"color:#4527A0\"><h1 style=\"font-size:18px\">Trial complete</h1></span>"
      ],
      "text/plain": [
       "<IPython.core.display.HTML object>"
      ]
     },
     "metadata": {},
     "output_type": "display_data"
    },
    {
     "data": {
      "text/html": [
       "<span style=\"color:#4527A0\"><h1 style=\"font-size:18px\">Trial summary</h1></span>"
      ],
      "text/plain": [
       "<IPython.core.display.HTML object>"
      ]
     },
     "metadata": {},
     "output_type": "display_data"
    },
    {
     "data": {
      "text/html": [
       "<span style=\"color:cyan\"> |-Trial ID: 7f8d78b9e78a57a34c2d74fea79259c2</span>"
      ],
      "text/plain": [
       "<IPython.core.display.HTML object>"
      ]
     },
     "metadata": {},
     "output_type": "display_data"
    },
    {
     "data": {
      "text/html": [
       "<span style=\"color:cyan\"> |-Score: 0.8394241333007812</span>"
      ],
      "text/plain": [
       "<IPython.core.display.HTML object>"
      ]
     },
     "metadata": {},
     "output_type": "display_data"
    },
    {
     "data": {
      "text/html": [
       "<span style=\"color:cyan\"> |-Best step: 0</span>"
      ],
      "text/plain": [
       "<IPython.core.display.HTML object>"
      ]
     },
     "metadata": {},
     "output_type": "display_data"
    },
    {
     "data": {
      "text/html": [
       "<span style=\"color:#7E57C2\"><h2 style=\"font-size:16px\">Hyperparameters:</h2></span>"
      ],
      "text/plain": [
       "<IPython.core.display.HTML object>"
      ]
     },
     "metadata": {},
     "output_type": "display_data"
    },
    {
     "data": {
      "text/html": [
       "<span style=\"color:cyan\"> |-activation_func: tanh</span>"
      ],
      "text/plain": [
       "<IPython.core.display.HTML object>"
      ]
     },
     "metadata": {},
     "output_type": "display_data"
    },
    {
     "data": {
      "text/html": [
       "<span style=\"color:blue\"> |-activation_func_2: relu</span>"
      ],
      "text/plain": [
       "<IPython.core.display.HTML object>"
      ]
     },
     "metadata": {},
     "output_type": "display_data"
    },
    {
     "data": {
      "text/html": [
       "<span style=\"color:cyan\"> |-layers: 3</span>"
      ],
      "text/plain": [
       "<IPython.core.display.HTML object>"
      ]
     },
     "metadata": {},
     "output_type": "display_data"
    },
    {
     "data": {
      "text/html": [
       "<span style=\"color:blue\"> |-learning_rate: 0.01</span>"
      ],
      "text/plain": [
       "<IPython.core.display.HTML object>"
      ]
     },
     "metadata": {},
     "output_type": "display_data"
    },
    {
     "data": {
      "text/html": [
       "<span style=\"color:cyan\"> |-tuner/bracket: 0</span>"
      ],
      "text/plain": [
       "<IPython.core.display.HTML object>"
      ]
     },
     "metadata": {},
     "output_type": "display_data"
    },
    {
     "data": {
      "text/html": [
       "<span style=\"color:blue\"> |-tuner/epochs: 50</span>"
      ],
      "text/plain": [
       "<IPython.core.display.HTML object>"
      ]
     },
     "metadata": {},
     "output_type": "display_data"
    },
    {
     "data": {
      "text/html": [
       "<span style=\"color:cyan\"> |-tuner/initial_epoch: 0</span>"
      ],
      "text/plain": [
       "<IPython.core.display.HTML object>"
      ]
     },
     "metadata": {},
     "output_type": "display_data"
    },
    {
     "data": {
      "text/html": [
       "<span style=\"color:blue\"> |-tuner/round: 0</span>"
      ],
      "text/plain": [
       "<IPython.core.display.HTML object>"
      ]
     },
     "metadata": {},
     "output_type": "display_data"
    },
    {
     "data": {
      "text/html": [
       "<span style=\"color:cyan\"> |-units: 176</span>"
      ],
      "text/plain": [
       "<IPython.core.display.HTML object>"
      ]
     },
     "metadata": {},
     "output_type": "display_data"
    },
    {
     "name": "stdout",
     "output_type": "stream",
     "text": [
      "Train on 12140 samples, validate on 4515 samples\n",
      "Epoch 1/50\n",
      "12140/12140 [==============================] - ETA: 1:45 - loss: 7.7388 - accuracy: 0.50 - ETA: 3s - loss: 8.3509 - accuracy: 0.4587 - ETA: 2s - loss: 8.4199 - accuracy: 0.45 - ETA: 1s - loss: 8.3086 - accuracy: 0.46 - ETA: 1s - loss: 8.2596 - accuracy: 0.46 - ETA: 0s - loss: 8.3522 - accuracy: 0.45 - ETA: 0s - loss: 8.3643 - accuracy: 0.45 - ETA: 0s - loss: 8.3838 - accuracy: 0.45 - ETA: 0s - loss: 8.3298 - accuracy: 0.46 - ETA: 0s - loss: 8.3200 - accuracy: 0.46 - ETA: 0s - loss: 8.3494 - accuracy: 0.45 - ETA: 0s - loss: 8.3460 - accuracy: 0.45 - ETA: 0s - loss: 8.3539 - accuracy: 0.45 - 1s 98us/sample - loss: 8.3631 - accuracy: 0.4578 - val_loss: 9.3370 - val_accuracy: 0.3947\n",
      "Epoch 2/50\n",
      "12140/12140 [==============================] - ETA: 1s - loss: 6.2664 - accuracy: 0.59 - ETA: 0s - loss: 8.4355 - accuracy: 0.45 - ETA: 0s - loss: 8.2989 - accuracy: 0.46 - ETA: 0s - loss: 8.3659 - accuracy: 0.45 - ETA: 0s - loss: 8.3833 - accuracy: 0.45 - ETA: 0s - loss: 8.5062 - accuracy: 0.44 - ETA: 0s - loss: 8.4489 - accuracy: 0.45 - ETA: 0s - loss: 8.4539 - accuracy: 0.45 - ETA: 0s - loss: 8.3953 - accuracy: 0.45 - ETA: 0s - loss: 8.3463 - accuracy: 0.45 - ETA: 0s - loss: 8.3654 - accuracy: 0.45 - ETA: 0s - loss: 8.3557 - accuracy: 0.45 - ETA: 0s - loss: 8.3825 - accuracy: 0.45 - 1s 68us/sample - loss: 8.3630 - accuracy: 0.4578 - val_loss: 9.3370 - val_accuracy: 0.3947\n"
     ]
    },
    {
     "data": {
      "text/html": [
       "<span style=\"color:#4527A0\"><h1 style=\"font-size:18px\">Trial complete</h1></span>"
      ],
      "text/plain": [
       "<IPython.core.display.HTML object>"
      ]
     },
     "metadata": {},
     "output_type": "display_data"
    },
    {
     "data": {
      "text/html": [
       "<span style=\"color:#4527A0\"><h1 style=\"font-size:18px\">Trial summary</h1></span>"
      ],
      "text/plain": [
       "<IPython.core.display.HTML object>"
      ]
     },
     "metadata": {},
     "output_type": "display_data"
    },
    {
     "data": {
      "text/html": [
       "<span style=\"color:cyan\"> |-Trial ID: ef4b8e6aae050d415e98536944732d24</span>"
      ],
      "text/plain": [
       "<IPython.core.display.HTML object>"
      ]
     },
     "metadata": {},
     "output_type": "display_data"
    },
    {
     "data": {
      "text/html": [
       "<span style=\"color:cyan\"> |-Score: 0.394684374332428</span>"
      ],
      "text/plain": [
       "<IPython.core.display.HTML object>"
      ]
     },
     "metadata": {},
     "output_type": "display_data"
    },
    {
     "data": {
      "text/html": [
       "<span style=\"color:cyan\"> |-Best step: 0</span>"
      ],
      "text/plain": [
       "<IPython.core.display.HTML object>"
      ]
     },
     "metadata": {},
     "output_type": "display_data"
    },
    {
     "data": {
      "text/html": [
       "<span style=\"color:#7E57C2\"><h2 style=\"font-size:16px\">Hyperparameters:</h2></span>"
      ],
      "text/plain": [
       "<IPython.core.display.HTML object>"
      ]
     },
     "metadata": {},
     "output_type": "display_data"
    },
    {
     "data": {
      "text/html": [
       "<span style=\"color:cyan\"> |-activation_func: relu</span>"
      ],
      "text/plain": [
       "<IPython.core.display.HTML object>"
      ]
     },
     "metadata": {},
     "output_type": "display_data"
    },
    {
     "data": {
      "text/html": [
       "<span style=\"color:blue\"> |-activation_func_2: swish</span>"
      ],
      "text/plain": [
       "<IPython.core.display.HTML object>"
      ]
     },
     "metadata": {},
     "output_type": "display_data"
    },
    {
     "data": {
      "text/html": [
       "<span style=\"color:cyan\"> |-layers: 1</span>"
      ],
      "text/plain": [
       "<IPython.core.display.HTML object>"
      ]
     },
     "metadata": {},
     "output_type": "display_data"
    },
    {
     "data": {
      "text/html": [
       "<span style=\"color:blue\"> |-learning_rate: 0.01</span>"
      ],
      "text/plain": [
       "<IPython.core.display.HTML object>"
      ]
     },
     "metadata": {},
     "output_type": "display_data"
    },
    {
     "data": {
      "text/html": [
       "<span style=\"color:cyan\"> |-tuner/bracket: 0</span>"
      ],
      "text/plain": [
       "<IPython.core.display.HTML object>"
      ]
     },
     "metadata": {},
     "output_type": "display_data"
    },
    {
     "data": {
      "text/html": [
       "<span style=\"color:blue\"> |-tuner/epochs: 50</span>"
      ],
      "text/plain": [
       "<IPython.core.display.HTML object>"
      ]
     },
     "metadata": {},
     "output_type": "display_data"
    },
    {
     "data": {
      "text/html": [
       "<span style=\"color:cyan\"> |-tuner/initial_epoch: 0</span>"
      ],
      "text/plain": [
       "<IPython.core.display.HTML object>"
      ]
     },
     "metadata": {},
     "output_type": "display_data"
    },
    {
     "data": {
      "text/html": [
       "<span style=\"color:blue\"> |-tuner/round: 0</span>"
      ],
      "text/plain": [
       "<IPython.core.display.HTML object>"
      ]
     },
     "metadata": {},
     "output_type": "display_data"
    },
    {
     "data": {
      "text/html": [
       "<span style=\"color:cyan\"> |-units: 80</span>"
      ],
      "text/plain": [
       "<IPython.core.display.HTML object>"
      ]
     },
     "metadata": {},
     "output_type": "display_data"
    },
    {
     "name": "stdout",
     "output_type": "stream",
     "text": [
      "Train on 12140 samples, validate on 4515 samples\n",
      "Epoch 1/50\n",
      "12140/12140 [==============================] - ETA: 2:16 - loss: 6.7506 - accuracy: 0.56 - ETA: 6s - loss: 8.3754 - accuracy: 0.4570 - ETA: 3s - loss: 8.6372 - accuracy: 0.44 - ETA: 2s - loss: 8.5007 - accuracy: 0.44 - ETA: 1s - loss: 8.4060 - accuracy: 0.45 - ETA: 1s - loss: 8.4781 - accuracy: 0.45 - ETA: 1s - loss: 8.3908 - accuracy: 0.45 - ETA: 0s - loss: 8.3679 - accuracy: 0.45 - ETA: 0s - loss: 8.3612 - accuracy: 0.45 - ETA: 0s - loss: 8.3982 - accuracy: 0.45 - ETA: 0s - loss: 8.3667 - accuracy: 0.45 - ETA: 0s - loss: 8.3840 - accuracy: 0.45 - ETA: 0s - loss: 8.3883 - accuracy: 0.45 - ETA: 0s - loss: 8.3755 - accuracy: 0.45 - ETA: 0s - loss: 8.3537 - accuracy: 0.45 - ETA: 0s - loss: 8.3417 - accuracy: 0.45 - 2s 124us/sample - loss: 8.3630 - accuracy: 0.4578 - val_loss: 9.3370 - val_accuracy: 0.3947\n",
      "Epoch 2/50\n",
      "12140/12140 [==============================] - ETA: 1s - loss: 10.1226 - accuracy: 0.343 - ETA: 0s - loss: 8.3552 - accuracy: 0.458 - ETA: 0s - loss: 8.3050 - accuracy: 0.46 - ETA: 0s - loss: 8.3619 - accuracy: 0.45 - ETA: 0s - loss: 8.4004 - accuracy: 0.45 - ETA: 0s - loss: 8.3953 - accuracy: 0.45 - ETA: 0s - loss: 8.4139 - accuracy: 0.45 - ETA: 0s - loss: 8.4198 - accuracy: 0.45 - ETA: 0s - loss: 8.3809 - accuracy: 0.45 - ETA: 0s - loss: 8.4090 - accuracy: 0.45 - ETA: 0s - loss: 8.4187 - accuracy: 0.45 - ETA: 0s - loss: 8.3696 - accuracy: 0.45 - ETA: 0s - loss: 8.3767 - accuracy: 0.45 - ETA: 0s - loss: 8.3613 - accuracy: 0.45 - ETA: 0s - loss: 8.3828 - accuracy: 0.45 - ETA: 0s - loss: 8.3654 - accuracy: 0.45 - 1s 82us/sample - loss: 8.3630 - accuracy: 0.4578 - val_loss: 9.3370 - val_accuracy: 0.3947\n"
     ]
    },
    {
     "data": {
      "text/html": [
       "<span style=\"color:#4527A0\"><h1 style=\"font-size:18px\">Trial complete</h1></span>"
      ],
      "text/plain": [
       "<IPython.core.display.HTML object>"
      ]
     },
     "metadata": {},
     "output_type": "display_data"
    },
    {
     "data": {
      "text/html": [
       "<span style=\"color:#4527A0\"><h1 style=\"font-size:18px\">Trial summary</h1></span>"
      ],
      "text/plain": [
       "<IPython.core.display.HTML object>"
      ]
     },
     "metadata": {},
     "output_type": "display_data"
    },
    {
     "data": {
      "text/html": [
       "<span style=\"color:cyan\"> |-Trial ID: d86cf9b127fec243ca92ec6ae9f678c2</span>"
      ],
      "text/plain": [
       "<IPython.core.display.HTML object>"
      ]
     },
     "metadata": {},
     "output_type": "display_data"
    },
    {
     "data": {
      "text/html": [
       "<span style=\"color:cyan\"> |-Score: 0.394684374332428</span>"
      ],
      "text/plain": [
       "<IPython.core.display.HTML object>"
      ]
     },
     "metadata": {},
     "output_type": "display_data"
    },
    {
     "data": {
      "text/html": [
       "<span style=\"color:cyan\"> |-Best step: 0</span>"
      ],
      "text/plain": [
       "<IPython.core.display.HTML object>"
      ]
     },
     "metadata": {},
     "output_type": "display_data"
    },
    {
     "data": {
      "text/html": [
       "<span style=\"color:#7E57C2\"><h2 style=\"font-size:16px\">Hyperparameters:</h2></span>"
      ],
      "text/plain": [
       "<IPython.core.display.HTML object>"
      ]
     },
     "metadata": {},
     "output_type": "display_data"
    },
    {
     "data": {
      "text/html": [
       "<span style=\"color:cyan\"> |-activation_func: relu</span>"
      ],
      "text/plain": [
       "<IPython.core.display.HTML object>"
      ]
     },
     "metadata": {},
     "output_type": "display_data"
    },
    {
     "data": {
      "text/html": [
       "<span style=\"color:blue\"> |-activation_func_2: tanh</span>"
      ],
      "text/plain": [
       "<IPython.core.display.HTML object>"
      ]
     },
     "metadata": {},
     "output_type": "display_data"
    },
    {
     "data": {
      "text/html": [
       "<span style=\"color:cyan\"> |-layers: 5</span>"
      ],
      "text/plain": [
       "<IPython.core.display.HTML object>"
      ]
     },
     "metadata": {},
     "output_type": "display_data"
    },
    {
     "data": {
      "text/html": [
       "<span style=\"color:blue\"> |-learning_rate: 0.01</span>"
      ],
      "text/plain": [
       "<IPython.core.display.HTML object>"
      ]
     },
     "metadata": {},
     "output_type": "display_data"
    },
    {
     "data": {
      "text/html": [
       "<span style=\"color:cyan\"> |-tuner/bracket: 0</span>"
      ],
      "text/plain": [
       "<IPython.core.display.HTML object>"
      ]
     },
     "metadata": {},
     "output_type": "display_data"
    },
    {
     "data": {
      "text/html": [
       "<span style=\"color:blue\"> |-tuner/epochs: 50</span>"
      ],
      "text/plain": [
       "<IPython.core.display.HTML object>"
      ]
     },
     "metadata": {},
     "output_type": "display_data"
    },
    {
     "data": {
      "text/html": [
       "<span style=\"color:cyan\"> |-tuner/initial_epoch: 0</span>"
      ],
      "text/plain": [
       "<IPython.core.display.HTML object>"
      ]
     },
     "metadata": {},
     "output_type": "display_data"
    },
    {
     "data": {
      "text/html": [
       "<span style=\"color:blue\"> |-tuner/round: 0</span>"
      ],
      "text/plain": [
       "<IPython.core.display.HTML object>"
      ]
     },
     "metadata": {},
     "output_type": "display_data"
    },
    {
     "data": {
      "text/html": [
       "<span style=\"color:cyan\"> |-units: 128</span>"
      ],
      "text/plain": [
       "<IPython.core.display.HTML object>"
      ]
     },
     "metadata": {},
     "output_type": "display_data"
    },
    {
     "name": "stdout",
     "output_type": "stream",
     "text": [
      "INFO:tensorflow:Oracle triggered exit\n",
      "Fin tuneo\n"
     ]
    },
    {
     "data": {
      "text/html": [
       "<span style=\"color:#4527A0\"><h1 style=\"font-size:18px\">Results summary</h1></span>"
      ],
      "text/plain": [
       "<IPython.core.display.HTML object>"
      ]
     },
     "metadata": {},
     "output_type": "display_data"
    },
    {
     "data": {
      "text/html": [
       "<span style=\"color:cyan\"> |-Results in my_dir\\intro_to_kt</span>"
      ],
      "text/plain": [
       "<IPython.core.display.HTML object>"
      ]
     },
     "metadata": {},
     "output_type": "display_data"
    },
    {
     "data": {
      "text/html": [
       "<span style=\"color:cyan\"> |-Showing 10 best trials</span>"
      ],
      "text/plain": [
       "<IPython.core.display.HTML object>"
      ]
     },
     "metadata": {},
     "output_type": "display_data"
    },
    {
     "data": {
      "text/html": [
       "<span style=\"color:cyan\"> |-Objective(name='val_accuracy', direction='max')</span>"
      ],
      "text/plain": [
       "<IPython.core.display.HTML object>"
      ]
     },
     "metadata": {},
     "output_type": "display_data"
    },
    {
     "data": {
      "text/html": [
       "<span style=\"color:#4527A0\"><h1 style=\"font-size:18px\">Trial summary</h1></span>"
      ],
      "text/plain": [
       "<IPython.core.display.HTML object>"
      ]
     },
     "metadata": {},
     "output_type": "display_data"
    },
    {
     "data": {
      "text/html": [
       "<span style=\"color:cyan\"> |-Trial ID: 37319fd8f1b8967de2e8552858330d58</span>"
      ],
      "text/plain": [
       "<IPython.core.display.HTML object>"
      ]
     },
     "metadata": {},
     "output_type": "display_data"
    },
    {
     "data": {
      "text/html": [
       "<span style=\"color:cyan\"> |-Score: 0.948394238948822</span>"
      ],
      "text/plain": [
       "<IPython.core.display.HTML object>"
      ]
     },
     "metadata": {},
     "output_type": "display_data"
    },
    {
     "data": {
      "text/html": [
       "<span style=\"color:cyan\"> |-Best step: 0</span>"
      ],
      "text/plain": [
       "<IPython.core.display.HTML object>"
      ]
     },
     "metadata": {},
     "output_type": "display_data"
    },
    {
     "data": {
      "text/html": [
       "<span style=\"color:#7E57C2\"><h2 style=\"font-size:16px\">Hyperparameters:</h2></span>"
      ],
      "text/plain": [
       "<IPython.core.display.HTML object>"
      ]
     },
     "metadata": {},
     "output_type": "display_data"
    },
    {
     "data": {
      "text/html": [
       "<span style=\"color:cyan\"> |-activation_func: relu</span>"
      ],
      "text/plain": [
       "<IPython.core.display.HTML object>"
      ]
     },
     "metadata": {},
     "output_type": "display_data"
    },
    {
     "data": {
      "text/html": [
       "<span style=\"color:blue\"> |-activation_func_2: relu</span>"
      ],
      "text/plain": [
       "<IPython.core.display.HTML object>"
      ]
     },
     "metadata": {},
     "output_type": "display_data"
    },
    {
     "data": {
      "text/html": [
       "<span style=\"color:cyan\"> |-layers: 2</span>"
      ],
      "text/plain": [
       "<IPython.core.display.HTML object>"
      ]
     },
     "metadata": {},
     "output_type": "display_data"
    },
    {
     "data": {
      "text/html": [
       "<span style=\"color:blue\"> |-learning_rate: 0.01</span>"
      ],
      "text/plain": [
       "<IPython.core.display.HTML object>"
      ]
     },
     "metadata": {},
     "output_type": "display_data"
    },
    {
     "data": {
      "text/html": [
       "<span style=\"color:cyan\"> |-tuner/bracket: 3</span>"
      ],
      "text/plain": [
       "<IPython.core.display.HTML object>"
      ]
     },
     "metadata": {},
     "output_type": "display_data"
    },
    {
     "data": {
      "text/html": [
       "<span style=\"color:blue\"> |-tuner/epochs: 17</span>"
      ],
      "text/plain": [
       "<IPython.core.display.HTML object>"
      ]
     },
     "metadata": {},
     "output_type": "display_data"
    },
    {
     "data": {
      "text/html": [
       "<span style=\"color:cyan\"> |-tuner/initial_epoch: 6</span>"
      ],
      "text/plain": [
       "<IPython.core.display.HTML object>"
      ]
     },
     "metadata": {},
     "output_type": "display_data"
    },
    {
     "data": {
      "text/html": [
       "<span style=\"color:blue\"> |-tuner/round: 2</span>"
      ],
      "text/plain": [
       "<IPython.core.display.HTML object>"
      ]
     },
     "metadata": {},
     "output_type": "display_data"
    },
    {
     "data": {
      "text/html": [
       "<span style=\"color:cyan\"> |-tuner/trial_id: f5adaeb414b552e881babb9d8b075922</span>"
      ],
      "text/plain": [
       "<IPython.core.display.HTML object>"
      ]
     },
     "metadata": {},
     "output_type": "display_data"
    },
    {
     "data": {
      "text/html": [
       "<span style=\"color:blue\"> |-units: 64</span>"
      ],
      "text/plain": [
       "<IPython.core.display.HTML object>"
      ]
     },
     "metadata": {},
     "output_type": "display_data"
    },
    {
     "data": {
      "text/html": [
       "<span style=\"color:#4527A0\"><h1 style=\"font-size:18px\">Trial summary</h1></span>"
      ],
      "text/plain": [
       "<IPython.core.display.HTML object>"
      ]
     },
     "metadata": {},
     "output_type": "display_data"
    },
    {
     "data": {
      "text/html": [
       "<span style=\"color:cyan\"> |-Trial ID: db73fbcae9325fd02be8a5745e234fbf</span>"
      ],
      "text/plain": [
       "<IPython.core.display.HTML object>"
      ]
     },
     "metadata": {},
     "output_type": "display_data"
    },
    {
     "data": {
      "text/html": [
       "<span style=\"color:cyan\"> |-Score: 0.948394238948822</span>"
      ],
      "text/plain": [
       "<IPython.core.display.HTML object>"
      ]
     },
     "metadata": {},
     "output_type": "display_data"
    },
    {
     "data": {
      "text/html": [
       "<span style=\"color:cyan\"> |-Best step: 0</span>"
      ],
      "text/plain": [
       "<IPython.core.display.HTML object>"
      ]
     },
     "metadata": {},
     "output_type": "display_data"
    },
    {
     "data": {
      "text/html": [
       "<span style=\"color:#7E57C2\"><h2 style=\"font-size:16px\">Hyperparameters:</h2></span>"
      ],
      "text/plain": [
       "<IPython.core.display.HTML object>"
      ]
     },
     "metadata": {},
     "output_type": "display_data"
    },
    {
     "data": {
      "text/html": [
       "<span style=\"color:cyan\"> |-activation_func: tanh</span>"
      ],
      "text/plain": [
       "<IPython.core.display.HTML object>"
      ]
     },
     "metadata": {},
     "output_type": "display_data"
    },
    {
     "data": {
      "text/html": [
       "<span style=\"color:blue\"> |-activation_func_2: tanh</span>"
      ],
      "text/plain": [
       "<IPython.core.display.HTML object>"
      ]
     },
     "metadata": {},
     "output_type": "display_data"
    },
    {
     "data": {
      "text/html": [
       "<span style=\"color:cyan\"> |-layers: 3</span>"
      ],
      "text/plain": [
       "<IPython.core.display.HTML object>"
      ]
     },
     "metadata": {},
     "output_type": "display_data"
    },
    {
     "data": {
      "text/html": [
       "<span style=\"color:blue\"> |-learning_rate: 0.01</span>"
      ],
      "text/plain": [
       "<IPython.core.display.HTML object>"
      ]
     },
     "metadata": {},
     "output_type": "display_data"
    },
    {
     "data": {
      "text/html": [
       "<span style=\"color:cyan\"> |-tuner/bracket: 1</span>"
      ],
      "text/plain": [
       "<IPython.core.display.HTML object>"
      ]
     },
     "metadata": {},
     "output_type": "display_data"
    },
    {
     "data": {
      "text/html": [
       "<span style=\"color:blue\"> |-tuner/epochs: 17</span>"
      ],
      "text/plain": [
       "<IPython.core.display.HTML object>"
      ]
     },
     "metadata": {},
     "output_type": "display_data"
    },
    {
     "data": {
      "text/html": [
       "<span style=\"color:cyan\"> |-tuner/initial_epoch: 0</span>"
      ],
      "text/plain": [
       "<IPython.core.display.HTML object>"
      ]
     },
     "metadata": {},
     "output_type": "display_data"
    },
    {
     "data": {
      "text/html": [
       "<span style=\"color:blue\"> |-tuner/round: 0</span>"
      ],
      "text/plain": [
       "<IPython.core.display.HTML object>"
      ]
     },
     "metadata": {},
     "output_type": "display_data"
    },
    {
     "data": {
      "text/html": [
       "<span style=\"color:cyan\"> |-units: 112</span>"
      ],
      "text/plain": [
       "<IPython.core.display.HTML object>"
      ]
     },
     "metadata": {},
     "output_type": "display_data"
    },
    {
     "data": {
      "text/html": [
       "<span style=\"color:#4527A0\"><h1 style=\"font-size:18px\">Trial summary</h1></span>"
      ],
      "text/plain": [
       "<IPython.core.display.HTML object>"
      ]
     },
     "metadata": {},
     "output_type": "display_data"
    },
    {
     "data": {
      "text/html": [
       "<span style=\"color:cyan\"> |-Trial ID: f5adaeb414b552e881babb9d8b075922</span>"
      ],
      "text/plain": [
       "<IPython.core.display.HTML object>"
      ]
     },
     "metadata": {},
     "output_type": "display_data"
    },
    {
     "data": {
      "text/html": [
       "<span style=\"color:cyan\"> |-Score: 0.9481727480888367</span>"
      ],
      "text/plain": [
       "<IPython.core.display.HTML object>"
      ]
     },
     "metadata": {},
     "output_type": "display_data"
    },
    {
     "data": {
      "text/html": [
       "<span style=\"color:cyan\"> |-Best step: 0</span>"
      ],
      "text/plain": [
       "<IPython.core.display.HTML object>"
      ]
     },
     "metadata": {},
     "output_type": "display_data"
    },
    {
     "data": {
      "text/html": [
       "<span style=\"color:#7E57C2\"><h2 style=\"font-size:16px\">Hyperparameters:</h2></span>"
      ],
      "text/plain": [
       "<IPython.core.display.HTML object>"
      ]
     },
     "metadata": {},
     "output_type": "display_data"
    },
    {
     "data": {
      "text/html": [
       "<span style=\"color:cyan\"> |-activation_func: relu</span>"
      ],
      "text/plain": [
       "<IPython.core.display.HTML object>"
      ]
     },
     "metadata": {},
     "output_type": "display_data"
    },
    {
     "data": {
      "text/html": [
       "<span style=\"color:blue\"> |-activation_func_2: relu</span>"
      ],
      "text/plain": [
       "<IPython.core.display.HTML object>"
      ]
     },
     "metadata": {},
     "output_type": "display_data"
    },
    {
     "data": {
      "text/html": [
       "<span style=\"color:cyan\"> |-layers: 2</span>"
      ],
      "text/plain": [
       "<IPython.core.display.HTML object>"
      ]
     },
     "metadata": {},
     "output_type": "display_data"
    },
    {
     "data": {
      "text/html": [
       "<span style=\"color:blue\"> |-learning_rate: 0.01</span>"
      ],
      "text/plain": [
       "<IPython.core.display.HTML object>"
      ]
     },
     "metadata": {},
     "output_type": "display_data"
    },
    {
     "data": {
      "text/html": [
       "<span style=\"color:cyan\"> |-tuner/bracket: 3</span>"
      ],
      "text/plain": [
       "<IPython.core.display.HTML object>"
      ]
     },
     "metadata": {},
     "output_type": "display_data"
    },
    {
     "data": {
      "text/html": [
       "<span style=\"color:blue\"> |-tuner/epochs: 6</span>"
      ],
      "text/plain": [
       "<IPython.core.display.HTML object>"
      ]
     },
     "metadata": {},
     "output_type": "display_data"
    },
    {
     "data": {
      "text/html": [
       "<span style=\"color:cyan\"> |-tuner/initial_epoch: 2</span>"
      ],
      "text/plain": [
       "<IPython.core.display.HTML object>"
      ]
     },
     "metadata": {},
     "output_type": "display_data"
    },
    {
     "data": {
      "text/html": [
       "<span style=\"color:blue\"> |-tuner/round: 1</span>"
      ],
      "text/plain": [
       "<IPython.core.display.HTML object>"
      ]
     },
     "metadata": {},
     "output_type": "display_data"
    },
    {
     "data": {
      "text/html": [
       "<span style=\"color:cyan\"> |-tuner/trial_id: af861db8a762ef1625311f5055b006f0</span>"
      ],
      "text/plain": [
       "<IPython.core.display.HTML object>"
      ]
     },
     "metadata": {},
     "output_type": "display_data"
    },
    {
     "data": {
      "text/html": [
       "<span style=\"color:blue\"> |-units: 64</span>"
      ],
      "text/plain": [
       "<IPython.core.display.HTML object>"
      ]
     },
     "metadata": {},
     "output_type": "display_data"
    },
    {
     "data": {
      "text/html": [
       "<span style=\"color:#4527A0\"><h1 style=\"font-size:18px\">Trial summary</h1></span>"
      ],
      "text/plain": [
       "<IPython.core.display.HTML object>"
      ]
     },
     "metadata": {},
     "output_type": "display_data"
    },
    {
     "data": {
      "text/html": [
       "<span style=\"color:cyan\"> |-Trial ID: d887b6387433399da039614d3e600fe8</span>"
      ],
      "text/plain": [
       "<IPython.core.display.HTML object>"
      ]
     },
     "metadata": {},
     "output_type": "display_data"
    },
    {
     "data": {
      "text/html": [
       "<span style=\"color:cyan\"> |-Score: 0.9479512572288513</span>"
      ],
      "text/plain": [
       "<IPython.core.display.HTML object>"
      ]
     },
     "metadata": {},
     "output_type": "display_data"
    },
    {
     "data": {
      "text/html": [
       "<span style=\"color:cyan\"> |-Best step: 0</span>"
      ],
      "text/plain": [
       "<IPython.core.display.HTML object>"
      ]
     },
     "metadata": {},
     "output_type": "display_data"
    },
    {
     "data": {
      "text/html": [
       "<span style=\"color:#7E57C2\"><h2 style=\"font-size:16px\">Hyperparameters:</h2></span>"
      ],
      "text/plain": [
       "<IPython.core.display.HTML object>"
      ]
     },
     "metadata": {},
     "output_type": "display_data"
    },
    {
     "data": {
      "text/html": [
       "<span style=\"color:cyan\"> |-activation_func: relu</span>"
      ],
      "text/plain": [
       "<IPython.core.display.HTML object>"
      ]
     },
     "metadata": {},
     "output_type": "display_data"
    },
    {
     "data": {
      "text/html": [
       "<span style=\"color:blue\"> |-activation_func_2: swish</span>"
      ],
      "text/plain": [
       "<IPython.core.display.HTML object>"
      ]
     },
     "metadata": {},
     "output_type": "display_data"
    },
    {
     "data": {
      "text/html": [
       "<span style=\"color:cyan\"> |-layers: 1</span>"
      ],
      "text/plain": [
       "<IPython.core.display.HTML object>"
      ]
     },
     "metadata": {},
     "output_type": "display_data"
    },
    {
     "data": {
      "text/html": [
       "<span style=\"color:blue\"> |-learning_rate: 0.01</span>"
      ],
      "text/plain": [
       "<IPython.core.display.HTML object>"
      ]
     },
     "metadata": {},
     "output_type": "display_data"
    },
    {
     "data": {
      "text/html": [
       "<span style=\"color:cyan\"> |-tuner/bracket: 3</span>"
      ],
      "text/plain": [
       "<IPython.core.display.HTML object>"
      ]
     },
     "metadata": {},
     "output_type": "display_data"
    },
    {
     "data": {
      "text/html": [
       "<span style=\"color:blue\"> |-tuner/epochs: 2</span>"
      ],
      "text/plain": [
       "<IPython.core.display.HTML object>"
      ]
     },
     "metadata": {},
     "output_type": "display_data"
    },
    {
     "data": {
      "text/html": [
       "<span style=\"color:cyan\"> |-tuner/initial_epoch: 0</span>"
      ],
      "text/plain": [
       "<IPython.core.display.HTML object>"
      ]
     },
     "metadata": {},
     "output_type": "display_data"
    },
    {
     "data": {
      "text/html": [
       "<span style=\"color:blue\"> |-tuner/round: 0</span>"
      ],
      "text/plain": [
       "<IPython.core.display.HTML object>"
      ]
     },
     "metadata": {},
     "output_type": "display_data"
    },
    {
     "data": {
      "text/html": [
       "<span style=\"color:cyan\"> |-units: 192</span>"
      ],
      "text/plain": [
       "<IPython.core.display.HTML object>"
      ]
     },
     "metadata": {},
     "output_type": "display_data"
    },
    {
     "data": {
      "text/html": [
       "<span style=\"color:#4527A0\"><h1 style=\"font-size:18px\">Trial summary</h1></span>"
      ],
      "text/plain": [
       "<IPython.core.display.HTML object>"
      ]
     },
     "metadata": {},
     "output_type": "display_data"
    },
    {
     "data": {
      "text/html": [
       "<span style=\"color:cyan\"> |-Trial ID: 993e0821cb331c6cebd42b5e1969ce89</span>"
      ],
      "text/plain": [
       "<IPython.core.display.HTML object>"
      ]
     },
     "metadata": {},
     "output_type": "display_data"
    },
    {
     "data": {
      "text/html": [
       "<span style=\"color:cyan\"> |-Score: 0.9475083351135254</span>"
      ],
      "text/plain": [
       "<IPython.core.display.HTML object>"
      ]
     },
     "metadata": {},
     "output_type": "display_data"
    },
    {
     "data": {
      "text/html": [
       "<span style=\"color:cyan\"> |-Best step: 0</span>"
      ],
      "text/plain": [
       "<IPython.core.display.HTML object>"
      ]
     },
     "metadata": {},
     "output_type": "display_data"
    },
    {
     "data": {
      "text/html": [
       "<span style=\"color:#7E57C2\"><h2 style=\"font-size:16px\">Hyperparameters:</h2></span>"
      ],
      "text/plain": [
       "<IPython.core.display.HTML object>"
      ]
     },
     "metadata": {},
     "output_type": "display_data"
    },
    {
     "data": {
      "text/html": [
       "<span style=\"color:cyan\"> |-activation_func: tanh</span>"
      ],
      "text/plain": [
       "<IPython.core.display.HTML object>"
      ]
     },
     "metadata": {},
     "output_type": "display_data"
    },
    {
     "data": {
      "text/html": [
       "<span style=\"color:blue\"> |-activation_func_2: tanh</span>"
      ],
      "text/plain": [
       "<IPython.core.display.HTML object>"
      ]
     },
     "metadata": {},
     "output_type": "display_data"
    },
    {
     "data": {
      "text/html": [
       "<span style=\"color:cyan\"> |-layers: 2</span>"
      ],
      "text/plain": [
       "<IPython.core.display.HTML object>"
      ]
     },
     "metadata": {},
     "output_type": "display_data"
    },
    {
     "data": {
      "text/html": [
       "<span style=\"color:blue\"> |-learning_rate: 0.01</span>"
      ],
      "text/plain": [
       "<IPython.core.display.HTML object>"
      ]
     },
     "metadata": {},
     "output_type": "display_data"
    },
    {
     "data": {
      "text/html": [
       "<span style=\"color:cyan\"> |-tuner/bracket: 2</span>"
      ],
      "text/plain": [
       "<IPython.core.display.HTML object>"
      ]
     },
     "metadata": {},
     "output_type": "display_data"
    },
    {
     "data": {
      "text/html": [
       "<span style=\"color:blue\"> |-tuner/epochs: 6</span>"
      ],
      "text/plain": [
       "<IPython.core.display.HTML object>"
      ]
     },
     "metadata": {},
     "output_type": "display_data"
    },
    {
     "data": {
      "text/html": [
       "<span style=\"color:cyan\"> |-tuner/initial_epoch: 0</span>"
      ],
      "text/plain": [
       "<IPython.core.display.HTML object>"
      ]
     },
     "metadata": {},
     "output_type": "display_data"
    },
    {
     "data": {
      "text/html": [
       "<span style=\"color:blue\"> |-tuner/round: 0</span>"
      ],
      "text/plain": [
       "<IPython.core.display.HTML object>"
      ]
     },
     "metadata": {},
     "output_type": "display_data"
    },
    {
     "data": {
      "text/html": [
       "<span style=\"color:cyan\"> |-units: 224</span>"
      ],
      "text/plain": [
       "<IPython.core.display.HTML object>"
      ]
     },
     "metadata": {},
     "output_type": "display_data"
    },
    {
     "data": {
      "text/html": [
       "<span style=\"color:#4527A0\"><h1 style=\"font-size:18px\">Trial summary</h1></span>"
      ],
      "text/plain": [
       "<IPython.core.display.HTML object>"
      ]
     },
     "metadata": {},
     "output_type": "display_data"
    },
    {
     "data": {
      "text/html": [
       "<span style=\"color:cyan\"> |-Trial ID: eb3d009147ad1955a1b02e853007837a</span>"
      ],
      "text/plain": [
       "<IPython.core.display.HTML object>"
      ]
     },
     "metadata": {},
     "output_type": "display_data"
    },
    {
     "data": {
      "text/html": [
       "<span style=\"color:cyan\"> |-Score: 0.9475083351135254</span>"
      ],
      "text/plain": [
       "<IPython.core.display.HTML object>"
      ]
     },
     "metadata": {},
     "output_type": "display_data"
    },
    {
     "data": {
      "text/html": [
       "<span style=\"color:cyan\"> |-Best step: 0</span>"
      ],
      "text/plain": [
       "<IPython.core.display.HTML object>"
      ]
     },
     "metadata": {},
     "output_type": "display_data"
    },
    {
     "data": {
      "text/html": [
       "<span style=\"color:#7E57C2\"><h2 style=\"font-size:16px\">Hyperparameters:</h2></span>"
      ],
      "text/plain": [
       "<IPython.core.display.HTML object>"
      ]
     },
     "metadata": {},
     "output_type": "display_data"
    },
    {
     "data": {
      "text/html": [
       "<span style=\"color:cyan\"> |-activation_func: relu</span>"
      ],
      "text/plain": [
       "<IPython.core.display.HTML object>"
      ]
     },
     "metadata": {},
     "output_type": "display_data"
    },
    {
     "data": {
      "text/html": [
       "<span style=\"color:blue\"> |-activation_func_2: swish</span>"
      ],
      "text/plain": [
       "<IPython.core.display.HTML object>"
      ]
     },
     "metadata": {},
     "output_type": "display_data"
    },
    {
     "data": {
      "text/html": [
       "<span style=\"color:cyan\"> |-layers: 5</span>"
      ],
      "text/plain": [
       "<IPython.core.display.HTML object>"
      ]
     },
     "metadata": {},
     "output_type": "display_data"
    },
    {
     "data": {
      "text/html": [
       "<span style=\"color:blue\"> |-learning_rate: 0.001</span>"
      ],
      "text/plain": [
       "<IPython.core.display.HTML object>"
      ]
     },
     "metadata": {},
     "output_type": "display_data"
    },
    {
     "data": {
      "text/html": [
       "<span style=\"color:cyan\"> |-tuner/bracket: 2</span>"
      ],
      "text/plain": [
       "<IPython.core.display.HTML object>"
      ]
     },
     "metadata": {},
     "output_type": "display_data"
    },
    {
     "data": {
      "text/html": [
       "<span style=\"color:blue\"> |-tuner/epochs: 6</span>"
      ],
      "text/plain": [
       "<IPython.core.display.HTML object>"
      ]
     },
     "metadata": {},
     "output_type": "display_data"
    },
    {
     "data": {
      "text/html": [
       "<span style=\"color:cyan\"> |-tuner/initial_epoch: 0</span>"
      ],
      "text/plain": [
       "<IPython.core.display.HTML object>"
      ]
     },
     "metadata": {},
     "output_type": "display_data"
    },
    {
     "data": {
      "text/html": [
       "<span style=\"color:blue\"> |-tuner/round: 0</span>"
      ],
      "text/plain": [
       "<IPython.core.display.HTML object>"
      ]
     },
     "metadata": {},
     "output_type": "display_data"
    },
    {
     "data": {
      "text/html": [
       "<span style=\"color:cyan\"> |-units: 160</span>"
      ],
      "text/plain": [
       "<IPython.core.display.HTML object>"
      ]
     },
     "metadata": {},
     "output_type": "display_data"
    },
    {
     "data": {
      "text/html": [
       "<span style=\"color:#4527A0\"><h1 style=\"font-size:18px\">Trial summary</h1></span>"
      ],
      "text/plain": [
       "<IPython.core.display.HTML object>"
      ]
     },
     "metadata": {},
     "output_type": "display_data"
    },
    {
     "data": {
      "text/html": [
       "<span style=\"color:cyan\"> |-Trial ID: f313e9227aa36d701d2aae934378968c</span>"
      ],
      "text/plain": [
       "<IPython.core.display.HTML object>"
      ]
     },
     "metadata": {},
     "output_type": "display_data"
    },
    {
     "data": {
      "text/html": [
       "<span style=\"color:cyan\"> |-Score: 0.9461793899536133</span>"
      ],
      "text/plain": [
       "<IPython.core.display.HTML object>"
      ]
     },
     "metadata": {},
     "output_type": "display_data"
    },
    {
     "data": {
      "text/html": [
       "<span style=\"color:cyan\"> |-Best step: 0</span>"
      ],
      "text/plain": [
       "<IPython.core.display.HTML object>"
      ]
     },
     "metadata": {},
     "output_type": "display_data"
    },
    {
     "data": {
      "text/html": [
       "<span style=\"color:#7E57C2\"><h2 style=\"font-size:16px\">Hyperparameters:</h2></span>"
      ],
      "text/plain": [
       "<IPython.core.display.HTML object>"
      ]
     },
     "metadata": {},
     "output_type": "display_data"
    },
    {
     "data": {
      "text/html": [
       "<span style=\"color:cyan\"> |-activation_func: tanh</span>"
      ],
      "text/plain": [
       "<IPython.core.display.HTML object>"
      ]
     },
     "metadata": {},
     "output_type": "display_data"
    },
    {
     "data": {
      "text/html": [
       "<span style=\"color:blue\"> |-activation_func_2: swish</span>"
      ],
      "text/plain": [
       "<IPython.core.display.HTML object>"
      ]
     },
     "metadata": {},
     "output_type": "display_data"
    },
    {
     "data": {
      "text/html": [
       "<span style=\"color:cyan\"> |-layers: 3</span>"
      ],
      "text/plain": [
       "<IPython.core.display.HTML object>"
      ]
     },
     "metadata": {},
     "output_type": "display_data"
    },
    {
     "data": {
      "text/html": [
       "<span style=\"color:blue\"> |-learning_rate: 0.001</span>"
      ],
      "text/plain": [
       "<IPython.core.display.HTML object>"
      ]
     },
     "metadata": {},
     "output_type": "display_data"
    },
    {
     "data": {
      "text/html": [
       "<span style=\"color:cyan\"> |-tuner/bracket: 3</span>"
      ],
      "text/plain": [
       "<IPython.core.display.HTML object>"
      ]
     },
     "metadata": {},
     "output_type": "display_data"
    },
    {
     "data": {
      "text/html": [
       "<span style=\"color:blue\"> |-tuner/epochs: 2</span>"
      ],
      "text/plain": [
       "<IPython.core.display.HTML object>"
      ]
     },
     "metadata": {},
     "output_type": "display_data"
    },
    {
     "data": {
      "text/html": [
       "<span style=\"color:cyan\"> |-tuner/initial_epoch: 0</span>"
      ],
      "text/plain": [
       "<IPython.core.display.HTML object>"
      ]
     },
     "metadata": {},
     "output_type": "display_data"
    },
    {
     "data": {
      "text/html": [
       "<span style=\"color:blue\"> |-tuner/round: 0</span>"
      ],
      "text/plain": [
       "<IPython.core.display.HTML object>"
      ]
     },
     "metadata": {},
     "output_type": "display_data"
    },
    {
     "data": {
      "text/html": [
       "<span style=\"color:cyan\"> |-units: 208</span>"
      ],
      "text/plain": [
       "<IPython.core.display.HTML object>"
      ]
     },
     "metadata": {},
     "output_type": "display_data"
    },
    {
     "data": {
      "text/html": [
       "<span style=\"color:#4527A0\"><h1 style=\"font-size:18px\">Trial summary</h1></span>"
      ],
      "text/plain": [
       "<IPython.core.display.HTML object>"
      ]
     },
     "metadata": {},
     "output_type": "display_data"
    },
    {
     "data": {
      "text/html": [
       "<span style=\"color:cyan\"> |-Trial ID: 957268fbca29b23002e896cb2d80e9ce</span>"
      ],
      "text/plain": [
       "<IPython.core.display.HTML object>"
      ]
     },
     "metadata": {},
     "output_type": "display_data"
    },
    {
     "data": {
      "text/html": [
       "<span style=\"color:cyan\"> |-Score: 0.9452934861183167</span>"
      ],
      "text/plain": [
       "<IPython.core.display.HTML object>"
      ]
     },
     "metadata": {},
     "output_type": "display_data"
    },
    {
     "data": {
      "text/html": [
       "<span style=\"color:cyan\"> |-Best step: 0</span>"
      ],
      "text/plain": [
       "<IPython.core.display.HTML object>"
      ]
     },
     "metadata": {},
     "output_type": "display_data"
    },
    {
     "data": {
      "text/html": [
       "<span style=\"color:#7E57C2\"><h2 style=\"font-size:16px\">Hyperparameters:</h2></span>"
      ],
      "text/plain": [
       "<IPython.core.display.HTML object>"
      ]
     },
     "metadata": {},
     "output_type": "display_data"
    },
    {
     "data": {
      "text/html": [
       "<span style=\"color:cyan\"> |-activation_func: relu</span>"
      ],
      "text/plain": [
       "<IPython.core.display.HTML object>"
      ]
     },
     "metadata": {},
     "output_type": "display_data"
    },
    {
     "data": {
      "text/html": [
       "<span style=\"color:blue\"> |-activation_func_2: tanh</span>"
      ],
      "text/plain": [
       "<IPython.core.display.HTML object>"
      ]
     },
     "metadata": {},
     "output_type": "display_data"
    },
    {
     "data": {
      "text/html": [
       "<span style=\"color:cyan\"> |-layers: 2</span>"
      ],
      "text/plain": [
       "<IPython.core.display.HTML object>"
      ]
     },
     "metadata": {},
     "output_type": "display_data"
    },
    {
     "data": {
      "text/html": [
       "<span style=\"color:blue\"> |-learning_rate: 0.001</span>"
      ],
      "text/plain": [
       "<IPython.core.display.HTML object>"
      ]
     },
     "metadata": {},
     "output_type": "display_data"
    },
    {
     "data": {
      "text/html": [
       "<span style=\"color:cyan\"> |-tuner/bracket: 2</span>"
      ],
      "text/plain": [
       "<IPython.core.display.HTML object>"
      ]
     },
     "metadata": {},
     "output_type": "display_data"
    },
    {
     "data": {
      "text/html": [
       "<span style=\"color:blue\"> |-tuner/epochs: 6</span>"
      ],
      "text/plain": [
       "<IPython.core.display.HTML object>"
      ]
     },
     "metadata": {},
     "output_type": "display_data"
    },
    {
     "data": {
      "text/html": [
       "<span style=\"color:cyan\"> |-tuner/initial_epoch: 0</span>"
      ],
      "text/plain": [
       "<IPython.core.display.HTML object>"
      ]
     },
     "metadata": {},
     "output_type": "display_data"
    },
    {
     "data": {
      "text/html": [
       "<span style=\"color:blue\"> |-tuner/round: 0</span>"
      ],
      "text/plain": [
       "<IPython.core.display.HTML object>"
      ]
     },
     "metadata": {},
     "output_type": "display_data"
    },
    {
     "data": {
      "text/html": [
       "<span style=\"color:cyan\"> |-units: 224</span>"
      ],
      "text/plain": [
       "<IPython.core.display.HTML object>"
      ]
     },
     "metadata": {},
     "output_type": "display_data"
    },
    {
     "data": {
      "text/html": [
       "<span style=\"color:#4527A0\"><h1 style=\"font-size:18px\">Trial summary</h1></span>"
      ],
      "text/plain": [
       "<IPython.core.display.HTML object>"
      ]
     },
     "metadata": {},
     "output_type": "display_data"
    },
    {
     "data": {
      "text/html": [
       "<span style=\"color:cyan\"> |-Trial ID: 7b09b1f95b692d7c1b30dcf5a7411d26</span>"
      ],
      "text/plain": [
       "<IPython.core.display.HTML object>"
      ]
     },
     "metadata": {},
     "output_type": "display_data"
    },
    {
     "data": {
      "text/html": [
       "<span style=\"color:cyan\"> |-Score: 0.9450719952583313</span>"
      ],
      "text/plain": [
       "<IPython.core.display.HTML object>"
      ]
     },
     "metadata": {},
     "output_type": "display_data"
    },
    {
     "data": {
      "text/html": [
       "<span style=\"color:cyan\"> |-Best step: 0</span>"
      ],
      "text/plain": [
       "<IPython.core.display.HTML object>"
      ]
     },
     "metadata": {},
     "output_type": "display_data"
    },
    {
     "data": {
      "text/html": [
       "<span style=\"color:#7E57C2\"><h2 style=\"font-size:16px\">Hyperparameters:</h2></span>"
      ],
      "text/plain": [
       "<IPython.core.display.HTML object>"
      ]
     },
     "metadata": {},
     "output_type": "display_data"
    },
    {
     "data": {
      "text/html": [
       "<span style=\"color:cyan\"> |-activation_func: relu</span>"
      ],
      "text/plain": [
       "<IPython.core.display.HTML object>"
      ]
     },
     "metadata": {},
     "output_type": "display_data"
    },
    {
     "data": {
      "text/html": [
       "<span style=\"color:blue\"> |-activation_func_2: relu</span>"
      ],
      "text/plain": [
       "<IPython.core.display.HTML object>"
      ]
     },
     "metadata": {},
     "output_type": "display_data"
    },
    {
     "data": {
      "text/html": [
       "<span style=\"color:cyan\"> |-layers: 4</span>"
      ],
      "text/plain": [
       "<IPython.core.display.HTML object>"
      ]
     },
     "metadata": {},
     "output_type": "display_data"
    },
    {
     "data": {
      "text/html": [
       "<span style=\"color:blue\"> |-learning_rate: 0.0001</span>"
      ],
      "text/plain": [
       "<IPython.core.display.HTML object>"
      ]
     },
     "metadata": {},
     "output_type": "display_data"
    },
    {
     "data": {
      "text/html": [
       "<span style=\"color:cyan\"> |-tuner/bracket: 2</span>"
      ],
      "text/plain": [
       "<IPython.core.display.HTML object>"
      ]
     },
     "metadata": {},
     "output_type": "display_data"
    },
    {
     "data": {
      "text/html": [
       "<span style=\"color:blue\"> |-tuner/epochs: 6</span>"
      ],
      "text/plain": [
       "<IPython.core.display.HTML object>"
      ]
     },
     "metadata": {},
     "output_type": "display_data"
    },
    {
     "data": {
      "text/html": [
       "<span style=\"color:cyan\"> |-tuner/initial_epoch: 0</span>"
      ],
      "text/plain": [
       "<IPython.core.display.HTML object>"
      ]
     },
     "metadata": {},
     "output_type": "display_data"
    },
    {
     "data": {
      "text/html": [
       "<span style=\"color:blue\"> |-tuner/round: 0</span>"
      ],
      "text/plain": [
       "<IPython.core.display.HTML object>"
      ]
     },
     "metadata": {},
     "output_type": "display_data"
    },
    {
     "data": {
      "text/html": [
       "<span style=\"color:cyan\"> |-units: 160</span>"
      ],
      "text/plain": [
       "<IPython.core.display.HTML object>"
      ]
     },
     "metadata": {},
     "output_type": "display_data"
    },
    {
     "data": {
      "text/html": [
       "<span style=\"color:#4527A0\"><h1 style=\"font-size:18px\">Trial summary</h1></span>"
      ],
      "text/plain": [
       "<IPython.core.display.HTML object>"
      ]
     },
     "metadata": {},
     "output_type": "display_data"
    },
    {
     "data": {
      "text/html": [
       "<span style=\"color:cyan\"> |-Trial ID: faac593e6c9b43a6a3a2aa3982dcab19</span>"
      ],
      "text/plain": [
       "<IPython.core.display.HTML object>"
      ]
     },
     "metadata": {},
     "output_type": "display_data"
    },
    {
     "data": {
      "text/html": [
       "<span style=\"color:cyan\"> |-Score: 0.9446290135383606</span>"
      ],
      "text/plain": [
       "<IPython.core.display.HTML object>"
      ]
     },
     "metadata": {},
     "output_type": "display_data"
    },
    {
     "data": {
      "text/html": [
       "<span style=\"color:cyan\"> |-Best step: 0</span>"
      ],
      "text/plain": [
       "<IPython.core.display.HTML object>"
      ]
     },
     "metadata": {},
     "output_type": "display_data"
    },
    {
     "data": {
      "text/html": [
       "<span style=\"color:#7E57C2\"><h2 style=\"font-size:16px\">Hyperparameters:</h2></span>"
      ],
      "text/plain": [
       "<IPython.core.display.HTML object>"
      ]
     },
     "metadata": {},
     "output_type": "display_data"
    },
    {
     "data": {
      "text/html": [
       "<span style=\"color:cyan\"> |-activation_func: swish</span>"
      ],
      "text/plain": [
       "<IPython.core.display.HTML object>"
      ]
     },
     "metadata": {},
     "output_type": "display_data"
    },
    {
     "data": {
      "text/html": [
       "<span style=\"color:blue\"> |-activation_func_2: tanh</span>"
      ],
      "text/plain": [
       "<IPython.core.display.HTML object>"
      ]
     },
     "metadata": {},
     "output_type": "display_data"
    },
    {
     "data": {
      "text/html": [
       "<span style=\"color:cyan\"> |-layers: 3</span>"
      ],
      "text/plain": [
       "<IPython.core.display.HTML object>"
      ]
     },
     "metadata": {},
     "output_type": "display_data"
    },
    {
     "data": {
      "text/html": [
       "<span style=\"color:blue\"> |-learning_rate: 0.0001</span>"
      ],
      "text/plain": [
       "<IPython.core.display.HTML object>"
      ]
     },
     "metadata": {},
     "output_type": "display_data"
    },
    {
     "data": {
      "text/html": [
       "<span style=\"color:cyan\"> |-tuner/bracket: 2</span>"
      ],
      "text/plain": [
       "<IPython.core.display.HTML object>"
      ]
     },
     "metadata": {},
     "output_type": "display_data"
    },
    {
     "data": {
      "text/html": [
       "<span style=\"color:blue\"> |-tuner/epochs: 6</span>"
      ],
      "text/plain": [
       "<IPython.core.display.HTML object>"
      ]
     },
     "metadata": {},
     "output_type": "display_data"
    },
    {
     "data": {
      "text/html": [
       "<span style=\"color:cyan\"> |-tuner/initial_epoch: 0</span>"
      ],
      "text/plain": [
       "<IPython.core.display.HTML object>"
      ]
     },
     "metadata": {},
     "output_type": "display_data"
    },
    {
     "data": {
      "text/html": [
       "<span style=\"color:blue\"> |-tuner/round: 0</span>"
      ],
      "text/plain": [
       "<IPython.core.display.HTML object>"
      ]
     },
     "metadata": {},
     "output_type": "display_data"
    },
    {
     "data": {
      "text/html": [
       "<span style=\"color:cyan\"> |-units: 80</span>"
      ],
      "text/plain": [
       "<IPython.core.display.HTML object>"
      ]
     },
     "metadata": {},
     "output_type": "display_data"
    }
   ],
   "source": [
    "physical_devices = tf.config.list_physical_devices('GPU') \n",
    "tf.config.experimental.set_memory_growth(physical_devices[0], True)\n",
    "\n",
    "# Creamos instancia del tuner\n",
    "# Keras Tuner tiene cuatro tuner disponibles: RandomSearch , Hyperband , BayesianOptimization y Sklearn\n",
    "tuner = kt.Hyperband(model_builder,\n",
    "                     objective = 'val_accuracy', \n",
    "                     max_epochs = 50,\n",
    "#                      max_trials = 5,\n",
    "#                      factor = 3,\n",
    "                     directory = 'Archivo',\n",
    "                     project_name = 'Keras_Tuning')\n",
    "\n",
    "tuner.search(x_train_vector,\n",
    "            y_train_vector,\n",
    "            validation_data=(x_test_vector, y_test_vector),\n",
    "            epochs = 50,\n",
    "            verbose=1,\n",
    "            callbacks = [tf.keras.callbacks.EarlyStopping(patience=1)])\n",
    "    \n",
    "models = tuner.get_best_models(num_models=2)\n",
    "             \n",
    "tuner.results_summary()"
   ]
  },
  {
   "cell_type": "code",
   "execution_count": 12,
   "id": "alleged-corporation",
   "metadata": {},
   "outputs": [
    {
     "data": {
      "text/html": [
       "<span style=\"color:#4527A0\"><h1 style=\"font-size:18px\">Results summary</h1></span>"
      ],
      "text/plain": [
       "<IPython.core.display.HTML object>"
      ]
     },
     "metadata": {},
     "output_type": "display_data"
    },
    {
     "data": {
      "text/html": [
       "<span style=\"color:cyan\"> |-Results in my_dir\\intro_to_kt</span>"
      ],
      "text/plain": [
       "<IPython.core.display.HTML object>"
      ]
     },
     "metadata": {},
     "output_type": "display_data"
    },
    {
     "data": {
      "text/html": [
       "<span style=\"color:cyan\"> |-Showing 10 best trials</span>"
      ],
      "text/plain": [
       "<IPython.core.display.HTML object>"
      ]
     },
     "metadata": {},
     "output_type": "display_data"
    },
    {
     "data": {
      "text/html": [
       "<span style=\"color:cyan\"> |-Objective(name='val_accuracy', direction='max')</span>"
      ],
      "text/plain": [
       "<IPython.core.display.HTML object>"
      ]
     },
     "metadata": {},
     "output_type": "display_data"
    },
    {
     "data": {
      "text/html": [
       "<span style=\"color:#4527A0\"><h1 style=\"font-size:18px\">Trial summary</h1></span>"
      ],
      "text/plain": [
       "<IPython.core.display.HTML object>"
      ]
     },
     "metadata": {},
     "output_type": "display_data"
    },
    {
     "data": {
      "text/html": [
       "<span style=\"color:cyan\"> |-Trial ID: 37319fd8f1b8967de2e8552858330d58</span>"
      ],
      "text/plain": [
       "<IPython.core.display.HTML object>"
      ]
     },
     "metadata": {},
     "output_type": "display_data"
    },
    {
     "data": {
      "text/html": [
       "<span style=\"color:cyan\"> |-Score: 0.948394238948822</span>"
      ],
      "text/plain": [
       "<IPython.core.display.HTML object>"
      ]
     },
     "metadata": {},
     "output_type": "display_data"
    },
    {
     "data": {
      "text/html": [
       "<span style=\"color:cyan\"> |-Best step: 0</span>"
      ],
      "text/plain": [
       "<IPython.core.display.HTML object>"
      ]
     },
     "metadata": {},
     "output_type": "display_data"
    },
    {
     "data": {
      "text/html": [
       "<span style=\"color:#7E57C2\"><h2 style=\"font-size:16px\">Hyperparameters:</h2></span>"
      ],
      "text/plain": [
       "<IPython.core.display.HTML object>"
      ]
     },
     "metadata": {},
     "output_type": "display_data"
    },
    {
     "data": {
      "text/html": [
       "<span style=\"color:cyan\"> |-activation_func: relu</span>"
      ],
      "text/plain": [
       "<IPython.core.display.HTML object>"
      ]
     },
     "metadata": {},
     "output_type": "display_data"
    },
    {
     "data": {
      "text/html": [
       "<span style=\"color:blue\"> |-activation_func_2: relu</span>"
      ],
      "text/plain": [
       "<IPython.core.display.HTML object>"
      ]
     },
     "metadata": {},
     "output_type": "display_data"
    },
    {
     "data": {
      "text/html": [
       "<span style=\"color:cyan\"> |-layers: 2</span>"
      ],
      "text/plain": [
       "<IPython.core.display.HTML object>"
      ]
     },
     "metadata": {},
     "output_type": "display_data"
    },
    {
     "data": {
      "text/html": [
       "<span style=\"color:blue\"> |-learning_rate: 0.01</span>"
      ],
      "text/plain": [
       "<IPython.core.display.HTML object>"
      ]
     },
     "metadata": {},
     "output_type": "display_data"
    },
    {
     "data": {
      "text/html": [
       "<span style=\"color:cyan\"> |-tuner/bracket: 3</span>"
      ],
      "text/plain": [
       "<IPython.core.display.HTML object>"
      ]
     },
     "metadata": {},
     "output_type": "display_data"
    },
    {
     "data": {
      "text/html": [
       "<span style=\"color:blue\"> |-tuner/epochs: 17</span>"
      ],
      "text/plain": [
       "<IPython.core.display.HTML object>"
      ]
     },
     "metadata": {},
     "output_type": "display_data"
    },
    {
     "data": {
      "text/html": [
       "<span style=\"color:cyan\"> |-tuner/initial_epoch: 6</span>"
      ],
      "text/plain": [
       "<IPython.core.display.HTML object>"
      ]
     },
     "metadata": {},
     "output_type": "display_data"
    },
    {
     "data": {
      "text/html": [
       "<span style=\"color:blue\"> |-tuner/round: 2</span>"
      ],
      "text/plain": [
       "<IPython.core.display.HTML object>"
      ]
     },
     "metadata": {},
     "output_type": "display_data"
    },
    {
     "data": {
      "text/html": [
       "<span style=\"color:cyan\"> |-tuner/trial_id: f5adaeb414b552e881babb9d8b075922</span>"
      ],
      "text/plain": [
       "<IPython.core.display.HTML object>"
      ]
     },
     "metadata": {},
     "output_type": "display_data"
    },
    {
     "data": {
      "text/html": [
       "<span style=\"color:blue\"> |-units: 64</span>"
      ],
      "text/plain": [
       "<IPython.core.display.HTML object>"
      ]
     },
     "metadata": {},
     "output_type": "display_data"
    },
    {
     "data": {
      "text/html": [
       "<span style=\"color:#4527A0\"><h1 style=\"font-size:18px\">Trial summary</h1></span>"
      ],
      "text/plain": [
       "<IPython.core.display.HTML object>"
      ]
     },
     "metadata": {},
     "output_type": "display_data"
    },
    {
     "data": {
      "text/html": [
       "<span style=\"color:cyan\"> |-Trial ID: db73fbcae9325fd02be8a5745e234fbf</span>"
      ],
      "text/plain": [
       "<IPython.core.display.HTML object>"
      ]
     },
     "metadata": {},
     "output_type": "display_data"
    },
    {
     "data": {
      "text/html": [
       "<span style=\"color:cyan\"> |-Score: 0.948394238948822</span>"
      ],
      "text/plain": [
       "<IPython.core.display.HTML object>"
      ]
     },
     "metadata": {},
     "output_type": "display_data"
    },
    {
     "data": {
      "text/html": [
       "<span style=\"color:cyan\"> |-Best step: 0</span>"
      ],
      "text/plain": [
       "<IPython.core.display.HTML object>"
      ]
     },
     "metadata": {},
     "output_type": "display_data"
    },
    {
     "data": {
      "text/html": [
       "<span style=\"color:#7E57C2\"><h2 style=\"font-size:16px\">Hyperparameters:</h2></span>"
      ],
      "text/plain": [
       "<IPython.core.display.HTML object>"
      ]
     },
     "metadata": {},
     "output_type": "display_data"
    },
    {
     "data": {
      "text/html": [
       "<span style=\"color:cyan\"> |-activation_func: tanh</span>"
      ],
      "text/plain": [
       "<IPython.core.display.HTML object>"
      ]
     },
     "metadata": {},
     "output_type": "display_data"
    },
    {
     "data": {
      "text/html": [
       "<span style=\"color:blue\"> |-activation_func_2: tanh</span>"
      ],
      "text/plain": [
       "<IPython.core.display.HTML object>"
      ]
     },
     "metadata": {},
     "output_type": "display_data"
    },
    {
     "data": {
      "text/html": [
       "<span style=\"color:cyan\"> |-layers: 3</span>"
      ],
      "text/plain": [
       "<IPython.core.display.HTML object>"
      ]
     },
     "metadata": {},
     "output_type": "display_data"
    },
    {
     "data": {
      "text/html": [
       "<span style=\"color:blue\"> |-learning_rate: 0.01</span>"
      ],
      "text/plain": [
       "<IPython.core.display.HTML object>"
      ]
     },
     "metadata": {},
     "output_type": "display_data"
    },
    {
     "data": {
      "text/html": [
       "<span style=\"color:cyan\"> |-tuner/bracket: 1</span>"
      ],
      "text/plain": [
       "<IPython.core.display.HTML object>"
      ]
     },
     "metadata": {},
     "output_type": "display_data"
    },
    {
     "data": {
      "text/html": [
       "<span style=\"color:blue\"> |-tuner/epochs: 17</span>"
      ],
      "text/plain": [
       "<IPython.core.display.HTML object>"
      ]
     },
     "metadata": {},
     "output_type": "display_data"
    },
    {
     "data": {
      "text/html": [
       "<span style=\"color:cyan\"> |-tuner/initial_epoch: 0</span>"
      ],
      "text/plain": [
       "<IPython.core.display.HTML object>"
      ]
     },
     "metadata": {},
     "output_type": "display_data"
    },
    {
     "data": {
      "text/html": [
       "<span style=\"color:blue\"> |-tuner/round: 0</span>"
      ],
      "text/plain": [
       "<IPython.core.display.HTML object>"
      ]
     },
     "metadata": {},
     "output_type": "display_data"
    },
    {
     "data": {
      "text/html": [
       "<span style=\"color:cyan\"> |-units: 112</span>"
      ],
      "text/plain": [
       "<IPython.core.display.HTML object>"
      ]
     },
     "metadata": {},
     "output_type": "display_data"
    },
    {
     "data": {
      "text/html": [
       "<span style=\"color:#4527A0\"><h1 style=\"font-size:18px\">Trial summary</h1></span>"
      ],
      "text/plain": [
       "<IPython.core.display.HTML object>"
      ]
     },
     "metadata": {},
     "output_type": "display_data"
    },
    {
     "data": {
      "text/html": [
       "<span style=\"color:cyan\"> |-Trial ID: f5adaeb414b552e881babb9d8b075922</span>"
      ],
      "text/plain": [
       "<IPython.core.display.HTML object>"
      ]
     },
     "metadata": {},
     "output_type": "display_data"
    },
    {
     "data": {
      "text/html": [
       "<span style=\"color:cyan\"> |-Score: 0.9481727480888367</span>"
      ],
      "text/plain": [
       "<IPython.core.display.HTML object>"
      ]
     },
     "metadata": {},
     "output_type": "display_data"
    },
    {
     "data": {
      "text/html": [
       "<span style=\"color:cyan\"> |-Best step: 0</span>"
      ],
      "text/plain": [
       "<IPython.core.display.HTML object>"
      ]
     },
     "metadata": {},
     "output_type": "display_data"
    },
    {
     "data": {
      "text/html": [
       "<span style=\"color:#7E57C2\"><h2 style=\"font-size:16px\">Hyperparameters:</h2></span>"
      ],
      "text/plain": [
       "<IPython.core.display.HTML object>"
      ]
     },
     "metadata": {},
     "output_type": "display_data"
    },
    {
     "data": {
      "text/html": [
       "<span style=\"color:cyan\"> |-activation_func: relu</span>"
      ],
      "text/plain": [
       "<IPython.core.display.HTML object>"
      ]
     },
     "metadata": {},
     "output_type": "display_data"
    },
    {
     "data": {
      "text/html": [
       "<span style=\"color:blue\"> |-activation_func_2: relu</span>"
      ],
      "text/plain": [
       "<IPython.core.display.HTML object>"
      ]
     },
     "metadata": {},
     "output_type": "display_data"
    },
    {
     "data": {
      "text/html": [
       "<span style=\"color:cyan\"> |-layers: 2</span>"
      ],
      "text/plain": [
       "<IPython.core.display.HTML object>"
      ]
     },
     "metadata": {},
     "output_type": "display_data"
    },
    {
     "data": {
      "text/html": [
       "<span style=\"color:blue\"> |-learning_rate: 0.01</span>"
      ],
      "text/plain": [
       "<IPython.core.display.HTML object>"
      ]
     },
     "metadata": {},
     "output_type": "display_data"
    },
    {
     "data": {
      "text/html": [
       "<span style=\"color:cyan\"> |-tuner/bracket: 3</span>"
      ],
      "text/plain": [
       "<IPython.core.display.HTML object>"
      ]
     },
     "metadata": {},
     "output_type": "display_data"
    },
    {
     "data": {
      "text/html": [
       "<span style=\"color:blue\"> |-tuner/epochs: 6</span>"
      ],
      "text/plain": [
       "<IPython.core.display.HTML object>"
      ]
     },
     "metadata": {},
     "output_type": "display_data"
    },
    {
     "data": {
      "text/html": [
       "<span style=\"color:cyan\"> |-tuner/initial_epoch: 2</span>"
      ],
      "text/plain": [
       "<IPython.core.display.HTML object>"
      ]
     },
     "metadata": {},
     "output_type": "display_data"
    },
    {
     "data": {
      "text/html": [
       "<span style=\"color:blue\"> |-tuner/round: 1</span>"
      ],
      "text/plain": [
       "<IPython.core.display.HTML object>"
      ]
     },
     "metadata": {},
     "output_type": "display_data"
    },
    {
     "data": {
      "text/html": [
       "<span style=\"color:cyan\"> |-tuner/trial_id: af861db8a762ef1625311f5055b006f0</span>"
      ],
      "text/plain": [
       "<IPython.core.display.HTML object>"
      ]
     },
     "metadata": {},
     "output_type": "display_data"
    },
    {
     "data": {
      "text/html": [
       "<span style=\"color:blue\"> |-units: 64</span>"
      ],
      "text/plain": [
       "<IPython.core.display.HTML object>"
      ]
     },
     "metadata": {},
     "output_type": "display_data"
    },
    {
     "data": {
      "text/html": [
       "<span style=\"color:#4527A0\"><h1 style=\"font-size:18px\">Trial summary</h1></span>"
      ],
      "text/plain": [
       "<IPython.core.display.HTML object>"
      ]
     },
     "metadata": {},
     "output_type": "display_data"
    },
    {
     "data": {
      "text/html": [
       "<span style=\"color:cyan\"> |-Trial ID: d887b6387433399da039614d3e600fe8</span>"
      ],
      "text/plain": [
       "<IPython.core.display.HTML object>"
      ]
     },
     "metadata": {},
     "output_type": "display_data"
    },
    {
     "data": {
      "text/html": [
       "<span style=\"color:cyan\"> |-Score: 0.9479512572288513</span>"
      ],
      "text/plain": [
       "<IPython.core.display.HTML object>"
      ]
     },
     "metadata": {},
     "output_type": "display_data"
    },
    {
     "data": {
      "text/html": [
       "<span style=\"color:cyan\"> |-Best step: 0</span>"
      ],
      "text/plain": [
       "<IPython.core.display.HTML object>"
      ]
     },
     "metadata": {},
     "output_type": "display_data"
    },
    {
     "data": {
      "text/html": [
       "<span style=\"color:#7E57C2\"><h2 style=\"font-size:16px\">Hyperparameters:</h2></span>"
      ],
      "text/plain": [
       "<IPython.core.display.HTML object>"
      ]
     },
     "metadata": {},
     "output_type": "display_data"
    },
    {
     "data": {
      "text/html": [
       "<span style=\"color:cyan\"> |-activation_func: relu</span>"
      ],
      "text/plain": [
       "<IPython.core.display.HTML object>"
      ]
     },
     "metadata": {},
     "output_type": "display_data"
    },
    {
     "data": {
      "text/html": [
       "<span style=\"color:blue\"> |-activation_func_2: swish</span>"
      ],
      "text/plain": [
       "<IPython.core.display.HTML object>"
      ]
     },
     "metadata": {},
     "output_type": "display_data"
    },
    {
     "data": {
      "text/html": [
       "<span style=\"color:cyan\"> |-layers: 1</span>"
      ],
      "text/plain": [
       "<IPython.core.display.HTML object>"
      ]
     },
     "metadata": {},
     "output_type": "display_data"
    },
    {
     "data": {
      "text/html": [
       "<span style=\"color:blue\"> |-learning_rate: 0.01</span>"
      ],
      "text/plain": [
       "<IPython.core.display.HTML object>"
      ]
     },
     "metadata": {},
     "output_type": "display_data"
    },
    {
     "data": {
      "text/html": [
       "<span style=\"color:cyan\"> |-tuner/bracket: 3</span>"
      ],
      "text/plain": [
       "<IPython.core.display.HTML object>"
      ]
     },
     "metadata": {},
     "output_type": "display_data"
    },
    {
     "data": {
      "text/html": [
       "<span style=\"color:blue\"> |-tuner/epochs: 2</span>"
      ],
      "text/plain": [
       "<IPython.core.display.HTML object>"
      ]
     },
     "metadata": {},
     "output_type": "display_data"
    },
    {
     "data": {
      "text/html": [
       "<span style=\"color:cyan\"> |-tuner/initial_epoch: 0</span>"
      ],
      "text/plain": [
       "<IPython.core.display.HTML object>"
      ]
     },
     "metadata": {},
     "output_type": "display_data"
    },
    {
     "data": {
      "text/html": [
       "<span style=\"color:blue\"> |-tuner/round: 0</span>"
      ],
      "text/plain": [
       "<IPython.core.display.HTML object>"
      ]
     },
     "metadata": {},
     "output_type": "display_data"
    },
    {
     "data": {
      "text/html": [
       "<span style=\"color:cyan\"> |-units: 192</span>"
      ],
      "text/plain": [
       "<IPython.core.display.HTML object>"
      ]
     },
     "metadata": {},
     "output_type": "display_data"
    },
    {
     "data": {
      "text/html": [
       "<span style=\"color:#4527A0\"><h1 style=\"font-size:18px\">Trial summary</h1></span>"
      ],
      "text/plain": [
       "<IPython.core.display.HTML object>"
      ]
     },
     "metadata": {},
     "output_type": "display_data"
    },
    {
     "data": {
      "text/html": [
       "<span style=\"color:cyan\"> |-Trial ID: 993e0821cb331c6cebd42b5e1969ce89</span>"
      ],
      "text/plain": [
       "<IPython.core.display.HTML object>"
      ]
     },
     "metadata": {},
     "output_type": "display_data"
    },
    {
     "data": {
      "text/html": [
       "<span style=\"color:cyan\"> |-Score: 0.9475083351135254</span>"
      ],
      "text/plain": [
       "<IPython.core.display.HTML object>"
      ]
     },
     "metadata": {},
     "output_type": "display_data"
    },
    {
     "data": {
      "text/html": [
       "<span style=\"color:cyan\"> |-Best step: 0</span>"
      ],
      "text/plain": [
       "<IPython.core.display.HTML object>"
      ]
     },
     "metadata": {},
     "output_type": "display_data"
    },
    {
     "data": {
      "text/html": [
       "<span style=\"color:#7E57C2\"><h2 style=\"font-size:16px\">Hyperparameters:</h2></span>"
      ],
      "text/plain": [
       "<IPython.core.display.HTML object>"
      ]
     },
     "metadata": {},
     "output_type": "display_data"
    },
    {
     "data": {
      "text/html": [
       "<span style=\"color:cyan\"> |-activation_func: tanh</span>"
      ],
      "text/plain": [
       "<IPython.core.display.HTML object>"
      ]
     },
     "metadata": {},
     "output_type": "display_data"
    },
    {
     "data": {
      "text/html": [
       "<span style=\"color:blue\"> |-activation_func_2: tanh</span>"
      ],
      "text/plain": [
       "<IPython.core.display.HTML object>"
      ]
     },
     "metadata": {},
     "output_type": "display_data"
    },
    {
     "data": {
      "text/html": [
       "<span style=\"color:cyan\"> |-layers: 2</span>"
      ],
      "text/plain": [
       "<IPython.core.display.HTML object>"
      ]
     },
     "metadata": {},
     "output_type": "display_data"
    },
    {
     "data": {
      "text/html": [
       "<span style=\"color:blue\"> |-learning_rate: 0.01</span>"
      ],
      "text/plain": [
       "<IPython.core.display.HTML object>"
      ]
     },
     "metadata": {},
     "output_type": "display_data"
    },
    {
     "data": {
      "text/html": [
       "<span style=\"color:cyan\"> |-tuner/bracket: 2</span>"
      ],
      "text/plain": [
       "<IPython.core.display.HTML object>"
      ]
     },
     "metadata": {},
     "output_type": "display_data"
    },
    {
     "data": {
      "text/html": [
       "<span style=\"color:blue\"> |-tuner/epochs: 6</span>"
      ],
      "text/plain": [
       "<IPython.core.display.HTML object>"
      ]
     },
     "metadata": {},
     "output_type": "display_data"
    },
    {
     "data": {
      "text/html": [
       "<span style=\"color:cyan\"> |-tuner/initial_epoch: 0</span>"
      ],
      "text/plain": [
       "<IPython.core.display.HTML object>"
      ]
     },
     "metadata": {},
     "output_type": "display_data"
    },
    {
     "data": {
      "text/html": [
       "<span style=\"color:blue\"> |-tuner/round: 0</span>"
      ],
      "text/plain": [
       "<IPython.core.display.HTML object>"
      ]
     },
     "metadata": {},
     "output_type": "display_data"
    },
    {
     "data": {
      "text/html": [
       "<span style=\"color:cyan\"> |-units: 224</span>"
      ],
      "text/plain": [
       "<IPython.core.display.HTML object>"
      ]
     },
     "metadata": {},
     "output_type": "display_data"
    },
    {
     "data": {
      "text/html": [
       "<span style=\"color:#4527A0\"><h1 style=\"font-size:18px\">Trial summary</h1></span>"
      ],
      "text/plain": [
       "<IPython.core.display.HTML object>"
      ]
     },
     "metadata": {},
     "output_type": "display_data"
    },
    {
     "data": {
      "text/html": [
       "<span style=\"color:cyan\"> |-Trial ID: eb3d009147ad1955a1b02e853007837a</span>"
      ],
      "text/plain": [
       "<IPython.core.display.HTML object>"
      ]
     },
     "metadata": {},
     "output_type": "display_data"
    },
    {
     "data": {
      "text/html": [
       "<span style=\"color:cyan\"> |-Score: 0.9475083351135254</span>"
      ],
      "text/plain": [
       "<IPython.core.display.HTML object>"
      ]
     },
     "metadata": {},
     "output_type": "display_data"
    },
    {
     "data": {
      "text/html": [
       "<span style=\"color:cyan\"> |-Best step: 0</span>"
      ],
      "text/plain": [
       "<IPython.core.display.HTML object>"
      ]
     },
     "metadata": {},
     "output_type": "display_data"
    },
    {
     "data": {
      "text/html": [
       "<span style=\"color:#7E57C2\"><h2 style=\"font-size:16px\">Hyperparameters:</h2></span>"
      ],
      "text/plain": [
       "<IPython.core.display.HTML object>"
      ]
     },
     "metadata": {},
     "output_type": "display_data"
    },
    {
     "data": {
      "text/html": [
       "<span style=\"color:cyan\"> |-activation_func: relu</span>"
      ],
      "text/plain": [
       "<IPython.core.display.HTML object>"
      ]
     },
     "metadata": {},
     "output_type": "display_data"
    },
    {
     "data": {
      "text/html": [
       "<span style=\"color:blue\"> |-activation_func_2: swish</span>"
      ],
      "text/plain": [
       "<IPython.core.display.HTML object>"
      ]
     },
     "metadata": {},
     "output_type": "display_data"
    },
    {
     "data": {
      "text/html": [
       "<span style=\"color:cyan\"> |-layers: 5</span>"
      ],
      "text/plain": [
       "<IPython.core.display.HTML object>"
      ]
     },
     "metadata": {},
     "output_type": "display_data"
    },
    {
     "data": {
      "text/html": [
       "<span style=\"color:blue\"> |-learning_rate: 0.001</span>"
      ],
      "text/plain": [
       "<IPython.core.display.HTML object>"
      ]
     },
     "metadata": {},
     "output_type": "display_data"
    },
    {
     "data": {
      "text/html": [
       "<span style=\"color:cyan\"> |-tuner/bracket: 2</span>"
      ],
      "text/plain": [
       "<IPython.core.display.HTML object>"
      ]
     },
     "metadata": {},
     "output_type": "display_data"
    },
    {
     "data": {
      "text/html": [
       "<span style=\"color:blue\"> |-tuner/epochs: 6</span>"
      ],
      "text/plain": [
       "<IPython.core.display.HTML object>"
      ]
     },
     "metadata": {},
     "output_type": "display_data"
    },
    {
     "data": {
      "text/html": [
       "<span style=\"color:cyan\"> |-tuner/initial_epoch: 0</span>"
      ],
      "text/plain": [
       "<IPython.core.display.HTML object>"
      ]
     },
     "metadata": {},
     "output_type": "display_data"
    },
    {
     "data": {
      "text/html": [
       "<span style=\"color:blue\"> |-tuner/round: 0</span>"
      ],
      "text/plain": [
       "<IPython.core.display.HTML object>"
      ]
     },
     "metadata": {},
     "output_type": "display_data"
    },
    {
     "data": {
      "text/html": [
       "<span style=\"color:cyan\"> |-units: 160</span>"
      ],
      "text/plain": [
       "<IPython.core.display.HTML object>"
      ]
     },
     "metadata": {},
     "output_type": "display_data"
    },
    {
     "data": {
      "text/html": [
       "<span style=\"color:#4527A0\"><h1 style=\"font-size:18px\">Trial summary</h1></span>"
      ],
      "text/plain": [
       "<IPython.core.display.HTML object>"
      ]
     },
     "metadata": {},
     "output_type": "display_data"
    },
    {
     "data": {
      "text/html": [
       "<span style=\"color:cyan\"> |-Trial ID: f313e9227aa36d701d2aae934378968c</span>"
      ],
      "text/plain": [
       "<IPython.core.display.HTML object>"
      ]
     },
     "metadata": {},
     "output_type": "display_data"
    },
    {
     "data": {
      "text/html": [
       "<span style=\"color:cyan\"> |-Score: 0.9461793899536133</span>"
      ],
      "text/plain": [
       "<IPython.core.display.HTML object>"
      ]
     },
     "metadata": {},
     "output_type": "display_data"
    },
    {
     "data": {
      "text/html": [
       "<span style=\"color:cyan\"> |-Best step: 0</span>"
      ],
      "text/plain": [
       "<IPython.core.display.HTML object>"
      ]
     },
     "metadata": {},
     "output_type": "display_data"
    },
    {
     "data": {
      "text/html": [
       "<span style=\"color:#7E57C2\"><h2 style=\"font-size:16px\">Hyperparameters:</h2></span>"
      ],
      "text/plain": [
       "<IPython.core.display.HTML object>"
      ]
     },
     "metadata": {},
     "output_type": "display_data"
    },
    {
     "data": {
      "text/html": [
       "<span style=\"color:cyan\"> |-activation_func: tanh</span>"
      ],
      "text/plain": [
       "<IPython.core.display.HTML object>"
      ]
     },
     "metadata": {},
     "output_type": "display_data"
    },
    {
     "data": {
      "text/html": [
       "<span style=\"color:blue\"> |-activation_func_2: swish</span>"
      ],
      "text/plain": [
       "<IPython.core.display.HTML object>"
      ]
     },
     "metadata": {},
     "output_type": "display_data"
    },
    {
     "data": {
      "text/html": [
       "<span style=\"color:cyan\"> |-layers: 3</span>"
      ],
      "text/plain": [
       "<IPython.core.display.HTML object>"
      ]
     },
     "metadata": {},
     "output_type": "display_data"
    },
    {
     "data": {
      "text/html": [
       "<span style=\"color:blue\"> |-learning_rate: 0.001</span>"
      ],
      "text/plain": [
       "<IPython.core.display.HTML object>"
      ]
     },
     "metadata": {},
     "output_type": "display_data"
    },
    {
     "data": {
      "text/html": [
       "<span style=\"color:cyan\"> |-tuner/bracket: 3</span>"
      ],
      "text/plain": [
       "<IPython.core.display.HTML object>"
      ]
     },
     "metadata": {},
     "output_type": "display_data"
    },
    {
     "data": {
      "text/html": [
       "<span style=\"color:blue\"> |-tuner/epochs: 2</span>"
      ],
      "text/plain": [
       "<IPython.core.display.HTML object>"
      ]
     },
     "metadata": {},
     "output_type": "display_data"
    },
    {
     "data": {
      "text/html": [
       "<span style=\"color:cyan\"> |-tuner/initial_epoch: 0</span>"
      ],
      "text/plain": [
       "<IPython.core.display.HTML object>"
      ]
     },
     "metadata": {},
     "output_type": "display_data"
    },
    {
     "data": {
      "text/html": [
       "<span style=\"color:blue\"> |-tuner/round: 0</span>"
      ],
      "text/plain": [
       "<IPython.core.display.HTML object>"
      ]
     },
     "metadata": {},
     "output_type": "display_data"
    },
    {
     "data": {
      "text/html": [
       "<span style=\"color:cyan\"> |-units: 208</span>"
      ],
      "text/plain": [
       "<IPython.core.display.HTML object>"
      ]
     },
     "metadata": {},
     "output_type": "display_data"
    },
    {
     "data": {
      "text/html": [
       "<span style=\"color:#4527A0\"><h1 style=\"font-size:18px\">Trial summary</h1></span>"
      ],
      "text/plain": [
       "<IPython.core.display.HTML object>"
      ]
     },
     "metadata": {},
     "output_type": "display_data"
    },
    {
     "data": {
      "text/html": [
       "<span style=\"color:cyan\"> |-Trial ID: 957268fbca29b23002e896cb2d80e9ce</span>"
      ],
      "text/plain": [
       "<IPython.core.display.HTML object>"
      ]
     },
     "metadata": {},
     "output_type": "display_data"
    },
    {
     "data": {
      "text/html": [
       "<span style=\"color:cyan\"> |-Score: 0.9452934861183167</span>"
      ],
      "text/plain": [
       "<IPython.core.display.HTML object>"
      ]
     },
     "metadata": {},
     "output_type": "display_data"
    },
    {
     "data": {
      "text/html": [
       "<span style=\"color:cyan\"> |-Best step: 0</span>"
      ],
      "text/plain": [
       "<IPython.core.display.HTML object>"
      ]
     },
     "metadata": {},
     "output_type": "display_data"
    },
    {
     "data": {
      "text/html": [
       "<span style=\"color:#7E57C2\"><h2 style=\"font-size:16px\">Hyperparameters:</h2></span>"
      ],
      "text/plain": [
       "<IPython.core.display.HTML object>"
      ]
     },
     "metadata": {},
     "output_type": "display_data"
    },
    {
     "data": {
      "text/html": [
       "<span style=\"color:cyan\"> |-activation_func: relu</span>"
      ],
      "text/plain": [
       "<IPython.core.display.HTML object>"
      ]
     },
     "metadata": {},
     "output_type": "display_data"
    },
    {
     "data": {
      "text/html": [
       "<span style=\"color:blue\"> |-activation_func_2: tanh</span>"
      ],
      "text/plain": [
       "<IPython.core.display.HTML object>"
      ]
     },
     "metadata": {},
     "output_type": "display_data"
    },
    {
     "data": {
      "text/html": [
       "<span style=\"color:cyan\"> |-layers: 2</span>"
      ],
      "text/plain": [
       "<IPython.core.display.HTML object>"
      ]
     },
     "metadata": {},
     "output_type": "display_data"
    },
    {
     "data": {
      "text/html": [
       "<span style=\"color:blue\"> |-learning_rate: 0.001</span>"
      ],
      "text/plain": [
       "<IPython.core.display.HTML object>"
      ]
     },
     "metadata": {},
     "output_type": "display_data"
    },
    {
     "data": {
      "text/html": [
       "<span style=\"color:cyan\"> |-tuner/bracket: 2</span>"
      ],
      "text/plain": [
       "<IPython.core.display.HTML object>"
      ]
     },
     "metadata": {},
     "output_type": "display_data"
    },
    {
     "data": {
      "text/html": [
       "<span style=\"color:blue\"> |-tuner/epochs: 6</span>"
      ],
      "text/plain": [
       "<IPython.core.display.HTML object>"
      ]
     },
     "metadata": {},
     "output_type": "display_data"
    },
    {
     "data": {
      "text/html": [
       "<span style=\"color:cyan\"> |-tuner/initial_epoch: 0</span>"
      ],
      "text/plain": [
       "<IPython.core.display.HTML object>"
      ]
     },
     "metadata": {},
     "output_type": "display_data"
    },
    {
     "data": {
      "text/html": [
       "<span style=\"color:blue\"> |-tuner/round: 0</span>"
      ],
      "text/plain": [
       "<IPython.core.display.HTML object>"
      ]
     },
     "metadata": {},
     "output_type": "display_data"
    },
    {
     "data": {
      "text/html": [
       "<span style=\"color:cyan\"> |-units: 224</span>"
      ],
      "text/plain": [
       "<IPython.core.display.HTML object>"
      ]
     },
     "metadata": {},
     "output_type": "display_data"
    },
    {
     "data": {
      "text/html": [
       "<span style=\"color:#4527A0\"><h1 style=\"font-size:18px\">Trial summary</h1></span>"
      ],
      "text/plain": [
       "<IPython.core.display.HTML object>"
      ]
     },
     "metadata": {},
     "output_type": "display_data"
    },
    {
     "data": {
      "text/html": [
       "<span style=\"color:cyan\"> |-Trial ID: 7b09b1f95b692d7c1b30dcf5a7411d26</span>"
      ],
      "text/plain": [
       "<IPython.core.display.HTML object>"
      ]
     },
     "metadata": {},
     "output_type": "display_data"
    },
    {
     "data": {
      "text/html": [
       "<span style=\"color:cyan\"> |-Score: 0.9450719952583313</span>"
      ],
      "text/plain": [
       "<IPython.core.display.HTML object>"
      ]
     },
     "metadata": {},
     "output_type": "display_data"
    },
    {
     "data": {
      "text/html": [
       "<span style=\"color:cyan\"> |-Best step: 0</span>"
      ],
      "text/plain": [
       "<IPython.core.display.HTML object>"
      ]
     },
     "metadata": {},
     "output_type": "display_data"
    },
    {
     "data": {
      "text/html": [
       "<span style=\"color:#7E57C2\"><h2 style=\"font-size:16px\">Hyperparameters:</h2></span>"
      ],
      "text/plain": [
       "<IPython.core.display.HTML object>"
      ]
     },
     "metadata": {},
     "output_type": "display_data"
    },
    {
     "data": {
      "text/html": [
       "<span style=\"color:cyan\"> |-activation_func: relu</span>"
      ],
      "text/plain": [
       "<IPython.core.display.HTML object>"
      ]
     },
     "metadata": {},
     "output_type": "display_data"
    },
    {
     "data": {
      "text/html": [
       "<span style=\"color:blue\"> |-activation_func_2: relu</span>"
      ],
      "text/plain": [
       "<IPython.core.display.HTML object>"
      ]
     },
     "metadata": {},
     "output_type": "display_data"
    },
    {
     "data": {
      "text/html": [
       "<span style=\"color:cyan\"> |-layers: 4</span>"
      ],
      "text/plain": [
       "<IPython.core.display.HTML object>"
      ]
     },
     "metadata": {},
     "output_type": "display_data"
    },
    {
     "data": {
      "text/html": [
       "<span style=\"color:blue\"> |-learning_rate: 0.0001</span>"
      ],
      "text/plain": [
       "<IPython.core.display.HTML object>"
      ]
     },
     "metadata": {},
     "output_type": "display_data"
    },
    {
     "data": {
      "text/html": [
       "<span style=\"color:cyan\"> |-tuner/bracket: 2</span>"
      ],
      "text/plain": [
       "<IPython.core.display.HTML object>"
      ]
     },
     "metadata": {},
     "output_type": "display_data"
    },
    {
     "data": {
      "text/html": [
       "<span style=\"color:blue\"> |-tuner/epochs: 6</span>"
      ],
      "text/plain": [
       "<IPython.core.display.HTML object>"
      ]
     },
     "metadata": {},
     "output_type": "display_data"
    },
    {
     "data": {
      "text/html": [
       "<span style=\"color:cyan\"> |-tuner/initial_epoch: 0</span>"
      ],
      "text/plain": [
       "<IPython.core.display.HTML object>"
      ]
     },
     "metadata": {},
     "output_type": "display_data"
    },
    {
     "data": {
      "text/html": [
       "<span style=\"color:blue\"> |-tuner/round: 0</span>"
      ],
      "text/plain": [
       "<IPython.core.display.HTML object>"
      ]
     },
     "metadata": {},
     "output_type": "display_data"
    },
    {
     "data": {
      "text/html": [
       "<span style=\"color:cyan\"> |-units: 160</span>"
      ],
      "text/plain": [
       "<IPython.core.display.HTML object>"
      ]
     },
     "metadata": {},
     "output_type": "display_data"
    },
    {
     "data": {
      "text/html": [
       "<span style=\"color:#4527A0\"><h1 style=\"font-size:18px\">Trial summary</h1></span>"
      ],
      "text/plain": [
       "<IPython.core.display.HTML object>"
      ]
     },
     "metadata": {},
     "output_type": "display_data"
    },
    {
     "data": {
      "text/html": [
       "<span style=\"color:cyan\"> |-Trial ID: faac593e6c9b43a6a3a2aa3982dcab19</span>"
      ],
      "text/plain": [
       "<IPython.core.display.HTML object>"
      ]
     },
     "metadata": {},
     "output_type": "display_data"
    },
    {
     "data": {
      "text/html": [
       "<span style=\"color:cyan\"> |-Score: 0.9446290135383606</span>"
      ],
      "text/plain": [
       "<IPython.core.display.HTML object>"
      ]
     },
     "metadata": {},
     "output_type": "display_data"
    },
    {
     "data": {
      "text/html": [
       "<span style=\"color:cyan\"> |-Best step: 0</span>"
      ],
      "text/plain": [
       "<IPython.core.display.HTML object>"
      ]
     },
     "metadata": {},
     "output_type": "display_data"
    },
    {
     "data": {
      "text/html": [
       "<span style=\"color:#7E57C2\"><h2 style=\"font-size:16px\">Hyperparameters:</h2></span>"
      ],
      "text/plain": [
       "<IPython.core.display.HTML object>"
      ]
     },
     "metadata": {},
     "output_type": "display_data"
    },
    {
     "data": {
      "text/html": [
       "<span style=\"color:cyan\"> |-activation_func: swish</span>"
      ],
      "text/plain": [
       "<IPython.core.display.HTML object>"
      ]
     },
     "metadata": {},
     "output_type": "display_data"
    },
    {
     "data": {
      "text/html": [
       "<span style=\"color:blue\"> |-activation_func_2: tanh</span>"
      ],
      "text/plain": [
       "<IPython.core.display.HTML object>"
      ]
     },
     "metadata": {},
     "output_type": "display_data"
    },
    {
     "data": {
      "text/html": [
       "<span style=\"color:cyan\"> |-layers: 3</span>"
      ],
      "text/plain": [
       "<IPython.core.display.HTML object>"
      ]
     },
     "metadata": {},
     "output_type": "display_data"
    },
    {
     "data": {
      "text/html": [
       "<span style=\"color:blue\"> |-learning_rate: 0.0001</span>"
      ],
      "text/plain": [
       "<IPython.core.display.HTML object>"
      ]
     },
     "metadata": {},
     "output_type": "display_data"
    },
    {
     "data": {
      "text/html": [
       "<span style=\"color:cyan\"> |-tuner/bracket: 2</span>"
      ],
      "text/plain": [
       "<IPython.core.display.HTML object>"
      ]
     },
     "metadata": {},
     "output_type": "display_data"
    },
    {
     "data": {
      "text/html": [
       "<span style=\"color:blue\"> |-tuner/epochs: 6</span>"
      ],
      "text/plain": [
       "<IPython.core.display.HTML object>"
      ]
     },
     "metadata": {},
     "output_type": "display_data"
    },
    {
     "data": {
      "text/html": [
       "<span style=\"color:cyan\"> |-tuner/initial_epoch: 0</span>"
      ],
      "text/plain": [
       "<IPython.core.display.HTML object>"
      ]
     },
     "metadata": {},
     "output_type": "display_data"
    },
    {
     "data": {
      "text/html": [
       "<span style=\"color:blue\"> |-tuner/round: 0</span>"
      ],
      "text/plain": [
       "<IPython.core.display.HTML object>"
      ]
     },
     "metadata": {},
     "output_type": "display_data"
    },
    {
     "data": {
      "text/html": [
       "<span style=\"color:cyan\"> |-units: 80</span>"
      ],
      "text/plain": [
       "<IPython.core.display.HTML object>"
      ]
     },
     "metadata": {},
     "output_type": "display_data"
    }
   ],
   "source": [
    "tuner.results_summary()"
   ]
  }
 ],
 "metadata": {
  "kernelspec": {
   "display_name": "Python 3",
   "language": "python",
   "name": "python3"
  },
  "language_info": {
   "codemirror_mode": {
    "name": "ipython",
    "version": 3
   },
   "file_extension": ".py",
   "mimetype": "text/x-python",
   "name": "python",
   "nbconvert_exporter": "python",
   "pygments_lexer": "ipython3",
   "version": "3.6.12"
  }
 },
 "nbformat": 4,
 "nbformat_minor": 5
}
