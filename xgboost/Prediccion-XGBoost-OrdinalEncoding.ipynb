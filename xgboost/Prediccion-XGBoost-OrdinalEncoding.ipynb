{
 "cells": [
  {
   "cell_type": "code",
   "execution_count": 1,
   "metadata": {},
   "outputs": [],
   "source": [
    "import sklearn as skl\n",
    "import pandas as pd\n",
    "import xgboost as xgb\n",
    "import numpy as np\n",
    "entrenamiento = pd.read_csv('Train_TP2_Datos_2020-2C.csv')\n",
    "test = pd.read_csv('Test_TP2_Datos_2020-2C.csv')"
   ]
  },
  {
   "cell_type": "code",
   "execution_count": 2,
   "metadata": {},
   "outputs": [],
   "source": [
    "##ENTRENAMIENTO\n",
    "\n",
    "entrenamiento = entrenamiento[( entrenamiento['Stage'] == 'Closed Won') | ( entrenamiento['Stage'] == 'Closed Lost')]\n",
    "\n",
    "\n",
    "#QUITO COLUMNAS INÚTILES\n",
    "entrenamiento = entrenamiento.drop(columns=['ASP_(converted)_Currency','Quote_Type','Brand','Product_Type','Size','Product_Category_B','Price','Currency','Last_Activity','Actual_Delivery_Date','Prod_Category_A'])\n",
    "\n",
    "#QUITO COLUMNAS CON DEMASIADOS VALORES\n",
    "entrenamiento = entrenamiento.drop(columns=['Opportunity_Name','Product_Family','Sales_Contract_No','Product_Name','Delivery_Quarter','Total_Amount_Currency','Total_Taxable_Amount_Currency'])\n",
    "\n",
    "#TRANSFORMO A DIFERENCIA DE DIAS LAS FECHAS\n",
    "def formateo(x):\n",
    "    if(x == 'NaT'):\n",
    "        return x\n",
    "    cadena = x.split('/')\n",
    "    return '{dia:02}/{mes:02}/{ano}'.format(dia=int(cadena[0]), mes=int(cadena[1]),ano=int(cadena[2]))\n",
    "columnas_fecha = ['Last_Modified_Date','Account_Created_Date','Opportunity_Created_Date','Quote_Expiry_Date','Planned_Delivery_Start_Date','Planned_Delivery_End_Date']\n",
    "for columna in columnas_fecha:\n",
    "    entrenamiento[columna] = entrenamiento[columna].apply(formateo)\n",
    "    entrenamiento[columna] = pd.to_datetime(entrenamiento[columna], format='%m/%d/%Y')\n",
    "\n",
    "entrenamiento = entrenamiento.dropna()\n",
    "\n",
    "def tiempo_en_dias(x):\n",
    "    return (x - pd.to_datetime('01/01/2000', format='%m/%d/%Y')).days\n",
    "for columna in columnas_fecha:\n",
    "    entrenamiento[columna] = entrenamiento[columna].apply(tiempo_en_dias)\n",
    "    entrenamiento[columna] = entrenamiento[columna].astype('int32')\n",
    "\n",
    "#TRATAMIENTO ESPECIAL A MONTH\n",
    "def formateo_mes(x):\n",
    "    x = x.replace(\" - \",\"/\")\n",
    "    cadena = x.split('/')\n",
    "    return '{ano}/{mes:02}'.format(ano=int(cadena[0]), mes=int(cadena[1]))\n",
    "entrenamiento['Month'] = entrenamiento['Month'].apply(formateo_mes)\n",
    "entrenamiento['Month'] = pd.to_datetime(entrenamiento['Month'], format='%Y/%m')\n",
    "entrenamiento['Month'] = entrenamiento['Month'].apply(tiempo_en_dias)\n",
    "entrenamiento['Month'] = entrenamiento['Month'].astype('int32')\n",
    "\n"
   ]
  },
  {
   "cell_type": "code",
   "execution_count": 3,
   "metadata": {},
   "outputs": [],
   "source": [
    "##TEST\n",
    "\n",
    "#QUITO COLUMNAS INÚTILES\n",
    "test = test.drop(columns=['ASP_(converted)_Currency','Quote_Type','Brand','Product_Type','Size','Product_Category_B','Price','Currency','Last_Activity','Actual_Delivery_Date','Prod_Category_A'])\n",
    "\n",
    "#QUITO COLUMNAS CON DEMASIADOS VALORES\n",
    "test = test.drop(columns=['Opportunity_Name','Product_Family','Sales_Contract_No','Product_Name','Delivery_Quarter','Total_Amount_Currency','Total_Taxable_Amount_Currency'])\n",
    "\n",
    "#TRANSFORMO A DIFERENCIA DE DIAS LAS FECHAS\n",
    "def formateo(x):\n",
    "    if(x == 'NaT'):\n",
    "        return x\n",
    "    cadena = x.split('/')\n",
    "    return '{dia:02}/{mes:02}/{ano}'.format(dia=int(cadena[0]), mes=int(cadena[1]),ano=int(cadena[2]))\n",
    "columnas_fecha = ['Last_Modified_Date','Account_Created_Date','Opportunity_Created_Date','Quote_Expiry_Date','Planned_Delivery_Start_Date','Planned_Delivery_End_Date']\n",
    "for columna in columnas_fecha:\n",
    "    test[columna] = test[columna].apply(formateo)\n",
    "    test[columna] = pd.to_datetime(test[columna], format='%m/%d/%Y')\n",
    "\n",
    "test = test.dropna()\n",
    "\n",
    "def tiempo_en_dias(x):\n",
    "    return (x - pd.to_datetime('01/01/2000', format='%m/%d/%Y')).days\n",
    "for columna in columnas_fecha:\n",
    "    test[columna] = test[columna].apply(tiempo_en_dias)\n",
    "    test[columna] = test[columna].astype('int32')\n",
    "\n",
    "#TRATAMIENTO ESPECIAL A MONTH\n",
    "def formateo_mes(x):\n",
    "    x = x.replace(\" - \",\"/\")\n",
    "    cadena = x.split('/')\n",
    "    return '{ano}/{mes:02}'.format(ano=int(cadena[0]), mes=int(cadena[1]))\n",
    "test['Month'] = test['Month'].apply(formateo_mes)\n",
    "test['Month'] = pd.to_datetime(test['Month'], format='%Y/%m')\n",
    "test['Month'] = test['Month'].apply(tiempo_en_dias)\n",
    "test['Month'] = test['Month'].astype('int32')"
   ]
  },
  {
   "cell_type": "code",
   "execution_count": 4,
   "metadata": {},
   "outputs": [
    {
     "name": "stdout",
     "output_type": "stream",
     "text": [
      "<class 'pandas.core.frame.DataFrame'>\n",
      "Int64Index: 10086 entries, 0 to 16946\n",
      "Data columns (total 33 columns):\n",
      " #   Column                              Non-Null Count  Dtype  \n",
      "---  ------                              --------------  -----  \n",
      " 0   ID                                  10086 non-null  int64  \n",
      " 1   Region                              10086 non-null  object \n",
      " 2   Territory                           10086 non-null  object \n",
      " 3   Pricing, Delivery_Terms_Quote_Appr  10086 non-null  int64  \n",
      " 4   Pricing, Delivery_Terms_Approved    10086 non-null  int64  \n",
      " 5   Bureaucratic_Code_0_Approval        10086 non-null  int64  \n",
      " 6   Bureaucratic_Code_0_Approved        10086 non-null  int64  \n",
      " 7   Submitted_for_Approval              10086 non-null  int64  \n",
      " 8   Bureaucratic_Code                   10086 non-null  object \n",
      " 9   Account_Created_Date                10086 non-null  int32  \n",
      " 10  Source                              10086 non-null  object \n",
      " 11  Billing_Country                     10086 non-null  object \n",
      " 12  Account_Name                        10086 non-null  object \n",
      " 13  Opportunity_ID                      10086 non-null  int64  \n",
      " 14  Account_Owner                       10086 non-null  object \n",
      " 15  Opportunity_Owner                   10086 non-null  object \n",
      " 16  Account_Type                        10086 non-null  object \n",
      " 17  Opportunity_Type                    10086 non-null  object \n",
      " 18  Delivery_Terms                      10086 non-null  object \n",
      " 19  Opportunity_Created_Date            10086 non-null  int32  \n",
      " 20  Quote_Expiry_Date                   10086 non-null  int32  \n",
      " 21  Last_Modified_Date                  10086 non-null  int32  \n",
      " 22  Last_Modified_By                    10086 non-null  object \n",
      " 23  ASP_Currency                        10086 non-null  object \n",
      " 24  ASP                                 10086 non-null  float64\n",
      " 25  ASP_(converted)                     10086 non-null  float64\n",
      " 26  Planned_Delivery_Start_Date         10086 non-null  int32  \n",
      " 27  Planned_Delivery_End_Date           10086 non-null  int32  \n",
      " 28  Month                               10086 non-null  int32  \n",
      " 29  Delivery_Year                       10086 non-null  int64  \n",
      " 30  TRF                                 10086 non-null  int64  \n",
      " 31  Total_Amount                        10086 non-null  float64\n",
      " 32  Total_Taxable_Amount                10086 non-null  float64\n",
      "dtypes: float64(4), int32(7), int64(9), object(13)\n",
      "memory usage: 2.3+ MB\n"
     ]
    }
   ],
   "source": [
    "#QUITO STAGE\n",
    "objetivo = entrenamiento.pop('Stage')\n",
    "entrenamiento.info()"
   ]
  },
  {
   "cell_type": "code",
   "execution_count": 5,
   "metadata": {},
   "outputs": [
    {
     "data": {
      "text/plain": [
       "0        0\n",
       "1        1\n",
       "2        1\n",
       "4        0\n",
       "5        0\n",
       "        ..\n",
       "16939    1\n",
       "16940    0\n",
       "16941    0\n",
       "16945    0\n",
       "16946    0\n",
       "Name: Stage, Length: 10086, dtype: int64"
      ]
     },
     "execution_count": 5,
     "metadata": {},
     "output_type": "execute_result"
    }
   ],
   "source": [
    "def se_gano(x):\n",
    "    return int(x == 'Closed Won')\n",
    "objetivo = objetivo.apply(se_gano)\n",
    "objetivo"
   ]
  },
  {
   "cell_type": "code",
   "execution_count": 6,
   "metadata": {},
   "outputs": [
    {
     "name": "stdout",
     "output_type": "stream",
     "text": [
      "Region:5\n",
      "Territory:75\n",
      "Bureaucratic_Code:6\n",
      "Source :14\n",
      "Billing_Country:77\n",
      "Account_Name:1363\n",
      "Account_Owner:46\n",
      "Opportunity_Owner:52\n",
      "Account_Type:7\n",
      "Opportunity_Type:25\n",
      "Delivery_Terms:9\n",
      "Last_Modified_By:51\n",
      "ASP_Currency:5\n"
     ]
    }
   ],
   "source": [
    "columnas_object = list(entrenamiento.select_dtypes(include=['object']).columns)\n",
    "\n",
    "for columna in columnas_object:\n",
    "    print(columna + \":\" + str(entrenamiento[columna].value_counts().size))"
   ]
  },
  {
   "cell_type": "code",
   "execution_count": 7,
   "metadata": {},
   "outputs": [
    {
     "name": "stdout",
     "output_type": "stream",
     "text": [
      "Region\n",
      "Territory\n",
      "Bureaucratic_Code\n",
      "Source \n",
      "Billing_Country\n",
      "Account_Name\n",
      "Account_Owner\n",
      "Opportunity_Owner\n",
      "Account_Type\n",
      "Opportunity_Type\n",
      "Delivery_Terms\n",
      "Last_Modified_By\n",
      "ASP_Currency\n",
      "Region\n",
      "Territory\n",
      "Bureaucratic_Code\n",
      "Source \n",
      "Billing_Country\n",
      "Account_Name\n",
      "Account_Owner\n",
      "Opportunity_Owner\n",
      "Account_Type\n",
      "Opportunity_Type\n",
      "Delivery_Terms\n",
      "Last_Modified_By\n",
      "ASP_Currency\n"
     ]
    }
   ],
   "source": [
    "def categoricas_a_numericas(x):\n",
    "    ohe = skl.preprocessing.OrdinalEncoder()\n",
    "    for columna in columnas_object:\n",
    "        copia = x[[columna]].copy().dropna()\n",
    "        df_temp = pd.DataFrame(ohe.fit_transform(copia)).astype('int32')\n",
    "        df_temp.columns = [columna]\n",
    "        x[columna] = df_temp[columna]\n",
    "        print(columna)\n",
    "categoricas_a_numericas(entrenamiento)\n",
    "categoricas_a_numericas(test)"
   ]
  },
  {
   "cell_type": "code",
   "execution_count": 8,
   "metadata": {},
   "outputs": [
    {
     "name": "stdout",
     "output_type": "stream",
     "text": [
      "<class 'pandas.core.frame.DataFrame'>\n",
      "Int64Index: 10086 entries, 0 to 16946\n",
      "Data columns (total 33 columns):\n",
      " #   Column                              Non-Null Count  Dtype  \n",
      "---  ------                              --------------  -----  \n",
      " 0   ID                                  10086 non-null  int64  \n",
      " 1   Region                              6550 non-null   float64\n",
      " 2   Territory                           6550 non-null   float64\n",
      " 3   Pricing, Delivery_Terms_Quote_Appr  10086 non-null  int64  \n",
      " 4   Pricing, Delivery_Terms_Approved    10086 non-null  int64  \n",
      " 5   Bureaucratic_Code_0_Approval        10086 non-null  int64  \n",
      " 6   Bureaucratic_Code_0_Approved        10086 non-null  int64  \n",
      " 7   Submitted_for_Approval              10086 non-null  int64  \n",
      " 8   Bureaucratic_Code                   6550 non-null   float64\n",
      " 9   Account_Created_Date                10086 non-null  int32  \n",
      " 10  Source                              6550 non-null   float64\n",
      " 11  Billing_Country                     6550 non-null   float64\n",
      " 12  Account_Name                        6550 non-null   float64\n",
      " 13  Opportunity_ID                      10086 non-null  int64  \n",
      " 14  Account_Owner                       6550 non-null   float64\n",
      " 15  Opportunity_Owner                   6550 non-null   float64\n",
      " 16  Account_Type                        6550 non-null   float64\n",
      " 17  Opportunity_Type                    6550 non-null   float64\n",
      " 18  Delivery_Terms                      6550 non-null   float64\n",
      " 19  Opportunity_Created_Date            10086 non-null  int32  \n",
      " 20  Quote_Expiry_Date                   10086 non-null  int32  \n",
      " 21  Last_Modified_Date                  10086 non-null  int32  \n",
      " 22  Last_Modified_By                    6550 non-null   float64\n",
      " 23  ASP_Currency                        6550 non-null   float64\n",
      " 24  ASP                                 10086 non-null  float64\n",
      " 25  ASP_(converted)                     10086 non-null  float64\n",
      " 26  Planned_Delivery_Start_Date         10086 non-null  int32  \n",
      " 27  Planned_Delivery_End_Date           10086 non-null  int32  \n",
      " 28  Month                               10086 non-null  int32  \n",
      " 29  Delivery_Year                       10086 non-null  int64  \n",
      " 30  TRF                                 10086 non-null  int64  \n",
      " 31  Total_Amount                        10086 non-null  float64\n",
      " 32  Total_Taxable_Amount                10086 non-null  float64\n",
      "dtypes: float64(17), int32(7), int64(9)\n",
      "memory usage: 2.3 MB\n",
      "<class 'pandas.core.frame.DataFrame'>\n",
      "Int64Index: 1260 entries, 0 to 2550\n",
      "Data columns (total 33 columns):\n",
      " #   Column                              Non-Null Count  Dtype  \n",
      "---  ------                              --------------  -----  \n",
      " 0   ID                                  1260 non-null   int64  \n",
      " 1   Region                              636 non-null    float64\n",
      " 2   Territory                           636 non-null    float64\n",
      " 3   Pricing, Delivery_Terms_Quote_Appr  1260 non-null   int64  \n",
      " 4   Pricing, Delivery_Terms_Approved    1260 non-null   int64  \n",
      " 5   Bureaucratic_Code_0_Approval        1260 non-null   int64  \n",
      " 6   Bureaucratic_Code_0_Approved        1260 non-null   int64  \n",
      " 7   Submitted_for_Approval              1260 non-null   int64  \n",
      " 8   Bureaucratic_Code                   636 non-null    float64\n",
      " 9   Account_Created_Date                1260 non-null   int32  \n",
      " 10  Source                              636 non-null    float64\n",
      " 11  Billing_Country                     636 non-null    float64\n",
      " 12  Account_Name                        636 non-null    float64\n",
      " 13  Opportunity_ID                      1260 non-null   int64  \n",
      " 14  Account_Owner                       636 non-null    float64\n",
      " 15  Opportunity_Owner                   636 non-null    float64\n",
      " 16  Account_Type                        636 non-null    float64\n",
      " 17  Opportunity_Type                    636 non-null    float64\n",
      " 18  Delivery_Terms                      636 non-null    float64\n",
      " 19  Opportunity_Created_Date            1260 non-null   int32  \n",
      " 20  Quote_Expiry_Date                   1260 non-null   int32  \n",
      " 21  Last_Modified_Date                  1260 non-null   int32  \n",
      " 22  Last_Modified_By                    636 non-null    float64\n",
      " 23  ASP_Currency                        636 non-null    float64\n",
      " 24  ASP                                 1260 non-null   float64\n",
      " 25  ASP_(converted)                     1260 non-null   float64\n",
      " 26  Planned_Delivery_Start_Date         1260 non-null   int32  \n",
      " 27  Planned_Delivery_End_Date           1260 non-null   int32  \n",
      " 28  Month                               1260 non-null   int32  \n",
      " 29  Delivery_Year                       1260 non-null   int64  \n",
      " 30  TRF                                 1260 non-null   int64  \n",
      " 31  Total_Amount                        1260 non-null   float64\n",
      " 32  Total_Taxable_Amount                1260 non-null   float64\n",
      "dtypes: float64(17), int32(7), int64(9)\n",
      "memory usage: 300.2 KB\n"
     ]
    }
   ],
   "source": [
    "entrenamiento.info()\n",
    "test.info()"
   ]
  },
  {
   "cell_type": "code",
   "execution_count": 9,
   "metadata": {},
   "outputs": [],
   "source": [
    "d_entrenamiento = xgb.DMatrix(entrenamiento.values, objetivo.values)\n",
    "d_prueba = xgb.DMatrix(test.values)"
   ]
  },
  {
   "cell_type": "code",
   "execution_count": 10,
   "metadata": {},
   "outputs": [
    {
     "name": "stdout",
     "output_type": "stream",
     "text": [
      "[18:01:33] WARNING: C:/Users/Administrator/workspace/xgboost-win64_release_1.3.0/src/learner.cc:1061: Starting in XGBoost 1.3.0, the default evaluation metric used with the objective 'binary:logistic' was changed from 'error' to 'logloss'. Explicitly set eval_metric if you'd like to restore the old behavior.\n"
     ]
    }
   ],
   "source": [
    "param = {'max_depth':2, 'eta':1, 'objective':'binary:logistic' }\n",
    "num_round = 2\n",
    "bst = xgb.train(param, d_entrenamiento, num_round)"
   ]
  },
  {
   "cell_type": "code",
   "execution_count": 11,
   "metadata": {},
   "outputs": [],
   "source": [
    "preds = bst.predict(d_prueba)"
   ]
  },
  {
   "cell_type": "code",
   "execution_count": 18,
   "metadata": {},
   "outputs": [
    {
     "data": {
      "text/plain": [
       "0       1\n",
       "1       1\n",
       "2       1\n",
       "3       0\n",
       "4       1\n",
       "       ..\n",
       "1255    1\n",
       "1256    1\n",
       "1257    1\n",
       "1258    1\n",
       "1259    0\n",
       "Length: 1260, dtype: int64"
      ]
     },
     "execution_count": 18,
     "metadata": {},
     "output_type": "execute_result"
    }
   ],
   "source": [
    "resultados = pd.Series([int(x >= 0.5) for x in list(preds)])\n",
    "resultados"
   ]
  },
  {
   "cell_type": "code",
   "execution_count": 19,
   "metadata": {},
   "outputs": [
    {
     "data": {
      "text/plain": [
       "1    840\n",
       "0    420\n",
       "dtype: int64"
      ]
     },
     "execution_count": 19,
     "metadata": {},
     "output_type": "execute_result"
    }
   ],
   "source": [
    "resultados.value_counts()"
   ]
  },
  {
   "cell_type": "code",
   "execution_count": null,
   "metadata": {},
   "outputs": [],
   "source": []
  }
 ],
 "metadata": {
  "kernelspec": {
   "display_name": "Python 3",
   "language": "python",
   "name": "python3"
  },
  "language_info": {
   "codemirror_mode": {
    "name": "ipython",
    "version": 3
   },
   "file_extension": ".py",
   "mimetype": "text/x-python",
   "name": "python",
   "nbconvert_exporter": "python",
   "pygments_lexer": "ipython3",
   "version": "3.7.6"
  }
 },
 "nbformat": 4,
 "nbformat_minor": 4
}
