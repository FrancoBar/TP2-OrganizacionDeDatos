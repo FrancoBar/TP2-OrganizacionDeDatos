{
 "cells": [
  {
   "cell_type": "code",
   "execution_count": 1,
   "metadata": {},
   "outputs": [],
   "source": [
    "import sklearn as skl\n",
    "import pandas as pd\n",
    "import xgboost as xgb\n",
    "import numpy as np"
   ]
  },
  {
   "cell_type": "code",
   "execution_count": 2,
   "metadata": {},
   "outputs": [],
   "source": [
    "entrenamiento = pd.read_csv('Train_TP2_Datos_2020-2C.csv')\n",
    "entrenamiento = entrenamiento[( entrenamiento['Stage'] == 'Closed Won') | ( entrenamiento['Stage'] == 'Closed Lost')]\n",
    "test = pd.read_csv('Test_TP2_Datos_2020-2C.csv')"
   ]
  },
  {
   "cell_type": "code",
   "execution_count": 3,
   "metadata": {},
   "outputs": [],
   "source": [
    "#Agrego feature: Duracion por region\n",
    "duracion_region = pd.read_csv('duracion_region.csv')\n",
    "entrenamiento = entrenamiento.merge(duracion_region,on='Region',how='left')\n",
    "test = test.merge(duracion_region,on='Region',how='left')\n",
    "\n",
    "#Agrego feature: Duracion por territorio\n",
    "duracion_territorio = pd.read_csv('duracion_territorio.csv')\n",
    "entrenamiento = entrenamiento.merge(duracion_territorio,on='Territory',how='left')\n",
    "test = test.merge(duracion_territorio,on='Territory',how='left')\n",
    "\n",
    "#Agrego feature: Comportamiento segun territorio\n",
    "comportamiento_territorio =  pd.read_csv('comportamiento_territorio.csv')\n",
    "entrenamiento = entrenamiento.merge(comportamiento_territorio,on='Territory',how='left')\n",
    "test = test.merge(comportamiento_territorio,on='Territory',how='left')"
   ]
  },
  {
   "cell_type": "code",
   "execution_count": 4,
   "metadata": {},
   "outputs": [
    {
     "name": "stdout",
     "output_type": "stream",
     "text": [
      "<class 'pandas.core.frame.DataFrame'>\n",
      "RangeIndex: 44 entries, 0 to 43\n",
      "Data columns (total 12 columns):\n",
      " #   Column     Non-Null Count  Dtype  \n",
      "---  ------     --------------  -----  \n",
      " 0   Territory  44 non-null     object \n",
      " 1   0/10       44 non-null     float64\n",
      " 2   1/10       44 non-null     float64\n",
      " 3   2/10       44 non-null     float64\n",
      " 4   3/10       44 non-null     float64\n",
      " 5   4/10       44 non-null     float64\n",
      " 6   5/10       44 non-null     float64\n",
      " 7   6/10       44 non-null     float64\n",
      " 8   7/10       44 non-null     float64\n",
      " 9   8/10       44 non-null     float64\n",
      " 10  9/10       44 non-null     float64\n",
      " 11  10/10      44 non-null     float64\n",
      "dtypes: float64(11), object(1)\n",
      "memory usage: 4.2+ KB\n"
     ]
    }
   ],
   "source": [
    "comportamiento_territorio.info()"
   ]
  },
  {
   "cell_type": "code",
   "execution_count": 5,
   "metadata": {},
   "outputs": [
    {
     "name": "stdout",
     "output_type": "stream",
     "text": [
      "<class 'pandas.core.frame.DataFrame'>\n",
      "Int64Index: 9965 entries, 0 to 16882\n",
      "Data columns (total 52 columns):\n",
      " #   Column                              Non-Null Count  Dtype  \n",
      "---  ------                              --------------  -----  \n",
      " 0   ID                                  9965 non-null   int64  \n",
      " 1   Region                              9965 non-null   object \n",
      " 2   Territory                           9965 non-null   object \n",
      " 3   Pricing, Delivery_Terms_Quote_Appr  9965 non-null   int64  \n",
      " 4   Pricing, Delivery_Terms_Approved    9965 non-null   int64  \n",
      " 5   Bureaucratic_Code_0_Approval        9965 non-null   int64  \n",
      " 6   Bureaucratic_Code_0_Approved        9965 non-null   int64  \n",
      " 7   Submitted_for_Approval              9965 non-null   int64  \n",
      " 8   Bureaucratic_Code                   9965 non-null   object \n",
      " 9   Account_Created_Date                9965 non-null   int32  \n",
      " 10  Source                              9965 non-null   object \n",
      " 11  Billing_Country                     9965 non-null   object \n",
      " 12  Account_Name                        9965 non-null   object \n",
      " 13  Opportunity_ID                      9965 non-null   int64  \n",
      " 14  Account_Owner                       9965 non-null   object \n",
      " 15  Opportunity_Owner                   9965 non-null   object \n",
      " 16  Account_Type                        9965 non-null   object \n",
      " 17  Opportunity_Type                    9965 non-null   object \n",
      " 18  Delivery_Terms                      9965 non-null   object \n",
      " 19  Opportunity_Created_Date            9965 non-null   int32  \n",
      " 20  Quote_Expiry_Date                   9965 non-null   int32  \n",
      " 21  Last_Modified_Date                  9965 non-null   int32  \n",
      " 22  Last_Modified_By                    9965 non-null   object \n",
      " 23  Product_Family                      9965 non-null   object \n",
      " 24  Product_Name                        9965 non-null   object \n",
      " 25  ASP_Currency                        9965 non-null   object \n",
      " 26  ASP                                 9965 non-null   float64\n",
      " 27  ASP_(converted)                     9965 non-null   float64\n",
      " 28  Planned_Delivery_Start_Date         9965 non-null   int32  \n",
      " 29  Planned_Delivery_End_Date           9965 non-null   int32  \n",
      " 30  Month                               9965 non-null   int32  \n",
      " 31  Delivery_Quarter                    9965 non-null   object \n",
      " 32  Delivery_Year                       9965 non-null   int64  \n",
      " 33  TRF                                 9965 non-null   int64  \n",
      " 34  Total_Amount_Currency               9965 non-null   object \n",
      " 35  Total_Amount                        9965 non-null   float64\n",
      " 36  Total_Taxable_Amount_Currency       9965 non-null   object \n",
      " 37  Total_Taxable_Amount                9965 non-null   float64\n",
      " 38  Stage                               9965 non-null   object \n",
      " 39  Duracion_x                          9965 non-null   float64\n",
      " 40  Duracion_y                          9965 non-null   float64\n",
      " 41  0/10                                9965 non-null   float64\n",
      " 42  1/10                                9965 non-null   float64\n",
      " 43  2/10                                9965 non-null   float64\n",
      " 44  3/10                                9965 non-null   float64\n",
      " 45  4/10                                9965 non-null   float64\n",
      " 46  5/10                                9965 non-null   float64\n",
      " 47  6/10                                9965 non-null   float64\n",
      " 48  7/10                                9965 non-null   float64\n",
      " 49  8/10                                9965 non-null   float64\n",
      " 50  9/10                                9965 non-null   float64\n",
      " 51  10/10                               9965 non-null   float64\n",
      "dtypes: float64(17), int32(7), int64(9), object(19)\n",
      "memory usage: 3.8+ MB\n"
     ]
    }
   ],
   "source": [
    "##ENTRENAMIENTO\n",
    "\n",
    "#QUITO COLUMNAS INÚTILES\n",
    "entrenamiento = entrenamiento.drop(columns=['ASP_(converted)_Currency','Quote_Type','Brand','Product_Type','Size','Product_Category_B','Price','Currency','Last_Activity','Actual_Delivery_Date','Prod_Category_A'])\n",
    "\n",
    "#QUITO COLUMNAS CON DEMASIADOS VALORES\n",
    "entrenamiento = entrenamiento.drop(columns=['Opportunity_Name','Sales_Contract_No'])\n",
    "\n",
    "#TRANSFORMO A DIFERENCIA DE DIAS LAS FECHAS\n",
    "def formateo(x):\n",
    "    if(x == 'NaT'):\n",
    "        return x\n",
    "    cadena = x.split('/')\n",
    "    return '{dia:02}/{mes:02}/{ano}'.format(dia=int(cadena[0]), mes=int(cadena[1]),ano=int(cadena[2]))\n",
    "columnas_fecha = ['Last_Modified_Date','Account_Created_Date','Opportunity_Created_Date','Quote_Expiry_Date','Planned_Delivery_Start_Date','Planned_Delivery_End_Date']\n",
    "for columna in columnas_fecha:\n",
    "    entrenamiento[columna] = entrenamiento[columna].apply(formateo)\n",
    "    entrenamiento[columna] = pd.to_datetime(entrenamiento[columna], format='%m/%d/%Y')\n",
    "\n",
    "entrenamiento = entrenamiento.dropna()\n",
    "\n",
    "def tiempo_en_dias(x):\n",
    "    return (x - pd.to_datetime('01/01/2000', format='%m/%d/%Y')).days\n",
    "for columna in columnas_fecha:\n",
    "    entrenamiento[columna] = entrenamiento[columna].apply(tiempo_en_dias)\n",
    "    entrenamiento[columna] = entrenamiento[columna].astype('int32')\n",
    "\n",
    "#TRATAMIENTO ESPECIAL A MONTH\n",
    "def formateo_mes(x):\n",
    "    x = x.replace(\" - \",\"/\")\n",
    "    cadena = x.split('/')\n",
    "    return '{ano}/{mes:02}'.format(ano=int(cadena[0]), mes=int(cadena[1]))\n",
    "entrenamiento['Month'] = entrenamiento['Month'].apply(formateo_mes)\n",
    "entrenamiento['Month'] = pd.to_datetime(entrenamiento['Month'], format='%Y/%m')\n",
    "entrenamiento['Month'] = entrenamiento['Month'].apply(tiempo_en_dias)\n",
    "entrenamiento['Month'] = entrenamiento['Month'].astype('int32')\n",
    "\n",
    "entrenamiento.info()"
   ]
  },
  {
   "cell_type": "code",
   "execution_count": 6,
   "metadata": {},
   "outputs": [
    {
     "name": "stdout",
     "output_type": "stream",
     "text": [
      "<class 'pandas.core.frame.DataFrame'>\n",
      "Int64Index: 2551 entries, 0 to 2550\n",
      "Data columns (total 51 columns):\n",
      " #   Column                              Non-Null Count  Dtype  \n",
      "---  ------                              --------------  -----  \n",
      " 0   ID                                  2551 non-null   int64  \n",
      " 1   Region                              2551 non-null   object \n",
      " 2   Territory                           2551 non-null   object \n",
      " 3   Pricing, Delivery_Terms_Quote_Appr  2551 non-null   int64  \n",
      " 4   Pricing, Delivery_Terms_Approved    2551 non-null   int64  \n",
      " 5   Bureaucratic_Code_0_Approval        2551 non-null   int64  \n",
      " 6   Bureaucratic_Code_0_Approved        2551 non-null   int64  \n",
      " 7   Submitted_for_Approval              2551 non-null   int64  \n",
      " 8   Bureaucratic_Code                   2551 non-null   object \n",
      " 9   Account_Created_Date                2551 non-null   float64\n",
      " 10  Source                              2551 non-null   object \n",
      " 11  Billing_Country                     2551 non-null   object \n",
      " 12  Account_Name                        2551 non-null   object \n",
      " 13  Opportunity_ID                      2551 non-null   int64  \n",
      " 14  Account_Owner                       2551 non-null   object \n",
      " 15  Opportunity_Owner                   2551 non-null   object \n",
      " 16  Account_Type                        2551 non-null   object \n",
      " 17  Opportunity_Type                    2551 non-null   object \n",
      " 18  Delivery_Terms                      2551 non-null   object \n",
      " 19  Opportunity_Created_Date            2551 non-null   float64\n",
      " 20  Quote_Expiry_Date                   1315 non-null   float64\n",
      " 21  Last_Modified_Date                  2551 non-null   float64\n",
      " 22  Last_Modified_By                    2551 non-null   object \n",
      " 23  Product_Family                      2551 non-null   object \n",
      " 24  Product_Name                        2551 non-null   object \n",
      " 25  ASP_Currency                        2551 non-null   object \n",
      " 26  ASP                                 2467 non-null   float64\n",
      " 27  ASP_(converted)                     2467 non-null   float64\n",
      " 28  Planned_Delivery_Start_Date         2551 non-null   float64\n",
      " 29  Planned_Delivery_End_Date           2500 non-null   float64\n",
      " 30  Month                               2551 non-null   int32  \n",
      " 31  Delivery_Quarter                    2551 non-null   object \n",
      " 32  Delivery_Year                       2551 non-null   int64  \n",
      " 33  TRF                                 2551 non-null   int64  \n",
      " 34  Total_Amount_Currency               2551 non-null   object \n",
      " 35  Total_Amount                        2551 non-null   float64\n",
      " 36  Total_Taxable_Amount_Currency       2551 non-null   object \n",
      " 37  Total_Taxable_Amount                2551 non-null   float64\n",
      " 38  Duracion_x                          2551 non-null   float64\n",
      " 39  Duracion_y                          2532 non-null   float64\n",
      " 40  0/10                                2529 non-null   float64\n",
      " 41  1/10                                2529 non-null   float64\n",
      " 42  2/10                                2529 non-null   float64\n",
      " 43  3/10                                2529 non-null   float64\n",
      " 44  4/10                                2529 non-null   float64\n",
      " 45  5/10                                2529 non-null   float64\n",
      " 46  6/10                                2529 non-null   float64\n",
      " 47  7/10                                2529 non-null   float64\n",
      " 48  8/10                                2529 non-null   float64\n",
      " 49  9/10                                2529 non-null   float64\n",
      " 50  10/10                               2529 non-null   float64\n",
      "dtypes: float64(23), int32(1), int64(9), object(18)\n",
      "memory usage: 1.0+ MB\n"
     ]
    }
   ],
   "source": [
    "##TEST\n",
    "\n",
    "#QUITO COLUMNAS INÚTILES\n",
    "test = test.drop(columns=['ASP_(converted)_Currency','Quote_Type','Brand','Product_Type','Size','Product_Category_B','Price','Currency','Last_Activity','Actual_Delivery_Date','Prod_Category_A'])\n",
    "\n",
    "#QUITO COLUMNAS CON DEMASIADOS VALORES\n",
    "test = test.drop(columns=['Opportunity_Name','Sales_Contract_No'])\n",
    "\n",
    "#TRANSFORMO A DIFERENCIA DE DIAS LAS FECHAS\n",
    "def formateo(x):\n",
    "    if(x == 'NaT'):\n",
    "        return x\n",
    "    cadena = x.split('/')\n",
    "    return '{dia:02}/{mes:02}/{ano}'.format(dia=int(cadena[0]), mes=int(cadena[1]),ano=int(cadena[2]))\n",
    "columnas_fecha = ['Last_Modified_Date','Account_Created_Date','Opportunity_Created_Date','Quote_Expiry_Date','Planned_Delivery_Start_Date','Planned_Delivery_End_Date']\n",
    "for columna in columnas_fecha:\n",
    "    test[columna] = test[columna].apply(formateo)\n",
    "    test[columna] = pd.to_datetime(test[columna], format='%m/%d/%Y')\n",
    "\n",
    "def tiempo_en_dias(x):\n",
    "    return (x - pd.to_datetime('01/01/2000', format='%m/%d/%Y')).days\n",
    "for columna in columnas_fecha:\n",
    "    test[columna] = test[columna].apply(tiempo_en_dias)\n",
    "    test[columna] = test[columna].astype('float')\n",
    "\n",
    "#TRATAMIENTO ESPECIAL A MONTH\n",
    "def formateo_mes(x):\n",
    "    x = x.replace(\" - \",\"/\")\n",
    "    cadena = x.split('/')\n",
    "    return '{ano}/{mes:02}'.format(ano=int(cadena[0]), mes=int(cadena[1]))\n",
    "test['Month'] = test['Month'].apply(formateo_mes)\n",
    "test['Month'] = pd.to_datetime(test['Month'], format='%Y/%m')\n",
    "test['Month'] = test['Month'].apply(tiempo_en_dias)\n",
    "test['Month'] = test['Month'].astype('int32')\n",
    "\n",
    "test.info()"
   ]
  },
  {
   "cell_type": "code",
   "execution_count": 7,
   "metadata": {},
   "outputs": [
    {
     "data": {
      "text/plain": [
       "12266    26\n",
       "10973    24\n",
       "11089    18\n",
       "11869    15\n",
       "11248    11\n",
       "         ..\n",
       "11778     1\n",
       "12181     1\n",
       "12179     1\n",
       "11518     1\n",
       "11488     1\n",
       "Name: Opportunity_ID, Length: 1567, dtype: int64"
      ]
     },
     "execution_count": 7,
     "metadata": {},
     "output_type": "execute_result"
    }
   ],
   "source": [
    "test['Opportunity_ID'].value_counts()"
   ]
  },
  {
   "cell_type": "code",
   "execution_count": 8,
   "metadata": {},
   "outputs": [
    {
     "name": "stdout",
     "output_type": "stream",
     "text": [
      "<class 'pandas.core.frame.DataFrame'>\n",
      "Int64Index: 9965 entries, 0 to 16882\n",
      "Data columns (total 51 columns):\n",
      " #   Column                              Non-Null Count  Dtype  \n",
      "---  ------                              --------------  -----  \n",
      " 0   ID                                  9965 non-null   int64  \n",
      " 1   Region                              9965 non-null   object \n",
      " 2   Territory                           9965 non-null   object \n",
      " 3   Pricing, Delivery_Terms_Quote_Appr  9965 non-null   int64  \n",
      " 4   Pricing, Delivery_Terms_Approved    9965 non-null   int64  \n",
      " 5   Bureaucratic_Code_0_Approval        9965 non-null   int64  \n",
      " 6   Bureaucratic_Code_0_Approved        9965 non-null   int64  \n",
      " 7   Submitted_for_Approval              9965 non-null   int64  \n",
      " 8   Bureaucratic_Code                   9965 non-null   object \n",
      " 9   Account_Created_Date                9965 non-null   int32  \n",
      " 10  Source                              9965 non-null   object \n",
      " 11  Billing_Country                     9965 non-null   object \n",
      " 12  Account_Name                        9965 non-null   object \n",
      " 13  Opportunity_ID                      9965 non-null   int64  \n",
      " 14  Account_Owner                       9965 non-null   object \n",
      " 15  Opportunity_Owner                   9965 non-null   object \n",
      " 16  Account_Type                        9965 non-null   object \n",
      " 17  Opportunity_Type                    9965 non-null   object \n",
      " 18  Delivery_Terms                      9965 non-null   object \n",
      " 19  Opportunity_Created_Date            9965 non-null   int32  \n",
      " 20  Quote_Expiry_Date                   9965 non-null   int32  \n",
      " 21  Last_Modified_Date                  9965 non-null   int32  \n",
      " 22  Last_Modified_By                    9965 non-null   object \n",
      " 23  Product_Family                      9965 non-null   object \n",
      " 24  Product_Name                        9965 non-null   object \n",
      " 25  ASP_Currency                        9965 non-null   object \n",
      " 26  ASP                                 9965 non-null   float64\n",
      " 27  ASP_(converted)                     9965 non-null   float64\n",
      " 28  Planned_Delivery_Start_Date         9965 non-null   int32  \n",
      " 29  Planned_Delivery_End_Date           9965 non-null   int32  \n",
      " 30  Month                               9965 non-null   int32  \n",
      " 31  Delivery_Quarter                    9965 non-null   object \n",
      " 32  Delivery_Year                       9965 non-null   int64  \n",
      " 33  TRF                                 9965 non-null   int64  \n",
      " 34  Total_Amount_Currency               9965 non-null   object \n",
      " 35  Total_Amount                        9965 non-null   float64\n",
      " 36  Total_Taxable_Amount_Currency       9965 non-null   object \n",
      " 37  Total_Taxable_Amount                9965 non-null   float64\n",
      " 38  Duracion_x                          9965 non-null   float64\n",
      " 39  Duracion_y                          9965 non-null   float64\n",
      " 40  0/10                                9965 non-null   float64\n",
      " 41  1/10                                9965 non-null   float64\n",
      " 42  2/10                                9965 non-null   float64\n",
      " 43  3/10                                9965 non-null   float64\n",
      " 44  4/10                                9965 non-null   float64\n",
      " 45  5/10                                9965 non-null   float64\n",
      " 46  6/10                                9965 non-null   float64\n",
      " 47  7/10                                9965 non-null   float64\n",
      " 48  8/10                                9965 non-null   float64\n",
      " 49  9/10                                9965 non-null   float64\n",
      " 50  10/10                               9965 non-null   float64\n",
      "dtypes: float64(17), int32(7), int64(9), object(18)\n",
      "memory usage: 3.7+ MB\n"
     ]
    }
   ],
   "source": [
    "#QUITO STAGE\n",
    "objetivo = entrenamiento.pop('Stage')\n",
    "entrenamiento.info()"
   ]
  },
  {
   "cell_type": "code",
   "execution_count": 9,
   "metadata": {},
   "outputs": [
    {
     "data": {
      "text/plain": [
       "0        0\n",
       "1        1\n",
       "2        1\n",
       "4        0\n",
       "5        0\n",
       "        ..\n",
       "16875    1\n",
       "16876    0\n",
       "16877    0\n",
       "16881    0\n",
       "16882    0\n",
       "Name: Stage, Length: 9965, dtype: int64"
      ]
     },
     "execution_count": 9,
     "metadata": {},
     "output_type": "execute_result"
    }
   ],
   "source": [
    "def se_gano(x):\n",
    "    return int(x == 'Closed Won')\n",
    "objetivo = objetivo.apply(se_gano)\n",
    "objetivo"
   ]
  },
  {
   "cell_type": "code",
   "execution_count": 10,
   "metadata": {},
   "outputs": [
    {
     "name": "stdout",
     "output_type": "stream",
     "text": [
      "Region:5\n",
      "Territory:44\n",
      "Bureaucratic_Code:6\n",
      "Source :14\n",
      "Billing_Country:65\n",
      "Account_Name:1320\n",
      "Account_Owner:45\n",
      "Opportunity_Owner:52\n",
      "Account_Type:7\n",
      "Opportunity_Type:25\n",
      "Delivery_Terms:9\n",
      "Last_Modified_By:50\n",
      "Product_Family:198\n",
      "Product_Name:396\n",
      "ASP_Currency:5\n",
      "Delivery_Quarter:4\n",
      "Total_Amount_Currency:5\n",
      "Total_Taxable_Amount_Currency:5\n"
     ]
    }
   ],
   "source": [
    "columnas_object = list(entrenamiento.select_dtypes(include=['object']).columns)\n",
    "\n",
    "for columna in columnas_object:\n",
    "    print(columna + \":\" + str(entrenamiento[columna].value_counts().size))"
   ]
  },
  {
   "cell_type": "code",
   "execution_count": 11,
   "metadata": {},
   "outputs": [
    {
     "name": "stdout",
     "output_type": "stream",
     "text": [
      "Region\n",
      "Territory\n",
      "Bureaucratic_Code\n",
      "Source \n",
      "Billing_Country\n",
      "Account_Name\n",
      "Account_Owner\n",
      "Opportunity_Owner\n",
      "Account_Type\n",
      "Opportunity_Type\n",
      "Delivery_Terms\n",
      "Last_Modified_By\n",
      "Product_Family\n",
      "Product_Name\n",
      "ASP_Currency\n",
      "Delivery_Quarter\n",
      "Total_Amount_Currency\n",
      "Total_Taxable_Amount_Currency\n",
      "Region\n",
      "Territory\n",
      "Bureaucratic_Code\n",
      "Source \n",
      "Billing_Country\n",
      "Account_Name\n",
      "Account_Owner\n",
      "Opportunity_Owner\n",
      "Account_Type\n",
      "Opportunity_Type\n",
      "Delivery_Terms\n",
      "Last_Modified_By\n",
      "Product_Family\n",
      "Product_Name\n",
      "ASP_Currency\n",
      "Delivery_Quarter\n",
      "Total_Amount_Currency\n",
      "Total_Taxable_Amount_Currency\n"
     ]
    }
   ],
   "source": [
    "def categoricas_a_numericas(x):\n",
    "    ohe = skl.preprocessing.OrdinalEncoder()\n",
    "    for columna in columnas_object:\n",
    "        copia = x[[columna]].copy().dropna()\n",
    "        df_temp = pd.DataFrame(ohe.fit_transform(copia)).astype('int32')\n",
    "        df_temp.columns = [columna]\n",
    "        x[columna] = df_temp[columna]\n",
    "        print(columna)\n",
    "categoricas_a_numericas(entrenamiento)\n",
    "categoricas_a_numericas(test)"
   ]
  },
  {
   "cell_type": "code",
   "execution_count": 12,
   "metadata": {},
   "outputs": [
    {
     "name": "stdout",
     "output_type": "stream",
     "text": [
      "<class 'pandas.core.frame.DataFrame'>\n",
      "Int64Index: 9965 entries, 0 to 16882\n",
      "Data columns (total 51 columns):\n",
      " #   Column                              Non-Null Count  Dtype  \n",
      "---  ------                              --------------  -----  \n",
      " 0   ID                                  9965 non-null   int64  \n",
      " 1   Region                              6412 non-null   float64\n",
      " 2   Territory                           6412 non-null   float64\n",
      " 3   Pricing, Delivery_Terms_Quote_Appr  9965 non-null   int64  \n",
      " 4   Pricing, Delivery_Terms_Approved    9965 non-null   int64  \n",
      " 5   Bureaucratic_Code_0_Approval        9965 non-null   int64  \n",
      " 6   Bureaucratic_Code_0_Approved        9965 non-null   int64  \n",
      " 7   Submitted_for_Approval              9965 non-null   int64  \n",
      " 8   Bureaucratic_Code                   6412 non-null   float64\n",
      " 9   Account_Created_Date                9965 non-null   int32  \n",
      " 10  Source                              6412 non-null   float64\n",
      " 11  Billing_Country                     6412 non-null   float64\n",
      " 12  Account_Name                        6412 non-null   float64\n",
      " 13  Opportunity_ID                      9965 non-null   int64  \n",
      " 14  Account_Owner                       6412 non-null   float64\n",
      " 15  Opportunity_Owner                   6412 non-null   float64\n",
      " 16  Account_Type                        6412 non-null   float64\n",
      " 17  Opportunity_Type                    6412 non-null   float64\n",
      " 18  Delivery_Terms                      6412 non-null   float64\n",
      " 19  Opportunity_Created_Date            9965 non-null   int32  \n",
      " 20  Quote_Expiry_Date                   9965 non-null   int32  \n",
      " 21  Last_Modified_Date                  9965 non-null   int32  \n",
      " 22  Last_Modified_By                    6412 non-null   float64\n",
      " 23  Product_Family                      6412 non-null   float64\n",
      " 24  Product_Name                        6412 non-null   float64\n",
      " 25  ASP_Currency                        6412 non-null   float64\n",
      " 26  ASP                                 9965 non-null   float64\n",
      " 27  ASP_(converted)                     9965 non-null   float64\n",
      " 28  Planned_Delivery_Start_Date         9965 non-null   int32  \n",
      " 29  Planned_Delivery_End_Date           9965 non-null   int32  \n",
      " 30  Month                               9965 non-null   int32  \n",
      " 31  Delivery_Quarter                    6412 non-null   float64\n",
      " 32  Delivery_Year                       9965 non-null   int64  \n",
      " 33  TRF                                 9965 non-null   int64  \n",
      " 34  Total_Amount_Currency               6412 non-null   float64\n",
      " 35  Total_Amount                        9965 non-null   float64\n",
      " 36  Total_Taxable_Amount_Currency       6412 non-null   float64\n",
      " 37  Total_Taxable_Amount                9965 non-null   float64\n",
      " 38  Duracion_x                          9965 non-null   float64\n",
      " 39  Duracion_y                          9965 non-null   float64\n",
      " 40  0/10                                9965 non-null   float64\n",
      " 41  1/10                                9965 non-null   float64\n",
      " 42  2/10                                9965 non-null   float64\n",
      " 43  3/10                                9965 non-null   float64\n",
      " 44  4/10                                9965 non-null   float64\n",
      " 45  5/10                                9965 non-null   float64\n",
      " 46  6/10                                9965 non-null   float64\n",
      " 47  7/10                                9965 non-null   float64\n",
      " 48  8/10                                9965 non-null   float64\n",
      " 49  9/10                                9965 non-null   float64\n",
      " 50  10/10                               9965 non-null   float64\n",
      "dtypes: float64(35), int32(7), int64(9)\n",
      "memory usage: 3.7 MB\n",
      "<class 'pandas.core.frame.DataFrame'>\n",
      "Int64Index: 2551 entries, 0 to 2550\n",
      "Data columns (total 51 columns):\n",
      " #   Column                              Non-Null Count  Dtype  \n",
      "---  ------                              --------------  -----  \n",
      " 0   ID                                  2551 non-null   int64  \n",
      " 1   Region                              2551 non-null   int32  \n",
      " 2   Territory                           2551 non-null   int32  \n",
      " 3   Pricing, Delivery_Terms_Quote_Appr  2551 non-null   int64  \n",
      " 4   Pricing, Delivery_Terms_Approved    2551 non-null   int64  \n",
      " 5   Bureaucratic_Code_0_Approval        2551 non-null   int64  \n",
      " 6   Bureaucratic_Code_0_Approved        2551 non-null   int64  \n",
      " 7   Submitted_for_Approval              2551 non-null   int64  \n",
      " 8   Bureaucratic_Code                   2551 non-null   int32  \n",
      " 9   Account_Created_Date                2551 non-null   float64\n",
      " 10  Source                              2551 non-null   int32  \n",
      " 11  Billing_Country                     2551 non-null   int32  \n",
      " 12  Account_Name                        2551 non-null   int32  \n",
      " 13  Opportunity_ID                      2551 non-null   int64  \n",
      " 14  Account_Owner                       2551 non-null   int32  \n",
      " 15  Opportunity_Owner                   2551 non-null   int32  \n",
      " 16  Account_Type                        2551 non-null   int32  \n",
      " 17  Opportunity_Type                    2551 non-null   int32  \n",
      " 18  Delivery_Terms                      2551 non-null   int32  \n",
      " 19  Opportunity_Created_Date            2551 non-null   float64\n",
      " 20  Quote_Expiry_Date                   1315 non-null   float64\n",
      " 21  Last_Modified_Date                  2551 non-null   float64\n",
      " 22  Last_Modified_By                    2551 non-null   int32  \n",
      " 23  Product_Family                      2551 non-null   int32  \n",
      " 24  Product_Name                        2551 non-null   int32  \n",
      " 25  ASP_Currency                        2551 non-null   int32  \n",
      " 26  ASP                                 2467 non-null   float64\n",
      " 27  ASP_(converted)                     2467 non-null   float64\n",
      " 28  Planned_Delivery_Start_Date         2551 non-null   float64\n",
      " 29  Planned_Delivery_End_Date           2500 non-null   float64\n",
      " 30  Month                               2551 non-null   int32  \n",
      " 31  Delivery_Quarter                    2551 non-null   int32  \n",
      " 32  Delivery_Year                       2551 non-null   int64  \n",
      " 33  TRF                                 2551 non-null   int64  \n",
      " 34  Total_Amount_Currency               2551 non-null   int32  \n",
      " 35  Total_Amount                        2551 non-null   float64\n",
      " 36  Total_Taxable_Amount_Currency       2551 non-null   int32  \n",
      " 37  Total_Taxable_Amount                2551 non-null   float64\n",
      " 38  Duracion_x                          2551 non-null   float64\n",
      " 39  Duracion_y                          2532 non-null   float64\n",
      " 40  0/10                                2529 non-null   float64\n",
      " 41  1/10                                2529 non-null   float64\n",
      " 42  2/10                                2529 non-null   float64\n",
      " 43  3/10                                2529 non-null   float64\n",
      " 44  4/10                                2529 non-null   float64\n",
      " 45  5/10                                2529 non-null   float64\n",
      " 46  6/10                                2529 non-null   float64\n",
      " 47  7/10                                2529 non-null   float64\n",
      " 48  8/10                                2529 non-null   float64\n",
      " 49  9/10                                2529 non-null   float64\n",
      " 50  10/10                               2529 non-null   float64\n",
      "dtypes: float64(23), int32(19), int64(9)\n",
      "memory usage: 847.0 KB\n"
     ]
    }
   ],
   "source": [
    "entrenamiento.info()\n",
    "test.info()"
   ]
  },
  {
   "cell_type": "code",
   "execution_count": 13,
   "metadata": {},
   "outputs": [],
   "source": [
    "d_entrenamiento = xgb.DMatrix(entrenamiento.values, objetivo.values)\n",
    "d_prueba = xgb.DMatrix(test.values)"
   ]
  },
  {
   "cell_type": "code",
   "execution_count": 14,
   "metadata": {},
   "outputs": [
    {
     "name": "stdout",
     "output_type": "stream",
     "text": [
      "[00:08:50] WARNING: C:/Users/Administrator/workspace/xgboost-win64_release_1.3.0/src/learner.cc:1061: Starting in XGBoost 1.3.0, the default evaluation metric used with the objective 'binary:logistic' was changed from 'error' to 'logloss'. Explicitly set eval_metric if you'd like to restore the old behavior.\n"
     ]
    }
   ],
   "source": [
    "param = {'max_depth':5, 'eta':0.6, 'objective':'binary:logistic' }\n",
    "num_round = 5\n",
    "bst = xgb.train(param, d_entrenamiento, num_round)"
   ]
  },
  {
   "cell_type": "code",
   "execution_count": 15,
   "metadata": {},
   "outputs": [],
   "source": [
    "preds = bst.predict(d_prueba)"
   ]
  },
  {
   "cell_type": "code",
   "execution_count": 16,
   "metadata": {},
   "outputs": [],
   "source": [
    "#pd.Series([ for x in list(preds)])\n",
    "resultados = test[['Opportunity_ID']].copy()\n",
    "resultados['Target'] = pd.Series(preds)\n",
    "resultados = resultados.groupby('Opportunity_ID').mean()\n",
    "resultados = resultados.reset_index()\n",
    "def temp(x):\n",
    "    return int(x >= 0.5)\n",
    "resultados['Target'] = resultados['Target'].apply(temp)"
   ]
  },
  {
   "cell_type": "code",
   "execution_count": 17,
   "metadata": {},
   "outputs": [],
   "source": [
    "resultados.to_csv(\"prediccion.csv\", index=False)"
   ]
  },
  {
   "cell_type": "code",
   "execution_count": 18,
   "metadata": {},
   "outputs": [
    {
     "data": {
      "text/plain": [
       "1    849\n",
       "0    718\n",
       "Name: Target, dtype: int64"
      ]
     },
     "execution_count": 18,
     "metadata": {},
     "output_type": "execute_result"
    }
   ],
   "source": [
    "resultados['Target'].value_counts()"
   ]
  },
  {
   "cell_type": "code",
   "execution_count": 19,
   "metadata": {},
   "outputs": [
    {
     "name": "stdout",
     "output_type": "stream",
     "text": [
      "<class 'pandas.core.frame.DataFrame'>\n",
      "RangeIndex: 1567 entries, 0 to 1566\n",
      "Data columns (total 2 columns):\n",
      " #   Column          Non-Null Count  Dtype\n",
      "---  ------          --------------  -----\n",
      " 0   Opportunity_ID  1567 non-null   int64\n",
      " 1   Target          1567 non-null   int64\n",
      "dtypes: int64(2)\n",
      "memory usage: 24.6 KB\n"
     ]
    }
   ],
   "source": [
    "resultados.info()"
   ]
  },
  {
   "cell_type": "code",
   "execution_count": null,
   "metadata": {},
   "outputs": [],
   "source": []
  }
 ],
 "metadata": {
  "kernelspec": {
   "display_name": "Python 3",
   "language": "python",
   "name": "python3"
  },
  "language_info": {
   "codemirror_mode": {
    "name": "ipython",
    "version": 3
   },
   "file_extension": ".py",
   "mimetype": "text/x-python",
   "name": "python",
   "nbconvert_exporter": "python",
   "pygments_lexer": "ipython3",
   "version": "3.7.6"
  }
 },
 "nbformat": 4,
 "nbformat_minor": 4
}
