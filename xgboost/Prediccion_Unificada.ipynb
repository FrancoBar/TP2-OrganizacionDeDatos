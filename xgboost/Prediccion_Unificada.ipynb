{
 "cells": [
  {
   "cell_type": "code",
   "execution_count": 1,
   "metadata": {},
   "outputs": [],
   "source": [
    "import xgboost as xgb\n",
    "import pandas as pd\n",
    "import matplotlib.pyplot as plt\n",
    "import numpy as np\n",
    "import sklearn as skl\n",
    "from sklearn.model_selection import train_test_split\n",
    "from sklearn.metrics import confusion_matrix\n",
    "from sklearn.metrics import accuracy_score\n",
    "from sklearn.metrics import classification_report\n",
    "from datetime import datetime\n",
    "from itertools import combinations"
   ]
  },
  {
   "cell_type": "code",
   "execution_count": 2,
   "metadata": {},
   "outputs": [],
   "source": [
    "entrenamiento = pd.read_csv(\"../Train_TP2_Datos_2020-2C.csv\")\n",
    "test_real     = pd.read_csv(\"../Test_TP2_Datos_2020-2C.csv\")"
   ]
  },
  {
   "cell_type": "code",
   "execution_count": 3,
   "metadata": {},
   "outputs": [],
   "source": [
    "#LIMPIEZA\n",
    "\n",
    "entrenamiento = entrenamiento[( entrenamiento['Stage'] == 'Closed Won') | ( entrenamiento['Stage'] == 'Closed Lost')]\n",
    "\n",
    "def limpiar(x):\n",
    "    x = x.drop(columns=['ASP_(converted)_Currency','Quote_Type','Brand','Product_Type','Size','Product_Category_B','Price','Currency','Last_Activity','Actual_Delivery_Date','Prod_Category_A'])\n",
    "    x = x.drop(columns=['Opportunity_Name','Sales_Contract_No'])\n",
    "    return x\n",
    "\n",
    "entrenamiento = limpiar(entrenamiento)\n",
    "test_real = limpiar(test_real)"
   ]
  },
  {
   "cell_type": "code",
   "execution_count": 4,
   "metadata": {},
   "outputs": [],
   "source": [
    "#FORMATO FECHAS\n",
    "\n",
    "#Respalda fecha, usada para separa set_train y set_test\n",
    "entrenamiento['Fecha'] = pd.to_datetime(entrenamiento['Opportunity_Created_Date'])\n",
    "columnas_fecha = ['Month','Last_Modified_Date','Account_Created_Date','Opportunity_Created_Date','Quote_Expiry_Date','Planned_Delivery_Start_Date','Planned_Delivery_End_Date']\n",
    "\n",
    "def formato_fechas(x):\n",
    "    for columna in columnas_fecha:\n",
    "        x[columna] = pd.to_datetime(x[columna])\n",
    "        \n",
    "formato_fechas(entrenamiento)\n",
    "formato_fechas(test_real)"
   ]
  },
  {
   "cell_type": "code",
   "execution_count": 9,
   "metadata": {},
   "outputs": [],
   "source": [
    "#Nuevos Features\n"
   ]
  },
  {
   "cell_type": "code",
   "execution_count": 5,
   "metadata": {},
   "outputs": [],
   "source": [
    "#Agrego feature: Duracion por region\n",
    "duracion_region = pd.read_csv('duracion_region.csv')\n",
    "entrenamiento = entrenamiento.merge(duracion_region,on='Region',how='left')\n",
    "test_real = test_real.merge(duracion_region,on='Region',how='left')\n",
    "\n",
    "#Agrego feature: Duracion por territorio\n",
    "duracion_territorio = pd.read_csv('duracion_territorio.csv')\n",
    "entrenamiento = entrenamiento.merge(duracion_territorio,on='Territory',how='left')\n",
    "test_real = test_real.merge(duracion_territorio,on='Territory',how='left')\n",
    "\n",
    "#Agrego feature: Comportamiento segun territorio\n",
    "comportamiento_territorio =  pd.read_csv('comportamiento_territorio.csv')\n",
    "entrenamiento = entrenamiento.merge(comportamiento_territorio,on='Territory',how='left')\n",
    "test_real = test_real.merge(comportamiento_territorio,on='Territory',how='left')"
   ]
  },
  {
   "cell_type": "code",
   "execution_count": 6,
   "metadata": {},
   "outputs": [],
   "source": [
    "#FECHAS A DIAS\n",
    "def fecha_a_dias(x):\n",
    "    for columna in columnas_fecha:\n",
    "        x[columna] = x[columna].apply(lambda x : (x - pd.to_datetime('01/01/2000', format='%m/%d/%Y')).days)\n",
    "\n",
    "fecha_a_dias(entrenamiento)\n",
    "fecha_a_dias(test_real)"
   ]
  },
  {
   "cell_type": "code",
   "execution_count": 7,
   "metadata": {},
   "outputs": [],
   "source": [
    "#QUITO STAGE\n",
    "#objetivo = entrenamiento.pop('Stage')\n",
    "#objetivo = objetivo.apply(lambda x : int(x == 'Closed Won'))\n",
    "#objetivo"
   ]
  },
  {
   "cell_type": "code",
   "execution_count": 8,
   "metadata": {},
   "outputs": [],
   "source": [
    "#CATEGORICAS A NUMERICAS  - TEMP\n",
    "def categoricas_a_numericas(x):\n",
    "    ohe = skl.preprocessing.OrdinalEncoder()\n",
    "    columnas_object = list(x.select_dtypes(include=['object']).columns)\n",
    "    if 'Stage' in columnas_object : columnas_object.remove('Stage')\n",
    "    for columna in columnas_object:\n",
    "        copia = x[[columna]].copy().dropna()\n",
    "        df_temp = pd.DataFrame(ohe.fit_transform(copia)).astype('int32')\n",
    "        df_temp.columns = [columna]\n",
    "        x[columna] = df_temp[columna]\n",
    "\n",
    "categoricas_a_numericas(entrenamiento)\n",
    "categoricas_a_numericas(test_real)"
   ]
  },
  {
   "cell_type": "code",
   "execution_count": 10,
   "metadata": {},
   "outputs": [],
   "source": [
    "#Filtrado de columnas - No remover Stage o Fecha\n",
    "#entrenamiento = entrenamiento[['Total_Amount_Currency']]"
   ]
  },
  {
   "cell_type": "code",
   "execution_count": 11,
   "metadata": {},
   "outputs": [],
   "source": [
    "#Division entre set_datos y set_test\n",
    "\n",
    "set_train = entrenamiento.loc[entrenamiento['Fecha'].dt.year == 2015]\n",
    "set_test = entrenamiento.loc[entrenamiento['Fecha'].dt.year == 2016]\n",
    "set_train_label = (set_train['Stage'] == 'Closed Won').astype(int)\n",
    "set_test_label = (set_test['Stage'] == 'Closed Won').astype(int)\n",
    "\n",
    "set_train = xgb.DMatrix(set_train.drop(columns=['Stage','Fecha']),label = set_train_label)\n",
    "set_test  = xgb.DMatrix(set_test .drop(columns=['Stage','Fecha']),label = set_test_label)\n",
    "evaluacion = [(set_test, 'eval'), (set_train, 'train')]\n",
    "\n",
    "#entrenamiento = entrenamiento.drop(columns=['Fecha','Stage'])"
   ]
  },
  {
   "cell_type": "code",
   "execution_count": 12,
   "metadata": {},
   "outputs": [
    {
     "name": "stdout",
     "output_type": "stream",
     "text": [
      "[18:58:40] WARNING: C:/Users/Administrator/workspace/xgboost-win64_release_1.3.0/src/learner.cc:1061: Starting in XGBoost 1.3.0, the default evaluation metric used with the objective 'binary:logistic' was changed from 'error' to 'logloss'. Explicitly set eval_metric if you'd like to restore the old behavior.\n",
      "[0]\teval-logloss:0.57944\ttrain-logloss:0.51818\n",
      "[1]\teval-logloss:0.52095\ttrain-logloss:0.40757\n",
      "[2]\teval-logloss:0.49125\ttrain-logloss:0.34181\n",
      "[3]\teval-logloss:0.46629\ttrain-logloss:0.29292\n",
      "[4]\teval-logloss:0.45428\ttrain-logloss:0.25363\n"
     ]
    },
    {
     "data": {
      "image/png": "[encoded data removed]",
      "text/plain": [
       "<Figure size 432x288 with 1 Axes>"
      ]
     },
     "metadata": {
      "needs_background": "light"
     },
     "output_type": "display_data"
    }
   ],
   "source": [
    "parametros = {\"booster\":\"gbtree\", \"max_depth\":3, \"eta\": 0.3, \"objective\": \"binary:logistic\", \"nthread\":2,\"gamma\" : 0}\n",
    "rondas = 5\n",
    "\n",
    "modelo = xgb.train(parametros, set_train, rondas, evaluacion)\n",
    "\n",
    "xgb.plot_importance(modelo)\n",
    "plt.show()"
   ]
  },
  {
   "cell_type": "code",
   "execution_count": 13,
   "metadata": {},
   "outputs": [
    {
     "name": "stdout",
     "output_type": "stream",
     "text": [
      "Prediccion Test\n",
      "[[1927  330]\n",
      " [ 744 1354]]\n",
      "0.7533869115958668\n",
      "              precision    recall  f1-score   support\n",
      "\n",
      "           0       0.72      0.85      0.78      2257\n",
      "           1       0.80      0.65      0.72      2098\n",
      "\n",
      "    accuracy                           0.75      4355\n",
      "   macro avg       0.76      0.75      0.75      4355\n",
      "weighted avg       0.76      0.75      0.75      4355\n",
      "\n",
      "8.51777490592102\n",
      "Prediccion Train\n",
      "[[704  32]\n",
      " [ 48 228]]\n",
      "0.9209486166007905\n",
      "              precision    recall  f1-score   support\n",
      "\n",
      "           0       0.94      0.96      0.95       736\n",
      "           1       0.88      0.83      0.85       276\n",
      "\n",
      "    accuracy                           0.92      1012\n",
      "   macro avg       0.91      0.89      0.90      1012\n",
      "weighted avg       0.92      0.92      0.92      1012\n",
      "\n"
     ]
    },
    {
     "data": {
      "text/plain": [
       "[None, None, None]"
      ]
     },
     "execution_count": 13,
     "metadata": {},
     "output_type": "execute_result"
    }
   ],
   "source": [
    "prediccion = modelo.predict(set_test)\n",
    "\n",
    "prediccion = [1 if i > .5 else 0 for i in prediccion]\n",
    "\n",
    "def metricas(objetivo, prediccion):\n",
    "    matriz_conf = confusion_matrix(objetivo, prediccion)\n",
    "    score = accuracy_score(objetivo, prediccion)\n",
    "    reporte = classification_report(objetivo, prediccion)\n",
    "    metricas = [matriz_conf, score, reporte]\n",
    "    return(metricas)\n",
    "\n",
    "metrics = metricas(set_test_label, prediccion)\n",
    "print(\"Prediccion Test\")\n",
    "[print(i) for i in metrics]\n",
    "print(skl.metrics.log_loss(set_test_label,prediccion))\n",
    "\n",
    "prediccion = modelo.predict(set_train)\n",
    "prediccion = [1 if i > .5 else 0 for i in prediccion]\n",
    "metricas = metricas(set_train_label, prediccion)\n",
    "print(\"Prediccion Train\")\n",
    "[print(i) for i in metricas]"
   ]
  },
  {
   "cell_type": "code",
   "execution_count": null,
   "metadata": {},
   "outputs": [],
   "source": []
  }
 ],
 "metadata": {
  "kernelspec": {
   "display_name": "Python 3",
   "language": "python",
   "name": "python3"
  },
  "language_info": {
   "codemirror_mode": {
    "name": "ipython",
    "version": 3
   },
   "file_extension": ".py",
   "mimetype": "text/x-python",
   "name": "python",
   "nbconvert_exporter": "python",
   "pygments_lexer": "ipython3",
   "version": "3.7.6"
  }
 },
 "nbformat": 4,
 "nbformat_minor": 4
}
