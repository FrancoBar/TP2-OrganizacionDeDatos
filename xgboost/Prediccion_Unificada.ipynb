{
 "cells": [
  {
   "cell_type": "code",
   "execution_count": 1,
   "metadata": {},
   "outputs": [],
   "source": [
    "import sys\n",
    "import xgboost as xgb\n",
    "import pandas as pd\n",
    "import matplotlib.pyplot as plt\n",
    "import numpy as np\n",
    "import sklearn as skl\n",
    "from sklearn.model_selection import train_test_split\n",
    "from sklearn.metrics import confusion_matrix\n",
    "from sklearn.metrics import accuracy_score\n",
    "from sklearn.metrics import classification_report\n",
    "from datetime import datetime\n",
    "from itertools import combinations\n",
    "\n",
    "PREDICCION_REAL = False\n",
    "MAXIMIZAR_HIPERPARAMETROS = False\n",
    "PARAMETROS = {\"booster\":\"gbtree\", \"max_depth\":4, \"eta\": 0.4, \"objective\": \"binary:logistic\", \"nthread\":2,\"gamma\" : 0}\n",
    "RONDAS = 30"
   ]
  },
  {
   "cell_type": "code",
   "execution_count": 2,
   "metadata": {},
   "outputs": [],
   "source": [
    "#APERTURA DE ARCHIVO DE ARCHIVOS\n",
    "entrenamiento_temp = pd.read_csv(\"../Train_TP2_Datos_2020-2C.csv\")\n",
    "entrenamiento_temp = entrenamiento_temp[( entrenamiento_temp['Stage'] == 'Closed Won') | ( entrenamiento_temp['Stage'] == 'Closed Lost')]\n",
    "entrenamiento_temp = entrenamiento_temp.loc[(entrenamiento_temp[\"ASP_Currency\"] == entrenamiento_temp[\"Total_Taxable_Amount_Currency\"])]\n",
    "#entrenamiento = entrenamiento.loc[entrenamiento[\"Total_Taxable_Amount\"] > 0]\n",
    "\n",
    "test = pd.read_csv(\"../Test_TP2_Datos_2020-2C.csv\")"
   ]
  },
  {
   "cell_type": "code",
   "execution_count": 3,
   "metadata": {},
   "outputs": [],
   "source": [
    "#FORMATO FECHAS\n",
    "\n",
    "#Respalda fecha, usada para separa entrenamiento y test\n",
    "entrenamiento_temp['Fecha'] = pd.to_datetime(entrenamiento_temp['Opportunity_Created_Date'])\n",
    "columnas_fecha = ['Month','Last_Modified_Date','Account_Created_Date','Opportunity_Created_Date','Quote_Expiry_Date','Planned_Delivery_Start_Date','Planned_Delivery_End_Date']\n",
    "\n",
    "def formato_fechas(x):\n",
    "    for columna in columnas_fecha:\n",
    "        x[columna] = pd.to_datetime(x[columna])\n",
    "        \n",
    "formato_fechas(entrenamiento_temp)\n",
    "if(PREDICCION_REAL): \n",
    "    formato_fechas(test)"
   ]
  },
  {
   "cell_type": "code",
   "execution_count": 4,
   "metadata": {},
   "outputs": [],
   "source": [
    "#DIVISION ENTRE SET DE ENTRENAMIENTO Y SET DE TEST\n",
    "\n",
    "if(PREDICCION_REAL):\n",
    "    entrenamiento = entrenamiento_temp\n",
    "else:\n",
    "    entrenamiento = entrenamiento_temp.loc[entrenamiento_temp['Fecha'].dt.year == 2015].copy()\n",
    "    test          = entrenamiento_temp.loc[entrenamiento_temp['Fecha'].dt.year == 2016].copy()\n",
    "    entrenamiento_label = (entrenamiento['Stage'] == 'Closed Won').astype(int)\n",
    "    test_label          = (test['Stage'] == 'Closed Won').astype(int)\n",
    "\n",
    "del entrenamiento_temp\n"
   ]
  },
  {
   "cell_type": "code",
   "execution_count": 5,
   "metadata": {},
   "outputs": [],
   "source": [
    "#LIMPIEZA\n",
    "\n",
    "def limpiar(x):\n",
    "    x = x.drop(columns=['ASP_(converted)_Currency','Quote_Type','Brand','Product_Type','Size','Product_Category_B','Price','Currency','Last_Activity','Actual_Delivery_Date','Prod_Category_A'])\n",
    "    x = x.drop(columns=['Opportunity_Name','Sales_Contract_No'])\n",
    "    return x\n",
    "\n",
    "entrenamiento = limpiar(entrenamiento)\n",
    "test = limpiar(test)"
   ]
  },
  {
   "cell_type": "code",
   "execution_count": null,
   "metadata": {},
   "outputs": [],
   "source": [
    "#NUEVOS FEATURES"
   ]
  },
  {
   "cell_type": "code",
   "execution_count": 6,
   "metadata": {},
   "outputs": [
    {
     "data": {
      "text/plain": [
       "'\\n#Se debe solo usar los del train, no los del test, CAMBIAR\\nentrenamiento[\"Billing_Country_Vida_Util\"] = entrenamiento.groupby(\"Billing_Country\")[\"Opportunity_Duration\"].transform(\"mean\")\\nentrenamiento[\"Account_Type_Vida_Util\"] = entrenamiento.groupby(\"Account_Type\")[\"Opportunity_Duration\"].transform(\"mean\")\\nentrenamiento[\"Region_ASP\"] = entrenamiento.groupby(\"Region\")[\"ASP\"].transform(\"mean\")\\nentrenamiento[\"Billing_Country_ASP\"] = entrenamiento.groupby(\"Billing_Country\")[\"ASP\"].transform(\"mean\")\\nentrenamiento[\"Billing_Country_Total_Amount\"] = entrenamiento.groupby(\"Billing_Country\")[\"Total_Amount_USD\"].transform(\"mean\")\\nentrenamiento[\"Billing_Country_Buro\"] = entrenamiento.groupby(\"Billing_Country\")[\"Bureaucratic_Code_0_Approved\"].transform(\"mean\")\\nentrenamiento[\"Product_Family_Vida_Util\"] = entrenamiento.groupby(\"Product_Family\")[\"Opportunity_Duration\"].transform(\"mean\")\\nentrenamiento[\"Product_Family_Total_Amount\"] = entrenamiento.groupby(\"Product_Family\")[\"Total_Amount\"].transform(\"mean\")\\nentrenamiento[\"Product_Family_Buro\"] = entrenamiento.groupby(\"Product_Family\")[\"Bureaucratic_Code_0_Approved\"].transform(\"mean\")\\n'"
      ]
     },
     "execution_count": 6,
     "metadata": {},
     "output_type": "execute_result"
    }
   ],
   "source": [
    "#Agrego feature: Duracion de la oportunidad\n",
    "entrenamiento['Opportunity_Duration'] = (entrenamiento['Last_Modified_Date'] - entrenamiento['Opportunity_Created_Date']) / np.timedelta64(1, 'D')\n",
    "test['Opportunity_Duration'] = (test['Last_Modified_Date'] - test['Opportunity_Created_Date']) / np.timedelta64(1, 'D')\n",
    "#Agrego feature: Total_Amount_USD\n",
    "entrenamiento[\"Total_Amount_USD\"] = entrenamiento[\"Total_Amount\"] * entrenamiento[\"ASP_(converted)\"] / entrenamiento[\"ASP\"]\n",
    "test[\"Total_Amount_USD\"] = test[\"Total_Amount\"] * test[\"ASP_(converted)\"] / test[\"ASP\"]\n",
    "#Agrego feature: Total_Taxable_Amount_USD\n",
    "entrenamiento[\"Total_Taxable_Amount_USD\"] = entrenamiento[\"Total_Taxable_Amount\"] * entrenamiento[\"ASP_(converted)\"] / entrenamiento[\"ASP\"]\n",
    "test[\"Total_Taxable_Amount_USD\"] = test[\"Total_Taxable_Amount\"] * test[\"ASP_(converted)\"] / test[\"ASP\"]\n",
    "#Agrego feature: Total_Amount_sobre_Total_Taxable_Amount\n",
    "entrenamiento[\"Total_Amount_sobre_Total_Taxable_Amount\"] = entrenamiento[\"Total_Amount_USD\"] / entrenamiento[\"Total_Taxable_Amount_USD\"]\n",
    "test[\"Total_Amount_sobre_Total_Taxable_Amount\"] = test[\"Total_Amount_USD\"] / test[\"Total_Taxable_Amount_USD\"]\n",
    "\n",
    "\"\"\"\n",
    "#Se debe solo usar los del train, no los del test, CAMBIAR\n",
    "entrenamiento[\"Billing_Country_Vida_Util\"] = entrenamiento.groupby(\"Billing_Country\")[\"Opportunity_Duration\"].transform(\"mean\")\n",
    "entrenamiento[\"Account_Type_Vida_Util\"] = entrenamiento.groupby(\"Account_Type\")[\"Opportunity_Duration\"].transform(\"mean\")\n",
    "entrenamiento[\"Region_ASP\"] = entrenamiento.groupby(\"Region\")[\"ASP\"].transform(\"mean\")\n",
    "entrenamiento[\"Billing_Country_ASP\"] = entrenamiento.groupby(\"Billing_Country\")[\"ASP\"].transform(\"mean\")\n",
    "entrenamiento[\"Billing_Country_Total_Amount\"] = entrenamiento.groupby(\"Billing_Country\")[\"Total_Amount_USD\"].transform(\"mean\")\n",
    "entrenamiento[\"Billing_Country_Buro\"] = entrenamiento.groupby(\"Billing_Country\")[\"Bureaucratic_Code_0_Approved\"].transform(\"mean\")\n",
    "entrenamiento[\"Product_Family_Vida_Util\"] = entrenamiento.groupby(\"Product_Family\")[\"Opportunity_Duration\"].transform(\"mean\")\n",
    "entrenamiento[\"Product_Family_Total_Amount\"] = entrenamiento.groupby(\"Product_Family\")[\"Total_Amount\"].transform(\"mean\")\n",
    "entrenamiento[\"Product_Family_Buro\"] = entrenamiento.groupby(\"Product_Family\")[\"Bureaucratic_Code_0_Approved\"].transform(\"mean\")\n",
    "\"\"\""
   ]
  },
  {
   "cell_type": "code",
   "execution_count": 7,
   "metadata": {},
   "outputs": [],
   "source": [
    "\n",
    "#Agrego feature: Duracion por region\n",
    "duracion_region = pd.read_csv('duracion_region.csv')\n",
    "entrenamiento = entrenamiento.merge(duracion_region,on='Region',how='left')\n",
    "test = test.merge(duracion_region,on='Region',how='left')\n",
    "\n",
    "#Agrego feature: Duracion por territorio\n",
    "duracion_territorio = pd.read_csv('duracion_territorio.csv')\n",
    "entrenamiento = entrenamiento.merge(duracion_territorio,on='Territory',how='left')\n",
    "test = test.merge(duracion_territorio,on='Territory',how='left')\n",
    "\n",
    "#Agrego feature: Comportamiento segun territorio\n",
    "comportamiento_territorio =  pd.read_csv('comportamiento_territorio.csv')\n",
    "entrenamiento = entrenamiento.merge(comportamiento_territorio,on='Territory',how='left')\n",
    "test = test.merge(comportamiento_territorio,on='Territory',how='left')"
   ]
  },
  {
   "cell_type": "code",
   "execution_count": 8,
   "metadata": {},
   "outputs": [],
   "source": [
    "#FECHAS A DIAS\n",
    "def fecha_a_dias(x):\n",
    "    for columna in columnas_fecha:\n",
    "        x[columna] = x[columna].apply(lambda x : (x - pd.to_datetime('01/01/2000', format='%m/%d/%Y')).days)\n",
    "\n",
    "fecha_a_dias(entrenamiento)\n",
    "fecha_a_dias(test)"
   ]
  },
  {
   "cell_type": "code",
   "execution_count": 9,
   "metadata": {},
   "outputs": [],
   "source": [
    "#CATEGORICAS A NUMERICAS - PROMEDIO\n",
    "\"\"\"Se debe pasar train y test ordenados \"\"\"\n",
    "def expansion_mean_encoding(columnas_categoricas,train,test,label):\n",
    "    #Dividimos el dataset de entrenamiento en features y labels\n",
    "    #Armo un df extra que me ayudara para codificar las categoricas.\n",
    "    #x_y_train = filtrado.iloc[:-test_rows]\n",
    "    #x_train = x_y_train.drop('Stage', axis=1)\n",
    "    #y_train = x_y_train['Stage'].to_frame()\n",
    "    #x_test = filtrado.iloc[-test_rows:].drop('Stage', axis=1)\n",
    "    #y_test = filtrado.iloc[-test_rows:]['Stage'].to_frame()\n",
    "\n",
    "    #En el set de train.\n",
    "    #columnas_categoricas = x_train.select_dtypes(include='category').columns\n",
    "\n",
    "    codificaciones = dict()\n",
    "\n",
    "    for col in columnas_categoricas:\n",
    "        last_one = train.groupby(col).tail(1)\n",
    "        for (idx, reg) in zip(last_one[col].index, last_one[col].values):\n",
    "            codificaciones[reg] = (col, idx)\n",
    "        cumulative_sum = train.groupby(col)[label].cumsum() - train[label]\n",
    "        cumulative_count = train.groupby(col).cumcount()\n",
    "        train[col] = cumulative_sum/cumulative_count\n",
    "\n",
    "    #Llenamos los NaN generados por cumsum con ceros.\n",
    "    train.fillna(0,inplace = True)\n",
    "\n",
    "    #Guardamos la codificacion de cada categoria segun su nombre.\n",
    "    for k, v in codificaciones.items():\n",
    "        col = v[0]\n",
    "        idx = v[1]\n",
    "        codificaciones[k] = train.loc[idx, col]\n",
    "    \n",
    "    # Utilizo las ultimas codificaciones de cada categoria del train set para codificar el test set.\n",
    "    # Para eso utilizo el diccionario de codificaciones.\n",
    "\n",
    "    #columnas_categoricas = x_test.select_dtypes(include='category').columns\n",
    "\n",
    "    for col in columnas_categoricas:\n",
    "        test[col] = test[col].astype(object)\n",
    "        for (idx, reg) in zip(test[col].index, test[col]):\n",
    "            if (reg in codificaciones):\n",
    "                test.loc[idx, col] = codificaciones[reg]\n",
    "            else:\n",
    "                #Codifico como cero, se puede mejorar\n",
    "                test.loc[idx, col] = 0\n",
    "        test[col] = test[col].astype(float)\n",
    "        \n",
    "columnas_categoricas = list(entrenamiento.select_dtypes(include=['object']).columns)\n",
    "if 'Stage' in columnas_categoricas : columnas_categoricas.remove('Stage')\n",
    "entrenamiento[\"label\"] = (entrenamiento['Stage'] == 'Closed Won').astype(int)\n",
    "entrenamiento.sort_values(\"Fecha\")\n",
    "expansion_mean_encoding(columnas_categoricas,entrenamiento,test,\"label\")\n",
    "entrenamiento = entrenamiento.drop(columns='label')"
   ]
  },
  {
   "cell_type": "code",
   "execution_count": 10,
   "metadata": {},
   "outputs": [],
   "source": [
    "#CATEGORICAS A NUMERICAS  - ORDINAL\n",
    "def categoricas_a_numericas(x):\n",
    "    ohe = skl.preprocessing.OrdinalEncoder()\n",
    "    columnas_object = list(x.select_dtypes(include=['object']).columns)\n",
    "    if 'Stage' in columnas_object : columnas_object.remove('Stage')\n",
    "    for columna in columnas_object:\n",
    "        copia = x[[columna]].copy().dropna()\n",
    "        df_temp = pd.DataFrame(ohe.fit_transform(copia)).astype('int32')\n",
    "        df_temp.columns = [columna]\n",
    "        x[columna] = df_temp[columna]\n",
    "\n",
    "categoricas_a_numericas(entrenamiento)\n",
    "categoricas_a_numericas(test)"
   ]
  },
  {
   "cell_type": "code",
   "execution_count": 11,
   "metadata": {},
   "outputs": [
    {
     "name": "stdout",
     "output_type": "stream",
     "text": [
      "<class 'pandas.core.frame.DataFrame'>\n",
      "Int64Index: 1007 entries, 0 to 1006\n",
      "Data columns (total 57 columns):\n",
      " #   Column                                   Non-Null Count  Dtype         \n",
      "---  ------                                   --------------  -----         \n",
      " 0   ID                                       1007 non-null   int64         \n",
      " 1   Region                                   1007 non-null   float64       \n",
      " 2   Territory                                1007 non-null   float64       \n",
      " 3   Pricing, Delivery_Terms_Quote_Appr       1007 non-null   int64         \n",
      " 4   Pricing, Delivery_Terms_Approved         1007 non-null   int64         \n",
      " 5   Bureaucratic_Code_0_Approval             1007 non-null   int64         \n",
      " 6   Bureaucratic_Code_0_Approved             1007 non-null   int64         \n",
      " 7   Submitted_for_Approval                   1007 non-null   int64         \n",
      " 8   Bureaucratic_Code                        1007 non-null   float64       \n",
      " 9   Account_Created_Date                     1007 non-null   int64         \n",
      " 10  Source                                   1007 non-null   float64       \n",
      " 11  Billing_Country                          1007 non-null   float64       \n",
      " 12  Account_Name                             1007 non-null   float64       \n",
      " 13  Opportunity_ID                           1007 non-null   int64         \n",
      " 14  Account_Owner                            1007 non-null   float64       \n",
      " 15  Opportunity_Owner                        1007 non-null   float64       \n",
      " 16  Account_Type                             1007 non-null   float64       \n",
      " 17  Opportunity_Type                         1007 non-null   float64       \n",
      " 18  Delivery_Terms                           1007 non-null   float64       \n",
      " 19  Opportunity_Created_Date                 1007 non-null   int64         \n",
      " 20  Quote_Expiry_Date                        1007 non-null   float64       \n",
      " 21  Last_Modified_Date                       1007 non-null   int64         \n",
      " 22  Last_Modified_By                         1007 non-null   float64       \n",
      " 23  Product_Family                           1007 non-null   float64       \n",
      " 24  Product_Name                             1007 non-null   float64       \n",
      " 25  ASP_Currency                             1007 non-null   float64       \n",
      " 26  ASP                                      1007 non-null   float64       \n",
      " 27  ASP_(converted)                          1007 non-null   float64       \n",
      " 28  Planned_Delivery_Start_Date              1007 non-null   int64         \n",
      " 29  Planned_Delivery_End_Date                1007 non-null   float64       \n",
      " 30  Month                                    1007 non-null   int64         \n",
      " 31  Delivery_Quarter                         1007 non-null   float64       \n",
      " 32  Delivery_Year                            1007 non-null   int64         \n",
      " 33  TRF                                      1007 non-null   int64         \n",
      " 34  Total_Amount_Currency                    1007 non-null   float64       \n",
      " 35  Total_Amount                             1007 non-null   float64       \n",
      " 36  Total_Taxable_Amount_Currency            1007 non-null   float64       \n",
      " 37  Total_Taxable_Amount                     1007 non-null   float64       \n",
      " 38  Stage                                    1007 non-null   object        \n",
      " 39  Fecha                                    1007 non-null   datetime64[ns]\n",
      " 40  Opportunity_Duration                     1007 non-null   float64       \n",
      " 41  Total_Amount_USD                         1007 non-null   float64       \n",
      " 42  Total_Taxable_Amount_USD                 1007 non-null   float64       \n",
      " 43  Total_Amount_sobre_Total_Taxable_Amount  1007 non-null   float64       \n",
      " 44  Duracion_x                               1007 non-null   float64       \n",
      " 45  Duracion_y                               1007 non-null   float64       \n",
      " 46  0/10                                     1007 non-null   float64       \n",
      " 47  1/10                                     1007 non-null   float64       \n",
      " 48  2/10                                     1007 non-null   float64       \n",
      " 49  3/10                                     1007 non-null   float64       \n",
      " 50  4/10                                     1007 non-null   float64       \n",
      " 51  5/10                                     1007 non-null   float64       \n",
      " 52  6/10                                     1007 non-null   float64       \n",
      " 53  7/10                                     1007 non-null   float64       \n",
      " 54  8/10                                     1007 non-null   float64       \n",
      " 55  9/10                                     1007 non-null   float64       \n",
      " 56  10/10                                    1007 non-null   float64       \n",
      "dtypes: datetime64[ns](1), float64(41), int64(14), object(1)\n",
      "memory usage: 496.3+ KB\n"
     ]
    }
   ],
   "source": [
    "#Filtrado de columnas - No remover Stage o Fecha\n",
    "#entrenamiento = entrenamiento[['Total_Amount_Currency']]"
   ]
  },
  {
   "cell_type": "code",
   "execution_count": 12,
   "metadata": {},
   "outputs": [],
   "source": [
    "if(PREDICCION_REAL):\n",
    "    objetivo = (entrenamiento['Stage'] == 'Closed Won').astype(int)\n",
    "    entrenamiento = entrenamiento.drop(columns=['Stage','Fecha'])\n",
    "    \n",
    "    d_entrenamiento = xgb.DMatrix(entrenamiento.values, objetivo.values)\n",
    "    d_prueba = xgb.DMatrix(test.values)\n",
    "    \n",
    "    bst = xgb.train(PARAMETROS, d_entrenamiento, RONDAS)\n",
    "    preds = bst.predict(d_prueba)\n",
    "\n",
    "    resultados = test[['Opportunity_ID']].copy()\n",
    "    resultados['Target'] = pd.Series(preds)\n",
    "    resultados = resultados.groupby('Opportunity_ID').mean()\n",
    "    resultados = resultados.reset_index()\n",
    "    resultados['Target'] = resultados['Target'].apply(lambda x: int(x >= 0.5))\n",
    "    \n",
    "    resultados.to_csv(\"prediccion.csv\", index=False)\n",
    "    resultados['Target'].value_counts()"
   ]
  },
  {
   "cell_type": "code",
   "execution_count": 13,
   "metadata": {},
   "outputs": [],
   "source": [
    "if(PREDICCION_REAL): sys.exit()"
   ]
  },
  {
   "cell_type": "code",
   "execution_count": 14,
   "metadata": {},
   "outputs": [],
   "source": [
    "set_entrenamiento = xgb.DMatrix(entrenamiento.drop(columns=['Stage','Fecha']),label = entrenamiento_label)\n",
    "set_test  = xgb.DMatrix(test .drop(columns=['Stage','Fecha']),label = test_label)\n",
    "evaluacion = [(set_test, 'eval'), (set_entrenamiento, 'train')]"
   ]
  },
  {
   "cell_type": "code",
   "execution_count": 15,
   "metadata": {},
   "outputs": [
    {
     "name": "stdout",
     "output_type": "stream",
     "text": [
      "[22:51:50] WARNING: C:/Users/Administrator/workspace/xgboost-win64_release_1.3.0/src/learner.cc:1061: Starting in XGBoost 1.3.0, the default evaluation metric used with the objective 'binary:logistic' was changed from 'error' to 'logloss'. Explicitly set eval_metric if you'd like to restore the old behavior.\n",
      "[0]\teval-logloss:0.72139\ttrain-logloss:0.43041\n",
      "[1]\teval-logloss:0.77251\ttrain-logloss:0.30644\n",
      "[2]\teval-logloss:0.84268\ttrain-logloss:0.23378\n",
      "[3]\teval-logloss:0.88222\ttrain-logloss:0.18577\n",
      "[4]\teval-logloss:0.79747\ttrain-logloss:0.15529\n",
      "[5]\teval-logloss:0.73104\ttrain-logloss:0.12680\n",
      "[6]\teval-logloss:0.68110\ttrain-logloss:0.10931\n",
      "[7]\teval-logloss:0.62037\ttrain-logloss:0.09149\n",
      "[8]\teval-logloss:0.58861\ttrain-logloss:0.08030\n",
      "[9]\teval-logloss:0.56025\ttrain-logloss:0.07333\n",
      "[10]\teval-logloss:0.53782\ttrain-logloss:0.06295\n",
      "[11]\teval-logloss:0.51771\ttrain-logloss:0.05650\n",
      "[12]\teval-logloss:0.50119\ttrain-logloss:0.05254\n",
      "[13]\teval-logloss:0.47173\ttrain-logloss:0.04590\n",
      "[14]\teval-logloss:0.46295\ttrain-logloss:0.04283\n",
      "[15]\teval-logloss:0.47638\ttrain-logloss:0.03826\n",
      "[16]\teval-logloss:0.46839\ttrain-logloss:0.03581\n",
      "[17]\teval-logloss:0.49098\ttrain-logloss:0.03221\n",
      "[18]\teval-logloss:0.49314\ttrain-logloss:0.02941\n",
      "[19]\teval-logloss:0.49509\ttrain-logloss:0.02644\n",
      "[20]\teval-logloss:0.49798\ttrain-logloss:0.02433\n",
      "[21]\teval-logloss:0.51107\ttrain-logloss:0.02270\n",
      "[22]\teval-logloss:0.50976\ttrain-logloss:0.02109\n",
      "[23]\teval-logloss:0.51234\ttrain-logloss:0.01979\n",
      "[24]\teval-logloss:0.51143\ttrain-logloss:0.01811\n",
      "[25]\teval-logloss:0.51211\ttrain-logloss:0.01708\n",
      "[26]\teval-logloss:0.50574\ttrain-logloss:0.01615\n",
      "[27]\teval-logloss:0.51415\ttrain-logloss:0.01540\n",
      "[28]\teval-logloss:0.50806\ttrain-logloss:0.01459\n",
      "[29]\teval-logloss:0.50564\ttrain-logloss:0.01366\n"
     ]
    },
    {
     "data": {
      "image/png": "[encoded data removed]",
      "text/plain": [
       "<Figure size 432x288 with 1 Axes>"
      ]
     },
     "metadata": {
      "needs_background": "light"
     },
     "output_type": "display_data"
    }
   ],
   "source": [
    "modelo = xgb.train(PARAMETROS, set_entrenamiento, RONDAS, evaluacion)\n",
    "\n",
    "xgb.plot_importance(modelo)\n",
    "plt.show()"
   ]
  },
  {
   "cell_type": "code",
   "execution_count": 16,
   "metadata": {},
   "outputs": [
    {
     "name": "stdout",
     "output_type": "stream",
     "text": [
      "Prediccion Test\n",
      "[[1715  536]\n",
      " [ 431 1664]]\n",
      "0.7774965485503912\n",
      "              precision    recall  f1-score   support\n",
      "\n",
      "           0       0.80      0.76      0.78      2251\n",
      "           1       0.76      0.79      0.77      2095\n",
      "\n",
      "    accuracy                           0.78      4346\n",
      "   macro avg       0.78      0.78      0.78      4346\n",
      "weighted avg       0.78      0.78      0.78      4346\n",
      "\n",
      "7.685095572503731\n",
      "Prediccion Train\n",
      "[[732   0]\n",
      " [  0 275]]\n",
      "1.0\n",
      "              precision    recall  f1-score   support\n",
      "\n",
      "           0       1.00      1.00      1.00       732\n",
      "           1       1.00      1.00      1.00       275\n",
      "\n",
      "    accuracy                           1.00      1007\n",
      "   macro avg       1.00      1.00      1.00      1007\n",
      "weighted avg       1.00      1.00      1.00      1007\n",
      "\n"
     ]
    },
    {
     "data": {
      "text/plain": [
       "[None, None, None]"
      ]
     },
     "execution_count": 16,
     "metadata": {},
     "output_type": "execute_result"
    }
   ],
   "source": [
    "prediccion = modelo.predict(set_test)\n",
    "\n",
    "prediccion = [1 if i > .5 else 0 for i in prediccion]\n",
    "\n",
    "def metricas(objetivo, prediccion):\n",
    "    matriz_conf = confusion_matrix(objetivo, prediccion)\n",
    "    score = accuracy_score(objetivo, prediccion)\n",
    "    reporte = classification_report(objetivo, prediccion)\n",
    "    metricas = [matriz_conf, score, reporte]\n",
    "    return(metricas)\n",
    "\n",
    "metrics = metricas(test_label, prediccion)\n",
    "print(\"Prediccion Test\")\n",
    "[print(i) for i in metrics]\n",
    "print(skl.metrics.log_loss(test_label,prediccion))\n",
    "\n",
    "prediccion = modelo.predict(set_entrenamiento)\n",
    "prediccion = [1 if i > .5 else 0 for i in prediccion]\n",
    "metricas = metricas(entrenamiento_label, prediccion)\n",
    "print(\"Prediccion Train\")\n",
    "[print(i) for i in metricas]"
   ]
  },
  {
   "cell_type": "code",
   "execution_count": 17,
   "metadata": {},
   "outputs": [
    {
     "ename": "SystemExit",
     "evalue": "",
     "output_type": "error",
     "traceback": [
      "An exception has occurred, use %tb to see the full traceback.\n",
      "\u001b[1;31mSystemExit\u001b[0m\n"
     ]
    },
    {
     "name": "stderr",
     "output_type": "stream",
     "text": [
      "D:\\Anaconda\\lib\\site-packages\\IPython\\core\\interactiveshell.py:3339: UserWarning: To exit: use 'exit', 'quit', or Ctrl-D.\n",
      "  warn(\"To exit: use 'exit', 'quit', or Ctrl-D.\", stacklevel=1)\n"
     ]
    }
   ],
   "source": [
    "if(not MAXIMIZAR_HIPERPARAMETROS): sys.exit()\n",
    "    \n",
    "min_log_loss = 1000\n",
    "d = 1000\n",
    "e = 1000\n",
    "r = 1000\n",
    "for depth in range(2,14):\n",
    "    for eta in [0.1,0.2,0.3,0.4,0.5,0.6,0.7,0.8,0.9,1.0]:\n",
    "        for rondas in [10,20,30,40]:\n",
    "            parametros = {\"booster\":\"gbtree\", \"max_depth\":depth, \"eta\": eta, \"objective\": \"binary:logistic\", \"nthread\":2}\n",
    "            modelo = xgb.train(parametros, set_entrenamiento, rondas, evaluacion)\n",
    "            prediccion = modelo.predict(set_test)\n",
    "            prediccion = [1 if i > .5 else 0 for i in prediccion]\n",
    "            log_loss = skl.metrics.log_loss(test_label,prediccion)\n",
    "            if (log_loss < min_log_loss):\n",
    "                min_log_loss = log_loss\n",
    "                d = depth\n",
    "                e = eta\n",
    "                r = rondas\n",
    "\n",
    "\n",
    "print(\"log: \",min_log_loss)                \n",
    "print(\"depth: \",d)      \n",
    "print(\"eta: \",e)      \n",
    "print(\"rondas: \",r)"
   ]
  },
  {
   "cell_type": "code",
   "execution_count": null,
   "metadata": {},
   "outputs": [],
   "source": []
  }
 ],
 "metadata": {
  "kernelspec": {
   "display_name": "Python 3",
   "language": "python",
   "name": "python3"
  },
  "language_info": {
   "codemirror_mode": {
    "name": "ipython",
    "version": 3
   },
   "file_extension": ".py",
   "mimetype": "text/x-python",
   "name": "python",
   "nbconvert_exporter": "python",
   "pygments_lexer": "ipython3",
   "version": "3.7.6"
  }
 },
 "nbformat": 4,
 "nbformat_minor": 4
}
