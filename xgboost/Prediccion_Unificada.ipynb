{
 "cells": [
  {
   "cell_type": "code",
   "execution_count": 1,
   "metadata": {},
   "outputs": [],
   "source": [
    "import xgboost as xgb\n",
    "import pandas as pd\n",
    "import matplotlib.pyplot as plt\n",
    "import numpy as np\n",
    "import sklearn as skl\n",
    "from sklearn.model_selection import train_test_split\n",
    "from sklearn.metrics import confusion_matrix\n",
    "from sklearn.metrics import accuracy_score\n",
    "from sklearn.metrics import classification_report\n",
    "from datetime import datetime\n",
    "from itertools import combinations"
   ]
  },
  {
   "cell_type": "code",
   "execution_count": 2,
   "metadata": {},
   "outputs": [],
   "source": [
    "entrenamiento = pd.read_csv(\"../Train_TP2_Datos_2020-2C.csv\")\n",
    "test_real     = pd.read_csv(\"../Test_TP2_Datos_2020-2C.csv\")"
   ]
  },
  {
   "cell_type": "code",
   "execution_count": 3,
   "metadata": {},
   "outputs": [],
   "source": [
    "#LIMPIEZA\n",
    "\n",
    "entrenamiento = entrenamiento[( entrenamiento['Stage'] == 'Closed Won') | ( entrenamiento['Stage'] == 'Closed Lost')]\n",
    "\n",
    "def limpiar(x):\n",
    "    x = x.drop(columns=['ASP_(converted)_Currency','Quote_Type','Brand','Product_Type','Size','Product_Category_B','Price','Currency','Last_Activity','Actual_Delivery_Date','Prod_Category_A'])\n",
    "    x = x.drop(columns=['Opportunity_Name','Sales_Contract_No'])\n",
    "    return x\n",
    "\n",
    "entrenamiento = limpiar(entrenamiento)\n",
    "test_real = limpiar(test_real)"
   ]
  },
  {
   "cell_type": "code",
   "execution_count": 4,
   "metadata": {},
   "outputs": [
    {
     "name": "stdout",
     "output_type": "stream",
     "text": [
      "<class 'pandas.core.frame.DataFrame'>\n",
      "Int64Index: 16883 entries, 0 to 16946\n",
      "Data columns (total 39 columns):\n",
      " #   Column                              Non-Null Count  Dtype  \n",
      "---  ------                              --------------  -----  \n",
      " 0   ID                                  16883 non-null  int64  \n",
      " 1   Region                              16883 non-null  object \n",
      " 2   Territory                           16883 non-null  object \n",
      " 3   Pricing, Delivery_Terms_Quote_Appr  16883 non-null  int64  \n",
      " 4   Pricing, Delivery_Terms_Approved    16883 non-null  int64  \n",
      " 5   Bureaucratic_Code_0_Approval        16883 non-null  int64  \n",
      " 6   Bureaucratic_Code_0_Approved        16883 non-null  int64  \n",
      " 7   Submitted_for_Approval              16883 non-null  int64  \n",
      " 8   Bureaucratic_Code                   16883 non-null  object \n",
      " 9   Account_Created_Date                16883 non-null  object \n",
      " 10  Source                              16883 non-null  object \n",
      " 11  Billing_Country                     16883 non-null  object \n",
      " 12  Account_Name                        16883 non-null  object \n",
      " 13  Opportunity_ID                      16883 non-null  int64  \n",
      " 14  Account_Owner                       16883 non-null  object \n",
      " 15  Opportunity_Owner                   16883 non-null  object \n",
      " 16  Account_Type                        16883 non-null  object \n",
      " 17  Opportunity_Type                    16883 non-null  object \n",
      " 18  Delivery_Terms                      16883 non-null  object \n",
      " 19  Opportunity_Created_Date            16883 non-null  object \n",
      " 20  Quote_Expiry_Date                   16883 non-null  object \n",
      " 21  Last_Modified_Date                  16883 non-null  object \n",
      " 22  Last_Modified_By                    16883 non-null  object \n",
      " 23  Product_Family                      16883 non-null  object \n",
      " 24  Product_Name                        16883 non-null  object \n",
      " 25  ASP_Currency                        16883 non-null  object \n",
      " 26  ASP                                 13679 non-null  float64\n",
      " 27  ASP_(converted)                     13679 non-null  float64\n",
      " 28  Planned_Delivery_Start_Date         16883 non-null  object \n",
      " 29  Planned_Delivery_End_Date           16883 non-null  object \n",
      " 30  Month                               16883 non-null  object \n",
      " 31  Delivery_Quarter                    16883 non-null  object \n",
      " 32  Delivery_Year                       16883 non-null  int64  \n",
      " 33  TRF                                 16883 non-null  int64  \n",
      " 34  Total_Amount_Currency               16883 non-null  object \n",
      " 35  Total_Amount                        16824 non-null  float64\n",
      " 36  Total_Taxable_Amount_Currency       16883 non-null  object \n",
      " 37  Total_Taxable_Amount                16883 non-null  float64\n",
      " 38  Stage                               16883 non-null  object \n",
      "dtypes: float64(4), int64(9), object(26)\n",
      "memory usage: 5.2+ MB\n"
     ]
    }
   ],
   "source": [
    "entrenamiento.info()"
   ]
  },
  {
   "cell_type": "code",
   "execution_count": 5,
   "metadata": {},
   "outputs": [],
   "source": [
    "#FECHA A DIAS\n",
    "\n",
    "#Respalda fecha, usada para separa set_train y set_test\n",
    "entrenamiento['Fecha'] = pd.to_datetime(entrenamiento['Opportunity_Created_Date'])\n",
    "\n",
    "def fecha_a_dias(x):\n",
    "    columnas_fecha = ['Month','Last_Modified_Date','Account_Created_Date','Opportunity_Created_Date','Quote_Expiry_Date','Planned_Delivery_Start_Date','Planned_Delivery_End_Date']\n",
    "    for columna in columnas_fecha:\n",
    "        x[columna] = pd.to_datetime(x[columna])\n",
    "        x[columna] = x[columna].apply(lambda x : (x - pd.to_datetime('01/01/2000', format='%m/%d/%Y')).days)\n",
    "\n",
    "fecha_a_dias(entrenamiento)\n",
    "fecha_a_dias(test_real)"
   ]
  },
  {
   "cell_type": "code",
   "execution_count": 6,
   "metadata": {},
   "outputs": [],
   "source": [
    "#QUITO STAGE\n",
    "#objetivo = entrenamiento.pop('Stage')\n",
    "#objetivo = objetivo.apply(lambda x : int(x == 'Closed Won'))\n",
    "#objetivo"
   ]
  },
  {
   "cell_type": "code",
   "execution_count": 7,
   "metadata": {},
   "outputs": [],
   "source": [
    "#CATEGORICAS A NUMERICAS  - TEMP\n",
    "def categoricas_a_numericas(x):\n",
    "    ohe = skl.preprocessing.OrdinalEncoder()\n",
    "    columnas_object = list(x.select_dtypes(include=['object']).columns)\n",
    "    if 'Stage' in columnas_object : columnas_object.remove('Stage')\n",
    "    for columna in columnas_object:\n",
    "        copia = x[[columna]].copy().dropna()\n",
    "        df_temp = pd.DataFrame(ohe.fit_transform(copia)).astype('int32')\n",
    "        df_temp.columns = [columna]\n",
    "        x[columna] = df_temp[columna]\n",
    "\n",
    "categoricas_a_numericas(entrenamiento)\n",
    "categoricas_a_numericas(test_real)"
   ]
  },
  {
   "cell_type": "code",
   "execution_count": 8,
   "metadata": {},
   "outputs": [],
   "source": [
    "#Nuevos Features"
   ]
  },
  {
   "cell_type": "code",
   "execution_count": 9,
   "metadata": {},
   "outputs": [],
   "source": [
    "#Filtrado de columnas - No remover Stage o Fecha\n",
    "#entrenamiento = entrenamiento[['Total_Amount_Currency']]"
   ]
  },
  {
   "cell_type": "code",
   "execution_count": 10,
   "metadata": {},
   "outputs": [],
   "source": [
    "#Division entre set_datos y set_test\n",
    "\n",
    "set_train = entrenamiento.loc[entrenamiento['Fecha'].dt.year == 2015]\n",
    "set_test = entrenamiento.loc[entrenamiento['Fecha'].dt.year == 2016]\n",
    "set_train_label = (set_train['Stage'] == 'Closed Won').astype(int)\n",
    "set_test_label = (set_test['Stage'] == 'Closed Won').astype(int)\n",
    "\n",
    "set_train = xgb.DMatrix(set_train.drop(columns=['Stage','Fecha']),label = set_train_label)\n",
    "set_test  = xgb.DMatrix(set_test .drop(columns=['Stage','Fecha']),label = set_test_label)\n",
    "evaluacion = [(set_test, 'eval'), (set_train, 'train')]\n",
    "\n",
    "#entrenamiento = entrenamiento.drop(columns=['Fecha','Stage'])"
   ]
  },
  {
   "cell_type": "code",
   "execution_count": 11,
   "metadata": {},
   "outputs": [
    {
     "name": "stdout",
     "output_type": "stream",
     "text": [
      "[18:26:41] WARNING: C:/Users/Administrator/workspace/xgboost-win64_release_1.3.0/src/learner.cc:1061: Starting in XGBoost 1.3.0, the default evaluation metric used with the objective 'binary:logistic' was changed from 'error' to 'logloss'. Explicitly set eval_metric if you'd like to restore the old behavior.\n",
      "[0]\teval-logloss:0.59196\ttrain-logloss:0.52033\n",
      "[1]\teval-logloss:0.52699\ttrain-logloss:0.41659\n",
      "[2]\teval-logloss:0.50975\ttrain-logloss:0.35270\n",
      "[3]\teval-logloss:0.48032\ttrain-logloss:0.30691\n",
      "[4]\teval-logloss:0.48633\ttrain-logloss:0.27256\n"
     ]
    },
    {
     "data": {
      "image/png": "[encoded data removed]",
      "text/plain": [
       "<Figure size 432x288 with 1 Axes>"
      ]
     },
     "metadata": {
      "needs_background": "light"
     },
     "output_type": "display_data"
    }
   ],
   "source": [
    "parametros = {\"booster\":\"gbtree\", \"max_depth\":3, \"eta\": 0.3, \"objective\": \"binary:logistic\", \"nthread\":2,\"gamma\" : 0}\n",
    "rondas = 5\n",
    "\n",
    "modelo = xgb.train(parametros, set_train, rondas, evaluacion)\n",
    "\n",
    "xgb.plot_importance(modelo)\n",
    "plt.show()"
   ]
  },
  {
   "cell_type": "code",
   "execution_count": 12,
   "metadata": {},
   "outputs": [
    {
     "name": "stdout",
     "output_type": "stream",
     "text": [
      "Prediccion Test\n",
      "[[2146  111]\n",
      " [1081 1017]]\n",
      "0.7262916188289322\n",
      "              precision    recall  f1-score   support\n",
      "\n",
      "           0       0.67      0.95      0.78      2257\n",
      "           1       0.90      0.48      0.63      2098\n",
      "\n",
      "    accuracy                           0.73      4355\n",
      "   macro avg       0.78      0.72      0.71      4355\n",
      "weighted avg       0.78      0.73      0.71      4355\n",
      "\n",
      "9.453572954775725\n",
      "Prediccion Train\n",
      "[[713  23]\n",
      " [ 69 207]]\n",
      "0.9090909090909091\n",
      "              precision    recall  f1-score   support\n",
      "\n",
      "           0       0.91      0.97      0.94       736\n",
      "           1       0.90      0.75      0.82       276\n",
      "\n",
      "    accuracy                           0.91      1012\n",
      "   macro avg       0.91      0.86      0.88      1012\n",
      "weighted avg       0.91      0.91      0.91      1012\n",
      "\n"
     ]
    },
    {
     "data": {
      "text/plain": [
       "[None, None, None]"
      ]
     },
     "execution_count": 12,
     "metadata": {},
     "output_type": "execute_result"
    }
   ],
   "source": [
    "prediccion = modelo.predict(set_test)\n",
    "\n",
    "prediccion = [1 if i > .5 else 0 for i in prediccion]\n",
    "\n",
    "def metricas(objetivo, prediccion):\n",
    "    matriz_conf = confusion_matrix(objetivo, prediccion)\n",
    "    score = accuracy_score(objetivo, prediccion)\n",
    "    reporte = classification_report(objetivo, prediccion)\n",
    "    metricas = [matriz_conf, score, reporte]\n",
    "    return(metricas)\n",
    "\n",
    "metrics = metricas(set_test_label, prediccion)\n",
    "print(\"Prediccion Test\")\n",
    "[print(i) for i in metrics]\n",
    "print(skl.metrics.log_loss(set_test_label,prediccion))\n",
    "\n",
    "prediccion = modelo.predict(set_train)\n",
    "prediccion = [1 if i > .5 else 0 for i in prediccion]\n",
    "metricas = metricas(set_train_label, prediccion)\n",
    "print(\"Prediccion Train\")\n",
    "[print(i) for i in metricas]"
   ]
  },
  {
   "cell_type": "code",
   "execution_count": null,
   "metadata": {},
   "outputs": [],
   "source": []
  }
 ],
 "metadata": {
  "kernelspec": {
   "display_name": "Python 3",
   "language": "python",
   "name": "python3"
  },
  "language_info": {
   "codemirror_mode": {
    "name": "ipython",
    "version": 3
   },
   "file_extension": ".py",
   "mimetype": "text/x-python",
   "name": "python",
   "nbconvert_exporter": "python",
   "pygments_lexer": "ipython3",
   "version": "3.7.6"
  }
 },
 "nbformat": 4,
 "nbformat_minor": 4
}
