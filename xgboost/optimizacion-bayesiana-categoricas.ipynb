{
 "cells": [
  {
   "cell_type": "code",
   "execution_count": 1,
   "metadata": {},
   "outputs": [],
   "source": [
    "import catboost as cb\n",
    "import pandas as pd\n",
    "import matplotlib.pyplot as plt\n",
    "import numpy as np\n",
    "import sklearn as skl\n",
    "from sklearn.metrics import confusion_matrix, accuracy_score\n",
    "\n",
    "PREDICCION_REAL = False"
   ]
  },
  {
   "cell_type": "code",
   "execution_count": 2,
   "metadata": {},
   "outputs": [],
   "source": [
    "#APERTURA DE ARCHIVO DE ARCHIVOS\n",
    "entrenamiento = pd.read_csv(\"entrenamiento-listo.csv\")\n",
    "test = pd.read_csv(\"test-listo.csv\")"
   ]
  },
  {
   "cell_type": "code",
   "execution_count": 3,
   "metadata": {},
   "outputs": [],
   "source": [
    "#FILTRADO DE COLUMNAS - NO REMOVER STAGE O FECHA\n",
    "fugas = ['ID','Opportunity_Name','Sales_Contract_No','Account_Name','Account_Owner','Opportunity_Owner','Last_Modified_By','Product_Family','Product_Name','ASP','ASP_(converted)']\n",
    "#'Total_Taxable_Amount'\n",
    "columnas_fecha = ['Month','Last_Modified_Date','Account_Created_Date','Opportunity_Created_Date','Quote_Expiry_Date','Planned_Delivery_Start_Date','Planned_Delivery_End_Date']\n",
    "#entrenamiento = entrenamiento.drop(columns=fugas)\n",
    "#test = test.drop(columns=fugas)\n",
    "#test = test.drop(columns=columnas_fecha)\n",
    "#entrenamiento = entrenamiento.drop(columns=columnas_fecha)"
   ]
  },
  {
   "cell_type": "code",
   "execution_count": 4,
   "metadata": {},
   "outputs": [],
   "source": [
    "objetivo = (entrenamiento['Stage'] == 'Closed Won').astype(int)\n",
    "entrenamiento = entrenamiento.drop(columns=['Stage'])\n",
    "columnas_object = list(entrenamiento.select_dtypes(include=['object']).columns)\n",
    "if 'Stage' in columnas_object : columnas_object.remove('Stage')"
   ]
  },
  {
   "cell_type": "code",
   "execution_count": 5,
   "metadata": {},
   "outputs": [],
   "source": [
    "if not PREDICCION_REAL:\n",
    "    test_label = (test['Stage'] == 'Closed Won').astype(int)\n",
    "    test = test.drop(columns=['Stage'])"
   ]
  },
  {
   "cell_type": "code",
   "execution_count": 6,
   "metadata": {},
   "outputs": [],
   "source": [
    "entrenamiento_pool = cb.Pool(entrenamiento, objetivo,cat_features=columnas_object)\n",
    "test_pool = cb.Pool(test, cat_features=columnas_object)"
   ]
  },
  {
   "cell_type": "code",
   "execution_count": 17,
   "metadata": {},
   "outputs": [
    {
     "name": "stdout",
     "output_type": "stream",
     "text": [
      "0:\tlearn: 0.3091872\ttotal: 22.5ms\tremaining: 112ms\n",
      "1:\tlearn: 0.1995144\ttotal: 43.9ms\tremaining: 87.8ms\n",
      "2:\tlearn: 0.1494046\ttotal: 64.3ms\tremaining: 64.3ms\n",
      "3:\tlearn: 0.1241908\ttotal: 85.8ms\tremaining: 42.9ms\n",
      "4:\tlearn: 0.1100248\ttotal: 107ms\tremaining: 21.5ms\n",
      "5:\tlearn: 0.1019214\ttotal: 130ms\tremaining: 0us\n",
      "class =  [0 0 1 ... 1 1 1]\n"
     ]
    }
   ],
   "source": [
    "model = cb.CatBoostClassifier(task_type=\"GPU\", devices='0:1', bootstrap_type='MVS', border_count = 56615, depth = 5, early_stopping_rounds = 11, iterations = 6, l2_leaf_reg = 0.0002819635841675252, learning_rate = 0.19085900715075577, random_seed = 31486, random_strength=1.264083597622293, subsample=0.4346062744686996)\n",
    "model.fit(entrenamiento_pool)\n",
    "# make the prediction using the resulting model\n",
    "preds = model.predict(test_pool)\n",
    "print(\"class = \", preds)"
   ]
  },
  {
   "cell_type": "code",
   "execution_count": 8,
   "metadata": {},
   "outputs": [],
   "source": [
    "from catboost import CatBoostClassifier\n",
    "from skopt import BayesSearchCV\n",
    "from skopt.space import Real\n",
    "from sklearn.model_selection import StratifiedKFold\n",
    "\n",
    "# Classifier\n",
    "bayes_cv_tuner = BayesSearchCV(\n",
    "estimator = CatBoostClassifier(\n",
    "silent=True,cat_features=columnas_object,task_type=\"GPU\", devices='0:1', bootstrap_type='MVS'\n",
    "),\n",
    "search_spaces = {\n",
    "        \"iterations\" : (5, 6),\n",
    "        'learning_rate': Real(low=0.01, high=1, prior='log-uniform'),\n",
    "        \"random_seed\" : (1,40000),\n",
    "        \"l2_leaf_reg\" : Real(low=1e-9, high=1000, prior='log-uniform'),\n",
    "        'subsample': Real(low=0.01, high=1, prior='uniform'),\n",
    "        \"random_strength\" : Real(low=1e-9, high=1000, prior='log-uniform'),\n",
    "        'depth': (1, 5),\n",
    "        \"early_stopping_rounds\" : (1, 20),\n",
    "        \"border_count\" : (1,65535)\n",
    "},\n",
    "scoring = 'roc_auc',\n",
    "cv = StratifiedKFold(\n",
    "n_splits=2,\n",
    "shuffle=True,\n",
    "random_state=72\n",
    "),\n",
    "n_jobs = 1,\n",
    "n_iter = 5,\n",
    "verbose = 1,\n",
    "refit = True,\n",
    "random_state = 72\n",
    ")"
   ]
  },
  {
   "cell_type": "code",
   "execution_count": 9,
   "metadata": {},
   "outputs": [],
   "source": [
    "def status_print(optim_result):\n",
    "    \"\"\"Status callback durring bayesian hyperparameter search\"\"\"\n",
    "    # Get all the models tested so far in DataFrame format\n",
    "    all_models = pd.DataFrame(bayes_cv_tuner.cv_results_)    \n",
    "\n",
    "    # Get current parameters and the best parameters    \n",
    "    best_params = pd.Series(bayes_cv_tuner.best_params_)\n",
    "    print('Model #{}\\nBest ROC-AUC: {}\\nBest params: {}\\n'.format(\n",
    "        len(all_models),\n",
    "        np.round(bayes_cv_tuner.best_score_, 4),\n",
    "        bayes_cv_tuner.best_params_\n",
    "    ))"
   ]
  },
  {
   "cell_type": "code",
   "execution_count": 10,
   "metadata": {},
   "outputs": [
    {
     "name": "stdout",
     "output_type": "stream",
     "text": [
      "Fitting 2 folds for each of 1 candidates, totalling 2 fits\n"
     ]
    },
    {
     "name": "stderr",
     "output_type": "stream",
     "text": [
      "[Parallel(n_jobs=1)]: Using backend SequentialBackend with 1 concurrent workers.\n",
      "[Parallel(n_jobs=1)]: Done   2 out of   2 | elapsed:    2.2s finished\n",
      "[Parallel(n_jobs=1)]: Using backend SequentialBackend with 1 concurrent workers.\n"
     ]
    },
    {
     "name": "stdout",
     "output_type": "stream",
     "text": [
      "Model #1\n",
      "Best ROC-AUC: 0.9911\n",
      "Best params: OrderedDict([('border_count', 10204), ('depth', 5), ('early_stopping_rounds', 6), ('iterations', 5), ('l2_leaf_reg', 0.00017808806763285067), ('learning_rate', 0.21873577771989225), ('random_seed', 9750), ('random_strength', 1.6078565284271), ('subsample', 0.5979442430367322)])\n",
      "\n",
      "Fitting 2 folds for each of 1 candidates, totalling 2 fits\n"
     ]
    },
    {
     "name": "stderr",
     "output_type": "stream",
     "text": [
      "[Parallel(n_jobs=1)]: Done   2 out of   2 | elapsed:    1.9s finished\n",
      "[Parallel(n_jobs=1)]: Using backend SequentialBackend with 1 concurrent workers.\n"
     ]
    },
    {
     "name": "stdout",
     "output_type": "stream",
     "text": [
      "Model #2\n",
      "Best ROC-AUC: 0.9934\n",
      "Best params: OrderedDict([('border_count', 56615), ('depth', 5), ('early_stopping_rounds', 11), ('iterations', 6), ('l2_leaf_reg', 0.0002819635841675252), ('learning_rate', 0.19085900715075577), ('random_seed', 31486), ('random_strength', 1.264083597622293), ('subsample', 0.4346062744686996)])\n",
      "\n",
      "Fitting 2 folds for each of 1 candidates, totalling 2 fits\n"
     ]
    },
    {
     "name": "stderr",
     "output_type": "stream",
     "text": [
      "[Parallel(n_jobs=1)]: Done   2 out of   2 | elapsed:    1.9s finished\n",
      "[Parallel(n_jobs=1)]: Using backend SequentialBackend with 1 concurrent workers.\n"
     ]
    },
    {
     "name": "stdout",
     "output_type": "stream",
     "text": [
      "Model #3\n",
      "Best ROC-AUC: 0.9934\n",
      "Best params: OrderedDict([('border_count', 56615), ('depth', 5), ('early_stopping_rounds', 11), ('iterations', 6), ('l2_leaf_reg', 0.0002819635841675252), ('learning_rate', 0.19085900715075577), ('random_seed', 31486), ('random_strength', 1.264083597622293), ('subsample', 0.4346062744686996)])\n",
      "\n",
      "Fitting 2 folds for each of 1 candidates, totalling 2 fits\n"
     ]
    },
    {
     "name": "stderr",
     "output_type": "stream",
     "text": [
      "[Parallel(n_jobs=1)]: Done   2 out of   2 | elapsed:    1.9s finished\n",
      "[Parallel(n_jobs=1)]: Using backend SequentialBackend with 1 concurrent workers.\n"
     ]
    },
    {
     "name": "stdout",
     "output_type": "stream",
     "text": [
      "Model #4\n",
      "Best ROC-AUC: 0.9934\n",
      "Best params: OrderedDict([('border_count', 56615), ('depth', 5), ('early_stopping_rounds', 11), ('iterations', 6), ('l2_leaf_reg', 0.0002819635841675252), ('learning_rate', 0.19085900715075577), ('random_seed', 31486), ('random_strength', 1.264083597622293), ('subsample', 0.4346062744686996)])\n",
      "\n",
      "Fitting 2 folds for each of 1 candidates, totalling 2 fits\n"
     ]
    },
    {
     "name": "stderr",
     "output_type": "stream",
     "text": [
      "[Parallel(n_jobs=1)]: Done   2 out of   2 | elapsed:    1.8s finished\n"
     ]
    },
    {
     "name": "stdout",
     "output_type": "stream",
     "text": [
      "Model #5\n",
      "Best ROC-AUC: 0.9934\n",
      "Best params: OrderedDict([('border_count', 56615), ('depth', 5), ('early_stopping_rounds', 11), ('iterations', 6), ('l2_leaf_reg', 0.0002819635841675252), ('learning_rate', 0.19085900715075577), ('random_seed', 31486), ('random_strength', 1.264083597622293), ('subsample', 0.4346062744686996)])\n",
      "\n"
     ]
    }
   ],
   "source": [
    "resultCAT = bayes_cv_tuner.fit(entrenamiento, objetivo, callback=status_print)"
   ]
  },
  {
   "cell_type": "code",
   "execution_count": 18,
   "metadata": {},
   "outputs": [
    {
     "data": {
      "text/plain": [
       "1    1587\n",
       "0    1055\n",
       "Name: Target, dtype: int64"
      ]
     },
     "execution_count": 18,
     "metadata": {},
     "output_type": "execute_result"
    }
   ],
   "source": [
    "resultados = test[['Opportunity_ID']].copy()\n",
    "resultados['Target'] = pd.Series(preds)\n",
    "resultados = resultados.groupby('Opportunity_ID').mean()\n",
    "resultados = resultados.reset_index()\n",
    "resultados['Target'] = resultados['Target'].apply(lambda x: int(x >= 0.5))    \n",
    "resultados.to_csv(\"prediccion.csv\", index=False)\n",
    "resultados['Target'].value_counts()"
   ]
  },
  {
   "cell_type": "code",
   "execution_count": 20,
   "metadata": {},
   "outputs": [
    {
     "data": {
      "text/plain": [
       "0.948847420417124"
      ]
     },
     "execution_count": 20,
     "metadata": {},
     "output_type": "execute_result"
    }
   ],
   "source": [
    "accuracy_score(test_label, preds)"
   ]
  },
  {
   "cell_type": "code",
   "execution_count": 21,
   "metadata": {},
   "outputs": [
    {
     "data": {
      "text/html": [
       "<div>\n",
       "<style scoped>\n",
       "    .dataframe tbody tr th:only-of-type {\n",
       "        vertical-align: middle;\n",
       "    }\n",
       "\n",
       "    .dataframe tbody tr th {\n",
       "        vertical-align: top;\n",
       "    }\n",
       "\n",
       "    .dataframe thead th {\n",
       "        text-align: right;\n",
       "    }\n",
       "</style>\n",
       "<table border=\"1\" class=\"dataframe\">\n",
       "  <thead>\n",
       "    <tr style=\"text-align: right;\">\n",
       "      <th></th>\n",
       "      <th>Feature Id</th>\n",
       "      <th>Importances</th>\n",
       "    </tr>\n",
       "  </thead>\n",
       "  <tbody>\n",
       "    <tr>\n",
       "      <th>0</th>\n",
       "      <td>Sales_Contract_No</td>\n",
       "      <td>51.856549</td>\n",
       "    </tr>\n",
       "    <tr>\n",
       "      <th>1</th>\n",
       "      <td>Opportunity_Name</td>\n",
       "      <td>26.821444</td>\n",
       "    </tr>\n",
       "    <tr>\n",
       "      <th>2</th>\n",
       "      <td>Product_Name</td>\n",
       "      <td>9.971593</td>\n",
       "    </tr>\n",
       "    <tr>\n",
       "      <th>3</th>\n",
       "      <td>Product_Family</td>\n",
       "      <td>4.330494</td>\n",
       "    </tr>\n",
       "    <tr>\n",
       "      <th>4</th>\n",
       "      <td>Billing_Country</td>\n",
       "      <td>3.643245</td>\n",
       "    </tr>\n",
       "    <tr>\n",
       "      <th>5</th>\n",
       "      <td>Account_Name</td>\n",
       "      <td>2.516183</td>\n",
       "    </tr>\n",
       "    <tr>\n",
       "      <th>6</th>\n",
       "      <td>Territory</td>\n",
       "      <td>0.860492</td>\n",
       "    </tr>\n",
       "    <tr>\n",
       "      <th>7</th>\n",
       "      <td>ID</td>\n",
       "      <td>0.000000</td>\n",
       "    </tr>\n",
       "    <tr>\n",
       "      <th>8</th>\n",
       "      <td>Region</td>\n",
       "      <td>0.000000</td>\n",
       "    </tr>\n",
       "    <tr>\n",
       "      <th>9</th>\n",
       "      <td>Pricing, Delivery_Terms_Quote_Appr</td>\n",
       "      <td>0.000000</td>\n",
       "    </tr>\n",
       "    <tr>\n",
       "      <th>10</th>\n",
       "      <td>Pricing, Delivery_Terms_Approved</td>\n",
       "      <td>0.000000</td>\n",
       "    </tr>\n",
       "    <tr>\n",
       "      <th>11</th>\n",
       "      <td>Bureaucratic_Code_0_Approval</td>\n",
       "      <td>0.000000</td>\n",
       "    </tr>\n",
       "    <tr>\n",
       "      <th>12</th>\n",
       "      <td>Bureaucratic_Code_0_Approved</td>\n",
       "      <td>0.000000</td>\n",
       "    </tr>\n",
       "    <tr>\n",
       "      <th>13</th>\n",
       "      <td>Submitted_for_Approval</td>\n",
       "      <td>0.000000</td>\n",
       "    </tr>\n",
       "    <tr>\n",
       "      <th>14</th>\n",
       "      <td>Bureaucratic_Code</td>\n",
       "      <td>0.000000</td>\n",
       "    </tr>\n",
       "    <tr>\n",
       "      <th>15</th>\n",
       "      <td>Account_Created_Date</td>\n",
       "      <td>0.000000</td>\n",
       "    </tr>\n",
       "    <tr>\n",
       "      <th>16</th>\n",
       "      <td>Source</td>\n",
       "      <td>0.000000</td>\n",
       "    </tr>\n",
       "    <tr>\n",
       "      <th>17</th>\n",
       "      <td>Opportunity_ID</td>\n",
       "      <td>0.000000</td>\n",
       "    </tr>\n",
       "    <tr>\n",
       "      <th>18</th>\n",
       "      <td>Account_Owner</td>\n",
       "      <td>0.000000</td>\n",
       "    </tr>\n",
       "    <tr>\n",
       "      <th>19</th>\n",
       "      <td>Opportunity_Owner</td>\n",
       "      <td>0.000000</td>\n",
       "    </tr>\n",
       "    <tr>\n",
       "      <th>20</th>\n",
       "      <td>Account_Type</td>\n",
       "      <td>0.000000</td>\n",
       "    </tr>\n",
       "    <tr>\n",
       "      <th>21</th>\n",
       "      <td>Opportunity_Type</td>\n",
       "      <td>0.000000</td>\n",
       "    </tr>\n",
       "    <tr>\n",
       "      <th>22</th>\n",
       "      <td>Delivery_Terms</td>\n",
       "      <td>0.000000</td>\n",
       "    </tr>\n",
       "    <tr>\n",
       "      <th>23</th>\n",
       "      <td>Opportunity_Created_Date</td>\n",
       "      <td>0.000000</td>\n",
       "    </tr>\n",
       "    <tr>\n",
       "      <th>24</th>\n",
       "      <td>Quote_Expiry_Date</td>\n",
       "      <td>0.000000</td>\n",
       "    </tr>\n",
       "    <tr>\n",
       "      <th>25</th>\n",
       "      <td>Last_Modified_Date</td>\n",
       "      <td>0.000000</td>\n",
       "    </tr>\n",
       "    <tr>\n",
       "      <th>26</th>\n",
       "      <td>Last_Modified_By</td>\n",
       "      <td>0.000000</td>\n",
       "    </tr>\n",
       "    <tr>\n",
       "      <th>27</th>\n",
       "      <td>ASP_Currency</td>\n",
       "      <td>0.000000</td>\n",
       "    </tr>\n",
       "    <tr>\n",
       "      <th>28</th>\n",
       "      <td>ASP</td>\n",
       "      <td>0.000000</td>\n",
       "    </tr>\n",
       "    <tr>\n",
       "      <th>29</th>\n",
       "      <td>ASP_(converted)</td>\n",
       "      <td>0.000000</td>\n",
       "    </tr>\n",
       "    <tr>\n",
       "      <th>30</th>\n",
       "      <td>Planned_Delivery_Start_Date</td>\n",
       "      <td>0.000000</td>\n",
       "    </tr>\n",
       "    <tr>\n",
       "      <th>31</th>\n",
       "      <td>Planned_Delivery_End_Date</td>\n",
       "      <td>0.000000</td>\n",
       "    </tr>\n",
       "    <tr>\n",
       "      <th>32</th>\n",
       "      <td>Month</td>\n",
       "      <td>0.000000</td>\n",
       "    </tr>\n",
       "    <tr>\n",
       "      <th>33</th>\n",
       "      <td>Delivery_Quarter</td>\n",
       "      <td>0.000000</td>\n",
       "    </tr>\n",
       "    <tr>\n",
       "      <th>34</th>\n",
       "      <td>Delivery_Year</td>\n",
       "      <td>0.000000</td>\n",
       "    </tr>\n",
       "    <tr>\n",
       "      <th>35</th>\n",
       "      <td>TRF</td>\n",
       "      <td>0.000000</td>\n",
       "    </tr>\n",
       "    <tr>\n",
       "      <th>36</th>\n",
       "      <td>Total_Amount_Currency</td>\n",
       "      <td>0.000000</td>\n",
       "    </tr>\n",
       "    <tr>\n",
       "      <th>37</th>\n",
       "      <td>Total_Amount</td>\n",
       "      <td>0.000000</td>\n",
       "    </tr>\n",
       "    <tr>\n",
       "      <th>38</th>\n",
       "      <td>Total_Taxable_Amount_Currency</td>\n",
       "      <td>0.000000</td>\n",
       "    </tr>\n",
       "    <tr>\n",
       "      <th>39</th>\n",
       "      <td>Total_Taxable_Amount</td>\n",
       "      <td>0.000000</td>\n",
       "    </tr>\n",
       "    <tr>\n",
       "      <th>40</th>\n",
       "      <td>%Extio-Region</td>\n",
       "      <td>0.000000</td>\n",
       "    </tr>\n",
       "    <tr>\n",
       "      <th>41</th>\n",
       "      <td>%Extio-Territory</td>\n",
       "      <td>0.000000</td>\n",
       "    </tr>\n",
       "  </tbody>\n",
       "</table>\n",
       "</div>"
      ],
      "text/plain": [
       "                            Feature Id  Importances\n",
       "0                    Sales_Contract_No    51.856549\n",
       "1                     Opportunity_Name    26.821444\n",
       "2                         Product_Name     9.971593\n",
       "3                       Product_Family     4.330494\n",
       "4                      Billing_Country     3.643245\n",
       "5                         Account_Name     2.516183\n",
       "6                            Territory     0.860492\n",
       "7                                   ID     0.000000\n",
       "8                               Region     0.000000\n",
       "9   Pricing, Delivery_Terms_Quote_Appr     0.000000\n",
       "10    Pricing, Delivery_Terms_Approved     0.000000\n",
       "11        Bureaucratic_Code_0_Approval     0.000000\n",
       "12        Bureaucratic_Code_0_Approved     0.000000\n",
       "13              Submitted_for_Approval     0.000000\n",
       "14                   Bureaucratic_Code     0.000000\n",
       "15                Account_Created_Date     0.000000\n",
       "16                             Source      0.000000\n",
       "17                      Opportunity_ID     0.000000\n",
       "18                       Account_Owner     0.000000\n",
       "19                   Opportunity_Owner     0.000000\n",
       "20                        Account_Type     0.000000\n",
       "21                    Opportunity_Type     0.000000\n",
       "22                      Delivery_Terms     0.000000\n",
       "23            Opportunity_Created_Date     0.000000\n",
       "24                   Quote_Expiry_Date     0.000000\n",
       "25                  Last_Modified_Date     0.000000\n",
       "26                    Last_Modified_By     0.000000\n",
       "27                        ASP_Currency     0.000000\n",
       "28                                 ASP     0.000000\n",
       "29                     ASP_(converted)     0.000000\n",
       "30         Planned_Delivery_Start_Date     0.000000\n",
       "31           Planned_Delivery_End_Date     0.000000\n",
       "32                               Month     0.000000\n",
       "33                    Delivery_Quarter     0.000000\n",
       "34                       Delivery_Year     0.000000\n",
       "35                                 TRF     0.000000\n",
       "36               Total_Amount_Currency     0.000000\n",
       "37                        Total_Amount     0.000000\n",
       "38       Total_Taxable_Amount_Currency     0.000000\n",
       "39                Total_Taxable_Amount     0.000000\n",
       "40                       %Extio-Region     0.000000\n",
       "41                    %Extio-Territory     0.000000"
      ]
     },
     "execution_count": 21,
     "metadata": {},
     "output_type": "execute_result"
    }
   ],
   "source": [
    "model.get_feature_importance(prettified=True)"
   ]
  },
  {
   "cell_type": "code",
   "execution_count": 22,
   "metadata": {},
   "outputs": [
    {
     "data": {
      "text/plain": [
       "0.9986210253082414"
      ]
     },
     "execution_count": 22,
     "metadata": {},
     "output_type": "execute_result"
    }
   ],
   "source": [
    "preds = model.predict(entrenamiento_pool)\n",
    "accuracy_score(objetivo, preds)"
   ]
  },
  {
   "cell_type": "code",
   "execution_count": null,
   "metadata": {},
   "outputs": [],
   "source": []
  }
 ],
 "metadata": {
  "kernelspec": {
   "display_name": "Python 3",
   "language": "python",
   "name": "python3"
  },
  "language_info": {
   "codemirror_mode": {
    "name": "ipython",
    "version": 3
   },
   "file_extension": ".py",
   "mimetype": "text/x-python",
   "name": "python",
   "nbconvert_exporter": "python",
   "pygments_lexer": "ipython3",
   "version": "3.7.6"
  }
 },
 "nbformat": 4,
 "nbformat_minor": 4
}
