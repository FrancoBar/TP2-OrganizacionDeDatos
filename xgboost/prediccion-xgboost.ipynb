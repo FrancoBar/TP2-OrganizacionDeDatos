{
 "cells": [
  {
   "cell_type": "code",
   "execution_count": 1,
   "metadata": {},
   "outputs": [],
   "source": [
    "import sys\n",
    "import xgboost as xgb\n",
    "import pandas as pd\n",
    "import matplotlib.pyplot as plt\n",
    "import numpy as np\n",
    "import sklearn as skl\n",
    "from sklearn.model_selection import train_test_split\n",
    "from sklearn.metrics import confusion_matrix\n",
    "from sklearn.metrics import accuracy_score\n",
    "from sklearn.metrics import classification_report\n",
    "from datetime import datetime\n",
    "from itertools import combinations\n",
    "PREDICCION_REAL = True\n",
    "MAXIMIZAR_HIPERPARAMETROS = False\n",
    "PARAMETROS = {\"booster\":\"gbtree\", \"max_depth\":3, \"eta\": 0.1, \"objective\": \"binary:logistic\", \"nthread\":2,\"gamma\" : 50,\"subsample\" : 1}\n",
    "RONDAS = 500\n",
    "EARLY = 1"
   ]
  },
  {
   "cell_type": "code",
   "execution_count": 2,
   "metadata": {},
   "outputs": [],
   "source": [
    "#APERTURA DE ARCHIVO DE ARCHIVOS\n",
    "entrenamiento = pd.read_csv(\"entrenamiento-listo.csv\")\n",
    "test = pd.read_csv(\"test-listo.csv\")"
   ]
  },
  {
   "cell_type": "code",
   "execution_count": 3,
   "metadata": {},
   "outputs": [],
   "source": [
    "#FILTRADO DE COLUMNAS - NO REMOVER STAGE O FECHA\n",
    "entrenamiento = entrenamiento.drop(columns=['ID','Opportunity_Name','Sales_Contract_No'])\n",
    "test = test.drop(columns=['ID','Opportunity_Name','Sales_Contract_No'])"
   ]
  },
  {
   "cell_type": "code",
   "execution_count": 4,
   "metadata": {},
   "outputs": [
    {
     "name": "stdout",
     "output_type": "stream",
     "text": [
      "[18:13:09] WARNING: C:/Users/Administrator/workspace/xgboost-win64_release_1.3.0/src/learner.cc:1061: Starting in XGBoost 1.3.0, the default evaluation metric used with the objective 'binary:logistic' was changed from 'error' to 'logloss'. Explicitly set eval_metric if you'd like to restore the old behavior.\n",
      "2551\n"
     ]
    }
   ],
   "source": [
    "if(PREDICCION_REAL):\n",
    "    objetivo = (entrenamiento['Stage'] == 'Closed Won').astype(int)\n",
    "    entrenamiento = entrenamiento.drop(columns=['Stage','Fecha'])\n",
    "    \n",
    "    d_entrenamiento = xgb.DMatrix(entrenamiento.values, objetivo.values)\n",
    "    d_prueba = xgb.DMatrix(test.values)\n",
    "    \n",
    "    bst = xgb.train(PARAMETROS, d_entrenamiento, RONDAS)\n",
    "    preds = bst.predict(d_prueba)\n",
    "\n",
    "    resultados = test[['Opportunity_ID']].copy()\n",
    "    resultados['Target'] = pd.Series(preds)\n",
    "    #resultados = resultados.groupby('Opportunity_ID').mean()\n",
    "    #resultados = resultados.reset_index()\n",
    "    #resultados['Target'] = resultados['Target'].apply(lambda x: int(x >= 0.5))\n",
    "    \n",
    "    resultados.to_csv(\"prediccion.csv\", index=False)\n",
    "    print(resultados['Target'].count())"
   ]
  },
  {
   "cell_type": "code",
   "execution_count": 5,
   "metadata": {},
   "outputs": [
    {
     "ename": "SystemExit",
     "evalue": "",
     "output_type": "error",
     "traceback": [
      "An exception has occurred, use %tb to see the full traceback.\n",
      "\u001b[1;31mSystemExit\u001b[0m\n"
     ]
    },
    {
     "name": "stderr",
     "output_type": "stream",
     "text": [
      "C:\\Users\\gianb\\anaconda3\\lib\\site-packages\\IPython\\core\\interactiveshell.py:3351: UserWarning: To exit: use 'exit', 'quit', or Ctrl-D.\n",
      "  warn(\"To exit: use 'exit', 'quit', or Ctrl-D.\", stacklevel=1)\n"
     ]
    }
   ],
   "source": [
    "if(PREDICCION_REAL): sys.exit()"
   ]
  },
  {
   "cell_type": "code",
   "execution_count": null,
   "metadata": {},
   "outputs": [],
   "source": [
    "entrenamiento_label = (entrenamiento['Stage'] == 'Closed Won').astype(int)\n",
    "test_label          = (test['Stage'] == 'Closed Won').astype(int)\n",
    "\n",
    "set_entrenamiento = xgb.DMatrix(entrenamiento.drop(columns=['Stage','Fecha']),label = entrenamiento_label)\n",
    "set_test  = xgb.DMatrix(test .drop(columns=['Stage','Fecha']),label = test_label)\n",
    "evaluacion = [(set_test, 'eval'), (set_entrenamiento, 'train')]\n",
    "\n",
    "modelo = xgb.train(PARAMETROS, set_entrenamiento, RONDAS, evaluacion, early_stopping_rounds=EARLY)"
   ]
  },
  {
   "cell_type": "code",
   "execution_count": null,
   "metadata": {},
   "outputs": [],
   "source": [
    "prediccion = modelo.predict(set_test)\n",
    "\n",
    "resultados = test[['Opportunity_ID']].copy()\n",
    "resultados['Target'] = pd.Series(prediccion)\n",
    "#resultados = resultados.groupby('Opportunity_ID').mean()\n",
    "#resultados = resultados.reset_index()\n",
    "#resultados['Target'] = resultados['Target'].apply(lambda x: int(x >= 0.5))\n",
    "\n",
    "resultados.to_csv(\"prediccion.csv\", index=False)\n",
    "print(resultados['Target'].count())\n",
    "\n",
    "prediccion = [1 if i > .5 else 0 for i in prediccion]\n",
    "\n",
    "def metricas(objetivo, prediccion):\n",
    "    matriz_conf = confusion_matrix(objetivo, prediccion)\n",
    "    score = accuracy_score(objetivo, prediccion)\n",
    "    reporte = classification_report(objetivo, prediccion)\n",
    "    metricas = [matriz_conf, score, reporte]\n",
    "    return(metricas)\n",
    "\n",
    "metrics = metricas(test_label, prediccion)\n",
    "print(\"Prediccion Test\")\n",
    "[print(i) for i in metrics]\n",
    "print(skl.metrics.log_loss(test_label,prediccion))\n",
    "\n",
    "prediccion = modelo.predict(set_entrenamiento)\n",
    "prediccion = [1 if i > .5 else 0 for i in prediccion]\n",
    "metricas = metricas(entrenamiento_label, prediccion)\n",
    "print(\"Prediccion Train\")\n",
    "[print(i) for i in metricas]"
   ]
  },
  {
   "cell_type": "code",
   "execution_count": null,
   "metadata": {},
   "outputs": [],
   "source": [
    "if(not MAXIMIZAR_HIPERPARAMETROS): sys.exit()"
   ]
  },
  {
   "cell_type": "code",
   "execution_count": null,
   "metadata": {},
   "outputs": [],
   "source": [
    "min_log_loss = 1000\n",
    "d = 1000\n",
    "e = 1000\n",
    "r = 1000\n",
    "rondas = 500\n",
    "ear = 1000\n",
    "g = 1000\n",
    "for depth in range(2,5):\n",
    "    for eta in [0.1,0.3,0.5,0.7,0.9]:\n",
    "        for early in range(1,5):\n",
    "            for gamma in range(0,300,100):\n",
    "                parametros = {\"booster\":\"gbtree\", \"max_depth\":depth, \"eta\": eta, \"objective\": \"binary:logistic\", \"nthread\":2,\"gamma\":gamma}\n",
    "                modelo = xgb.train(parametros, set_entrenamiento, rondas, evaluacion,early_stopping_rounds = early)\n",
    "                prediccion = modelo.predict(set_test)\n",
    "                prediccion = [1 if i > .5 else 0 for i in prediccion]\n",
    "                log_loss = skl.metrics.log_loss(test_label,prediccion)\n",
    "                if (log_loss < min_log_loss):\n",
    "                    min_log_loss = log_loss\n",
    "                    d = depth\n",
    "                    e = eta\n",
    "                    r = rondas\n",
    "                    g = gamma\n",
    "                    ear = early\n",
    "\n",
    "\n",
    "print(\"log: \",min_log_loss)                \n",
    "print(\"depth: \",d)      \n",
    "print(\"rondas\",r)\n",
    "print(\"gamma: \", g)\n",
    "print(\"early: \",ear)"
   ]
  },
  {
   "cell_type": "code",
   "execution_count": null,
   "metadata": {},
   "outputs": [],
   "source": [
    "print(\"log: \",min_log_loss)                \n",
    "print(\"depth: \",d)      \n",
    "print(\"eta: \",e)    \n",
    "print(\"rondas\",r)\n",
    "print(\"gamma: \", g)\n",
    "print(\"early: \",ear)"
   ]
  },
  {
   "cell_type": "code",
   "execution_count": null,
   "metadata": {},
   "outputs": [],
   "source": []
  }
 ],
 "metadata": {
  "kernelspec": {
   "display_name": "Python 3",
   "language": "python",
   "name": "python3"
  },
  "language_info": {
   "codemirror_mode": {
    "name": "ipython",
    "version": 3
   },
   "file_extension": ".py",
   "mimetype": "text/x-python",
   "name": "python",
   "nbconvert_exporter": "python",
   "pygments_lexer": "ipython3",
   "version": "3.8.3"
  }
 },
 "nbformat": 4,
 "nbformat_minor": 4
}
