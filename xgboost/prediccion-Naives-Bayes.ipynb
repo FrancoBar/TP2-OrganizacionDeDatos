{
 "cells": [
  {
   "cell_type": "code",
   "execution_count": 1,
   "metadata": {},
   "outputs": [],
   "source": [
    "import sys\n",
    "import pandas as pd\n",
    "import matplotlib.pyplot as plt\n",
    "import numpy as np\n",
    "import sklearn as skl\n",
    "from sklearn.metrics import confusion_matrix, accuracy_score\n",
    "import skopt\n",
    "import scipy\n",
    "from skopt.space import Real\n",
    "import category_encoders\n",
    "from sklearn.naive_bayes import GaussianNB\n",
    "import math\n",
    "\n",
    "PREDICCION_REAL = False\n",
    "MAXIMIZAR_HIPERPARAMETROS = False\n",
    "PARAMETROS = {\n",
    "    \n",
    "}\n",
    "\n"
   ]
  },
  {
   "cell_type": "code",
   "execution_count": 2,
   "metadata": {},
   "outputs": [],
   "source": [
    "#APERTURA DE ARCHIVO DE ARCHIVOS\n",
    "entrenamiento = pd.read_pickle(\"../Archivos/Arboles_entrenamiento.pkl\")\n",
    "test = pd.read_pickle(\"../Archivos/Arboles_validacion.pkl\")\n",
    "validacion = pd.read_pickle(\"../Archivos/Arboles_validacion.pkl\")"
   ]
  },
  {
   "cell_type": "code",
   "execution_count": 3,
   "metadata": {},
   "outputs": [],
   "source": [
    "#FILTRADO DE COLUMNAS - NO REMOVER STAGE O FECHA\n",
    "#fugas = ['ID','Opportunity_Name','Sales_Contract_No','Account_Name','Account_Owner','Opportunity_Owner','Last_Modified_By','Product_Family','Product_Name','ASP','ASP_(converted)']\n",
    "#'Total_Taxable_Amount'\n",
    "#columnas_fecha = ['Month','Last_Modified_Date','Account_Created_Date','Opportunity_Created_Date','Quote_Expiry_Date','Planned_Delivery_Start_Date','Planned_Delivery_End_Date']\n",
    "#entrenamiento = entrenamiento.drop(columns=fugas)\n",
    "#test = test.drop(columns=fugas)\n",
    "#test = test.drop(columns=columnas_fecha)\n",
    "#entrenamiento = entrenamiento.drop(columns=columnas_fecha)"
   ]
  },
  {
   "cell_type": "code",
   "execution_count": 4,
   "metadata": {},
   "outputs": [],
   "source": [
    "#FECHAS A DIAS\n",
    "\n",
    "columnas_fecha = ['Last_Modified_Date','Account_Created_Date','Opportunity_Created_Date','Quote_Expiry_Date','Planned_Delivery_Start_Date','Planned_Delivery_End_Date',\"Year-Month\"]\n",
    "def fecha_a_dias(x):\n",
    "    for columna in columnas_fecha:\n",
    "        x[columna] = x[columna].apply(lambda x : (x - pd.to_datetime('01/01/2000', format='%m/%d/%Y')).days)\n",
    "\n",
    "fecha_a_dias(entrenamiento)\n",
    "fecha_a_dias(test)"
   ]
  },
  {
   "cell_type": "code",
   "execution_count": 5,
   "metadata": {},
   "outputs": [],
   "source": [
    "objetivo = (entrenamiento['Stage'] == 1).astype(int)\n",
    "entrenamiento = entrenamiento.drop(columns=['Stage'])\n",
    "columnas_category = list(entrenamiento.select_dtypes(include=['category']).columns)\n",
    "if 'Stage' in columnas_category : columnas_category.remove('Stage')"
   ]
  },
  {
   "cell_type": "code",
   "execution_count": 6,
   "metadata": {},
   "outputs": [],
   "source": [
    "if not PREDICCION_REAL:\n",
    "    test_label = (test['Stage'] == 1).astype(int)\n",
    "    test = test.drop(columns=['Stage'])\n",
    "    validacion_label = (validacion['Stage'] == 1).astype(int)\n",
    "    validacion = validacion.drop(columns=['Stage'])"
   ]
  },
  {
   "cell_type": "code",
   "execution_count": 7,
   "metadata": {},
   "outputs": [],
   "source": [
    "def categoricas_a_numericas(train,test,label,usar_label):\n",
    "    if (usar_label):\n",
    "        columnas_object = list(train.select_dtypes(include=['category']).columns)\n",
    "    else:\n",
    "        columnas_object = list(test.select_dtypes(include=['category']).columns)\n",
    "    if 'Stage' in columnas_object : columnas_object.remove('Stage')\n",
    "    ohe = category_encoders.cat_boost.CatBoostEncoder(cols = columnas_object,return_df = True)\n",
    "    ohe.fit(train,label)\n",
    "    if (usar_label):\n",
    "        columnas = ohe.transform(train,label)\n",
    "        for columna in columnas_object:\n",
    "            train[columna] = columnas[columna].copy()\n",
    "    else:\n",
    "        columnas = ohe.transform(test)\n",
    "        for columna in columnas_object:\n",
    "            test[columna] = columnas[columna].copy()\n",
    "categoricas_a_numericas(entrenamiento,test,objetivo,False)\n",
    "categoricas_a_numericas(entrenamiento.copy(),validacion,objetivo,False)\n",
    "categoricas_a_numericas(entrenamiento,test,objetivo,True)"
   ]
  },
  {
   "cell_type": "code",
   "execution_count": null,
   "metadata": {},
   "outputs": [],
   "source": []
  },
  {
   "cell_type": "code",
   "execution_count": null,
   "metadata": {},
   "outputs": [],
   "source": []
  },
  {
   "cell_type": "code",
   "execution_count": null,
   "metadata": {},
   "outputs": [],
   "source": []
  },
  {
   "cell_type": "code",
   "execution_count": null,
   "metadata": {},
   "outputs": [],
   "source": []
  },
  {
   "cell_type": "code",
   "execution_count": 8,
   "metadata": {},
   "outputs": [],
   "source": [
    "mean = test[\"Opportunity_Duration_Ratio\"].mean()\n",
    "test[\"Opportunity_Duration_Ratio\"] = test[\"Opportunity_Duration_Ratio\"].replace(np.NaN,mean)"
   ]
  },
  {
   "cell_type": "code",
   "execution_count": 9,
   "metadata": {},
   "outputs": [],
   "source": [
    "mean = entrenamiento[\"Buro_Approved_by_Billing_Country_std\"].mean()\n",
    "entrenamiento[\"Buro_Approved_by_Billing_Country_std\"] = entrenamiento[\"Buro_Approved_by_Billing_Country_std\"].replace(np.NaN,mean)\n",
    "mean = test[\"Buro_Approved_by_Billing_Country_std\"].mean()\n",
    "test[\"Buro_Approved_by_Billing_Country_std\"] = test[\"Buro_Approved_by_Billing_Country_std\"].replace(np.NaN,mean)"
   ]
  },
  {
   "cell_type": "code",
   "execution_count": 10,
   "metadata": {},
   "outputs": [],
   "source": [
    "mean = entrenamiento[\"Opportunity_Taxable_Rate\"].mean()\n",
    "entrenamiento[\"Opportunity_Taxable_Rate\"] = entrenamiento[\"Opportunity_Taxable_Rate\"].replace(np.NaN,mean)"
   ]
  },
  {
   "cell_type": "code",
   "execution_count": 11,
   "metadata": {},
   "outputs": [],
   "source": [
    "def limpiar_nan(col):\n",
    "    mean = entrenamiento[col].mean()\n",
    "    entrenamiento[col] = entrenamiento[col].replace(np.NaN,mean)\n",
    "    mean = test[col].mean()\n",
    "    test[col] = test[col].replace(np.NaN,mean)\n",
    "    mean = validacion[col].mean()\n",
    "    validacion[col] = validacion[col].replace(np.NaN,mean)"
   ]
  },
  {
   "cell_type": "code",
   "execution_count": 12,
   "metadata": {},
   "outputs": [],
   "source": [
    "def limpiar_inf(col):\n",
    "    entrenamiento[col] = entrenamiento[col].replace(math.inf,np.NaN)\n",
    "    test[col] = test[col].replace(math.inf,np.NaN)\n",
    "    validacion[col] = validacion[col].replace(math.inf,np.NaN)"
   ]
  },
  {
   "cell_type": "code",
   "execution_count": 13,
   "metadata": {},
   "outputs": [],
   "source": [
    "limpiar_nan(\"ASP_by_Billing_Country_std\")\n",
    "limpiar_nan(\"Total_Amount_by_Billing_Country_std\")\n",
    "limpiar_nan(\"Opportunity_Duration_by_Product_Family_std\")\n",
    "limpiar_nan(\"Total_Amount_by_Product_Family_std\")\n",
    "limpiar_nan(\"Buro_Approved_by_Product_Family\")\n",
    "limpiar_nan(\"Territory_Duration\")\n",
    "limpiar_nan(\"Family_Duration\")\n",
    "limpiar_nan(\"ASP\")\n",
    "limpiar_nan(\"Opportunity_TRF\")\n",
    "limpiar_nan(\"Opportunity_Duration_Ratio\")\n",
    "limpiar_nan(\"Total_Products_Region_Month_Change\")\n",
    "limpiar_nan(\"Total_Products_Region_Week_Change\")\n",
    "limpiar_inf(\"Total_Product_Family_Region_Month_Change\")\n",
    "limpiar_nan(\"Total_Product_Family_Region_Month_Change\")\n",
    "\n",
    "limpiar_inf(\"Total_Products_Region_Week_Change\") #Baja en 0.001 accuracy\n",
    "limpiar_nan(\"Total_Products_Region_Week_Change\")\n",
    "\n",
    "limpiar_inf(\"Total_Products_Region_Month_Change\") #Baja en 0.001 accuracy\n",
    "limpiar_nan(\"Total_Products_Region_Month_Change\")"
   ]
  },
  {
   "cell_type": "code",
   "execution_count": 14,
   "metadata": {},
   "outputs": [],
   "source": [
    "entrenamiento = entrenamiento.drop(columns = [\"Quote_Expiry_Date\",\"Total_Products_Region_Quarter_Change\"])\n",
    "test = test.drop(columns = [\"Quote_Expiry_Date\",\"Total_Products_Region_Quarter_Change\"])"
   ]
  },
  {
   "cell_type": "code",
   "execution_count": 15,
   "metadata": {},
   "outputs": [
    {
     "name": "stdout",
     "output_type": "stream",
     "text": [
      "False    12081\n",
      "Name: Region, dtype: int64\n",
      "False    12081\n",
      "Name: Territory, dtype: int64\n",
      "False    12081\n",
      "Name: Pricing, Delivery_Terms_Quote_Appr, dtype: int64\n",
      "False    12081\n",
      "Name: Pricing, Delivery_Terms_Approved, dtype: int64\n",
      "False    12081\n",
      "Name: Bureaucratic_Code_0_Approval, dtype: int64\n",
      "False    12081\n",
      "Name: Bureaucratic_Code_0_Approved, dtype: int64\n",
      "False    12081\n",
      "Name: Submitted_for_Approval, dtype: int64\n",
      "False    12081\n",
      "Name: Bureaucratic_Code, dtype: int64\n",
      "False    12081\n",
      "Name: Account_Created_Date, dtype: int64\n",
      "False    12081\n",
      "Name: Source, dtype: int64\n",
      "False    12081\n",
      "Name: Billing_Country, dtype: int64\n",
      "False    12081\n",
      "Name: Account_Name, dtype: int64\n",
      "False    12081\n",
      "Name: Opportunity_Name, dtype: int64\n",
      "False    12081\n",
      "Name: Sales_Contract_No, dtype: int64\n",
      "False    12081\n",
      "Name: Account_Owner, dtype: int64\n",
      "False    12081\n",
      "Name: Opportunity_Owner, dtype: int64\n",
      "False    12081\n",
      "Name: Account_Type, dtype: int64\n",
      "False    12081\n",
      "Name: Opportunity_Type, dtype: int64\n",
      "False    12081\n",
      "Name: Delivery_Terms, dtype: int64\n",
      "False    12081\n",
      "Name: Opportunity_Created_Date, dtype: int64\n",
      "False    12081\n",
      "Name: Last_Modified_Date, dtype: int64\n",
      "False    12081\n",
      "Name: Last_Modified_By, dtype: int64\n",
      "False    12081\n",
      "Name: Product_Family, dtype: int64\n",
      "False    12081\n",
      "Name: Product_Name, dtype: int64\n",
      "False    12081\n",
      "Name: ASP_Currency, dtype: int64\n",
      "False    12081\n",
      "Name: ASP, dtype: int64\n",
      "False    12081\n",
      "Name: ASP_(converted), dtype: int64\n",
      "False    12081\n",
      "Name: Planned_Delivery_Start_Date, dtype: int64\n",
      "False    12081\n",
      "Name: Planned_Delivery_End_Date, dtype: int64\n",
      "False    12081\n",
      "Name: Month, dtype: int64\n",
      "False    12081\n",
      "Name: Delivery_Quarter, dtype: int64\n",
      "False    12081\n",
      "Name: Delivery_Year, dtype: int64\n",
      "False    12081\n",
      "Name: TRF, dtype: int64\n",
      "False    12081\n",
      "Name: Total_Amount_Currency, dtype: int64\n",
      "False    12081\n",
      "Name: Total_Amount, dtype: int64\n",
      "False    12081\n",
      "Name: Total_Taxable_Amount_Currency, dtype: int64\n",
      "False    12081\n",
      "Name: Total_Taxable_Amount, dtype: int64\n",
      "False    12081\n",
      "Name: Total_Amount(USD), dtype: int64\n",
      "False    12081\n",
      "Name: Total_Taxable_Amount(USD), dtype: int64\n",
      "False    12081\n",
      "Name: Total_Product_Family_Region_This_Month, dtype: int64\n",
      "False    12081\n",
      "Name: Total_Product_Family_Region_Last_Month, dtype: int64\n",
      "False    12081\n",
      "Name: Total_Product_Family_Region_Month_Change, dtype: int64\n",
      "False    12081\n",
      "Name: Total_Products_Region_This_Week, dtype: int64\n",
      "False    12081\n",
      "Name: Total_Products_Region_Last_Week, dtype: int64\n",
      "False    12081\n",
      "Name: Total_Products_Region_Week_Change, dtype: int64\n",
      "False    12081\n",
      "Name: Total_Products_Region_This_Month, dtype: int64\n",
      "False    12081\n",
      "Name: Total_Products_Region_Last_Month, dtype: int64\n",
      "False    12081\n",
      "Name: Total_Products_Region_Month_Change, dtype: int64\n",
      "False    12081\n",
      "Name: Total_Products_Region_This_Quarter, dtype: int64\n",
      "False    12081\n",
      "Name: Total_Products_Region_Last_Quarter, dtype: int64\n",
      "False    12081\n",
      "Name: Opportunity_Total_Amount, dtype: int64\n",
      "False    12081\n",
      "Name: Opportunity_Size, dtype: int64\n",
      "False    12081\n",
      "Name: Planned_Deliver_Duration, dtype: int64\n",
      "False    12081\n",
      "Name: Actual_Opportunity_Duration, dtype: int64\n",
      "False    12081\n",
      "Name: Planned_Time_Until_Deliver, dtype: int64\n",
      "False    12081\n",
      "Name: Planned_Opportunity_Duration, dtype: int64\n",
      "False    12081\n",
      "Name: Opportunity_Taxable_Rate, dtype: int64\n",
      "False    12081\n",
      "Name: Product_Amount_Deviation_of_Product_Family_rate, dtype: int64\n",
      "False    12081\n",
      "Name: Year-Month, dtype: int64\n",
      "False    12081\n",
      "Name: Opportunity_TRF, dtype: int64\n",
      "False    12081\n",
      "Name: Opportunity_Duration_Ratio, dtype: int64\n",
      "False    12081\n",
      "Name: Opportunity_Total_Amount_Region_avg, dtype: int64\n",
      "False    12081\n",
      "Name: Opportunity_Total_Amount_Region_std, dtype: int64\n",
      "False    12081\n",
      "Name: Opportunity_Total_Amount_Region_avg_Ratio, dtype: int64\n",
      "False    12081\n",
      "Name: Opportunity_Total_Amount_Region_std_Ratio, dtype: int64\n",
      "False    12081\n",
      "Name: Opportunity_TRF_Region_avg, dtype: int64\n",
      "False    12081\n",
      "Name: Opportunity_TRF_Region_std, dtype: int64\n",
      "False    12081\n",
      "Name: Opportunity_TRF_Region_avg_Ratio, dtype: int64\n",
      "False    12081\n",
      "Name: Opportunity_TRF_Region_std_Ratio, dtype: int64\n",
      "False    12081\n",
      "Name: Opportunity_Duration_by_Billing_Country, dtype: int64\n",
      "False    12081\n",
      "Name: Opportunity_Duration_by_Account_Type, dtype: int64\n",
      "False    12081\n",
      "Name: ASP_by_Region_mean, dtype: int64\n",
      "False    12081\n",
      "Name: ASP_by_Region_std, dtype: int64\n",
      "False    12081\n",
      "Name: ASP_by_Billing_Country_mean, dtype: int64\n",
      "False    12081\n",
      "Name: ASP_by_Billing_Country_std, dtype: int64\n",
      "False    12081\n",
      "Name: Total_Amount_by_Billing_Country_mean, dtype: int64\n",
      "False    12081\n",
      "Name: Total_Amount_by_Billing_Country_std, dtype: int64\n",
      "False    12081\n",
      "Name: Buro_Approved_by_Billing_Country_mean, dtype: int64\n",
      "False    12081\n",
      "Name: Buro_Approved_by_Billing_Country_std, dtype: int64\n",
      "False    12081\n",
      "Name: Opportunity_Duration_by_Product_Family_mean, dtype: int64\n",
      "False    12081\n",
      "Name: Opportunity_Duration_by_Product_Family_std, dtype: int64\n",
      "False    12081\n",
      "Name: Total_Amount_by_Product_Family_mean, dtype: int64\n",
      "False    12081\n",
      "Name: Total_Amount_by_Product_Family_std, dtype: int64\n",
      "False    12081\n",
      "Name: Buro_Approved_by_Product_Family, dtype: int64\n",
      "False    12081\n",
      "Name: Family_Duration, dtype: int64\n",
      "False    12081\n",
      "Name: Region_Duration, dtype: int64\n",
      "False    12081\n",
      "Name: Territory_Duration, dtype: int64\n"
     ]
    }
   ],
   "source": [
    "\n",
    "for col in entrenamiento.columns:\n",
    "    print((entrenamiento[col] == math.inf).value_counts())"
   ]
  },
  {
   "cell_type": "code",
   "execution_count": null,
   "metadata": {},
   "outputs": [],
   "source": []
  },
  {
   "cell_type": "code",
   "execution_count": 16,
   "metadata": {},
   "outputs": [
    {
     "data": {
      "text/plain": [
       "array([0, 1, 1, ..., 1, 1, 1])"
      ]
     },
     "execution_count": 16,
     "metadata": {},
     "output_type": "execute_result"
    }
   ],
   "source": [
    "model = GaussianNB(var_smoothing = 1e-20)\n",
    "\n",
    "model.fit(entrenamiento,objetivo)\n",
    "# make the prediction using the resulting model\n",
    "preds = model.predict(test)\n",
    "preds"
   ]
  },
  {
   "cell_type": "code",
   "execution_count": 17,
   "metadata": {},
   "outputs": [
    {
     "data": {
      "text/plain": [
       "0.8843853820598007"
      ]
     },
     "execution_count": 17,
     "metadata": {},
     "output_type": "execute_result"
    }
   ],
   "source": [
    "accuracy_score(test_label, preds)"
   ]
  },
  {
   "cell_type": "code",
   "execution_count": 18,
   "metadata": {},
   "outputs": [
    {
     "data": {
      "text/plain": [
       "{'priors': None, 'var_smoothing': 1e-20}"
      ]
     },
     "execution_count": 18,
     "metadata": {},
     "output_type": "execute_result"
    }
   ],
   "source": [
    "model.get_params()"
   ]
  },
  {
   "cell_type": "code",
   "execution_count": 19,
   "metadata": {},
   "outputs": [
    {
     "data": {
      "text/plain": [
       "0.8824600612532075"
      ]
     },
     "execution_count": 19,
     "metadata": {},
     "output_type": "execute_result"
    }
   ],
   "source": [
    "preds = model.predict(entrenamiento)\n",
    "accuracy_score(objetivo, preds)"
   ]
  },
  {
   "cell_type": "code",
   "execution_count": 20,
   "metadata": {},
   "outputs": [],
   "source": [
    "if (PREDICCION_REAL):\n",
    "    resultados['Opportunity_ID'] = test['Opportunity_ID']\n",
    "    resultados['Target'] = pd.Series(preds)\n",
    "    resultados = resultados.groupby('Opportunity_ID').mean()\n",
    "    resultados = resultados.reset_index()\n",
    "    #resultados['Target'] = resultados['Target'].apply(lambda x: int(x >= 0.5))    \n",
    "    resultados.to_csv(\"prediccion.csv\", index=False)\n",
    "    resultados['Target'].value_counts()"
   ]
  },
  {
   "cell_type": "code",
   "execution_count": 21,
   "metadata": {},
   "outputs": [
    {
     "ename": "SystemExit",
     "evalue": "",
     "output_type": "error",
     "traceback": [
      "An exception has occurred, use %tb to see the full traceback.\n",
      "\u001b[1;31mSystemExit\u001b[0m\n"
     ]
    },
    {
     "name": "stderr",
     "output_type": "stream",
     "text": [
      "C:\\Users\\gianb\\anaconda3\\lib\\site-packages\\IPython\\core\\interactiveshell.py:3351: UserWarning: To exit: use 'exit', 'quit', or Ctrl-D.\n",
      "  warn(\"To exit: use 'exit', 'quit', or Ctrl-D.\", stacklevel=1)\n"
     ]
    }
   ],
   "source": [
    "if(not MAXIMIZAR_HIPERPARAMETROS): sys.exit()"
   ]
  },
  {
   "cell_type": "code",
   "execution_count": null,
   "metadata": {},
   "outputs": [],
   "source": [
    "from skopt import BayesSearchCV\n",
    "from skopt.space import Real\n",
    "from sklearn.model_selection import StratifiedKFold\n",
    "\n",
    "# Classifier\n",
    "bayes_cv_tuner = BayesSearchCV(\n",
    "estimator = skl.naive_bayes.GaussianNB(),\n",
    "search_spaces = {\n",
    "        \"var_smoothing\" : Real(low=1e-30, high=1e-10, prior='uniform')\n",
    "},\n",
    "cv = skl.model_selection.TimeSeriesSplit(),\n",
    "n_jobs = 30,\n",
    "n_iter = 50,\n",
    "verbose = 1,\n",
    "refit = True,\n",
    "random_state = 72\n",
    ")"
   ]
  },
  {
   "cell_type": "code",
   "execution_count": null,
   "metadata": {},
   "outputs": [],
   "source": [
    "def status_print(optim_result):\n",
    "    \"\"\"Status callback durring bayesian hyperparameter search\"\"\"\n",
    "    # Get all the models tested so far in DataFrame format\n",
    "    all_models = pd.DataFrame(bayes_cv_tuner.cv_results_)    \n",
    "\n",
    "    # Get current parameters and the best parameters    \n",
    "    best_params = pd.Series(bayes_cv_tuner.best_params_)\n",
    "    print('Model #{}\\nBest ROC-AUC: {}\\nBest params: {}\\n'.format(\n",
    "        len(all_models),\n",
    "        np.round(bayes_cv_tuner.best_score_, 4),\n",
    "        bayes_cv_tuner.best_params_\n",
    "    ))"
   ]
  },
  {
   "cell_type": "code",
   "execution_count": null,
   "metadata": {},
   "outputs": [],
   "source": [
    "resultCAT = bayes_cv_tuner.fit(entrenamiento, objetivo, callback=status_print)"
   ]
  },
  {
   "cell_type": "code",
   "execution_count": null,
   "metadata": {},
   "outputs": [],
   "source": [
    "print(bayes_cv_tuner.best_score_)\n",
    "print(bayes_cv_tuner.best_params_)"
   ]
  },
  {
   "cell_type": "code",
   "execution_count": null,
   "metadata": {},
   "outputs": [],
   "source": [
    "preds = bayes_cv_tuner.predict(test.values)"
   ]
  },
  {
   "cell_type": "code",
   "execution_count": null,
   "metadata": {},
   "outputs": [],
   "source": [
    "accuracy_score(test_label, preds)"
   ]
  },
  {
   "cell_type": "code",
   "execution_count": null,
   "metadata": {},
   "outputs": [],
   "source": []
  },
  {
   "cell_type": "code",
   "execution_count": null,
   "metadata": {},
   "outputs": [],
   "source": []
  }
 ],
 "metadata": {
  "kernelspec": {
   "display_name": "Python 3",
   "language": "python",
   "name": "python3"
  },
  "language_info": {
   "codemirror_mode": {
    "name": "ipython",
    "version": 3
   },
   "file_extension": ".py",
   "mimetype": "text/x-python",
   "name": "python",
   "nbconvert_exporter": "python",
   "pygments_lexer": "ipython3",
   "version": "3.8.3"
  }
 },
 "nbformat": 4,
 "nbformat_minor": 4
}
