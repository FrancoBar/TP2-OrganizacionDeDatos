{
 "cells": [
  {
   "cell_type": "code",
   "execution_count": 1,
   "metadata": {},
   "outputs": [],
   "source": [
    "import sys\n",
    "import catboost as cb\n",
    "import pandas as pd\n",
    "import matplotlib.pyplot as plt\n",
    "import numpy as np\n",
    "import sklearn as skl\n",
    "from sklearn.metrics import confusion_matrix, accuracy_score, log_loss\n",
    "import skopt\n",
    "import scipy\n",
    "from skopt.space import Real\n",
    "\n",
    "PREDICCION_REAL = False\n",
    "MAXIMIZAR_HIPERPARAMETROS = False\n",
    "PARAMETROS = {\n",
    "    'task_type' : 'GPU',\n",
    "    'devices' : '0:1',\n",
    "    'bootstrap_type' : 'MVS',\n",
    "    'verbose' :True,\n",
    "    'has_time' : True,\n",
    "    \n",
    "    #\"rsm\" : 0.36719138525672734,\n",
    "    'bagging_temperature': 7.385095136875193e-08,\n",
    "    'border_count': 60371,\n",
    "    'depth': 4,\n",
    "    'early_stopping_rounds': 2,\n",
    "    'iterations': 6,\n",
    "    'l2_leaf_reg': 0.10952643394246851,\n",
    "    'learning_rate': 0.030724310795859633,\n",
    "    'random_seed': 30688,\n",
    "    'random_strength': 0.013384337685341417,\n",
    "    'scale_pos_weight': 0.23362736443976684,\n",
    "    'subsample': 0.5319710298103609\n",
    "}\n",
    "\n"
   ]
  },
  {
   "cell_type": "code",
   "execution_count": 2,
   "metadata": {},
   "outputs": [],
   "source": [
    "#APERTURA DE ARCHIVO DE ARCHIVOS\n",
    "entrenamiento = pd.read_pickle(\"../Archivos/Arboles_entrenamiento.pkl\")\n",
    "test = pd.read_pickle(\"../Archivos/Arboles_validacion.pkl\")\n",
    "\n",
    "if (PREDICCION_REAL):\n",
    "    entrenamiento = entrenamiento.append(test)\n",
    "    test = pd.read_pickle(\"../Archivos/Arboles_test.pkl\")"
   ]
  },
  {
   "cell_type": "code",
   "execution_count": 3,
   "metadata": {},
   "outputs": [],
   "source": [
    "#entrenamiento['Sales_Contract_No'] = entrenamiento['Sales_Contract_No'].astype('category')\n",
    "#entrenamiento = entrenamiento.sort_values('Opportunity_Created_Date')"
   ]
  },
  {
   "cell_type": "code",
   "execution_count": 4,
   "metadata": {},
   "outputs": [],
   "source": [
    "#FILTRADO DE COLUMNAS - NO REMOVER STAGE O FECHA\n",
    "fugas = ['ID','Account_Name','Account_Owner','Opportunity_Owner','Last_Modified_By','Product_Family','Product_Name','ASP','ASP_(converted)']\n",
    "#'Total_Taxable_Amount'\n",
    "#entrenamiento = entrenamiento.drop(columns=fugas)\n",
    "#test = test.drop(columns=fugas)\n",
    "#entrenamiento = entrenamiento.drop(columns=fugas)\n",
    "#columnas_fecha = ['Month','Last_Modified_Date','Account_Created_Date','Opportunity_Created_Date','Quote_Expiry_Date','Planned_Delivery_Start_Date','Planned_Delivery_End_Date']\n",
    "#entrenamiento = entrenamiento.drop(columns=columnas_fecha)\n",
    "#test = test.drop(columns=columnas_fecha)\n"
   ]
  },
  {
   "cell_type": "code",
   "execution_count": 5,
   "metadata": {},
   "outputs": [
    {
     "name": "stdout",
     "output_type": "stream",
     "text": [
      "<class 'pandas.core.frame.DataFrame'>\n",
      "RangeIndex: 12081 entries, 0 to 12080\n",
      "Data columns (total 80 columns):\n",
      " #   Column                                           Non-Null Count  Dtype         \n",
      "---  ------                                           --------------  -----         \n",
      " 0   ID                                               12081 non-null  int64         \n",
      " 1   Region                                           12081 non-null  category      \n",
      " 2   Territory                                        12081 non-null  category      \n",
      " 3   Pricing, Delivery_Terms_Quote_Appr               12081 non-null  int64         \n",
      " 4   Pricing, Delivery_Terms_Approved                 12081 non-null  int64         \n",
      " 5   Bureaucratic_Code_0_Approval                     12081 non-null  int64         \n",
      " 6   Bureaucratic_Code_0_Approved                     12081 non-null  int64         \n",
      " 7   Submitted_for_Approval                           12081 non-null  int64         \n",
      " 8   Bureaucratic_Code                                12081 non-null  category      \n",
      " 9   Account_Created_Date                             12081 non-null  datetime64[ns]\n",
      " 10  Source                                           12081 non-null  category      \n",
      " 11  Billing_Country                                  12081 non-null  category      \n",
      " 12  Account_Name                                     12081 non-null  category      \n",
      " 13  Opportunity_Name                                 12081 non-null  category      \n",
      " 14  Opportunity_ID                                   12081 non-null  int64         \n",
      " 15  Sales_Contract_No                                12081 non-null  category      \n",
      " 16  Account_Owner                                    12081 non-null  category      \n",
      " 17  Opportunity_Owner                                12081 non-null  category      \n",
      " 18  Account_Type                                     12081 non-null  category      \n",
      " 19  Opportunity_Type                                 12081 non-null  category      \n",
      " 20  Delivery_Terms                                   12081 non-null  category      \n",
      " 21  Opportunity_Created_Date                         12081 non-null  datetime64[ns]\n",
      " 22  Quote_Expiry_Date                                9066 non-null   datetime64[ns]\n",
      " 23  Last_Modified_Date                               12081 non-null  datetime64[ns]\n",
      " 24  Last_Modified_By                                 12081 non-null  category      \n",
      " 25  Product_Family                                   12081 non-null  category      \n",
      " 26  Product_Name                                     12081 non-null  category      \n",
      " 27  ASP_Currency                                     12081 non-null  category      \n",
      " 28  ASP                                              9516 non-null   float64       \n",
      " 29  ASP_(converted)                                  12081 non-null  float64       \n",
      " 30  Planned_Delivery_Start_Date                      12081 non-null  datetime64[ns]\n",
      " 31  Planned_Delivery_End_Date                        12081 non-null  datetime64[ns]\n",
      " 32  Month                                            12081 non-null  int64         \n",
      " 33  Delivery_Quarter                                 12081 non-null  category      \n",
      " 34  Delivery_Year                                    12081 non-null  int64         \n",
      " 35  TRF                                              12081 non-null  int64         \n",
      " 36  Total_Amount_Currency                            12081 non-null  category      \n",
      " 37  Total_Amount                                     12081 non-null  float64       \n",
      " 38  Total_Taxable_Amount_Currency                    12081 non-null  category      \n",
      " 39  Total_Taxable_Amount                             12081 non-null  float64       \n",
      " 40  Stage                                            12081 non-null  int64         \n",
      " 41  Total_Amount(USD)                                12081 non-null  float64       \n",
      " 42  Total_Taxable_Amount(USD)                        12081 non-null  float64       \n",
      " 43  Opportunity_Total_Amount                         12081 non-null  float64       \n",
      " 44  Opportunity_Size                                 12081 non-null  int64         \n",
      " 45  Planned_Deliver_Duration                         12081 non-null  float64       \n",
      " 46  Actual_Opportunity_Duration                      12081 non-null  float64       \n",
      " 47  Planned_Time_Until_Deliver                       12081 non-null  float64       \n",
      " 48  Planned_Opportunity_Duration                     12081 non-null  float64       \n",
      " 49  Opportunity_Taxable_Rate                         12045 non-null  float64       \n",
      " 50  Product_Amount_Deviation_of_Product_Family_rate  12081 non-null  float64       \n",
      " 51  Year-Month                                       12081 non-null  datetime64[ns]\n",
      " 52  Opportunity_TRF                                  12081 non-null  int64         \n",
      " 53  Opportunity_Duration_Ratio                       12081 non-null  float64       \n",
      " 54  Opportunity_Total_Amount_Region_avg              12081 non-null  float64       \n",
      " 55  Opportunity_Total_Amount_Region_std              12081 non-null  float64       \n",
      " 56  Opportunity_Total_Amount_Region_avg_Ratio        12081 non-null  float64       \n",
      " 57  Opportunity_Total_Amount_Region_std_Ratio        12081 non-null  float64       \n",
      " 58  Opportunity_TRF_Region_avg                       12081 non-null  float64       \n",
      " 59  Opportunity_TRF_Region_std                       12081 non-null  float64       \n",
      " 60  Opportunity_TRF_Region_avg_Ratio                 12081 non-null  float64       \n",
      " 61  Opportunity_TRF_Region_std_Ratio                 12081 non-null  float64       \n",
      " 62  Opportunity_Duration_by_Billing_Country          12081 non-null  float64       \n",
      " 63  Opportunity_Duration_by_Account_Type             12081 non-null  float64       \n",
      " 64  ASP_by_Region_mean                               12081 non-null  float64       \n",
      " 65  ASP_by_Region_std                                12081 non-null  float64       \n",
      " 66  ASP_by_Billing_Country_mean                      12081 non-null  float64       \n",
      " 67  ASP_by_Billing_Country_std                       12067 non-null  float64       \n",
      " 68  Total_Amount_by_Billing_Country_mean             12081 non-null  float64       \n",
      " 69  Total_Amount_by_Billing_Country_std              12067 non-null  float64       \n",
      " 70  Buro_Approved_by_Billing_Country_mean            12081 non-null  float64       \n",
      " 71  Buro_Approved_by_Billing_Country_std             12067 non-null  float64       \n",
      " 72  Opportunity_Duration_by_Product_Family_mean      12081 non-null  float64       \n",
      " 73  Opportunity_Duration_by_Product_Family_std       12050 non-null  float64       \n",
      " 74  Total_Amount_by_Product_Family_mean              12081 non-null  float64       \n",
      " 75  Total_Amount_by_Product_Family_std               12050 non-null  float64       \n",
      " 76  Buro_Approved_by_Product_Family                  12050 non-null  float64       \n",
      " 77  Family_Duration                                  12022 non-null  float64       \n",
      " 78  Region_Duration                                  12081 non-null  int64         \n",
      " 79  Territory_Duration                               12014 non-null  float64       \n",
      "dtypes: category(20), datetime64[ns](7), float64(39), int64(14)\n",
      "memory usage: 6.0 MB\n"
     ]
    }
   ],
   "source": [
    "entrenamiento.info()"
   ]
  },
  {
   "cell_type": "code",
   "execution_count": 6,
   "metadata": {},
   "outputs": [],
   "source": [
    "#FECHAS A DIAS\n",
    "\n",
    "columnas_fecha = ['Year-Month','Last_Modified_Date','Account_Created_Date','Opportunity_Created_Date','Quote_Expiry_Date','Planned_Delivery_Start_Date','Planned_Delivery_End_Date']\n",
    "def fecha_a_dias(x):\n",
    "    fecha_origen = pd.to_datetime('01/01/2000', format='%m/%d/%Y')\n",
    "    for columna in columnas_fecha:\n",
    "        x[columna] = x[columna].apply(lambda x : (x - fecha_origen).days)\n",
    "\n",
    "fecha_a_dias(entrenamiento)\n",
    "fecha_a_dias(test)"
   ]
  },
  {
   "cell_type": "code",
   "execution_count": 7,
   "metadata": {},
   "outputs": [],
   "source": [
    "objetivo = entrenamiento['Stage']\n",
    "entrenamiento = entrenamiento.drop(columns=['Stage'])\n",
    "columnas_category = list(entrenamiento.select_dtypes(include=['category']).columns)\n",
    "if 'Stage' in columnas_category : columnas_category.remove('Stage')"
   ]
  },
  {
   "cell_type": "code",
   "execution_count": 8,
   "metadata": {},
   "outputs": [],
   "source": [
    "if not PREDICCION_REAL:\n",
    "    test_label = test['Stage']\n",
    "    test = test.drop(columns=['Stage'])"
   ]
  },
  {
   "cell_type": "code",
   "execution_count": 9,
   "metadata": {},
   "outputs": [],
   "source": [
    "entrenamiento_pool = cb.Pool(entrenamiento, objetivo,cat_features=columnas_category)\n",
    "test_pool = cb.Pool(test, cat_features=columnas_category)"
   ]
  },
  {
   "cell_type": "code",
   "execution_count": 10,
   "metadata": {},
   "outputs": [
    {
     "name": "stdout",
     "output_type": "stream",
     "text": [
      "0:\tlearn: 0.6017592\ttotal: 18.8ms\tremaining: 93.9ms\n",
      "1:\tlearn: 0.5275846\ttotal: 50.6ms\tremaining: 101ms\n",
      "2:\tlearn: 0.4715120\ttotal: 69.5ms\tremaining: 69.5ms\n",
      "3:\tlearn: 0.4246946\ttotal: 87.2ms\tremaining: 43.6ms\n",
      "4:\tlearn: 0.3839152\ttotal: 104ms\tremaining: 20.9ms\n",
      "5:\tlearn: 0.3520408\ttotal: 121ms\tremaining: 0us\n"
     ]
    }
   ],
   "source": [
    "model = cb.CatBoostClassifier(**PARAMETROS)\n",
    "\n",
    "model.fit(entrenamiento_pool)\n",
    "# make the prediction using the resulting model\n",
    "preds_temp = model.predict_proba(test_pool)\n",
    "\n",
    "#Array de probabilidad [0,1] a lista de probabilidades de 1\n",
    "preds = []\n",
    "for x in  preds_temp:\n",
    "    preds.append(x[1])"
   ]
  },
  {
   "cell_type": "code",
   "execution_count": 11,
   "metadata": {},
   "outputs": [
    {
     "name": "stdout",
     "output_type": "stream",
     "text": [
      "0.48795895564031366\n"
     ]
    }
   ],
   "source": [
    "if not (PREDICCION_REAL):\n",
    "    print(log_loss(test_label, preds))"
   ]
  },
  {
   "cell_type": "code",
   "execution_count": 12,
   "metadata": {},
   "outputs": [
    {
     "data": {
      "text/html": [
       "<div>\n",
       "<style scoped>\n",
       "    .dataframe tbody tr th:only-of-type {\n",
       "        vertical-align: middle;\n",
       "    }\n",
       "\n",
       "    .dataframe tbody tr th {\n",
       "        vertical-align: top;\n",
       "    }\n",
       "\n",
       "    .dataframe thead th {\n",
       "        text-align: right;\n",
       "    }\n",
       "</style>\n",
       "<table border=\"1\" class=\"dataframe\">\n",
       "  <thead>\n",
       "    <tr style=\"text-align: right;\">\n",
       "      <th></th>\n",
       "      <th>Feature Id</th>\n",
       "      <th>Importances</th>\n",
       "    </tr>\n",
       "  </thead>\n",
       "  <tbody>\n",
       "    <tr>\n",
       "      <th>0</th>\n",
       "      <td>Sales_Contract_No</td>\n",
       "      <td>73.799881</td>\n",
       "    </tr>\n",
       "    <tr>\n",
       "      <th>1</th>\n",
       "      <td>Opportunity_Name</td>\n",
       "      <td>17.696516</td>\n",
       "    </tr>\n",
       "    <tr>\n",
       "      <th>2</th>\n",
       "      <td>Account_Name</td>\n",
       "      <td>3.830477</td>\n",
       "    </tr>\n",
       "    <tr>\n",
       "      <th>3</th>\n",
       "      <td>Product_Name</td>\n",
       "      <td>3.162402</td>\n",
       "    </tr>\n",
       "    <tr>\n",
       "      <th>4</th>\n",
       "      <td>Product_Family</td>\n",
       "      <td>1.510724</td>\n",
       "    </tr>\n",
       "    <tr>\n",
       "      <th>...</th>\n",
       "      <td>...</td>\n",
       "      <td>...</td>\n",
       "    </tr>\n",
       "    <tr>\n",
       "      <th>74</th>\n",
       "      <td>Total_Amount_by_Product_Family_std</td>\n",
       "      <td>0.000000</td>\n",
       "    </tr>\n",
       "    <tr>\n",
       "      <th>75</th>\n",
       "      <td>Buro_Approved_by_Product_Family</td>\n",
       "      <td>0.000000</td>\n",
       "    </tr>\n",
       "    <tr>\n",
       "      <th>76</th>\n",
       "      <td>Family_Duration</td>\n",
       "      <td>0.000000</td>\n",
       "    </tr>\n",
       "    <tr>\n",
       "      <th>77</th>\n",
       "      <td>Region_Duration</td>\n",
       "      <td>0.000000</td>\n",
       "    </tr>\n",
       "    <tr>\n",
       "      <th>78</th>\n",
       "      <td>Territory_Duration</td>\n",
       "      <td>0.000000</td>\n",
       "    </tr>\n",
       "  </tbody>\n",
       "</table>\n",
       "<p>79 rows × 2 columns</p>\n",
       "</div>"
      ],
      "text/plain": [
       "                            Feature Id  Importances\n",
       "0                    Sales_Contract_No    73.799881\n",
       "1                     Opportunity_Name    17.696516\n",
       "2                         Account_Name     3.830477\n",
       "3                         Product_Name     3.162402\n",
       "4                       Product_Family     1.510724\n",
       "..                                 ...          ...\n",
       "74  Total_Amount_by_Product_Family_std     0.000000\n",
       "75     Buro_Approved_by_Product_Family     0.000000\n",
       "76                     Family_Duration     0.000000\n",
       "77                     Region_Duration     0.000000\n",
       "78                  Territory_Duration     0.000000\n",
       "\n",
       "[79 rows x 2 columns]"
      ]
     },
     "execution_count": 12,
     "metadata": {},
     "output_type": "execute_result"
    }
   ],
   "source": [
    "model.get_feature_importance(prettified=True)"
   ]
  },
  {
   "cell_type": "code",
   "execution_count": 13,
   "metadata": {},
   "outputs": [],
   "source": [
    "if (PREDICCION_REAL):\n",
    "    resultados = pd.DataFrame()\n",
    "    resultados['Opportunity_ID'] = test['Opportunity_ID']\n",
    "    resultados['Target'] = pd.Series(preds)\n",
    "    resultados = resultados.groupby('Opportunity_ID').mean()\n",
    "    resultados = resultados.reset_index()\n",
    "    #resultados['Target'] = resultados['Target'].apply(lambda x: int(x >= 0.5))    \n",
    "    resultados.to_csv(\"prediccion.csv\", index=False)\n",
    "    resultados['Target'].value_counts()"
   ]
  },
  {
   "cell_type": "code",
   "execution_count": 15,
   "metadata": {},
   "outputs": [
    {
     "data": {
      "text/plain": [
       "0.3059058914208637"
      ]
     },
     "execution_count": 15,
     "metadata": {},
     "output_type": "execute_result"
    }
   ],
   "source": [
    "preds = model.predict(entrenamiento_pool)\n",
    "log_loss(objetivo, preds)"
   ]
  },
  {
   "cell_type": "code",
   "execution_count": 17,
   "metadata": {},
   "outputs": [
    {
     "ename": "SystemExit",
     "evalue": "",
     "output_type": "error",
     "traceback": [
      "An exception has occurred, use %tb to see the full traceback.\n",
      "\u001b[1;31mSystemExit\u001b[0m\n"
     ]
    },
    {
     "name": "stderr",
     "output_type": "stream",
     "text": [
      "D:\\Anaconda\\lib\\site-packages\\IPython\\core\\interactiveshell.py:3339: UserWarning: To exit: use 'exit', 'quit', or Ctrl-D.\n",
      "  warn(\"To exit: use 'exit', 'quit', or Ctrl-D.\", stacklevel=1)\n"
     ]
    }
   ],
   "source": [
    "if(not MAXIMIZAR_HIPERPARAMETROS): sys.exit()"
   ]
  },
  {
   "cell_type": "code",
   "execution_count": null,
   "metadata": {},
   "outputs": [],
   "source": [
    "from catboost import CatBoostClassifier\n",
    "from skopt import BayesSearchCV\n",
    "from skopt.space import Real\n",
    "from sklearn.model_selection import StratifiedKFold\n",
    "\n",
    "# Classifier\n",
    "bayes_cv_tuner = BayesSearchCV(\n",
    "estimator = CatBoostClassifier(\n",
    "silent=True,cat_features=columnas_category,task_type=\"GPU\", devices='0:1', bootstrap_type='MVS'\n",
    "),\n",
    "search_spaces = {\n",
    "        \"iterations\" : (2, 10),\n",
    "        'learning_rate': Real(low=0.01, high=1, prior='log-uniform'),\n",
    "        \"random_seed\" : (1,40000),\n",
    "        \"l2_leaf_reg\" : Real(low=1e-9, high=1000, prior='log-uniform'),\n",
    "        'subsample': Real(low=0.01, high=1, prior='uniform'),\n",
    "        \"random_strength\" : Real(low=1e-9, high=1000, prior='log-uniform'),\n",
    "        'depth': (1, 10),\n",
    "        #\"rsm\" : Real(low=0.01, high=1, prior='uniform'),\n",
    "        \"early_stopping_rounds\" : (1, 5),\n",
    "        \"border_count\" : (1,65535),\n",
    "        \"bagging_temperature\" : Real(low=1e-9,high=1000,prior='log-uniform'),\n",
    "        \"scale_pos_weight\" : Real(low = 0.01,high = 1.0,prior=\"uniform\")\n",
    "},\n",
    "cv = skl.model_selection.TimeSeriesSplit(),\n",
    "n_jobs = 1,\n",
    "n_iter = 6,\n",
    "verbose = 1,\n",
    "refit = True,\n",
    "random_state = 72\n",
    ")"
   ]
  },
  {
   "cell_type": "code",
   "execution_count": null,
   "metadata": {},
   "outputs": [],
   "source": [
    "def status_print(optim_result):\n",
    "    \"\"\"Status callback durring bayesian hyperparameter search\"\"\"\n",
    "    # Get all the models tested so far in DataFrame format\n",
    "    all_models = pd.DataFrame(bayes_cv_tuner.cv_results_)    \n",
    "\n",
    "    # Get current parameters and the best parameters    \n",
    "    best_params = pd.Series(bayes_cv_tuner.best_params_)\n",
    "    print('Model #{}\\nBest ROC-AUC: {}\\nBest params: {}\\n'.format(\n",
    "        len(all_models),\n",
    "        np.round(bayes_cv_tuner.best_score_, 4),\n",
    "        bayes_cv_tuner.best_params_\n",
    "    ))"
   ]
  },
  {
   "cell_type": "code",
   "execution_count": null,
   "metadata": {},
   "outputs": [],
   "source": [
    "resultCAT = bayes_cv_tuner.fit(entrenamiento, objetivo, callback=status_print)"
   ]
  },
  {
   "cell_type": "code",
   "execution_count": null,
   "metadata": {},
   "outputs": [],
   "source": [
    "print(bayes_cv_tuner.best_score_)\n",
    "print(bayes_cv_tuner.best_params_)"
   ]
  },
  {
   "cell_type": "code",
   "execution_count": null,
   "metadata": {},
   "outputs": [],
   "source": [
    "preds = bayes_cv_tuner.predict(test.values)"
   ]
  },
  {
   "cell_type": "code",
   "execution_count": null,
   "metadata": {},
   "outputs": [],
   "source": [
    "accuracy_score(test_label, preds)"
   ]
  }
 ],
 "metadata": {
  "kernelspec": {
   "display_name": "Python 3",
   "language": "python",
   "name": "python3"
  },
  "language_info": {
   "codemirror_mode": {
    "name": "ipython",
    "version": 3
   },
   "file_extension": ".py",
   "mimetype": "text/x-python",
   "name": "python",
   "nbconvert_exporter": "python",
   "pygments_lexer": "ipython3",
   "version": "3.7.6"
  }
 },
 "nbformat": 4,
 "nbformat_minor": 4
}
