{
 "cells": [
  {
   "cell_type": "code",
   "execution_count": 1,
   "metadata": {},
   "outputs": [],
   "source": [
    "import sys\n",
    "import catboost as cb\n",
    "import pandas as pd\n",
    "import matplotlib.pyplot as plt\n",
    "import numpy as np\n",
    "import sklearn as skl\n",
    "from sklearn.metrics import confusion_matrix, accuracy_score, log_loss\n",
    "import skopt\n",
    "import scipy\n",
    "from skopt.space import Real\n",
    "\n",
    "PREDICCION_REAL = True\n",
    "MAXIMIZAR_HIPERPARAMETROS = False\n",
    "PARAMETROS = {\n",
    "    'task_type' : 'GPU',\n",
    "    'devices' : '0:1',\n",
    "    'bootstrap_type' : 'MVS',\n",
    "    'verbose' : True,\n",
    "    'has_time' : True,\n",
    "    \n",
    "    #\"rsm\" : 0.36719138525672734,\n",
    "    'bagging_temperature': 1.1063407351624084,\n",
    "    'border_count': 7137,\n",
    "    'depth': 9,\n",
    "    'early_stopping_rounds': 4,\n",
    "     'iterations': 7,\n",
    "    'l2_leaf_reg': 0.17260178161990627,\n",
    "    'learning_rate': 0.027307511040591478,\n",
    "    'random_seed': 5712,\n",
    "    'random_strength': 2.3464965049108726e-07,\n",
    "    'scale_pos_weight': 0.819600044656442,\n",
    "    'subsample': 0.9880746674599722\n",
    "}"
   ]
  },
  {
   "cell_type": "code",
   "execution_count": 2,
   "metadata": {},
   "outputs": [],
   "source": [
    "#APERTURA DE ARCHIVO DE ARCHIVOS\n",
    "entrenamiento = pd.read_pickle(\"../Archivos/Arboles_entrenamiento.pkl\")\n",
    "test = pd.read_pickle(\"../Archivos/Arboles_validacion.pkl\")\n",
    "\n",
    "if (PREDICCION_REAL):\n",
    "    entrenamiento = entrenamiento.append(test)\n",
    "    test = pd.read_pickle(\"../Archivos/Arboles_test.pkl\")"
   ]
  },
  {
   "cell_type": "code",
   "execution_count": 3,
   "metadata": {},
   "outputs": [],
   "source": [
    "#entrenamiento['Sales_Contract_No'] = entrenamiento['Sales_Contract_No'].astype('category')\n",
    "#entrenamiento = entrenamiento.sort_values('Opportunity_Created_Date')"
   ]
  },
  {
   "cell_type": "code",
   "execution_count": 4,
   "metadata": {},
   "outputs": [],
   "source": [
    "#FILTRADO DE COLUMNAS - NO REMOVER STAGE O FECHA\n",
    "\n",
    "#columnas_fecha = ['Month','Last_Modified_Date','Account_Created_Date','Opportunity_Created_Date','Quote_Expiry_Date','Planned_Delivery_Start_Date','Planned_Delivery_End_Date']\n",
    "fugas = ['Sales_Contract_No','ID','Account_Name','Account_Owner','Opportunity_Owner','Last_Modified_By','ASP','ASP_(converted)']\n",
    "otros = ['Currency']\n",
    "\n",
    "entrenamiento = entrenamiento.drop(columns=fugas)\n",
    "test = test.drop(columns=fugas)\n",
    "\n",
    "#entrenamiento = entrenamiento.drop(columns=columnas_fecha)\n",
    "#test = test.drop(columns=columnas_fecha)"
   ]
  },
  {
   "cell_type": "code",
   "execution_count": 5,
   "metadata": {},
   "outputs": [],
   "source": [
    "#FECHAS A DIAS\n",
    "\n",
    "columnas_fecha = ['Year-Month','Last_Modified_Date','Account_Created_Date','Opportunity_Created_Date','Quote_Expiry_Date','Planned_Delivery_Start_Date','Planned_Delivery_End_Date']\n",
    "def fecha_a_dias(x):\n",
    "    fecha_origen = pd.to_datetime('01/01/2000', format='%m/%d/%Y')\n",
    "    for columna in columnas_fecha:\n",
    "        x[columna] = x[columna].apply(lambda x : (x - fecha_origen).days)\n",
    "\n",
    "fecha_a_dias(entrenamiento)\n",
    "fecha_a_dias(test)"
   ]
  },
  {
   "cell_type": "code",
   "execution_count": 6,
   "metadata": {},
   "outputs": [],
   "source": [
    "objetivo = entrenamiento['Stage']\n",
    "entrenamiento = entrenamiento.drop(columns=['Stage'])\n",
    "columnas_category = list(entrenamiento.select_dtypes(include=['category']).columns)\n",
    "if 'Stage' in columnas_category : columnas_category.remove('Stage')"
   ]
  },
  {
   "cell_type": "code",
   "execution_count": 7,
   "metadata": {},
   "outputs": [],
   "source": [
    "if not PREDICCION_REAL:\n",
    "    test_label = test['Stage']\n",
    "    test = test.drop(columns=['Stage'])"
   ]
  },
  {
   "cell_type": "code",
   "execution_count": 8,
   "metadata": {},
   "outputs": [],
   "source": [
    "entrenamiento_pool = cb.Pool(entrenamiento, objetivo,cat_features=columnas_category)\n",
    "test_pool = cb.Pool(test, cat_features=columnas_category)"
   ]
  },
  {
   "cell_type": "code",
   "execution_count": 9,
   "metadata": {},
   "outputs": [
    {
     "name": "stdout",
     "output_type": "stream",
     "text": [
      "0:\tlearn: 0.6423730\ttotal: 132ms\tremaining: 794ms\n",
      "1:\tlearn: 0.6277057\ttotal: 301ms\tremaining: 752ms\n",
      "2:\tlearn: 0.6105143\ttotal: 526ms\tremaining: 702ms\n",
      "3:\tlearn: 0.5951347\ttotal: 643ms\tremaining: 482ms\n",
      "4:\tlearn: 0.5804733\ttotal: 773ms\tremaining: 309ms\n",
      "5:\tlearn: 0.5673146\ttotal: 872ms\tremaining: 145ms\n",
      "6:\tlearn: 0.5529418\ttotal: 984ms\tremaining: 0us\n"
     ]
    }
   ],
   "source": [
    "model = cb.CatBoostClassifier(**PARAMETROS)\n",
    "\n",
    "model.fit(entrenamiento_pool)\n",
    "# make the prediction using the resulting model\n",
    "preds_temp = model.predict_proba(test_pool)\n",
    "\n",
    "#Array de probabilidad [0,1] a lista de probabilidades de 1\n",
    "preds = []\n",
    "for x in  preds_temp:\n",
    "    preds.append(x[1])"
   ]
  },
  {
   "cell_type": "code",
   "execution_count": 10,
   "metadata": {},
   "outputs": [],
   "source": [
    "if not (PREDICCION_REAL):\n",
    "    print(log_loss(test_label, preds))"
   ]
  },
  {
   "cell_type": "code",
   "execution_count": 11,
   "metadata": {},
   "outputs": [],
   "source": [
    "if not (PREDICCION_REAL):\n",
    "    resultados = pd.DataFrame()\n",
    "    resultados['Opportunity_ID'] = test['Opportunity_ID']\n",
    "    resultados['Target'] = pd.Series(preds)\n",
    "    resultados = resultados.groupby('Opportunity_ID').mean()\n",
    "    resultados = resultados.reset_index()\n",
    "    #resultados['Target'] = resultados['Target'].apply(lambda x: int(x >= 0.5))    \n",
    "    resultados.to_csv(\"../Archivos/prediccion_arbol_validacion.csv\", index=False)\n",
    "    resultados['Target'].value_counts()"
   ]
  },
  {
   "cell_type": "code",
   "execution_count": 12,
   "metadata": {},
   "outputs": [
    {
     "data": {
      "text/html": [
       "<div>\n",
       "<style scoped>\n",
       "    .dataframe tbody tr th:only-of-type {\n",
       "        vertical-align: middle;\n",
       "    }\n",
       "\n",
       "    .dataframe tbody tr th {\n",
       "        vertical-align: top;\n",
       "    }\n",
       "\n",
       "    .dataframe thead th {\n",
       "        text-align: right;\n",
       "    }\n",
       "</style>\n",
       "<table border=\"1\" class=\"dataframe\">\n",
       "  <thead>\n",
       "    <tr style=\"text-align: right;\">\n",
       "      <th></th>\n",
       "      <th>Feature Id</th>\n",
       "      <th>Importances</th>\n",
       "    </tr>\n",
       "  </thead>\n",
       "  <tbody>\n",
       "    <tr>\n",
       "      <th>0</th>\n",
       "      <td>Opportunity_Name</td>\n",
       "      <td>30.772100</td>\n",
       "    </tr>\n",
       "    <tr>\n",
       "      <th>1</th>\n",
       "      <td>Bureaucratic_Code</td>\n",
       "      <td>16.538708</td>\n",
       "    </tr>\n",
       "    <tr>\n",
       "      <th>2</th>\n",
       "      <td>Planned_Opportunity_Duration</td>\n",
       "      <td>16.198698</td>\n",
       "    </tr>\n",
       "    <tr>\n",
       "      <th>3</th>\n",
       "      <td>Product_Type</td>\n",
       "      <td>8.408218</td>\n",
       "    </tr>\n",
       "    <tr>\n",
       "      <th>4</th>\n",
       "      <td>Total_Taxable_Amount_Currency</td>\n",
       "      <td>4.270816</td>\n",
       "    </tr>\n",
       "    <tr>\n",
       "      <th>...</th>\n",
       "      <td>...</td>\n",
       "      <td>...</td>\n",
       "    </tr>\n",
       "    <tr>\n",
       "      <th>77</th>\n",
       "      <td>Total_Amount_by_Product_Family_std</td>\n",
       "      <td>0.000000</td>\n",
       "    </tr>\n",
       "    <tr>\n",
       "      <th>78</th>\n",
       "      <td>Buro_Approved_by_Product_Family</td>\n",
       "      <td>0.000000</td>\n",
       "    </tr>\n",
       "    <tr>\n",
       "      <th>79</th>\n",
       "      <td>Family_Duration</td>\n",
       "      <td>0.000000</td>\n",
       "    </tr>\n",
       "    <tr>\n",
       "      <th>80</th>\n",
       "      <td>Region_Duration</td>\n",
       "      <td>0.000000</td>\n",
       "    </tr>\n",
       "    <tr>\n",
       "      <th>81</th>\n",
       "      <td>Territory_Duration</td>\n",
       "      <td>0.000000</td>\n",
       "    </tr>\n",
       "  </tbody>\n",
       "</table>\n",
       "<p>82 rows × 2 columns</p>\n",
       "</div>"
      ],
      "text/plain": [
       "                            Feature Id  Importances\n",
       "0                     Opportunity_Name    30.772100\n",
       "1                    Bureaucratic_Code    16.538708\n",
       "2         Planned_Opportunity_Duration    16.198698\n",
       "3                         Product_Type     8.408218\n",
       "4        Total_Taxable_Amount_Currency     4.270816\n",
       "..                                 ...          ...\n",
       "77  Total_Amount_by_Product_Family_std     0.000000\n",
       "78     Buro_Approved_by_Product_Family     0.000000\n",
       "79                     Family_Duration     0.000000\n",
       "80                     Region_Duration     0.000000\n",
       "81                  Territory_Duration     0.000000\n",
       "\n",
       "[82 rows x 2 columns]"
      ]
     },
     "execution_count": 12,
     "metadata": {},
     "output_type": "execute_result"
    }
   ],
   "source": [
    "model.get_feature_importance(prettified=True)"
   ]
  },
  {
   "cell_type": "code",
   "execution_count": 13,
   "metadata": {},
   "outputs": [],
   "source": [
    "if (PREDICCION_REAL):\n",
    "    resultados = pd.DataFrame()\n",
    "    resultados['Opportunity_ID'] = test['Opportunity_ID']\n",
    "    resultados['Target'] = pd.Series(preds)\n",
    "    resultados = resultados.groupby('Opportunity_ID').mean()\n",
    "    resultados = resultados.reset_index()\n",
    "    #resultados['Target'] = resultados['Target'].apply(lambda x: int(x >= 0.5))    \n",
    "    resultados.to_csv(\"../Archivos/prediccion_arbol_test.csv\", index=False)\n",
    "    resultados['Target'].value_counts()"
   ]
  },
  {
   "cell_type": "code",
   "execution_count": 14,
   "metadata": {},
   "outputs": [
    {
     "data": {
      "text/plain": [
       "3.5442568162376467"
      ]
     },
     "execution_count": 14,
     "metadata": {},
     "output_type": "execute_result"
    }
   ],
   "source": [
    "preds = model.predict(entrenamiento_pool)\n",
    "log_loss(objetivo, preds)"
   ]
  },
  {
   "cell_type": "code",
   "execution_count": 15,
   "metadata": {},
   "outputs": [
    {
     "ename": "SystemExit",
     "evalue": "",
     "output_type": "error",
     "traceback": [
      "An exception has occurred, use %tb to see the full traceback.\n",
      "\u001b[1;31mSystemExit\u001b[0m\n"
     ]
    },
    {
     "name": "stderr",
     "output_type": "stream",
     "text": [
      "D:\\Anaconda\\lib\\site-packages\\IPython\\core\\interactiveshell.py:3426: UserWarning: To exit: use 'exit', 'quit', or Ctrl-D.\n",
      "  warn(\"To exit: use 'exit', 'quit', or Ctrl-D.\", stacklevel=1)\n"
     ]
    }
   ],
   "source": [
    "if(not MAXIMIZAR_HIPERPARAMETROS): sys.exit()"
   ]
  },
  {
   "cell_type": "code",
   "execution_count": null,
   "metadata": {},
   "outputs": [],
   "source": [
    "from catboost import CatBoostClassifier\n",
    "from skopt import BayesSearchCV\n",
    "from skopt.space import Real\n",
    "from sklearn.model_selection import StratifiedKFold\n",
    "\n",
    "# Classifier\n",
    "bayes_cv_tuner = BayesSearchCV(\n",
    "estimator = CatBoostClassifier(\n",
    "silent=True,cat_features=columnas_category,task_type=\"GPU\", devices='0:1', bootstrap_type='MVS'\n",
    "),\n",
    "search_spaces = {\n",
    "        \"iterations\" : (2, 10),\n",
    "        'learning_rate': Real(low=0.01, high=1, prior='log-uniform'),\n",
    "        \"random_seed\" : (1,40000),\n",
    "        \"l2_leaf_reg\" : Real(low=1e-9, high=1000, prior='log-uniform'),\n",
    "        'subsample': Real(low=0.01, high=1, prior='uniform'),\n",
    "        \"random_strength\" : Real(low=1e-9, high=1000, prior='log-uniform'),\n",
    "        'depth': (1, 10),\n",
    "        #\"rsm\" : Real(low=0.01, high=1, prior='uniform'),\n",
    "        \"early_stopping_rounds\" : (1, 5),\n",
    "        \"border_count\" : (1,65535),\n",
    "        \"bagging_temperature\" : Real(low=1e-9,high=1000,prior='log-uniform'),\n",
    "        \"scale_pos_weight\" : Real(low = 0.01,high = 1.0,prior=\"uniform\")\n",
    "},\n",
    "cv = skl.model_selection.TimeSeriesSplit(),\n",
    "n_jobs = 1,\n",
    "n_iter = 6,\n",
    "verbose = 1,\n",
    "refit = True,\n",
    "random_state = 72\n",
    ")"
   ]
  },
  {
   "cell_type": "code",
   "execution_count": null,
   "metadata": {},
   "outputs": [],
   "source": [
    "def status_print(optim_result):\n",
    "    \"\"\"Status callback durring bayesian hyperparameter search\"\"\"\n",
    "    # Get all the models tested so far in DataFrame format\n",
    "    all_models = pd.DataFrame(bayes_cv_tuner.cv_results_)    \n",
    "\n",
    "    # Get current parameters and the best parameters    \n",
    "    best_params = pd.Series(bayes_cv_tuner.best_params_)\n",
    "    print('Model #{}\\nBest ROC-AUC: {}\\nBest params: {}\\n'.format(\n",
    "        len(all_models),\n",
    "        np.round(bayes_cv_tuner.best_score_, 4),\n",
    "        bayes_cv_tuner.best_params_\n",
    "    ))"
   ]
  },
  {
   "cell_type": "code",
   "execution_count": null,
   "metadata": {},
   "outputs": [],
   "source": [
    "resultCAT = bayes_cv_tuner.fit(entrenamiento, objetivo, callback=status_print)"
   ]
  },
  {
   "cell_type": "code",
   "execution_count": null,
   "metadata": {},
   "outputs": [],
   "source": [
    "print(bayes_cv_tuner.best_score_)\n",
    "print(bayes_cv_tuner.best_params_)"
   ]
  },
  {
   "cell_type": "code",
   "execution_count": null,
   "metadata": {},
   "outputs": [],
   "source": [
    "preds = bayes_cv_tuner.predict(test.values)"
   ]
  },
  {
   "cell_type": "code",
   "execution_count": null,
   "metadata": {},
   "outputs": [],
   "source": [
    "accuracy_score(test_label, preds)"
   ]
  }
 ],
 "metadata": {
  "kernelspec": {
   "display_name": "Python 3",
   "language": "python",
   "name": "python3"
  },
  "language_info": {
   "codemirror_mode": {
    "name": "ipython",
    "version": 3
   },
   "file_extension": ".py",
   "mimetype": "text/x-python",
   "name": "python",
   "nbconvert_exporter": "python",
   "pygments_lexer": "ipython3",
   "version": "3.8.5"
  }
 },
 "nbformat": 4,
 "nbformat_minor": 4
}
