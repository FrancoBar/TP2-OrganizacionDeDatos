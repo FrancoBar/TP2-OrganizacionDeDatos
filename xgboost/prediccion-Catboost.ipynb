{
 "cells": [
  {
   "cell_type": "code",
   "execution_count": 1,
   "metadata": {},
   "outputs": [],
   "source": [
    "import sys\n",
    "import catboost as cb\n",
    "import pandas as pd\n",
    "import matplotlib.pyplot as plt\n",
    "import numpy as np\n",
    "import sklearn as skl\n",
    "from sklearn.metrics import confusion_matrix, accuracy_score\n",
    "import skopt\n",
    "import scipy\n",
    "from skopt.space import Real\n",
    "\n",
    "PREDICCION_REAL = False\n",
    "MAXIMIZAR_HIPERPARAMETROS = False\n",
    "PARAMETROS = {\n",
    "    'task_type' : 'GPU',\n",
    "    'devices' : '0:1',\n",
    "    'bootstrap_type' : 'MVS',\n",
    "    'verbose' :True,\n",
    "    'has_time' : True,\n",
    "    \n",
    "    #\"rsm\" : 0.36719138525672734,\n",
    "    'bagging_temperature': 7.385095136875193e-08 ,\n",
    "    'border_count': 60371 ,\n",
    "    'depth': 4 ,\n",
    "    'early_stopping_rounds': 2 ,\n",
    "    'iterations': 12 ,\n",
    "    'l2_leaf_reg': 0.10952643394246851 ,\n",
    "    'learning_rate': 0.030724310795859633,\n",
    "    'random_seed': 30688,\n",
    "    'random_strength': 0.013384337685341417,\n",
    "    'scale_pos_weight': 0.23362736443976684,\n",
    "    'subsample': 0.5319710298103609\n",
    "}\n",
    "\n"
   ]
  },
  {
   "cell_type": "code",
   "execution_count": 2,
   "metadata": {},
   "outputs": [],
   "source": [
    "#APERTURA DE ARCHIVO DE ARCHIVOS\n",
    "entrenamiento = pd.read_pickle(\"../Archivos/Arboles_entrenamiento.pkl\")\n",
    "test = pd.read_pickle(\"../Archivos/Arboles_validacion.pkl\")"
   ]
  },
  {
   "cell_type": "code",
   "execution_count": 3,
   "metadata": {},
   "outputs": [],
   "source": [
    "#FILTRADO DE COLUMNAS - NO REMOVER STAGE O FECHA\n",
    "#fugas = ['ID','Opportunity_Name','Sales_Contract_No','Account_Name','Account_Owner','Opportunity_Owner','Last_Modified_By','Product_Family','Product_Name','ASP','ASP_(converted)']\n",
    "#'Total_Taxable_Amount'\n",
    "#columnas_fecha = ['Month','Last_Modified_Date','Account_Created_Date','Opportunity_Created_Date','Quote_Expiry_Date','Planned_Delivery_Start_Date','Planned_Delivery_End_Date']\n",
    "#entrenamiento = entrenamiento.drop(columns=fugas)\n",
    "#test = test.drop(columns=fugas)\n",
    "#test = test.drop(columns=columnas_fecha)\n",
    "#entrenamiento = entrenamiento.drop(columns=columnas_fecha)"
   ]
  },
  {
   "cell_type": "code",
   "execution_count": 4,
   "metadata": {},
   "outputs": [],
   "source": [
    "#FECHAS A DIAS\n",
    "\n",
    "columnas_fecha = ['Last_Modified_Date','Account_Created_Date','Opportunity_Created_Date','Quote_Expiry_Date','Planned_Delivery_Start_Date','Planned_Delivery_End_Date']\n",
    "def fecha_a_dias(x):\n",
    "    for columna in columnas_fecha:\n",
    "        x[columna] = x[columna].apply(lambda x : (x - pd.to_datetime('01/01/2000', format='%m/%d/%Y')).days)\n",
    "\n",
    "fecha_a_dias(entrenamiento)\n",
    "fecha_a_dias(test)"
   ]
  },
  {
   "cell_type": "code",
   "execution_count": 5,
   "metadata": {},
   "outputs": [],
   "source": [
    "objetivo = (entrenamiento['Stage'] == 1).astype(int)\n",
    "entrenamiento = entrenamiento.drop(columns=['Stage'])\n",
    "columnas_category = list(entrenamiento.select_dtypes(include=['category']).columns)\n",
    "if 'Stage' in columnas_category : columnas_category.remove('Stage')"
   ]
  },
  {
   "cell_type": "code",
   "execution_count": 6,
   "metadata": {},
   "outputs": [],
   "source": [
    "if not PREDICCION_REAL:\n",
    "    test_label = (test['Stage'] == 1).astype(int)\n",
    "    test = test.drop(columns=['Stage'])"
   ]
  },
  {
   "cell_type": "code",
   "execution_count": 7,
   "metadata": {},
   "outputs": [],
   "source": [
    "entrenamiento_pool = cb.Pool(entrenamiento, objetivo,cat_features=columnas_category)\n",
    "test_pool = cb.Pool(test, cat_features=columnas_category)"
   ]
  },
  {
   "cell_type": "code",
   "execution_count": 8,
   "metadata": {},
   "outputs": [
    {
     "name": "stdout",
     "output_type": "stream",
     "text": [
      "0:\tlearn: 0.6017592\ttotal: 20.9ms\tremaining: 230ms\n",
      "1:\tlearn: 0.5275846\ttotal: 40.1ms\tremaining: 200ms\n",
      "2:\tlearn: 0.4715121\ttotal: 58.9ms\tremaining: 177ms\n",
      "3:\tlearn: 0.4246946\ttotal: 77.5ms\tremaining: 155ms\n",
      "4:\tlearn: 0.3839152\ttotal: 97.8ms\tremaining: 137ms\n",
      "5:\tlearn: 0.3520408\ttotal: 117ms\tremaining: 117ms\n",
      "6:\tlearn: 0.3223351\ttotal: 135ms\tremaining: 96.3ms\n",
      "7:\tlearn: 0.2980115\ttotal: 153ms\tremaining: 76.6ms\n",
      "8:\tlearn: 0.2760935\ttotal: 170ms\tremaining: 56.8ms\n",
      "9:\tlearn: 0.2560091\ttotal: 187ms\tremaining: 37.4ms\n",
      "10:\tlearn: 0.2370791\ttotal: 205ms\tremaining: 18.6ms\n",
      "11:\tlearn: 0.2209611\ttotal: 223ms\tremaining: 0us\n"
     ]
    },
    {
     "data": {
      "text/plain": [
       "array([0, 1, 0, ..., 1, 1, 1], dtype=int64)"
      ]
     },
     "execution_count": 8,
     "metadata": {},
     "output_type": "execute_result"
    }
   ],
   "source": [
    "model = cb.CatBoostClassifier(**PARAMETROS)\n",
    "\n",
    "model.fit(entrenamiento_pool)\n",
    "# make the prediction using the resulting model\n",
    "preds = model.predict(test_pool)\n",
    "preds"
   ]
  },
  {
   "cell_type": "code",
   "execution_count": 9,
   "metadata": {},
   "outputs": [
    {
     "data": {
      "text/plain": [
       "0.9483942414174973"
      ]
     },
     "execution_count": 9,
     "metadata": {},
     "output_type": "execute_result"
    }
   ],
   "source": [
    "accuracy_score(test_label, preds)"
   ]
  },
  {
   "cell_type": "code",
   "execution_count": 10,
   "metadata": {},
   "outputs": [
    {
     "data": {
      "text/html": [
       "<div>\n",
       "<style scoped>\n",
       "    .dataframe tbody tr th:only-of-type {\n",
       "        vertical-align: middle;\n",
       "    }\n",
       "\n",
       "    .dataframe tbody tr th {\n",
       "        vertical-align: top;\n",
       "    }\n",
       "\n",
       "    .dataframe thead th {\n",
       "        text-align: right;\n",
       "    }\n",
       "</style>\n",
       "<table border=\"1\" class=\"dataframe\">\n",
       "  <thead>\n",
       "    <tr style=\"text-align: right;\">\n",
       "      <th></th>\n",
       "      <th>Feature Id</th>\n",
       "      <th>Importances</th>\n",
       "    </tr>\n",
       "  </thead>\n",
       "  <tbody>\n",
       "    <tr>\n",
       "      <th>0</th>\n",
       "      <td>Sales_Contract_No</td>\n",
       "      <td>81.161080</td>\n",
       "    </tr>\n",
       "    <tr>\n",
       "      <th>1</th>\n",
       "      <td>Opportunity_Name</td>\n",
       "      <td>9.542008</td>\n",
       "    </tr>\n",
       "    <tr>\n",
       "      <th>2</th>\n",
       "      <td>Account_Name</td>\n",
       "      <td>2.065403</td>\n",
       "    </tr>\n",
       "    <tr>\n",
       "      <th>3</th>\n",
       "      <td>Product_Name</td>\n",
       "      <td>1.705176</td>\n",
       "    </tr>\n",
       "    <tr>\n",
       "      <th>4</th>\n",
       "      <td>Account_Owner</td>\n",
       "      <td>1.349593</td>\n",
       "    </tr>\n",
       "    <tr>\n",
       "      <th>...</th>\n",
       "      <td>...</td>\n",
       "      <td>...</td>\n",
       "    </tr>\n",
       "    <tr>\n",
       "      <th>74</th>\n",
       "      <td>Total_Amount_by_Product_Family_std</td>\n",
       "      <td>0.000000</td>\n",
       "    </tr>\n",
       "    <tr>\n",
       "      <th>75</th>\n",
       "      <td>Buro_Approved_by_Product_Family</td>\n",
       "      <td>0.000000</td>\n",
       "    </tr>\n",
       "    <tr>\n",
       "      <th>76</th>\n",
       "      <td>Family_Duration</td>\n",
       "      <td>0.000000</td>\n",
       "    </tr>\n",
       "    <tr>\n",
       "      <th>77</th>\n",
       "      <td>Region_Duration</td>\n",
       "      <td>0.000000</td>\n",
       "    </tr>\n",
       "    <tr>\n",
       "      <th>78</th>\n",
       "      <td>Territory_Duration</td>\n",
       "      <td>0.000000</td>\n",
       "    </tr>\n",
       "  </tbody>\n",
       "</table>\n",
       "<p>79 rows × 2 columns</p>\n",
       "</div>"
      ],
      "text/plain": [
       "                            Feature Id  Importances\n",
       "0                    Sales_Contract_No    81.161080\n",
       "1                     Opportunity_Name     9.542008\n",
       "2                         Account_Name     2.065403\n",
       "3                         Product_Name     1.705176\n",
       "4                        Account_Owner     1.349593\n",
       "..                                 ...          ...\n",
       "74  Total_Amount_by_Product_Family_std     0.000000\n",
       "75     Buro_Approved_by_Product_Family     0.000000\n",
       "76                     Family_Duration     0.000000\n",
       "77                     Region_Duration     0.000000\n",
       "78                  Territory_Duration     0.000000\n",
       "\n",
       "[79 rows x 2 columns]"
      ]
     },
     "execution_count": 10,
     "metadata": {},
     "output_type": "execute_result"
    }
   ],
   "source": [
    "model.get_feature_importance(prettified=True)"
   ]
  },
  {
   "cell_type": "code",
   "execution_count": 11,
   "metadata": {},
   "outputs": [
    {
     "data": {
      "text/plain": [
       "0.991143117291615"
      ]
     },
     "execution_count": 11,
     "metadata": {},
     "output_type": "execute_result"
    }
   ],
   "source": [
    "preds = model.predict(entrenamiento_pool)\n",
    "accuracy_score(objetivo, preds)"
   ]
  },
  {
   "cell_type": "code",
   "execution_count": 12,
   "metadata": {},
   "outputs": [],
   "source": [
    "if (PREDICCION_REAL):\n",
    "    resultados['Opportunity_ID'] = test['Opportunity_ID']\n",
    "    resultados['Target'] = pd.Series(preds)\n",
    "    resultados = resultados.groupby('Opportunity_ID').mean()\n",
    "    resultados = resultados.reset_index()\n",
    "    #resultados['Target'] = resultados['Target'].apply(lambda x: int(x >= 0.5))    \n",
    "    resultados.to_csv(\"prediccion.csv\", index=False)\n",
    "    resultados['Target'].value_counts()"
   ]
  },
  {
   "cell_type": "code",
   "execution_count": 13,
   "metadata": {},
   "outputs": [
    {
     "ename": "SystemExit",
     "evalue": "",
     "output_type": "error",
     "traceback": [
      "An exception has occurred, use %tb to see the full traceback.\n",
      "\u001b[1;31mSystemExit\u001b[0m\n"
     ]
    },
    {
     "name": "stderr",
     "output_type": "stream",
     "text": [
      "D:\\Anaconda\\lib\\site-packages\\IPython\\core\\interactiveshell.py:3339: UserWarning: To exit: use 'exit', 'quit', or Ctrl-D.\n",
      "  warn(\"To exit: use 'exit', 'quit', or Ctrl-D.\", stacklevel=1)\n"
     ]
    }
   ],
   "source": [
    "if(not MAXIMIZAR_HIPERPARAMETROS): sys.exit()"
   ]
  },
  {
   "cell_type": "code",
   "execution_count": null,
   "metadata": {},
   "outputs": [],
   "source": [
    "from catboost import CatBoostClassifier\n",
    "from skopt import BayesSearchCV\n",
    "from skopt.space import Real\n",
    "from sklearn.model_selection import StratifiedKFold\n",
    "\n",
    "# Classifier\n",
    "bayes_cv_tuner = BayesSearchCV(\n",
    "estimator = CatBoostClassifier(\n",
    "silent=True,cat_features=columnas_category,task_type=\"GPU\", devices='0:1', bootstrap_type='MVS'\n",
    "),\n",
    "search_spaces = {\n",
    "        \"iterations\" : (5, 20),\n",
    "        'learning_rate': Real(low=0.01, high=1, prior='log-uniform'),\n",
    "        \"random_seed\" : (1,40000),\n",
    "        \"l2_leaf_reg\" : Real(low=1e-9, high=1000, prior='log-uniform'),\n",
    "        'subsample': Real(low=0.01, high=1, prior='uniform'),\n",
    "        \"random_strength\" : Real(low=1e-9, high=1000, prior='log-uniform'),\n",
    "        'depth': (1, 10),\n",
    "        #\"rsm\" : Real(low=0.01, high=1, prior='uniform'),\n",
    "        \"early_stopping_rounds\" : (1, 5),\n",
    "        \"border_count\" : (1,65535),\n",
    "        \"bagging_temperature\" : Real(low=1e-9,high=1000,prior='log-uniform'),\n",
    "        \"scale_pos_weight\" : Real(low = 0.01,high = 1.0,prior=\"uniform\")\n",
    "},\n",
    "cv = skl.model_selection.TimeSeriesSplit(),\n",
    "n_jobs = 1,\n",
    "n_iter = 5,\n",
    "verbose = 1,\n",
    "refit = True,\n",
    "random_state = 72\n",
    ")"
   ]
  },
  {
   "cell_type": "code",
   "execution_count": null,
   "metadata": {},
   "outputs": [],
   "source": [
    "def status_print(optim_result):\n",
    "    \"\"\"Status callback durring bayesian hyperparameter search\"\"\"\n",
    "    # Get all the models tested so far in DataFrame format\n",
    "    all_models = pd.DataFrame(bayes_cv_tuner.cv_results_)    \n",
    "\n",
    "    # Get current parameters and the best parameters    \n",
    "    best_params = pd.Series(bayes_cv_tuner.best_params_)\n",
    "    print('Model #{}\\nBest ROC-AUC: {}\\nBest params: {}\\n'.format(\n",
    "        len(all_models),\n",
    "        np.round(bayes_cv_tuner.best_score_, 4),\n",
    "        bayes_cv_tuner.best_params_\n",
    "    ))"
   ]
  },
  {
   "cell_type": "code",
   "execution_count": null,
   "metadata": {},
   "outputs": [],
   "source": [
    "resultCAT = bayes_cv_tuner.fit(entrenamiento, objetivo, callback=status_print)"
   ]
  },
  {
   "cell_type": "code",
   "execution_count": null,
   "metadata": {},
   "outputs": [],
   "source": [
    "print(bayes_cv_tuner.best_score_)\n",
    "print(bayes_cv_tuner.best_params_)"
   ]
  },
  {
   "cell_type": "code",
   "execution_count": null,
   "metadata": {},
   "outputs": [],
   "source": [
    "preds = bayes_cv_tuner.predict(test.values)"
   ]
  },
  {
   "cell_type": "code",
   "execution_count": null,
   "metadata": {},
   "outputs": [],
   "source": [
    "accuracy_score(test_label, preds)"
   ]
  },
  {
   "cell_type": "code",
   "execution_count": null,
   "metadata": {},
   "outputs": [],
   "source": []
  },
  {
   "cell_type": "code",
   "execution_count": null,
   "metadata": {},
   "outputs": [],
   "source": []
  }
 ],
 "metadata": {
  "kernelspec": {
   "display_name": "Python 3",
   "language": "python",
   "name": "python3"
  },
  "language_info": {
   "codemirror_mode": {
    "name": "ipython",
    "version": 3
   },
   "file_extension": ".py",
   "mimetype": "text/x-python",
   "name": "python",
   "nbconvert_exporter": "python",
   "pygments_lexer": "ipython3",
   "version": "3.7.6"
  }
 },
 "nbformat": 4,
 "nbformat_minor": 4
}
