{
 "cells": [
  {
   "cell_type": "code",
   "execution_count": 1,
   "metadata": {},
   "outputs": [],
   "source": [
    "import catboost as cb\n",
    "import pandas as pd\n",
    "import matplotlib.pyplot as plt\n",
    "import numpy as np\n",
    "import sklearn as skl\n",
    "from sklearn.metrics import confusion_matrix, accuracy_score\n",
    "import skopt\n",
    "import scipy\n",
    "from skopt.space import Real\n",
    "\n",
    "PREDICCION_REAL = False\n",
    "MAXIMIZAR_HIPERPARAMETROS = True\n",
    "PARAMETROS = {\n",
    "    \"iterations\" : 6,\n",
    "    'learning_rate': 0.015085957893870945,\n",
    "    \"random_seed\" : 9355,\n",
    "    \"l2_leaf_reg\" : 6.150356581299571e-06,\n",
    "    'subsample': 0.31586225948456137,\n",
    "    \"random_strength\" : 0.27365314292727794,\n",
    "    'depth': 15,\n",
    "    \"rsm\" : 0.36719138525672734,\n",
    "    \"early_stopping_rounds\" : 3,\n",
    "    \"border_count\" : 21324,\n",
    "    \"loss_function\":'Logloss',\n",
    "    \"verbose\":True,\n",
    "    \"has_time\" : True,\n",
    "    'bagging_temperature': 7.77711454463817e-07,\n",
    "    'scale_pos_weight': 0.3982269802506704\n",
    "}"
   ]
  },
  {
   "cell_type": "code",
   "execution_count": 2,
   "metadata": {},
   "outputs": [],
   "source": [
    "#APERTURA DE ARCHIVO DE ARCHIVOS\n",
    "entrenamiento = pd.read_csv(\"entrenamiento-listo.csv\")\n",
    "test = pd.read_csv(\"test-listo.csv\")"
   ]
  },
  {
   "cell_type": "code",
   "execution_count": 3,
   "metadata": {},
   "outputs": [],
   "source": [
    "#FILTRADO DE COLUMNAS - NO REMOVER STAGE O FECHA\n",
    "fugas = ['ID','Opportunity_Name','Sales_Contract_No','Account_Name','Account_Owner','Opportunity_Owner','Last_Modified_By','Product_Family','Product_Name','ASP','ASP_(converted)']\n",
    "#'Total_Taxable_Amount'\n",
    "columnas_fecha = ['Month','Last_Modified_Date','Account_Created_Date','Opportunity_Created_Date','Quote_Expiry_Date','Planned_Delivery_Start_Date','Planned_Delivery_End_Date']\n",
    "#entrenamiento = entrenamiento.drop(columns=fugas)\n",
    "#test = test.drop(columns=fugas)\n",
    "#test = test.drop(columns=columnas_fecha)\n",
    "#entrenamiento = entrenamiento.drop(columns=columnas_fecha)"
   ]
  },
  {
   "cell_type": "code",
   "execution_count": 4,
   "metadata": {},
   "outputs": [],
   "source": [
    "entrenamiento.sort_values(\"Fecha\")\n",
    "objetivo = (entrenamiento['Stage'] == 'Closed Won').astype(int)\n",
    "entrenamiento = entrenamiento.drop(columns=['Stage',\"Fecha\"])\n",
    "columnas_object = list(entrenamiento.select_dtypes(include=['object']).columns)\n",
    "if 'Stage' in columnas_object : columnas_object.remove('Stage')"
   ]
  },
  {
   "cell_type": "code",
   "execution_count": 5,
   "metadata": {},
   "outputs": [],
   "source": [
    "if not PREDICCION_REAL:\n",
    "    test_label = (test['Stage'] == 'Closed Won').astype(int)\n",
    "    test = test.drop(columns=['Stage'])"
   ]
  },
  {
   "cell_type": "code",
   "execution_count": null,
   "metadata": {},
   "outputs": [],
   "source": []
  },
  {
   "cell_type": "code",
   "execution_count": 6,
   "metadata": {},
   "outputs": [],
   "source": [
    "entrenamiento_pool = cb.Pool(entrenamiento, objetivo,cat_features=columnas_object)\n",
    "test_pool = cb.Pool(test, cat_features=columnas_object)"
   ]
  },
  {
   "cell_type": "code",
   "execution_count": 7,
   "metadata": {},
   "outputs": [
    {
     "name": "stdout",
     "output_type": "stream",
     "text": [
      "0:\tlearn: 0.6251398\ttotal: 8.98s\tremaining: 44.9s\n",
      "1:\tlearn: 0.5615255\ttotal: 20.6s\tremaining: 41.2s\n",
      "2:\tlearn: 0.5015362\ttotal: 31.2s\tremaining: 31.2s\n",
      "3:\tlearn: 0.4551814\ttotal: 39.8s\tremaining: 19.9s\n",
      "4:\tlearn: 0.4105875\ttotal: 49.1s\tremaining: 9.82s\n",
      "5:\tlearn: 0.3730502\ttotal: 53.3s\tremaining: 0us\n",
      "class =  [1 1 0 ... 1 0 0]\n"
     ]
    }
   ],
   "source": [
    "model = cb.CatBoostClassifier(**PARAMETROS)\n",
    "\n",
    "model.fit(entrenamiento_pool)\n",
    "# make the prediction using the resulting model\n",
    "preds = model.predict(test_pool)\n",
    "print(\"class = \", preds)"
   ]
  },
  {
   "cell_type": "code",
   "execution_count": 8,
   "metadata": {},
   "outputs": [
    {
     "data": {
      "text/plain": [
       "1.000000    1447\n",
       "0.000000    1090\n",
       "0.500000      17\n",
       "0.333333       2\n",
       "0.666667       1\n",
       "0.857143       1\n",
       "0.833333       1\n",
       "0.800000       1\n",
       "0.777778       1\n",
       "0.250000       1\n",
       "Name: Target, dtype: int64"
      ]
     },
     "execution_count": 8,
     "metadata": {},
     "output_type": "execute_result"
    }
   ],
   "source": [
    "resultados = test[['Opportunity_ID']].copy()\n",
    "resultados['Target'] = pd.Series(preds)\n",
    "resultados = resultados.groupby('Opportunity_ID').mean()\n",
    "resultados = resultados.reset_index()\n",
    "#resultados['Target'] = resultados['Target'].apply(lambda x: int(x >= 0.5))    \n",
    "resultados.to_csv(\"prediccion.csv\", index=False)\n",
    "resultados['Target'].value_counts()"
   ]
  },
  {
   "cell_type": "code",
   "execution_count": 9,
   "metadata": {},
   "outputs": [
    {
     "name": "stdout",
     "output_type": "stream",
     "text": [
      "[[1533  182]\n",
      " [ 184 2531]]\n"
     ]
    }
   ],
   "source": [
    "if not PREDICCION_REAL:\n",
    "    cm = confusion_matrix(test_label, preds)\n",
    "    print(cm)\n",
    "    accuracy_score(test_label, preds)"
   ]
  },
  {
   "cell_type": "code",
   "execution_count": 10,
   "metadata": {},
   "outputs": [
    {
     "data": {
      "text/plain": [
       "0.9173814898419864"
      ]
     },
     "execution_count": 10,
     "metadata": {},
     "output_type": "execute_result"
    }
   ],
   "source": [
    "accuracy_score(test_label, preds)"
   ]
  },
  {
   "cell_type": "code",
   "execution_count": 11,
   "metadata": {},
   "outputs": [
    {
     "data": {
      "text/html": [
       "<div>\n",
       "<style scoped>\n",
       "    .dataframe tbody tr th:only-of-type {\n",
       "        vertical-align: middle;\n",
       "    }\n",
       "\n",
       "    .dataframe tbody tr th {\n",
       "        vertical-align: top;\n",
       "    }\n",
       "\n",
       "    .dataframe thead th {\n",
       "        text-align: right;\n",
       "    }\n",
       "</style>\n",
       "<table border=\"1\" class=\"dataframe\">\n",
       "  <thead>\n",
       "    <tr style=\"text-align: right;\">\n",
       "      <th></th>\n",
       "      <th>Feature Id</th>\n",
       "      <th>Importances</th>\n",
       "    </tr>\n",
       "  </thead>\n",
       "  <tbody>\n",
       "    <tr>\n",
       "      <th>0</th>\n",
       "      <td>Sales_Contract_No</td>\n",
       "      <td>57.115252</td>\n",
       "    </tr>\n",
       "    <tr>\n",
       "      <th>1</th>\n",
       "      <td>Delivery_Terms</td>\n",
       "      <td>4.695373</td>\n",
       "    </tr>\n",
       "    <tr>\n",
       "      <th>2</th>\n",
       "      <td>Account_Name</td>\n",
       "      <td>3.328441</td>\n",
       "    </tr>\n",
       "    <tr>\n",
       "      <th>3</th>\n",
       "      <td>Account_Type</td>\n",
       "      <td>3.104905</td>\n",
       "    </tr>\n",
       "    <tr>\n",
       "      <th>4</th>\n",
       "      <td>Source</td>\n",
       "      <td>2.552632</td>\n",
       "    </tr>\n",
       "    <tr>\n",
       "      <th>5</th>\n",
       "      <td>Bureaucratic_Code</td>\n",
       "      <td>2.375937</td>\n",
       "    </tr>\n",
       "    <tr>\n",
       "      <th>6</th>\n",
       "      <td>Last_Modified_By</td>\n",
       "      <td>2.305174</td>\n",
       "    </tr>\n",
       "    <tr>\n",
       "      <th>7</th>\n",
       "      <td>Region</td>\n",
       "      <td>2.281342</td>\n",
       "    </tr>\n",
       "    <tr>\n",
       "      <th>8</th>\n",
       "      <td>ASP</td>\n",
       "      <td>2.200440</td>\n",
       "    </tr>\n",
       "    <tr>\n",
       "      <th>9</th>\n",
       "      <td>Planned_Delivery_End_Date</td>\n",
       "      <td>2.106708</td>\n",
       "    </tr>\n",
       "    <tr>\n",
       "      <th>10</th>\n",
       "      <td>Planned_Delivery_Start_Date</td>\n",
       "      <td>2.012424</td>\n",
       "    </tr>\n",
       "    <tr>\n",
       "      <th>11</th>\n",
       "      <td>Account_Created_Date</td>\n",
       "      <td>1.861966</td>\n",
       "    </tr>\n",
       "    <tr>\n",
       "      <th>12</th>\n",
       "      <td>Total_Taxable_Amount</td>\n",
       "      <td>1.653761</td>\n",
       "    </tr>\n",
       "    <tr>\n",
       "      <th>13</th>\n",
       "      <td>Total_Taxable_Amount_USD</td>\n",
       "      <td>1.134935</td>\n",
       "    </tr>\n",
       "    <tr>\n",
       "      <th>14</th>\n",
       "      <td>Month</td>\n",
       "      <td>1.060390</td>\n",
       "    </tr>\n",
       "    <tr>\n",
       "      <th>15</th>\n",
       "      <td>Delivery_Year</td>\n",
       "      <td>0.990931</td>\n",
       "    </tr>\n",
       "    <tr>\n",
       "      <th>16</th>\n",
       "      <td>Pricing, Delivery_Terms_Approved</td>\n",
       "      <td>0.923664</td>\n",
       "    </tr>\n",
       "    <tr>\n",
       "      <th>17</th>\n",
       "      <td>Opportunity_Duration</td>\n",
       "      <td>0.909184</td>\n",
       "    </tr>\n",
       "    <tr>\n",
       "      <th>18</th>\n",
       "      <td>Total_Amount</td>\n",
       "      <td>0.868609</td>\n",
       "    </tr>\n",
       "    <tr>\n",
       "      <th>19</th>\n",
       "      <td>ASP_Currency</td>\n",
       "      <td>0.746315</td>\n",
       "    </tr>\n",
       "    <tr>\n",
       "      <th>20</th>\n",
       "      <td>Total_Amount_USD</td>\n",
       "      <td>0.696510</td>\n",
       "    </tr>\n",
       "    <tr>\n",
       "      <th>21</th>\n",
       "      <td>Pricing, Delivery_Terms_Quote_Appr</td>\n",
       "      <td>0.667309</td>\n",
       "    </tr>\n",
       "    <tr>\n",
       "      <th>22</th>\n",
       "      <td>Delivery_Quarter</td>\n",
       "      <td>0.650753</td>\n",
       "    </tr>\n",
       "    <tr>\n",
       "      <th>23</th>\n",
       "      <td>TRF</td>\n",
       "      <td>0.646656</td>\n",
       "    </tr>\n",
       "    <tr>\n",
       "      <th>24</th>\n",
       "      <td>Last_Modified_Date</td>\n",
       "      <td>0.638028</td>\n",
       "    </tr>\n",
       "    <tr>\n",
       "      <th>25</th>\n",
       "      <td>ASP_(converted)</td>\n",
       "      <td>0.621422</td>\n",
       "    </tr>\n",
       "    <tr>\n",
       "      <th>26</th>\n",
       "      <td>Opportunity_ID</td>\n",
       "      <td>0.557448</td>\n",
       "    </tr>\n",
       "    <tr>\n",
       "      <th>27</th>\n",
       "      <td>Opportunity_Type</td>\n",
       "      <td>0.466117</td>\n",
       "    </tr>\n",
       "    <tr>\n",
       "      <th>28</th>\n",
       "      <td>Quote_Expiry_Date</td>\n",
       "      <td>0.411038</td>\n",
       "    </tr>\n",
       "    <tr>\n",
       "      <th>29</th>\n",
       "      <td>Total_Taxable_Amount_Currency</td>\n",
       "      <td>0.242339</td>\n",
       "    </tr>\n",
       "    <tr>\n",
       "      <th>30</th>\n",
       "      <td>Total_Amount_Currency</td>\n",
       "      <td>0.173998</td>\n",
       "    </tr>\n",
       "    <tr>\n",
       "      <th>31</th>\n",
       "      <td>ID</td>\n",
       "      <td>0.000000</td>\n",
       "    </tr>\n",
       "    <tr>\n",
       "      <th>32</th>\n",
       "      <td>Territory</td>\n",
       "      <td>0.000000</td>\n",
       "    </tr>\n",
       "    <tr>\n",
       "      <th>33</th>\n",
       "      <td>Bureaucratic_Code_0_Approval</td>\n",
       "      <td>0.000000</td>\n",
       "    </tr>\n",
       "    <tr>\n",
       "      <th>34</th>\n",
       "      <td>Bureaucratic_Code_0_Approved</td>\n",
       "      <td>0.000000</td>\n",
       "    </tr>\n",
       "    <tr>\n",
       "      <th>35</th>\n",
       "      <td>Submitted_for_Approval</td>\n",
       "      <td>0.000000</td>\n",
       "    </tr>\n",
       "    <tr>\n",
       "      <th>36</th>\n",
       "      <td>Billing_Country</td>\n",
       "      <td>0.000000</td>\n",
       "    </tr>\n",
       "    <tr>\n",
       "      <th>37</th>\n",
       "      <td>Opportunity_Name</td>\n",
       "      <td>0.000000</td>\n",
       "    </tr>\n",
       "    <tr>\n",
       "      <th>38</th>\n",
       "      <td>Account_Owner</td>\n",
       "      <td>0.000000</td>\n",
       "    </tr>\n",
       "    <tr>\n",
       "      <th>39</th>\n",
       "      <td>Opportunity_Owner</td>\n",
       "      <td>0.000000</td>\n",
       "    </tr>\n",
       "    <tr>\n",
       "      <th>40</th>\n",
       "      <td>Opportunity_Created_Date</td>\n",
       "      <td>0.000000</td>\n",
       "    </tr>\n",
       "    <tr>\n",
       "      <th>41</th>\n",
       "      <td>Product_Family</td>\n",
       "      <td>0.000000</td>\n",
       "    </tr>\n",
       "    <tr>\n",
       "      <th>42</th>\n",
       "      <td>Product_Name</td>\n",
       "      <td>0.000000</td>\n",
       "    </tr>\n",
       "    <tr>\n",
       "      <th>43</th>\n",
       "      <td>Total_Amount_sobre_Total_Taxable_Amount</td>\n",
       "      <td>0.000000</td>\n",
       "    </tr>\n",
       "    <tr>\n",
       "      <th>44</th>\n",
       "      <td>Duracion_Familia</td>\n",
       "      <td>0.000000</td>\n",
       "    </tr>\n",
       "    <tr>\n",
       "      <th>45</th>\n",
       "      <td>Duracion_Region</td>\n",
       "      <td>0.000000</td>\n",
       "    </tr>\n",
       "    <tr>\n",
       "      <th>46</th>\n",
       "      <td>Duracion_Territory</td>\n",
       "      <td>0.000000</td>\n",
       "    </tr>\n",
       "  </tbody>\n",
       "</table>\n",
       "</div>"
      ],
      "text/plain": [
       "                                 Feature Id  Importances\n",
       "0                         Sales_Contract_No    57.115252\n",
       "1                            Delivery_Terms     4.695373\n",
       "2                              Account_Name     3.328441\n",
       "3                              Account_Type     3.104905\n",
       "4                                   Source      2.552632\n",
       "5                         Bureaucratic_Code     2.375937\n",
       "6                          Last_Modified_By     2.305174\n",
       "7                                    Region     2.281342\n",
       "8                                       ASP     2.200440\n",
       "9                 Planned_Delivery_End_Date     2.106708\n",
       "10              Planned_Delivery_Start_Date     2.012424\n",
       "11                     Account_Created_Date     1.861966\n",
       "12                     Total_Taxable_Amount     1.653761\n",
       "13                 Total_Taxable_Amount_USD     1.134935\n",
       "14                                    Month     1.060390\n",
       "15                            Delivery_Year     0.990931\n",
       "16         Pricing, Delivery_Terms_Approved     0.923664\n",
       "17                     Opportunity_Duration     0.909184\n",
       "18                             Total_Amount     0.868609\n",
       "19                             ASP_Currency     0.746315\n",
       "20                         Total_Amount_USD     0.696510\n",
       "21       Pricing, Delivery_Terms_Quote_Appr     0.667309\n",
       "22                         Delivery_Quarter     0.650753\n",
       "23                                      TRF     0.646656\n",
       "24                       Last_Modified_Date     0.638028\n",
       "25                          ASP_(converted)     0.621422\n",
       "26                           Opportunity_ID     0.557448\n",
       "27                         Opportunity_Type     0.466117\n",
       "28                        Quote_Expiry_Date     0.411038\n",
       "29            Total_Taxable_Amount_Currency     0.242339\n",
       "30                    Total_Amount_Currency     0.173998\n",
       "31                                       ID     0.000000\n",
       "32                                Territory     0.000000\n",
       "33             Bureaucratic_Code_0_Approval     0.000000\n",
       "34             Bureaucratic_Code_0_Approved     0.000000\n",
       "35                   Submitted_for_Approval     0.000000\n",
       "36                          Billing_Country     0.000000\n",
       "37                         Opportunity_Name     0.000000\n",
       "38                            Account_Owner     0.000000\n",
       "39                        Opportunity_Owner     0.000000\n",
       "40                 Opportunity_Created_Date     0.000000\n",
       "41                           Product_Family     0.000000\n",
       "42                             Product_Name     0.000000\n",
       "43  Total_Amount_sobre_Total_Taxable_Amount     0.000000\n",
       "44                         Duracion_Familia     0.000000\n",
       "45                          Duracion_Region     0.000000\n",
       "46                       Duracion_Territory     0.000000"
      ]
     },
     "execution_count": 11,
     "metadata": {},
     "output_type": "execute_result"
    }
   ],
   "source": [
    "model.get_feature_importance(prettified=True)"
   ]
  },
  {
   "cell_type": "code",
   "execution_count": 12,
   "metadata": {},
   "outputs": [
    {
     "data": {
      "text/plain": [
       "0.9958880139982502"
      ]
     },
     "execution_count": 12,
     "metadata": {},
     "output_type": "execute_result"
    }
   ],
   "source": [
    "preds = model.predict(entrenamiento_pool)\n",
    "accuracy_score(objetivo, preds)"
   ]
  },
  {
   "cell_type": "code",
   "execution_count": 13,
   "metadata": {},
   "outputs": [],
   "source": [
    "if(not MAXIMIZAR_HIPERPARAMETROS): sys.exit()"
   ]
  },
  {
   "cell_type": "code",
   "execution_count": 19,
   "metadata": {},
   "outputs": [],
   "source": [
    "from catboost import CatBoostClassifier\n",
    "from skopt import BayesSearchCV\n",
    "from skopt.space import Real\n",
    "from sklearn.model_selection import StratifiedKFold\n",
    "\n",
    "# Classifier\n",
    "bayes_cv_tuner = BayesSearchCV(\n",
    "estimator = CatBoostClassifier(\n",
    "silent=True,cat_features=columnas_object, bootstrap_type='MVS'\n",
    "),\n",
    "search_spaces = {\n",
    "        \"iterations\" : (5, 20),\n",
    "        'learning_rate': Real(low=0.01, high=1, prior='log-uniform'),\n",
    "        \"random_seed\" : (1,40000),\n",
    "        \"l2_leaf_reg\" : Real(low=1e-9, high=1000, prior='log-uniform'),\n",
    "        'subsample': Real(low=0.01, high=1, prior='uniform'),\n",
    "        \"random_strength\" : Real(low=1e-9, high=1000, prior='log-uniform'),\n",
    "        'depth': (1, 16),\n",
    "        \"rsm\" : Real(low=0.01, high=1, prior='uniform'),\n",
    "        \"early_stopping_rounds\" : (1, 5),\n",
    "        \"border_count\" : (1,65535),\n",
    "        \"bagging_temperature\" : Real(low=1e-9,high=1000,prior='log-uniform'),\n",
    "        \"scale_pos_weight\" : Real(low = 0.01,high = 1.0,prior=\"uniform\")\n",
    "},\n",
    "cv = skl.model_selection.TimeSeriesSplit(),\n",
    "n_jobs = 1,\n",
    "n_iter = 5,\n",
    "verbose = 1,\n",
    "refit = True,\n",
    "random_state = 72\n",
    ")"
   ]
  },
  {
   "cell_type": "code",
   "execution_count": 20,
   "metadata": {},
   "outputs": [],
   "source": [
    "def status_print(optim_result):\n",
    "    \"\"\"Status callback durring bayesian hyperparameter search\"\"\"\n",
    "    # Get all the models tested so far in DataFrame format\n",
    "    all_models = pd.DataFrame(bayes_cv_tuner.cv_results_)    \n",
    "\n",
    "    # Get current parameters and the best parameters    \n",
    "    best_params = pd.Series(bayes_cv_tuner.best_params_)\n",
    "    print('Model #{}\\nBest ROC-AUC: {}\\nBest params: {}\\n'.format(\n",
    "        len(all_models),\n",
    "        np.round(bayes_cv_tuner.best_score_, 4),\n",
    "        bayes_cv_tuner.best_params_\n",
    "    ))"
   ]
  },
  {
   "cell_type": "code",
   "execution_count": 21,
   "metadata": {},
   "outputs": [
    {
     "name": "stdout",
     "output_type": "stream",
     "text": [
      "Fitting 5 folds for each of 1 candidates, totalling 5 fits\n"
     ]
    },
    {
     "name": "stderr",
     "output_type": "stream",
     "text": [
      "[Parallel(n_jobs=1)]: Using backend SequentialBackend with 1 concurrent workers.\n",
      "[Parallel(n_jobs=1)]: Done   5 out of   5 | elapsed:    5.7s finished\n",
      "[Parallel(n_jobs=1)]: Using backend SequentialBackend with 1 concurrent workers.\n"
     ]
    },
    {
     "name": "stdout",
     "output_type": "stream",
     "text": [
      "Model #1\n",
      "Best ROC-AUC: 0.9566\n",
      "Best params: OrderedDict([('bagging_temperature', 7.385095136875193e-08), ('border_count', 60371), ('depth', 5), ('early_stopping_rounds', 2), ('iterations', 12), ('l2_leaf_reg', 0.10952643394246851), ('learning_rate', 0.030724310795859633), ('random_seed', 30688), ('random_strength', 0.013384337685341417), ('rsm', 0.23362736443976684), ('scale_pos_weight', 0.5319710298103609), ('subsample', 0.7693297128407879)])\n",
      "\n",
      "Fitting 5 folds for each of 1 candidates, totalling 5 fits\n"
     ]
    },
    {
     "name": "stderr",
     "output_type": "stream",
     "text": [
      "[Parallel(n_jobs=1)]: Done   5 out of   5 | elapsed:   10.4s finished\n",
      "[Parallel(n_jobs=1)]: Using backend SequentialBackend with 1 concurrent workers.\n"
     ]
    },
    {
     "name": "stdout",
     "output_type": "stream",
     "text": [
      "Model #2\n",
      "Best ROC-AUC: 0.9566\n",
      "Best params: OrderedDict([('bagging_temperature', 7.385095136875193e-08), ('border_count', 60371), ('depth', 5), ('early_stopping_rounds', 2), ('iterations', 12), ('l2_leaf_reg', 0.10952643394246851), ('learning_rate', 0.030724310795859633), ('random_seed', 30688), ('random_strength', 0.013384337685341417), ('rsm', 0.23362736443976684), ('scale_pos_weight', 0.5319710298103609), ('subsample', 0.7693297128407879)])\n",
      "\n",
      "Fitting 5 folds for each of 1 candidates, totalling 5 fits\n"
     ]
    },
    {
     "name": "stderr",
     "output_type": "stream",
     "text": [
      "[Parallel(n_jobs=1)]: Done   5 out of   5 | elapsed:   10.5s finished\n",
      "[Parallel(n_jobs=1)]: Using backend SequentialBackend with 1 concurrent workers.\n"
     ]
    },
    {
     "name": "stdout",
     "output_type": "stream",
     "text": [
      "Model #3\n",
      "Best ROC-AUC: 0.9566\n",
      "Best params: OrderedDict([('bagging_temperature', 7.385095136875193e-08), ('border_count', 60371), ('depth', 5), ('early_stopping_rounds', 2), ('iterations', 12), ('l2_leaf_reg', 0.10952643394246851), ('learning_rate', 0.030724310795859633), ('random_seed', 30688), ('random_strength', 0.013384337685341417), ('rsm', 0.23362736443976684), ('scale_pos_weight', 0.5319710298103609), ('subsample', 0.7693297128407879)])\n",
      "\n",
      "Fitting 5 folds for each of 1 candidates, totalling 5 fits\n"
     ]
    },
    {
     "name": "stderr",
     "output_type": "stream",
     "text": [
      "[Parallel(n_jobs=1)]: Done   5 out of   5 | elapsed:  7.1min finished\n",
      "[Parallel(n_jobs=1)]: Using backend SequentialBackend with 1 concurrent workers.\n"
     ]
    },
    {
     "name": "stdout",
     "output_type": "stream",
     "text": [
      "Model #4\n",
      "Best ROC-AUC: 0.9636\n",
      "Best params: OrderedDict([('bagging_temperature', 1.1063407351624084), ('border_count', 7137), ('depth', 15), ('early_stopping_rounds', 4), ('iterations', 14), ('l2_leaf_reg', 0.17260178161990627), ('learning_rate', 0.027307511040591478), ('random_seed', 5712), ('random_strength', 2.3464965049108726e-07), ('rsm', 0.819600044656442), ('scale_pos_weight', 0.9880746674599722), ('subsample', 0.23970990732871852)])\n",
      "\n",
      "Fitting 5 folds for each of 1 candidates, totalling 5 fits\n"
     ]
    },
    {
     "name": "stderr",
     "output_type": "stream",
     "text": [
      "[Parallel(n_jobs=1)]: Done   5 out of   5 | elapsed:    6.2s finished\n"
     ]
    },
    {
     "name": "stdout",
     "output_type": "stream",
     "text": [
      "Model #5\n",
      "Best ROC-AUC: 0.9636\n",
      "Best params: OrderedDict([('bagging_temperature', 1.1063407351624084), ('border_count', 7137), ('depth', 15), ('early_stopping_rounds', 4), ('iterations', 14), ('l2_leaf_reg', 0.17260178161990627), ('learning_rate', 0.027307511040591478), ('random_seed', 5712), ('random_strength', 2.3464965049108726e-07), ('rsm', 0.819600044656442), ('scale_pos_weight', 0.9880746674599722), ('subsample', 0.23970990732871852)])\n",
      "\n"
     ]
    }
   ],
   "source": [
    "resultCAT = bayes_cv_tuner.fit(entrenamiento, objetivo, callback=status_print)"
   ]
  },
  {
   "cell_type": "code",
   "execution_count": 23,
   "metadata": {},
   "outputs": [
    {
     "name": "stdout",
     "output_type": "stream",
     "text": [
      "0.9635695538057742\n",
      "OrderedDict([('bagging_temperature', 1.1063407351624084), ('border_count', 7137), ('depth', 15), ('early_stopping_rounds', 4), ('iterations', 14), ('l2_leaf_reg', 0.17260178161990627), ('learning_rate', 0.027307511040591478), ('random_seed', 5712), ('random_strength', 2.3464965049108726e-07), ('rsm', 0.819600044656442), ('scale_pos_weight', 0.9880746674599722), ('subsample', 0.23970990732871852)])\n"
     ]
    }
   ],
   "source": [
    "print(bayes_cv_tuner.best_score_)\n",
    "print(bayes_cv_tuner.best_params_)"
   ]
  },
  {
   "cell_type": "code",
   "execution_count": 24,
   "metadata": {},
   "outputs": [],
   "source": [
    "preds = bayes_cv_tuner.predict(test.values)"
   ]
  },
  {
   "cell_type": "code",
   "execution_count": 25,
   "metadata": {},
   "outputs": [
    {
     "data": {
      "text/plain": [
       "0.9489841986455982"
      ]
     },
     "execution_count": 25,
     "metadata": {},
     "output_type": "execute_result"
    }
   ],
   "source": [
    "accuracy_score(test_label, preds)"
   ]
  },
  {
   "cell_type": "code",
   "execution_count": null,
   "metadata": {},
   "outputs": [],
   "source": []
  },
  {
   "cell_type": "code",
   "execution_count": null,
   "metadata": {},
   "outputs": [],
   "source": []
  }
 ],
 "metadata": {
  "kernelspec": {
   "display_name": "Python 3",
   "language": "python",
   "name": "python3"
  },
  "language_info": {
   "codemirror_mode": {
    "name": "ipython",
    "version": 3
   },
   "file_extension": ".py",
   "mimetype": "text/x-python",
   "name": "python",
   "nbconvert_exporter": "python",
   "pygments_lexer": "ipython3",
   "version": "3.8.3"
  }
 },
 "nbformat": 4,
 "nbformat_minor": 4
}
