{
 "cells": [
  {
   "cell_type": "code",
   "execution_count": 1,
   "metadata": {},
   "outputs": [],
   "source": [
    "import sys\n",
    "import xgboost as xgb\n",
    "import pandas as pd\n",
    "import matplotlib.pyplot as plt\n",
    "import numpy as np\n",
    "import sklearn as skl\n",
    "from sklearn.model_selection import train_test_split\n",
    "from sklearn.metrics import confusion_matrix\n",
    "from sklearn.metrics import accuracy_score\n",
    "from sklearn.metrics import classification_report\n",
    "from sklearn.preprocessing import StandardScaler\n",
    "from sklearn.neighbors import KNeighborsClassifier\n",
    "from datetime import datetime\n",
    "from itertools import combinations\n",
    "\n",
    "VECINOS=40\n",
    "PREDICCION_REAL = False"
   ]
  },
  {
   "cell_type": "code",
   "execution_count": 2,
   "metadata": {},
   "outputs": [],
   "source": [
    "#APERTURA DE ARCHIVO DE ARCHIVOS\n",
    "entrenamiento = pd.read_csv(\"entrenamiento-listo.csv\")\n",
    "test = pd.read_csv(\"test-listo.csv\")"
   ]
  },
  {
   "cell_type": "code",
   "execution_count": 3,
   "metadata": {},
   "outputs": [],
   "source": [
    "#FILTRADO DE COLUMNAS - NO REMOVER STAGE O FECHA\n",
    "entrenamiento = entrenamiento.drop(columns=['ID','Opportunity_Name','Sales_Contract_No'])\n",
    "test = test.drop(columns=['ID','Opportunity_Name','Sales_Contract_No'])"
   ]
  },
  {
   "cell_type": "code",
   "execution_count": 4,
   "metadata": {},
   "outputs": [],
   "source": [
    "entrenamiento = entrenamiento.replace([np.inf, -np.inf, np.nan], 0)\n",
    "test = test.replace([np.inf, -np.inf, np.nan], 0)\n",
    "\n",
    "entrenamiento_label = (entrenamiento['Stage'] == 'Closed Won').astype(int)\n",
    "entrenamiento = entrenamiento.drop(columns=['Stage','Fecha'])\n",
    "\n",
    "if not PREDICCION_REAL:\n",
    "    test_label  = (test['Stage'] == 'Closed Won').astype(int)\n",
    "    test = test.drop(columns=['Stage','Fecha'])\n",
    "\n",
    "scaler = StandardScaler()\n",
    "scaler.fit(entrenamiento)\n",
    "set_entrenamiento = scaler.transform(entrenamiento)\n",
    "set_test = scaler.transform(test)\n",
    "\n",
    "classifier = KNeighborsClassifier(n_neighbors=VECINOS)\n",
    "classifier.fit(entrenamiento, entrenamiento_label)\n",
    "preds = classifier.predict(set_test)\n",
    "\n",
    "if PREDICCION_REAL:\n",
    "    print(confusion_matrix(test_label, preds))\n",
    "    print(classification_report(test_label, preds))\n",
    "\n",
    "    classifier.fit(entrenamiento, entrenamiento_label)\n",
    "    preds = classifier.predict(set_entrenamiento)\n",
    "    print(confusion_matrix(entrenamiento_label, y_pred))\n",
    "    print(classification_report(entrenamiento_label, y_pred))\n"
   ]
  },
  {
   "cell_type": "code",
   "execution_count": 5,
   "metadata": {
    "scrolled": true
   },
   "outputs": [
    {
     "data": {
      "text/plain": [
       "1    2637\n",
       "Name: Target, dtype: int64"
      ]
     },
     "execution_count": 5,
     "metadata": {},
     "output_type": "execute_result"
    }
   ],
   "source": [
    "resultados = test[['Opportunity_ID']].copy()\n",
    "resultados['Target'] = pd.Series(preds)\n",
    "resultados = resultados.groupby('Opportunity_ID').mean()\n",
    "resultados = resultados.reset_index()\n",
    "resultados['Target'] = resultados['Target'].apply(lambda x: int(x >= 0.5))\n",
    "\n",
    "resultados.to_csv(\"prediccion.csv\", index=False)\n",
    "resultados['Target'].value_counts()"
   ]
  },
  {
   "cell_type": "code",
   "execution_count": null,
   "metadata": {},
   "outputs": [],
   "source": []
  }
 ],
 "metadata": {
  "kernelspec": {
   "display_name": "Python 3",
   "language": "python",
   "name": "python3"
  },
  "language_info": {
   "codemirror_mode": {
    "name": "ipython",
    "version": 3
   },
   "file_extension": ".py",
   "mimetype": "text/x-python",
   "name": "python",
   "nbconvert_exporter": "python",
   "pygments_lexer": "ipython3",
   "version": "3.7.6"
  }
 },
 "nbformat": 4,
 "nbformat_minor": 4
}
