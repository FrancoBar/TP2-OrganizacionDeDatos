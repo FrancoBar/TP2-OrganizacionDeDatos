{
 "cells": [
  {
   "cell_type": "code",
   "execution_count": 1,
   "metadata": {},
   "outputs": [],
   "source": [
    "import sys\n",
    "import xgboost as xgb\n",
    "import pandas as pd\n",
    "import matplotlib.pyplot as plt\n",
    "import numpy as np\n",
    "import sklearn as skl\n",
    "from sklearn.model_selection import train_test_split\n",
    "from sklearn.metrics import confusion_matrix\n",
    "from sklearn.metrics import accuracy_score\n",
    "from sklearn.metrics import classification_report\n",
    "from sklearn.preprocessing import StandardScaler\n",
    "from sklearn.neighbors import KNeighborsClassifier\n",
    "from datetime import datetime\n",
    "from itertools import combinations"
   ]
  },
  {
   "cell_type": "code",
   "execution_count": 2,
   "metadata": {},
   "outputs": [],
   "source": [
    "#APERTURA DE ARCHIVO DE ARCHIVOS\n",
    "entrenamiento = pd.read_csv(\"entrenamiento-listo.csv\")\n",
    "test = pd.read_csv(\"test-listo.csv\")"
   ]
  },
  {
   "cell_type": "code",
   "execution_count": 3,
   "metadata": {},
   "outputs": [],
   "source": [
    "#FILTRADO DE COLUMNAS - NO REMOVER STAGE O FECHA\n",
    "entrenamiento = entrenamiento.drop(columns=['ID','Opportunity_Name','Sales_Contract_No'])\n",
    "test = test.drop(columns=['ID','Opportunity_Name','Sales_Contract_No'])"
   ]
  },
  {
   "cell_type": "code",
   "execution_count": 4,
   "metadata": {},
   "outputs": [
    {
     "name": "stdout",
     "output_type": "stream",
     "text": [
      "[[765 159]\n",
      " [673 680]]\n",
      "              precision    recall  f1-score   support\n",
      "\n",
      "           0       0.53      0.83      0.65       924\n",
      "           1       0.81      0.50      0.62      1353\n",
      "\n",
      "    accuracy                           0.63      2277\n",
      "   macro avg       0.67      0.67      0.63      2277\n",
      "weighted avg       0.70      0.63      0.63      2277\n",
      "\n",
      "[[4490  494]\n",
      " [ 382 6184]]\n",
      "              precision    recall  f1-score   support\n",
      "\n",
      "           0       0.92      0.90      0.91      4984\n",
      "           1       0.93      0.94      0.93      6566\n",
      "\n",
      "    accuracy                           0.92     11550\n",
      "   macro avg       0.92      0.92      0.92     11550\n",
      "weighted avg       0.92      0.92      0.92     11550\n",
      "\n"
     ]
    }
   ],
   "source": [
    "entrenamiento = entrenamiento.replace([np.inf, -np.inf], np.nan).dropna()\n",
    "entrenamiento_label = (entrenamiento['Stage'] == 'Closed Won').astype(int)\n",
    "entrenamiento = entrenamiento.drop(columns=['Stage','Fecha'])\n",
    "\n",
    "test = test.replace([np.inf, -np.inf], np.nan).dropna()\n",
    "test_label          = (test['Stage'] == 'Closed Won').astype(int)\n",
    "test = test.drop(columns=['Stage','Fecha'])\n",
    "\n",
    "scaler = StandardScaler()\n",
    "scaler.fit(entrenamiento)\n",
    "entrenamiento = scaler.transform(entrenamiento)\n",
    "test = scaler.transform(test)\n",
    "\n",
    "classifier = KNeighborsClassifier(n_neighbors=5)\n",
    "classifier.fit(entrenamiento, entrenamiento_label)\n",
    "y_pred = classifier.predict(test)\n",
    "\n",
    "print(confusion_matrix(test_label, y_pred))\n",
    "print(classification_report(test_label, y_pred))\n",
    "\n",
    "classifier.fit(entrenamiento, entrenamiento_label)\n",
    "y_pred = classifier.predict(entrenamiento)\n",
    "print(confusion_matrix(entrenamiento_label, y_pred))\n",
    "print(classification_report(entrenamiento_label, y_pred))"
   ]
  },
  {
   "cell_type": "code",
   "execution_count": null,
   "metadata": {},
   "outputs": [],
   "source": []
  }
 ],
 "metadata": {
  "kernelspec": {
   "display_name": "Python 3",
   "language": "python",
   "name": "python3"
  },
  "language_info": {
   "codemirror_mode": {
    "name": "ipython",
    "version": 3
   },
   "file_extension": ".py",
   "mimetype": "text/x-python",
   "name": "python",
   "nbconvert_exporter": "python",
   "pygments_lexer": "ipython3",
   "version": "3.7.6"
  }
 },
 "nbformat": 4,
 "nbformat_minor": 4
}
