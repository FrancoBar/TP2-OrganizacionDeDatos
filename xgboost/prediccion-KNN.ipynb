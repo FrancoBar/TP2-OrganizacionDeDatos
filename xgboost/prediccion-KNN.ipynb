{
 "cells": [
  {
   "cell_type": "code",
   "execution_count": 1,
   "metadata": {},
   "outputs": [],
   "source": [
    "import sys\n",
    "import xgboost as xgb\n",
    "import pandas as pd\n",
    "import matplotlib.pyplot as plt\n",
    "import numpy as np\n",
    "import sklearn as skl\n",
    "from sklearn.model_selection import train_test_split\n",
    "from sklearn.metrics import confusion_matrix\n",
    "from sklearn.metrics import accuracy_score\n",
    "from sklearn.metrics import classification_report\n",
    "from sklearn.preprocessing import StandardScaler\n",
    "from sklearn.neighbors import KNeighborsClassifier\n",
    "from datetime import datetime\n",
    "from itertools import combinations\n",
    "\n",
    "VECINOS=40\n",
    "PREDICCION_REAL = True"
   ]
  },
  {
   "cell_type": "code",
   "execution_count": 2,
   "metadata": {},
   "outputs": [],
   "source": [
    "#APERTURA DE ARCHIVO DE ARCHIVOS\n",
    "entrenamiento = pd.read_csv(\"entrenamiento-listo.csv\")\n",
    "test = pd.read_csv(\"test-listo.csv\")"
   ]
  },
  {
   "cell_type": "code",
   "execution_count": 3,
   "metadata": {},
   "outputs": [],
   "source": [
    "#FILTRADO DE COLUMNAS - NO REMOVER STAGE O FECHA\n",
    "entrenamiento = entrenamiento.drop(columns=['ID','Opportunity_Name','Sales_Contract_No'])\n",
    "test = test.drop(columns=['ID','Opportunity_Name','Sales_Contract_No'])"
   ]
  },
  {
   "cell_type": "code",
   "execution_count": 6,
   "metadata": {},
   "outputs": [
    {
     "name": "stdout",
     "output_type": "stream",
     "text": [
      "<class 'pandas.core.frame.DataFrame'>\n",
      "RangeIndex: 2551 entries, 0 to 2550\n",
      "Data columns (total 47 columns):\n",
      " #   Column                                   Non-Null Count  Dtype  \n",
      "---  ------                                   --------------  -----  \n",
      " 0   Region                                   2551 non-null   int64  \n",
      " 1   Territory                                2551 non-null   int64  \n",
      " 2   Pricing, Delivery_Terms_Quote_Appr       2551 non-null   int64  \n",
      " 3   Pricing, Delivery_Terms_Approved         2551 non-null   int64  \n",
      " 4   Bureaucratic_Code_0_Approval             2551 non-null   int64  \n",
      " 5   Bureaucratic_Code_0_Approved             2551 non-null   int64  \n",
      " 6   Submitted_for_Approval                   2551 non-null   int64  \n",
      " 7   Bureaucratic_Code                        2551 non-null   int64  \n",
      " 8   Account_Created_Date                     2551 non-null   int64  \n",
      " 9   Source                                   2551 non-null   int64  \n",
      " 10  Billing_Country                          2551 non-null   int64  \n",
      " 11  Account_Name                             2551 non-null   int64  \n",
      " 12  Opportunity_ID                           2551 non-null   int64  \n",
      " 13  Account_Owner                            2551 non-null   int64  \n",
      " 14  Opportunity_Owner                        2551 non-null   int64  \n",
      " 15  Account_Type                             2551 non-null   int64  \n",
      " 16  Opportunity_Type                         2551 non-null   int64  \n",
      " 17  Delivery_Terms                           2551 non-null   int64  \n",
      " 18  Opportunity_Created_Date                 2551 non-null   int64  \n",
      " 19  Quote_Expiry_Date                        2551 non-null   float64\n",
      " 20  Last_Modified_Date                       2551 non-null   int64  \n",
      " 21  Last_Modified_By                         2551 non-null   int64  \n",
      " 22  Product_Family                           2551 non-null   int64  \n",
      " 23  Product_Name                             2551 non-null   int64  \n",
      " 24  ASP_Currency                             2551 non-null   int64  \n",
      " 25  ASP                                      2551 non-null   float64\n",
      " 26  ASP_(converted)                          2551 non-null   float64\n",
      " 27  Planned_Delivery_Start_Date              2551 non-null   int64  \n",
      " 28  Planned_Delivery_End_Date                2551 non-null   float64\n",
      " 29  Month                                    2551 non-null   int64  \n",
      " 30  Delivery_Quarter                         2551 non-null   int64  \n",
      " 31  Delivery_Year                            2551 non-null   int64  \n",
      " 32  TRF                                      2551 non-null   int64  \n",
      " 33  Total_Amount_Currency                    2551 non-null   int64  \n",
      " 34  Total_Amount                             2551 non-null   int64  \n",
      " 35  Total_Taxable_Amount_Currency            2551 non-null   int64  \n",
      " 36  Total_Taxable_Amount                     2551 non-null   int64  \n",
      " 37  Opportunity_Duration                     2551 non-null   int64  \n",
      " 38  Total_Amount_USD                         2551 non-null   float64\n",
      " 39  Total_Taxable_Amount_USD                 2551 non-null   float64\n",
      " 40  Total_Amount_sobre_Total_Taxable_Amount  2551 non-null   float64\n",
      " 41  Duracion_Familia                         2551 non-null   float64\n",
      " 42  Vida_Util_Ventaja                        2551 non-null   float64\n",
      " 43  Duracion_Region                          2551 non-null   int64  \n",
      " 44  Region_Vida_Util_Ventaja                 2551 non-null   int64  \n",
      " 45  Duracion_Territory                       2551 non-null   float64\n",
      " 46  Territory_Vida_Util_Ventaja              2551 non-null   float64\n",
      "dtypes: float64(11), int64(36)\n",
      "memory usage: 936.8 KB\n"
     ]
    }
   ],
   "source": [
    "test.info()"
   ]
  },
  {
   "cell_type": "code",
   "execution_count": 4,
   "metadata": {},
   "outputs": [],
   "source": [
    "entrenamiento = entrenamiento.replace([np.inf, -np.inf, np.nan], 0)\n",
    "test = test.replace([np.inf, -np.inf, np.nan], 0)\n",
    "\n",
    "entrenamiento_label = (entrenamiento['Stage'] == 'Closed Won').astype(int)\n",
    "entrenamiento = entrenamiento.drop(columns=['Stage','Fecha'])\n",
    "\n",
    "if not PREDICCION_REAL:\n",
    "    test_label  = (test['Stage'] == 'Closed Won').astype(int)\n",
    "    test = test.drop(columns=['Stage','Fecha'])\n",
    "\n",
    "scaler = StandardScaler()\n",
    "scaler.fit(entrenamiento)\n",
    "set_entrenamiento = scaler.transform(entrenamiento)\n",
    "set_test = scaler.transform(test)\n",
    "\n",
    "classifier = KNeighborsClassifier(n_neighbors=VECINOS)\n",
    "classifier.fit(entrenamiento, entrenamiento_label)\n",
    "preds = classifier.predict_proba(set_test)\n",
    "\n",
    "if not PREDICCION_REAL:\n",
    "    print(confusion_matrix(test_label, preds))\n",
    "    print(classification_report(test_label, preds))\n",
    "\n",
    "    classifier.fit(entrenamiento, entrenamiento_label)\n",
    "    preds = classifier.predict(set_entrenamiento)\n",
    "    print(confusion_matrix(entrenamiento_label, y_pred))\n",
    "    print(classification_report(entrenamiento_label, y_pred))\n"
   ]
  },
  {
   "cell_type": "code",
   "execution_count": 5,
   "metadata": {
    "scrolled": true
   },
   "outputs": [
    {
     "data": {
      "text/plain": [
       "2551"
      ]
     },
     "execution_count": 5,
     "metadata": {},
     "output_type": "execute_result"
    }
   ],
   "source": [
    "resultados = test[['Opportunity_ID']].copy()\n",
    "resultados['Target'] = pd.Series([p[1] for p in preds])\n",
    "#resultados = resultados.groupby('Opportunity_ID').mean()\n",
    "#resultados = resultados.reset_index()\n",
    "#resultados['Target'] = resultados['Target'].apply(lambda x: int(x >= 0.5))\n",
    "\n",
    "resultados.to_csv(\"prediccion.csv\", index=False)\n",
    "resultados['Target'].count()"
   ]
  },
  {
   "cell_type": "code",
   "execution_count": null,
   "metadata": {},
   "outputs": [],
   "source": []
  }
 ],
 "metadata": {
  "kernelspec": {
   "display_name": "Python 3",
   "language": "python",
   "name": "python3"
  },
  "language_info": {
   "codemirror_mode": {
    "name": "ipython",
    "version": 3
   },
   "file_extension": ".py",
   "mimetype": "text/x-python",
   "name": "python",
   "nbconvert_exporter": "python",
   "pygments_lexer": "ipython3",
   "version": "3.8.3"
  }
 },
 "nbformat": 4,
 "nbformat_minor": 4
}
