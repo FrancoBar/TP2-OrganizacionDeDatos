{
 "cells": [
  {
   "cell_type": "code",
   "execution_count": 1,
   "metadata": {},
   "outputs": [],
   "source": [
    "import sys\n",
    "import xgboost as xgb\n",
    "import pandas as pd\n",
    "import matplotlib.pyplot as plt\n",
    "import numpy as np\n",
    "import sklearn as skl\n",
    "from sklearn.model_selection import train_test_split\n",
    "from sklearn.metrics import confusion_matrix\n",
    "from sklearn.metrics import accuracy_score\n",
    "from sklearn.metrics import classification_report\n",
    "from datetime import datetime\n",
    "from itertools import combinations"
   ]
  },
  {
   "cell_type": "code",
   "execution_count": 2,
   "metadata": {},
   "outputs": [
    {
     "name": "stdout",
     "output_type": "stream",
     "text": [
      "[[1033   69]\n",
      " [ 996  515]]\n",
      "              precision    recall  f1-score   support\n",
      "\n",
      "           0       0.51      0.94      0.66      1102\n",
      "           1       0.88      0.34      0.49      1511\n",
      "\n",
      "    accuracy                           0.59      2613\n",
      "   macro avg       0.70      0.64      0.58      2613\n",
      "weighted avg       0.72      0.59      0.56      2613\n",
      "\n",
      "[[714  18]\n",
      " [ 33 242]]\n",
      "              precision    recall  f1-score   support\n",
      "\n",
      "           0       0.96      0.98      0.97       732\n",
      "           1       0.93      0.88      0.90       275\n",
      "\n",
      "    accuracy                           0.95      1007\n",
      "   macro avg       0.94      0.93      0.94      1007\n",
      "weighted avg       0.95      0.95      0.95      1007\n",
      "\n"
     ]
    }
   ],
   "source": [
    "entrenamiento = pd.read_csv(\"debug-entrenamiento.csv\")\n",
    "test = pd.read_csv(\"debug-test.csv\")\n",
    "\n",
    "entrenamiento_label = (entrenamiento['Stage'] == 'Closed Won').astype(int)\n",
    "entrenamiento = entrenamiento.drop(columns=['Stage','Fecha'])\n",
    "\n",
    "test = test.replace([np.inf, -np.inf], np.nan).dropna()\n",
    "test_label          = (test['Stage'] == 'Closed Won').astype(int)\n",
    "test = test.drop(columns=['Stage','Fecha'])\n",
    "\n",
    "from sklearn.preprocessing import StandardScaler\n",
    "scaler = StandardScaler()\n",
    "scaler.fit(entrenamiento)\n",
    "entrenamiento = scaler.transform(entrenamiento)\n",
    "test = scaler.transform(test)\n",
    "\n",
    "from sklearn.neighbors import KNeighborsClassifier\n",
    "classifier = KNeighborsClassifier(n_neighbors=5)\n",
    "classifier.fit(entrenamiento, entrenamiento_label)\n",
    "y_pred = classifier.predict(test)\n",
    "from sklearn.metrics import classification_report, confusion_matrix\n",
    "print(confusion_matrix(test_label, y_pred))\n",
    "print(classification_report(test_label, y_pred))\n",
    "\n",
    "classifier.fit(entrenamiento, entrenamiento_label)\n",
    "y_pred = classifier.predict(entrenamiento)\n",
    "print(confusion_matrix(entrenamiento_label, y_pred))\n",
    "print(classification_report(entrenamiento_label, y_pred))"
   ]
  },
  {
   "cell_type": "code",
   "execution_count": null,
   "metadata": {},
   "outputs": [],
   "source": []
  }
 ],
 "metadata": {
  "kernelspec": {
   "display_name": "Python 3",
   "language": "python",
   "name": "python3"
  },
  "language_info": {
   "codemirror_mode": {
    "name": "ipython",
    "version": 3
   },
   "file_extension": ".py",
   "mimetype": "text/x-python",
   "name": "python",
   "nbconvert_exporter": "python",
   "pygments_lexer": "ipython3",
   "version": "3.7.6"
  }
 },
 "nbformat": 4,
 "nbformat_minor": 4
}
