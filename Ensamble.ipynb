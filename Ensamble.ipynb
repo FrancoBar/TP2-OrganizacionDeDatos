{
 "cells": [
  {
   "cell_type": "code",
   "execution_count": 1,
   "metadata": {},
   "outputs": [],
   "source": [
    "import sys\n",
    "import xgboost as xgb\n",
    "import pandas as pd\n",
    "import matplotlib.pyplot as plt\n",
    "import numpy as np\n",
    "import sklearn as skl\n",
    "import catboost as cb\n",
    "from sklearn.model_selection import train_test_split\n",
    "from sklearn.metrics import confusion_matrix\n",
    "from sklearn.metrics import accuracy_score\n",
    "from sklearn.metrics import classification_report\n",
    "from sklearn.neighbors import KNeighborsClassifier\n",
    "from sklearn.naive_bayes import GaussianNB\n",
    "from sklearn.svm import SVC\n",
    "from datetime import datetime\n",
    "from itertools import combinations"
   ]
  },
  {
   "cell_type": "code",
   "execution_count": 2,
   "metadata": {},
   "outputs": [],
   "source": [
    "PARAMETROS = {\n",
    "    'task_type' : 'CPU',\n",
    "    'has_time' : True,\n",
    "    'silent' : True,\n",
    "    'depth': 4,\n",
    "    'early_stopping_rounds': 2,\n",
    "    'iterations' : 100\n",
    "}"
   ]
  },
  {
   "cell_type": "code",
   "execution_count": 3,
   "metadata": {},
   "outputs": [],
   "source": [
    "#APERTURA ARCHIVOS\n",
    "test = pd.read_pickle(\"Archivos/Arboles_validacion.pkl\")\n",
    "prediccion_arbol = pd.read_csv(\"Archivos/prediccion_arbol_validacion.csv\")\n",
    "prediccion_red   = pd.read_csv(\"Archivos/prediccion_naive_bayes_val.csv\")\n",
    "prediccion_arbol_test = pd.read_csv(\"Archivos/prediccion_arbol_test.csv\")\n",
    "prediccion_red_test   = pd.read_csv(\"Archivos/prediccion_naive_bayes.csv\")"
   ]
  },
  {
   "cell_type": "code",
   "execution_count": 4,
   "metadata": {},
   "outputs": [],
   "source": [
    "#ORDENO ARCHIVOS PARA QUE COINCIDA OPPORTUNITY_ID\n",
    "test = test.sort_values('Opportunity_ID')\n",
    "prediccion_arbol = prediccion_arbol.sort_values('Opportunity_ID')\n",
    "prediccion_red   = prediccion_red.sort_values('Opportunity_ID')\n",
    "prediccion_arbol_test = prediccion_arbol_test.sort_values('Opportunity_ID')\n",
    "prediccion_red_test   = prediccion_red_test.sort_values('Opportunity_ID')\n",
    "test_label = test['Stage']"
   ]
  },
  {
   "cell_type": "code",
   "execution_count": 5,
   "metadata": {},
   "outputs": [],
   "source": [
    "prediccion_arbol = prediccion_arbol.groupby('Opportunity_ID').mean()\n",
    "prediccion_arbol = prediccion_arbol.reset_index()\n",
    "prediccion_red = prediccion_red.groupby('Opportunity_ID').mean()\n",
    "prediccion_red = prediccion_red.reset_index()\n",
    "test = test.sort_values('Opportunity_ID')\n",
    "test = test.groupby('Opportunity_ID').mean()\n",
    "test = test.reset_index()\n",
    "test_label = test['Stage']"
   ]
  },
  {
   "cell_type": "code",
   "execution_count": 6,
   "metadata": {},
   "outputs": [
    {
     "data": {
      "text/plain": [
       "Opportunity_ID    2618\n",
       "Target            2618\n",
       "dtype: int64"
      ]
     },
     "execution_count": 6,
     "metadata": {},
     "output_type": "execute_result"
    }
   ],
   "source": [
    "prediccion_red.count()"
   ]
  },
  {
   "cell_type": "code",
   "execution_count": 7,
   "metadata": {},
   "outputs": [
    {
     "data": {
      "text/plain": [
       "Opportunity_ID    2618\n",
       "Target            2618\n",
       "dtype: int64"
      ]
     },
     "execution_count": 7,
     "metadata": {},
     "output_type": "execute_result"
    }
   ],
   "source": [
    "prediccion_arbol.count()"
   ]
  },
  {
   "cell_type": "code",
   "execution_count": 8,
   "metadata": {},
   "outputs": [
    {
     "data": {
      "text/html": [
       "<div>\n",
       "<style scoped>\n",
       "    .dataframe tbody tr th:only-of-type {\n",
       "        vertical-align: middle;\n",
       "    }\n",
       "\n",
       "    .dataframe tbody tr th {\n",
       "        vertical-align: top;\n",
       "    }\n",
       "\n",
       "    .dataframe thead th {\n",
       "        text-align: right;\n",
       "    }\n",
       "</style>\n",
       "<table border=\"1\" class=\"dataframe\">\n",
       "  <thead>\n",
       "    <tr style=\"text-align: right;\">\n",
       "      <th></th>\n",
       "      <th>Opportunity_ID</th>\n",
       "      <th>Target</th>\n",
       "    </tr>\n",
       "  </thead>\n",
       "  <tbody>\n",
       "    <tr>\n",
       "      <th>0</th>\n",
       "      <td>7042</td>\n",
       "      <td>0.553246</td>\n",
       "    </tr>\n",
       "    <tr>\n",
       "      <th>1</th>\n",
       "      <td>7043</td>\n",
       "      <td>0.964904</td>\n",
       "    </tr>\n",
       "    <tr>\n",
       "      <th>2</th>\n",
       "      <td>7044</td>\n",
       "      <td>0.066558</td>\n",
       "    </tr>\n",
       "    <tr>\n",
       "      <th>3</th>\n",
       "      <td>7045</td>\n",
       "      <td>0.964086</td>\n",
       "    </tr>\n",
       "    <tr>\n",
       "      <th>4</th>\n",
       "      <td>7046</td>\n",
       "      <td>0.990127</td>\n",
       "    </tr>\n",
       "  </tbody>\n",
       "</table>\n",
       "</div>"
      ],
      "text/plain": [
       "   Opportunity_ID    Target\n",
       "0            7042  0.553246\n",
       "1            7043  0.964904\n",
       "2            7044  0.066558\n",
       "3            7045  0.964086\n",
       "4            7046  0.990127"
      ]
     },
     "execution_count": 8,
     "metadata": {},
     "output_type": "execute_result"
    }
   ],
   "source": [
    "prediccion_red.head(5)"
   ]
  },
  {
   "cell_type": "code",
   "execution_count": 9,
   "metadata": {},
   "outputs": [
    {
     "data": {
      "text/html": [
       "<div>\n",
       "<style scoped>\n",
       "    .dataframe tbody tr th:only-of-type {\n",
       "        vertical-align: middle;\n",
       "    }\n",
       "\n",
       "    .dataframe tbody tr th {\n",
       "        vertical-align: top;\n",
       "    }\n",
       "\n",
       "    .dataframe thead th {\n",
       "        text-align: right;\n",
       "    }\n",
       "</style>\n",
       "<table border=\"1\" class=\"dataframe\">\n",
       "  <thead>\n",
       "    <tr style=\"text-align: right;\">\n",
       "      <th></th>\n",
       "      <th>Opportunity_ID</th>\n",
       "      <th>Target</th>\n",
       "    </tr>\n",
       "  </thead>\n",
       "  <tbody>\n",
       "    <tr>\n",
       "      <th>0</th>\n",
       "      <td>7042</td>\n",
       "      <td>0.538221</td>\n",
       "    </tr>\n",
       "    <tr>\n",
       "      <th>1</th>\n",
       "      <td>7043</td>\n",
       "      <td>0.539617</td>\n",
       "    </tr>\n",
       "    <tr>\n",
       "      <th>2</th>\n",
       "      <td>7044</td>\n",
       "      <td>0.465097</td>\n",
       "    </tr>\n",
       "    <tr>\n",
       "      <th>3</th>\n",
       "      <td>7045</td>\n",
       "      <td>0.549796</td>\n",
       "    </tr>\n",
       "    <tr>\n",
       "      <th>4</th>\n",
       "      <td>7046</td>\n",
       "      <td>0.521406</td>\n",
       "    </tr>\n",
       "  </tbody>\n",
       "</table>\n",
       "</div>"
      ],
      "text/plain": [
       "   Opportunity_ID    Target\n",
       "0            7042  0.538221\n",
       "1            7043  0.539617\n",
       "2            7044  0.465097\n",
       "3            7045  0.549796\n",
       "4            7046  0.521406"
      ]
     },
     "execution_count": 9,
     "metadata": {},
     "output_type": "execute_result"
    }
   ],
   "source": [
    "prediccion_arbol.head(5)"
   ]
  },
  {
   "cell_type": "code",
   "execution_count": 10,
   "metadata": {},
   "outputs": [],
   "source": [
    "logs = []"
   ]
  },
  {
   "cell_type": "code",
   "execution_count": 11,
   "metadata": {},
   "outputs": [],
   "source": [
    "#MAX\n",
    "def ensamble_max():\n",
    "    preds = prediccion_arbol['Target'].combine(prediccion_red['Target'], max, 0)\n",
    "    print('Logloss Max: ', skl.metrics.log_loss(test_label,preds))\n",
    "    logs.append((\"Max\",skl.metrics.log_loss(test_label,preds)))\n",
    "    preds = prediccion_arbol_test['Target'].combine(prediccion_red_test['Target'], max, 0)\n",
    "    return preds"
   ]
  },
  {
   "cell_type": "code",
   "execution_count": 12,
   "metadata": {},
   "outputs": [],
   "source": [
    "#MIN\n",
    "def ensamble_min():\n",
    "    preds = prediccion_arbol['Target'].combine(prediccion_red['Target'], min, 0)\n",
    "    print('Logloss Min: ', skl.metrics.log_loss(test_label,preds))\n",
    "    logs.append((\"Min\",skl.metrics.log_loss(test_label,preds)))\n",
    "    preds = prediccion_arbol_test['Target'].combine(prediccion_red_test['Target'], min, 0)\n",
    "    return preds"
   ]
  },
  {
   "cell_type": "code",
   "execution_count": 13,
   "metadata": {},
   "outputs": [],
   "source": [
    "#COMBINACION LINEAL\n",
    "def ensamble_cl():\n",
    "    min_a = -1\n",
    "    min_b = -1\n",
    "    min_logloss = 1000\n",
    "\n",
    "    for a in range(0,100):\n",
    "        for b in range(0,100):\n",
    "            if(a == 0 & b == 0): continue\n",
    "            preds = (a*prediccion_arbol['Target'] + b*prediccion_red['Target'])/(a+b)\n",
    "            logloss = skl.metrics.log_loss(test_label,preds)\n",
    "            if(logloss < min_logloss):\n",
    "                min_logloss = logloss\n",
    "                min_a = a\n",
    "                min_b = b\n",
    "    print(\"Logloss  CL:  %.16f (min_a : %i, min_b: %i)\"% (min_logloss, min_a, min_b))\n",
    "    logs.append((\"Combinacion Lineal\",skl.metrics.log_loss(test_label,preds)))\n",
    "    preds = (min_a*prediccion_arbol_test['Target'] + min_b*prediccion_red_test['Target'])/(min_a+min_b)\n",
    "    return preds"
   ]
  },
  {
   "cell_type": "code",
   "execution_count": 19,
   "metadata": {},
   "outputs": [],
   "source": [
    "#KNN\n",
    "def ensamble_knn():\n",
    "    temp = pd.DataFrame()\n",
    "    temp['Arbol'] = prediccion_arbol['Target']\n",
    "    temp['Red'] = prediccion_red['Target']\n",
    "    temp['Stage'] = test_label\n",
    "    entrenamiento = temp.iloc[:int(len(temp)/2),:]\n",
    "    validacion = temp.iloc[int(len(temp)/2) + 1:,:]\n",
    "    entrenamiento_label = entrenamiento.pop('Stage')\n",
    "    classifier = KNeighborsClassifier(n_neighbors=300)\n",
    "    classifier.fit(entrenamiento, entrenamiento_label)\n",
    "    preds = classifier.predict_proba(validacion[['Arbol','Red']])\n",
    "    print(\"Logloss KNN: \", skl.metrics.log_loss(validacion['Stage'],preds))\n",
    "    logs.append((\"KNN\",skl.metrics.log_loss(validacion['Stage'],preds)))\n",
    "\n",
    "    classifier.fit(temp[['Arbol','Red']], temp['Stage'])\n",
    "    temp = pd.DataFrame()\n",
    "    temp['Arbol'] = prediccion_arbol_test['Target']\n",
    "    temp['Red'] = prediccion_red_test['Target']\n",
    "    preds = classifier.predict_proba(temp)\n",
    "    preds = pd.Series([p[1] for p in preds])\n",
    "    return preds"
   ]
  },
  {
   "cell_type": "code",
   "execution_count": 20,
   "metadata": {},
   "outputs": [],
   "source": [
    "#Catboost\n",
    "\n",
    "def ensamble_catboost():\n",
    "    temp = pd.DataFrame()\n",
    "    temp['Arbol'] = prediccion_arbol['Target']\n",
    "    temp['Red'] = prediccion_red['Target']\n",
    "    temp['Stage'] = test_label\n",
    "    entrenamiento = temp.iloc[:int(len(temp)/2),:]\n",
    "    validacion = temp.iloc[int(len(temp)/2) + 1:,:]\n",
    "    entrenamiento_label = entrenamiento.pop('Stage')\n",
    "    entrenamiento_pool = cb.Pool(entrenamiento, entrenamiento_label)\n",
    "    test_pool = cb.Pool(validacion)\n",
    "    \n",
    "    model = cb.CatBoostClassifier(**PARAMETROS)\n",
    "    model.fit(entrenamiento_pool)\n",
    "    preds = model.predict_proba(test_pool)\n",
    "    preds = pd.Series([p[1] for p in preds])\n",
    "    print(\"Logloss Cat: \", skl.metrics.log_loss(validacion['Stage'],preds))\n",
    "    logs.append((\"Catboost\",skl.metrics.log_loss(validacion['Stage'],preds)))\n",
    "\n",
    "    model.fit(temp[['Arbol','Red']], temp['Stage'])\n",
    "    temp = pd.DataFrame()\n",
    "    temp['Arbol'] = prediccion_arbol_test['Target']\n",
    "    temp['Red'] = prediccion_red_test['Target']\n",
    "    test_pool = cb.Pool(temp)\n",
    "    preds = model.predict_proba(test_pool)\n",
    "    preds = pd.Series([p[1] for p in preds]) \n",
    "    return preds\n",
    "\n",
    "def ensamble_naive_bayes():\n",
    "    temp = pd.DataFrame()\n",
    "    temp['Arbol'] = prediccion_arbol['Target']\n",
    "    temp['Red'] = prediccion_red['Target']\n",
    "    temp['Stage'] = test_label\n",
    "    entrenamiento = temp.iloc[:int(len(temp)/2),:]\n",
    "    validacion = temp.iloc[int(len(temp)/2) + 1:,:]\n",
    "    entrenamiento_label = entrenamiento.pop('Stage')\n",
    "    \n",
    "    model = GaussianNB(var_smoothing =0.5)\n",
    "    model.fit(entrenamiento,entrenamiento_label)\n",
    "    preds = model.predict_proba(validacion.drop(columns=[\"Stage\"]))\n",
    "    preds = pd.Series([p[1] for p in preds])\n",
    "    print(\"Log   Bayes: \", skl.metrics.log_loss(validacion['Stage'],preds))\n",
    "    logs.append((\"Naive Bayes\",skl.metrics.log_loss(validacion['Stage'],preds)))\n",
    "    \n",
    "    model.fit(temp[['Arbol','Red']], temp['Stage'])\n",
    "    temp = pd.DataFrame()\n",
    "    temp['Arbol'] = prediccion_arbol_test['Target']\n",
    "    temp['Red'] = prediccion_red_test['Target']\n",
    "    preds = model.predict_proba(temp)\n",
    "    preds = pd.Series([p[1] for p in preds]) \n",
    "    return preds\n",
    "\n",
    "def ensamble_SVC():\n",
    "    temp = pd.DataFrame()\n",
    "    temp['Arbol'] = prediccion_arbol['Target']\n",
    "    temp['Red'] = prediccion_red['Target']\n",
    "    temp['Stage'] = test_label\n",
    "    entrenamiento = temp.iloc[:int(len(temp)/2),:]\n",
    "    validacion = temp.iloc[int(len(temp)/2) + 1:,:]\n",
    "    entrenamiento_label = entrenamiento.pop('Stage')\n",
    "    \n",
    "    model = SVC(probability = True)\n",
    "    model.fit(entrenamiento,entrenamiento_label)\n",
    "    preds = model.predict_proba(validacion.drop(columns=[\"Stage\"]))\n",
    "    preds = pd.Series([p[1] for p in preds])\n",
    "    print(\"Logloss SVC: \", skl.metrics.log_loss(validacion['Stage'],preds))\n",
    "    logs.append((\"SVC\",skl.metrics.log_loss(validacion['Stage'],preds)))\n",
    "    \n",
    "    model.fit(temp[['Arbol','Red']], temp['Stage'])\n",
    "    temp = pd.DataFrame()\n",
    "    temp['Arbol'] = prediccion_arbol_test['Target']\n",
    "    temp['Red'] = prediccion_red_test['Target']\n",
    "    preds = model.predict_proba(temp)\n",
    "    preds = pd.Series([p[1] for p in preds]) \n",
    "    return preds\n",
    "\n",
    "    \n"
   ]
  },
  {
   "cell_type": "code",
   "execution_count": 21,
   "metadata": {},
   "outputs": [
    {
     "data": {
      "text/plain": [
       "False    2618\n",
       "Name: Target, dtype: int64"
      ]
     },
     "execution_count": 21,
     "metadata": {},
     "output_type": "execute_result"
    }
   ],
   "source": [
    "(prediccion_red['Target'] >= np.inf).value_counts()"
   ]
  },
  {
   "cell_type": "code",
   "execution_count": 22,
   "metadata": {},
   "outputs": [
    {
     "name": "stdout",
     "output_type": "stream",
     "text": [
      "Log Árboles:  0.5992482452464243\n",
      "Logloss Red:  0.5447908049732779\n",
      "Logloss Max:  0.4746114652617388\n",
      "Logloss Min:  0.6694275849579634\n",
      "Logloss  CL:  0.3888198537207205 (min_a : 8, min_b: 43)\n",
      "Logloss KNN:  0.2991513288230852\n",
      "Log   Bayes:  0.4053280841107024\n",
      "Logloss SVC:  0.27038498754846546\n"
     ]
    }
   ],
   "source": [
    "#CALCULO Y SELECCION DE PREDS\n",
    "print(\"Log Árboles: \",skl.metrics.log_loss(test_label,prediccion_arbol['Target']))\n",
    "print(\"Logloss Red: \", skl.metrics.log_loss(test_label,prediccion_red['Target']))\n",
    "preds_max = ensamble_max()\n",
    "preds_min = ensamble_min()\n",
    "preds_cl  = ensamble_cl()\n",
    "preds_knn = ensamble_knn()\n",
    "preds_catboost = ensamble_catboost()\n",
    "preds_bayes = ensamble_naive_bayes()\n",
    "preds_svc = ensamble_SVC()"
   ]
  },
  {
   "cell_type": "code",
   "execution_count": null,
   "metadata": {},
   "outputs": [],
   "source": [
    "#GUARDADO DE ARCHIVOS\n",
    "preds = preds_catboost\n",
    "resultados = pd.DataFrame()\n",
    "resultados['Opportunity_ID'] = prediccion_arbol_test['Opportunity_ID']\n",
    "resultados['Target'] = pd.Series(preds)  \n",
    "resultados.to_csv(\"Archivos/prediccion.csv\", index=False)"
   ]
  },
  {
   "cell_type": "code",
   "execution_count": null,
   "metadata": {},
   "outputs": [],
   "source": [
    "import matplotlib.style as style\n",
    "plt.bar([l[0] for l in logs],[l[1] for l in logs])\n",
    "plt.title(\"Log-Loss de cada algoritmo de Ensamble\")\n",
    "plt.ylabel(\"Log-Loss\")\n",
    "style.use(\"seaborn\")\n",
    "plt.show()"
   ]
  },
  {
   "cell_type": "code",
   "execution_count": null,
   "metadata": {},
   "outputs": [],
   "source": [
    "fallar"
   ]
  },
  {
   "cell_type": "code",
   "execution_count": null,
   "metadata": {},
   "outputs": [],
   "source": [
    "#REFINAMIENTO DE CATBOOST\n",
    "#En caso de igualar/superar a KNN\n",
    "\n",
    "from catboost import CatBoostClassifier\n",
    "from skopt import BayesSearchCV\n",
    "from skopt.space import Real\n",
    "from sklearn.model_selection import StratifiedKFold\n",
    "\n",
    "temp = pd.DataFrame()\n",
    "temp['Arbol'] = prediccion_arbol['Target']\n",
    "temp['Red'] = prediccion_red['Target']\n",
    "temp['Stage'] = test_label\n",
    "entrenamiento = temp.iloc[:4000,:]\n",
    "entrenamiento_label = entrenamiento.pop('Stage')\n",
    "validacion = temp.iloc[4001:,:]\n",
    "    \n",
    "# Classifier\n",
    "bayes_cv_tuner = BayesSearchCV(\n",
    "estimator = CatBoostClassifier(\n",
    "silent=True,task_type=\"CPU\", bootstrap_type='MVS'\n",
    "),\n",
    "search_spaces = {\n",
    "        \"iterations\" : (2, 10),\n",
    "        'learning_rate': Real(low=0.01, high=1, prior='log-uniform'),\n",
    "        \"random_seed\" : (1,40000),\n",
    "        \"l2_leaf_reg\" : Real(low=1e-9, high=1000, prior='log-uniform'),\n",
    "        'subsample': Real(low=0.01, high=1, prior='uniform'),\n",
    "        \"random_strength\" : Real(low=1e-9, high=1000, prior='log-uniform'),\n",
    "        'depth': (1, 10),\n",
    "        #\"rsm\" : Real(low=0.01, high=1, prior='uniform'),\n",
    "        \"early_stopping_rounds\" : (1, 5),\n",
    "        \"border_count\" : (1,65535),\n",
    "        \"bagging_temperature\" : Real(low=1e-9,high=1000,prior='log-uniform'),\n",
    "        \"scale_pos_weight\" : Real(low = 0.01,high = 1.0,prior=\"uniform\")\n",
    "},\n",
    "cv = skl.model_selection.TimeSeriesSplit(),\n",
    "n_jobs = 1,\n",
    "n_iter = 6,\n",
    "verbose = 1,\n",
    "refit = True,\n",
    "random_state = 72\n",
    ")\n",
    "\n",
    "def status_print(optim_result):\n",
    "    \"\"\"Status callback durring bayesian hyperparameter search\"\"\"\n",
    "    # Get all the models tested so far in DataFrame format\n",
    "    all_models = pd.DataFrame(bayes_cv_tuner.cv_results_)    \n",
    "\n",
    "    # Get current parameters and the best parameters    \n",
    "    best_params = pd.Series(bayes_cv_tuner.best_params_)\n",
    "    print('Model #{}\\nBest ROC-AUC: {}\\nBest params: {}\\n'.format(\n",
    "        len(all_models),\n",
    "        np.round(bayes_cv_tuner.best_score_, 4),\n",
    "        bayes_cv_tuner.best_params_\n",
    "    ))\n",
    "    \n",
    "resultCAT = bayes_cv_tuner.fit(entrenamiento, entrenamiento_label, callback=status_print)"
   ]
  },
  {
   "cell_type": "code",
   "execution_count": 26,
   "metadata": {},
   "outputs": [
    {
     "data": {
      "image/png": "[encoded data removed]",
      "text/plain": [
       "<Figure size 576x396 with 1 Axes>"
      ]
     },
     "metadata": {},
     "output_type": "display_data"
    }
   ],
   "source": []
  },
  {
   "cell_type": "code",
   "execution_count": null,
   "metadata": {},
   "outputs": [],
   "source": []
  }
 ],
 "metadata": {
  "kernelspec": {
   "display_name": "Python 3",
   "language": "python",
   "name": "python3"
  },
  "language_info": {
   "codemirror_mode": {
    "name": "ipython",
    "version": 3
   },
   "file_extension": ".py",
   "mimetype": "text/x-python",
   "name": "python",
   "nbconvert_exporter": "python",
   "pygments_lexer": "ipython3",
   "version": "3.9.1"
  }
 },
 "nbformat": 4,
 "nbformat_minor": 4
}
