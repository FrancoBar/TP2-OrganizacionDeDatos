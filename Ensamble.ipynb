{
 "cells": [
  {
   "cell_type": "code",
   "execution_count": 1,
   "metadata": {},
   "outputs": [],
   "source": [
    "import sys\n",
    "import xgboost as xgb\n",
    "import pandas as pd\n",
    "import matplotlib.pyplot as plt\n",
    "import numpy as np\n",
    "import sklearn as skl\n",
    "from sklearn.model_selection import train_test_split\n",
    "from sklearn.metrics import confusion_matrix\n",
    "from sklearn.metrics import accuracy_score\n",
    "from sklearn.metrics import classification_report\n",
    "from sklearn.neighbors import KNeighborsClassifier\n",
    "from datetime import datetime\n",
    "from itertools import combinations"
   ]
  },
  {
   "cell_type": "code",
   "execution_count": 2,
   "metadata": {},
   "outputs": [],
   "source": [
    "#APERTURA ARCHIVOS\n",
    "test = pd.read_pickle(\"Archivos/Arboles_validacion.pkl\")\n",
    "prediccion_arbol = pd.read_csv(\"Archivos/prediccion_arbol_validacion.csv\")\n",
    "prediccion_red   = pd.read_csv(\"Archivos/prediccion_neurona_validacion.csv\")"
   ]
  },
  {
   "cell_type": "code",
   "execution_count": 3,
   "metadata": {},
   "outputs": [],
   "source": [
    "test = test.sort_values('Opportunity_ID')\n",
    "prediccion_arbol = prediccion_arbol.sort_values('Opportunity_ID')\n",
    "prediccion_red   = prediccion_red.sort_values('Opportunity_ID')\n",
    "test_label = test['Stage']"
   ]
  },
  {
   "cell_type": "code",
   "execution_count": 4,
   "metadata": {},
   "outputs": [
    {
     "data": {
      "text/plain": [
       "Opportunity_ID    4515\n",
       "Target            4515\n",
       "dtype: int64"
      ]
     },
     "execution_count": 4,
     "metadata": {},
     "output_type": "execute_result"
    }
   ],
   "source": [
    "prediccion_red.count()"
   ]
  },
  {
   "cell_type": "code",
   "execution_count": 5,
   "metadata": {},
   "outputs": [
    {
     "data": {
      "text/plain": [
       "Opportunity_ID    4515\n",
       "Target            4515\n",
       "dtype: int64"
      ]
     },
     "execution_count": 5,
     "metadata": {},
     "output_type": "execute_result"
    }
   ],
   "source": [
    "prediccion_arbol.count()"
   ]
  },
  {
   "cell_type": "code",
   "execution_count": 6,
   "metadata": {},
   "outputs": [
    {
     "data": {
      "text/plain": [
       "0.9143752132190162"
      ]
     },
     "execution_count": 6,
     "metadata": {},
     "output_type": "execute_result"
    }
   ],
   "source": [
    "#MAX\n",
    "prediccion = prediccion_arbol['Target'].combine(prediccion_red['Target'], max, 0)\n",
    "skl.metrics.log_loss(test_label,prediccion)"
   ]
  },
  {
   "cell_type": "code",
   "execution_count": 7,
   "metadata": {},
   "outputs": [
    {
     "data": {
      "text/plain": [
       "1.255039262129048"
      ]
     },
     "execution_count": 7,
     "metadata": {},
     "output_type": "execute_result"
    }
   ],
   "source": [
    "#MIN\n",
    "prediccion = prediccion_arbol['Target'].combine(prediccion_red['Target'], min, 0)\n",
    "skl.metrics.log_loss(test_label,prediccion)"
   ]
  },
  {
   "cell_type": "code",
   "execution_count": 8,
   "metadata": {},
   "outputs": [],
   "source": [
    "#COMBINACION LINEAL\n",
    "min_a = -1\n",
    "min_b = -1\n",
    "min_logloss = 1000\n",
    "\n",
    "for a in range(0,100):\n",
    "    for b in range(0,100):\n",
    "        if(a == 0 & b == 0): continue\n",
    "        prediccion = (a*prediccion_arbol['Target'] + b*prediccion_red['Target'])/(a+b)\n",
    "        logloss = skl.metrics.log_loss(test_label,prediccion)\n",
    "        if(logloss < min_logloss):\n",
    "            min_logloss = logloss\n",
    "            min_a = a\n",
    "            min_b = b"
   ]
  },
  {
   "cell_type": "code",
   "execution_count": 9,
   "metadata": {},
   "outputs": [
    {
     "name": "stdout",
     "output_type": "stream",
     "text": [
      "min_logloss:  0.7119746790443063\n",
      "min_a:  39\n",
      "min_b:  10\n"
     ]
    }
   ],
   "source": [
    "print(\"min_logloss: \", min_logloss)\n",
    "print(\"min_a: \", min_a)\n",
    "print(\"min_b: \", min_b)"
   ]
  },
  {
   "cell_type": "code",
   "execution_count": 10,
   "metadata": {},
   "outputs": [
    {
     "name": "stdout",
     "output_type": "stream",
     "text": [
      "logloss:  0.16438261146424551\n"
     ]
    }
   ],
   "source": [
    "#KNN\n",
    "temp = pd.DataFrame()\n",
    "temp['Arbol'] = prediccion_arbol['Target']\n",
    "temp['Red'] = prediccion_red['Target']\n",
    "temp['Stage'] = test_label\n",
    "entrenamiento = temp.iloc[:4000,:]\n",
    "validacion = temp.iloc[4001:,:]\n",
    "entrenamiento_label = entrenamiento.pop('Stage')\n",
    "classifier = KNeighborsClassifier(n_neighbors=300)\n",
    "classifier.fit(entrenamiento, entrenamiento_label)\n",
    "preds = classifier.predict_proba(validacion[['Arbol','Red']])\n",
    "print(\"logloss: \", skl.metrics.log_loss(validacion['Stage'],preds))"
   ]
  },
  {
   "cell_type": "code",
   "execution_count": 11,
   "metadata": {},
   "outputs": [
    {
     "ename": "NameError",
     "evalue": "name 'alto' is not defined",
     "output_type": "error",
     "traceback": [
      "\u001b[1;31m---------------------------------------------------------------------------\u001b[0m",
      "\u001b[1;31mNameError\u001b[0m                                 Traceback (most recent call last)",
      "\u001b[1;32m<ipython-input-11-125a4a042e79>\u001b[0m in \u001b[0;36m<module>\u001b[1;34m\u001b[0m\n\u001b[1;32m----> 1\u001b[1;33m \u001b[0malto\u001b[0m\u001b[1;33m\u001b[0m\u001b[1;33m\u001b[0m\u001b[0m\n\u001b[0m",
      "\u001b[1;31mNameError\u001b[0m: name 'alto' is not defined"
     ]
    }
   ],
   "source": [
    "alto"
   ]
  },
  {
   "cell_type": "code",
   "execution_count": 14,
   "metadata": {},
   "outputs": [
    {
     "data": {
      "text/plain": [
       "0       0.457069\n",
       "1       0.457458\n",
       "2       0.455983\n",
       "3       0.458949\n",
       "4       0.467020\n",
       "          ...   \n",
       "1562    0.453635\n",
       "1563    0.454685\n",
       "1564    0.454685\n",
       "1565    0.433457\n",
       "1566    0.438353\n",
       "Name: Target, Length: 1567, dtype: float64"
      ]
     },
     "execution_count": 14,
     "metadata": {},
     "output_type": "execute_result"
    }
   ],
   "source": [
    "#FINAL COMBINACION LINEAL\n",
    "prediccion_arbol = pd.read_csv(\"Archivos/prediccion_arbol_test.csv\")\n",
    "prediccion_red   = pd.read_csv(\"Archivos/prediccion_neurona_test.csv\")\n",
    "preds = (min_a*prediccion_arbol['Target'] + min_b*(1-prediccion_red['Target']))/(min_a+min_b)\n",
    "preds"
   ]
  },
  {
   "cell_type": "code",
   "execution_count": 15,
   "metadata": {},
   "outputs": [],
   "source": [
    "#FINAL KNN\n",
    "classifier.fit(temp[['Arbol','Red']], temp['Stage'])\n",
    "prediccion_arbol = pd.read_csv(\"Archivos/prediccion_arbol_test.csv\")\n",
    "prediccion_red   = pd.read_csv(\"Archivos/prediccion_neurona_test.csv\")\n",
    "fin = pd.DataFrame()\n",
    "fin['Arbol'] = prediccion_arbol['Target']\n",
    "fin['Red'] = prediccion_red['Target']\n",
    "preds = classifier.predict_proba(fin)\n",
    "preds = pd.Series([p[1] for p in preds])"
   ]
  },
  {
   "cell_type": "code",
   "execution_count": 16,
   "metadata": {},
   "outputs": [
    {
     "data": {
      "text/plain": [
       "0       0.950000\n",
       "1       0.946667\n",
       "2       0.940000\n",
       "3       0.946667\n",
       "4       0.996667\n",
       "          ...   \n",
       "1562    0.946667\n",
       "1563    0.926667\n",
       "1564    0.926667\n",
       "1565    0.030000\n",
       "1566    0.030000\n",
       "Length: 1567, dtype: float64"
      ]
     },
     "execution_count": 16,
     "metadata": {},
     "output_type": "execute_result"
    }
   ],
   "source": [
    "preds"
   ]
  },
  {
   "cell_type": "code",
   "execution_count": null,
   "metadata": {},
   "outputs": [],
   "source": [
    "alto"
   ]
  },
  {
   "cell_type": "code",
   "execution_count": null,
   "metadata": {},
   "outputs": [],
   "source": [
    "#GUARDADO DE ARCHIVOS\n",
    "resultados = pd.DataFrame()\n",
    "resultados['Opportunity_ID'] = prediccion_arbol['Opportunity_ID']\n",
    "resultados['Target'] = pd.Series(preds)  \n",
    "resultados.to_csv(\"Archivos/prediccion.csv\", index=False)"
   ]
  },
  {
   "cell_type": "code",
   "execution_count": null,
   "metadata": {},
   "outputs": [],
   "source": []
  }
 ],
 "metadata": {
  "kernelspec": {
   "display_name": "Python 3",
   "language": "python",
   "name": "python3"
  },
  "language_info": {
   "codemirror_mode": {
    "name": "ipython",
    "version": 3
   },
   "file_extension": ".py",
   "mimetype": "text/x-python",
   "name": "python",
   "nbconvert_exporter": "python",
   "pygments_lexer": "ipython3",
   "version": "3.7.6"
  }
 },
 "nbformat": 4,
 "nbformat_minor": 4
}
