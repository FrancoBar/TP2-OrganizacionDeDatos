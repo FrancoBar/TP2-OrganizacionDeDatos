{
 "cells": [
  {
   "cell_type": "code",
   "execution_count": 1,
   "metadata": {},
   "outputs": [],
   "source": [
    "import sys\n",
    "import xgboost as xgb\n",
    "import pandas as pd\n",
    "import matplotlib.pyplot as plt\n",
    "import numpy as np\n",
    "import sklearn as skl\n",
    "import catboost as cb\n",
    "from sklearn.model_selection import train_test_split\n",
    "from sklearn.metrics import confusion_matrix\n",
    "from sklearn.metrics import accuracy_score\n",
    "from sklearn.metrics import classification_report\n",
    "from sklearn.neighbors import KNeighborsClassifier\n",
    "from sklearn.naive_bayes import GaussianNB\n",
    "from sklearn.svm import SVC\n",
    "from datetime import datetime\n",
    "from itertools import combinations\n",
    "from skopt import BayesSearchCV\n",
    "from skopt.space import Real\n",
    "from sklearn.model_selection import StratifiedKFold"
   ]
  },
  {
   "cell_type": "code",
   "execution_count": 2,
   "metadata": {},
   "outputs": [],
   "source": [
    "logs = []\n",
    "PARAMETROS = {\n",
    "    'task_type' : 'GPU',\n",
    "    'has_time' : True,\n",
    "    'silent' : True,\n",
    "    'iterations' : 10\n",
    "}"
   ]
  },
  {
   "cell_type": "code",
   "execution_count": 3,
   "metadata": {},
   "outputs": [],
   "source": [
    "#APERTURA ARCHIVOS\n",
    "test = pd.read_pickle(\"Archivos/Arboles_validacion.pkl\")\n",
    "\n",
    "prediccion_arbol = pd.read_csv(\"Archivos/prediccion_arbol_validacion.csv\")\n",
    "prediccion_red   = pd.read_csv(\"Archivos/prediccion_neurona_validacion.csv\")\n",
    "prediccion_bayes = pd.read_csv(\"Archivos/prediccion_naive_bayes_val.csv\")\n",
    "prediccion_arbol_test = pd.read_csv(\"Archivos/prediccion_arbol_test.csv\")\n",
    "prediccion_red_test   = pd.read_csv(\"Archivos/prediccion_neurona_test.csv\")\n",
    "prediccion_bayes_test = pd.read_csv(\"Archivos/prediccion_naive_bayes.csv\")"
   ]
  },
  {
   "cell_type": "code",
   "execution_count": 4,
   "metadata": {},
   "outputs": [],
   "source": [
    "#AGRUPACION POR OPPORTUNITY_ID\n",
    "prediccion_arbol = prediccion_arbol.groupby('Opportunity_ID').mean()\n",
    "prediccion_arbol = prediccion_arbol.reset_index()\n",
    "prediccion_red = prediccion_red.groupby('Opportunity_ID').mean()\n",
    "prediccion_red = prediccion_red.reset_index()\n",
    "prediccion_bayes = prediccion_bayes.groupby('Opportunity_ID').mean()\n",
    "prediccion_bayes = prediccion_bayes.reset_index()\n",
    "\n",
    "test = test.sort_values('Opportunity_ID')\n",
    "test = test.groupby('Opportunity_ID').mean()\n",
    "test = test.reset_index()\n",
    "test_label = test['Stage']"
   ]
  },
  {
   "cell_type": "code",
   "execution_count": 5,
   "metadata": {},
   "outputs": [],
   "source": [
    "#ORDENO ARCHIVOS PARA QUE COINCIDA OPPORTUNITY_ID\n",
    "test = test.sort_values('Opportunity_ID')\n",
    "prediccion_arbol = prediccion_arbol.sort_values('Opportunity_ID')\n",
    "prediccion_red   = prediccion_red.sort_values('Opportunity_ID')\n",
    "prediccion_bayes = prediccion_bayes.sort_values('Opportunity_ID')\n",
    "prediccion_arbol_test = prediccion_arbol_test.sort_values('Opportunity_ID')\n",
    "prediccion_red_test   = prediccion_red_test.sort_values('Opportunity_ID')\n",
    "prediccion_bayes_test = prediccion_bayes_test.sort_values('Opportunity_ID')\n",
    "\n",
    "test_label = test['Stage']"
   ]
  },
  {
   "cell_type": "code",
   "execution_count": 6,
   "metadata": {},
   "outputs": [
    {
     "data": {
      "text/plain": [
       "Opportunity_ID    2618\n",
       "Target            2618\n",
       "dtype: int64"
      ]
     },
     "execution_count": 6,
     "metadata": {},
     "output_type": "execute_result"
    }
   ],
   "source": [
    "prediccion_red.count()"
   ]
  },
  {
   "cell_type": "code",
   "execution_count": 7,
   "metadata": {},
   "outputs": [
    {
     "data": {
      "text/plain": [
       "Opportunity_ID    2618\n",
       "Target            2618\n",
       "dtype: int64"
      ]
     },
     "execution_count": 7,
     "metadata": {},
     "output_type": "execute_result"
    }
   ],
   "source": [
    "prediccion_arbol.count()"
   ]
  },
  {
   "cell_type": "code",
   "execution_count": 8,
   "metadata": {},
   "outputs": [
    {
     "data": {
      "text/plain": [
       "Opportunity_ID    2618\n",
       "Target            2618\n",
       "dtype: int64"
      ]
     },
     "execution_count": 8,
     "metadata": {},
     "output_type": "execute_result"
    }
   ],
   "source": [
    "prediccion_bayes.count()"
   ]
  },
  {
   "cell_type": "code",
   "execution_count": 9,
   "metadata": {},
   "outputs": [
    {
     "data": {
      "text/html": [
       "<div>\n",
       "<style scoped>\n",
       "    .dataframe tbody tr th:only-of-type {\n",
       "        vertical-align: middle;\n",
       "    }\n",
       "\n",
       "    .dataframe tbody tr th {\n",
       "        vertical-align: top;\n",
       "    }\n",
       "\n",
       "    .dataframe thead th {\n",
       "        text-align: right;\n",
       "    }\n",
       "</style>\n",
       "<table border=\"1\" class=\"dataframe\">\n",
       "  <thead>\n",
       "    <tr style=\"text-align: right;\">\n",
       "      <th></th>\n",
       "      <th>Opportunity_ID</th>\n",
       "      <th>Target</th>\n",
       "    </tr>\n",
       "  </thead>\n",
       "  <tbody>\n",
       "    <tr>\n",
       "      <th>0</th>\n",
       "      <td>7042</td>\n",
       "      <td>0.817983</td>\n",
       "    </tr>\n",
       "    <tr>\n",
       "      <th>1</th>\n",
       "      <td>7043</td>\n",
       "      <td>0.729509</td>\n",
       "    </tr>\n",
       "    <tr>\n",
       "      <th>2</th>\n",
       "      <td>7044</td>\n",
       "      <td>0.177205</td>\n",
       "    </tr>\n",
       "    <tr>\n",
       "      <th>3</th>\n",
       "      <td>7045</td>\n",
       "      <td>0.797719</td>\n",
       "    </tr>\n",
       "    <tr>\n",
       "      <th>4</th>\n",
       "      <td>7046</td>\n",
       "      <td>0.454581</td>\n",
       "    </tr>\n",
       "  </tbody>\n",
       "</table>\n",
       "</div>"
      ],
      "text/plain": [
       "   Opportunity_ID    Target\n",
       "0            7042  0.817983\n",
       "1            7043  0.729509\n",
       "2            7044  0.177205\n",
       "3            7045  0.797719\n",
       "4            7046  0.454581"
      ]
     },
     "execution_count": 9,
     "metadata": {},
     "output_type": "execute_result"
    }
   ],
   "source": [
    "prediccion_red.head(5)"
   ]
  },
  {
   "cell_type": "code",
   "execution_count": 10,
   "metadata": {},
   "outputs": [
    {
     "data": {
      "text/html": [
       "<div>\n",
       "<style scoped>\n",
       "    .dataframe tbody tr th:only-of-type {\n",
       "        vertical-align: middle;\n",
       "    }\n",
       "\n",
       "    .dataframe tbody tr th {\n",
       "        vertical-align: top;\n",
       "    }\n",
       "\n",
       "    .dataframe thead th {\n",
       "        text-align: right;\n",
       "    }\n",
       "</style>\n",
       "<table border=\"1\" class=\"dataframe\">\n",
       "  <thead>\n",
       "    <tr style=\"text-align: right;\">\n",
       "      <th></th>\n",
       "      <th>Opportunity_ID</th>\n",
       "      <th>Target</th>\n",
       "    </tr>\n",
       "  </thead>\n",
       "  <tbody>\n",
       "    <tr>\n",
       "      <th>0</th>\n",
       "      <td>7042</td>\n",
       "      <td>0.644573</td>\n",
       "    </tr>\n",
       "    <tr>\n",
       "      <th>1</th>\n",
       "      <td>7043</td>\n",
       "      <td>0.629712</td>\n",
       "    </tr>\n",
       "    <tr>\n",
       "      <th>2</th>\n",
       "      <td>7044</td>\n",
       "      <td>0.058727</td>\n",
       "    </tr>\n",
       "    <tr>\n",
       "      <th>3</th>\n",
       "      <td>7045</td>\n",
       "      <td>0.855208</td>\n",
       "    </tr>\n",
       "    <tr>\n",
       "      <th>4</th>\n",
       "      <td>7046</td>\n",
       "      <td>0.612680</td>\n",
       "    </tr>\n",
       "  </tbody>\n",
       "</table>\n",
       "</div>"
      ],
      "text/plain": [
       "   Opportunity_ID    Target\n",
       "0            7042  0.644573\n",
       "1            7043  0.629712\n",
       "2            7044  0.058727\n",
       "3            7045  0.855208\n",
       "4            7046  0.612680"
      ]
     },
     "execution_count": 10,
     "metadata": {},
     "output_type": "execute_result"
    }
   ],
   "source": [
    "prediccion_arbol.head(5)"
   ]
  },
  {
   "cell_type": "code",
   "execution_count": 11,
   "metadata": {},
   "outputs": [
    {
     "data": {
      "text/html": [
       "<div>\n",
       "<style scoped>\n",
       "    .dataframe tbody tr th:only-of-type {\n",
       "        vertical-align: middle;\n",
       "    }\n",
       "\n",
       "    .dataframe tbody tr th {\n",
       "        vertical-align: top;\n",
       "    }\n",
       "\n",
       "    .dataframe thead th {\n",
       "        text-align: right;\n",
       "    }\n",
       "</style>\n",
       "<table border=\"1\" class=\"dataframe\">\n",
       "  <thead>\n",
       "    <tr style=\"text-align: right;\">\n",
       "      <th></th>\n",
       "      <th>Opportunity_ID</th>\n",
       "      <th>Target</th>\n",
       "    </tr>\n",
       "  </thead>\n",
       "  <tbody>\n",
       "    <tr>\n",
       "      <th>0</th>\n",
       "      <td>7042</td>\n",
       "      <td>0.661839</td>\n",
       "    </tr>\n",
       "    <tr>\n",
       "      <th>1</th>\n",
       "      <td>7043</td>\n",
       "      <td>0.661838</td>\n",
       "    </tr>\n",
       "    <tr>\n",
       "      <th>2</th>\n",
       "      <td>7044</td>\n",
       "      <td>0.661838</td>\n",
       "    </tr>\n",
       "    <tr>\n",
       "      <th>3</th>\n",
       "      <td>7045</td>\n",
       "      <td>0.661838</td>\n",
       "    </tr>\n",
       "    <tr>\n",
       "      <th>4</th>\n",
       "      <td>7046</td>\n",
       "      <td>0.661838</td>\n",
       "    </tr>\n",
       "  </tbody>\n",
       "</table>\n",
       "</div>"
      ],
      "text/plain": [
       "   Opportunity_ID    Target\n",
       "0            7042  0.661839\n",
       "1            7043  0.661838\n",
       "2            7044  0.661838\n",
       "3            7045  0.661838\n",
       "4            7046  0.661838"
      ]
     },
     "execution_count": 11,
     "metadata": {},
     "output_type": "execute_result"
    }
   ],
   "source": [
    "prediccion_bayes.head(5)"
   ]
  },
  {
   "cell_type": "code",
   "execution_count": 12,
   "metadata": {},
   "outputs": [],
   "source": [
    "#CREACION DE VARIABLES COMUNES A LOS MODELOS\n",
    "macro_entrenamiento = pd.DataFrame()\n",
    "macro_entrenamiento['Arbol'] = prediccion_arbol['Target']\n",
    "macro_entrenamiento['Bayes'] = prediccion_bayes['Target']\n",
    "macro_entrenamiento['Red'] = prediccion_red['Target']\n",
    "macro_entrenamiento['Stage'] = test_label\n",
    "entrenamiento = macro_entrenamiento.iloc[:int(len(macro_entrenamiento)/2),:]\n",
    "validacion = macro_entrenamiento.iloc[int(len(macro_entrenamiento)/2) + 1:,:]\n",
    "entrenamiento_label = entrenamiento.pop('Stage')\n",
    "\n",
    "macro_test = pd.DataFrame()\n",
    "macro_test['Arbol'] = prediccion_arbol_test['Target']\n",
    "macro_test['Bayes'] = prediccion_bayes_test['Target']\n",
    "macro_test['Red'] = prediccion_red_test['Target']"
   ]
  },
  {
   "cell_type": "code",
   "execution_count": 13,
   "metadata": {},
   "outputs": [],
   "source": [
    "#Datos para el gráfico\n",
    "logs.append((\"Árboles\", skl.metrics.log_loss(test_label,prediccion_arbol['Target'])))\n",
    "logs.append((\"Red neuronal\", skl.metrics.log_loss(test_label,prediccion_red['Target'])))\n",
    "logs.append((\"Bayes\", skl.metrics.log_loss(test_label,prediccion_bayes['Target'])))"
   ]
  },
  {
   "cell_type": "code",
   "execution_count": 14,
   "metadata": {},
   "outputs": [],
   "source": [
    "#MODELOS PARTICULARES\n",
    "\n",
    "#Max\n",
    "def ensamble_max():\n",
    "    preds = macro_entrenamiento.drop(columns=['Stage']).max(axis=1)\n",
    "    print('Logloss Max: ', skl.metrics.log_loss(test_label,preds))\n",
    "    logs.append((\"Max\",skl.metrics.log_loss(test_label,preds)))\n",
    "    preds = macro_test.max(axis=1)\n",
    "    return preds\n",
    "\n",
    "#Min\n",
    "def ensamble_min():\n",
    "    preds = macro_entrenamiento.drop(columns=['Stage']).min(axis=1)\n",
    "    print('Logloss Min: ', skl.metrics.log_loss(test_label,preds))\n",
    "    logs.append((\"Min\",skl.metrics.log_loss(test_label,preds)))\n",
    "    preds = macro_test.min(axis=1)\n",
    "    return preds\n",
    "\n",
    "#Combinacion lineal\n",
    "def ensamble_cl():\n",
    "    min_a = -1\n",
    "    min_b = -1\n",
    "    min_c = -1\n",
    "    min_logloss = 1000\n",
    "\n",
    "    for a in range(0,10):\n",
    "        for b in range(0,10):\n",
    "            for c in range(0,10):\n",
    "                if(a == 0 & b == 0 & c == 0): continue\n",
    "                preds = (a*prediccion_arbol['Target'] + b*prediccion_red['Target'] + c*prediccion_bayes['Target'])/(a+b+c)\n",
    "                logloss = skl.metrics.log_loss(test_label,preds)\n",
    "                if(logloss < min_logloss):\n",
    "                    min_logloss = logloss\n",
    "                    min_a = a\n",
    "                    min_b = b\n",
    "                    min_c = c\n",
    "    print(\"Logloss  CL:  %.16f (min_a : %i, min_b: %i, min_c : %i)\"% (min_logloss, min_a, min_b, min_c))\n",
    "    logs.append((\"Combinacion Lineal\",min_logloss))\n",
    "    preds = (min_a*prediccion_arbol_test['Target'] + min_b*prediccion_red_test['Target']\n",
    "             + min_c*prediccion_bayes_test['Target'])/(min_a+min_b+min_c)\n",
    "    return preds"
   ]
  },
  {
   "cell_type": "code",
   "execution_count": 15,
   "metadata": {},
   "outputs": [],
   "source": [
    "#MODELOS GENERALES\n",
    "\n",
    "def generar_preds_ensamble(clasificador, msg, nombre):\n",
    "    clasificador.fit(entrenamiento, entrenamiento_label)\n",
    "    preds = clasificador.predict_proba(validacion.drop(columns=['Stage']))\n",
    "    print(msg, skl.metrics.log_loss(validacion['Stage'],preds))\n",
    "    logs.append((nombre, skl.metrics.log_loss(validacion['Stage'],preds)))\n",
    "\n",
    "    clasificador.fit(macro_entrenamiento.drop(columns=['Stage']), macro_entrenamiento['Stage'])\n",
    "    preds = clasificador.predict_proba(macro_test)\n",
    "    preds = pd.Series([p[1] for p in preds])\n",
    "    return preds\n",
    "\n",
    "#KNN\n",
    "def ensamble_knn(): return generar_preds_ensamble(KNeighborsClassifier(n_neighbors=300), \"Logloss KNN: \",\"KNN\")\n",
    "\n",
    "#Catboost\n",
    "def ensamble_catboost(): return generar_preds_ensamble(cb.CatBoostClassifier(**PARAMETROS), \"Logloss Cat: \",\"Catboost\")\n",
    "\n",
    "#Naive Bayes\n",
    "def ensamble_naive_bayes(): return generar_preds_ensamble(GaussianNB(var_smoothing =0.5), \"Log   Bayes: \",\"Bayes\")\n",
    "\n",
    "#Support Vector Classification\n",
    "def ensamble_svc(): return generar_preds_ensamble(SVC(probability = True), \"Logloss SVC: \",\"SVC\")\n",
    "\n",
    "#Regresion Logística\n",
    "def ensamble_rl(): return generar_preds_ensamble(skl.linear_model.LogisticRegression(), \"Logloss  RL: \",\"Regresión Logística\")"
   ]
  },
  {
   "cell_type": "code",
   "execution_count": 16,
   "metadata": {},
   "outputs": [
    {
     "name": "stdout",
     "output_type": "stream",
     "text": [
      "Logloss Árboles:  0.4212679100075896\n",
      "Logloss Redes:    0.5213569467486834\n",
      "Logloss Bayes:    0.6912080878061103\n",
      "\n",
      "Logloss Max:  0.6099612685101373\n",
      "Logloss Min:  0.5272506681769829\n",
      "Logloss  CL:  0.4212679100075896 (min_a : 1, min_b: 0, min_c : 0)\n",
      "Logloss  RL:  0.3972305935461217\n",
      "Logloss KNN:  0.4045222063190072\n",
      "Logloss Cat:  0.39815475745133766\n",
      "Log   Bayes:  0.41706875789157716\n",
      "Logloss SVC:  0.4253391342113072\n"
     ]
    }
   ],
   "source": [
    "#CALCULO Y SELECCION DE PREDS\n",
    "print(\"Logloss Árboles: \",skl.metrics.log_loss(test_label,prediccion_arbol['Target']))\n",
    "print(\"Logloss Redes:   \", skl.metrics.log_loss(test_label,prediccion_red['Target']))\n",
    "print(\"Logloss Bayes:   \", skl.metrics.log_loss(test_label,prediccion_bayes['Target']))\n",
    "print(\"\")\n",
    "\n",
    "preds_max = ensamble_max()\n",
    "preds_min = ensamble_min()\n",
    "preds_cl  = ensamble_cl()\n",
    "preds_rl = ensamble_rl()\n",
    "preds_knn = ensamble_knn()\n",
    "preds_catboost = ensamble_catboost()\n",
    "preds_bayes = ensamble_naive_bayes()\n",
    "preds_svc = ensamble_svc()"
   ]
  },
  {
   "cell_type": "code",
   "execution_count": 17,
   "metadata": {},
   "outputs": [],
   "source": [
    "#GUARDADO DE ARCHIVOS\n",
    "preds = preds_catboost\n",
    "resultados = pd.DataFrame()\n",
    "resultados['Opportunity_ID'] = prediccion_arbol_test['Opportunity_ID']\n",
    "resultados['Target'] = pd.Series(preds)  \n",
    "resultados.to_csv(\"Archivos/prediccion.csv\", index=False)"
   ]
  },
  {
   "cell_type": "code",
   "execution_count": 20,
   "metadata": {},
   "outputs": [
    {
     "data": {
      "image/png": "[encoded data removed]",
      "text/plain": [
       "<Figure size 576x396 with 1 Axes>"
      ]
     },
     "metadata": {},
     "output_type": "display_data"
    }
   ],
   "source": [
    "from matplotlib import style\n",
    "plt.bar([i[0] for i in logs],[i[1] for i in logs])\n",
    "plt.title(\"Log Loss Ensambles\")\n",
    "plt.ylabel(\"Log Loss\")\n",
    "plt.xticks(rotation=45)\n",
    "style.use(\"seaborn\")\n",
    "plt.show()"
   ]
  },
  {
   "cell_type": "code",
   "execution_count": 19,
   "metadata": {},
   "outputs": [
    {
     "ename": "NameError",
     "evalue": "name 'fallar' is not defined",
     "output_type": "error",
     "traceback": [
      "\u001b[1;31m---------------------------------------------------------------------------\u001b[0m",
      "\u001b[1;31mNameError\u001b[0m                                 Traceback (most recent call last)",
      "\u001b[1;32m<ipython-input-19-c761f0cce551>\u001b[0m in \u001b[0;36m<module>\u001b[1;34m\u001b[0m\n\u001b[1;32m----> 1\u001b[1;33m \u001b[0mfallar\u001b[0m\u001b[1;33m\u001b[0m\u001b[1;33m\u001b[0m\u001b[0m\n\u001b[0m",
      "\u001b[1;31mNameError\u001b[0m: name 'fallar' is not defined"
     ]
    }
   ],
   "source": [
    "fallar"
   ]
  },
  {
   "cell_type": "code",
   "execution_count": null,
   "metadata": {},
   "outputs": [],
   "source": [
    "#REFINAMIENTO DE CATBOOST\n",
    "\n",
    "# Classifier\n",
    "bayes_cv_tuner = BayesSearchCV(\n",
    "estimator = cb.CatBoostClassifier(\n",
    "silent=True,task_type=\"GPU\"\n",
    "),\n",
    "search_spaces = {\n",
    "        \"iterations\" : (2, 100),\n",
    "        'learning_rate': Real(low=0.01, high=1, prior='log-uniform'),\n",
    "        \"random_seed\" : (1,40000),\n",
    "        \"l2_leaf_reg\" : Real(low=1e-9, high=1000, prior='log-uniform'),\n",
    "        #'subsample': Real(low=0.01, high=1, prior='uniform'),\n",
    "        \"random_strength\" : Real(low=1e-9, high=1000, prior='log-uniform'),\n",
    "        'depth': (1, 10),\n",
    "        \"early_stopping_rounds\" : (1, 5),\n",
    "        \"border_count\" : (1,65535),\n",
    "        \"bagging_temperature\" : Real(low=1e-9,high=1000,prior='log-uniform'),\n",
    "        \"scale_pos_weight\" : Real(low = 0.01,high = 1.0,prior=\"uniform\")\n",
    "},\n",
    "cv = skl.model_selection.TimeSeriesSplit(),\n",
    "n_jobs = 1,\n",
    "n_iter = 6,\n",
    "verbose = 1,\n",
    "refit = True,\n",
    "random_state = 72\n",
    ")\n",
    "\n",
    "def status_print(optim_result):\n",
    "    \"\"\"Status callback durring bayesian hyperparameter search\"\"\"\n",
    "    # Get all the models tested so far in DataFrame format\n",
    "    all_models = pd.DataFrame(bayes_cv_tuner.cv_results_)    \n",
    "\n",
    "    # Get current parameters and the best parameters    \n",
    "    best_params = pd.Series(bayes_cv_tuner.best_params_)\n",
    "    print('Model #{}\\nBest ROC-AUC: {}\\nBest params: {}\\n'.format(\n",
    "        len(all_models),\n",
    "        np.round(bayes_cv_tuner.best_score_, 4),\n",
    "        bayes_cv_tuner.best_params_\n",
    "    ))\n",
    "    \n",
    "resultCAT = bayes_cv_tuner.fit(entrenamiento, entrenamiento_label, callback=status_print)"
   ]
  },
  {
   "cell_type": "code",
   "execution_count": null,
   "metadata": {},
   "outputs": [],
   "source": []
  }
 ],
 "metadata": {
  "kernelspec": {
   "display_name": "Python 3",
   "language": "python",
   "name": "python3"
  },
  "language_info": {
   "codemirror_mode": {
    "name": "ipython",
    "version": 3
   },
   "file_extension": ".py",
   "mimetype": "text/x-python",
   "name": "python",
   "nbconvert_exporter": "python",
   "pygments_lexer": "ipython3",
   "version": "3.8.5"
  }
 },
 "nbformat": 4,
 "nbformat_minor": 4
}
