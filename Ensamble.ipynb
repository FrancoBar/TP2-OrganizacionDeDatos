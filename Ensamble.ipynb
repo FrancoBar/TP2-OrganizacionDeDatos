{
 "cells": [
  {
   "cell_type": "code",
   "execution_count": 1,
   "metadata": {},
   "outputs": [],
   "source": [
    "import sys\n",
    "import xgboost as xgb\n",
    "import pandas as pd\n",
    "import matplotlib.pyplot as plt\n",
    "import numpy as np\n",
    "import sklearn as skl\n",
    "import catboost as cb\n",
    "from sklearn.model_selection import train_test_split\n",
    "from sklearn.metrics import confusion_matrix\n",
    "from sklearn.metrics import accuracy_score\n",
    "from sklearn.metrics import classification_report\n",
    "from sklearn.neighbors import KNeighborsClassifier\n",
    "from datetime import datetime\n",
    "from itertools import combinations"
   ]
  },
  {
   "cell_type": "code",
   "execution_count": 2,
   "metadata": {},
   "outputs": [],
   "source": [
    "PARAMETROS = {\n",
    "    'task_type' : 'CPU',\n",
    "    'has_time' : True,\n",
    "    'silent' : True,\n",
    "    'depth': 4,\n",
    "    'early_stopping_rounds': 2,\n",
    "    'iterations' : 100\n",
    "}"
   ]
  },
  {
   "cell_type": "code",
   "execution_count": 3,
   "metadata": {},
   "outputs": [],
   "source": [
    "#APERTURA ARCHIVOS\n",
    "test = pd.read_pickle(\"Archivos/Arboles_validacion.pkl\")\n",
    "prediccion_arbol = pd.read_csv(\"Archivos/prediccion_naive_bayes_val.csv\")\n",
    "prediccion_red   = pd.read_csv(\"Archivos/prediccion_neurona_validacion.csv\")\n",
    "prediccion_arbol_test = pd.read_csv(\"Archivos/prediccion_naive_bayes.csv\")\n",
    "prediccion_red_test   = pd.read_csv(\"Archivos/prediccion_neurona_test.csv\")"
   ]
  },
  {
   "cell_type": "code",
   "execution_count": 4,
   "metadata": {},
   "outputs": [],
   "source": [
    "#ORDENO ARCHIVOS PARA QUE COINCIDA OPPORTUNITY_ID\n",
    "test = test.sort_values('Opportunity_ID')\n",
    "prediccion_arbol = prediccion_arbol.sort_values('Opportunity_ID')\n",
    "prediccion_red   = prediccion_red.sort_values('Opportunity_ID')\n",
    "test_label = test['Stage']"
   ]
  },
  {
   "cell_type": "code",
   "execution_count": 5,
   "metadata": {},
   "outputs": [
    {
     "data": {
      "text/plain": [
       "Opportunity_ID    4515\n",
       "Target            4515\n",
       "dtype: int64"
      ]
     },
     "execution_count": 5,
     "metadata": {},
     "output_type": "execute_result"
    }
   ],
   "source": [
    "prediccion_red.count()"
   ]
  },
  {
   "cell_type": "code",
   "execution_count": 6,
   "metadata": {},
   "outputs": [
    {
     "data": {
      "text/plain": [
       "Opportunity_ID    4515\n",
       "Target            4515\n",
       "dtype: int64"
      ]
     },
     "execution_count": 6,
     "metadata": {},
     "output_type": "execute_result"
    }
   ],
   "source": [
    "prediccion_arbol.count()"
   ]
  },
  {
   "cell_type": "code",
   "execution_count": 7,
   "metadata": {},
   "outputs": [],
   "source": [
    "#MAX\n",
    "def ensamble_max():\n",
    "    preds = prediccion_arbol['Target'].combine(prediccion_red['Target'], max, 0)\n",
    "    print('Logloss Max: ', skl.metrics.log_loss(test_label,preds))\n",
    "    preds = prediccion_arbol_test['Target'].combine(prediccion_red_test['Target'], max, 0)\n",
    "    return preds"
   ]
  },
  {
   "cell_type": "code",
   "execution_count": 8,
   "metadata": {},
   "outputs": [],
   "source": [
    "#MIN\n",
    "def ensamble_min():\n",
    "    preds = prediccion_arbol['Target'].combine(prediccion_red['Target'], min, 0)\n",
    "    print('Logloss Min: ', skl.metrics.log_loss(test_label,preds))\n",
    "    preds = prediccion_arbol_test['Target'].combine(prediccion_red_test['Target'], min, 0)\n",
    "    return preds"
   ]
  },
  {
   "cell_type": "code",
   "execution_count": 9,
   "metadata": {},
   "outputs": [],
   "source": [
    "#COMBINACION LINEAL\n",
    "def ensamble_cl():\n",
    "    min_a = -1\n",
    "    min_b = -1\n",
    "    min_logloss = 1000\n",
    "\n",
    "    for a in range(0,100):\n",
    "        for b in range(0,100):\n",
    "            if(a == 0 & b == 0): continue\n",
    "            preds = (a*prediccion_arbol['Target'] + b*prediccion_red['Target'])/(a+b)\n",
    "            logloss = skl.metrics.log_loss(test_label,preds)\n",
    "            if(logloss < min_logloss):\n",
    "                min_logloss = logloss\n",
    "                min_a = a\n",
    "                min_b = b\n",
    "    print(\"Logloss CL: \", min_logloss)\n",
    "    print(\"min_a: \", min_a)\n",
    "    print(\"min_b: \", min_b)\n",
    "    preds = (min_a*prediccion_arbol_test['Target'] + min_b*prediccion_red_test['Target'])/(min_a+min_b)\n",
    "    return preds"
   ]
  },
  {
   "cell_type": "code",
   "execution_count": 10,
   "metadata": {},
   "outputs": [],
   "source": [
    "#KNN\n",
    "def ensamble_knn():\n",
    "    temp = pd.DataFrame()\n",
    "    temp['Arbol'] = prediccion_arbol['Target']\n",
    "    temp['Red'] = prediccion_red['Target']\n",
    "    temp['Stage'] = test_label\n",
    "    entrenamiento = temp.iloc[:4000,:]\n",
    "    validacion = temp.iloc[4001:,:]\n",
    "    entrenamiento_label = entrenamiento.pop('Stage')\n",
    "    classifier = KNeighborsClassifier(n_neighbors=300)\n",
    "    classifier.fit(entrenamiento, entrenamiento_label)\n",
    "    preds = classifier.predict_proba(validacion[['Arbol','Red']])\n",
    "    print(\"Logloss KNN: \", skl.metrics.log_loss(validacion['Stage'],preds))\n",
    "\n",
    "    classifier.fit(temp[['Arbol','Red']], temp['Stage'])\n",
    "    temp = pd.DataFrame()\n",
    "    temp['Arbol'] = prediccion_arbol_test['Target']\n",
    "    temp['Red'] = prediccion_red_test['Target']\n",
    "    preds = classifier.predict_proba(temp)\n",
    "    preds = pd.Series([p[1] for p in preds])\n",
    "    return preds"
   ]
  },
  {
   "cell_type": "code",
   "execution_count": 11,
   "metadata": {},
   "outputs": [],
   "source": [
    "#Catboost\n",
    "def ensamble_catboost():\n",
    "    temp = pd.DataFrame()\n",
    "    temp['Arbol'] = prediccion_arbol['Target']\n",
    "    temp['Red'] = prediccion_red['Target']\n",
    "    temp['Stage'] = test_label\n",
    "    entrenamiento = temp.iloc[:4000,:]\n",
    "    validacion = temp.iloc[4001:,:]\n",
    "    entrenamiento_label = entrenamiento.pop('Stage')\n",
    "    entrenamiento_pool = cb.Pool(entrenamiento, entrenamiento_label)\n",
    "    test_pool = cb.Pool(validacion)\n",
    "    \n",
    "    model = cb.CatBoostClassifier(**PARAMETROS)\n",
    "    model.fit(entrenamiento_pool)\n",
    "    preds = model.predict_proba(test_pool)\n",
    "    preds = pd.Series([p[1] for p in preds])\n",
    "    print(\"Logloss Cat: \", skl.metrics.log_loss(validacion['Stage'],preds))\n",
    "\n",
    "    model.fit(temp[['Arbol','Red']], temp['Stage'])\n",
    "    temp = pd.DataFrame()\n",
    "    temp['Arbol'] = prediccion_arbol_test['Target']\n",
    "    temp['Red'] = prediccion_red_test['Target']\n",
    "    test_pool = cb.Pool(temp)\n",
    "    preds = model.predict_proba(test_pool)\n",
    "    preds = pd.Series([p[1] for p in preds]) \n",
    "    return preds\n"
   ]
  },
  {
   "cell_type": "code",
   "execution_count": 12,
   "metadata": {},
   "outputs": [
    {
     "data": {
      "text/plain": [
       "False    4515\n",
       "Name: Target, dtype: int64"
      ]
     },
     "execution_count": 12,
     "metadata": {},
     "output_type": "execute_result"
    }
   ],
   "source": [
    "(prediccion_red['Target'] >= np.inf).value_counts()"
   ]
  },
  {
   "cell_type": "code",
   "execution_count": 13,
   "metadata": {},
   "outputs": [
    {
     "name": "stdout",
     "output_type": "stream",
     "text": [
      "Logloss Max:  0.36552889445835457\n",
      "Logloss Min:  0.39454965947733617\n",
      "Logloss CL:  0.19166015977318812\n",
      "min_a:  2\n",
      "min_b:  53\n",
      "Logloss KNN:  0.1512373439261934\n",
      "Logloss Cat:  0.1354540964015891\n"
     ]
    }
   ],
   "source": [
    "#CALCULO Y SELECCION DE PREDS\n",
    "preds_max = ensamble_max()\n",
    "preds_min = ensamble_min()\n",
    "preds_cl  = ensamble_cl()\n",
    "preds_knn = ensamble_knn()\n",
    "preds_catboost =ensamble_catboost()"
   ]
  },
  {
   "cell_type": "code",
   "execution_count": 14,
   "metadata": {},
   "outputs": [
    {
     "name": "stdout",
     "output_type": "stream",
     "text": [
      "0       10689\n",
      "1       10690\n",
      "2       10691\n",
      "3       10692\n",
      "4       10693\n",
      "        ...  \n",
      "1562    12364\n",
      "1563    12365\n",
      "1564    12366\n",
      "1565    12367\n",
      "1566    12368\n",
      "Name: Opportunity_ID, Length: 1567, dtype: int64\n"
     ]
    }
   ],
   "source": [
    "print(prediccion_arbol_test['Opportunity_ID'])"
   ]
  },
  {
   "cell_type": "code",
   "execution_count": 16,
   "metadata": {},
   "outputs": [],
   "source": [
    "#GUARDADO DE ARCHIVOS\n",
    "preds = preds_catboost\n",
    "resultados = pd.DataFrame()\n",
    "resultados['Opportunity_ID'] = prediccion_arbol_test['Opportunity_ID']\n",
    "resultados['Target'] = pd.Series(preds)  \n",
    "resultados.to_csv(\"Archivos/prediccion_ensamble_red_naive_bayes.csv\", index=False)"
   ]
  },
  {
   "cell_type": "code",
   "execution_count": null,
   "metadata": {},
   "outputs": [],
   "source": []
  }
 ],
 "metadata": {
  "kernelspec": {
   "display_name": "Python 3",
   "language": "python",
   "name": "python3"
  },
  "language_info": {
   "codemirror_mode": {
    "name": "ipython",
    "version": 3
   },
   "file_extension": ".py",
   "mimetype": "text/x-python",
   "name": "python",
   "nbconvert_exporter": "python",
   "pygments_lexer": "ipython3",
   "version": "3.8.3"
  }
 },
 "nbformat": 4,
 "nbformat_minor": 4
}
